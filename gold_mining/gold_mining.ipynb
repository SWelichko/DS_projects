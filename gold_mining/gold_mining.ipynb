{
 "cells": [
  {
   "cell_type": "markdown",
   "metadata": {},
   "source": [
    "# Восстановление золота из руды"
   ]
  },
  {
   "cell_type": "markdown",
   "metadata": {},
   "source": [
    "Модель предсказывает коэффициент восстановления золота из золотосодержащей руды.\n",
    "Используются данные с параметрами добычи и очистки. \n",
    "\n",
    "Модель оптимизирует производство, анализируя предприятия с убыточными характеристиками."
   ]
  },
  {
   "cell_type": "markdown",
   "metadata": {},
   "source": [
    "## Подготовка данных"
   ]
  },
  {
   "cell_type": "markdown",
   "metadata": {},
   "source": [
    "#### Импорт библиотек "
   ]
  },
  {
   "cell_type": "code",
   "execution_count": 1560,
   "metadata": {},
   "outputs": [],
   "source": [
    "import pandas as pd\n",
    "import matplotlib.pyplot as plt\n",
    "import numpy as np\n",
    "\n",
    "from sklearn.metrics import make_scorer\n",
    "from sklearn.model_selection import cross_val_score\n",
    "\n",
    "from sklearn.tree import DecisionTreeRegressor\n",
    "from sklearn.ensemble import RandomForestRegressor\n",
    "from sklearn.linear_model import LinearRegression\n",
    "\n",
    "from sklearn.metrics import mean_absolute_error"
   ]
  },
  {
   "cell_type": "markdown",
   "metadata": {},
   "source": [
    "По умолчанию установим 1 знак после запятой для отобржения данных"
   ]
  },
  {
   "cell_type": "code",
   "execution_count": 1561,
   "metadata": {},
   "outputs": [],
   "source": [
    "pd.options.display.float_format = '{:,.1f}'.format"
   ]
  },
  {
   "cell_type": "markdown",
   "metadata": {},
   "source": [
    "### Откроем файлы и проанализируем"
   ]
  },
  {
   "cell_type": "markdown",
   "metadata": {},
   "source": [
    "Данные находятся в трёх файлах:\n",
    "\n",
    "- gold_recovery_train_new.csv — обучающая выборка;\n",
    "- gold_recovery_test_new.csv — тестовая выборка;\n",
    "- gold_recovery_full_new.csv — исходные данные.\n",
    "\n",
    "Данные индексируются датой и временем получения информации (признак date). Соседние по времени параметры часто похожи.\n",
    "Некоторые параметры недоступны, потому что замеряются и/или рассчитываются значительно позже. Из-за этого в тестовой выборке отсутствуют некоторые признаки, которые могут быть в обучающей. Также в тестовом наборе нет целевых признаков.\n",
    "Исходный датасет содержит обучающую и тестовую выборки со всеми признаками."
   ]
  },
  {
   "cell_type": "code",
   "execution_count": 1562,
   "metadata": {},
   "outputs": [],
   "source": [
    "df_train = pd.read_csv('/datasets/gold_recovery_train_new.csv')\n",
    "df_test = pd.read_csv('/datasets/gold_recovery_test_new.csv')\n",
    "df_full = pd.read_csv('/datasets/gold_recovery_full_new.csv')"
   ]
  },
  {
   "cell_type": "code",
   "execution_count": 1563,
   "metadata": {
    "scrolled": false
   },
   "outputs": [
    {
     "data": {
      "text/html": [
       "<div>\n",
       "<style scoped>\n",
       "    .dataframe tbody tr th:only-of-type {\n",
       "        vertical-align: middle;\n",
       "    }\n",
       "\n",
       "    .dataframe tbody tr th {\n",
       "        vertical-align: top;\n",
       "    }\n",
       "\n",
       "    .dataframe thead th {\n",
       "        text-align: right;\n",
       "    }\n",
       "</style>\n",
       "<table border=\"1\" class=\"dataframe\">\n",
       "  <thead>\n",
       "    <tr style=\"text-align: right;\">\n",
       "      <th></th>\n",
       "      <th>date</th>\n",
       "      <th>final.output.concentrate_ag</th>\n",
       "      <th>final.output.concentrate_pb</th>\n",
       "      <th>final.output.concentrate_sol</th>\n",
       "      <th>final.output.concentrate_au</th>\n",
       "      <th>final.output.recovery</th>\n",
       "      <th>final.output.tail_ag</th>\n",
       "      <th>final.output.tail_pb</th>\n",
       "      <th>final.output.tail_sol</th>\n",
       "      <th>final.output.tail_au</th>\n",
       "      <th>...</th>\n",
       "      <th>secondary_cleaner.state.floatbank4_a_air</th>\n",
       "      <th>secondary_cleaner.state.floatbank4_a_level</th>\n",
       "      <th>secondary_cleaner.state.floatbank4_b_air</th>\n",
       "      <th>secondary_cleaner.state.floatbank4_b_level</th>\n",
       "      <th>secondary_cleaner.state.floatbank5_a_air</th>\n",
       "      <th>secondary_cleaner.state.floatbank5_a_level</th>\n",
       "      <th>secondary_cleaner.state.floatbank5_b_air</th>\n",
       "      <th>secondary_cleaner.state.floatbank5_b_level</th>\n",
       "      <th>secondary_cleaner.state.floatbank6_a_air</th>\n",
       "      <th>secondary_cleaner.state.floatbank6_a_level</th>\n",
       "    </tr>\n",
       "  </thead>\n",
       "  <tbody>\n",
       "    <tr>\n",
       "      <th>0</th>\n",
       "      <td>2016-01-15 00:00:00</td>\n",
       "      <td>6.1</td>\n",
       "      <td>9.9</td>\n",
       "      <td>5.5</td>\n",
       "      <td>42.2</td>\n",
       "      <td>70.5</td>\n",
       "      <td>10.4</td>\n",
       "      <td>0.9</td>\n",
       "      <td>16.9</td>\n",
       "      <td>2.1</td>\n",
       "      <td>...</td>\n",
       "      <td>14.0</td>\n",
       "      <td>-502.5</td>\n",
       "      <td>12.1</td>\n",
       "      <td>-504.7</td>\n",
       "      <td>9.9</td>\n",
       "      <td>-498.3</td>\n",
       "      <td>8.1</td>\n",
       "      <td>-500.5</td>\n",
       "      <td>14.2</td>\n",
       "      <td>-605.8</td>\n",
       "    </tr>\n",
       "    <tr>\n",
       "      <th>1</th>\n",
       "      <td>2016-01-15 01:00:00</td>\n",
       "      <td>6.0</td>\n",
       "      <td>10.0</td>\n",
       "      <td>5.3</td>\n",
       "      <td>42.7</td>\n",
       "      <td>69.3</td>\n",
       "      <td>10.5</td>\n",
       "      <td>0.9</td>\n",
       "      <td>16.6</td>\n",
       "      <td>2.2</td>\n",
       "      <td>...</td>\n",
       "      <td>14.0</td>\n",
       "      <td>-505.5</td>\n",
       "      <td>12.0</td>\n",
       "      <td>-501.3</td>\n",
       "      <td>10.0</td>\n",
       "      <td>-500.2</td>\n",
       "      <td>8.0</td>\n",
       "      <td>-500.6</td>\n",
       "      <td>14.0</td>\n",
       "      <td>-599.8</td>\n",
       "    </tr>\n",
       "    <tr>\n",
       "      <th>2</th>\n",
       "      <td>2016-01-15 02:00:00</td>\n",
       "      <td>6.1</td>\n",
       "      <td>10.2</td>\n",
       "      <td>5.4</td>\n",
       "      <td>42.7</td>\n",
       "      <td>68.1</td>\n",
       "      <td>10.5</td>\n",
       "      <td>1.0</td>\n",
       "      <td>16.2</td>\n",
       "      <td>2.3</td>\n",
       "      <td>...</td>\n",
       "      <td>14.0</td>\n",
       "      <td>-502.5</td>\n",
       "      <td>11.9</td>\n",
       "      <td>-501.1</td>\n",
       "      <td>10.1</td>\n",
       "      <td>-500.1</td>\n",
       "      <td>8.0</td>\n",
       "      <td>-500.5</td>\n",
       "      <td>14.0</td>\n",
       "      <td>-601.4</td>\n",
       "    </tr>\n",
       "    <tr>\n",
       "      <th>3</th>\n",
       "      <td>2016-01-15 03:00:00</td>\n",
       "      <td>6.0</td>\n",
       "      <td>10.0</td>\n",
       "      <td>4.9</td>\n",
       "      <td>42.7</td>\n",
       "      <td>68.3</td>\n",
       "      <td>10.4</td>\n",
       "      <td>0.9</td>\n",
       "      <td>16.5</td>\n",
       "      <td>2.1</td>\n",
       "      <td>...</td>\n",
       "      <td>14.0</td>\n",
       "      <td>-500.9</td>\n",
       "      <td>12.0</td>\n",
       "      <td>-501.2</td>\n",
       "      <td>10.0</td>\n",
       "      <td>-499.2</td>\n",
       "      <td>8.0</td>\n",
       "      <td>-500.3</td>\n",
       "      <td>14.0</td>\n",
       "      <td>-600.0</td>\n",
       "    </tr>\n",
       "    <tr>\n",
       "      <th>4</th>\n",
       "      <td>2016-01-15 04:00:00</td>\n",
       "      <td>6.1</td>\n",
       "      <td>10.1</td>\n",
       "      <td>4.9</td>\n",
       "      <td>42.8</td>\n",
       "      <td>66.9</td>\n",
       "      <td>10.4</td>\n",
       "      <td>0.8</td>\n",
       "      <td>16.5</td>\n",
       "      <td>2.1</td>\n",
       "      <td>...</td>\n",
       "      <td>14.0</td>\n",
       "      <td>-499.8</td>\n",
       "      <td>12.0</td>\n",
       "      <td>-501.1</td>\n",
       "      <td>9.9</td>\n",
       "      <td>-501.7</td>\n",
       "      <td>7.9</td>\n",
       "      <td>-500.4</td>\n",
       "      <td>14.0</td>\n",
       "      <td>-601.5</td>\n",
       "    </tr>\n",
       "  </tbody>\n",
       "</table>\n",
       "<p>5 rows × 87 columns</p>\n",
       "</div>"
      ],
      "text/plain": [
       "                  date  final.output.concentrate_ag  \\\n",
       "0  2016-01-15 00:00:00                          6.1   \n",
       "1  2016-01-15 01:00:00                          6.0   \n",
       "2  2016-01-15 02:00:00                          6.1   \n",
       "3  2016-01-15 03:00:00                          6.0   \n",
       "4  2016-01-15 04:00:00                          6.1   \n",
       "\n",
       "   final.output.concentrate_pb  final.output.concentrate_sol  \\\n",
       "0                          9.9                           5.5   \n",
       "1                         10.0                           5.3   \n",
       "2                         10.2                           5.4   \n",
       "3                         10.0                           4.9   \n",
       "4                         10.1                           4.9   \n",
       "\n",
       "   final.output.concentrate_au  final.output.recovery  final.output.tail_ag  \\\n",
       "0                         42.2                   70.5                  10.4   \n",
       "1                         42.7                   69.3                  10.5   \n",
       "2                         42.7                   68.1                  10.5   \n",
       "3                         42.7                   68.3                  10.4   \n",
       "4                         42.8                   66.9                  10.4   \n",
       "\n",
       "   final.output.tail_pb  final.output.tail_sol  final.output.tail_au  ...  \\\n",
       "0                   0.9                   16.9                   2.1  ...   \n",
       "1                   0.9                   16.6                   2.2  ...   \n",
       "2                   1.0                   16.2                   2.3  ...   \n",
       "3                   0.9                   16.5                   2.1  ...   \n",
       "4                   0.8                   16.5                   2.1  ...   \n",
       "\n",
       "   secondary_cleaner.state.floatbank4_a_air  \\\n",
       "0                                      14.0   \n",
       "1                                      14.0   \n",
       "2                                      14.0   \n",
       "3                                      14.0   \n",
       "4                                      14.0   \n",
       "\n",
       "   secondary_cleaner.state.floatbank4_a_level  \\\n",
       "0                                      -502.5   \n",
       "1                                      -505.5   \n",
       "2                                      -502.5   \n",
       "3                                      -500.9   \n",
       "4                                      -499.8   \n",
       "\n",
       "   secondary_cleaner.state.floatbank4_b_air  \\\n",
       "0                                      12.1   \n",
       "1                                      12.0   \n",
       "2                                      11.9   \n",
       "3                                      12.0   \n",
       "4                                      12.0   \n",
       "\n",
       "   secondary_cleaner.state.floatbank4_b_level  \\\n",
       "0                                      -504.7   \n",
       "1                                      -501.3   \n",
       "2                                      -501.1   \n",
       "3                                      -501.2   \n",
       "4                                      -501.1   \n",
       "\n",
       "   secondary_cleaner.state.floatbank5_a_air  \\\n",
       "0                                       9.9   \n",
       "1                                      10.0   \n",
       "2                                      10.1   \n",
       "3                                      10.0   \n",
       "4                                       9.9   \n",
       "\n",
       "   secondary_cleaner.state.floatbank5_a_level  \\\n",
       "0                                      -498.3   \n",
       "1                                      -500.2   \n",
       "2                                      -500.1   \n",
       "3                                      -499.2   \n",
       "4                                      -501.7   \n",
       "\n",
       "   secondary_cleaner.state.floatbank5_b_air  \\\n",
       "0                                       8.1   \n",
       "1                                       8.0   \n",
       "2                                       8.0   \n",
       "3                                       8.0   \n",
       "4                                       7.9   \n",
       "\n",
       "   secondary_cleaner.state.floatbank5_b_level  \\\n",
       "0                                      -500.5   \n",
       "1                                      -500.6   \n",
       "2                                      -500.5   \n",
       "3                                      -500.3   \n",
       "4                                      -500.4   \n",
       "\n",
       "   secondary_cleaner.state.floatbank6_a_air  \\\n",
       "0                                      14.2   \n",
       "1                                      14.0   \n",
       "2                                      14.0   \n",
       "3                                      14.0   \n",
       "4                                      14.0   \n",
       "\n",
       "   secondary_cleaner.state.floatbank6_a_level  \n",
       "0                                      -605.8  \n",
       "1                                      -599.8  \n",
       "2                                      -601.4  \n",
       "3                                      -600.0  \n",
       "4                                      -601.5  \n",
       "\n",
       "[5 rows x 87 columns]"
      ]
     },
     "execution_count": 1563,
     "metadata": {},
     "output_type": "execute_result"
    }
   ],
   "source": [
    "df_full.head()"
   ]
  },
  {
   "cell_type": "code",
   "execution_count": 1564,
   "metadata": {
    "scrolled": false
   },
   "outputs": [
    {
     "data": {
      "text/html": [
       "<div>\n",
       "<style scoped>\n",
       "    .dataframe tbody tr th:only-of-type {\n",
       "        vertical-align: middle;\n",
       "    }\n",
       "\n",
       "    .dataframe tbody tr th {\n",
       "        vertical-align: top;\n",
       "    }\n",
       "\n",
       "    .dataframe thead th {\n",
       "        text-align: right;\n",
       "    }\n",
       "</style>\n",
       "<table border=\"1\" class=\"dataframe\">\n",
       "  <thead>\n",
       "    <tr style=\"text-align: right;\">\n",
       "      <th></th>\n",
       "      <th>date</th>\n",
       "      <th>final.output.concentrate_ag</th>\n",
       "      <th>final.output.concentrate_pb</th>\n",
       "      <th>final.output.concentrate_sol</th>\n",
       "      <th>final.output.concentrate_au</th>\n",
       "      <th>final.output.recovery</th>\n",
       "      <th>final.output.tail_ag</th>\n",
       "      <th>final.output.tail_pb</th>\n",
       "      <th>final.output.tail_sol</th>\n",
       "      <th>final.output.tail_au</th>\n",
       "      <th>...</th>\n",
       "      <th>secondary_cleaner.state.floatbank4_a_air</th>\n",
       "      <th>secondary_cleaner.state.floatbank4_a_level</th>\n",
       "      <th>secondary_cleaner.state.floatbank4_b_air</th>\n",
       "      <th>secondary_cleaner.state.floatbank4_b_level</th>\n",
       "      <th>secondary_cleaner.state.floatbank5_a_air</th>\n",
       "      <th>secondary_cleaner.state.floatbank5_a_level</th>\n",
       "      <th>secondary_cleaner.state.floatbank5_b_air</th>\n",
       "      <th>secondary_cleaner.state.floatbank5_b_level</th>\n",
       "      <th>secondary_cleaner.state.floatbank6_a_air</th>\n",
       "      <th>secondary_cleaner.state.floatbank6_a_level</th>\n",
       "    </tr>\n",
       "  </thead>\n",
       "  <tbody>\n",
       "    <tr>\n",
       "      <th>0</th>\n",
       "      <td>2016-01-15 00:00:00</td>\n",
       "      <td>6.1</td>\n",
       "      <td>9.9</td>\n",
       "      <td>5.5</td>\n",
       "      <td>42.2</td>\n",
       "      <td>70.5</td>\n",
       "      <td>10.4</td>\n",
       "      <td>0.9</td>\n",
       "      <td>16.9</td>\n",
       "      <td>2.1</td>\n",
       "      <td>...</td>\n",
       "      <td>14.0</td>\n",
       "      <td>-502.5</td>\n",
       "      <td>12.1</td>\n",
       "      <td>-504.7</td>\n",
       "      <td>9.9</td>\n",
       "      <td>-498.3</td>\n",
       "      <td>8.1</td>\n",
       "      <td>-500.5</td>\n",
       "      <td>14.2</td>\n",
       "      <td>-605.8</td>\n",
       "    </tr>\n",
       "    <tr>\n",
       "      <th>1</th>\n",
       "      <td>2016-01-15 01:00:00</td>\n",
       "      <td>6.0</td>\n",
       "      <td>10.0</td>\n",
       "      <td>5.3</td>\n",
       "      <td>42.7</td>\n",
       "      <td>69.3</td>\n",
       "      <td>10.5</td>\n",
       "      <td>0.9</td>\n",
       "      <td>16.6</td>\n",
       "      <td>2.2</td>\n",
       "      <td>...</td>\n",
       "      <td>14.0</td>\n",
       "      <td>-505.5</td>\n",
       "      <td>12.0</td>\n",
       "      <td>-501.3</td>\n",
       "      <td>10.0</td>\n",
       "      <td>-500.2</td>\n",
       "      <td>8.0</td>\n",
       "      <td>-500.6</td>\n",
       "      <td>14.0</td>\n",
       "      <td>-599.8</td>\n",
       "    </tr>\n",
       "    <tr>\n",
       "      <th>2</th>\n",
       "      <td>2016-01-15 02:00:00</td>\n",
       "      <td>6.1</td>\n",
       "      <td>10.2</td>\n",
       "      <td>5.4</td>\n",
       "      <td>42.7</td>\n",
       "      <td>68.1</td>\n",
       "      <td>10.5</td>\n",
       "      <td>1.0</td>\n",
       "      <td>16.2</td>\n",
       "      <td>2.3</td>\n",
       "      <td>...</td>\n",
       "      <td>14.0</td>\n",
       "      <td>-502.5</td>\n",
       "      <td>11.9</td>\n",
       "      <td>-501.1</td>\n",
       "      <td>10.1</td>\n",
       "      <td>-500.1</td>\n",
       "      <td>8.0</td>\n",
       "      <td>-500.5</td>\n",
       "      <td>14.0</td>\n",
       "      <td>-601.4</td>\n",
       "    </tr>\n",
       "    <tr>\n",
       "      <th>3</th>\n",
       "      <td>2016-01-15 03:00:00</td>\n",
       "      <td>6.0</td>\n",
       "      <td>10.0</td>\n",
       "      <td>4.9</td>\n",
       "      <td>42.7</td>\n",
       "      <td>68.3</td>\n",
       "      <td>10.4</td>\n",
       "      <td>0.9</td>\n",
       "      <td>16.5</td>\n",
       "      <td>2.1</td>\n",
       "      <td>...</td>\n",
       "      <td>14.0</td>\n",
       "      <td>-500.9</td>\n",
       "      <td>12.0</td>\n",
       "      <td>-501.2</td>\n",
       "      <td>10.0</td>\n",
       "      <td>-499.2</td>\n",
       "      <td>8.0</td>\n",
       "      <td>-500.3</td>\n",
       "      <td>14.0</td>\n",
       "      <td>-600.0</td>\n",
       "    </tr>\n",
       "    <tr>\n",
       "      <th>4</th>\n",
       "      <td>2016-01-15 04:00:00</td>\n",
       "      <td>6.1</td>\n",
       "      <td>10.1</td>\n",
       "      <td>4.9</td>\n",
       "      <td>42.8</td>\n",
       "      <td>66.9</td>\n",
       "      <td>10.4</td>\n",
       "      <td>0.8</td>\n",
       "      <td>16.5</td>\n",
       "      <td>2.1</td>\n",
       "      <td>...</td>\n",
       "      <td>14.0</td>\n",
       "      <td>-499.8</td>\n",
       "      <td>12.0</td>\n",
       "      <td>-501.1</td>\n",
       "      <td>9.9</td>\n",
       "      <td>-501.7</td>\n",
       "      <td>7.9</td>\n",
       "      <td>-500.4</td>\n",
       "      <td>14.0</td>\n",
       "      <td>-601.5</td>\n",
       "    </tr>\n",
       "  </tbody>\n",
       "</table>\n",
       "<p>5 rows × 87 columns</p>\n",
       "</div>"
      ],
      "text/plain": [
       "                  date  final.output.concentrate_ag  \\\n",
       "0  2016-01-15 00:00:00                          6.1   \n",
       "1  2016-01-15 01:00:00                          6.0   \n",
       "2  2016-01-15 02:00:00                          6.1   \n",
       "3  2016-01-15 03:00:00                          6.0   \n",
       "4  2016-01-15 04:00:00                          6.1   \n",
       "\n",
       "   final.output.concentrate_pb  final.output.concentrate_sol  \\\n",
       "0                          9.9                           5.5   \n",
       "1                         10.0                           5.3   \n",
       "2                         10.2                           5.4   \n",
       "3                         10.0                           4.9   \n",
       "4                         10.1                           4.9   \n",
       "\n",
       "   final.output.concentrate_au  final.output.recovery  final.output.tail_ag  \\\n",
       "0                         42.2                   70.5                  10.4   \n",
       "1                         42.7                   69.3                  10.5   \n",
       "2                         42.7                   68.1                  10.5   \n",
       "3                         42.7                   68.3                  10.4   \n",
       "4                         42.8                   66.9                  10.4   \n",
       "\n",
       "   final.output.tail_pb  final.output.tail_sol  final.output.tail_au  ...  \\\n",
       "0                   0.9                   16.9                   2.1  ...   \n",
       "1                   0.9                   16.6                   2.2  ...   \n",
       "2                   1.0                   16.2                   2.3  ...   \n",
       "3                   0.9                   16.5                   2.1  ...   \n",
       "4                   0.8                   16.5                   2.1  ...   \n",
       "\n",
       "   secondary_cleaner.state.floatbank4_a_air  \\\n",
       "0                                      14.0   \n",
       "1                                      14.0   \n",
       "2                                      14.0   \n",
       "3                                      14.0   \n",
       "4                                      14.0   \n",
       "\n",
       "   secondary_cleaner.state.floatbank4_a_level  \\\n",
       "0                                      -502.5   \n",
       "1                                      -505.5   \n",
       "2                                      -502.5   \n",
       "3                                      -500.9   \n",
       "4                                      -499.8   \n",
       "\n",
       "   secondary_cleaner.state.floatbank4_b_air  \\\n",
       "0                                      12.1   \n",
       "1                                      12.0   \n",
       "2                                      11.9   \n",
       "3                                      12.0   \n",
       "4                                      12.0   \n",
       "\n",
       "   secondary_cleaner.state.floatbank4_b_level  \\\n",
       "0                                      -504.7   \n",
       "1                                      -501.3   \n",
       "2                                      -501.1   \n",
       "3                                      -501.2   \n",
       "4                                      -501.1   \n",
       "\n",
       "   secondary_cleaner.state.floatbank5_a_air  \\\n",
       "0                                       9.9   \n",
       "1                                      10.0   \n",
       "2                                      10.1   \n",
       "3                                      10.0   \n",
       "4                                       9.9   \n",
       "\n",
       "   secondary_cleaner.state.floatbank5_a_level  \\\n",
       "0                                      -498.3   \n",
       "1                                      -500.2   \n",
       "2                                      -500.1   \n",
       "3                                      -499.2   \n",
       "4                                      -501.7   \n",
       "\n",
       "   secondary_cleaner.state.floatbank5_b_air  \\\n",
       "0                                       8.1   \n",
       "1                                       8.0   \n",
       "2                                       8.0   \n",
       "3                                       8.0   \n",
       "4                                       7.9   \n",
       "\n",
       "   secondary_cleaner.state.floatbank5_b_level  \\\n",
       "0                                      -500.5   \n",
       "1                                      -500.6   \n",
       "2                                      -500.5   \n",
       "3                                      -500.3   \n",
       "4                                      -500.4   \n",
       "\n",
       "   secondary_cleaner.state.floatbank6_a_air  \\\n",
       "0                                      14.2   \n",
       "1                                      14.0   \n",
       "2                                      14.0   \n",
       "3                                      14.0   \n",
       "4                                      14.0   \n",
       "\n",
       "   secondary_cleaner.state.floatbank6_a_level  \n",
       "0                                      -605.8  \n",
       "1                                      -599.8  \n",
       "2                                      -601.4  \n",
       "3                                      -600.0  \n",
       "4                                      -601.5  \n",
       "\n",
       "[5 rows x 87 columns]"
      ]
     },
     "execution_count": 1564,
     "metadata": {},
     "output_type": "execute_result"
    }
   ],
   "source": [
    "df_train.head()"
   ]
  },
  {
   "cell_type": "code",
   "execution_count": 1565,
   "metadata": {
    "scrolled": false
   },
   "outputs": [
    {
     "data": {
      "text/html": [
       "<div>\n",
       "<style scoped>\n",
       "    .dataframe tbody tr th:only-of-type {\n",
       "        vertical-align: middle;\n",
       "    }\n",
       "\n",
       "    .dataframe tbody tr th {\n",
       "        vertical-align: top;\n",
       "    }\n",
       "\n",
       "    .dataframe thead th {\n",
       "        text-align: right;\n",
       "    }\n",
       "</style>\n",
       "<table border=\"1\" class=\"dataframe\">\n",
       "  <thead>\n",
       "    <tr style=\"text-align: right;\">\n",
       "      <th></th>\n",
       "      <th>date</th>\n",
       "      <th>primary_cleaner.input.sulfate</th>\n",
       "      <th>primary_cleaner.input.depressant</th>\n",
       "      <th>primary_cleaner.input.feed_size</th>\n",
       "      <th>primary_cleaner.input.xanthate</th>\n",
       "      <th>primary_cleaner.state.floatbank8_a_air</th>\n",
       "      <th>primary_cleaner.state.floatbank8_a_level</th>\n",
       "      <th>primary_cleaner.state.floatbank8_b_air</th>\n",
       "      <th>primary_cleaner.state.floatbank8_b_level</th>\n",
       "      <th>primary_cleaner.state.floatbank8_c_air</th>\n",
       "      <th>...</th>\n",
       "      <th>secondary_cleaner.state.floatbank4_a_air</th>\n",
       "      <th>secondary_cleaner.state.floatbank4_a_level</th>\n",
       "      <th>secondary_cleaner.state.floatbank4_b_air</th>\n",
       "      <th>secondary_cleaner.state.floatbank4_b_level</th>\n",
       "      <th>secondary_cleaner.state.floatbank5_a_air</th>\n",
       "      <th>secondary_cleaner.state.floatbank5_a_level</th>\n",
       "      <th>secondary_cleaner.state.floatbank5_b_air</th>\n",
       "      <th>secondary_cleaner.state.floatbank5_b_level</th>\n",
       "      <th>secondary_cleaner.state.floatbank6_a_air</th>\n",
       "      <th>secondary_cleaner.state.floatbank6_a_level</th>\n",
       "    </tr>\n",
       "  </thead>\n",
       "  <tbody>\n",
       "    <tr>\n",
       "      <th>0</th>\n",
       "      <td>2016-09-01 00:59:59</td>\n",
       "      <td>210.8</td>\n",
       "      <td>15.0</td>\n",
       "      <td>8.1</td>\n",
       "      <td>1.0</td>\n",
       "      <td>1,399.0</td>\n",
       "      <td>-500.2</td>\n",
       "      <td>1,399.1</td>\n",
       "      <td>-499.9</td>\n",
       "      <td>1,400.1</td>\n",
       "      <td>...</td>\n",
       "      <td>12.0</td>\n",
       "      <td>-497.8</td>\n",
       "      <td>8.0</td>\n",
       "      <td>-501.3</td>\n",
       "      <td>7.9</td>\n",
       "      <td>-432.3</td>\n",
       "      <td>4.9</td>\n",
       "      <td>-500.0</td>\n",
       "      <td>26.7</td>\n",
       "      <td>-499.7</td>\n",
       "    </tr>\n",
       "    <tr>\n",
       "      <th>1</th>\n",
       "      <td>2016-09-01 01:59:59</td>\n",
       "      <td>215.4</td>\n",
       "      <td>15.0</td>\n",
       "      <td>8.1</td>\n",
       "      <td>1.0</td>\n",
       "      <td>1,398.8</td>\n",
       "      <td>-500.1</td>\n",
       "      <td>1,398.1</td>\n",
       "      <td>-499.8</td>\n",
       "      <td>1,396.2</td>\n",
       "      <td>...</td>\n",
       "      <td>12.1</td>\n",
       "      <td>-498.7</td>\n",
       "      <td>8.1</td>\n",
       "      <td>-499.6</td>\n",
       "      <td>8.0</td>\n",
       "      <td>-525.8</td>\n",
       "      <td>4.9</td>\n",
       "      <td>-500.2</td>\n",
       "      <td>25.0</td>\n",
       "      <td>-499.8</td>\n",
       "    </tr>\n",
       "    <tr>\n",
       "      <th>2</th>\n",
       "      <td>2016-09-01 02:59:59</td>\n",
       "      <td>215.3</td>\n",
       "      <td>12.9</td>\n",
       "      <td>7.8</td>\n",
       "      <td>1.0</td>\n",
       "      <td>1,398.5</td>\n",
       "      <td>-500.9</td>\n",
       "      <td>1,398.9</td>\n",
       "      <td>-499.8</td>\n",
       "      <td>1,398.1</td>\n",
       "      <td>...</td>\n",
       "      <td>12.0</td>\n",
       "      <td>-498.8</td>\n",
       "      <td>8.1</td>\n",
       "      <td>-500.8</td>\n",
       "      <td>8.1</td>\n",
       "      <td>-500.8</td>\n",
       "      <td>4.9</td>\n",
       "      <td>-499.8</td>\n",
       "      <td>25.0</td>\n",
       "      <td>-500.6</td>\n",
       "    </tr>\n",
       "    <tr>\n",
       "      <th>3</th>\n",
       "      <td>2016-09-01 03:59:59</td>\n",
       "      <td>215.3</td>\n",
       "      <td>12.0</td>\n",
       "      <td>7.6</td>\n",
       "      <td>0.9</td>\n",
       "      <td>1,399.6</td>\n",
       "      <td>-498.9</td>\n",
       "      <td>1,397.4</td>\n",
       "      <td>-499.2</td>\n",
       "      <td>1,400.1</td>\n",
       "      <td>...</td>\n",
       "      <td>12.0</td>\n",
       "      <td>-498.4</td>\n",
       "      <td>8.1</td>\n",
       "      <td>-499.5</td>\n",
       "      <td>7.9</td>\n",
       "      <td>-500.9</td>\n",
       "      <td>4.9</td>\n",
       "      <td>-500.0</td>\n",
       "      <td>24.9</td>\n",
       "      <td>-498.7</td>\n",
       "    </tr>\n",
       "    <tr>\n",
       "      <th>4</th>\n",
       "      <td>2016-09-01 04:59:59</td>\n",
       "      <td>199.1</td>\n",
       "      <td>10.7</td>\n",
       "      <td>7.5</td>\n",
       "      <td>0.8</td>\n",
       "      <td>1,401.3</td>\n",
       "      <td>-500.8</td>\n",
       "      <td>1,398.1</td>\n",
       "      <td>-499.5</td>\n",
       "      <td>1,402.2</td>\n",
       "      <td>...</td>\n",
       "      <td>12.0</td>\n",
       "      <td>-500.8</td>\n",
       "      <td>8.1</td>\n",
       "      <td>-500.4</td>\n",
       "      <td>8.1</td>\n",
       "      <td>-509.5</td>\n",
       "      <td>5.0</td>\n",
       "      <td>-500.4</td>\n",
       "      <td>25.0</td>\n",
       "      <td>-500.9</td>\n",
       "    </tr>\n",
       "  </tbody>\n",
       "</table>\n",
       "<p>5 rows × 53 columns</p>\n",
       "</div>"
      ],
      "text/plain": [
       "                  date  primary_cleaner.input.sulfate  \\\n",
       "0  2016-09-01 00:59:59                          210.8   \n",
       "1  2016-09-01 01:59:59                          215.4   \n",
       "2  2016-09-01 02:59:59                          215.3   \n",
       "3  2016-09-01 03:59:59                          215.3   \n",
       "4  2016-09-01 04:59:59                          199.1   \n",
       "\n",
       "   primary_cleaner.input.depressant  primary_cleaner.input.feed_size  \\\n",
       "0                              15.0                              8.1   \n",
       "1                              15.0                              8.1   \n",
       "2                              12.9                              7.8   \n",
       "3                              12.0                              7.6   \n",
       "4                              10.7                              7.5   \n",
       "\n",
       "   primary_cleaner.input.xanthate  primary_cleaner.state.floatbank8_a_air  \\\n",
       "0                             1.0                                 1,399.0   \n",
       "1                             1.0                                 1,398.8   \n",
       "2                             1.0                                 1,398.5   \n",
       "3                             0.9                                 1,399.6   \n",
       "4                             0.8                                 1,401.3   \n",
       "\n",
       "   primary_cleaner.state.floatbank8_a_level  \\\n",
       "0                                    -500.2   \n",
       "1                                    -500.1   \n",
       "2                                    -500.9   \n",
       "3                                    -498.9   \n",
       "4                                    -500.8   \n",
       "\n",
       "   primary_cleaner.state.floatbank8_b_air  \\\n",
       "0                                 1,399.1   \n",
       "1                                 1,398.1   \n",
       "2                                 1,398.9   \n",
       "3                                 1,397.4   \n",
       "4                                 1,398.1   \n",
       "\n",
       "   primary_cleaner.state.floatbank8_b_level  \\\n",
       "0                                    -499.9   \n",
       "1                                    -499.8   \n",
       "2                                    -499.8   \n",
       "3                                    -499.2   \n",
       "4                                    -499.5   \n",
       "\n",
       "   primary_cleaner.state.floatbank8_c_air  ...  \\\n",
       "0                                 1,400.1  ...   \n",
       "1                                 1,396.2  ...   \n",
       "2                                 1,398.1  ...   \n",
       "3                                 1,400.1  ...   \n",
       "4                                 1,402.2  ...   \n",
       "\n",
       "   secondary_cleaner.state.floatbank4_a_air  \\\n",
       "0                                      12.0   \n",
       "1                                      12.1   \n",
       "2                                      12.0   \n",
       "3                                      12.0   \n",
       "4                                      12.0   \n",
       "\n",
       "   secondary_cleaner.state.floatbank4_a_level  \\\n",
       "0                                      -497.8   \n",
       "1                                      -498.7   \n",
       "2                                      -498.8   \n",
       "3                                      -498.4   \n",
       "4                                      -500.8   \n",
       "\n",
       "   secondary_cleaner.state.floatbank4_b_air  \\\n",
       "0                                       8.0   \n",
       "1                                       8.1   \n",
       "2                                       8.1   \n",
       "3                                       8.1   \n",
       "4                                       8.1   \n",
       "\n",
       "   secondary_cleaner.state.floatbank4_b_level  \\\n",
       "0                                      -501.3   \n",
       "1                                      -499.6   \n",
       "2                                      -500.8   \n",
       "3                                      -499.5   \n",
       "4                                      -500.4   \n",
       "\n",
       "   secondary_cleaner.state.floatbank5_a_air  \\\n",
       "0                                       7.9   \n",
       "1                                       8.0   \n",
       "2                                       8.1   \n",
       "3                                       7.9   \n",
       "4                                       8.1   \n",
       "\n",
       "   secondary_cleaner.state.floatbank5_a_level  \\\n",
       "0                                      -432.3   \n",
       "1                                      -525.8   \n",
       "2                                      -500.8   \n",
       "3                                      -500.9   \n",
       "4                                      -509.5   \n",
       "\n",
       "   secondary_cleaner.state.floatbank5_b_air  \\\n",
       "0                                       4.9   \n",
       "1                                       4.9   \n",
       "2                                       4.9   \n",
       "3                                       4.9   \n",
       "4                                       5.0   \n",
       "\n",
       "   secondary_cleaner.state.floatbank5_b_level  \\\n",
       "0                                      -500.0   \n",
       "1                                      -500.2   \n",
       "2                                      -499.8   \n",
       "3                                      -500.0   \n",
       "4                                      -500.4   \n",
       "\n",
       "   secondary_cleaner.state.floatbank6_a_air  \\\n",
       "0                                      26.7   \n",
       "1                                      25.0   \n",
       "2                                      25.0   \n",
       "3                                      24.9   \n",
       "4                                      25.0   \n",
       "\n",
       "   secondary_cleaner.state.floatbank6_a_level  \n",
       "0                                      -499.7  \n",
       "1                                      -499.8  \n",
       "2                                      -500.6  \n",
       "3                                      -498.7  \n",
       "4                                      -500.9  \n",
       "\n",
       "[5 rows x 53 columns]"
      ]
     },
     "execution_count": 1565,
     "metadata": {},
     "output_type": "execute_result"
    }
   ],
   "source": [
    "df_test.head()"
   ]
  },
  {
   "cell_type": "code",
   "execution_count": 1566,
   "metadata": {
    "scrolled": true
   },
   "outputs": [
    {
     "name": "stdout",
     "output_type": "stream",
     "text": [
      "<class 'pandas.core.frame.DataFrame'>\n",
      "RangeIndex: 14149 entries, 0 to 14148\n",
      "Data columns (total 87 columns):\n",
      " #   Column                                              Non-Null Count  Dtype  \n",
      "---  ------                                              --------------  -----  \n",
      " 0   date                                                14149 non-null  object \n",
      " 1   final.output.concentrate_ag                         14148 non-null  float64\n",
      " 2   final.output.concentrate_pb                         14148 non-null  float64\n",
      " 3   final.output.concentrate_sol                        13938 non-null  float64\n",
      " 4   final.output.concentrate_au                         14149 non-null  float64\n",
      " 5   final.output.recovery                               14149 non-null  float64\n",
      " 6   final.output.tail_ag                                14149 non-null  float64\n",
      " 7   final.output.tail_pb                                14049 non-null  float64\n",
      " 8   final.output.tail_sol                               14144 non-null  float64\n",
      " 9   final.output.tail_au                                14149 non-null  float64\n",
      " 10  primary_cleaner.input.sulfate                       14129 non-null  float64\n",
      " 11  primary_cleaner.input.depressant                    14117 non-null  float64\n",
      " 12  primary_cleaner.input.feed_size                     14149 non-null  float64\n",
      " 13  primary_cleaner.input.xanthate                      14049 non-null  float64\n",
      " 14  primary_cleaner.output.concentrate_ag               14149 non-null  float64\n",
      " 15  primary_cleaner.output.concentrate_pb               14063 non-null  float64\n",
      " 16  primary_cleaner.output.concentrate_sol              13863 non-null  float64\n",
      " 17  primary_cleaner.output.concentrate_au               14149 non-null  float64\n",
      " 18  primary_cleaner.output.tail_ag                      14148 non-null  float64\n",
      " 19  primary_cleaner.output.tail_pb                      14134 non-null  float64\n",
      " 20  primary_cleaner.output.tail_sol                     14103 non-null  float64\n",
      " 21  primary_cleaner.output.tail_au                      14149 non-null  float64\n",
      " 22  primary_cleaner.state.floatbank8_a_air              14145 non-null  float64\n",
      " 23  primary_cleaner.state.floatbank8_a_level            14148 non-null  float64\n",
      " 24  primary_cleaner.state.floatbank8_b_air              14145 non-null  float64\n",
      " 25  primary_cleaner.state.floatbank8_b_level            14148 non-null  float64\n",
      " 26  primary_cleaner.state.floatbank8_c_air              14147 non-null  float64\n",
      " 27  primary_cleaner.state.floatbank8_c_level            14148 non-null  float64\n",
      " 28  primary_cleaner.state.floatbank8_d_air              14146 non-null  float64\n",
      " 29  primary_cleaner.state.floatbank8_d_level            14148 non-null  float64\n",
      " 30  rougher.calculation.sulfate_to_au_concentrate       14148 non-null  float64\n",
      " 31  rougher.calculation.floatbank10_sulfate_to_au_feed  14148 non-null  float64\n",
      " 32  rougher.calculation.floatbank11_sulfate_to_au_feed  14148 non-null  float64\n",
      " 33  rougher.calculation.au_pb_ratio                     14149 non-null  float64\n",
      " 34  rougher.input.feed_ag                               14149 non-null  float64\n",
      " 35  rougher.input.feed_pb                               14049 non-null  float64\n",
      " 36  rougher.input.feed_rate                             14141 non-null  float64\n",
      " 37  rougher.input.feed_size                             14005 non-null  float64\n",
      " 38  rougher.input.feed_sol                              14071 non-null  float64\n",
      " 39  rougher.input.feed_au                               14149 non-null  float64\n",
      " 40  rougher.input.floatbank10_sulfate                   14120 non-null  float64\n",
      " 41  rougher.input.floatbank10_xanthate                  14141 non-null  float64\n",
      " 42  rougher.input.floatbank11_sulfate                   14113 non-null  float64\n",
      " 43  rougher.input.floatbank11_xanthate                  13721 non-null  float64\n",
      " 44  rougher.output.concentrate_ag                       14149 non-null  float64\n",
      " 45  rougher.output.concentrate_pb                       14149 non-null  float64\n",
      " 46  rougher.output.concentrate_sol                      14127 non-null  float64\n",
      " 47  rougher.output.concentrate_au                       14149 non-null  float64\n",
      " 48  rougher.output.recovery                             14149 non-null  float64\n",
      " 49  rougher.output.tail_ag                              14148 non-null  float64\n",
      " 50  rougher.output.tail_pb                              14149 non-null  float64\n",
      " 51  rougher.output.tail_sol                             14149 non-null  float64\n",
      " 52  rougher.output.tail_au                              14149 non-null  float64\n",
      " 53  rougher.state.floatbank10_a_air                     14148 non-null  float64\n",
      " 54  rougher.state.floatbank10_a_level                   14148 non-null  float64\n",
      " 55  rougher.state.floatbank10_b_air                     14148 non-null  float64\n",
      " 56  rougher.state.floatbank10_b_level                   14148 non-null  float64\n",
      " 57  rougher.state.floatbank10_c_air                     14148 non-null  float64\n",
      " 58  rougher.state.floatbank10_c_level                   14148 non-null  float64\n",
      " 59  rougher.state.floatbank10_d_air                     14149 non-null  float64\n",
      " 60  rougher.state.floatbank10_d_level                   14149 non-null  float64\n",
      " 61  rougher.state.floatbank10_e_air                     13713 non-null  float64\n",
      " 62  rougher.state.floatbank10_e_level                   14149 non-null  float64\n",
      " 63  rougher.state.floatbank10_f_air                     14149 non-null  float64\n",
      " 64  rougher.state.floatbank10_f_level                   14149 non-null  float64\n",
      " 65  secondary_cleaner.output.tail_ag                    14147 non-null  float64\n",
      " 66  secondary_cleaner.output.tail_pb                    14139 non-null  float64\n",
      " 67  secondary_cleaner.output.tail_sol                   12544 non-null  float64\n",
      " 68  secondary_cleaner.output.tail_au                    14149 non-null  float64\n",
      " 69  secondary_cleaner.state.floatbank2_a_air            13932 non-null  float64\n",
      " 70  secondary_cleaner.state.floatbank2_a_level          14148 non-null  float64\n",
      " 71  secondary_cleaner.state.floatbank2_b_air            14128 non-null  float64\n",
      " 72  secondary_cleaner.state.floatbank2_b_level          14148 non-null  float64\n",
      " 73  secondary_cleaner.state.floatbank3_a_air            14145 non-null  float64\n",
      " 74  secondary_cleaner.state.floatbank3_a_level          14148 non-null  float64\n",
      " 75  secondary_cleaner.state.floatbank3_b_air            14148 non-null  float64\n",
      " 76  secondary_cleaner.state.floatbank3_b_level          14148 non-null  float64\n",
      " 77  secondary_cleaner.state.floatbank4_a_air            14143 non-null  float64\n",
      " 78  secondary_cleaner.state.floatbank4_a_level          14148 non-null  float64\n",
      " 79  secondary_cleaner.state.floatbank4_b_air            14148 non-null  float64\n",
      " 80  secondary_cleaner.state.floatbank4_b_level          14148 non-null  float64\n",
      " 81  secondary_cleaner.state.floatbank5_a_air            14148 non-null  float64\n",
      " 82  secondary_cleaner.state.floatbank5_a_level          14148 non-null  float64\n",
      " 83  secondary_cleaner.state.floatbank5_b_air            14148 non-null  float64\n",
      " 84  secondary_cleaner.state.floatbank5_b_level          14148 non-null  float64\n",
      " 85  secondary_cleaner.state.floatbank6_a_air            14147 non-null  float64\n",
      " 86  secondary_cleaner.state.floatbank6_a_level          14148 non-null  float64\n",
      "dtypes: float64(86), object(1)\n",
      "memory usage: 9.4+ MB\n"
     ]
    }
   ],
   "source": [
    "df_train.info()"
   ]
  },
  {
   "cell_type": "markdown",
   "metadata": {},
   "source": [
    "#### Число строк в данных"
   ]
  },
  {
   "cell_type": "code",
   "execution_count": 1567,
   "metadata": {
    "scrolled": true
   },
   "outputs": [
    {
     "data": {
      "text/plain": [
       "19439"
      ]
     },
     "execution_count": 1567,
     "metadata": {},
     "output_type": "execute_result"
    }
   ],
   "source": [
    "len(df_full['date'])"
   ]
  },
  {
   "cell_type": "code",
   "execution_count": 1568,
   "metadata": {
    "scrolled": true
   },
   "outputs": [
    {
     "data": {
      "text/plain": [
       "14149"
      ]
     },
     "execution_count": 1568,
     "metadata": {},
     "output_type": "execute_result"
    }
   ],
   "source": [
    "len(df_train['date'])"
   ]
  },
  {
   "cell_type": "code",
   "execution_count": 1569,
   "metadata": {
    "scrolled": true
   },
   "outputs": [
    {
     "data": {
      "text/plain": [
       "5290"
      ]
     },
     "execution_count": 1569,
     "metadata": {},
     "output_type": "execute_result"
    }
   ],
   "source": [
    "len(df_test['date'])"
   ]
  },
  {
   "cell_type": "markdown",
   "metadata": {},
   "source": [
    "#### Число пустых значений:"
   ]
  },
  {
   "cell_type": "code",
   "execution_count": 1570,
   "metadata": {},
   "outputs": [
    {
     "data": {
      "text/plain": [
       "4481"
      ]
     },
     "execution_count": 1570,
     "metadata": {},
     "output_type": "execute_result"
    }
   ],
   "source": [
    "df_full.isna().sum().sum()"
   ]
  },
  {
   "cell_type": "code",
   "execution_count": 1571,
   "metadata": {},
   "outputs": [
    {
     "data": {
      "text/plain": [
       "4100"
      ]
     },
     "execution_count": 1571,
     "metadata": {},
     "output_type": "execute_result"
    }
   ],
   "source": [
    "df_train.isna().sum().sum()"
   ]
  },
  {
   "cell_type": "code",
   "execution_count": 1572,
   "metadata": {
    "scrolled": true
   },
   "outputs": [
    {
     "data": {
      "text/plain": [
       "90"
      ]
     },
     "execution_count": 1572,
     "metadata": {},
     "output_type": "execute_result"
    }
   ],
   "source": [
    "df_test.isna().sum().sum()"
   ]
  },
  {
   "cell_type": "markdown",
   "metadata": {},
   "source": [
    "#### Вывод:\n",
    "- В данных есть пропуски значений.\n",
    "- Данные уже разбиты обучающую и тестовую выборки в отношении примерно 3:1.\n",
    "- В тестовой выборке на 34 колонки данных меньше."
   ]
  },
  {
   "cell_type": "markdown",
   "metadata": {},
   "source": [
    "### Проверим, что эффективность обогащения рассчитана правильно.\n",
    "Вычислим её на обучающей выборке для признака **rougher.output.recovery**."
   ]
  },
  {
   "cell_type": "markdown",
   "metadata": {},
   "source": [
    "Расчёт эффективности\n",
    "\n",
    "Эффективность обогащения рассчитывается по формуле"
   ]
  },
  {
   "cell_type": "markdown",
   "metadata": {
    "scrolled": false
   },
   "source": [
    "recovery = C * (F - T) / (F * (C - T)) * 100"
   ]
  },
  {
   "cell_type": "markdown",
   "metadata": {},
   "source": [
    "где:\n",
    "\n",
    "- C — доля золота в концентрате после флотации/очистки; ['rougher.output.concentrate_au']\n",
    "- F — доля золота в сырье/концентрате до флотации/очистки; ['rougher.input.feed_au']\n",
    "- T — доля золота в отвальных хвостах после флотации/очистки. ['rougher.output.tail_au']"
   ]
  },
  {
   "cell_type": "code",
   "execution_count": 1574,
   "metadata": {},
   "outputs": [],
   "source": [
    "C = df_train['rougher.output.concentrate_au']\n",
    "F = df_train['rougher.input.feed_au']\n",
    "T = df_train['rougher.output.tail_au']"
   ]
  },
  {
   "cell_type": "code",
   "execution_count": 1575,
   "metadata": {},
   "outputs": [],
   "source": [
    "recovery = C * (F - T) / (F * (C - T)) * 100"
   ]
  },
  {
   "cell_type": "markdown",
   "metadata": {},
   "source": [
    "#### Найдем MAE между расчётами и значением признака."
   ]
  },
  {
   "cell_type": "code",
   "execution_count": 1576,
   "metadata": {},
   "outputs": [
    {
     "name": "stdout",
     "output_type": "stream",
     "text": [
      "MAE между моими расчётами и значением признака rougher.output.recovery: 9.73512347450521e-15\n"
     ]
    }
   ],
   "source": [
    "mae = mean_absolute_error(df_train['rougher.output.recovery'], recovery)\n",
    "print(\"MAE между моими расчётами и значением признака rougher.output.recovery:\", mae)"
   ]
  },
  {
   "cell_type": "markdown",
   "metadata": {},
   "source": [
    "#### Вывод по проверке:\n",
    "Средняя абсолютная ошибка мала и составляет `0.00000000000000974` - считаем что расчеты `recovery` верны."
   ]
  },
  {
   "cell_type": "markdown",
   "metadata": {},
   "source": [
    "### Проанализируем признаки, недоступные в тестовой выборке.\n"
   ]
  },
  {
   "cell_type": "markdown",
   "metadata": {},
   "source": [
    "Список признаков, недоступных в тестовой выборке:"
   ]
  },
  {
   "cell_type": "code",
   "execution_count": 1577,
   "metadata": {},
   "outputs": [
    {
     "data": {
      "text/plain": [
       "0                           final.output.concentrate_ag\n",
       "1                           final.output.concentrate_pb\n",
       "2                          final.output.concentrate_sol\n",
       "3                           final.output.concentrate_au\n",
       "4                                 final.output.recovery\n",
       "5                                  final.output.tail_ag\n",
       "6                                  final.output.tail_pb\n",
       "7                                 final.output.tail_sol\n",
       "8                                  final.output.tail_au\n",
       "9                 primary_cleaner.output.concentrate_ag\n",
       "10                primary_cleaner.output.concentrate_pb\n",
       "11               primary_cleaner.output.concentrate_sol\n",
       "12                primary_cleaner.output.concentrate_au\n",
       "13                       primary_cleaner.output.tail_ag\n",
       "14                       primary_cleaner.output.tail_pb\n",
       "15                      primary_cleaner.output.tail_sol\n",
       "16                       primary_cleaner.output.tail_au\n",
       "17        rougher.calculation.sulfate_to_au_concentrate\n",
       "18    rougher.calculation.floatbank10_sulfate_to_au_...\n",
       "19    rougher.calculation.floatbank11_sulfate_to_au_...\n",
       "20                      rougher.calculation.au_pb_ratio\n",
       "21                        rougher.output.concentrate_ag\n",
       "22                        rougher.output.concentrate_pb\n",
       "23                       rougher.output.concentrate_sol\n",
       "24                        rougher.output.concentrate_au\n",
       "25                              rougher.output.recovery\n",
       "26                               rougher.output.tail_ag\n",
       "27                               rougher.output.tail_pb\n",
       "28                              rougher.output.tail_sol\n",
       "29                               rougher.output.tail_au\n",
       "30                     secondary_cleaner.output.tail_ag\n",
       "31                     secondary_cleaner.output.tail_pb\n",
       "32                    secondary_cleaner.output.tail_sol\n",
       "33                     secondary_cleaner.output.tail_au\n",
       "dtype: object"
      ]
     },
     "execution_count": 1577,
     "metadata": {},
     "output_type": "execute_result"
    }
   ],
   "source": [
    "pd.Series(df_full.columns[np.invert(np.isin(df_full.columns, df_test.columns))])"
   ]
  },
  {
   "cell_type": "markdown",
   "metadata": {},
   "source": [
    "#### Вывод по недоступным признакам:\n",
    "\n",
    "В тестовой выборке нет этапов:\n",
    "\n",
    "- rougher.output - выход грубой обработки\n",
    "- rougher.calculation - выход грубой обработки\n",
    "- primary_cleaner.output - выход первой очистки\n",
    "- secondary_cleaner.output - выход второй очистки (хвосты)\n",
    "- final.output - весь final \n",
    "\n",
    "`Поэтому`:\n",
    "- Для обучения модели будем использовать только тип признака из тестовой выборки, иначе не сможем расчитать прогноз на тесте.\n",
    "- Целевые признаки необходимо будет добавить в тестовую выборку из полных данных **`rougher.output.recovery`** и **`final.output.recovery`**."
   ]
  },
  {
   "cell_type": "markdown",
   "metadata": {},
   "source": [
    "### Предобработка данных."
   ]
  },
  {
   "cell_type": "markdown",
   "metadata": {},
   "source": [
    "Соседние по времени параметры часто похожи. Поэтому :"
   ]
  },
  {
   "cell_type": "markdown",
   "metadata": {},
   "source": [
    "#### Добавим недостающие целевые признаки в тестовую выборку\n",
    "\n",
    "`rougher.output.recovery` и `final.output.recovery`"
   ]
  },
  {
   "cell_type": "code",
   "execution_count": 1578,
   "metadata": {
    "scrolled": true
   },
   "outputs": [
    {
     "data": {
      "text/html": [
       "<div>\n",
       "<style scoped>\n",
       "    .dataframe tbody tr th:only-of-type {\n",
       "        vertical-align: middle;\n",
       "    }\n",
       "\n",
       "    .dataframe tbody tr th {\n",
       "        vertical-align: top;\n",
       "    }\n",
       "\n",
       "    .dataframe thead th {\n",
       "        text-align: right;\n",
       "    }\n",
       "</style>\n",
       "<table border=\"1\" class=\"dataframe\">\n",
       "  <thead>\n",
       "    <tr style=\"text-align: right;\">\n",
       "      <th></th>\n",
       "      <th>date</th>\n",
       "      <th>primary_cleaner.input.sulfate</th>\n",
       "      <th>primary_cleaner.input.depressant</th>\n",
       "      <th>primary_cleaner.input.feed_size</th>\n",
       "      <th>primary_cleaner.input.xanthate</th>\n",
       "      <th>primary_cleaner.state.floatbank8_a_air</th>\n",
       "      <th>primary_cleaner.state.floatbank8_a_level</th>\n",
       "      <th>primary_cleaner.state.floatbank8_b_air</th>\n",
       "      <th>primary_cleaner.state.floatbank8_b_level</th>\n",
       "      <th>primary_cleaner.state.floatbank8_c_air</th>\n",
       "      <th>...</th>\n",
       "      <th>secondary_cleaner.state.floatbank4_b_air</th>\n",
       "      <th>secondary_cleaner.state.floatbank4_b_level</th>\n",
       "      <th>secondary_cleaner.state.floatbank5_a_air</th>\n",
       "      <th>secondary_cleaner.state.floatbank5_a_level</th>\n",
       "      <th>secondary_cleaner.state.floatbank5_b_air</th>\n",
       "      <th>secondary_cleaner.state.floatbank5_b_level</th>\n",
       "      <th>secondary_cleaner.state.floatbank6_a_air</th>\n",
       "      <th>secondary_cleaner.state.floatbank6_a_level</th>\n",
       "      <th>final.output.recovery</th>\n",
       "      <th>rougher.output.recovery</th>\n",
       "    </tr>\n",
       "  </thead>\n",
       "  <tbody>\n",
       "    <tr>\n",
       "      <th>0</th>\n",
       "      <td>2016-09-01 00:59:59</td>\n",
       "      <td>210.8</td>\n",
       "      <td>15.0</td>\n",
       "      <td>8.1</td>\n",
       "      <td>1.0</td>\n",
       "      <td>1,399.0</td>\n",
       "      <td>-500.2</td>\n",
       "      <td>1,399.1</td>\n",
       "      <td>-499.9</td>\n",
       "      <td>1,400.1</td>\n",
       "      <td>...</td>\n",
       "      <td>8.0</td>\n",
       "      <td>-501.3</td>\n",
       "      <td>7.9</td>\n",
       "      <td>-432.3</td>\n",
       "      <td>4.9</td>\n",
       "      <td>-500.0</td>\n",
       "      <td>26.7</td>\n",
       "      <td>-499.7</td>\n",
       "      <td>70.3</td>\n",
       "      <td>90.0</td>\n",
       "    </tr>\n",
       "    <tr>\n",
       "      <th>1</th>\n",
       "      <td>2016-09-01 01:59:59</td>\n",
       "      <td>215.4</td>\n",
       "      <td>15.0</td>\n",
       "      <td>8.1</td>\n",
       "      <td>1.0</td>\n",
       "      <td>1,398.8</td>\n",
       "      <td>-500.1</td>\n",
       "      <td>1,398.1</td>\n",
       "      <td>-499.8</td>\n",
       "      <td>1,396.2</td>\n",
       "      <td>...</td>\n",
       "      <td>8.1</td>\n",
       "      <td>-499.6</td>\n",
       "      <td>8.0</td>\n",
       "      <td>-525.8</td>\n",
       "      <td>4.9</td>\n",
       "      <td>-500.2</td>\n",
       "      <td>25.0</td>\n",
       "      <td>-499.8</td>\n",
       "      <td>68.9</td>\n",
       "      <td>88.1</td>\n",
       "    </tr>\n",
       "    <tr>\n",
       "      <th>2</th>\n",
       "      <td>2016-09-01 02:59:59</td>\n",
       "      <td>215.3</td>\n",
       "      <td>12.9</td>\n",
       "      <td>7.8</td>\n",
       "      <td>1.0</td>\n",
       "      <td>1,398.5</td>\n",
       "      <td>-500.9</td>\n",
       "      <td>1,398.9</td>\n",
       "      <td>-499.8</td>\n",
       "      <td>1,398.1</td>\n",
       "      <td>...</td>\n",
       "      <td>8.1</td>\n",
       "      <td>-500.8</td>\n",
       "      <td>8.1</td>\n",
       "      <td>-500.8</td>\n",
       "      <td>4.9</td>\n",
       "      <td>-499.8</td>\n",
       "      <td>25.0</td>\n",
       "      <td>-500.6</td>\n",
       "      <td>68.1</td>\n",
       "      <td>88.4</td>\n",
       "    </tr>\n",
       "    <tr>\n",
       "      <th>3</th>\n",
       "      <td>2016-09-01 03:59:59</td>\n",
       "      <td>215.3</td>\n",
       "      <td>12.0</td>\n",
       "      <td>7.6</td>\n",
       "      <td>0.9</td>\n",
       "      <td>1,399.6</td>\n",
       "      <td>-498.9</td>\n",
       "      <td>1,397.4</td>\n",
       "      <td>-499.2</td>\n",
       "      <td>1,400.1</td>\n",
       "      <td>...</td>\n",
       "      <td>8.1</td>\n",
       "      <td>-499.5</td>\n",
       "      <td>7.9</td>\n",
       "      <td>-500.9</td>\n",
       "      <td>4.9</td>\n",
       "      <td>-500.0</td>\n",
       "      <td>24.9</td>\n",
       "      <td>-498.7</td>\n",
       "      <td>67.8</td>\n",
       "      <td>87.4</td>\n",
       "    </tr>\n",
       "    <tr>\n",
       "      <th>4</th>\n",
       "      <td>2016-09-01 04:59:59</td>\n",
       "      <td>199.1</td>\n",
       "      <td>10.7</td>\n",
       "      <td>7.5</td>\n",
       "      <td>0.8</td>\n",
       "      <td>1,401.3</td>\n",
       "      <td>-500.8</td>\n",
       "      <td>1,398.1</td>\n",
       "      <td>-499.5</td>\n",
       "      <td>1,402.2</td>\n",
       "      <td>...</td>\n",
       "      <td>8.1</td>\n",
       "      <td>-500.4</td>\n",
       "      <td>8.1</td>\n",
       "      <td>-509.5</td>\n",
       "      <td>5.0</td>\n",
       "      <td>-500.4</td>\n",
       "      <td>25.0</td>\n",
       "      <td>-500.9</td>\n",
       "      <td>61.5</td>\n",
       "      <td>83.2</td>\n",
       "    </tr>\n",
       "  </tbody>\n",
       "</table>\n",
       "<p>5 rows × 55 columns</p>\n",
       "</div>"
      ],
      "text/plain": [
       "                  date  primary_cleaner.input.sulfate  \\\n",
       "0  2016-09-01 00:59:59                          210.8   \n",
       "1  2016-09-01 01:59:59                          215.4   \n",
       "2  2016-09-01 02:59:59                          215.3   \n",
       "3  2016-09-01 03:59:59                          215.3   \n",
       "4  2016-09-01 04:59:59                          199.1   \n",
       "\n",
       "   primary_cleaner.input.depressant  primary_cleaner.input.feed_size  \\\n",
       "0                              15.0                              8.1   \n",
       "1                              15.0                              8.1   \n",
       "2                              12.9                              7.8   \n",
       "3                              12.0                              7.6   \n",
       "4                              10.7                              7.5   \n",
       "\n",
       "   primary_cleaner.input.xanthate  primary_cleaner.state.floatbank8_a_air  \\\n",
       "0                             1.0                                 1,399.0   \n",
       "1                             1.0                                 1,398.8   \n",
       "2                             1.0                                 1,398.5   \n",
       "3                             0.9                                 1,399.6   \n",
       "4                             0.8                                 1,401.3   \n",
       "\n",
       "   primary_cleaner.state.floatbank8_a_level  \\\n",
       "0                                    -500.2   \n",
       "1                                    -500.1   \n",
       "2                                    -500.9   \n",
       "3                                    -498.9   \n",
       "4                                    -500.8   \n",
       "\n",
       "   primary_cleaner.state.floatbank8_b_air  \\\n",
       "0                                 1,399.1   \n",
       "1                                 1,398.1   \n",
       "2                                 1,398.9   \n",
       "3                                 1,397.4   \n",
       "4                                 1,398.1   \n",
       "\n",
       "   primary_cleaner.state.floatbank8_b_level  \\\n",
       "0                                    -499.9   \n",
       "1                                    -499.8   \n",
       "2                                    -499.8   \n",
       "3                                    -499.2   \n",
       "4                                    -499.5   \n",
       "\n",
       "   primary_cleaner.state.floatbank8_c_air  ...  \\\n",
       "0                                 1,400.1  ...   \n",
       "1                                 1,396.2  ...   \n",
       "2                                 1,398.1  ...   \n",
       "3                                 1,400.1  ...   \n",
       "4                                 1,402.2  ...   \n",
       "\n",
       "   secondary_cleaner.state.floatbank4_b_air  \\\n",
       "0                                       8.0   \n",
       "1                                       8.1   \n",
       "2                                       8.1   \n",
       "3                                       8.1   \n",
       "4                                       8.1   \n",
       "\n",
       "   secondary_cleaner.state.floatbank4_b_level  \\\n",
       "0                                      -501.3   \n",
       "1                                      -499.6   \n",
       "2                                      -500.8   \n",
       "3                                      -499.5   \n",
       "4                                      -500.4   \n",
       "\n",
       "   secondary_cleaner.state.floatbank5_a_air  \\\n",
       "0                                       7.9   \n",
       "1                                       8.0   \n",
       "2                                       8.1   \n",
       "3                                       7.9   \n",
       "4                                       8.1   \n",
       "\n",
       "   secondary_cleaner.state.floatbank5_a_level  \\\n",
       "0                                      -432.3   \n",
       "1                                      -525.8   \n",
       "2                                      -500.8   \n",
       "3                                      -500.9   \n",
       "4                                      -509.5   \n",
       "\n",
       "   secondary_cleaner.state.floatbank5_b_air  \\\n",
       "0                                       4.9   \n",
       "1                                       4.9   \n",
       "2                                       4.9   \n",
       "3                                       4.9   \n",
       "4                                       5.0   \n",
       "\n",
       "   secondary_cleaner.state.floatbank5_b_level  \\\n",
       "0                                      -500.0   \n",
       "1                                      -500.2   \n",
       "2                                      -499.8   \n",
       "3                                      -500.0   \n",
       "4                                      -500.4   \n",
       "\n",
       "   secondary_cleaner.state.floatbank6_a_air  \\\n",
       "0                                      26.7   \n",
       "1                                      25.0   \n",
       "2                                      25.0   \n",
       "3                                      24.9   \n",
       "4                                      25.0   \n",
       "\n",
       "   secondary_cleaner.state.floatbank6_a_level  final.output.recovery  \\\n",
       "0                                      -499.7                   70.3   \n",
       "1                                      -499.8                   68.9   \n",
       "2                                      -500.6                   68.1   \n",
       "3                                      -498.7                   67.8   \n",
       "4                                      -500.9                   61.5   \n",
       "\n",
       "   rougher.output.recovery  \n",
       "0                     90.0  \n",
       "1                     88.1  \n",
       "2                     88.4  \n",
       "3                     87.4  \n",
       "4                     83.2  \n",
       "\n",
       "[5 rows x 55 columns]"
      ]
     },
     "execution_count": 1578,
     "metadata": {},
     "output_type": "execute_result"
    }
   ],
   "source": [
    "df_test = df_test.merge(df_full[['date','final.output.recovery','rougher.output.recovery']], on='date', how='left')\n",
    "df_test.head()"
   ]
  },
  {
   "cell_type": "markdown",
   "metadata": {},
   "source": [
    "#### Заменим пропуски на соседние значения в обучающей и тестовой выборках"
   ]
  },
  {
   "cell_type": "code",
   "execution_count": 1579,
   "metadata": {},
   "outputs": [],
   "source": [
    "df_train = df_train.ffill()\n",
    "df_test = df_test.ffill()"
   ]
  },
  {
   "cell_type": "markdown",
   "metadata": {},
   "source": [
    "## Анализ данных"
   ]
  },
  {
   "cell_type": "markdown",
   "metadata": {},
   "source": [
    "#### Технологический процесс\n",
    "Когда добытая руда проходит первичную обработку, получается дроблёная смесь. Её отправляют на флотацию (обогащение) и двухэтапную очистку."
   ]
  },
  {
   "cell_type": "markdown",
   "metadata": {},
   "source": [
    "Описание данных\n",
    "\n",
    "- Rougher feed — исходное сырье\n",
    "- Rougher additions (или reagent additions) — флотационные реагенты: Xanthate, Sulphate, Depressant\n",
    "- Xanthate **— ксантогенат (промотер, или активатор флотации);\n",
    "- Sulphate — сульфат (на данном производстве сульфид натрия);\n",
    "- Depressant — депрессант (силикат натрия).\n",
    "- Rougher process (англ. «грубый процесс») — флотация\n",
    "- Rougher tails — отвальные хвосты\n",
    "- Float banks — флотационная установка\n",
    "- Cleaner process — очистка\n",
    "- Rougher Au — черновой концентрат золота\n",
    "- Final Au — финальный концентрат золота\n",
    "\n",
    "Наименование признаков :\n",
    "\n",
    "[этап].[тип_параметра].[название_параметра]\n",
    "\n",
    "Пример: rougher.input.feed_ag\n",
    "\n",
    "Возможные значения для блока [этап]:\n",
    "\n",
    "- rougher — флотация\n",
    "- primary_cleaner — первичная очистка\n",
    "- secondary_cleaner — вторичная очистка\n",
    "- final — финальные характеристики\n",
    "\n",
    "Возможные значения для блока [тип_параметра]:\n",
    "\n",
    "- input — параметры сырья\n",
    "- output — параметры продукта\n",
    "- state — параметры, характеризующие текущее состояние этапа\n",
    "- calculation — расчётные характеристики\n",
    "\n",
    "Расчёт эффективности\n",
    "Необходимо смоделировать процесс восстановления золота из золотосодержащей руды."
   ]
  },
  {
   "cell_type": "markdown",
   "metadata": {},
   "source": [
    "### Посмотрим, как меняется концентрация металлов (Au, Ag, Pb)\n",
    "на различных этапах очистки."
   ]
  },
  {
   "cell_type": "markdown",
   "metadata": {},
   "source": [
    "Посторим гистораммы концентрации для каждого металла на различных стадиях."
   ]
  },
  {
   "cell_type": "markdown",
   "metadata": {},
   "source": [
    "####  Au гисторамма концентрации на различных стадиях. "
   ]
  },
  {
   "cell_type": "code",
   "execution_count": 1581,
   "metadata": {},
   "outputs": [
    {
     "data": {
      "image/png": "[encoded data removed]",
      "text/plain": [
       "<Figure size 432x288 with 1 Axes>"
      ]
     },
     "metadata": {
      "needs_background": "light"
     },
     "output_type": "display_data"
    }
   ],
   "source": [
    "df_full['rougher.input.feed_au'].hist(bins =100, alpha=0.7, label='rougher.input', density=True)\n",
    "df_full['rougher.output.concentrate_au'].hist(bins =100, alpha=0.7, label='rougher.output', density=True)\n",
    "df_full['primary_cleaner.output.concentrate_au'].hist(bins =100, alpha=0.7, label='primary_cleaner', density=True)\n",
    "df_full['final.output.concentrate_au'].hist(bins =100, alpha=0.7, label='final.output', density=True)\n",
    "\n",
    "plt.xlabel('концентрация %')\n",
    "plt.title('Au концентрация на различных стадиях')\n",
    "plt.legend()\n",
    "\n",
    "plt.ylim([0, 0.3])\n",
    "\n",
    "plt.show()"
   ]
  },
  {
   "cell_type": "markdown",
   "metadata": {},
   "source": [
    "####  Ag гисторамма концентрации на различных стадиях. "
   ]
  },
  {
   "cell_type": "code",
   "execution_count": 1582,
   "metadata": {},
   "outputs": [
    {
     "data": {
      "image/png": "[encoded data removed]",
      "text/plain": [
       "<Figure size 432x288 with 1 Axes>"
      ]
     },
     "metadata": {
      "needs_background": "light"
     },
     "output_type": "display_data"
    }
   ],
   "source": [
    "df_full['rougher.input.feed_ag'].hist(bins =100, alpha=0.7, label='rougher.input', density=True)\n",
    "df_full['rougher.output.concentrate_ag'].hist(bins =100, alpha=0.7, label='rougher.output', density=True)\n",
    "df_full['primary_cleaner.output.concentrate_ag'].hist(bins =100, alpha=0.7, label='primary_cleaner', density=True)\n",
    "df_full['final.output.concentrate_ag'].hist(bins =100, alpha=0.7, label='final.output', density=True)\n",
    "\n",
    "plt.xlabel('концентрация %')\n",
    "plt.title('Ag концентрация на различных стадиях')\n",
    "plt.legend()\n",
    "\n",
    "plt.show()"
   ]
  },
  {
   "cell_type": "markdown",
   "metadata": {},
   "source": [
    "####  Pb гисторамма концентрации на различных стадиях. "
   ]
  },
  {
   "cell_type": "code",
   "execution_count": 1583,
   "metadata": {},
   "outputs": [
    {
     "data": {
      "image/png": "[encoded data removed]",
      "text/plain": [
       "<Figure size 432x288 with 1 Axes>"
      ]
     },
     "metadata": {
      "needs_background": "light"
     },
     "output_type": "display_data"
    }
   ],
   "source": [
    "df_full['rougher.input.feed_pb'].hist(bins =100, alpha=0.7, label='rougher.input', density=True)\n",
    "df_full['rougher.output.concentrate_pb'].hist(bins =100, alpha=0.7, label='rougher.output', density=True)\n",
    "df_full['primary_cleaner.output.concentrate_pb'].hist(bins =100, alpha=0.7, label='primary_cleaner', density=True)\n",
    "df_full['final.output.concentrate_pb'].hist(bins =100, alpha=0.7, label='final.output', density=True)\n",
    "\n",
    "plt.xlabel('концентрация %')\n",
    "plt.title('Pb концентрация на различных стадиях')\n",
    "plt.legend()\n",
    "\n",
    "plt.show()"
   ]
  },
  {
   "cell_type": "markdown",
   "metadata": {},
   "source": [
    "#### Вывод по изменению концентрации металлов (Au, Ag, Pb):\n",
    "\n",
    "- Доля Au значительно вырастает на финальном этапе с 8 до 44%\n",
    "- Доля Ag снижается.\n",
    "- Доля Pb растет."
   ]
  },
  {
   "cell_type": "markdown",
   "metadata": {},
   "source": [
    "### Сравним распределения размеров гранул сырья \n",
    "на обучающей и тестовой выборках. Если распределения сильно отличаются друг от друга, оценка модели будет неправильной."
   ]
  },
  {
   "cell_type": "markdown",
   "metadata": {},
   "source": [
    "Этап Флотации"
   ]
  },
  {
   "cell_type": "code",
   "execution_count": 1584,
   "metadata": {},
   "outputs": [
    {
     "data": {
      "text/plain": [
       "<matplotlib.legend.Legend at 0x7ff9465e8760>"
      ]
     },
     "execution_count": 1584,
     "metadata": {},
     "output_type": "execute_result"
    },
    {
     "data": {
      "image/png": "[encoded data removed]",
      "text/plain": [
       "<Figure size 432x288 with 1 Axes>"
      ]
     },
     "metadata": {
      "needs_background": "light"
     },
     "output_type": "display_data"
    }
   ],
   "source": [
    "df_train['rougher.input.feed_size'].hist(bins=300, label='Train', density=True, alpha=0.7)\n",
    "df_test['rougher.input.feed_size'].hist(bins=300, label='Test', density=True, alpha=0.7)\n",
    "plt.xlim([20, 100])\n",
    "plt.legend()"
   ]
  },
  {
   "cell_type": "markdown",
   "metadata": {},
   "source": [
    "Этап первичной очистки:"
   ]
  },
  {
   "cell_type": "code",
   "execution_count": 1585,
   "metadata": {},
   "outputs": [
    {
     "data": {
      "text/plain": [
       "<matplotlib.legend.Legend at 0x7ff9425124f0>"
      ]
     },
     "execution_count": 1585,
     "metadata": {},
     "output_type": "execute_result"
    },
    {
     "data": {
      "image/png": "[encoded data removed]",
      "text/plain": [
       "<Figure size 432x288 with 1 Axes>"
      ]
     },
     "metadata": {
      "needs_background": "light"
     },
     "output_type": "display_data"
    }
   ],
   "source": [
    "df_train['primary_cleaner.input.feed_size'].hist(bins=100, label='Train', density=True, alpha=0.7)\n",
    "df_test['primary_cleaner.input.feed_size'].hist(bins=100, label='Test', density=True, alpha=0.7)\n",
    "plt.xlim([4, 12])\n",
    "plt.legend()"
   ]
  },
  {
   "cell_type": "markdown",
   "metadata": {},
   "source": [
    "#### Вывод по распределению размеров гранул сырья:\n",
    "- распределение гранул отличается но не значительно.\n",
    "- После этапа Флотации размер гранул уменьшается 7-8 раз и становится равномерным, можно сказать что на этапе флотации происходит дробление гранул до среднего размера 7 мм."
   ]
  },
  {
   "cell_type": "markdown",
   "metadata": {},
   "source": [
    "### Исследуем суммарную концентрацию всех веществ\n",
    "на разных стадиях: в сырье, в черновом и финальном концентратах."
   ]
  },
  {
   "cell_type": "markdown",
   "metadata": {},
   "source": [
    "Создадим Series с суммарной концентрацией всех веществ на различных стадиях:"
   ]
  },
  {
   "cell_type": "code",
   "execution_count": 1586,
   "metadata": {},
   "outputs": [],
   "source": [
    "rougher_input = (df_full['rougher.input.feed_ag'] + \n",
    "                 df_full['rougher.input.feed_pb'] +\n",
    "                 df_full['rougher.input.feed_au'] +\n",
    "                 df_full['rougher.input.feed_sol'])"
   ]
  },
  {
   "cell_type": "code",
   "execution_count": 1587,
   "metadata": {},
   "outputs": [],
   "source": [
    "rougher_output = (df_full['rougher.output.concentrate_ag'] + \n",
    "                  df_full['rougher.output.concentrate_pb'] +\n",
    "                  df_full['rougher.output.concentrate_sol'] +\n",
    "                  df_full['rougher.output.concentrate_au'])"
   ]
  },
  {
   "cell_type": "code",
   "execution_count": 1588,
   "metadata": {},
   "outputs": [],
   "source": [
    "primary_cleaner_output = (df_full['primary_cleaner.output.concentrate_ag'] + \n",
    "                          df_full['primary_cleaner.output.concentrate_pb'] +\n",
    "                          df_full['primary_cleaner.output.concentrate_sol'] +\n",
    "                          df_full['primary_cleaner.output.concentrate_au'])"
   ]
  },
  {
   "cell_type": "code",
   "execution_count": 1589,
   "metadata": {},
   "outputs": [],
   "source": [
    "final_output = (df_full['final.output.concentrate_ag'] + \n",
    "                df_full['final.output.concentrate_pb'] +\n",
    "                df_full['final.output.concentrate_sol'] +\n",
    "                df_full['final.output.concentrate_au'])"
   ]
  },
  {
   "cell_type": "markdown",
   "metadata": {},
   "source": [
    "Построим гистограмму:"
   ]
  },
  {
   "cell_type": "code",
   "execution_count": 1590,
   "metadata": {},
   "outputs": [
    {
     "data": {
      "text/plain": [
       "<matplotlib.legend.Legend at 0x7ff941fe8040>"
      ]
     },
     "execution_count": 1590,
     "metadata": {},
     "output_type": "execute_result"
    },
    {
     "data": {
      "image/png": "[encoded data removed]",
      "text/plain": [
       "<Figure size 432x288 with 1 Axes>"
      ]
     },
     "metadata": {
      "needs_background": "light"
     },
     "output_type": "display_data"
    }
   ],
   "source": [
    "rougher_input.hist(bins =100, alpha=0.7, label='1-rougher_input', density=True)\n",
    "rougher_output.hist(bins =100, alpha=0.7, label='2-rougher_output', density=True)\n",
    "primary_cleaner_output.hist(bins =100, alpha=0.7, label='3-primary_cleaner_output', density=True)\n",
    "final_output.hist(bins =100, alpha=0.7, label='4-final_output', density=True)\n",
    "plt.xlabel('концентрация %')\n",
    "plt.title('суммарная концентрация всех веществ')\n",
    "\n",
    "plt.legend()"
   ]
  },
  {
   "cell_type": "markdown",
   "metadata": {},
   "source": [
    "#### Удалим анамалии около нуля."
   ]
  },
  {
   "cell_type": "markdown",
   "metadata": {},
   "source": [
    "Train DataFrame:"
   ]
  },
  {
   "cell_type": "code",
   "execution_count": 1591,
   "metadata": {},
   "outputs": [],
   "source": [
    "df_train = df_train.loc[df_train['rougher.input.feed_ag'] + df_train['rougher.input.feed_pb'] +\n",
    "                        df_train['rougher.input.feed_au'] + df_train['rougher.input.feed_sol'] != 0]"
   ]
  },
  {
   "cell_type": "code",
   "execution_count": 1592,
   "metadata": {},
   "outputs": [],
   "source": [
    "df_train = df_train.loc[df_train['rougher.output.concentrate_ag'] + df_train['rougher.output.concentrate_pb'] +\n",
    "                        df_train['rougher.output.concentrate_sol'] + df_train['rougher.output.concentrate_au'] != 0]"
   ]
  },
  {
   "cell_type": "code",
   "execution_count": 1593,
   "metadata": {},
   "outputs": [],
   "source": [
    "df_train = df_train.loc[df_train['primary_cleaner.output.concentrate_ag'] + df_train['primary_cleaner.output.concentrate_pb'] +\n",
    "                        df_train['primary_cleaner.output.concentrate_sol'] + df_train['primary_cleaner.output.concentrate_au'] != 0]"
   ]
  },
  {
   "cell_type": "code",
   "execution_count": 1594,
   "metadata": {},
   "outputs": [],
   "source": [
    "df_train = df_train.loc[df_train['final.output.concentrate_ag'] + df_train['final.output.concentrate_pb'] +\n",
    "                        df_train['final.output.concentrate_sol'] + df_train['final.output.concentrate_au'] != 0]"
   ]
  },
  {
   "cell_type": "markdown",
   "metadata": {},
   "source": [
    "Test DataFrame:"
   ]
  },
  {
   "cell_type": "code",
   "execution_count": 1595,
   "metadata": {},
   "outputs": [],
   "source": [
    "df_test = df_test.loc[df_test['rougher.input.feed_ag'] + df_test['rougher.input.feed_pb'] +\n",
    "                        df_test['rougher.input.feed_au'] + df_test['rougher.input.feed_sol'] != 0]"
   ]
  },
  {
   "cell_type": "markdown",
   "metadata": {},
   "source": [
    "#### Вывод:\n",
    "Суммарная концентрация растет и уменьшается разброс значений."
   ]
  },
  {
   "cell_type": "markdown",
   "metadata": {},
   "source": [
    "## Модель"
   ]
  },
  {
   "cell_type": "markdown",
   "metadata": {},
   "source": [
    "### Функция для вычисления итоговой sMAPE."
   ]
  },
  {
   "cell_type": "code",
   "execution_count": 1597,
   "metadata": {},
   "outputs": [],
   "source": [
    "def smape(target, predict):\n",
    "    target = np.array(target) # выравниваем индексы\n",
    "    predict = np.array(predict) # выравниваем индексы\n",
    "    \n",
    "    smape = abs(target - predict) / ((abs(target) + abs(predict)) / 2) # содаем массив i-результатов\n",
    "            \n",
    "    smape = np.nan_to_num(smape) # заменяем NaN (от деления на 0) на значение 0. Если y_true = y_pred = 0 то и sMAPE = 0.\n",
    "    smape = smape.mean() * 100 # вычисляем среднее\n",
    "    \n",
    "    return smape"
   ]
  },
  {
   "cell_type": "markdown",
   "metadata": {},
   "source": [
    "#### Кастомная функция оценки модели (make_scorer)"
   ]
  },
  {
   "cell_type": "code",
   "execution_count": 1598,
   "metadata": {},
   "outputs": [],
   "source": [
    "smape_scorer = make_scorer(smape)"
   ]
  },
  {
   "cell_type": "markdown",
   "metadata": {},
   "source": [
    "### Обучим разные модели\n",
    "и оценим их качество кросс-валидацией. "
   ]
  },
  {
   "cell_type": "markdown",
   "metadata": {},
   "source": [
    "#### Зададим число блоков кросс-валидации"
   ]
  },
  {
   "cell_type": "code",
   "execution_count": 1599,
   "metadata": {},
   "outputs": [],
   "source": [
    "CV = 5"
   ]
  },
  {
   "cell_type": "markdown",
   "metadata": {},
   "source": [
    "#### sMAPE(rougher) Train"
   ]
  },
  {
   "cell_type": "markdown",
   "metadata": {},
   "source": [
    "##### Rougher: выделим признаки обучающей выборки"
   ]
  },
  {
   "cell_type": "code",
   "execution_count": 1600,
   "metadata": {},
   "outputs": [],
   "source": [
    "features_train_rougher = df_train[['rougher.input.feed_ag',\n",
    "'rougher.input.feed_pb',\n",
    "'rougher.input.feed_rate',\n",
    "'rougher.input.feed_size',\n",
    "'rougher.input.feed_sol',\n",
    "'rougher.input.feed_au',\n",
    "'rougher.input.floatbank10_sulfate',\n",
    "'rougher.input.floatbank10_xanthate',\n",
    "'rougher.input.floatbank11_sulfate',\n",
    "'rougher.input.floatbank11_xanthate',]]"
   ]
  },
  {
   "cell_type": "markdown",
   "metadata": {},
   "source": [
    "##### Rougher: выделим целевой признак обучающей выборки"
   ]
  },
  {
   "cell_type": "code",
   "execution_count": 1601,
   "metadata": {},
   "outputs": [],
   "source": [
    "target_train_rougher = df_train['rougher.output.recovery']"
   ]
  },
  {
   "cell_type": "markdown",
   "metadata": {},
   "source": [
    "##### LinearRegression"
   ]
  },
  {
   "cell_type": "code",
   "execution_count": 1602,
   "metadata": {},
   "outputs": [
    {
     "name": "stdout",
     "output_type": "stream",
     "text": [
      "LinearRegression sMAPE: 6.60\n"
     ]
    }
   ],
   "source": [
    "model = LinearRegression()\n",
    "smape_train_rougher = cross_val_score(model, features_train_rougher, target_train_rougher, scoring=smape_scorer, cv=CV).mean()\n",
    "print(\"LinearRegression sMAPE: {:.2f}\".format(smape_train_rougher))"
   ]
  },
  {
   "cell_type": "markdown",
   "metadata": {},
   "source": [
    "##### DecisionTreeRegressor"
   ]
  },
  {
   "cell_type": "code",
   "execution_count": 1603,
   "metadata": {
    "scrolled": true
   },
   "outputs": [
    {
     "name": "stdout",
     "output_type": "stream",
     "text": [
      "DecisionTreeRegressor sMAPE: 6.72\n",
      "best_depth 3\n",
      "\n",
      "CPU times: user 548 ms, sys: 12.1 ms, total: 560 ms\n",
      "Wall time: 898 ms\n"
     ]
    }
   ],
   "source": [
    "%%time\n",
    "\n",
    "smape_best = 10000\n",
    "best_depth = 0\n",
    "for depth in range (1, 4, 1):\n",
    "    model = DecisionTreeRegressor(random_state=12345, max_depth=depth)# с параметрами random_state=12345 и max_depth=depth\n",
    "    result = cross_val_score(model, features_train_rougher, target_train_rougher, scoring=smape_scorer, cv=CV).mean()\n",
    "    if result < smape_best:\n",
    "        smape_best = result\n",
    "        best_depth = depth\n",
    "\n",
    "print(\"DecisionTreeRegressor sMAPE: {:.2f}\".format(smape_best))\n",
    "print('best_depth', best_depth)\n",
    "print()"
   ]
  },
  {
   "cell_type": "markdown",
   "metadata": {},
   "source": [
    "##### RandomForestRegressor"
   ]
  },
  {
   "cell_type": "code",
   "execution_count": 1604,
   "metadata": {
    "scrolled": true
   },
   "outputs": [
    {
     "name": "stdout",
     "output_type": "stream",
     "text": [
      "RandomForestRegressor sMAPE: 6.80\n",
      "best_est 3\n",
      "best_depth 3\n",
      "\n",
      "CPU times: user 2.07 s, sys: 0 ns, total: 2.07 s\n",
      "Wall time: 2.08 s\n"
     ]
    }
   ],
   "source": [
    "%%time\n",
    "\n",
    "smape_best = 10000\n",
    "best_est = 0\n",
    "best_depth = 0\n",
    "for est in range(1, 4, 1): #подбор гиперпараметра n_estimators\n",
    "    for depth in range (1, 4, 1): #подбор гиперпараметра max_depth\n",
    "        model = RandomForestRegressor(random_state=12345, n_estimators=est,\n",
    "                max_depth=depth)# модель RandomForestRegressor\n",
    "        result = cross_val_score(model, features_train_rougher, target_train_rougher, scoring=smape_scorer, cv=CV).mean()\n",
    "        if result < smape_best:\n",
    "            smape_best = result\n",
    "            best_est = est\n",
    "            best_depth = depth\n",
    "\n",
    "print(\"RandomForestRegressor sMAPE: {:.2f}\".format(smape_best))\n",
    "print('best_est', best_est)\n",
    "print('best_depth', best_depth)\n",
    "print()"
   ]
  },
  {
   "cell_type": "markdown",
   "metadata": {},
   "source": [
    "##### Вывод sMAPE(rougher) Train\n",
    "\n",
    "Наименьшую ошибку показывает модель model **`LinearRegression`** sMAPE: 6.60."
   ]
  },
  {
   "cell_type": "markdown",
   "metadata": {},
   "source": [
    "#### sMAPE(final) Train"
   ]
  },
  {
   "cell_type": "markdown",
   "metadata": {},
   "source": [
    "##### Final: выделим признаки обучающей выборки"
   ]
  },
  {
   "cell_type": "code",
   "execution_count": 1605,
   "metadata": {},
   "outputs": [],
   "source": [
    "features_train_final = df_train[['secondary_cleaner.state.floatbank2_a_air',\n",
    "'secondary_cleaner.state.floatbank2_a_level',\n",
    "'secondary_cleaner.state.floatbank2_b_air',\n",
    "'secondary_cleaner.state.floatbank2_b_level',\n",
    "'secondary_cleaner.state.floatbank3_a_air',\n",
    "'secondary_cleaner.state.floatbank3_a_level',\n",
    "'secondary_cleaner.state.floatbank3_b_air',\n",
    "'secondary_cleaner.state.floatbank3_b_level',\n",
    "'secondary_cleaner.state.floatbank4_a_air',\n",
    "'secondary_cleaner.state.floatbank4_a_level',\n",
    "'secondary_cleaner.state.floatbank4_b_air',\n",
    "'secondary_cleaner.state.floatbank4_b_level',\n",
    "'secondary_cleaner.state.floatbank5_a_air',\n",
    "'secondary_cleaner.state.floatbank5_a_level',\n",
    "'secondary_cleaner.state.floatbank5_b_air',\n",
    "'secondary_cleaner.state.floatbank5_b_level',\n",
    "'secondary_cleaner.state.floatbank6_a_air',\n",
    "'secondary_cleaner.state.floatbank6_a_level']]"
   ]
  },
  {
   "cell_type": "markdown",
   "metadata": {},
   "source": [
    "##### Final: выделим целевой признак обучающей выборки"
   ]
  },
  {
   "cell_type": "code",
   "execution_count": 1606,
   "metadata": {},
   "outputs": [],
   "source": [
    "target_train_final = df_train['final.output.recovery']"
   ]
  },
  {
   "cell_type": "markdown",
   "metadata": {},
   "source": [
    "##### LinearRegression"
   ]
  },
  {
   "cell_type": "code",
   "execution_count": 1607,
   "metadata": {},
   "outputs": [
    {
     "name": "stdout",
     "output_type": "stream",
     "text": [
      "LinearRegression sMAPE: 10.13\n"
     ]
    }
   ],
   "source": [
    "model = LinearRegression()\n",
    "smape_train_final = cross_val_score(model, features_train_final, target_train_final, scoring=smape_scorer, cv=CV).mean()\n",
    "print(\"LinearRegression sMAPE: {:.2f}\".format(smape_train_final))"
   ]
  },
  {
   "cell_type": "markdown",
   "metadata": {},
   "source": [
    "##### DecisionTreeRegressor"
   ]
  },
  {
   "cell_type": "code",
   "execution_count": 1608,
   "metadata": {},
   "outputs": [
    {
     "name": "stdout",
     "output_type": "stream",
     "text": [
      "DecisionTreeRegressor sMAPE: 10.60\n",
      "best_depth 1\n",
      "\n",
      "CPU times: user 960 ms, sys: 20.1 ms, total: 980 ms\n",
      "Wall time: 992 ms\n"
     ]
    }
   ],
   "source": [
    "%%time\n",
    "\n",
    "smape_best = 10000\n",
    "best_depth = 0\n",
    "for depth in range (1, 4, 1):\n",
    "    model = DecisionTreeRegressor(random_state=12345, max_depth=depth)# с параметрами random_state=12345 и max_depth=depth\n",
    "    result = cross_val_score(model, features_train_final, target_train_final, scoring=smape_scorer, cv=CV).mean()\n",
    "    if result < smape_best:\n",
    "        smape_best = result\n",
    "        best_depth = depth\n",
    "\n",
    "print(\"DecisionTreeRegressor sMAPE: {:.2f}\".format(smape_best))\n",
    "print('best_depth', best_depth)\n",
    "print()"
   ]
  },
  {
   "cell_type": "markdown",
   "metadata": {},
   "source": [
    "##### RandomForestRegressor"
   ]
  },
  {
   "cell_type": "code",
   "execution_count": 1609,
   "metadata": {
    "scrolled": true
   },
   "outputs": [
    {
     "name": "stdout",
     "output_type": "stream",
     "text": [
      "RandomForestRegressor sMAPE: 10.51\n",
      "best_est 3\n",
      "best_depth 1\n",
      "\n",
      "CPU times: user 3.28 s, sys: 7.93 ms, total: 3.29 s\n",
      "Wall time: 3.3 s\n"
     ]
    }
   ],
   "source": [
    "%%time\n",
    "\n",
    "smape_best = 10000\n",
    "best_est = 0\n",
    "best_depth = 0\n",
    "for est in range(1, 4, 1):\n",
    "    for depth in range (1, 4, 1):\n",
    "        model = RandomForestRegressor(random_state=12345, n_estimators=est,\n",
    "                max_depth=depth)# инициализируем модель RandomForestRegressor с параметрами random_state=12345, n_estimators=est и max_depth=depth\n",
    "        result = cross_val_score(model, features_train_final, target_train_final, scoring=smape_scorer, cv=CV).mean()\n",
    "        if result < smape_best:\n",
    "            smape_best = result\n",
    "            best_est = est\n",
    "            best_depth = depth\n",
    "\n",
    "print(\"RandomForestRegressor sMAPE: {:.2f}\".format(smape_best))\n",
    "print('best_est', best_est)\n",
    "print('best_depth', best_depth)\n",
    "print()"
   ]
  },
  {
   "cell_type": "markdown",
   "metadata": {},
   "source": [
    "##### Вывод sMAPE(final) Train\n",
    "\n",
    "Наименьшую ошибку показывает модель model **`LinearRegression`** sMAPE: `10.13` ."
   ]
  },
  {
   "cell_type": "markdown",
   "metadata": {},
   "source": [
    "#### Итоговый sMAPE Train:"
   ]
  },
  {
   "cell_type": "code",
   "execution_count": 1611,
   "metadata": {
    "scrolled": true
   },
   "outputs": [
    {
     "name": "stdout",
     "output_type": "stream",
     "text": [
      "Итоговый sMAPE train: 9.25\n"
     ]
    }
   ],
   "source": [
    "total_smape_train = 0.25 * smape_train_rougher + 0.75 * smape_train_final\n",
    "\n",
    "print(\"Итоговый sMAPE train: {:.2f}\".format(total_smape_train))"
   ]
  },
  {
   "cell_type": "markdown",
   "metadata": {},
   "source": [
    "### Возьмем лучшую модель и проверим её на тестовой выборке. "
   ]
  },
  {
   "cell_type": "markdown",
   "metadata": {},
   "source": [
    "Лучшей моделью на обоих этапах выбрана **`LinearRegression`**."
   ]
  },
  {
   "cell_type": "markdown",
   "metadata": {},
   "source": [
    "#### sMAPE(rougher) Test"
   ]
  },
  {
   "cell_type": "markdown",
   "metadata": {},
   "source": [
    "##### Rougher: выделим признаки тестовой выборки"
   ]
  },
  {
   "cell_type": "code",
   "execution_count": 1612,
   "metadata": {},
   "outputs": [],
   "source": [
    "features_test_rougher = df_test[['rougher.input.feed_ag',\n",
    "'rougher.input.feed_pb',\n",
    "'rougher.input.feed_rate',\n",
    "'rougher.input.feed_size',\n",
    "'rougher.input.feed_sol',\n",
    "'rougher.input.feed_au',\n",
    "'rougher.input.floatbank10_sulfate',\n",
    "'rougher.input.floatbank10_xanthate',\n",
    "'rougher.input.floatbank11_sulfate',\n",
    "'rougher.input.floatbank11_xanthate',]]"
   ]
  },
  {
   "cell_type": "markdown",
   "metadata": {},
   "source": [
    "##### Rougher: выделим целевой признак тестовой выборки"
   ]
  },
  {
   "cell_type": "code",
   "execution_count": 1613,
   "metadata": {},
   "outputs": [],
   "source": [
    "target_test_rougher = df_test['rougher.output.recovery']"
   ]
  },
  {
   "cell_type": "markdown",
   "metadata": {},
   "source": [
    "##### Расчет sMAPE на этапе rougher для тестовой выборки по лучшей модели "
   ]
  },
  {
   "cell_type": "code",
   "execution_count": 1614,
   "metadata": {},
   "outputs": [
    {
     "name": "stdout",
     "output_type": "stream",
     "text": [
      "sMAPE(rougher) Test: 7.94\n"
     ]
    }
   ],
   "source": [
    "model = LinearRegression() # инициализируем модель LinearRegression\n",
    "\n",
    "model.fit(features_train_rougher, target_train_rougher) # обучим модель на тренировочной выборке\n",
    "predictions_test_rougher = model.predict(features_test_rougher) # предсказания модели на валидационной выборке\n",
    "\n",
    "smape_test_rougher = smape(target_test_rougher, predictions_test_rougher)\n",
    "\n",
    "print(\"sMAPE(rougher) Test: {:.2f}\".format(smape_test_rougher))"
   ]
  },
  {
   "cell_type": "markdown",
   "metadata": {},
   "source": [
    "#### sMAPE(final) Test"
   ]
  },
  {
   "cell_type": "markdown",
   "metadata": {},
   "source": [
    "##### Final: выделим признаки тестовой выборки"
   ]
  },
  {
   "cell_type": "code",
   "execution_count": 1615,
   "metadata": {},
   "outputs": [],
   "source": [
    "features_test_final = df_test[['secondary_cleaner.state.floatbank2_a_air',\n",
    "'secondary_cleaner.state.floatbank2_a_level',\n",
    "'secondary_cleaner.state.floatbank2_b_air',\n",
    "'secondary_cleaner.state.floatbank2_b_level',\n",
    "'secondary_cleaner.state.floatbank3_a_air',\n",
    "'secondary_cleaner.state.floatbank3_a_level',\n",
    "'secondary_cleaner.state.floatbank3_b_air',\n",
    "'secondary_cleaner.state.floatbank3_b_level',\n",
    "'secondary_cleaner.state.floatbank4_a_air',\n",
    "'secondary_cleaner.state.floatbank4_a_level',\n",
    "'secondary_cleaner.state.floatbank4_b_air',\n",
    "'secondary_cleaner.state.floatbank4_b_level',\n",
    "'secondary_cleaner.state.floatbank5_a_air',\n",
    "'secondary_cleaner.state.floatbank5_a_level',\n",
    "'secondary_cleaner.state.floatbank5_b_air',\n",
    "'secondary_cleaner.state.floatbank5_b_level',\n",
    "'secondary_cleaner.state.floatbank6_a_air',\n",
    "'secondary_cleaner.state.floatbank6_a_level']]"
   ]
  },
  {
   "cell_type": "code",
   "execution_count": 1616,
   "metadata": {},
   "outputs": [],
   "source": [
    "target_test_final = df_test['final.output.recovery']"
   ]
  },
  {
   "cell_type": "markdown",
   "metadata": {},
   "source": [
    "##### Расчет sMAPE на этапе final для тестовой выборки по лучшей модели "
   ]
  },
  {
   "cell_type": "code",
   "execution_count": 1617,
   "metadata": {},
   "outputs": [
    {
     "name": "stdout",
     "output_type": "stream",
     "text": [
      "sMAPE(rougher): 12.16\n"
     ]
    }
   ],
   "source": [
    "model = LinearRegression() # инициализируем модель LinearRegression\n",
    "model.fit(features_train_final, target_train_final) # обучим модель на тренировочной выборке\n",
    "predictions_test_final = model.predict(features_test_final) # предсказания модели на валидационной выборке\n",
    "\n",
    "smape_test_final = smape(target_test_final, predictions_test_final)\n",
    "\n",
    "print(\"sMAPE(rougher): {:.2f}\".format(smape_test_final))"
   ]
  },
  {
   "cell_type": "markdown",
   "metadata": {},
   "source": [
    "#### Итоговый sMAPE Test:"
   ]
  },
  {
   "cell_type": "code",
   "execution_count": 1619,
   "metadata": {
    "scrolled": true
   },
   "outputs": [
    {
     "name": "stdout",
     "output_type": "stream",
     "text": [
      "Итоговый sMAPE test: 11.11\n"
     ]
    }
   ],
   "source": [
    "total_smape_test = 0.25 * smape_test_rougher + 0.75 * smape_test_final\n",
    "\n",
    "print(\"Итоговый sMAPE test: {:.2f}\".format(total_smape_test))"
   ]
  },
  {
   "cell_type": "markdown",
   "metadata": {},
   "source": [
    "### Выводы.\n",
    "\n",
    "Подготовлен прототип модели машинного обучения. Модель предсказывает коэффициент восстановления золота из золотосодержащей руды.\n",
    "\n",
    "Методом кросс-валидации на обучающей выборке было протестировано 3 модели регрессии на 2-х этапах. Лучший результат показала **`линейная регрессия`**.\n",
    "\n",
    "\n",
    "Ошибка предсказания **`Итоговое sMAPE`** «симметричное среднее абсолютное процентное отклонение» составляет : **`11.11 % `**.\n",
    "\n",
    "Модель поможет оптимизировать производство, чтобы не запускать предприятие с убыточными характеристиками."
   ]
  }
 ],
 "metadata": {
  "ExecuteTimeLog": [
   {
    "duration": 18,
    "start_time": "2022-03-22T07:39:51.909Z"
   },
   {
    "duration": 2,
    "start_time": "2022-03-22T07:40:41.227Z"
   },
   {
    "duration": 5,
    "start_time": "2022-03-22T07:40:42.211Z"
   },
   {
    "duration": 4,
    "start_time": "2022-03-22T07:41:17.370Z"
   },
   {
    "duration": 5,
    "start_time": "2022-03-22T07:41:28.416Z"
   },
   {
    "duration": 5,
    "start_time": "2022-03-22T07:41:38.275Z"
   },
   {
    "duration": 4,
    "start_time": "2022-03-22T08:15:05.012Z"
   },
   {
    "duration": 5,
    "start_time": "2022-03-22T08:16:49.566Z"
   },
   {
    "duration": 4,
    "start_time": "2022-03-22T08:17:32.018Z"
   },
   {
    "duration": 4,
    "start_time": "2022-03-22T08:18:19.412Z"
   },
   {
    "duration": 4,
    "start_time": "2022-03-22T08:18:46.738Z"
   },
   {
    "duration": 4,
    "start_time": "2022-03-22T08:19:21.655Z"
   },
   {
    "duration": 4,
    "start_time": "2022-03-22T08:20:10.194Z"
   },
   {
    "duration": 4,
    "start_time": "2022-03-22T08:21:16.199Z"
   },
   {
    "duration": 4,
    "start_time": "2022-03-22T08:24:42.602Z"
   },
   {
    "duration": 4,
    "start_time": "2022-03-22T08:24:52.930Z"
   },
   {
    "duration": 7,
    "start_time": "2022-03-23T06:07:13.143Z"
   },
   {
    "duration": 9,
    "start_time": "2022-03-23T06:07:13.152Z"
   },
   {
    "duration": 6,
    "start_time": "2022-03-23T06:07:13.162Z"
   },
   {
    "duration": 5,
    "start_time": "2022-03-23T06:07:13.169Z"
   },
   {
    "duration": 4,
    "start_time": "2022-03-23T06:07:13.176Z"
   },
   {
    "duration": 7,
    "start_time": "2022-03-23T06:07:13.181Z"
   },
   {
    "duration": 4,
    "start_time": "2022-03-23T06:07:13.189Z"
   },
   {
    "duration": 5,
    "start_time": "2022-03-23T06:07:13.195Z"
   },
   {
    "duration": 8,
    "start_time": "2022-03-23T06:07:13.202Z"
   },
   {
    "duration": 8,
    "start_time": "2022-03-23T06:07:13.211Z"
   },
   {
    "duration": 8,
    "start_time": "2022-03-23T06:07:13.220Z"
   },
   {
    "duration": 411,
    "start_time": "2022-03-23T06:13:10.294Z"
   },
   {
    "duration": 1756,
    "start_time": "2022-03-23T07:35:56.924Z"
   },
   {
    "duration": 654,
    "start_time": "2022-03-23T07:59:10.752Z"
   },
   {
    "duration": 24,
    "start_time": "2022-03-23T08:06:31.062Z"
   },
   {
    "duration": 3,
    "start_time": "2022-03-23T08:14:22.407Z"
   },
   {
    "duration": 2,
    "start_time": "2022-03-23T08:14:25.817Z"
   },
   {
    "duration": 7,
    "start_time": "2022-03-23T08:14:25.821Z"
   },
   {
    "duration": 4,
    "start_time": "2022-03-23T08:14:25.830Z"
   },
   {
    "duration": 4,
    "start_time": "2022-03-23T08:14:25.836Z"
   },
   {
    "duration": 6,
    "start_time": "2022-03-23T08:14:25.842Z"
   },
   {
    "duration": 7,
    "start_time": "2022-03-23T08:14:25.849Z"
   },
   {
    "duration": 14,
    "start_time": "2022-03-23T08:14:25.857Z"
   },
   {
    "duration": 8,
    "start_time": "2022-03-23T08:14:25.872Z"
   },
   {
    "duration": 20,
    "start_time": "2022-03-23T08:14:25.882Z"
   },
   {
    "duration": 3,
    "start_time": "2022-03-23T08:14:25.904Z"
   },
   {
    "duration": 9,
    "start_time": "2022-03-23T08:14:25.908Z"
   },
   {
    "duration": 8,
    "start_time": "2022-03-23T08:14:25.919Z"
   },
   {
    "duration": 7,
    "start_time": "2022-03-23T08:14:25.929Z"
   },
   {
    "duration": 627,
    "start_time": "2022-03-23T08:14:25.937Z"
   },
   {
    "duration": 13,
    "start_time": "2022-03-23T08:14:26.566Z"
   },
   {
    "duration": 12,
    "start_time": "2022-03-23T08:19:03.664Z"
   },
   {
    "duration": 11,
    "start_time": "2022-03-23T08:19:39.174Z"
   },
   {
    "duration": 18,
    "start_time": "2022-03-23T08:20:34.150Z"
   },
   {
    "duration": 78,
    "start_time": "2022-03-23T15:00:19.956Z"
   },
   {
    "duration": 4,
    "start_time": "2022-03-23T15:00:23.946Z"
   },
   {
    "duration": 19,
    "start_time": "2022-03-23T15:00:23.952Z"
   },
   {
    "duration": 10,
    "start_time": "2022-03-23T15:00:23.973Z"
   },
   {
    "duration": 17,
    "start_time": "2022-03-23T15:00:23.986Z"
   },
   {
    "duration": 39,
    "start_time": "2022-03-23T15:00:24.006Z"
   },
   {
    "duration": 12,
    "start_time": "2022-03-23T15:00:24.049Z"
   },
   {
    "duration": 8,
    "start_time": "2022-03-23T15:00:24.064Z"
   },
   {
    "duration": 11,
    "start_time": "2022-03-23T15:00:24.074Z"
   },
   {
    "duration": 7,
    "start_time": "2022-03-23T15:00:24.088Z"
   },
   {
    "duration": 47,
    "start_time": "2022-03-23T15:00:24.098Z"
   },
   {
    "duration": 5,
    "start_time": "2022-03-23T15:00:24.147Z"
   },
   {
    "duration": 2319,
    "start_time": "2022-03-23T15:00:24.154Z"
   },
   {
    "duration": 4,
    "start_time": "2022-03-23T15:00:26.476Z"
   },
   {
    "duration": 778,
    "start_time": "2022-03-23T15:00:26.482Z"
   },
   {
    "duration": 45,
    "start_time": "2022-03-23T15:00:27.262Z"
   },
   {
    "duration": 46,
    "start_time": "2022-03-23T15:00:27.309Z"
   },
   {
    "duration": 17,
    "start_time": "2022-03-23T15:00:54.445Z"
   },
   {
    "duration": 15,
    "start_time": "2022-03-23T15:00:58.919Z"
   },
   {
    "duration": 16,
    "start_time": "2022-03-23T15:01:41.425Z"
   },
   {
    "duration": 105,
    "start_time": "2022-03-23T15:12:41.176Z"
   },
   {
    "duration": 8,
    "start_time": "2022-03-23T15:12:52.821Z"
   },
   {
    "duration": 4,
    "start_time": "2022-03-23T15:18:57.428Z"
   },
   {
    "duration": 4,
    "start_time": "2022-03-23T15:24:43.113Z"
   },
   {
    "duration": 11,
    "start_time": "2022-03-23T15:24:51.348Z"
   },
   {
    "duration": 10,
    "start_time": "2022-03-23T15:24:57.379Z"
   },
   {
    "duration": 14,
    "start_time": "2022-03-23T15:25:50.560Z"
   },
   {
    "duration": 7,
    "start_time": "2022-03-23T15:25:58.525Z"
   },
   {
    "duration": 34,
    "start_time": "2022-03-23T15:26:31.261Z"
   },
   {
    "duration": 6,
    "start_time": "2022-03-23T16:47:57.411Z"
   },
   {
    "duration": 6,
    "start_time": "2022-03-23T16:48:45.605Z"
   },
   {
    "duration": 7,
    "start_time": "2022-03-23T16:53:07.873Z"
   },
   {
    "duration": 5,
    "start_time": "2022-03-23T16:56:39.859Z"
   },
   {
    "duration": 3,
    "start_time": "2022-03-23T16:57:07.934Z"
   },
   {
    "duration": 26,
    "start_time": "2022-03-23T16:57:07.940Z"
   },
   {
    "duration": 28,
    "start_time": "2022-03-23T16:57:07.970Z"
   },
   {
    "duration": 36,
    "start_time": "2022-03-23T16:57:08.001Z"
   },
   {
    "duration": 20,
    "start_time": "2022-03-23T16:57:08.042Z"
   },
   {
    "duration": 16,
    "start_time": "2022-03-23T16:57:08.065Z"
   },
   {
    "duration": 24,
    "start_time": "2022-03-23T16:57:08.083Z"
   },
   {
    "duration": 16,
    "start_time": "2022-03-23T16:57:08.109Z"
   },
   {
    "duration": 23,
    "start_time": "2022-03-23T16:57:08.128Z"
   },
   {
    "duration": 35,
    "start_time": "2022-03-23T16:57:08.154Z"
   },
   {
    "duration": 19,
    "start_time": "2022-03-23T16:57:08.191Z"
   },
   {
    "duration": 30,
    "start_time": "2022-03-23T16:57:08.212Z"
   },
   {
    "duration": 24,
    "start_time": "2022-03-23T16:57:08.245Z"
   },
   {
    "duration": 887,
    "start_time": "2022-03-23T16:57:08.274Z"
   },
   {
    "duration": 35,
    "start_time": "2022-03-23T16:57:09.163Z"
   },
   {
    "duration": 50,
    "start_time": "2022-03-23T16:57:09.200Z"
   },
   {
    "duration": 7,
    "start_time": "2022-03-23T16:57:09.255Z"
   },
   {
    "duration": 16,
    "start_time": "2022-03-23T16:57:09.265Z"
   },
   {
    "duration": 23,
    "start_time": "2022-03-23T16:57:09.283Z"
   },
   {
    "duration": 16,
    "start_time": "2022-03-23T16:57:09.308Z"
   },
   {
    "duration": 18,
    "start_time": "2022-03-23T16:57:09.326Z"
   },
   {
    "duration": 7,
    "start_time": "2022-03-23T16:57:44.595Z"
   },
   {
    "duration": 4,
    "start_time": "2022-03-23T16:57:51.151Z"
   },
   {
    "duration": 4,
    "start_time": "2022-03-23T16:58:14.885Z"
   },
   {
    "duration": 10,
    "start_time": "2022-03-23T16:58:14.892Z"
   },
   {
    "duration": 8,
    "start_time": "2022-03-23T16:58:14.905Z"
   },
   {
    "duration": 6,
    "start_time": "2022-03-23T16:58:14.918Z"
   },
   {
    "duration": 18,
    "start_time": "2022-03-23T16:58:14.926Z"
   },
   {
    "duration": 10,
    "start_time": "2022-03-23T16:58:14.947Z"
   },
   {
    "duration": 14,
    "start_time": "2022-03-23T16:58:14.960Z"
   },
   {
    "duration": 9,
    "start_time": "2022-03-23T16:58:14.976Z"
   },
   {
    "duration": 7,
    "start_time": "2022-03-23T16:58:14.987Z"
   },
   {
    "duration": 48,
    "start_time": "2022-03-23T16:58:14.997Z"
   },
   {
    "duration": 12,
    "start_time": "2022-03-23T16:58:15.047Z"
   },
   {
    "duration": 19,
    "start_time": "2022-03-23T16:58:15.061Z"
   },
   {
    "duration": 13,
    "start_time": "2022-03-23T16:58:15.083Z"
   },
   {
    "duration": 907,
    "start_time": "2022-03-23T16:58:15.097Z"
   },
   {
    "duration": 45,
    "start_time": "2022-03-23T16:58:16.006Z"
   },
   {
    "duration": 29,
    "start_time": "2022-03-23T16:58:16.054Z"
   },
   {
    "duration": 7,
    "start_time": "2022-03-23T16:58:16.085Z"
   },
   {
    "duration": 6,
    "start_time": "2022-03-23T16:58:16.095Z"
   },
   {
    "duration": 41,
    "start_time": "2022-03-23T16:58:16.104Z"
   },
   {
    "duration": 27,
    "start_time": "2022-03-23T16:58:16.148Z"
   },
   {
    "duration": 9,
    "start_time": "2022-03-23T16:58:16.178Z"
   },
   {
    "duration": 4,
    "start_time": "2022-03-23T17:02:36.246Z"
   },
   {
    "duration": 20,
    "start_time": "2022-03-23T17:02:36.252Z"
   },
   {
    "duration": 13,
    "start_time": "2022-03-23T17:02:36.276Z"
   },
   {
    "duration": 28,
    "start_time": "2022-03-23T17:02:36.292Z"
   },
   {
    "duration": 28,
    "start_time": "2022-03-23T17:02:36.324Z"
   },
   {
    "duration": 21,
    "start_time": "2022-03-23T17:02:36.355Z"
   },
   {
    "duration": 23,
    "start_time": "2022-03-23T17:02:36.379Z"
   },
   {
    "duration": 17,
    "start_time": "2022-03-23T17:02:36.404Z"
   },
   {
    "duration": 27,
    "start_time": "2022-03-23T17:02:36.423Z"
   },
   {
    "duration": 14,
    "start_time": "2022-03-23T17:02:36.452Z"
   },
   {
    "duration": 15,
    "start_time": "2022-03-23T17:02:36.470Z"
   },
   {
    "duration": 16,
    "start_time": "2022-03-23T17:02:36.487Z"
   },
   {
    "duration": 24,
    "start_time": "2022-03-23T17:02:36.505Z"
   },
   {
    "duration": 1141,
    "start_time": "2022-03-23T17:02:36.532Z"
   },
   {
    "duration": 40,
    "start_time": "2022-03-23T17:02:37.676Z"
   },
   {
    "duration": 39,
    "start_time": "2022-03-23T17:02:37.719Z"
   },
   {
    "duration": 6,
    "start_time": "2022-03-23T17:02:37.760Z"
   },
   {
    "duration": 8,
    "start_time": "2022-03-23T17:02:37.769Z"
   },
   {
    "duration": 16,
    "start_time": "2022-03-23T17:02:37.779Z"
   },
   {
    "duration": 16,
    "start_time": "2022-03-23T17:02:37.798Z"
   },
   {
    "duration": 20,
    "start_time": "2022-03-23T17:02:37.817Z"
   },
   {
    "duration": 24,
    "start_time": "2022-03-23T17:09:01.262Z"
   },
   {
    "duration": 7,
    "start_time": "2022-03-23T18:24:28.242Z"
   },
   {
    "duration": 8,
    "start_time": "2022-03-23T18:24:54.205Z"
   },
   {
    "duration": 13,
    "start_time": "2022-03-23T18:55:46.807Z"
   },
   {
    "duration": 3,
    "start_time": "2022-03-23T18:56:11.594Z"
   },
   {
    "duration": 9,
    "start_time": "2022-03-23T18:56:11.600Z"
   },
   {
    "duration": 7,
    "start_time": "2022-03-23T18:56:11.611Z"
   },
   {
    "duration": 7,
    "start_time": "2022-03-23T18:56:11.621Z"
   },
   {
    "duration": 6,
    "start_time": "2022-03-23T18:56:11.630Z"
   },
   {
    "duration": 8,
    "start_time": "2022-03-23T18:56:11.638Z"
   },
   {
    "duration": 5,
    "start_time": "2022-03-23T18:56:11.648Z"
   },
   {
    "duration": 6,
    "start_time": "2022-03-23T18:56:11.655Z"
   },
   {
    "duration": 6,
    "start_time": "2022-03-23T18:56:11.664Z"
   },
   {
    "duration": 15,
    "start_time": "2022-03-23T18:56:11.672Z"
   },
   {
    "duration": 54,
    "start_time": "2022-03-23T18:56:11.690Z"
   },
   {
    "duration": 8,
    "start_time": "2022-03-23T18:56:11.747Z"
   },
   {
    "duration": 6,
    "start_time": "2022-03-23T18:56:11.758Z"
   },
   {
    "duration": 8672,
    "start_time": "2022-03-23T18:56:11.768Z"
   },
   {
    "duration": 25,
    "start_time": "2022-03-23T18:56:20.442Z"
   },
   {
    "duration": 37,
    "start_time": "2022-03-23T18:56:20.469Z"
   },
   {
    "duration": 5,
    "start_time": "2022-03-23T18:56:20.508Z"
   },
   {
    "duration": 26,
    "start_time": "2022-03-23T18:56:20.516Z"
   },
   {
    "duration": 5,
    "start_time": "2022-03-23T18:56:20.546Z"
   },
   {
    "duration": 6,
    "start_time": "2022-03-23T18:56:20.554Z"
   },
   {
    "duration": 11,
    "start_time": "2022-03-23T18:56:20.562Z"
   },
   {
    "duration": 7,
    "start_time": "2022-03-23T18:59:48.022Z"
   },
   {
    "duration": 7,
    "start_time": "2022-03-23T19:00:06.289Z"
   },
   {
    "duration": 5,
    "start_time": "2022-03-23T19:00:26.561Z"
   },
   {
    "duration": 8,
    "start_time": "2022-03-23T19:00:43.689Z"
   },
   {
    "duration": 25,
    "start_time": "2022-03-23T19:20:40.073Z"
   },
   {
    "duration": 25,
    "start_time": "2022-03-23T19:20:52.901Z"
   },
   {
    "duration": 28,
    "start_time": "2022-03-23T19:21:23.035Z"
   },
   {
    "duration": 14,
    "start_time": "2022-03-23T19:49:04.168Z"
   },
   {
    "duration": 7,
    "start_time": "2022-03-23T19:49:11.635Z"
   },
   {
    "duration": 8,
    "start_time": "2022-03-23T19:49:24.248Z"
   },
   {
    "duration": 10,
    "start_time": "2022-03-23T19:49:39.633Z"
   },
   {
    "duration": 8,
    "start_time": "2022-03-23T19:49:53.155Z"
   },
   {
    "duration": 6,
    "start_time": "2022-03-23T20:00:19.954Z"
   },
   {
    "duration": 6,
    "start_time": "2022-03-23T20:00:39.382Z"
   },
   {
    "duration": 5,
    "start_time": "2022-03-23T20:00:40.601Z"
   },
   {
    "duration": 6,
    "start_time": "2022-03-23T20:00:41.791Z"
   },
   {
    "duration": 3340,
    "start_time": "2022-03-23T20:21:18.370Z"
   },
   {
    "duration": 7,
    "start_time": "2022-03-23T20:21:41.195Z"
   },
   {
    "duration": 3289,
    "start_time": "2022-03-23T20:22:13.579Z"
   },
   {
    "duration": 10,
    "start_time": "2022-03-23T20:22:37.296Z"
   },
   {
    "duration": 12,
    "start_time": "2022-03-24T06:08:25.440Z"
   },
   {
    "duration": 18,
    "start_time": "2022-03-24T06:08:25.456Z"
   },
   {
    "duration": 7,
    "start_time": "2022-03-24T06:08:25.476Z"
   },
   {
    "duration": 6,
    "start_time": "2022-03-24T06:08:25.485Z"
   },
   {
    "duration": 6,
    "start_time": "2022-03-24T06:08:25.544Z"
   },
   {
    "duration": 8,
    "start_time": "2022-03-24T06:08:25.553Z"
   },
   {
    "duration": 7,
    "start_time": "2022-03-24T06:08:25.563Z"
   },
   {
    "duration": 7,
    "start_time": "2022-03-24T06:08:25.572Z"
   },
   {
    "duration": 7,
    "start_time": "2022-03-24T06:08:25.581Z"
   },
   {
    "duration": 57,
    "start_time": "2022-03-24T06:08:25.590Z"
   },
   {
    "duration": 7,
    "start_time": "2022-03-24T06:08:25.649Z"
   },
   {
    "duration": 2366,
    "start_time": "2022-03-24T06:08:25.658Z"
   },
   {
    "duration": 4,
    "start_time": "2022-03-24T06:08:28.026Z"
   },
   {
    "duration": 911,
    "start_time": "2022-03-24T06:08:28.034Z"
   },
   {
    "duration": 35,
    "start_time": "2022-03-24T06:08:28.947Z"
   },
   {
    "duration": 28,
    "start_time": "2022-03-24T06:08:28.985Z"
   },
   {
    "duration": 31,
    "start_time": "2022-03-24T06:08:29.015Z"
   },
   {
    "duration": 18,
    "start_time": "2022-03-24T06:08:29.049Z"
   },
   {
    "duration": 11,
    "start_time": "2022-03-24T06:08:29.069Z"
   },
   {
    "duration": 9,
    "start_time": "2022-03-24T06:08:29.083Z"
   },
   {
    "duration": 7,
    "start_time": "2022-03-24T06:08:29.094Z"
   },
   {
    "duration": 40,
    "start_time": "2022-03-24T06:08:29.103Z"
   },
   {
    "duration": 8,
    "start_time": "2022-03-24T06:08:29.146Z"
   },
   {
    "duration": 15,
    "start_time": "2022-03-24T06:08:29.157Z"
   },
   {
    "duration": 5,
    "start_time": "2022-03-24T06:08:29.175Z"
   },
   {
    "duration": 273,
    "start_time": "2022-03-24T06:08:29.182Z"
   },
   {
    "duration": 10,
    "start_time": "2022-03-24T06:10:19.487Z"
   },
   {
    "duration": 11,
    "start_time": "2022-03-24T06:11:39.551Z"
   },
   {
    "duration": 10,
    "start_time": "2022-03-24T06:11:41.897Z"
   },
   {
    "duration": 10,
    "start_time": "2022-03-24T06:11:48.852Z"
   },
   {
    "duration": 242,
    "start_time": "2022-03-24T06:38:43.551Z"
   },
   {
    "duration": 231,
    "start_time": "2022-03-24T06:38:55.725Z"
   },
   {
    "duration": 224,
    "start_time": "2022-03-24T06:39:05.542Z"
   },
   {
    "duration": 231,
    "start_time": "2022-03-24T06:39:10.459Z"
   },
   {
    "duration": 308,
    "start_time": "2022-03-24T06:39:15.398Z"
   },
   {
    "duration": 275,
    "start_time": "2022-03-24T06:39:20.315Z"
   },
   {
    "duration": 454,
    "start_time": "2022-03-24T06:39:38.024Z"
   },
   {
    "duration": 369,
    "start_time": "2022-03-24T06:42:49.524Z"
   },
   {
    "duration": 368,
    "start_time": "2022-03-24T06:42:57.370Z"
   },
   {
    "duration": 381,
    "start_time": "2022-03-24T06:43:07.671Z"
   },
   {
    "duration": 955,
    "start_time": "2022-03-24T06:43:19.505Z"
   },
   {
    "duration": 547,
    "start_time": "2022-03-24T06:43:28.210Z"
   },
   {
    "duration": 750,
    "start_time": "2022-03-24T06:44:21.014Z"
   },
   {
    "duration": 1394,
    "start_time": "2022-03-24T06:44:42.178Z"
   },
   {
    "duration": 8,
    "start_time": "2022-03-24T07:01:48.385Z"
   },
   {
    "duration": 8,
    "start_time": "2022-03-24T07:03:38.568Z"
   },
   {
    "duration": 8,
    "start_time": "2022-03-24T07:06:09.779Z"
   },
   {
    "duration": 9,
    "start_time": "2022-03-24T07:07:17.084Z"
   },
   {
    "duration": 11,
    "start_time": "2022-03-24T15:39:45.892Z"
   },
   {
    "duration": 12,
    "start_time": "2022-03-24T15:39:45.905Z"
   },
   {
    "duration": 7,
    "start_time": "2022-03-24T15:39:45.919Z"
   },
   {
    "duration": 8,
    "start_time": "2022-03-24T15:39:45.928Z"
   },
   {
    "duration": 7,
    "start_time": "2022-03-24T15:39:45.938Z"
   },
   {
    "duration": 8,
    "start_time": "2022-03-24T15:39:45.947Z"
   },
   {
    "duration": 45,
    "start_time": "2022-03-24T15:39:45.957Z"
   },
   {
    "duration": 5,
    "start_time": "2022-03-24T15:39:46.004Z"
   },
   {
    "duration": 9,
    "start_time": "2022-03-24T15:39:46.011Z"
   },
   {
    "duration": 11,
    "start_time": "2022-03-24T15:39:46.023Z"
   },
   {
    "duration": 9,
    "start_time": "2022-03-24T15:39:46.036Z"
   },
   {
    "duration": 1784,
    "start_time": "2022-03-24T15:39:46.047Z"
   },
   {
    "duration": 3,
    "start_time": "2022-03-24T15:39:47.833Z"
   },
   {
    "duration": 672,
    "start_time": "2022-03-24T15:39:47.838Z"
   },
   {
    "duration": 18,
    "start_time": "2022-03-24T15:39:48.512Z"
   },
   {
    "duration": 17,
    "start_time": "2022-03-24T15:39:48.533Z"
   },
   {
    "duration": 5,
    "start_time": "2022-03-24T15:39:48.552Z"
   },
   {
    "duration": 8,
    "start_time": "2022-03-24T15:39:48.559Z"
   },
   {
    "duration": 36,
    "start_time": "2022-03-24T15:39:48.568Z"
   },
   {
    "duration": 10,
    "start_time": "2022-03-24T15:39:48.606Z"
   },
   {
    "duration": 6,
    "start_time": "2022-03-24T15:39:48.618Z"
   },
   {
    "duration": 13,
    "start_time": "2022-03-24T15:39:48.626Z"
   },
   {
    "duration": 11,
    "start_time": "2022-03-24T15:39:48.641Z"
   },
   {
    "duration": 13,
    "start_time": "2022-03-24T15:39:48.654Z"
   },
   {
    "duration": 11,
    "start_time": "2022-03-24T15:39:48.669Z"
   },
   {
    "duration": 19,
    "start_time": "2022-03-24T15:39:48.682Z"
   },
   {
    "duration": 9,
    "start_time": "2022-03-24T15:39:48.702Z"
   },
   {
    "duration": 17,
    "start_time": "2022-03-24T15:39:48.715Z"
   },
   {
    "duration": 9,
    "start_time": "2022-03-24T15:39:48.734Z"
   },
   {
    "duration": 861,
    "start_time": "2022-03-24T15:39:48.745Z"
   },
   {
    "duration": 7,
    "start_time": "2022-03-24T15:39:49.609Z"
   },
   {
    "duration": 8,
    "start_time": "2022-03-24T15:39:49.618Z"
   },
   {
    "duration": 7,
    "start_time": "2022-03-24T15:39:49.628Z"
   },
   {
    "duration": 18,
    "start_time": "2022-03-24T15:39:49.637Z"
   },
   {
    "duration": 7,
    "start_time": "2022-03-24T15:57:42.258Z"
   },
   {
    "duration": 6,
    "start_time": "2022-03-24T16:00:06.650Z"
   },
   {
    "duration": 208,
    "start_time": "2022-03-24T16:01:14.195Z"
   },
   {
    "duration": 117,
    "start_time": "2022-03-24T16:02:49.324Z"
   },
   {
    "duration": 146,
    "start_time": "2022-03-24T16:03:02.396Z"
   },
   {
    "duration": 143,
    "start_time": "2022-03-24T16:03:13.179Z"
   },
   {
    "duration": 143,
    "start_time": "2022-03-24T16:03:36.251Z"
   },
   {
    "duration": 158,
    "start_time": "2022-03-24T16:12:12.985Z"
   },
   {
    "duration": 165,
    "start_time": "2022-03-24T16:14:29.783Z"
   },
   {
    "duration": 163,
    "start_time": "2022-03-24T16:17:56.960Z"
   },
   {
    "duration": 175,
    "start_time": "2022-03-24T16:34:04.313Z"
   },
   {
    "duration": 401,
    "start_time": "2022-03-24T16:35:10.478Z"
   },
   {
    "duration": 240,
    "start_time": "2022-03-24T16:35:25.526Z"
   },
   {
    "duration": 143,
    "start_time": "2022-03-24T16:35:41.641Z"
   },
   {
    "duration": 179,
    "start_time": "2022-03-24T16:36:36.424Z"
   },
   {
    "duration": 5,
    "start_time": "2022-03-24T16:50:23.438Z"
   },
   {
    "duration": 14,
    "start_time": "2022-03-24T16:51:29.779Z"
   },
   {
    "duration": 6,
    "start_time": "2022-03-24T16:51:49.662Z"
   },
   {
    "duration": 4,
    "start_time": "2022-03-24T16:51:57.041Z"
   },
   {
    "duration": 236,
    "start_time": "2022-03-24T16:58:52.051Z"
   },
   {
    "duration": 182,
    "start_time": "2022-03-24T16:59:06.758Z"
   },
   {
    "duration": 3,
    "start_time": "2022-03-24T17:41:46.706Z"
   },
   {
    "duration": 13,
    "start_time": "2022-03-24T17:41:46.711Z"
   },
   {
    "duration": 12,
    "start_time": "2022-03-24T17:41:46.726Z"
   },
   {
    "duration": 9,
    "start_time": "2022-03-24T17:41:46.741Z"
   },
   {
    "duration": 15,
    "start_time": "2022-03-24T17:41:46.752Z"
   },
   {
    "duration": 33,
    "start_time": "2022-03-24T17:41:46.770Z"
   },
   {
    "duration": 8,
    "start_time": "2022-03-24T17:41:46.805Z"
   },
   {
    "duration": 20,
    "start_time": "2022-03-24T17:41:46.815Z"
   },
   {
    "duration": 13,
    "start_time": "2022-03-24T17:41:46.838Z"
   },
   {
    "duration": 17,
    "start_time": "2022-03-24T17:41:46.853Z"
   },
   {
    "duration": 12,
    "start_time": "2022-03-24T17:41:46.873Z"
   },
   {
    "duration": 16,
    "start_time": "2022-03-24T17:41:46.887Z"
   },
   {
    "duration": 12,
    "start_time": "2022-03-24T17:41:46.905Z"
   },
   {
    "duration": 720,
    "start_time": "2022-03-24T17:41:46.919Z"
   },
   {
    "duration": 18,
    "start_time": "2022-03-24T17:41:47.641Z"
   },
   {
    "duration": 27,
    "start_time": "2022-03-24T17:41:47.660Z"
   },
   {
    "duration": 5,
    "start_time": "2022-03-24T17:41:47.701Z"
   },
   {
    "duration": 13,
    "start_time": "2022-03-24T17:41:47.709Z"
   },
   {
    "duration": 16,
    "start_time": "2022-03-24T17:41:47.725Z"
   },
   {
    "duration": 6,
    "start_time": "2022-03-24T17:41:47.743Z"
   },
   {
    "duration": 6,
    "start_time": "2022-03-24T17:41:47.751Z"
   },
   {
    "duration": 8,
    "start_time": "2022-03-24T17:41:47.759Z"
   },
   {
    "duration": 31,
    "start_time": "2022-03-24T17:41:47.770Z"
   },
   {
    "duration": 11,
    "start_time": "2022-03-24T17:41:47.806Z"
   },
   {
    "duration": 13,
    "start_time": "2022-03-24T17:41:47.819Z"
   },
   {
    "duration": 18,
    "start_time": "2022-03-24T17:41:47.835Z"
   },
   {
    "duration": 17,
    "start_time": "2022-03-24T17:41:47.855Z"
   },
   {
    "duration": 11,
    "start_time": "2022-03-24T17:41:47.874Z"
   },
   {
    "duration": 23,
    "start_time": "2022-03-24T17:41:47.887Z"
   },
   {
    "duration": 912,
    "start_time": "2022-03-24T17:41:47.912Z"
   },
   {
    "duration": 9,
    "start_time": "2022-03-24T17:41:48.826Z"
   },
   {
    "duration": 10,
    "start_time": "2022-03-24T17:41:48.837Z"
   },
   {
    "duration": 7,
    "start_time": "2022-03-24T17:41:48.849Z"
   },
   {
    "duration": 15,
    "start_time": "2022-03-24T17:41:48.858Z"
   },
   {
    "duration": 200,
    "start_time": "2022-03-24T17:41:48.901Z"
   },
   {
    "duration": 5,
    "start_time": "2022-03-24T17:41:49.103Z"
   },
   {
    "duration": 15,
    "start_time": "2022-03-24T17:41:49.110Z"
   },
   {
    "duration": 11,
    "start_time": "2022-03-24T17:41:49.127Z"
   },
   {
    "duration": 3,
    "start_time": "2022-03-24T18:05:05.892Z"
   },
   {
    "duration": 20,
    "start_time": "2022-03-24T18:42:27.896Z"
   },
   {
    "duration": 6,
    "start_time": "2022-03-24T18:43:22.633Z"
   },
   {
    "duration": 4,
    "start_time": "2022-03-24T18:44:31.592Z"
   },
   {
    "duration": 11,
    "start_time": "2022-03-24T18:44:35.289Z"
   },
   {
    "duration": 4,
    "start_time": "2022-03-24T18:44:41.708Z"
   },
   {
    "duration": 22,
    "start_time": "2022-03-24T18:44:44.639Z"
   },
   {
    "duration": 11,
    "start_time": "2022-03-24T18:45:58.115Z"
   },
   {
    "duration": 18,
    "start_time": "2022-03-24T18:46:11.835Z"
   },
   {
    "duration": 7,
    "start_time": "2022-03-24T18:46:14.987Z"
   },
   {
    "duration": 1116,
    "start_time": "2022-03-24T18:46:18.209Z"
   },
   {
    "duration": 3,
    "start_time": "2022-03-24T18:46:30.289Z"
   },
   {
    "duration": 17,
    "start_time": "2022-03-24T18:46:30.294Z"
   },
   {
    "duration": 15,
    "start_time": "2022-03-24T18:46:30.313Z"
   },
   {
    "duration": 12,
    "start_time": "2022-03-24T18:46:30.331Z"
   },
   {
    "duration": 10,
    "start_time": "2022-03-24T18:46:30.345Z"
   },
   {
    "duration": 14,
    "start_time": "2022-03-24T18:46:30.357Z"
   },
   {
    "duration": 14,
    "start_time": "2022-03-24T18:46:30.373Z"
   },
   {
    "duration": 16,
    "start_time": "2022-03-24T18:46:30.389Z"
   },
   {
    "duration": 19,
    "start_time": "2022-03-24T18:46:30.408Z"
   },
   {
    "duration": 9,
    "start_time": "2022-03-24T18:46:30.429Z"
   },
   {
    "duration": 17,
    "start_time": "2022-03-24T18:46:30.440Z"
   },
   {
    "duration": 26,
    "start_time": "2022-03-24T18:46:30.458Z"
   },
   {
    "duration": 15,
    "start_time": "2022-03-24T18:46:30.486Z"
   },
   {
    "duration": 721,
    "start_time": "2022-03-24T18:46:30.503Z"
   },
   {
    "duration": 17,
    "start_time": "2022-03-24T18:46:31.226Z"
   },
   {
    "duration": 28,
    "start_time": "2022-03-24T18:46:31.245Z"
   },
   {
    "duration": 25,
    "start_time": "2022-03-24T18:46:31.276Z"
   },
   {
    "duration": 6,
    "start_time": "2022-03-24T18:46:31.303Z"
   },
   {
    "duration": 12,
    "start_time": "2022-03-24T18:46:31.311Z"
   },
   {
    "duration": 13,
    "start_time": "2022-03-24T18:46:31.325Z"
   },
   {
    "duration": 11,
    "start_time": "2022-03-24T18:46:31.340Z"
   },
   {
    "duration": 18,
    "start_time": "2022-03-24T18:46:31.353Z"
   },
   {
    "duration": 16,
    "start_time": "2022-03-24T18:46:31.373Z"
   },
   {
    "duration": 37,
    "start_time": "2022-03-24T18:46:31.394Z"
   },
   {
    "duration": 29,
    "start_time": "2022-03-24T18:46:31.434Z"
   },
   {
    "duration": 15,
    "start_time": "2022-03-24T18:46:31.465Z"
   },
   {
    "duration": 25,
    "start_time": "2022-03-24T18:46:31.482Z"
   },
   {
    "duration": 20,
    "start_time": "2022-03-24T18:46:31.510Z"
   },
   {
    "duration": 17,
    "start_time": "2022-03-24T18:46:31.532Z"
   },
   {
    "duration": 21,
    "start_time": "2022-03-24T18:46:31.550Z"
   },
   {
    "duration": 799,
    "start_time": "2022-03-24T18:46:31.572Z"
   },
   {
    "duration": 7,
    "start_time": "2022-03-24T18:46:32.373Z"
   },
   {
    "duration": 23,
    "start_time": "2022-03-24T18:46:32.381Z"
   },
   {
    "duration": 7,
    "start_time": "2022-03-24T18:46:32.406Z"
   },
   {
    "duration": 11,
    "start_time": "2022-03-24T18:46:32.415Z"
   },
   {
    "duration": 282,
    "start_time": "2022-03-24T18:46:32.428Z"
   },
   {
    "duration": 5,
    "start_time": "2022-03-24T18:46:32.713Z"
   },
   {
    "duration": 10,
    "start_time": "2022-03-24T18:46:32.720Z"
   },
   {
    "duration": 11,
    "start_time": "2022-03-24T18:46:32.732Z"
   },
   {
    "duration": 11,
    "start_time": "2022-03-24T18:46:32.744Z"
   },
   {
    "duration": 36,
    "start_time": "2022-03-24T18:46:32.757Z"
   },
   {
    "duration": 19,
    "start_time": "2022-03-24T18:46:32.796Z"
   },
   {
    "duration": 14,
    "start_time": "2022-03-24T18:46:32.817Z"
   },
   {
    "duration": 918,
    "start_time": "2022-03-24T18:46:32.833Z"
   },
   {
    "duration": 1768,
    "start_time": "2022-03-24T18:47:32.170Z"
   },
   {
    "duration": 15,
    "start_time": "2022-03-24T18:54:44.135Z"
   },
   {
    "duration": 16,
    "start_time": "2022-03-24T18:55:21.179Z"
   },
   {
    "duration": 2662,
    "start_time": "2022-03-24T18:55:44.308Z"
   },
   {
    "duration": 27,
    "start_time": "2022-03-24T19:00:59.844Z"
   },
   {
    "duration": 2794,
    "start_time": "2022-03-24T19:01:06.683Z"
   },
   {
    "duration": 25,
    "start_time": "2022-03-24T19:02:47.752Z"
   },
   {
    "duration": 581,
    "start_time": "2022-03-24T19:02:54.028Z"
   },
   {
    "duration": 4,
    "start_time": "2022-03-24T19:03:12.292Z"
   },
   {
    "duration": 11,
    "start_time": "2022-03-24T19:03:12.299Z"
   },
   {
    "duration": 14,
    "start_time": "2022-03-24T19:03:12.313Z"
   },
   {
    "duration": 15,
    "start_time": "2022-03-24T19:03:12.329Z"
   },
   {
    "duration": 9,
    "start_time": "2022-03-24T19:03:12.346Z"
   },
   {
    "duration": 11,
    "start_time": "2022-03-24T19:03:12.357Z"
   },
   {
    "duration": 12,
    "start_time": "2022-03-24T19:03:12.370Z"
   },
   {
    "duration": 5,
    "start_time": "2022-03-24T19:03:12.400Z"
   },
   {
    "duration": 15,
    "start_time": "2022-03-24T19:03:12.407Z"
   },
   {
    "duration": 14,
    "start_time": "2022-03-24T19:03:12.424Z"
   },
   {
    "duration": 14,
    "start_time": "2022-03-24T19:03:12.440Z"
   },
   {
    "duration": 9,
    "start_time": "2022-03-24T19:03:12.456Z"
   },
   {
    "duration": 9,
    "start_time": "2022-03-24T19:03:12.467Z"
   },
   {
    "duration": 731,
    "start_time": "2022-03-24T19:03:12.478Z"
   },
   {
    "duration": 17,
    "start_time": "2022-03-24T19:03:13.211Z"
   },
   {
    "duration": 20,
    "start_time": "2022-03-24T19:03:13.230Z"
   },
   {
    "duration": 5,
    "start_time": "2022-03-24T19:03:13.253Z"
   },
   {
    "duration": 14,
    "start_time": "2022-03-24T19:03:13.260Z"
   },
   {
    "duration": 7,
    "start_time": "2022-03-24T19:03:13.302Z"
   },
   {
    "duration": 10,
    "start_time": "2022-03-24T19:03:13.313Z"
   },
   {
    "duration": 10,
    "start_time": "2022-03-24T19:03:13.327Z"
   },
   {
    "duration": 13,
    "start_time": "2022-03-24T19:03:13.339Z"
   },
   {
    "duration": 7,
    "start_time": "2022-03-24T19:03:13.354Z"
   },
   {
    "duration": 13,
    "start_time": "2022-03-24T19:03:13.363Z"
   },
   {
    "duration": 14,
    "start_time": "2022-03-24T19:03:13.401Z"
   },
   {
    "duration": 7,
    "start_time": "2022-03-24T19:03:13.418Z"
   },
   {
    "duration": 17,
    "start_time": "2022-03-24T19:03:13.428Z"
   },
   {
    "duration": 19,
    "start_time": "2022-03-24T19:03:13.447Z"
   },
   {
    "duration": 21,
    "start_time": "2022-03-24T19:03:13.468Z"
   },
   {
    "duration": 12,
    "start_time": "2022-03-24T19:03:13.501Z"
   },
   {
    "duration": 1070,
    "start_time": "2022-03-24T19:03:13.515Z"
   },
   {
    "duration": 15,
    "start_time": "2022-03-24T19:03:14.587Z"
   },
   {
    "duration": 8,
    "start_time": "2022-03-24T19:03:14.604Z"
   },
   {
    "duration": 19,
    "start_time": "2022-03-24T19:03:14.615Z"
   },
   {
    "duration": 7,
    "start_time": "2022-03-24T19:03:14.637Z"
   },
   {
    "duration": 224,
    "start_time": "2022-03-24T19:03:14.646Z"
   },
   {
    "duration": 5,
    "start_time": "2022-03-24T19:03:14.873Z"
   },
   {
    "duration": 18,
    "start_time": "2022-03-24T19:03:14.883Z"
   },
   {
    "duration": 8,
    "start_time": "2022-03-24T19:03:14.903Z"
   },
   {
    "duration": 6,
    "start_time": "2022-03-24T19:03:14.913Z"
   },
   {
    "duration": 25,
    "start_time": "2022-03-24T19:03:14.921Z"
   },
   {
    "duration": 9,
    "start_time": "2022-03-24T19:03:14.949Z"
   },
   {
    "duration": 159,
    "start_time": "2022-03-24T19:03:14.960Z"
   },
   {
    "duration": 4,
    "start_time": "2022-03-24T19:03:15.121Z"
   },
   {
    "duration": 1832,
    "start_time": "2022-03-24T19:03:15.127Z"
   },
   {
    "duration": 4,
    "start_time": "2022-03-24T19:12:22.362Z"
   },
   {
    "duration": 18,
    "start_time": "2022-03-24T19:12:22.368Z"
   },
   {
    "duration": 24,
    "start_time": "2022-03-24T19:12:22.388Z"
   },
   {
    "duration": 19,
    "start_time": "2022-03-24T19:12:22.416Z"
   },
   {
    "duration": 32,
    "start_time": "2022-03-24T19:12:22.437Z"
   },
   {
    "duration": 20,
    "start_time": "2022-03-24T19:12:22.472Z"
   },
   {
    "duration": 10,
    "start_time": "2022-03-24T19:12:22.494Z"
   },
   {
    "duration": 12,
    "start_time": "2022-03-24T19:12:22.506Z"
   },
   {
    "duration": 18,
    "start_time": "2022-03-24T19:12:22.522Z"
   },
   {
    "duration": 26,
    "start_time": "2022-03-24T19:12:22.542Z"
   },
   {
    "duration": 27,
    "start_time": "2022-03-24T19:12:22.570Z"
   },
   {
    "duration": 9,
    "start_time": "2022-03-24T19:12:22.599Z"
   },
   {
    "duration": 7,
    "start_time": "2022-03-24T19:12:22.610Z"
   },
   {
    "duration": 740,
    "start_time": "2022-03-24T19:12:22.620Z"
   },
   {
    "duration": 20,
    "start_time": "2022-03-24T19:12:23.362Z"
   },
   {
    "duration": 33,
    "start_time": "2022-03-24T19:12:23.383Z"
   },
   {
    "duration": 7,
    "start_time": "2022-03-24T19:12:23.418Z"
   },
   {
    "duration": 25,
    "start_time": "2022-03-24T19:12:23.427Z"
   },
   {
    "duration": 14,
    "start_time": "2022-03-24T19:12:23.454Z"
   },
   {
    "duration": 15,
    "start_time": "2022-03-24T19:12:23.470Z"
   },
   {
    "duration": 9,
    "start_time": "2022-03-24T19:12:23.486Z"
   },
   {
    "duration": 16,
    "start_time": "2022-03-24T19:12:23.497Z"
   },
   {
    "duration": 19,
    "start_time": "2022-03-24T19:12:23.515Z"
   },
   {
    "duration": 22,
    "start_time": "2022-03-24T19:12:23.539Z"
   },
   {
    "duration": 21,
    "start_time": "2022-03-24T19:12:23.563Z"
   },
   {
    "duration": 3,
    "start_time": "2022-03-24T19:12:23.586Z"
   },
   {
    "duration": 16,
    "start_time": "2022-03-24T19:12:23.591Z"
   },
   {
    "duration": 16,
    "start_time": "2022-03-24T19:12:23.609Z"
   },
   {
    "duration": 16,
    "start_time": "2022-03-24T19:12:23.627Z"
   },
   {
    "duration": 10,
    "start_time": "2022-03-24T19:12:23.645Z"
   },
   {
    "duration": 1017,
    "start_time": "2022-03-24T19:12:23.657Z"
   },
   {
    "duration": 7,
    "start_time": "2022-03-24T19:12:24.676Z"
   },
   {
    "duration": 28,
    "start_time": "2022-03-24T19:12:24.685Z"
   },
   {
    "duration": 9,
    "start_time": "2022-03-24T19:12:24.715Z"
   },
   {
    "duration": 14,
    "start_time": "2022-03-24T19:12:24.726Z"
   },
   {
    "duration": 202,
    "start_time": "2022-03-24T19:12:24.742Z"
   },
   {
    "duration": 5,
    "start_time": "2022-03-24T19:12:24.947Z"
   },
   {
    "duration": 8,
    "start_time": "2022-03-24T19:12:24.955Z"
   },
   {
    "duration": 17,
    "start_time": "2022-03-24T19:12:24.965Z"
   },
   {
    "duration": 28,
    "start_time": "2022-03-24T19:12:24.985Z"
   },
   {
    "duration": 35,
    "start_time": "2022-03-24T19:12:25.015Z"
   },
   {
    "duration": 20,
    "start_time": "2022-03-24T19:12:25.052Z"
   },
   {
    "duration": 538,
    "start_time": "2022-03-24T19:12:25.073Z"
   },
   {
    "duration": 4,
    "start_time": "2022-03-24T19:12:25.613Z"
   },
   {
    "duration": 2464,
    "start_time": "2022-03-24T19:12:25.619Z"
   },
   {
    "duration": 20,
    "start_time": "2022-03-24T19:12:58.180Z"
   },
   {
    "duration": 504,
    "start_time": "2022-03-24T19:13:39.102Z"
   },
   {
    "duration": 587,
    "start_time": "2022-03-24T19:17:53.315Z"
   },
   {
    "duration": 2638,
    "start_time": "2022-03-24T19:18:49.950Z"
   },
   {
    "duration": 562,
    "start_time": "2022-03-24T19:25:49.144Z"
   },
   {
    "duration": 250,
    "start_time": "2022-03-24T19:26:39.158Z"
   },
   {
    "duration": 587,
    "start_time": "2022-03-24T19:27:01.822Z"
   },
   {
    "duration": 600,
    "start_time": "2022-03-24T19:27:56.511Z"
   },
   {
    "duration": 448,
    "start_time": "2022-03-24T19:28:49.854Z"
   },
   {
    "duration": 591,
    "start_time": "2022-03-24T19:30:31.116Z"
   },
   {
    "duration": 342,
    "start_time": "2022-03-24T19:32:38.960Z"
   },
   {
    "duration": 330,
    "start_time": "2022-03-24T19:33:20.372Z"
   },
   {
    "duration": 299,
    "start_time": "2022-03-24T19:33:49.710Z"
   },
   {
    "duration": 318,
    "start_time": "2022-03-24T19:34:17.493Z"
   },
   {
    "duration": 212,
    "start_time": "2022-03-24T19:34:39.975Z"
   },
   {
    "duration": 401,
    "start_time": "2022-03-24T19:34:43.805Z"
   },
   {
    "duration": 332,
    "start_time": "2022-03-24T19:35:12.970Z"
   },
   {
    "duration": 334,
    "start_time": "2022-03-24T19:36:05.168Z"
   },
   {
    "duration": 594,
    "start_time": "2022-03-24T19:36:38.315Z"
   },
   {
    "duration": 321,
    "start_time": "2022-03-24T19:37:31.687Z"
   },
   {
    "duration": 408,
    "start_time": "2022-03-24T19:39:01.095Z"
   },
   {
    "duration": 444,
    "start_time": "2022-03-24T19:39:31.958Z"
   },
   {
    "duration": 4,
    "start_time": "2022-03-24T19:41:34.197Z"
   },
   {
    "duration": 343,
    "start_time": "2022-03-24T19:41:38.761Z"
   },
   {
    "duration": 1556,
    "start_time": "2022-03-24T19:41:55.778Z"
   },
   {
    "duration": 724,
    "start_time": "2022-03-24T19:44:04.378Z"
   },
   {
    "duration": 391,
    "start_time": "2022-03-24T19:44:20.011Z"
   },
   {
    "duration": 442,
    "start_time": "2022-03-24T19:44:26.465Z"
   },
   {
    "duration": 565,
    "start_time": "2022-03-24T19:45:05.937Z"
   },
   {
    "duration": 4,
    "start_time": "2022-03-24T19:47:18.519Z"
   },
   {
    "duration": 594,
    "start_time": "2022-03-24T19:47:27.010Z"
   },
   {
    "duration": 367,
    "start_time": "2022-03-24T19:49:51.938Z"
   },
   {
    "duration": 584,
    "start_time": "2022-03-24T19:53:17.018Z"
   },
   {
    "duration": 3,
    "start_time": "2022-03-24T19:54:18.572Z"
   },
   {
    "duration": 662,
    "start_time": "2022-03-24T19:54:20.148Z"
   },
   {
    "duration": 535,
    "start_time": "2022-03-24T19:54:33.875Z"
   },
   {
    "duration": 247,
    "start_time": "2022-03-24T19:54:46.155Z"
   },
   {
    "duration": 947,
    "start_time": "2022-03-24T19:55:24.662Z"
   },
   {
    "duration": 785,
    "start_time": "2022-03-24T19:55:27.916Z"
   },
   {
    "duration": 4,
    "start_time": "2022-03-24T19:57:09.524Z"
   },
   {
    "duration": 952,
    "start_time": "2022-03-24T19:57:14.259Z"
   },
   {
    "duration": 827,
    "start_time": "2022-03-24T19:57:20.382Z"
   },
   {
    "duration": 3,
    "start_time": "2022-03-24T19:57:26.365Z"
   },
   {
    "duration": 7,
    "start_time": "2022-03-24T19:57:26.370Z"
   },
   {
    "duration": 9,
    "start_time": "2022-03-24T19:57:26.379Z"
   },
   {
    "duration": 8,
    "start_time": "2022-03-24T19:57:26.390Z"
   },
   {
    "duration": 11,
    "start_time": "2022-03-24T19:57:26.399Z"
   },
   {
    "duration": 8,
    "start_time": "2022-03-24T19:57:26.412Z"
   },
   {
    "duration": 8,
    "start_time": "2022-03-24T19:57:26.422Z"
   },
   {
    "duration": 12,
    "start_time": "2022-03-24T19:57:26.431Z"
   },
   {
    "duration": 10,
    "start_time": "2022-03-24T19:57:26.446Z"
   },
   {
    "duration": 9,
    "start_time": "2022-03-24T19:57:26.458Z"
   },
   {
    "duration": 38,
    "start_time": "2022-03-24T19:57:26.468Z"
   },
   {
    "duration": 7,
    "start_time": "2022-03-24T19:57:26.508Z"
   },
   {
    "duration": 17,
    "start_time": "2022-03-24T19:57:26.517Z"
   },
   {
    "duration": 905,
    "start_time": "2022-03-24T19:57:26.536Z"
   },
   {
    "duration": 24,
    "start_time": "2022-03-24T19:57:27.443Z"
   },
   {
    "duration": 44,
    "start_time": "2022-03-24T19:57:27.469Z"
   },
   {
    "duration": 7,
    "start_time": "2022-03-24T19:57:27.516Z"
   },
   {
    "duration": 12,
    "start_time": "2022-03-24T19:57:27.525Z"
   },
   {
    "duration": 10,
    "start_time": "2022-03-24T19:57:27.538Z"
   },
   {
    "duration": 9,
    "start_time": "2022-03-24T19:57:27.550Z"
   },
   {
    "duration": 5,
    "start_time": "2022-03-24T19:57:27.561Z"
   },
   {
    "duration": 11,
    "start_time": "2022-03-24T19:57:27.568Z"
   },
   {
    "duration": 23,
    "start_time": "2022-03-24T19:57:27.581Z"
   },
   {
    "duration": 19,
    "start_time": "2022-03-24T19:57:27.608Z"
   },
   {
    "duration": 13,
    "start_time": "2022-03-24T19:57:27.630Z"
   },
   {
    "duration": 22,
    "start_time": "2022-03-24T19:57:27.645Z"
   },
   {
    "duration": 2,
    "start_time": "2022-03-24T19:57:27.669Z"
   },
   {
    "duration": 33,
    "start_time": "2022-03-24T19:57:27.673Z"
   },
   {
    "duration": 8,
    "start_time": "2022-03-24T19:57:27.708Z"
   },
   {
    "duration": 9,
    "start_time": "2022-03-24T19:57:27.717Z"
   },
   {
    "duration": 11,
    "start_time": "2022-03-24T19:57:27.728Z"
   },
   {
    "duration": 960,
    "start_time": "2022-03-24T19:57:27.741Z"
   },
   {
    "duration": 7,
    "start_time": "2022-03-24T19:57:28.703Z"
   },
   {
    "duration": 7,
    "start_time": "2022-03-24T19:57:28.712Z"
   },
   {
    "duration": 10,
    "start_time": "2022-03-24T19:57:28.721Z"
   },
   {
    "duration": 9,
    "start_time": "2022-03-24T19:57:28.733Z"
   },
   {
    "duration": 218,
    "start_time": "2022-03-24T19:57:28.744Z"
   },
   {
    "duration": 5,
    "start_time": "2022-03-24T19:57:28.963Z"
   },
   {
    "duration": 5,
    "start_time": "2022-03-24T19:57:28.970Z"
   },
   {
    "duration": 26,
    "start_time": "2022-03-24T19:57:28.977Z"
   },
   {
    "duration": 2,
    "start_time": "2022-03-24T19:57:29.005Z"
   },
   {
    "duration": 24,
    "start_time": "2022-03-24T19:57:29.009Z"
   },
   {
    "duration": 9,
    "start_time": "2022-03-24T19:57:29.035Z"
   },
   {
    "duration": 870,
    "start_time": "2022-03-24T19:57:29.046Z"
   },
   {
    "duration": 4,
    "start_time": "2022-03-24T19:57:29.918Z"
   },
   {
    "duration": 1515,
    "start_time": "2022-03-24T19:57:29.923Z"
   },
   {
    "duration": 5,
    "start_time": "2022-03-24T19:57:57.013Z"
   },
   {
    "duration": 3,
    "start_time": "2022-03-24T19:57:59.217Z"
   },
   {
    "duration": 10,
    "start_time": "2022-03-24T19:57:59.223Z"
   },
   {
    "duration": 9,
    "start_time": "2022-03-24T19:57:59.235Z"
   },
   {
    "duration": 9,
    "start_time": "2022-03-24T19:57:59.247Z"
   },
   {
    "duration": 15,
    "start_time": "2022-03-24T19:57:59.258Z"
   },
   {
    "duration": 27,
    "start_time": "2022-03-24T19:57:59.275Z"
   },
   {
    "duration": 13,
    "start_time": "2022-03-24T19:57:59.305Z"
   },
   {
    "duration": 13,
    "start_time": "2022-03-24T19:57:59.319Z"
   },
   {
    "duration": 10,
    "start_time": "2022-03-24T19:57:59.335Z"
   },
   {
    "duration": 14,
    "start_time": "2022-03-24T19:57:59.347Z"
   },
   {
    "duration": 9,
    "start_time": "2022-03-24T19:57:59.363Z"
   },
   {
    "duration": 15,
    "start_time": "2022-03-24T19:57:59.374Z"
   },
   {
    "duration": 13,
    "start_time": "2022-03-24T19:57:59.401Z"
   },
   {
    "duration": 737,
    "start_time": "2022-03-24T19:57:59.416Z"
   },
   {
    "duration": 17,
    "start_time": "2022-03-24T19:58:00.155Z"
   },
   {
    "duration": 34,
    "start_time": "2022-03-24T19:58:00.174Z"
   },
   {
    "duration": 6,
    "start_time": "2022-03-24T19:58:00.210Z"
   },
   {
    "duration": 16,
    "start_time": "2022-03-24T19:58:00.218Z"
   },
   {
    "duration": 13,
    "start_time": "2022-03-24T19:58:00.236Z"
   },
   {
    "duration": 10,
    "start_time": "2022-03-24T19:58:00.251Z"
   },
   {
    "duration": 10,
    "start_time": "2022-03-24T19:58:00.263Z"
   },
   {
    "duration": 18,
    "start_time": "2022-03-24T19:58:00.275Z"
   },
   {
    "duration": 15,
    "start_time": "2022-03-24T19:58:00.301Z"
   },
   {
    "duration": 26,
    "start_time": "2022-03-24T19:58:00.320Z"
   },
   {
    "duration": 20,
    "start_time": "2022-03-24T19:58:00.348Z"
   },
   {
    "duration": 19,
    "start_time": "2022-03-24T19:58:00.370Z"
   },
   {
    "duration": 3,
    "start_time": "2022-03-24T19:58:00.391Z"
   },
   {
    "duration": 22,
    "start_time": "2022-03-24T19:58:00.396Z"
   },
   {
    "duration": 14,
    "start_time": "2022-03-24T19:58:00.419Z"
   },
   {
    "duration": 19,
    "start_time": "2022-03-24T19:58:00.435Z"
   },
   {
    "duration": 16,
    "start_time": "2022-03-24T19:58:00.456Z"
   },
   {
    "duration": 806,
    "start_time": "2022-03-24T19:58:00.474Z"
   },
   {
    "duration": 20,
    "start_time": "2022-03-24T19:58:01.282Z"
   },
   {
    "duration": 22,
    "start_time": "2022-03-24T19:58:01.305Z"
   },
   {
    "duration": 11,
    "start_time": "2022-03-24T19:58:01.329Z"
   },
   {
    "duration": 16,
    "start_time": "2022-03-24T19:58:01.342Z"
   },
   {
    "duration": 305,
    "start_time": "2022-03-24T19:58:01.361Z"
   },
   {
    "duration": 5,
    "start_time": "2022-03-24T19:58:01.668Z"
   },
   {
    "duration": 12,
    "start_time": "2022-03-24T19:58:01.675Z"
   },
   {
    "duration": 7,
    "start_time": "2022-03-24T19:58:01.701Z"
   },
   {
    "duration": 10,
    "start_time": "2022-03-24T19:58:01.710Z"
   },
   {
    "duration": 33,
    "start_time": "2022-03-24T19:58:01.722Z"
   },
   {
    "duration": 23,
    "start_time": "2022-03-24T19:58:01.758Z"
   },
   {
    "duration": 1026,
    "start_time": "2022-03-24T19:58:01.783Z"
   },
   {
    "duration": 4,
    "start_time": "2022-03-24T19:58:02.811Z"
   },
   {
    "duration": 684,
    "start_time": "2022-03-24T19:58:02.817Z"
   },
   {
    "duration": 435,
    "start_time": "2022-03-24T19:58:29.367Z"
   },
   {
    "duration": 313,
    "start_time": "2022-03-24T19:58:34.092Z"
   },
   {
    "duration": 472,
    "start_time": "2022-03-24T20:07:26.580Z"
   },
   {
    "duration": 291,
    "start_time": "2022-03-24T20:07:34.719Z"
   },
   {
    "duration": 370,
    "start_time": "2022-03-24T20:07:46.533Z"
   },
   {
    "duration": 11,
    "start_time": "2022-03-24T20:10:01.821Z"
   },
   {
    "duration": 3,
    "start_time": "2022-03-24T20:10:04.997Z"
   },
   {
    "duration": 155,
    "start_time": "2022-03-24T20:10:06.149Z"
   },
   {
    "duration": 3,
    "start_time": "2022-03-24T20:10:17.147Z"
   },
   {
    "duration": 469,
    "start_time": "2022-03-24T20:10:17.833Z"
   },
   {
    "duration": 2,
    "start_time": "2022-03-24T20:10:29.192Z"
   },
   {
    "duration": 159,
    "start_time": "2022-03-24T20:10:29.294Z"
   },
   {
    "duration": 285,
    "start_time": "2022-03-24T20:10:37.052Z"
   },
   {
    "duration": 3,
    "start_time": "2022-03-24T20:10:51.246Z"
   },
   {
    "duration": 151,
    "start_time": "2022-03-24T20:10:59.837Z"
   },
   {
    "duration": 3,
    "start_time": "2022-03-24T20:12:46.838Z"
   },
   {
    "duration": 170,
    "start_time": "2022-03-24T20:12:50.249Z"
   },
   {
    "duration": 150,
    "start_time": "2022-03-24T20:28:46.590Z"
   },
   {
    "duration": 292,
    "start_time": "2022-03-24T20:30:31.535Z"
   },
   {
    "duration": 1065,
    "start_time": "2022-03-24T20:30:42.903Z"
   },
   {
    "duration": 11815,
    "start_time": "2022-03-24T20:32:44.694Z"
   },
   {
    "duration": 39495,
    "start_time": "2022-03-24T20:33:55.519Z"
   },
   {
    "duration": 3,
    "start_time": "2022-03-24T20:34:53.213Z"
   },
   {
    "duration": 14,
    "start_time": "2022-03-24T20:34:53.219Z"
   },
   {
    "duration": 13,
    "start_time": "2022-03-24T20:34:53.235Z"
   },
   {
    "duration": 16,
    "start_time": "2022-03-24T20:34:53.250Z"
   },
   {
    "duration": 16,
    "start_time": "2022-03-24T20:34:53.268Z"
   },
   {
    "duration": 15,
    "start_time": "2022-03-24T20:34:53.287Z"
   },
   {
    "duration": 12,
    "start_time": "2022-03-24T20:34:53.304Z"
   },
   {
    "duration": 9,
    "start_time": "2022-03-24T20:34:53.317Z"
   },
   {
    "duration": 6,
    "start_time": "2022-03-24T20:34:53.328Z"
   },
   {
    "duration": 16,
    "start_time": "2022-03-24T20:34:53.336Z"
   },
   {
    "duration": 10,
    "start_time": "2022-03-24T20:34:53.355Z"
   },
   {
    "duration": 10,
    "start_time": "2022-03-24T20:34:53.367Z"
   },
   {
    "duration": 10,
    "start_time": "2022-03-24T20:34:53.379Z"
   },
   {
    "duration": 720,
    "start_time": "2022-03-24T20:34:53.400Z"
   },
   {
    "duration": 17,
    "start_time": "2022-03-24T20:34:54.122Z"
   },
   {
    "duration": 24,
    "start_time": "2022-03-24T20:34:54.141Z"
   },
   {
    "duration": 6,
    "start_time": "2022-03-24T20:34:54.168Z"
   },
   {
    "duration": 28,
    "start_time": "2022-03-24T20:34:54.176Z"
   },
   {
    "duration": 10,
    "start_time": "2022-03-24T20:34:54.205Z"
   },
   {
    "duration": 16,
    "start_time": "2022-03-24T20:34:54.217Z"
   },
   {
    "duration": 7,
    "start_time": "2022-03-24T20:34:54.235Z"
   },
   {
    "duration": 9,
    "start_time": "2022-03-24T20:34:54.243Z"
   },
   {
    "duration": 7,
    "start_time": "2022-03-24T20:34:54.254Z"
   },
   {
    "duration": 13,
    "start_time": "2022-03-24T20:34:54.263Z"
   },
   {
    "duration": 27,
    "start_time": "2022-03-24T20:34:54.278Z"
   },
   {
    "duration": 18,
    "start_time": "2022-03-24T20:34:54.307Z"
   },
   {
    "duration": 3,
    "start_time": "2022-03-24T20:34:54.327Z"
   },
   {
    "duration": 13,
    "start_time": "2022-03-24T20:34:54.332Z"
   },
   {
    "duration": 16,
    "start_time": "2022-03-24T20:34:54.349Z"
   },
   {
    "duration": 11,
    "start_time": "2022-03-24T20:34:54.367Z"
   },
   {
    "duration": 9,
    "start_time": "2022-03-24T20:34:54.400Z"
   },
   {
    "duration": 790,
    "start_time": "2022-03-24T20:34:54.411Z"
   },
   {
    "duration": 7,
    "start_time": "2022-03-24T20:34:55.203Z"
   },
   {
    "duration": 14,
    "start_time": "2022-03-24T20:34:55.212Z"
   },
   {
    "duration": 32,
    "start_time": "2022-03-24T20:34:55.227Z"
   },
   {
    "duration": 25,
    "start_time": "2022-03-24T20:34:55.261Z"
   },
   {
    "duration": 197,
    "start_time": "2022-03-24T20:34:55.287Z"
   },
   {
    "duration": 4,
    "start_time": "2022-03-24T20:34:55.486Z"
   },
   {
    "duration": 17,
    "start_time": "2022-03-24T20:34:55.492Z"
   },
   {
    "duration": 17,
    "start_time": "2022-03-24T20:34:55.511Z"
   },
   {
    "duration": 14,
    "start_time": "2022-03-24T20:34:55.530Z"
   },
   {
    "duration": 22,
    "start_time": "2022-03-24T20:34:55.546Z"
   },
   {
    "duration": 11,
    "start_time": "2022-03-24T20:34:55.571Z"
   },
   {
    "duration": 284,
    "start_time": "2022-03-24T20:34:55.584Z"
   },
   {
    "duration": 3,
    "start_time": "2022-03-24T20:34:55.870Z"
   },
   {
    "duration": 165,
    "start_time": "2022-03-24T20:34:55.874Z"
   },
   {
    "duration": 161,
    "start_time": "2022-03-24T20:34:56.041Z"
   },
   {
    "duration": 4,
    "start_time": "2022-03-24T20:34:56.203Z"
   },
   {
    "duration": 165,
    "start_time": "2022-03-24T20:34:56.209Z"
   },
   {
    "duration": 39573,
    "start_time": "2022-03-24T20:34:56.376Z"
   },
   {
    "duration": 155521,
    "start_time": "2022-03-24T20:37:05.391Z"
   },
   {
    "duration": 5349,
    "start_time": "2022-03-24T20:45:54.039Z"
   },
   {
    "duration": 28814,
    "start_time": "2022-03-24T20:46:27.808Z"
   },
   {
    "duration": 13,
    "start_time": "2022-03-25T06:03:35.232Z"
   },
   {
    "duration": 20,
    "start_time": "2022-03-25T06:03:35.248Z"
   },
   {
    "duration": 7,
    "start_time": "2022-03-25T06:03:35.271Z"
   },
   {
    "duration": 6,
    "start_time": "2022-03-25T06:03:35.283Z"
   },
   {
    "duration": 6,
    "start_time": "2022-03-25T06:03:35.292Z"
   },
   {
    "duration": 7,
    "start_time": "2022-03-25T06:03:35.301Z"
   },
   {
    "duration": 6,
    "start_time": "2022-03-25T06:03:35.311Z"
   },
   {
    "duration": 6,
    "start_time": "2022-03-25T06:03:35.374Z"
   },
   {
    "duration": 10,
    "start_time": "2022-03-25T06:03:35.383Z"
   },
   {
    "duration": 11,
    "start_time": "2022-03-25T06:03:35.397Z"
   },
   {
    "duration": 9,
    "start_time": "2022-03-25T06:03:35.410Z"
   },
   {
    "duration": 2153,
    "start_time": "2022-03-25T06:03:35.421Z"
   },
   {
    "duration": 4,
    "start_time": "2022-03-25T06:03:37.576Z"
   },
   {
    "duration": 769,
    "start_time": "2022-03-25T06:03:37.582Z"
   },
   {
    "duration": 38,
    "start_time": "2022-03-25T06:03:38.354Z"
   },
   {
    "duration": 26,
    "start_time": "2022-03-25T06:03:38.395Z"
   },
   {
    "duration": 5,
    "start_time": "2022-03-25T06:03:38.424Z"
   },
   {
    "duration": 24,
    "start_time": "2022-03-25T06:03:38.432Z"
   },
   {
    "duration": 6,
    "start_time": "2022-03-25T06:03:38.474Z"
   },
   {
    "duration": 9,
    "start_time": "2022-03-25T06:03:38.482Z"
   },
   {
    "duration": 4,
    "start_time": "2022-03-25T06:03:38.493Z"
   },
   {
    "duration": 16,
    "start_time": "2022-03-25T06:03:38.499Z"
   },
   {
    "duration": 7,
    "start_time": "2022-03-25T06:03:38.517Z"
   },
   {
    "duration": 48,
    "start_time": "2022-03-25T06:03:38.526Z"
   },
   {
    "duration": 10,
    "start_time": "2022-03-25T06:03:38.576Z"
   },
   {
    "duration": 24,
    "start_time": "2022-03-25T06:03:38.588Z"
   },
   {
    "duration": 4,
    "start_time": "2022-03-25T06:03:38.614Z"
   },
   {
    "duration": 10,
    "start_time": "2022-03-25T06:03:38.623Z"
   },
   {
    "duration": 45,
    "start_time": "2022-03-25T06:03:38.635Z"
   },
   {
    "duration": 9,
    "start_time": "2022-03-25T06:03:38.682Z"
   },
   {
    "duration": 10,
    "start_time": "2022-03-25T06:03:38.693Z"
   },
   {
    "duration": 1370,
    "start_time": "2022-03-25T06:03:38.705Z"
   },
   {
    "duration": 9,
    "start_time": "2022-03-25T06:03:40.079Z"
   },
   {
    "duration": 14,
    "start_time": "2022-03-25T06:03:40.091Z"
   },
   {
    "duration": 10,
    "start_time": "2022-03-25T06:03:40.108Z"
   },
   {
    "duration": 8,
    "start_time": "2022-03-25T06:03:40.120Z"
   },
   {
    "duration": 314,
    "start_time": "2022-03-25T06:03:40.130Z"
   },
   {
    "duration": 5,
    "start_time": "2022-03-25T06:03:40.446Z"
   },
   {
    "duration": 21,
    "start_time": "2022-03-25T06:03:40.454Z"
   },
   {
    "duration": 8,
    "start_time": "2022-03-25T06:03:40.477Z"
   },
   {
    "duration": 5,
    "start_time": "2022-03-25T06:03:40.487Z"
   },
   {
    "duration": 9,
    "start_time": "2022-03-25T06:03:40.494Z"
   },
   {
    "duration": 5,
    "start_time": "2022-03-25T06:03:40.505Z"
   },
   {
    "duration": 216,
    "start_time": "2022-03-25T06:03:40.511Z"
   },
   {
    "duration": 4,
    "start_time": "2022-03-25T06:03:40.729Z"
   },
   {
    "duration": 202,
    "start_time": "2022-03-25T06:03:40.735Z"
   },
   {
    "duration": 4,
    "start_time": "2022-03-25T06:03:40.938Z"
   },
   {
    "duration": 197,
    "start_time": "2022-03-25T06:03:40.944Z"
   },
   {
    "duration": 561,
    "start_time": "2022-03-25T06:03:41.143Z"
   },
   {
    "duration": 34993,
    "start_time": "2022-03-25T06:03:56.686Z"
   },
   {
    "duration": 2340,
    "start_time": "2022-03-25T06:05:14.376Z"
   },
   {
    "duration": 31,
    "start_time": "2022-03-25T06:33:23.270Z"
   },
   {
    "duration": 7,
    "start_time": "2022-03-25T06:34:50.593Z"
   },
   {
    "duration": 7,
    "start_time": "2022-03-25T06:35:52.706Z"
   },
   {
    "duration": 8,
    "start_time": "2022-03-25T07:12:03.151Z"
   },
   {
    "duration": 4,
    "start_time": "2022-03-25T07:12:04.226Z"
   },
   {
    "duration": 4,
    "start_time": "2022-03-25T07:17:21.372Z"
   },
   {
    "duration": 9,
    "start_time": "2022-03-25T07:17:21.379Z"
   },
   {
    "duration": 7,
    "start_time": "2022-03-25T07:17:21.391Z"
   },
   {
    "duration": 7,
    "start_time": "2022-03-25T07:17:21.401Z"
   },
   {
    "duration": 7,
    "start_time": "2022-03-25T07:17:21.411Z"
   },
   {
    "duration": 58,
    "start_time": "2022-03-25T07:17:21.420Z"
   },
   {
    "duration": 10,
    "start_time": "2022-03-25T07:17:21.480Z"
   },
   {
    "duration": 7,
    "start_time": "2022-03-25T07:17:21.493Z"
   },
   {
    "duration": 6,
    "start_time": "2022-03-25T07:17:21.502Z"
   },
   {
    "duration": 5,
    "start_time": "2022-03-25T07:17:21.514Z"
   },
   {
    "duration": 6,
    "start_time": "2022-03-25T07:17:21.575Z"
   },
   {
    "duration": 8,
    "start_time": "2022-03-25T07:17:21.583Z"
   },
   {
    "duration": 11,
    "start_time": "2022-03-25T07:17:21.593Z"
   },
   {
    "duration": 808,
    "start_time": "2022-03-25T07:17:21.606Z"
   },
   {
    "duration": 34,
    "start_time": "2022-03-25T07:17:22.416Z"
   },
   {
    "duration": 44,
    "start_time": "2022-03-25T07:17:22.453Z"
   },
   {
    "duration": 7,
    "start_time": "2022-03-25T07:17:22.500Z"
   },
   {
    "duration": 7,
    "start_time": "2022-03-25T07:17:22.510Z"
   },
   {
    "duration": 12,
    "start_time": "2022-03-25T07:17:22.520Z"
   },
   {
    "duration": 6,
    "start_time": "2022-03-25T07:17:22.574Z"
   },
   {
    "duration": 7,
    "start_time": "2022-03-25T07:17:22.582Z"
   },
   {
    "duration": 7,
    "start_time": "2022-03-25T07:17:22.591Z"
   },
   {
    "duration": 10,
    "start_time": "2022-03-25T07:17:22.600Z"
   },
   {
    "duration": 12,
    "start_time": "2022-03-25T07:17:22.612Z"
   },
   {
    "duration": 50,
    "start_time": "2022-03-25T07:17:22.627Z"
   },
   {
    "duration": 25,
    "start_time": "2022-03-25T07:17:22.679Z"
   },
   {
    "duration": 3,
    "start_time": "2022-03-25T07:17:22.706Z"
   },
   {
    "duration": 9,
    "start_time": "2022-03-25T07:17:22.715Z"
   },
   {
    "duration": 10,
    "start_time": "2022-03-25T07:17:22.726Z"
   },
   {
    "duration": 9,
    "start_time": "2022-03-25T07:17:22.774Z"
   },
   {
    "duration": 9,
    "start_time": "2022-03-25T07:17:22.785Z"
   },
   {
    "duration": 1642,
    "start_time": "2022-03-25T07:17:22.796Z"
   },
   {
    "duration": 8,
    "start_time": "2022-03-25T07:17:24.440Z"
   },
   {
    "duration": 28,
    "start_time": "2022-03-25T07:17:24.450Z"
   },
   {
    "duration": 8,
    "start_time": "2022-03-25T07:17:24.480Z"
   },
   {
    "duration": 8,
    "start_time": "2022-03-25T07:17:24.490Z"
   },
   {
    "duration": 318,
    "start_time": "2022-03-25T07:17:24.500Z"
   },
   {
    "duration": 6,
    "start_time": "2022-03-25T07:17:24.820Z"
   },
   {
    "duration": 6,
    "start_time": "2022-03-25T07:17:24.829Z"
   },
   {
    "duration": 7,
    "start_time": "2022-03-25T07:17:24.837Z"
   },
   {
    "duration": 5,
    "start_time": "2022-03-25T07:17:24.874Z"
   },
   {
    "duration": 14,
    "start_time": "2022-03-25T07:17:24.881Z"
   },
   {
    "duration": 6,
    "start_time": "2022-03-25T07:17:24.897Z"
   },
   {
    "duration": 573,
    "start_time": "2022-03-25T07:17:24.905Z"
   },
   {
    "duration": 4,
    "start_time": "2022-03-25T07:17:25.480Z"
   },
   {
    "duration": 596,
    "start_time": "2022-03-25T07:17:25.486Z"
   },
   {
    "duration": 5,
    "start_time": "2022-03-25T07:17:26.084Z"
   },
   {
    "duration": 251,
    "start_time": "2022-03-25T07:17:26.092Z"
   },
   {
    "duration": 2413,
    "start_time": "2022-03-25T07:17:26.345Z"
   },
   {
    "duration": 15,
    "start_time": "2022-03-25T07:17:28.760Z"
   },
   {
    "duration": 6,
    "start_time": "2022-03-25T07:17:28.778Z"
   },
   {
    "duration": 3,
    "start_time": "2022-03-25T07:21:18.778Z"
   },
   {
    "duration": 367,
    "start_time": "2022-03-25T07:21:20.816Z"
   },
   {
    "duration": 4,
    "start_time": "2022-03-25T07:21:23.375Z"
   },
   {
    "duration": 185,
    "start_time": "2022-03-25T07:21:24.033Z"
   },
   {
    "duration": 192,
    "start_time": "2022-03-25T07:23:01.105Z"
   },
   {
    "duration": 221,
    "start_time": "2022-03-25T07:25:01.284Z"
   },
   {
    "duration": 190,
    "start_time": "2022-03-25T07:36:55.356Z"
   },
   {
    "duration": 556,
    "start_time": "2022-03-25T07:37:02.119Z"
   },
   {
    "duration": 189,
    "start_time": "2022-03-25T07:37:04.179Z"
   },
   {
    "duration": 133,
    "start_time": "2022-03-25T07:37:16.510Z"
   },
   {
    "duration": 130,
    "start_time": "2022-03-25T07:37:19.676Z"
   },
   {
    "duration": 159,
    "start_time": "2022-03-25T07:37:22.971Z"
   },
   {
    "duration": 192,
    "start_time": "2022-03-25T07:37:26.529Z"
   },
   {
    "duration": 452,
    "start_time": "2022-03-25T07:37:31.066Z"
   },
   {
    "duration": 144,
    "start_time": "2022-03-25T07:37:34.577Z"
   },
   {
    "duration": 217,
    "start_time": "2022-03-25T07:37:38.628Z"
   },
   {
    "duration": 211,
    "start_time": "2022-03-25T07:38:03.684Z"
   },
   {
    "duration": 896,
    "start_time": "2022-03-25T07:38:05.880Z"
   },
   {
    "duration": 215,
    "start_time": "2022-03-25T07:38:08.880Z"
   },
   {
    "duration": 212,
    "start_time": "2022-03-25T07:38:38.707Z"
   },
   {
    "duration": 4,
    "start_time": "2022-03-25T07:38:46.307Z"
   },
   {
    "duration": 188,
    "start_time": "2022-03-25T07:38:46.837Z"
   },
   {
    "duration": 3,
    "start_time": "2022-03-25T07:43:29.163Z"
   },
   {
    "duration": 19,
    "start_time": "2022-03-25T07:43:29.169Z"
   },
   {
    "duration": 16,
    "start_time": "2022-03-25T07:43:29.190Z"
   },
   {
    "duration": 16,
    "start_time": "2022-03-25T07:43:29.210Z"
   },
   {
    "duration": 19,
    "start_time": "2022-03-25T07:43:29.229Z"
   },
   {
    "duration": 23,
    "start_time": "2022-03-25T07:43:29.250Z"
   },
   {
    "duration": 16,
    "start_time": "2022-03-25T07:43:29.276Z"
   },
   {
    "duration": 28,
    "start_time": "2022-03-25T07:43:29.295Z"
   },
   {
    "duration": 11,
    "start_time": "2022-03-25T07:43:29.326Z"
   },
   {
    "duration": 31,
    "start_time": "2022-03-25T07:43:29.343Z"
   },
   {
    "duration": 12,
    "start_time": "2022-03-25T07:43:29.376Z"
   },
   {
    "duration": 14,
    "start_time": "2022-03-25T07:43:29.391Z"
   },
   {
    "duration": 18,
    "start_time": "2022-03-25T07:43:29.407Z"
   },
   {
    "duration": 840,
    "start_time": "2022-03-25T07:43:29.428Z"
   },
   {
    "duration": 27,
    "start_time": "2022-03-25T07:43:30.270Z"
   },
   {
    "duration": 51,
    "start_time": "2022-03-25T07:43:30.299Z"
   },
   {
    "duration": 8,
    "start_time": "2022-03-25T07:43:30.353Z"
   },
   {
    "duration": 41,
    "start_time": "2022-03-25T07:43:30.374Z"
   },
   {
    "duration": 20,
    "start_time": "2022-03-25T07:43:30.417Z"
   },
   {
    "duration": 12,
    "start_time": "2022-03-25T07:43:30.439Z"
   },
   {
    "duration": 11,
    "start_time": "2022-03-25T07:43:30.453Z"
   },
   {
    "duration": 17,
    "start_time": "2022-03-25T07:43:30.466Z"
   },
   {
    "duration": 12,
    "start_time": "2022-03-25T07:43:30.485Z"
   },
   {
    "duration": 25,
    "start_time": "2022-03-25T07:43:30.499Z"
   },
   {
    "duration": 30,
    "start_time": "2022-03-25T07:43:30.526Z"
   },
   {
    "duration": 32,
    "start_time": "2022-03-25T07:43:30.559Z"
   },
   {
    "duration": 33,
    "start_time": "2022-03-25T07:43:30.594Z"
   },
   {
    "duration": 20,
    "start_time": "2022-03-25T07:43:30.649Z"
   },
   {
    "duration": 15,
    "start_time": "2022-03-25T07:43:30.671Z"
   },
   {
    "duration": 21,
    "start_time": "2022-03-25T07:43:30.688Z"
   },
   {
    "duration": 19,
    "start_time": "2022-03-25T07:43:30.711Z"
   },
   {
    "duration": 1320,
    "start_time": "2022-03-25T07:43:30.733Z"
   },
   {
    "duration": 19,
    "start_time": "2022-03-25T07:43:32.056Z"
   },
   {
    "duration": 9,
    "start_time": "2022-03-25T07:43:32.077Z"
   },
   {
    "duration": 11,
    "start_time": "2022-03-25T07:43:32.089Z"
   },
   {
    "duration": 9,
    "start_time": "2022-03-25T07:43:32.103Z"
   },
   {
    "duration": 329,
    "start_time": "2022-03-25T07:43:32.115Z"
   },
   {
    "duration": 7,
    "start_time": "2022-03-25T07:43:32.447Z"
   },
   {
    "duration": 22,
    "start_time": "2022-03-25T07:43:32.456Z"
   },
   {
    "duration": 9,
    "start_time": "2022-03-25T07:43:32.481Z"
   },
   {
    "duration": 6,
    "start_time": "2022-03-25T07:43:32.493Z"
   },
   {
    "duration": 5,
    "start_time": "2022-03-25T07:43:32.501Z"
   },
   {
    "duration": 243,
    "start_time": "2022-03-25T07:43:32.508Z"
   },
   {
    "duration": 4,
    "start_time": "2022-03-25T07:43:32.753Z"
   },
   {
    "duration": 375,
    "start_time": "2022-03-25T07:43:32.759Z"
   },
   {
    "duration": 846,
    "start_time": "2022-03-25T07:43:33.137Z"
   },
   {
    "duration": 425,
    "start_time": "2022-03-25T07:43:33.985Z"
   },
   {
    "duration": 2354,
    "start_time": "2022-03-25T07:43:34.412Z"
   },
   {
    "duration": 11,
    "start_time": "2022-03-25T07:43:36.768Z"
   },
   {
    "duration": 5,
    "start_time": "2022-03-25T07:43:36.782Z"
   },
   {
    "duration": 4,
    "start_time": "2022-03-25T07:59:25.749Z"
   },
   {
    "duration": 8,
    "start_time": "2022-03-25T07:59:25.756Z"
   },
   {
    "duration": 7,
    "start_time": "2022-03-25T07:59:25.767Z"
   },
   {
    "duration": 6,
    "start_time": "2022-03-25T07:59:25.777Z"
   },
   {
    "duration": 12,
    "start_time": "2022-03-25T07:59:25.786Z"
   },
   {
    "duration": 8,
    "start_time": "2022-03-25T07:59:25.800Z"
   },
   {
    "duration": 7,
    "start_time": "2022-03-25T07:59:25.811Z"
   },
   {
    "duration": 54,
    "start_time": "2022-03-25T07:59:25.821Z"
   },
   {
    "duration": 8,
    "start_time": "2022-03-25T07:59:25.878Z"
   },
   {
    "duration": 6,
    "start_time": "2022-03-25T07:59:25.892Z"
   },
   {
    "duration": 6,
    "start_time": "2022-03-25T07:59:25.901Z"
   },
   {
    "duration": 11,
    "start_time": "2022-03-25T07:59:25.910Z"
   },
   {
    "duration": 5,
    "start_time": "2022-03-25T07:59:25.973Z"
   },
   {
    "duration": 855,
    "start_time": "2022-03-25T07:59:25.980Z"
   },
   {
    "duration": 24,
    "start_time": "2022-03-25T07:59:26.837Z"
   },
   {
    "duration": 34,
    "start_time": "2022-03-25T07:59:26.875Z"
   },
   {
    "duration": 7,
    "start_time": "2022-03-25T07:59:26.911Z"
   },
   {
    "duration": 6,
    "start_time": "2022-03-25T07:59:26.921Z"
   },
   {
    "duration": 45,
    "start_time": "2022-03-25T07:59:26.930Z"
   },
   {
    "duration": 7,
    "start_time": "2022-03-25T07:59:26.978Z"
   },
   {
    "duration": 4,
    "start_time": "2022-03-25T07:59:26.988Z"
   },
   {
    "duration": 8,
    "start_time": "2022-03-25T07:59:26.995Z"
   },
   {
    "duration": 7,
    "start_time": "2022-03-25T07:59:27.006Z"
   },
   {
    "duration": 11,
    "start_time": "2022-03-25T07:59:27.016Z"
   },
   {
    "duration": 12,
    "start_time": "2022-03-25T07:59:27.075Z"
   },
   {
    "duration": 31,
    "start_time": "2022-03-25T07:59:27.090Z"
   },
   {
    "duration": 4,
    "start_time": "2022-03-25T07:59:27.123Z"
   },
   {
    "duration": 48,
    "start_time": "2022-03-25T07:59:27.135Z"
   },
   {
    "duration": 9,
    "start_time": "2022-03-25T07:59:27.186Z"
   },
   {
    "duration": 10,
    "start_time": "2022-03-25T07:59:27.197Z"
   },
   {
    "duration": 13,
    "start_time": "2022-03-25T07:59:27.209Z"
   },
   {
    "duration": 1450,
    "start_time": "2022-03-25T07:59:27.224Z"
   },
   {
    "duration": 9,
    "start_time": "2022-03-25T07:59:28.677Z"
   },
   {
    "duration": 9,
    "start_time": "2022-03-25T07:59:28.688Z"
   },
   {
    "duration": 11,
    "start_time": "2022-03-25T07:59:28.699Z"
   },
   {
    "duration": 8,
    "start_time": "2022-03-25T07:59:28.713Z"
   },
   {
    "duration": 330,
    "start_time": "2022-03-25T07:59:28.723Z"
   },
   {
    "duration": 6,
    "start_time": "2022-03-25T07:59:29.055Z"
   },
   {
    "duration": 15,
    "start_time": "2022-03-25T07:59:29.063Z"
   },
   {
    "duration": 6,
    "start_time": "2022-03-25T07:59:29.080Z"
   },
   {
    "duration": 7,
    "start_time": "2022-03-25T07:59:29.088Z"
   },
   {
    "duration": 8,
    "start_time": "2022-03-25T07:59:29.098Z"
   },
   {
    "duration": 8,
    "start_time": "2022-03-25T07:59:29.108Z"
   },
   {
    "duration": 508,
    "start_time": "2022-03-25T07:59:29.119Z"
   },
   {
    "duration": 850,
    "start_time": "2022-03-25T07:59:29.630Z"
   },
   {
    "duration": 694,
    "start_time": "2022-03-25T07:59:30.482Z"
   },
   {
    "duration": 316,
    "start_time": "2022-03-25T07:59:31.180Z"
   },
   {
    "duration": 4440,
    "start_time": "2022-03-25T07:59:31.499Z"
   },
   {
    "duration": 6,
    "start_time": "2022-03-25T07:59:35.941Z"
   },
   {
    "duration": 8,
    "start_time": "2022-03-25T07:59:35.949Z"
   },
   {
    "duration": 711,
    "start_time": "2022-03-25T07:59:35.973Z"
   },
   {
    "duration": 405,
    "start_time": "2022-03-25T07:59:36.775Z"
   },
   {
    "duration": 7133,
    "start_time": "2022-03-25T07:59:37.183Z"
   },
   {
    "duration": 333,
    "start_time": "2022-03-25T08:03:23.265Z"
   },
   {
    "duration": 325,
    "start_time": "2022-03-25T08:03:41.126Z"
   },
   {
    "duration": 1502,
    "start_time": "2022-03-25T08:05:00.733Z"
   },
   {
    "duration": 5,
    "start_time": "2022-03-25T09:49:42.424Z"
   },
   {
    "duration": 8,
    "start_time": "2022-03-25T09:49:42.432Z"
   },
   {
    "duration": 6,
    "start_time": "2022-03-25T09:49:42.442Z"
   },
   {
    "duration": 8,
    "start_time": "2022-03-25T09:49:42.450Z"
   },
   {
    "duration": 10,
    "start_time": "2022-03-25T09:49:42.461Z"
   },
   {
    "duration": 8,
    "start_time": "2022-03-25T09:49:42.473Z"
   },
   {
    "duration": 9,
    "start_time": "2022-03-25T09:49:42.483Z"
   },
   {
    "duration": 11,
    "start_time": "2022-03-25T09:49:42.494Z"
   },
   {
    "duration": 9,
    "start_time": "2022-03-25T09:49:42.507Z"
   },
   {
    "duration": 10,
    "start_time": "2022-03-25T09:49:42.518Z"
   },
   {
    "duration": 45,
    "start_time": "2022-03-25T09:49:42.532Z"
   },
   {
    "duration": 10,
    "start_time": "2022-03-25T09:49:42.579Z"
   },
   {
    "duration": 6,
    "start_time": "2022-03-25T09:49:42.591Z"
   },
   {
    "duration": 798,
    "start_time": "2022-03-25T09:49:42.599Z"
   },
   {
    "duration": 24,
    "start_time": "2022-03-25T09:49:43.400Z"
   },
   {
    "duration": 47,
    "start_time": "2022-03-25T09:49:43.427Z"
   },
   {
    "duration": 6,
    "start_time": "2022-03-25T09:49:43.476Z"
   },
   {
    "duration": 6,
    "start_time": "2022-03-25T09:49:43.485Z"
   },
   {
    "duration": 5,
    "start_time": "2022-03-25T09:49:43.493Z"
   },
   {
    "duration": 6,
    "start_time": "2022-03-25T09:49:43.501Z"
   },
   {
    "duration": 5,
    "start_time": "2022-03-25T09:49:43.509Z"
   },
   {
    "duration": 6,
    "start_time": "2022-03-25T09:49:43.517Z"
   },
   {
    "duration": 6,
    "start_time": "2022-03-25T09:49:43.525Z"
   },
   {
    "duration": 8,
    "start_time": "2022-03-25T09:49:43.533Z"
   },
   {
    "duration": 38,
    "start_time": "2022-03-25T09:49:43.543Z"
   },
   {
    "duration": 24,
    "start_time": "2022-03-25T09:49:43.584Z"
   },
   {
    "duration": 4,
    "start_time": "2022-03-25T09:49:43.610Z"
   },
   {
    "duration": 11,
    "start_time": "2022-03-25T09:49:43.616Z"
   },
   {
    "duration": 8,
    "start_time": "2022-03-25T09:49:43.634Z"
   },
   {
    "duration": 10,
    "start_time": "2022-03-25T09:49:43.644Z"
   },
   {
    "duration": 25,
    "start_time": "2022-03-25T09:49:43.656Z"
   },
   {
    "duration": 1597,
    "start_time": "2022-03-25T09:49:43.683Z"
   },
   {
    "duration": 8,
    "start_time": "2022-03-25T09:49:45.282Z"
   },
   {
    "duration": 7,
    "start_time": "2022-03-25T09:49:45.293Z"
   },
   {
    "duration": 9,
    "start_time": "2022-03-25T09:49:45.302Z"
   },
   {
    "duration": 8,
    "start_time": "2022-03-25T09:49:45.314Z"
   },
   {
    "duration": 394,
    "start_time": "2022-03-25T09:49:45.324Z"
   },
   {
    "duration": 6,
    "start_time": "2022-03-25T09:49:45.721Z"
   },
   {
    "duration": 51,
    "start_time": "2022-03-25T09:49:45.728Z"
   },
   {
    "duration": 11,
    "start_time": "2022-03-25T09:49:45.781Z"
   },
   {
    "duration": 8,
    "start_time": "2022-03-25T09:49:45.795Z"
   },
   {
    "duration": 7,
    "start_time": "2022-03-25T09:49:45.805Z"
   },
   {
    "duration": 7,
    "start_time": "2022-03-25T09:49:45.814Z"
   },
   {
    "duration": 463,
    "start_time": "2022-03-25T09:49:45.823Z"
   },
   {
    "duration": 818,
    "start_time": "2022-03-25T09:49:46.289Z"
   },
   {
    "duration": 667,
    "start_time": "2022-03-25T09:49:47.109Z"
   },
   {
    "duration": 296,
    "start_time": "2022-03-25T09:49:47.778Z"
   },
   {
    "duration": 4423,
    "start_time": "2022-03-25T09:49:48.076Z"
   },
   {
    "duration": 6,
    "start_time": "2022-03-25T09:49:52.501Z"
   },
   {
    "duration": 8,
    "start_time": "2022-03-25T09:49:52.509Z"
   },
   {
    "duration": 959,
    "start_time": "2022-03-25T09:49:52.519Z"
   },
   {
    "duration": 422,
    "start_time": "2022-03-25T09:49:53.481Z"
   },
   {
    "duration": 1336,
    "start_time": "2022-03-25T09:49:53.906Z"
   },
   {
    "duration": 7276,
    "start_time": "2022-03-25T09:49:55.244Z"
   },
   {
    "duration": 21729,
    "start_time": "2022-03-25T09:51:01.474Z"
   },
   {
    "duration": 1530,
    "start_time": "2022-03-25T09:51:38.438Z"
   },
   {
    "duration": 4868,
    "start_time": "2022-03-25T09:55:41.947Z"
   },
   {
    "duration": 4643,
    "start_time": "2022-03-25T09:56:44.070Z"
   },
   {
    "duration": 4663,
    "start_time": "2022-03-25T09:56:53.171Z"
   },
   {
    "duration": 4,
    "start_time": "2022-03-25T09:57:10.261Z"
   },
   {
    "duration": 11,
    "start_time": "2022-03-25T09:57:10.267Z"
   },
   {
    "duration": 14,
    "start_time": "2022-03-25T09:57:10.281Z"
   },
   {
    "duration": 20,
    "start_time": "2022-03-25T09:57:10.298Z"
   },
   {
    "duration": 19,
    "start_time": "2022-03-25T09:57:10.321Z"
   },
   {
    "duration": 35,
    "start_time": "2022-03-25T09:57:10.343Z"
   },
   {
    "duration": 15,
    "start_time": "2022-03-25T09:57:10.381Z"
   },
   {
    "duration": 13,
    "start_time": "2022-03-25T09:57:10.398Z"
   },
   {
    "duration": 11,
    "start_time": "2022-03-25T09:57:10.413Z"
   },
   {
    "duration": 15,
    "start_time": "2022-03-25T09:57:10.426Z"
   },
   {
    "duration": 7,
    "start_time": "2022-03-25T09:57:10.474Z"
   },
   {
    "duration": 20,
    "start_time": "2022-03-25T09:57:10.483Z"
   },
   {
    "duration": 9,
    "start_time": "2022-03-25T09:57:10.506Z"
   },
   {
    "duration": 843,
    "start_time": "2022-03-25T09:57:10.518Z"
   },
   {
    "duration": 38,
    "start_time": "2022-03-25T09:57:11.364Z"
   },
   {
    "duration": 38,
    "start_time": "2022-03-25T09:57:11.405Z"
   },
   {
    "duration": 6,
    "start_time": "2022-03-25T09:57:11.445Z"
   },
   {
    "duration": 6,
    "start_time": "2022-03-25T09:57:11.475Z"
   },
   {
    "duration": 10,
    "start_time": "2022-03-25T09:57:11.483Z"
   },
   {
    "duration": 10,
    "start_time": "2022-03-25T09:57:11.495Z"
   },
   {
    "duration": 10,
    "start_time": "2022-03-25T09:57:11.507Z"
   },
   {
    "duration": 12,
    "start_time": "2022-03-25T09:57:11.520Z"
   },
   {
    "duration": 48,
    "start_time": "2022-03-25T09:57:11.535Z"
   },
   {
    "duration": 18,
    "start_time": "2022-03-25T09:57:11.586Z"
   },
   {
    "duration": 14,
    "start_time": "2022-03-25T09:57:11.607Z"
   },
   {
    "duration": 51,
    "start_time": "2022-03-25T09:57:11.623Z"
   },
   {
    "duration": 3,
    "start_time": "2022-03-25T09:57:11.676Z"
   },
   {
    "duration": 15,
    "start_time": "2022-03-25T09:57:11.681Z"
   },
   {
    "duration": 10,
    "start_time": "2022-03-25T09:57:11.703Z"
   },
   {
    "duration": 10,
    "start_time": "2022-03-25T09:57:11.716Z"
   },
   {
    "duration": 51,
    "start_time": "2022-03-25T09:57:11.728Z"
   },
   {
    "duration": 1879,
    "start_time": "2022-03-25T09:57:11.782Z"
   },
   {
    "duration": 16,
    "start_time": "2022-03-25T09:57:13.665Z"
   },
   {
    "duration": 17,
    "start_time": "2022-03-25T09:57:13.684Z"
   },
   {
    "duration": 8,
    "start_time": "2022-03-25T09:57:13.704Z"
   },
   {
    "duration": 17,
    "start_time": "2022-03-25T09:57:13.715Z"
   },
   {
    "duration": 366,
    "start_time": "2022-03-25T09:57:13.735Z"
   },
   {
    "duration": 10,
    "start_time": "2022-03-25T09:57:14.103Z"
   },
   {
    "duration": 9,
    "start_time": "2022-03-25T09:57:14.116Z"
   },
   {
    "duration": 13,
    "start_time": "2022-03-25T09:57:14.127Z"
   },
   {
    "duration": 31,
    "start_time": "2022-03-25T09:57:14.142Z"
   },
   {
    "duration": 6,
    "start_time": "2022-03-25T09:57:14.176Z"
   },
   {
    "duration": 22,
    "start_time": "2022-03-25T09:57:14.184Z"
   },
   {
    "duration": 482,
    "start_time": "2022-03-25T09:57:14.208Z"
   },
   {
    "duration": 849,
    "start_time": "2022-03-25T09:57:14.693Z"
   },
   {
    "duration": 1033,
    "start_time": "2022-03-25T09:57:15.544Z"
   },
   {
    "duration": 326,
    "start_time": "2022-03-25T09:57:16.580Z"
   },
   {
    "duration": 5320,
    "start_time": "2022-03-25T09:57:16.909Z"
   },
   {
    "duration": 8,
    "start_time": "2022-03-25T09:57:22.232Z"
   },
   {
    "duration": 188,
    "start_time": "2022-03-25T09:57:22.243Z"
   },
   {
    "duration": 1042,
    "start_time": "2022-03-25T09:57:22.434Z"
   },
   {
    "duration": 819,
    "start_time": "2022-03-25T09:57:23.479Z"
   },
   {
    "duration": 2844,
    "start_time": "2022-03-25T09:57:24.301Z"
   },
   {
    "duration": 8441,
    "start_time": "2022-03-25T09:57:27.147Z"
   },
   {
    "duration": 6,
    "start_time": "2022-03-25T09:57:35.590Z"
   },
   {
    "duration": 4,
    "start_time": "2022-03-25T10:36:16.954Z"
   },
   {
    "duration": 16,
    "start_time": "2022-03-25T10:36:16.961Z"
   },
   {
    "duration": 6,
    "start_time": "2022-03-25T10:36:17.040Z"
   },
   {
    "duration": 8,
    "start_time": "2022-03-25T10:36:17.070Z"
   },
   {
    "duration": 9,
    "start_time": "2022-03-25T10:36:17.082Z"
   },
   {
    "duration": 10,
    "start_time": "2022-03-25T10:36:17.094Z"
   },
   {
    "duration": 7,
    "start_time": "2022-03-25T10:36:17.107Z"
   },
   {
    "duration": 54,
    "start_time": "2022-03-25T10:36:17.119Z"
   },
   {
    "duration": 7,
    "start_time": "2022-03-25T10:36:17.176Z"
   },
   {
    "duration": 8,
    "start_time": "2022-03-25T10:36:17.186Z"
   },
   {
    "duration": 6,
    "start_time": "2022-03-25T10:36:17.196Z"
   },
   {
    "duration": 9,
    "start_time": "2022-03-25T10:36:17.205Z"
   },
   {
    "duration": 9,
    "start_time": "2022-03-25T10:36:17.216Z"
   },
   {
    "duration": 932,
    "start_time": "2022-03-25T10:36:17.227Z"
   },
   {
    "duration": 37,
    "start_time": "2022-03-25T10:36:18.162Z"
   },
   {
    "duration": 39,
    "start_time": "2022-03-25T10:36:18.202Z"
   },
   {
    "duration": 31,
    "start_time": "2022-03-25T10:36:18.246Z"
   },
   {
    "duration": 8,
    "start_time": "2022-03-25T10:36:18.279Z"
   },
   {
    "duration": 7,
    "start_time": "2022-03-25T10:36:18.291Z"
   },
   {
    "duration": 10,
    "start_time": "2022-03-25T10:36:18.301Z"
   },
   {
    "duration": 10,
    "start_time": "2022-03-25T10:36:18.313Z"
   },
   {
    "duration": 34,
    "start_time": "2022-03-25T10:36:18.326Z"
   },
   {
    "duration": 8,
    "start_time": "2022-03-25T10:36:18.375Z"
   },
   {
    "duration": 16,
    "start_time": "2022-03-25T10:36:18.385Z"
   },
   {
    "duration": 16,
    "start_time": "2022-03-25T10:36:18.409Z"
   },
   {
    "duration": 58,
    "start_time": "2022-03-25T10:36:18.427Z"
   },
   {
    "duration": 4,
    "start_time": "2022-03-25T10:36:18.488Z"
   },
   {
    "duration": 15,
    "start_time": "2022-03-25T10:36:18.494Z"
   },
   {
    "duration": 13,
    "start_time": "2022-03-25T10:36:18.512Z"
   },
   {
    "duration": 10,
    "start_time": "2022-03-25T10:36:18.528Z"
   },
   {
    "duration": 10,
    "start_time": "2022-03-25T10:36:18.576Z"
   },
   {
    "duration": 1575,
    "start_time": "2022-03-25T10:36:18.589Z"
   },
   {
    "duration": 13,
    "start_time": "2022-03-25T10:36:20.166Z"
   },
   {
    "duration": 12,
    "start_time": "2022-03-25T10:36:20.182Z"
   },
   {
    "duration": 11,
    "start_time": "2022-03-25T10:36:20.197Z"
   },
   {
    "duration": 11,
    "start_time": "2022-03-25T10:36:20.211Z"
   },
   {
    "duration": 352,
    "start_time": "2022-03-25T10:36:20.224Z"
   },
   {
    "duration": 7,
    "start_time": "2022-03-25T10:36:20.581Z"
   },
   {
    "duration": 9,
    "start_time": "2022-03-25T10:36:20.590Z"
   },
   {
    "duration": 7,
    "start_time": "2022-03-25T10:36:20.602Z"
   },
   {
    "duration": 14,
    "start_time": "2022-03-25T10:36:20.611Z"
   },
   {
    "duration": 9,
    "start_time": "2022-03-25T10:36:20.628Z"
   },
   {
    "duration": 35,
    "start_time": "2022-03-25T10:36:20.639Z"
   },
   {
    "duration": 652,
    "start_time": "2022-03-25T10:36:20.682Z"
   },
   {
    "duration": 1192,
    "start_time": "2022-03-25T10:36:21.337Z"
   },
   {
    "duration": 649,
    "start_time": "2022-03-25T10:36:22.532Z"
   },
   {
    "duration": 328,
    "start_time": "2022-03-25T10:36:23.183Z"
   },
   {
    "duration": 4723,
    "start_time": "2022-03-25T10:36:23.513Z"
   },
   {
    "duration": 6,
    "start_time": "2022-03-25T10:36:28.238Z"
   },
   {
    "duration": 8,
    "start_time": "2022-03-25T10:36:28.246Z"
   },
   {
    "duration": 1119,
    "start_time": "2022-03-25T10:36:28.256Z"
   },
   {
    "duration": 549,
    "start_time": "2022-03-25T10:36:29.379Z"
   },
   {
    "duration": 1538,
    "start_time": "2022-03-25T10:36:29.930Z"
   },
   {
    "duration": 9021,
    "start_time": "2022-03-25T10:36:31.470Z"
   },
   {
    "duration": 6,
    "start_time": "2022-03-25T10:36:40.493Z"
   },
   {
    "duration": 89,
    "start_time": "2022-03-25T10:36:40.502Z"
   },
   {
    "duration": 5,
    "start_time": "2022-03-25T10:39:34.982Z"
   },
   {
    "duration": 29,
    "start_time": "2022-03-25T10:39:34.989Z"
   },
   {
    "duration": 16,
    "start_time": "2022-03-25T10:39:35.022Z"
   },
   {
    "duration": 15,
    "start_time": "2022-03-25T10:39:35.041Z"
   },
   {
    "duration": 8,
    "start_time": "2022-03-25T10:39:35.074Z"
   },
   {
    "duration": 12,
    "start_time": "2022-03-25T10:39:35.085Z"
   },
   {
    "duration": 19,
    "start_time": "2022-03-25T10:39:35.100Z"
   },
   {
    "duration": 14,
    "start_time": "2022-03-25T10:39:35.121Z"
   },
   {
    "duration": 39,
    "start_time": "2022-03-25T10:39:35.139Z"
   },
   {
    "duration": 10,
    "start_time": "2022-03-25T10:39:35.181Z"
   },
   {
    "duration": 32,
    "start_time": "2022-03-25T10:39:35.194Z"
   },
   {
    "duration": 14,
    "start_time": "2022-03-25T10:39:35.228Z"
   },
   {
    "duration": 17,
    "start_time": "2022-03-25T10:39:35.244Z"
   },
   {
    "duration": 1053,
    "start_time": "2022-03-25T10:39:35.264Z"
   },
   {
    "duration": 29,
    "start_time": "2022-03-25T10:39:36.321Z"
   },
   {
    "duration": 49,
    "start_time": "2022-03-25T10:39:36.353Z"
   },
   {
    "duration": 8,
    "start_time": "2022-03-25T10:39:36.404Z"
   },
   {
    "duration": 9,
    "start_time": "2022-03-25T10:39:36.416Z"
   },
   {
    "duration": 12,
    "start_time": "2022-03-25T10:39:36.427Z"
   },
   {
    "duration": 37,
    "start_time": "2022-03-25T10:39:36.441Z"
   },
   {
    "duration": 12,
    "start_time": "2022-03-25T10:39:36.480Z"
   },
   {
    "duration": 10,
    "start_time": "2022-03-25T10:39:36.495Z"
   },
   {
    "duration": 6,
    "start_time": "2022-03-25T10:39:36.508Z"
   },
   {
    "duration": 12,
    "start_time": "2022-03-25T10:39:36.520Z"
   },
   {
    "duration": 10,
    "start_time": "2022-03-25T10:39:36.575Z"
   },
   {
    "duration": 30,
    "start_time": "2022-03-25T10:39:36.588Z"
   },
   {
    "duration": 6,
    "start_time": "2022-03-25T10:39:36.622Z"
   },
   {
    "duration": 45,
    "start_time": "2022-03-25T10:39:36.630Z"
   },
   {
    "duration": 13,
    "start_time": "2022-03-25T10:39:36.679Z"
   },
   {
    "duration": 11,
    "start_time": "2022-03-25T10:39:36.695Z"
   },
   {
    "duration": 11,
    "start_time": "2022-03-25T10:39:36.709Z"
   },
   {
    "duration": 1518,
    "start_time": "2022-03-25T10:39:36.723Z"
   },
   {
    "duration": 9,
    "start_time": "2022-03-25T10:39:38.244Z"
   },
   {
    "duration": 35,
    "start_time": "2022-03-25T10:39:38.255Z"
   },
   {
    "duration": 9,
    "start_time": "2022-03-25T10:39:38.293Z"
   },
   {
    "duration": 8,
    "start_time": "2022-03-25T10:39:38.305Z"
   },
   {
    "duration": 340,
    "start_time": "2022-03-25T10:39:38.315Z"
   },
   {
    "duration": 18,
    "start_time": "2022-03-25T10:39:38.658Z"
   },
   {
    "duration": 7,
    "start_time": "2022-03-25T10:39:38.679Z"
   },
   {
    "duration": 7,
    "start_time": "2022-03-25T10:39:38.689Z"
   },
   {
    "duration": 8,
    "start_time": "2022-03-25T10:39:38.698Z"
   },
   {
    "duration": 7,
    "start_time": "2022-03-25T10:39:38.709Z"
   },
   {
    "duration": 16,
    "start_time": "2022-03-25T10:39:38.718Z"
   },
   {
    "duration": 505,
    "start_time": "2022-03-25T10:39:38.736Z"
   },
   {
    "duration": 1291,
    "start_time": "2022-03-25T10:39:39.245Z"
   },
   {
    "duration": 636,
    "start_time": "2022-03-25T10:39:40.539Z"
   },
   {
    "duration": 317,
    "start_time": "2022-03-25T10:39:41.179Z"
   },
   {
    "duration": 1372,
    "start_time": "2022-03-25T10:39:41.499Z"
   },
   {
    "duration": 6763,
    "start_time": "2022-03-25T10:39:42.875Z"
   },
   {
    "duration": 7,
    "start_time": "2022-03-25T10:39:49.641Z"
   },
   {
    "duration": 22,
    "start_time": "2022-03-25T10:39:49.651Z"
   },
   {
    "duration": 1099,
    "start_time": "2022-03-25T10:39:49.676Z"
   },
   {
    "duration": 362,
    "start_time": "2022-03-25T10:39:50.777Z"
   },
   {
    "duration": 1648,
    "start_time": "2022-03-25T10:39:51.141Z"
   },
   {
    "duration": 7884,
    "start_time": "2022-03-25T10:39:52.792Z"
   },
   {
    "duration": 6,
    "start_time": "2022-03-25T10:40:00.679Z"
   },
   {
    "duration": 98,
    "start_time": "2022-03-25T10:40:00.688Z"
   },
   {
    "duration": 4,
    "start_time": "2022-03-25T10:41:03.469Z"
   },
   {
    "duration": 4,
    "start_time": "2022-03-25T10:41:06.491Z"
   },
   {
    "duration": 5,
    "start_time": "2022-03-25T10:41:38.158Z"
   },
   {
    "duration": 25,
    "start_time": "2022-03-25T11:08:53.819Z"
   },
   {
    "duration": 26,
    "start_time": "2022-03-25T11:08:55.315Z"
   },
   {
    "duration": 25,
    "start_time": "2022-03-25T11:08:56.621Z"
   },
   {
    "duration": 40,
    "start_time": "2022-03-25T11:30:13.808Z"
   },
   {
    "duration": 44,
    "start_time": "2022-03-25T11:32:21.045Z"
   },
   {
    "duration": 11,
    "start_time": "2022-03-25T11:32:48.824Z"
   },
   {
    "duration": 28,
    "start_time": "2022-03-25T11:33:26.749Z"
   },
   {
    "duration": 11,
    "start_time": "2022-03-25T11:34:03.549Z"
   },
   {
    "duration": 41,
    "start_time": "2022-03-25T11:35:03.843Z"
   },
   {
    "duration": 32,
    "start_time": "2022-03-25T11:35:37.388Z"
   },
   {
    "duration": 22,
    "start_time": "2022-03-25T11:36:19.668Z"
   },
   {
    "duration": 22,
    "start_time": "2022-03-25T11:36:42.187Z"
   },
   {
    "duration": 4,
    "start_time": "2022-03-25T11:40:45.245Z"
   },
   {
    "duration": 8,
    "start_time": "2022-03-25T11:40:45.252Z"
   },
   {
    "duration": 8,
    "start_time": "2022-03-25T11:40:45.262Z"
   },
   {
    "duration": 8,
    "start_time": "2022-03-25T11:40:45.273Z"
   },
   {
    "duration": 15,
    "start_time": "2022-03-25T11:40:45.283Z"
   },
   {
    "duration": 6,
    "start_time": "2022-03-25T11:40:45.300Z"
   },
   {
    "duration": 7,
    "start_time": "2022-03-25T11:40:45.308Z"
   },
   {
    "duration": 7,
    "start_time": "2022-03-25T11:40:45.317Z"
   },
   {
    "duration": 47,
    "start_time": "2022-03-25T11:40:45.328Z"
   },
   {
    "duration": 7,
    "start_time": "2022-03-25T11:40:45.377Z"
   },
   {
    "duration": 8,
    "start_time": "2022-03-25T11:40:45.386Z"
   },
   {
    "duration": 12,
    "start_time": "2022-03-25T11:40:45.396Z"
   },
   {
    "duration": 13,
    "start_time": "2022-03-25T11:40:45.411Z"
   },
   {
    "duration": 815,
    "start_time": "2022-03-25T11:40:45.426Z"
   },
   {
    "duration": 35,
    "start_time": "2022-03-25T11:40:46.244Z"
   },
   {
    "duration": 26,
    "start_time": "2022-03-25T11:40:46.281Z"
   },
   {
    "duration": 5,
    "start_time": "2022-03-25T11:40:46.310Z"
   },
   {
    "duration": 6,
    "start_time": "2022-03-25T11:40:46.318Z"
   },
   {
    "duration": 48,
    "start_time": "2022-03-25T11:40:46.327Z"
   },
   {
    "duration": 26,
    "start_time": "2022-03-25T11:40:46.378Z"
   },
   {
    "duration": 32,
    "start_time": "2022-03-25T11:40:46.407Z"
   },
   {
    "duration": 52,
    "start_time": "2022-03-25T11:40:46.441Z"
   },
   {
    "duration": 7,
    "start_time": "2022-03-25T11:40:46.495Z"
   },
   {
    "duration": 4,
    "start_time": "2022-03-25T11:40:46.509Z"
   },
   {
    "duration": 10,
    "start_time": "2022-03-25T11:40:46.515Z"
   },
   {
    "duration": 22,
    "start_time": "2022-03-25T11:40:46.527Z"
   },
   {
    "duration": 32,
    "start_time": "2022-03-25T11:40:46.551Z"
   },
   {
    "duration": 64,
    "start_time": "2022-03-25T11:40:46.586Z"
   },
   {
    "duration": 16,
    "start_time": "2022-03-25T11:40:46.652Z"
   },
   {
    "duration": 11,
    "start_time": "2022-03-25T11:40:46.674Z"
   },
   {
    "duration": 35,
    "start_time": "2022-03-25T11:40:46.688Z"
   },
   {
    "duration": 58,
    "start_time": "2022-03-25T11:40:46.726Z"
   },
   {
    "duration": 9,
    "start_time": "2022-03-25T11:40:46.787Z"
   },
   {
    "duration": 30,
    "start_time": "2022-03-25T11:40:46.798Z"
   },
   {
    "duration": 5,
    "start_time": "2022-03-25T11:40:46.830Z"
   },
   {
    "duration": 39,
    "start_time": "2022-03-25T11:40:46.838Z"
   },
   {
    "duration": 11,
    "start_time": "2022-03-25T11:40:46.880Z"
   },
   {
    "duration": 11,
    "start_time": "2022-03-25T11:40:46.894Z"
   },
   {
    "duration": 10,
    "start_time": "2022-03-25T11:40:46.908Z"
   },
   {
    "duration": 1383,
    "start_time": "2022-03-25T11:40:46.920Z"
   },
   {
    "duration": 7,
    "start_time": "2022-03-25T11:40:48.305Z"
   },
   {
    "duration": 8,
    "start_time": "2022-03-25T11:40:48.314Z"
   },
   {
    "duration": 7,
    "start_time": "2022-03-25T11:40:48.325Z"
   },
   {
    "duration": 10,
    "start_time": "2022-03-25T11:40:48.334Z"
   },
   {
    "duration": 291,
    "start_time": "2022-03-25T11:40:48.346Z"
   },
   {
    "duration": 6,
    "start_time": "2022-03-25T11:40:48.640Z"
   },
   {
    "duration": 5,
    "start_time": "2022-03-25T11:40:48.648Z"
   },
   {
    "duration": 10,
    "start_time": "2022-03-25T11:40:48.655Z"
   },
   {
    "duration": 9,
    "start_time": "2022-03-25T11:40:48.667Z"
   },
   {
    "duration": 8,
    "start_time": "2022-03-25T11:40:48.678Z"
   },
   {
    "duration": 6,
    "start_time": "2022-03-25T11:40:48.688Z"
   },
   {
    "duration": 885,
    "start_time": "2022-03-25T11:40:48.696Z"
   },
   {
    "duration": 1833,
    "start_time": "2022-03-25T11:40:49.584Z"
   },
   {
    "duration": 1001,
    "start_time": "2022-03-25T11:40:51.473Z"
   },
   {
    "duration": 636,
    "start_time": "2022-03-25T11:40:52.477Z"
   },
   {
    "duration": 1446,
    "start_time": "2022-03-25T11:40:53.116Z"
   },
   {
    "duration": 4666,
    "start_time": "2022-03-25T11:40:54.564Z"
   },
   {
    "duration": 8,
    "start_time": "2022-03-25T11:40:59.233Z"
   },
   {
    "duration": 11,
    "start_time": "2022-03-25T11:40:59.244Z"
   },
   {
    "duration": 1020,
    "start_time": "2022-03-25T11:40:59.257Z"
   },
   {
    "duration": 421,
    "start_time": "2022-03-25T11:41:00.279Z"
   },
   {
    "duration": 1577,
    "start_time": "2022-03-25T11:41:00.703Z"
   },
   {
    "duration": 7525,
    "start_time": "2022-03-25T11:41:02.282Z"
   },
   {
    "duration": 7,
    "start_time": "2022-03-25T11:41:09.809Z"
   },
   {
    "duration": 11,
    "start_time": "2022-03-25T11:41:09.818Z"
   },
   {
    "duration": 19,
    "start_time": "2022-03-25T11:41:31.987Z"
   },
   {
    "duration": 23,
    "start_time": "2022-03-25T11:41:47.849Z"
   },
   {
    "duration": 14,
    "start_time": "2022-03-25T11:43:05.653Z"
   },
   {
    "duration": 17,
    "start_time": "2022-03-25T11:43:09.183Z"
   },
   {
    "duration": 12,
    "start_time": "2022-03-25T11:43:10.742Z"
   },
   {
    "duration": 14,
    "start_time": "2022-03-25T11:43:11.789Z"
   },
   {
    "duration": 27,
    "start_time": "2022-03-25T11:44:20.143Z"
   },
   {
    "duration": 14,
    "start_time": "2022-03-25T11:44:44.206Z"
   },
   {
    "duration": 27,
    "start_time": "2022-03-25T11:44:49.773Z"
   },
   {
    "duration": 19,
    "start_time": "2022-03-25T11:45:59.261Z"
   },
   {
    "duration": 14,
    "start_time": "2022-03-25T11:46:02.449Z"
   },
   {
    "duration": 41,
    "start_time": "2022-03-25T11:46:24.884Z"
   },
   {
    "duration": 12,
    "start_time": "2022-03-25T11:49:52.526Z"
   },
   {
    "duration": 4,
    "start_time": "2022-03-25T11:50:15.443Z"
   },
   {
    "duration": 66,
    "start_time": "2022-03-25T11:50:15.450Z"
   },
   {
    "duration": 9,
    "start_time": "2022-03-25T11:50:15.518Z"
   },
   {
    "duration": 15,
    "start_time": "2022-03-25T11:50:15.530Z"
   },
   {
    "duration": 27,
    "start_time": "2022-03-25T11:50:15.548Z"
   },
   {
    "duration": 48,
    "start_time": "2022-03-25T11:50:15.579Z"
   },
   {
    "duration": 77,
    "start_time": "2022-03-25T11:50:15.629Z"
   },
   {
    "duration": 8,
    "start_time": "2022-03-25T11:50:15.711Z"
   },
   {
    "duration": 20,
    "start_time": "2022-03-25T11:50:15.724Z"
   },
   {
    "duration": 7,
    "start_time": "2022-03-25T11:50:15.746Z"
   },
   {
    "duration": 14,
    "start_time": "2022-03-25T11:50:15.756Z"
   },
   {
    "duration": 26,
    "start_time": "2022-03-25T11:50:15.772Z"
   },
   {
    "duration": 31,
    "start_time": "2022-03-25T11:50:15.801Z"
   },
   {
    "duration": 866,
    "start_time": "2022-03-25T11:50:15.834Z"
   },
   {
    "duration": 29,
    "start_time": "2022-03-25T11:50:16.703Z"
   },
   {
    "duration": 47,
    "start_time": "2022-03-25T11:50:16.734Z"
   },
   {
    "duration": 6,
    "start_time": "2022-03-25T11:50:16.784Z"
   },
   {
    "duration": 21,
    "start_time": "2022-03-25T11:50:16.792Z"
   },
   {
    "duration": 21,
    "start_time": "2022-03-25T11:50:16.816Z"
   },
   {
    "duration": 40,
    "start_time": "2022-03-25T11:50:16.839Z"
   },
   {
    "duration": 51,
    "start_time": "2022-03-25T11:50:16.882Z"
   },
   {
    "duration": 35,
    "start_time": "2022-03-25T11:50:16.937Z"
   },
   {
    "duration": 24,
    "start_time": "2022-03-25T11:50:16.974Z"
   },
   {
    "duration": 21,
    "start_time": "2022-03-25T11:50:17.004Z"
   },
   {
    "duration": 22,
    "start_time": "2022-03-25T11:50:17.028Z"
   },
   {
    "duration": 30,
    "start_time": "2022-03-25T11:50:17.054Z"
   },
   {
    "duration": 46,
    "start_time": "2022-03-25T11:50:17.087Z"
   },
   {
    "duration": 53,
    "start_time": "2022-03-25T11:50:17.135Z"
   },
   {
    "duration": 16,
    "start_time": "2022-03-25T11:50:17.191Z"
   },
   {
    "duration": 23,
    "start_time": "2022-03-25T11:50:17.210Z"
   },
   {
    "duration": 48,
    "start_time": "2022-03-25T11:50:17.236Z"
   },
   {
    "duration": 17,
    "start_time": "2022-03-25T11:50:17.286Z"
   },
   {
    "duration": 25,
    "start_time": "2022-03-25T11:50:17.305Z"
   },
   {
    "duration": 32,
    "start_time": "2022-03-25T11:50:17.333Z"
   },
   {
    "duration": 17,
    "start_time": "2022-03-25T11:50:17.375Z"
   },
   {
    "duration": 44,
    "start_time": "2022-03-25T11:50:17.396Z"
   },
   {
    "duration": 0,
    "start_time": "2022-03-25T11:50:17.442Z"
   },
   {
    "duration": 0,
    "start_time": "2022-03-25T11:50:17.444Z"
   },
   {
    "duration": 0,
    "start_time": "2022-03-25T11:50:17.446Z"
   },
   {
    "duration": 0,
    "start_time": "2022-03-25T11:50:17.475Z"
   },
   {
    "duration": 0,
    "start_time": "2022-03-25T11:50:17.476Z"
   },
   {
    "duration": 0,
    "start_time": "2022-03-25T11:50:17.479Z"
   },
   {
    "duration": 0,
    "start_time": "2022-03-25T11:50:17.481Z"
   },
   {
    "duration": 0,
    "start_time": "2022-03-25T11:50:17.483Z"
   },
   {
    "duration": 0,
    "start_time": "2022-03-25T11:50:17.485Z"
   },
   {
    "duration": 0,
    "start_time": "2022-03-25T11:50:17.487Z"
   },
   {
    "duration": 0,
    "start_time": "2022-03-25T11:50:17.489Z"
   },
   {
    "duration": 0,
    "start_time": "2022-03-25T11:50:17.491Z"
   },
   {
    "duration": 0,
    "start_time": "2022-03-25T11:50:17.493Z"
   },
   {
    "duration": 0,
    "start_time": "2022-03-25T11:50:17.494Z"
   },
   {
    "duration": 0,
    "start_time": "2022-03-25T11:50:17.496Z"
   },
   {
    "duration": 0,
    "start_time": "2022-03-25T11:50:17.497Z"
   },
   {
    "duration": 0,
    "start_time": "2022-03-25T11:50:17.500Z"
   },
   {
    "duration": 0,
    "start_time": "2022-03-25T11:50:17.503Z"
   },
   {
    "duration": 0,
    "start_time": "2022-03-25T11:50:17.506Z"
   },
   {
    "duration": 0,
    "start_time": "2022-03-25T11:50:17.508Z"
   },
   {
    "duration": 0,
    "start_time": "2022-03-25T11:50:17.510Z"
   },
   {
    "duration": 0,
    "start_time": "2022-03-25T11:50:17.512Z"
   },
   {
    "duration": 0,
    "start_time": "2022-03-25T11:50:17.514Z"
   },
   {
    "duration": 0,
    "start_time": "2022-03-25T11:50:17.517Z"
   },
   {
    "duration": 0,
    "start_time": "2022-03-25T11:50:17.574Z"
   },
   {
    "duration": 0,
    "start_time": "2022-03-25T11:50:17.577Z"
   },
   {
    "duration": 0,
    "start_time": "2022-03-25T11:50:17.578Z"
   },
   {
    "duration": 0,
    "start_time": "2022-03-25T11:50:17.579Z"
   },
   {
    "duration": 0,
    "start_time": "2022-03-25T11:50:17.581Z"
   },
   {
    "duration": 0,
    "start_time": "2022-03-25T11:50:17.582Z"
   },
   {
    "duration": 0,
    "start_time": "2022-03-25T11:50:17.584Z"
   },
   {
    "duration": 0,
    "start_time": "2022-03-25T11:50:17.586Z"
   },
   {
    "duration": 0,
    "start_time": "2022-03-25T11:50:17.587Z"
   },
   {
    "duration": 60,
    "start_time": "2022-03-25T11:54:18.240Z"
   },
   {
    "duration": 41,
    "start_time": "2022-03-25T11:55:14.230Z"
   },
   {
    "duration": 42,
    "start_time": "2022-03-25T11:56:53.607Z"
   },
   {
    "duration": 5,
    "start_time": "2022-03-25T11:57:09.726Z"
   },
   {
    "duration": 9,
    "start_time": "2022-03-25T11:57:09.734Z"
   },
   {
    "duration": 7,
    "start_time": "2022-03-25T11:57:09.746Z"
   },
   {
    "duration": 6,
    "start_time": "2022-03-25T11:57:09.756Z"
   },
   {
    "duration": 8,
    "start_time": "2022-03-25T11:57:09.765Z"
   },
   {
    "duration": 11,
    "start_time": "2022-03-25T11:57:09.775Z"
   },
   {
    "duration": 10,
    "start_time": "2022-03-25T11:57:09.788Z"
   },
   {
    "duration": 9,
    "start_time": "2022-03-25T11:57:09.800Z"
   },
   {
    "duration": 14,
    "start_time": "2022-03-25T11:57:09.811Z"
   },
   {
    "duration": 47,
    "start_time": "2022-03-25T11:57:09.829Z"
   },
   {
    "duration": 24,
    "start_time": "2022-03-25T11:57:09.879Z"
   },
   {
    "duration": 11,
    "start_time": "2022-03-25T11:57:09.907Z"
   },
   {
    "duration": 7,
    "start_time": "2022-03-25T11:57:09.921Z"
   },
   {
    "duration": 948,
    "start_time": "2022-03-25T11:57:09.930Z"
   },
   {
    "duration": 36,
    "start_time": "2022-03-25T11:57:10.882Z"
   },
   {
    "duration": 26,
    "start_time": "2022-03-25T11:57:10.922Z"
   },
   {
    "duration": 28,
    "start_time": "2022-03-25T11:57:10.951Z"
   },
   {
    "duration": 21,
    "start_time": "2022-03-25T11:57:10.982Z"
   },
   {
    "duration": 40,
    "start_time": "2022-03-25T11:57:11.006Z"
   },
   {
    "duration": 42,
    "start_time": "2022-03-25T11:57:11.048Z"
   },
   {
    "duration": 52,
    "start_time": "2022-03-25T11:57:11.094Z"
   },
   {
    "duration": 41,
    "start_time": "2022-03-25T11:57:11.149Z"
   },
   {
    "duration": 28,
    "start_time": "2022-03-25T11:57:11.193Z"
   },
   {
    "duration": 28,
    "start_time": "2022-03-25T11:57:11.224Z"
   },
   {
    "duration": 44,
    "start_time": "2022-03-25T11:57:11.255Z"
   },
   {
    "duration": 18,
    "start_time": "2022-03-25T11:57:11.304Z"
   },
   {
    "duration": 29,
    "start_time": "2022-03-25T11:57:11.325Z"
   },
   {
    "duration": 55,
    "start_time": "2022-03-25T11:57:11.361Z"
   },
   {
    "duration": 12,
    "start_time": "2022-03-25T11:57:11.421Z"
   },
   {
    "duration": 58,
    "start_time": "2022-03-25T11:57:11.435Z"
   },
   {
    "duration": 6,
    "start_time": "2022-03-25T11:57:11.497Z"
   },
   {
    "duration": 17,
    "start_time": "2022-03-25T11:57:11.506Z"
   },
   {
    "duration": 11,
    "start_time": "2022-03-25T11:57:11.525Z"
   },
   {
    "duration": 46,
    "start_time": "2022-03-25T11:57:11.539Z"
   },
   {
    "duration": 13,
    "start_time": "2022-03-25T11:57:11.588Z"
   },
   {
    "duration": 1817,
    "start_time": "2022-03-25T11:57:11.604Z"
   },
   {
    "duration": 10,
    "start_time": "2022-03-25T11:57:13.424Z"
   },
   {
    "duration": 37,
    "start_time": "2022-03-25T11:57:13.438Z"
   },
   {
    "duration": 13,
    "start_time": "2022-03-25T11:57:13.478Z"
   },
   {
    "duration": 25,
    "start_time": "2022-03-25T11:57:13.494Z"
   },
   {
    "duration": 335,
    "start_time": "2022-03-25T11:57:13.523Z"
   },
   {
    "duration": 18,
    "start_time": "2022-03-25T11:57:13.860Z"
   },
   {
    "duration": 20,
    "start_time": "2022-03-25T11:57:13.881Z"
   },
   {
    "duration": 7,
    "start_time": "2022-03-25T11:57:13.905Z"
   },
   {
    "duration": 15,
    "start_time": "2022-03-25T11:57:13.915Z"
   },
   {
    "duration": 8,
    "start_time": "2022-03-25T11:57:13.933Z"
   },
   {
    "duration": 6,
    "start_time": "2022-03-25T11:57:13.945Z"
   },
   {
    "duration": 625,
    "start_time": "2022-03-25T11:57:13.974Z"
   },
   {
    "duration": 1202,
    "start_time": "2022-03-25T11:57:14.601Z"
   },
   {
    "duration": 686,
    "start_time": "2022-03-25T11:57:15.811Z"
   },
   {
    "duration": 440,
    "start_time": "2022-03-25T11:57:16.500Z"
   },
   {
    "duration": 1360,
    "start_time": "2022-03-25T11:57:16.943Z"
   },
   {
    "duration": 7236,
    "start_time": "2022-03-25T11:57:18.306Z"
   },
   {
    "duration": 7,
    "start_time": "2022-03-25T11:57:25.544Z"
   },
   {
    "duration": 21,
    "start_time": "2022-03-25T11:57:25.554Z"
   },
   {
    "duration": 897,
    "start_time": "2022-03-25T11:57:25.578Z"
   },
   {
    "duration": 385,
    "start_time": "2022-03-25T11:57:26.478Z"
   },
   {
    "duration": 1717,
    "start_time": "2022-03-25T11:57:26.873Z"
   },
   {
    "duration": 8064,
    "start_time": "2022-03-25T11:57:28.592Z"
   },
   {
    "duration": 16,
    "start_time": "2022-03-25T11:57:36.659Z"
   },
   {
    "duration": 6,
    "start_time": "2022-03-25T11:57:36.677Z"
   },
   {
    "duration": 20,
    "start_time": "2022-03-25T11:57:58.250Z"
   },
   {
    "duration": 4,
    "start_time": "2022-03-25T11:58:52.041Z"
   },
   {
    "duration": 7,
    "start_time": "2022-03-25T11:58:52.048Z"
   },
   {
    "duration": 11,
    "start_time": "2022-03-25T11:58:52.058Z"
   },
   {
    "duration": 6,
    "start_time": "2022-03-25T11:58:52.072Z"
   },
   {
    "duration": 12,
    "start_time": "2022-03-25T11:58:52.080Z"
   },
   {
    "duration": 6,
    "start_time": "2022-03-25T11:58:52.094Z"
   },
   {
    "duration": 13,
    "start_time": "2022-03-25T11:58:52.102Z"
   },
   {
    "duration": 7,
    "start_time": "2022-03-25T11:58:52.117Z"
   },
   {
    "duration": 7,
    "start_time": "2022-03-25T11:58:52.176Z"
   },
   {
    "duration": 7,
    "start_time": "2022-03-25T11:58:52.185Z"
   },
   {
    "duration": 12,
    "start_time": "2022-03-25T11:58:52.195Z"
   },
   {
    "duration": 9,
    "start_time": "2022-03-25T11:58:52.210Z"
   },
   {
    "duration": 5,
    "start_time": "2022-03-25T11:58:52.273Z"
   },
   {
    "duration": 777,
    "start_time": "2022-03-25T11:58:52.281Z"
   },
   {
    "duration": 30,
    "start_time": "2022-03-25T11:58:53.060Z"
   },
   {
    "duration": 35,
    "start_time": "2022-03-25T11:58:53.092Z"
   },
   {
    "duration": 7,
    "start_time": "2022-03-25T11:58:53.130Z"
   },
   {
    "duration": 37,
    "start_time": "2022-03-25T11:58:53.140Z"
   },
   {
    "duration": 8,
    "start_time": "2022-03-25T11:58:53.179Z"
   },
   {
    "duration": 29,
    "start_time": "2022-03-25T11:58:53.190Z"
   },
   {
    "duration": 59,
    "start_time": "2022-03-25T11:58:53.222Z"
   },
   {
    "duration": 34,
    "start_time": "2022-03-25T11:58:53.283Z"
   },
   {
    "duration": 7,
    "start_time": "2022-03-25T11:58:53.320Z"
   },
   {
    "duration": 5,
    "start_time": "2022-03-25T11:58:53.333Z"
   },
   {
    "duration": 42,
    "start_time": "2022-03-25T11:58:53.340Z"
   },
   {
    "duration": 7,
    "start_time": "2022-03-25T11:58:53.385Z"
   },
   {
    "duration": 9,
    "start_time": "2022-03-25T11:58:53.394Z"
   },
   {
    "duration": 74,
    "start_time": "2022-03-25T11:58:53.406Z"
   },
   {
    "duration": 25,
    "start_time": "2022-03-25T11:58:53.483Z"
   },
   {
    "duration": 17,
    "start_time": "2022-03-25T11:58:53.511Z"
   },
   {
    "duration": 64,
    "start_time": "2022-03-25T11:58:53.530Z"
   },
   {
    "duration": 5,
    "start_time": "2022-03-25T11:58:53.597Z"
   },
   {
    "duration": 15,
    "start_time": "2022-03-25T11:58:53.605Z"
   },
   {
    "duration": 13,
    "start_time": "2022-03-25T11:58:53.623Z"
   },
   {
    "duration": 41,
    "start_time": "2022-03-25T11:58:53.639Z"
   },
   {
    "duration": 11,
    "start_time": "2022-03-25T11:58:53.683Z"
   },
   {
    "duration": 1633,
    "start_time": "2022-03-25T11:58:53.698Z"
   },
   {
    "duration": 9,
    "start_time": "2022-03-25T11:58:55.333Z"
   },
   {
    "duration": 15,
    "start_time": "2022-03-25T11:58:55.344Z"
   },
   {
    "duration": 10,
    "start_time": "2022-03-25T11:58:55.374Z"
   },
   {
    "duration": 18,
    "start_time": "2022-03-25T11:58:55.386Z"
   },
   {
    "duration": 318,
    "start_time": "2022-03-25T11:58:55.407Z"
   },
   {
    "duration": 6,
    "start_time": "2022-03-25T11:58:55.729Z"
   },
   {
    "duration": 5,
    "start_time": "2022-03-25T11:58:55.738Z"
   },
   {
    "duration": 30,
    "start_time": "2022-03-25T11:58:55.745Z"
   },
   {
    "duration": 10,
    "start_time": "2022-03-25T11:58:55.778Z"
   },
   {
    "duration": 8,
    "start_time": "2022-03-25T11:58:55.790Z"
   },
   {
    "duration": 6,
    "start_time": "2022-03-25T11:58:55.801Z"
   },
   {
    "duration": 507,
    "start_time": "2022-03-25T11:58:55.810Z"
   },
   {
    "duration": 913,
    "start_time": "2022-03-25T11:58:56.320Z"
   },
   {
    "duration": 642,
    "start_time": "2022-03-25T11:58:57.235Z"
   },
   {
    "duration": 328,
    "start_time": "2022-03-25T11:58:57.880Z"
   },
   {
    "duration": 1048,
    "start_time": "2022-03-25T11:58:58.210Z"
   },
   {
    "duration": 5114,
    "start_time": "2022-03-25T11:58:59.260Z"
   },
   {
    "duration": 7,
    "start_time": "2022-03-25T11:59:04.376Z"
   },
   {
    "duration": 14,
    "start_time": "2022-03-25T11:59:04.386Z"
   },
   {
    "duration": 1171,
    "start_time": "2022-03-25T11:59:04.403Z"
   },
   {
    "duration": 420,
    "start_time": "2022-03-25T11:59:05.578Z"
   },
   {
    "duration": 1781,
    "start_time": "2022-03-25T11:59:06.001Z"
   },
   {
    "duration": 8008,
    "start_time": "2022-03-25T11:59:07.786Z"
   },
   {
    "duration": 6,
    "start_time": "2022-03-25T11:59:15.797Z"
   },
   {
    "duration": 22,
    "start_time": "2022-03-25T11:59:15.806Z"
   },
   {
    "duration": 6,
    "start_time": "2022-03-25T12:15:04.407Z"
   },
   {
    "duration": 4,
    "start_time": "2022-03-25T12:15:24.050Z"
   },
   {
    "duration": 100,
    "start_time": "2022-03-25T12:17:16.378Z"
   },
   {
    "duration": 4,
    "start_time": "2022-03-25T12:17:19.364Z"
   },
   {
    "duration": 7,
    "start_time": "2022-03-25T12:17:20.212Z"
   },
   {
    "duration": 38,
    "start_time": "2022-03-25T12:17:21.139Z"
   },
   {
    "duration": 35,
    "start_time": "2022-03-25T12:17:34.649Z"
   },
   {
    "duration": 163,
    "start_time": "2022-03-25T12:17:43.010Z"
   },
   {
    "duration": 6,
    "start_time": "2022-03-25T12:29:23.569Z"
   },
   {
    "duration": 4,
    "start_time": "2022-03-25T12:29:26.240Z"
   },
   {
    "duration": 4,
    "start_time": "2022-03-25T12:30:11.156Z"
   },
   {
    "duration": 160,
    "start_time": "2022-03-25T12:30:11.938Z"
   },
   {
    "duration": 5,
    "start_time": "2022-03-25T12:33:08.278Z"
   },
   {
    "duration": 13,
    "start_time": "2022-03-25T12:33:31.957Z"
   },
   {
    "duration": 96,
    "start_time": "2022-03-25T12:33:37.486Z"
   },
   {
    "duration": 7,
    "start_time": "2022-03-25T12:33:40.331Z"
   },
   {
    "duration": 5,
    "start_time": "2022-03-25T12:33:41.733Z"
   },
   {
    "duration": 58,
    "start_time": "2022-03-25T12:33:42.317Z"
   },
   {
    "duration": 4,
    "start_time": "2022-03-25T12:33:43.917Z"
   },
   {
    "duration": 4,
    "start_time": "2022-03-25T12:55:13.620Z"
   },
   {
    "duration": 8,
    "start_time": "2022-03-25T12:55:13.627Z"
   },
   {
    "duration": 9,
    "start_time": "2022-03-25T12:55:13.639Z"
   },
   {
    "duration": 8,
    "start_time": "2022-03-25T12:55:13.651Z"
   },
   {
    "duration": 7,
    "start_time": "2022-03-25T12:55:13.662Z"
   },
   {
    "duration": 13,
    "start_time": "2022-03-25T12:55:13.671Z"
   },
   {
    "duration": 13,
    "start_time": "2022-03-25T12:55:13.687Z"
   },
   {
    "duration": 7,
    "start_time": "2022-03-25T12:55:13.703Z"
   },
   {
    "duration": 7,
    "start_time": "2022-03-25T12:55:13.713Z"
   },
   {
    "duration": 6,
    "start_time": "2022-03-25T12:55:13.722Z"
   },
   {
    "duration": 12,
    "start_time": "2022-03-25T12:55:13.776Z"
   },
   {
    "duration": 12,
    "start_time": "2022-03-25T12:55:13.790Z"
   },
   {
    "duration": 7,
    "start_time": "2022-03-25T12:55:13.805Z"
   },
   {
    "duration": 855,
    "start_time": "2022-03-25T12:55:13.814Z"
   },
   {
    "duration": 31,
    "start_time": "2022-03-25T12:55:14.674Z"
   },
   {
    "duration": 26,
    "start_time": "2022-03-25T12:55:14.708Z"
   },
   {
    "duration": 7,
    "start_time": "2022-03-25T12:55:14.737Z"
   },
   {
    "duration": 7,
    "start_time": "2022-03-25T12:55:14.774Z"
   },
   {
    "duration": 19,
    "start_time": "2022-03-25T12:55:14.784Z"
   },
   {
    "duration": 27,
    "start_time": "2022-03-25T12:55:14.806Z"
   },
   {
    "duration": 50,
    "start_time": "2022-03-25T12:55:14.835Z"
   },
   {
    "duration": 27,
    "start_time": "2022-03-25T12:55:14.888Z"
   },
   {
    "duration": 6,
    "start_time": "2022-03-25T12:55:14.917Z"
   },
   {
    "duration": 7,
    "start_time": "2022-03-25T12:55:14.925Z"
   },
   {
    "duration": 8,
    "start_time": "2022-03-25T12:55:14.934Z"
   },
   {
    "duration": 16,
    "start_time": "2022-03-25T12:55:14.977Z"
   },
   {
    "duration": 28,
    "start_time": "2022-03-25T12:55:14.995Z"
   },
   {
    "duration": 53,
    "start_time": "2022-03-25T12:55:15.026Z"
   },
   {
    "duration": 23,
    "start_time": "2022-03-25T12:55:15.088Z"
   },
   {
    "duration": 20,
    "start_time": "2022-03-25T12:55:15.114Z"
   },
   {
    "duration": 55,
    "start_time": "2022-03-25T12:55:15.137Z"
   },
   {
    "duration": 4,
    "start_time": "2022-03-25T12:55:15.195Z"
   },
   {
    "duration": 13,
    "start_time": "2022-03-25T12:55:15.201Z"
   },
   {
    "duration": 9,
    "start_time": "2022-03-25T12:55:15.216Z"
   },
   {
    "duration": 51,
    "start_time": "2022-03-25T12:55:15.228Z"
   },
   {
    "duration": 15,
    "start_time": "2022-03-25T12:55:15.282Z"
   },
   {
    "duration": 1808,
    "start_time": "2022-03-25T12:55:15.299Z"
   },
   {
    "duration": 9,
    "start_time": "2022-03-25T12:55:17.111Z"
   },
   {
    "duration": 14,
    "start_time": "2022-03-25T12:55:17.122Z"
   },
   {
    "duration": 48,
    "start_time": "2022-03-25T12:55:17.139Z"
   },
   {
    "duration": 20,
    "start_time": "2022-03-25T12:55:17.189Z"
   },
   {
    "duration": 368,
    "start_time": "2022-03-25T12:55:17.211Z"
   },
   {
    "duration": 12,
    "start_time": "2022-03-25T12:55:17.582Z"
   },
   {
    "duration": 7,
    "start_time": "2022-03-25T12:55:17.597Z"
   },
   {
    "duration": 6,
    "start_time": "2022-03-25T12:55:17.606Z"
   },
   {
    "duration": 11,
    "start_time": "2022-03-25T12:55:17.614Z"
   },
   {
    "duration": 15,
    "start_time": "2022-03-25T12:55:17.628Z"
   },
   {
    "duration": 30,
    "start_time": "2022-03-25T12:55:17.645Z"
   },
   {
    "duration": 822,
    "start_time": "2022-03-25T12:55:20.863Z"
   },
   {
    "duration": 1212,
    "start_time": "2022-03-25T12:58:00.128Z"
   },
   {
    "duration": 3122,
    "start_time": "2022-03-25T12:58:10.831Z"
   },
   {
    "duration": 6,
    "start_time": "2022-03-25T12:59:19.944Z"
   },
   {
    "duration": 4,
    "start_time": "2022-03-25T12:59:21.204Z"
   },
   {
    "duration": 4,
    "start_time": "2022-03-25T12:59:26.760Z"
   },
   {
    "duration": 13,
    "start_time": "2022-03-25T12:59:26.767Z"
   },
   {
    "duration": 13,
    "start_time": "2022-03-25T12:59:26.783Z"
   },
   {
    "duration": 13,
    "start_time": "2022-03-25T12:59:26.800Z"
   },
   {
    "duration": 8,
    "start_time": "2022-03-25T12:59:26.816Z"
   },
   {
    "duration": 6,
    "start_time": "2022-03-25T12:59:26.826Z"
   },
   {
    "duration": 54,
    "start_time": "2022-03-25T12:59:26.834Z"
   },
   {
    "duration": 8,
    "start_time": "2022-03-25T12:59:26.890Z"
   },
   {
    "duration": 8,
    "start_time": "2022-03-25T12:59:26.902Z"
   },
   {
    "duration": 8,
    "start_time": "2022-03-25T12:59:26.912Z"
   },
   {
    "duration": 6,
    "start_time": "2022-03-25T12:59:26.923Z"
   },
   {
    "duration": 57,
    "start_time": "2022-03-25T12:59:26.932Z"
   },
   {
    "duration": 13,
    "start_time": "2022-03-25T12:59:26.991Z"
   },
   {
    "duration": 967,
    "start_time": "2022-03-25T12:59:27.007Z"
   },
   {
    "duration": 27,
    "start_time": "2022-03-25T12:59:27.977Z"
   },
   {
    "duration": 26,
    "start_time": "2022-03-25T12:59:28.006Z"
   },
   {
    "duration": 6,
    "start_time": "2022-03-25T12:59:28.034Z"
   },
   {
    "duration": 12,
    "start_time": "2022-03-25T12:59:28.074Z"
   },
   {
    "duration": 7,
    "start_time": "2022-03-25T12:59:28.092Z"
   },
   {
    "duration": 24,
    "start_time": "2022-03-25T12:59:28.102Z"
   },
   {
    "duration": 62,
    "start_time": "2022-03-25T12:59:28.129Z"
   },
   {
    "duration": 27,
    "start_time": "2022-03-25T12:59:28.196Z"
   },
   {
    "duration": 8,
    "start_time": "2022-03-25T12:59:28.226Z"
   },
   {
    "duration": 37,
    "start_time": "2022-03-25T12:59:28.239Z"
   },
   {
    "duration": 11,
    "start_time": "2022-03-25T12:59:28.279Z"
   },
   {
    "duration": 6,
    "start_time": "2022-03-25T12:59:28.292Z"
   },
   {
    "duration": 10,
    "start_time": "2022-03-25T12:59:28.300Z"
   },
   {
    "duration": 81,
    "start_time": "2022-03-25T12:59:28.313Z"
   },
   {
    "duration": 20,
    "start_time": "2022-03-25T12:59:28.397Z"
   },
   {
    "duration": 14,
    "start_time": "2022-03-25T12:59:28.419Z"
   },
   {
    "duration": 58,
    "start_time": "2022-03-25T12:59:28.436Z"
   },
   {
    "duration": 4,
    "start_time": "2022-03-25T12:59:28.496Z"
   },
   {
    "duration": 13,
    "start_time": "2022-03-25T12:59:28.502Z"
   },
   {
    "duration": 10,
    "start_time": "2022-03-25T12:59:28.517Z"
   },
   {
    "duration": 50,
    "start_time": "2022-03-25T12:59:28.529Z"
   },
   {
    "duration": 12,
    "start_time": "2022-03-25T12:59:28.584Z"
   },
   {
    "duration": 1689,
    "start_time": "2022-03-25T12:59:28.599Z"
   },
   {
    "duration": 8,
    "start_time": "2022-03-25T12:59:30.291Z"
   },
   {
    "duration": 18,
    "start_time": "2022-03-25T12:59:30.301Z"
   },
   {
    "duration": 10,
    "start_time": "2022-03-25T12:59:30.321Z"
   },
   {
    "duration": 49,
    "start_time": "2022-03-25T12:59:30.333Z"
   },
   {
    "duration": 302,
    "start_time": "2022-03-25T12:59:30.385Z"
   },
   {
    "duration": 8,
    "start_time": "2022-03-25T12:59:30.690Z"
   },
   {
    "duration": 10,
    "start_time": "2022-03-25T12:59:30.701Z"
   },
   {
    "duration": 25,
    "start_time": "2022-03-25T12:59:30.713Z"
   },
   {
    "duration": 25,
    "start_time": "2022-03-25T12:59:30.740Z"
   },
   {
    "duration": 11,
    "start_time": "2022-03-25T12:59:30.767Z"
   },
   {
    "duration": 19,
    "start_time": "2022-03-25T12:59:30.788Z"
   },
   {
    "duration": 776,
    "start_time": "2022-03-25T12:59:30.810Z"
   },
   {
    "duration": 3083,
    "start_time": "2022-03-25T12:59:36.617Z"
   },
   {
    "duration": 1676,
    "start_time": "2022-03-25T12:59:53.087Z"
   },
   {
    "duration": 4,
    "start_time": "2022-03-25T13:00:31.134Z"
   },
   {
    "duration": 4,
    "start_time": "2022-03-25T13:00:35.551Z"
   },
   {
    "duration": 550,
    "start_time": "2022-03-25T13:01:01.393Z"
   },
   {
    "duration": 618,
    "start_time": "2022-03-25T13:01:41.231Z"
   },
   {
    "duration": 13,
    "start_time": "2022-03-25T13:03:18.601Z"
   },
   {
    "duration": 3,
    "start_time": "2022-03-25T13:03:30.538Z"
   },
   {
    "duration": 13,
    "start_time": "2022-03-25T13:03:30.544Z"
   },
   {
    "duration": 16,
    "start_time": "2022-03-25T13:03:30.560Z"
   },
   {
    "duration": 19,
    "start_time": "2022-03-25T13:03:30.579Z"
   },
   {
    "duration": 16,
    "start_time": "2022-03-25T13:03:30.601Z"
   },
   {
    "duration": 29,
    "start_time": "2022-03-25T13:03:30.620Z"
   },
   {
    "duration": 43,
    "start_time": "2022-03-25T13:03:30.652Z"
   },
   {
    "duration": 9,
    "start_time": "2022-03-25T13:03:30.697Z"
   },
   {
    "duration": 13,
    "start_time": "2022-03-25T13:03:30.709Z"
   },
   {
    "duration": 20,
    "start_time": "2022-03-25T13:03:30.724Z"
   },
   {
    "duration": 18,
    "start_time": "2022-03-25T13:03:30.750Z"
   },
   {
    "duration": 26,
    "start_time": "2022-03-25T13:03:30.771Z"
   },
   {
    "duration": 17,
    "start_time": "2022-03-25T13:03:30.799Z"
   },
   {
    "duration": 818,
    "start_time": "2022-03-25T13:03:30.819Z"
   },
   {
    "duration": 43,
    "start_time": "2022-03-25T13:03:31.640Z"
   },
   {
    "duration": 57,
    "start_time": "2022-03-25T13:03:31.686Z"
   },
   {
    "duration": 6,
    "start_time": "2022-03-25T13:03:31.745Z"
   },
   {
    "duration": 14,
    "start_time": "2022-03-25T13:03:31.754Z"
   },
   {
    "duration": 26,
    "start_time": "2022-03-25T13:03:31.770Z"
   },
   {
    "duration": 29,
    "start_time": "2022-03-25T13:03:31.799Z"
   },
   {
    "duration": 26,
    "start_time": "2022-03-25T13:03:31.830Z"
   },
   {
    "duration": 36,
    "start_time": "2022-03-25T13:03:31.858Z"
   },
   {
    "duration": 6,
    "start_time": "2022-03-25T13:03:31.897Z"
   },
   {
    "duration": 8,
    "start_time": "2022-03-25T13:03:31.905Z"
   },
   {
    "duration": 7,
    "start_time": "2022-03-25T13:03:31.915Z"
   },
   {
    "duration": 6,
    "start_time": "2022-03-25T13:03:31.924Z"
   },
   {
    "duration": 48,
    "start_time": "2022-03-25T13:03:31.933Z"
   },
   {
    "duration": 47,
    "start_time": "2022-03-25T13:03:31.984Z"
   },
   {
    "duration": 50,
    "start_time": "2022-03-25T13:03:32.038Z"
   },
   {
    "duration": 13,
    "start_time": "2022-03-25T13:03:32.090Z"
   },
   {
    "duration": 24,
    "start_time": "2022-03-25T13:03:32.105Z"
   },
   {
    "duration": 4,
    "start_time": "2022-03-25T13:03:32.131Z"
   },
   {
    "duration": 46,
    "start_time": "2022-03-25T13:03:32.137Z"
   },
   {
    "duration": 10,
    "start_time": "2022-03-25T13:03:32.186Z"
   },
   {
    "duration": 9,
    "start_time": "2022-03-25T13:03:32.199Z"
   },
   {
    "duration": 10,
    "start_time": "2022-03-25T13:03:32.210Z"
   },
   {
    "duration": 1572,
    "start_time": "2022-03-25T13:03:32.222Z"
   },
   {
    "duration": 10,
    "start_time": "2022-03-25T13:03:33.797Z"
   },
   {
    "duration": 71,
    "start_time": "2022-03-25T13:03:33.809Z"
   },
   {
    "duration": 9,
    "start_time": "2022-03-25T13:03:33.882Z"
   },
   {
    "duration": 14,
    "start_time": "2022-03-25T13:03:33.894Z"
   },
   {
    "duration": 539,
    "start_time": "2022-03-25T13:03:33.910Z"
   },
   {
    "duration": 7,
    "start_time": "2022-03-25T13:03:34.451Z"
   },
   {
    "duration": 19,
    "start_time": "2022-03-25T13:03:34.460Z"
   },
   {
    "duration": 11,
    "start_time": "2022-03-25T13:03:34.483Z"
   },
   {
    "duration": 7,
    "start_time": "2022-03-25T13:03:34.496Z"
   },
   {
    "duration": 8,
    "start_time": "2022-03-25T13:03:34.505Z"
   },
   {
    "duration": 6,
    "start_time": "2022-03-25T13:03:34.515Z"
   },
   {
    "duration": 462,
    "start_time": "2022-03-25T13:03:34.523Z"
   },
   {
    "duration": 1839,
    "start_time": "2022-03-25T13:03:34.989Z"
   },
   {
    "duration": 626,
    "start_time": "2022-03-25T13:03:39.592Z"
   },
   {
    "duration": 6,
    "start_time": "2022-03-25T13:24:16.545Z"
   },
   {
    "duration": 6,
    "start_time": "2022-03-25T13:24:22.980Z"
   },
   {
    "duration": 6,
    "start_time": "2022-03-25T13:24:35.044Z"
   },
   {
    "duration": 5,
    "start_time": "2022-03-25T13:24:40.489Z"
   },
   {
    "duration": 3,
    "start_time": "2022-03-25T13:25:08.551Z"
   },
   {
    "duration": 11,
    "start_time": "2022-03-25T13:25:08.557Z"
   },
   {
    "duration": 7,
    "start_time": "2022-03-25T13:25:08.571Z"
   },
   {
    "duration": 8,
    "start_time": "2022-03-25T13:25:08.580Z"
   },
   {
    "duration": 9,
    "start_time": "2022-03-25T13:25:08.591Z"
   },
   {
    "duration": 9,
    "start_time": "2022-03-25T13:25:08.603Z"
   },
   {
    "duration": 8,
    "start_time": "2022-03-25T13:25:08.614Z"
   },
   {
    "duration": 59,
    "start_time": "2022-03-25T13:25:08.625Z"
   },
   {
    "duration": 8,
    "start_time": "2022-03-25T13:25:08.687Z"
   },
   {
    "duration": 8,
    "start_time": "2022-03-25T13:25:08.697Z"
   },
   {
    "duration": 8,
    "start_time": "2022-03-25T13:25:08.711Z"
   },
   {
    "duration": 53,
    "start_time": "2022-03-25T13:25:08.722Z"
   },
   {
    "duration": 8,
    "start_time": "2022-03-25T13:25:08.777Z"
   },
   {
    "duration": 816,
    "start_time": "2022-03-25T13:25:08.788Z"
   },
   {
    "duration": 30,
    "start_time": "2022-03-25T13:25:09.607Z"
   },
   {
    "duration": 54,
    "start_time": "2022-03-25T13:25:09.640Z"
   },
   {
    "duration": 7,
    "start_time": "2022-03-25T13:25:09.697Z"
   },
   {
    "duration": 11,
    "start_time": "2022-03-25T13:25:09.706Z"
   },
   {
    "duration": 8,
    "start_time": "2022-03-25T13:25:09.719Z"
   },
   {
    "duration": 60,
    "start_time": "2022-03-25T13:25:09.729Z"
   },
   {
    "duration": 32,
    "start_time": "2022-03-25T13:25:09.791Z"
   },
   {
    "duration": 49,
    "start_time": "2022-03-25T13:25:09.826Z"
   },
   {
    "duration": 6,
    "start_time": "2022-03-25T13:25:09.878Z"
   },
   {
    "duration": 14,
    "start_time": "2022-03-25T13:25:09.887Z"
   },
   {
    "duration": 12,
    "start_time": "2022-03-25T13:25:09.904Z"
   },
   {
    "duration": 10,
    "start_time": "2022-03-25T13:25:09.918Z"
   },
   {
    "duration": 10,
    "start_time": "2022-03-25T13:25:09.930Z"
   },
   {
    "duration": 76,
    "start_time": "2022-03-25T13:25:09.942Z"
   },
   {
    "duration": 20,
    "start_time": "2022-03-25T13:25:10.024Z"
   },
   {
    "duration": 39,
    "start_time": "2022-03-25T13:25:10.047Z"
   },
   {
    "duration": 35,
    "start_time": "2022-03-25T13:25:10.089Z"
   },
   {
    "duration": 3,
    "start_time": "2022-03-25T13:25:10.127Z"
   },
   {
    "duration": 47,
    "start_time": "2022-03-25T13:25:10.133Z"
   },
   {
    "duration": 11,
    "start_time": "2022-03-25T13:25:10.183Z"
   },
   {
    "duration": 12,
    "start_time": "2022-03-25T13:25:10.197Z"
   },
   {
    "duration": 10,
    "start_time": "2022-03-25T13:25:10.212Z"
   },
   {
    "duration": 1501,
    "start_time": "2022-03-25T13:25:10.225Z"
   },
   {
    "duration": 8,
    "start_time": "2022-03-25T13:25:11.728Z"
   },
   {
    "duration": 11,
    "start_time": "2022-03-25T13:25:11.738Z"
   },
   {
    "duration": 8,
    "start_time": "2022-03-25T13:25:11.773Z"
   },
   {
    "duration": 12,
    "start_time": "2022-03-25T13:25:11.784Z"
   },
   {
    "duration": 334,
    "start_time": "2022-03-25T13:25:11.799Z"
   },
   {
    "duration": 6,
    "start_time": "2022-03-25T13:25:12.135Z"
   },
   {
    "duration": 97,
    "start_time": "2022-03-25T13:25:12.143Z"
   },
   {
    "duration": 0,
    "start_time": "2022-03-25T13:25:12.242Z"
   },
   {
    "duration": 0,
    "start_time": "2022-03-25T13:25:12.243Z"
   },
   {
    "duration": 0,
    "start_time": "2022-03-25T13:25:12.245Z"
   },
   {
    "duration": 0,
    "start_time": "2022-03-25T13:25:12.247Z"
   },
   {
    "duration": 0,
    "start_time": "2022-03-25T13:25:12.249Z"
   },
   {
    "duration": 0,
    "start_time": "2022-03-25T13:25:12.251Z"
   },
   {
    "duration": 1718,
    "start_time": "2022-03-25T13:25:15.406Z"
   },
   {
    "duration": 621,
    "start_time": "2022-03-25T13:25:29.788Z"
   },
   {
    "duration": 4,
    "start_time": "2022-03-25T13:25:36.272Z"
   },
   {
    "duration": 9,
    "start_time": "2022-03-25T13:25:36.280Z"
   },
   {
    "duration": 8,
    "start_time": "2022-03-25T13:25:36.293Z"
   },
   {
    "duration": 6,
    "start_time": "2022-03-25T13:25:36.305Z"
   },
   {
    "duration": 61,
    "start_time": "2022-03-25T13:25:36.313Z"
   },
   {
    "duration": 7,
    "start_time": "2022-03-25T13:25:36.376Z"
   },
   {
    "duration": 10,
    "start_time": "2022-03-25T13:25:36.386Z"
   },
   {
    "duration": 8,
    "start_time": "2022-03-25T13:25:36.399Z"
   },
   {
    "duration": 8,
    "start_time": "2022-03-25T13:25:36.412Z"
   },
   {
    "duration": 7,
    "start_time": "2022-03-25T13:25:36.473Z"
   },
   {
    "duration": 8,
    "start_time": "2022-03-25T13:25:36.482Z"
   },
   {
    "duration": 9,
    "start_time": "2022-03-25T13:25:36.493Z"
   },
   {
    "duration": 14,
    "start_time": "2022-03-25T13:25:36.505Z"
   },
   {
    "duration": 865,
    "start_time": "2022-03-25T13:25:36.522Z"
   },
   {
    "duration": 27,
    "start_time": "2022-03-25T13:25:37.390Z"
   },
   {
    "duration": 43,
    "start_time": "2022-03-25T13:25:37.419Z"
   },
   {
    "duration": 14,
    "start_time": "2022-03-25T13:25:37.464Z"
   },
   {
    "duration": 28,
    "start_time": "2022-03-25T13:25:37.481Z"
   },
   {
    "duration": 30,
    "start_time": "2022-03-25T13:25:37.512Z"
   },
   {
    "duration": 54,
    "start_time": "2022-03-25T13:25:37.544Z"
   },
   {
    "duration": 42,
    "start_time": "2022-03-25T13:25:37.601Z"
   },
   {
    "duration": 31,
    "start_time": "2022-03-25T13:25:37.645Z"
   },
   {
    "duration": 23,
    "start_time": "2022-03-25T13:25:37.678Z"
   },
   {
    "duration": 23,
    "start_time": "2022-03-25T13:25:37.707Z"
   },
   {
    "duration": 28,
    "start_time": "2022-03-25T13:25:37.733Z"
   },
   {
    "duration": 17,
    "start_time": "2022-03-25T13:25:37.763Z"
   },
   {
    "duration": 47,
    "start_time": "2022-03-25T13:25:37.783Z"
   },
   {
    "duration": 65,
    "start_time": "2022-03-25T13:25:37.832Z"
   },
   {
    "duration": 20,
    "start_time": "2022-03-25T13:25:37.900Z"
   },
   {
    "duration": 18,
    "start_time": "2022-03-25T13:25:37.923Z"
   },
   {
    "duration": 49,
    "start_time": "2022-03-25T13:25:37.944Z"
   },
   {
    "duration": 4,
    "start_time": "2022-03-25T13:25:37.996Z"
   },
   {
    "duration": 32,
    "start_time": "2022-03-25T13:25:38.003Z"
   },
   {
    "duration": 32,
    "start_time": "2022-03-25T13:25:38.037Z"
   },
   {
    "duration": 14,
    "start_time": "2022-03-25T13:25:38.071Z"
   },
   {
    "duration": 18,
    "start_time": "2022-03-25T13:25:38.088Z"
   },
   {
    "duration": 1648,
    "start_time": "2022-03-25T13:25:38.109Z"
   },
   {
    "duration": 18,
    "start_time": "2022-03-25T13:25:39.760Z"
   },
   {
    "duration": 29,
    "start_time": "2022-03-25T13:25:39.781Z"
   },
   {
    "duration": 19,
    "start_time": "2022-03-25T13:25:39.813Z"
   },
   {
    "duration": 31,
    "start_time": "2022-03-25T13:25:39.834Z"
   },
   {
    "duration": 308,
    "start_time": "2022-03-25T13:25:39.867Z"
   },
   {
    "duration": 7,
    "start_time": "2022-03-25T13:25:40.178Z"
   },
   {
    "duration": 113,
    "start_time": "2022-03-25T13:25:40.187Z"
   },
   {
    "duration": 0,
    "start_time": "2022-03-25T13:25:40.303Z"
   },
   {
    "duration": 0,
    "start_time": "2022-03-25T13:25:40.305Z"
   },
   {
    "duration": 0,
    "start_time": "2022-03-25T13:25:40.307Z"
   },
   {
    "duration": 0,
    "start_time": "2022-03-25T13:25:40.308Z"
   },
   {
    "duration": 0,
    "start_time": "2022-03-25T13:25:40.310Z"
   },
   {
    "duration": 0,
    "start_time": "2022-03-25T13:25:40.312Z"
   },
   {
    "duration": 0,
    "start_time": "2022-03-25T13:25:40.315Z"
   },
   {
    "duration": 0,
    "start_time": "2022-03-25T13:25:40.317Z"
   },
   {
    "duration": 0,
    "start_time": "2022-03-25T13:25:40.319Z"
   },
   {
    "duration": 0,
    "start_time": "2022-03-25T13:25:40.321Z"
   },
   {
    "duration": 0,
    "start_time": "2022-03-25T13:25:40.322Z"
   },
   {
    "duration": 0,
    "start_time": "2022-03-25T13:25:40.324Z"
   },
   {
    "duration": 0,
    "start_time": "2022-03-25T13:25:40.326Z"
   },
   {
    "duration": 0,
    "start_time": "2022-03-25T13:25:40.328Z"
   },
   {
    "duration": 0,
    "start_time": "2022-03-25T13:25:40.330Z"
   },
   {
    "duration": 0,
    "start_time": "2022-03-25T13:25:40.331Z"
   },
   {
    "duration": 0,
    "start_time": "2022-03-25T13:25:40.334Z"
   },
   {
    "duration": 0,
    "start_time": "2022-03-25T13:25:40.335Z"
   },
   {
    "duration": 0,
    "start_time": "2022-03-25T13:25:40.337Z"
   },
   {
    "duration": 0,
    "start_time": "2022-03-25T13:25:40.338Z"
   },
   {
    "duration": 0,
    "start_time": "2022-03-25T13:25:40.340Z"
   },
   {
    "duration": 0,
    "start_time": "2022-03-25T13:25:40.342Z"
   },
   {
    "duration": 0,
    "start_time": "2022-03-25T13:25:40.374Z"
   },
   {
    "duration": 0,
    "start_time": "2022-03-25T13:25:40.377Z"
   },
   {
    "duration": 109,
    "start_time": "2022-03-25T13:26:37.367Z"
   },
   {
    "duration": 120,
    "start_time": "2022-03-25T13:26:43.461Z"
   },
   {
    "duration": 104,
    "start_time": "2022-03-25T13:27:00.795Z"
   },
   {
    "duration": 6,
    "start_time": "2022-03-25T13:27:39.209Z"
   },
   {
    "duration": 12,
    "start_time": "2022-03-25T13:27:45.393Z"
   },
   {
    "duration": 5,
    "start_time": "2022-03-25T13:27:52.432Z"
   },
   {
    "duration": 4,
    "start_time": "2022-03-25T13:28:12.524Z"
   },
   {
    "duration": 3,
    "start_time": "2022-03-25T13:28:13.779Z"
   },
   {
    "duration": 4,
    "start_time": "2022-03-25T13:28:14.394Z"
   },
   {
    "duration": 4,
    "start_time": "2022-03-25T13:28:14.939Z"
   },
   {
    "duration": 6,
    "start_time": "2022-03-25T13:28:20.548Z"
   },
   {
    "duration": 6,
    "start_time": "2022-03-25T13:28:51.462Z"
   },
   {
    "duration": 7,
    "start_time": "2022-03-25T13:29:11.577Z"
   },
   {
    "duration": 6,
    "start_time": "2022-03-25T13:29:15.140Z"
   },
   {
    "duration": 7,
    "start_time": "2022-03-25T13:29:40.965Z"
   },
   {
    "duration": 6,
    "start_time": "2022-03-25T13:29:42.348Z"
   },
   {
    "duration": 5,
    "start_time": "2022-03-25T13:29:52.074Z"
   },
   {
    "duration": 11,
    "start_time": "2022-03-25T13:29:52.082Z"
   },
   {
    "duration": 7,
    "start_time": "2022-03-25T13:29:52.097Z"
   },
   {
    "duration": 6,
    "start_time": "2022-03-25T13:29:52.106Z"
   },
   {
    "duration": 6,
    "start_time": "2022-03-25T13:29:52.115Z"
   },
   {
    "duration": 6,
    "start_time": "2022-03-25T13:29:52.175Z"
   },
   {
    "duration": 13,
    "start_time": "2022-03-25T13:29:52.184Z"
   },
   {
    "duration": 8,
    "start_time": "2022-03-25T13:29:52.199Z"
   },
   {
    "duration": 10,
    "start_time": "2022-03-25T13:29:52.211Z"
   },
   {
    "duration": 7,
    "start_time": "2022-03-25T13:29:52.275Z"
   },
   {
    "duration": 6,
    "start_time": "2022-03-25T13:29:52.288Z"
   },
   {
    "duration": 18,
    "start_time": "2022-03-25T13:29:52.296Z"
   },
   {
    "duration": 8,
    "start_time": "2022-03-25T13:29:52.317Z"
   },
   {
    "duration": 948,
    "start_time": "2022-03-25T13:29:52.327Z"
   },
   {
    "duration": 31,
    "start_time": "2022-03-25T13:29:53.278Z"
   },
   {
    "duration": 33,
    "start_time": "2022-03-25T13:29:53.312Z"
   },
   {
    "duration": 26,
    "start_time": "2022-03-25T13:29:53.347Z"
   },
   {
    "duration": 7,
    "start_time": "2022-03-25T13:29:53.377Z"
   },
   {
    "duration": 10,
    "start_time": "2022-03-25T13:29:53.387Z"
   },
   {
    "duration": 34,
    "start_time": "2022-03-25T13:29:53.399Z"
   },
   {
    "duration": 66,
    "start_time": "2022-03-25T13:29:53.436Z"
   },
   {
    "duration": 29,
    "start_time": "2022-03-25T13:29:53.505Z"
   },
   {
    "duration": 35,
    "start_time": "2022-03-25T13:29:53.538Z"
   },
   {
    "duration": 5,
    "start_time": "2022-03-25T13:29:53.577Z"
   },
   {
    "duration": 9,
    "start_time": "2022-03-25T13:29:53.585Z"
   },
   {
    "duration": 10,
    "start_time": "2022-03-25T13:29:53.597Z"
   },
   {
    "duration": 10,
    "start_time": "2022-03-25T13:29:53.609Z"
   },
   {
    "duration": 78,
    "start_time": "2022-03-25T13:29:53.622Z"
   },
   {
    "duration": 28,
    "start_time": "2022-03-25T13:29:53.709Z"
   },
   {
    "duration": 37,
    "start_time": "2022-03-25T13:29:53.740Z"
   },
   {
    "duration": 33,
    "start_time": "2022-03-25T13:29:53.781Z"
   },
   {
    "duration": 4,
    "start_time": "2022-03-25T13:29:53.817Z"
   },
   {
    "duration": 15,
    "start_time": "2022-03-25T13:29:53.823Z"
   },
   {
    "duration": 40,
    "start_time": "2022-03-25T13:29:53.841Z"
   },
   {
    "duration": 9,
    "start_time": "2022-03-25T13:29:53.885Z"
   },
   {
    "duration": 11,
    "start_time": "2022-03-25T13:29:53.896Z"
   },
   {
    "duration": 1717,
    "start_time": "2022-03-25T13:29:53.909Z"
   },
   {
    "duration": 10,
    "start_time": "2022-03-25T13:29:55.629Z"
   },
   {
    "duration": 35,
    "start_time": "2022-03-25T13:29:55.642Z"
   },
   {
    "duration": 11,
    "start_time": "2022-03-25T13:29:55.679Z"
   },
   {
    "duration": 8,
    "start_time": "2022-03-25T13:29:55.693Z"
   },
   {
    "duration": 343,
    "start_time": "2022-03-25T13:29:55.704Z"
   },
   {
    "duration": 6,
    "start_time": "2022-03-25T13:29:56.050Z"
   },
   {
    "duration": 19,
    "start_time": "2022-03-25T13:29:56.058Z"
   },
   {
    "duration": 13,
    "start_time": "2022-03-25T13:29:56.079Z"
   },
   {
    "duration": 10,
    "start_time": "2022-03-25T13:29:56.095Z"
   },
   {
    "duration": 10,
    "start_time": "2022-03-25T13:29:56.108Z"
   },
   {
    "duration": 10,
    "start_time": "2022-03-25T13:29:56.120Z"
   },
   {
    "duration": 943,
    "start_time": "2022-03-25T13:29:56.132Z"
   },
   {
    "duration": 1775,
    "start_time": "2022-03-25T13:29:57.078Z"
   },
   {
    "duration": 1264,
    "start_time": "2022-03-25T13:29:58.856Z"
   },
   {
    "duration": 6023,
    "start_time": "2022-03-25T13:30:00.175Z"
   },
   {
    "duration": 6,
    "start_time": "2022-03-25T13:30:06.201Z"
   },
   {
    "duration": 15,
    "start_time": "2022-03-25T13:30:06.210Z"
   },
   {
    "duration": 1110,
    "start_time": "2022-03-25T13:30:06.274Z"
   },
   {
    "duration": 825,
    "start_time": "2022-03-25T13:30:07.387Z"
   },
   {
    "duration": 2811,
    "start_time": "2022-03-25T13:30:08.215Z"
   },
   {
    "duration": 9478,
    "start_time": "2022-03-25T13:30:11.029Z"
   },
   {
    "duration": 7,
    "start_time": "2022-03-25T13:30:20.510Z"
   },
   {
    "duration": 12,
    "start_time": "2022-03-25T13:30:20.574Z"
   },
   {
    "duration": 13,
    "start_time": "2022-03-25T13:30:20.588Z"
   },
   {
    "duration": 13,
    "start_time": "2022-03-25T13:30:20.604Z"
   },
   {
    "duration": 156,
    "start_time": "2022-03-25T13:30:20.622Z"
   },
   {
    "duration": 0,
    "start_time": "2022-03-25T13:30:20.782Z"
   },
   {
    "duration": 0,
    "start_time": "2022-03-25T13:30:20.784Z"
   },
   {
    "duration": 1,
    "start_time": "2022-03-25T13:30:20.786Z"
   },
   {
    "duration": 0,
    "start_time": "2022-03-25T13:30:20.874Z"
   },
   {
    "duration": 3,
    "start_time": "2022-03-25T13:33:13.366Z"
   },
   {
    "duration": 3111,
    "start_time": "2022-03-25T13:47:15.513Z"
   },
   {
    "duration": 4,
    "start_time": "2022-03-25T13:47:26.304Z"
   },
   {
    "duration": 20,
    "start_time": "2022-03-25T13:47:26.311Z"
   },
   {
    "duration": 21,
    "start_time": "2022-03-25T13:47:26.334Z"
   },
   {
    "duration": 11,
    "start_time": "2022-03-25T13:47:26.358Z"
   },
   {
    "duration": 16,
    "start_time": "2022-03-25T13:47:26.371Z"
   },
   {
    "duration": 16,
    "start_time": "2022-03-25T13:47:26.389Z"
   },
   {
    "duration": 36,
    "start_time": "2022-03-25T13:47:26.408Z"
   },
   {
    "duration": 34,
    "start_time": "2022-03-25T13:47:26.447Z"
   },
   {
    "duration": 17,
    "start_time": "2022-03-25T13:47:26.484Z"
   },
   {
    "duration": 12,
    "start_time": "2022-03-25T13:47:26.507Z"
   },
   {
    "duration": 27,
    "start_time": "2022-03-25T13:47:26.521Z"
   },
   {
    "duration": 22,
    "start_time": "2022-03-25T13:47:26.551Z"
   },
   {
    "duration": 25,
    "start_time": "2022-03-25T13:47:26.576Z"
   },
   {
    "duration": 811,
    "start_time": "2022-03-25T13:47:26.604Z"
   },
   {
    "duration": 27,
    "start_time": "2022-03-25T13:47:27.417Z"
   },
   {
    "duration": 47,
    "start_time": "2022-03-25T13:47:27.446Z"
   },
   {
    "duration": 8,
    "start_time": "2022-03-25T13:47:27.495Z"
   },
   {
    "duration": 21,
    "start_time": "2022-03-25T13:47:27.505Z"
   },
   {
    "duration": 19,
    "start_time": "2022-03-25T13:47:27.529Z"
   },
   {
    "duration": 51,
    "start_time": "2022-03-25T13:47:27.551Z"
   },
   {
    "duration": 40,
    "start_time": "2022-03-25T13:47:27.604Z"
   },
   {
    "duration": 36,
    "start_time": "2022-03-25T13:47:27.647Z"
   },
   {
    "duration": 15,
    "start_time": "2022-03-25T13:47:27.685Z"
   },
   {
    "duration": 12,
    "start_time": "2022-03-25T13:47:27.702Z"
   },
   {
    "duration": 11,
    "start_time": "2022-03-25T13:47:27.716Z"
   },
   {
    "duration": 19,
    "start_time": "2022-03-25T13:47:27.729Z"
   },
   {
    "duration": 25,
    "start_time": "2022-03-25T13:47:27.751Z"
   },
   {
    "duration": 48,
    "start_time": "2022-03-25T13:47:27.783Z"
   },
   {
    "duration": 40,
    "start_time": "2022-03-25T13:47:27.834Z"
   },
   {
    "duration": 15,
    "start_time": "2022-03-25T13:47:27.876Z"
   },
   {
    "duration": 35,
    "start_time": "2022-03-25T13:47:27.894Z"
   },
   {
    "duration": 3,
    "start_time": "2022-03-25T13:47:27.931Z"
   },
   {
    "duration": 39,
    "start_time": "2022-03-25T13:47:27.936Z"
   },
   {
    "duration": 10,
    "start_time": "2022-03-25T13:47:27.977Z"
   },
   {
    "duration": 13,
    "start_time": "2022-03-25T13:47:27.989Z"
   },
   {
    "duration": 20,
    "start_time": "2022-03-25T13:47:28.003Z"
   },
   {
    "duration": 1568,
    "start_time": "2022-03-25T13:47:28.026Z"
   },
   {
    "duration": 10,
    "start_time": "2022-03-25T13:47:29.596Z"
   },
   {
    "duration": 19,
    "start_time": "2022-03-25T13:47:29.609Z"
   },
   {
    "duration": 22,
    "start_time": "2022-03-25T13:47:29.631Z"
   },
   {
    "duration": 22,
    "start_time": "2022-03-25T13:47:29.656Z"
   },
   {
    "duration": 282,
    "start_time": "2022-03-25T13:47:29.681Z"
   },
   {
    "duration": 7,
    "start_time": "2022-03-25T13:47:29.973Z"
   },
   {
    "duration": 18,
    "start_time": "2022-03-25T13:47:29.982Z"
   },
   {
    "duration": 21,
    "start_time": "2022-03-25T13:47:30.002Z"
   },
   {
    "duration": 16,
    "start_time": "2022-03-25T13:47:30.025Z"
   },
   {
    "duration": 32,
    "start_time": "2022-03-25T13:47:30.044Z"
   },
   {
    "duration": 16,
    "start_time": "2022-03-25T13:47:30.078Z"
   },
   {
    "duration": 14,
    "start_time": "2022-03-25T13:47:30.097Z"
   },
   {
    "duration": 861,
    "start_time": "2022-03-25T13:47:30.114Z"
   },
   {
    "duration": 2985,
    "start_time": "2022-03-25T13:47:33.596Z"
   },
   {
    "duration": 4788,
    "start_time": "2022-03-25T13:49:56.975Z"
   },
   {
    "duration": 12660,
    "start_time": "2022-03-25T13:50:15.409Z"
   },
   {
    "duration": 998,
    "start_time": "2022-03-25T13:50:34.759Z"
   },
   {
    "duration": 1184,
    "start_time": "2022-03-25T13:50:59.382Z"
   },
   {
    "duration": 4661,
    "start_time": "2022-03-25T13:51:10.501Z"
   },
   {
    "duration": 6157,
    "start_time": "2022-03-25T13:51:21.703Z"
   },
   {
    "duration": 1130,
    "start_time": "2022-03-25T13:55:36.615Z"
   },
   {
    "duration": 979,
    "start_time": "2022-03-25T13:55:49.797Z"
   },
   {
    "duration": 1083,
    "start_time": "2022-03-25T13:55:57.106Z"
   },
   {
    "duration": 4,
    "start_time": "2022-03-25T13:58:44.091Z"
   },
   {
    "duration": 12,
    "start_time": "2022-03-25T13:58:44.098Z"
   },
   {
    "duration": 12,
    "start_time": "2022-03-25T13:58:44.113Z"
   },
   {
    "duration": 8,
    "start_time": "2022-03-25T13:58:44.128Z"
   },
   {
    "duration": 35,
    "start_time": "2022-03-25T13:58:44.140Z"
   },
   {
    "duration": 5,
    "start_time": "2022-03-25T13:58:44.178Z"
   },
   {
    "duration": 12,
    "start_time": "2022-03-25T13:58:44.187Z"
   },
   {
    "duration": 12,
    "start_time": "2022-03-25T13:58:44.203Z"
   },
   {
    "duration": 6,
    "start_time": "2022-03-25T13:58:44.217Z"
   },
   {
    "duration": 52,
    "start_time": "2022-03-25T13:58:44.226Z"
   },
   {
    "duration": 7,
    "start_time": "2022-03-25T13:58:44.280Z"
   },
   {
    "duration": 12,
    "start_time": "2022-03-25T13:58:44.289Z"
   },
   {
    "duration": 14,
    "start_time": "2022-03-25T13:58:44.303Z"
   },
   {
    "duration": 942,
    "start_time": "2022-03-25T13:58:44.324Z"
   },
   {
    "duration": 26,
    "start_time": "2022-03-25T13:58:45.268Z"
   },
   {
    "duration": 29,
    "start_time": "2022-03-25T13:58:45.298Z"
   },
   {
    "duration": 7,
    "start_time": "2022-03-25T13:58:45.330Z"
   },
   {
    "duration": 8,
    "start_time": "2022-03-25T13:58:45.373Z"
   },
   {
    "duration": 11,
    "start_time": "2022-03-25T13:58:45.383Z"
   },
   {
    "duration": 34,
    "start_time": "2022-03-25T13:58:45.397Z"
   },
   {
    "duration": 58,
    "start_time": "2022-03-25T13:58:45.434Z"
   },
   {
    "duration": 28,
    "start_time": "2022-03-25T13:58:45.495Z"
   },
   {
    "duration": 8,
    "start_time": "2022-03-25T13:58:45.525Z"
   },
   {
    "duration": 38,
    "start_time": "2022-03-25T13:58:45.536Z"
   },
   {
    "duration": 7,
    "start_time": "2022-03-25T13:58:45.577Z"
   },
   {
    "duration": 9,
    "start_time": "2022-03-25T13:58:45.586Z"
   },
   {
    "duration": 14,
    "start_time": "2022-03-25T13:58:45.597Z"
   },
   {
    "duration": 76,
    "start_time": "2022-03-25T13:58:45.613Z"
   },
   {
    "duration": 21,
    "start_time": "2022-03-25T13:58:45.692Z"
   },
   {
    "duration": 13,
    "start_time": "2022-03-25T13:58:45.715Z"
   },
   {
    "duration": 62,
    "start_time": "2022-03-25T13:58:45.730Z"
   },
   {
    "duration": 4,
    "start_time": "2022-03-25T13:58:45.795Z"
   },
   {
    "duration": 15,
    "start_time": "2022-03-25T13:58:45.802Z"
   },
   {
    "duration": 12,
    "start_time": "2022-03-25T13:58:45.820Z"
   },
   {
    "duration": 46,
    "start_time": "2022-03-25T13:58:45.835Z"
   },
   {
    "duration": 11,
    "start_time": "2022-03-25T13:58:45.884Z"
   },
   {
    "duration": 1639,
    "start_time": "2022-03-25T13:58:45.898Z"
   },
   {
    "duration": 8,
    "start_time": "2022-03-25T13:58:47.540Z"
   },
   {
    "duration": 29,
    "start_time": "2022-03-25T13:58:47.550Z"
   },
   {
    "duration": 12,
    "start_time": "2022-03-25T13:58:47.582Z"
   },
   {
    "duration": 9,
    "start_time": "2022-03-25T13:58:47.602Z"
   },
   {
    "duration": 352,
    "start_time": "2022-03-25T13:58:47.614Z"
   },
   {
    "duration": 6,
    "start_time": "2022-03-25T13:58:47.969Z"
   },
   {
    "duration": 8,
    "start_time": "2022-03-25T13:58:47.977Z"
   },
   {
    "duration": 11,
    "start_time": "2022-03-25T13:58:47.987Z"
   },
   {
    "duration": 15,
    "start_time": "2022-03-25T13:58:48.001Z"
   },
   {
    "duration": 15,
    "start_time": "2022-03-25T13:58:48.019Z"
   },
   {
    "duration": 13,
    "start_time": "2022-03-25T13:58:48.038Z"
   },
   {
    "duration": 722,
    "start_time": "2022-03-25T13:58:48.053Z"
   },
   {
    "duration": 1159,
    "start_time": "2022-03-25T13:58:48.778Z"
   },
   {
    "duration": 4,
    "start_time": "2022-03-25T14:05:28.981Z"
   },
   {
    "duration": 10,
    "start_time": "2022-03-25T14:05:28.988Z"
   },
   {
    "duration": 12,
    "start_time": "2022-03-25T14:05:29.001Z"
   },
   {
    "duration": 8,
    "start_time": "2022-03-25T14:05:29.017Z"
   },
   {
    "duration": 48,
    "start_time": "2022-03-25T14:05:29.028Z"
   },
   {
    "duration": 8,
    "start_time": "2022-03-25T14:05:29.079Z"
   },
   {
    "duration": 8,
    "start_time": "2022-03-25T14:05:29.089Z"
   },
   {
    "duration": 8,
    "start_time": "2022-03-25T14:05:29.100Z"
   },
   {
    "duration": 6,
    "start_time": "2022-03-25T14:05:29.114Z"
   },
   {
    "duration": 6,
    "start_time": "2022-03-25T14:05:29.175Z"
   },
   {
    "duration": 9,
    "start_time": "2022-03-25T14:05:29.184Z"
   },
   {
    "duration": 16,
    "start_time": "2022-03-25T14:05:29.194Z"
   },
   {
    "duration": 8,
    "start_time": "2022-03-25T14:05:29.213Z"
   },
   {
    "duration": 1015,
    "start_time": "2022-03-25T14:05:29.224Z"
   },
   {
    "duration": 43,
    "start_time": "2022-03-25T14:05:30.242Z"
   },
   {
    "duration": 44,
    "start_time": "2022-03-25T14:05:30.288Z"
   },
   {
    "duration": 6,
    "start_time": "2022-03-25T14:05:30.335Z"
   },
   {
    "duration": 31,
    "start_time": "2022-03-25T14:05:30.344Z"
   },
   {
    "duration": 18,
    "start_time": "2022-03-25T14:05:30.378Z"
   },
   {
    "duration": 38,
    "start_time": "2022-03-25T14:05:30.399Z"
   },
   {
    "duration": 49,
    "start_time": "2022-03-25T14:05:30.441Z"
   },
   {
    "duration": 31,
    "start_time": "2022-03-25T14:05:30.493Z"
   },
   {
    "duration": 9,
    "start_time": "2022-03-25T14:05:30.526Z"
   },
   {
    "duration": 6,
    "start_time": "2022-03-25T14:05:30.540Z"
   },
   {
    "duration": 15,
    "start_time": "2022-03-25T14:05:30.574Z"
   },
   {
    "duration": 19,
    "start_time": "2022-03-25T14:05:30.595Z"
   },
   {
    "duration": 20,
    "start_time": "2022-03-25T14:05:30.617Z"
   },
   {
    "duration": 63,
    "start_time": "2022-03-25T14:05:30.639Z"
   },
   {
    "duration": 25,
    "start_time": "2022-03-25T14:05:30.705Z"
   },
   {
    "duration": 26,
    "start_time": "2022-03-25T14:05:30.732Z"
   },
   {
    "duration": 30,
    "start_time": "2022-03-25T14:05:30.775Z"
   },
   {
    "duration": 4,
    "start_time": "2022-03-25T14:05:30.808Z"
   },
   {
    "duration": 31,
    "start_time": "2022-03-25T14:05:30.815Z"
   },
   {
    "duration": 31,
    "start_time": "2022-03-25T14:05:30.848Z"
   },
   {
    "duration": 10,
    "start_time": "2022-03-25T14:05:30.881Z"
   },
   {
    "duration": 13,
    "start_time": "2022-03-25T14:05:30.894Z"
   },
   {
    "duration": 1534,
    "start_time": "2022-03-25T14:05:30.910Z"
   },
   {
    "duration": 8,
    "start_time": "2022-03-25T14:05:32.446Z"
   },
   {
    "duration": 27,
    "start_time": "2022-03-25T14:05:32.456Z"
   },
   {
    "duration": 9,
    "start_time": "2022-03-25T14:05:32.486Z"
   },
   {
    "duration": 8,
    "start_time": "2022-03-25T14:05:32.498Z"
   },
   {
    "duration": 745,
    "start_time": "2022-03-25T14:05:32.509Z"
   },
   {
    "duration": 6,
    "start_time": "2022-03-25T14:05:33.257Z"
   },
   {
    "duration": 18,
    "start_time": "2022-03-25T14:05:33.265Z"
   },
   {
    "duration": 15,
    "start_time": "2022-03-25T14:05:33.286Z"
   },
   {
    "duration": 9,
    "start_time": "2022-03-25T14:05:33.304Z"
   },
   {
    "duration": 20,
    "start_time": "2022-03-25T14:05:33.316Z"
   },
   {
    "duration": 7,
    "start_time": "2022-03-25T14:05:33.339Z"
   },
   {
    "duration": 730,
    "start_time": "2022-03-25T14:05:33.348Z"
   },
   {
    "duration": 1376,
    "start_time": "2022-03-25T14:05:34.081Z"
   },
   {
    "duration": 6448,
    "start_time": "2022-03-25T14:05:35.459Z"
   },
   {
    "duration": 6,
    "start_time": "2022-03-25T14:05:41.911Z"
   },
   {
    "duration": 13,
    "start_time": "2022-03-25T14:05:41.920Z"
   },
   {
    "duration": 1039,
    "start_time": "2022-03-25T14:05:41.936Z"
   },
   {
    "duration": 1819,
    "start_time": "2022-03-25T14:05:42.979Z"
   },
   {
    "duration": 10069,
    "start_time": "2022-03-25T14:05:44.801Z"
   },
   {
    "duration": 4,
    "start_time": "2022-03-25T14:07:14.953Z"
   },
   {
    "duration": 14,
    "start_time": "2022-03-25T14:07:14.961Z"
   },
   {
    "duration": 9,
    "start_time": "2022-03-25T14:07:14.977Z"
   },
   {
    "duration": 16,
    "start_time": "2022-03-25T14:07:14.990Z"
   },
   {
    "duration": 43,
    "start_time": "2022-03-25T14:07:15.009Z"
   },
   {
    "duration": 24,
    "start_time": "2022-03-25T14:07:15.055Z"
   },
   {
    "duration": 21,
    "start_time": "2022-03-25T14:07:15.082Z"
   },
   {
    "duration": 40,
    "start_time": "2022-03-25T14:07:15.106Z"
   },
   {
    "duration": 21,
    "start_time": "2022-03-25T14:07:15.150Z"
   },
   {
    "duration": 25,
    "start_time": "2022-03-25T14:07:15.174Z"
   },
   {
    "duration": 25,
    "start_time": "2022-03-25T14:07:15.201Z"
   },
   {
    "duration": 15,
    "start_time": "2022-03-25T14:07:15.229Z"
   },
   {
    "duration": 18,
    "start_time": "2022-03-25T14:07:15.247Z"
   },
   {
    "duration": 986,
    "start_time": "2022-03-25T14:07:15.267Z"
   },
   {
    "duration": 32,
    "start_time": "2022-03-25T14:07:16.255Z"
   },
   {
    "duration": 32,
    "start_time": "2022-03-25T14:07:16.289Z"
   },
   {
    "duration": 8,
    "start_time": "2022-03-25T14:07:16.324Z"
   },
   {
    "duration": 11,
    "start_time": "2022-03-25T14:07:16.335Z"
   },
   {
    "duration": 7,
    "start_time": "2022-03-25T14:07:16.374Z"
   },
   {
    "duration": 37,
    "start_time": "2022-03-25T14:07:16.384Z"
   },
   {
    "duration": 53,
    "start_time": "2022-03-25T14:07:16.423Z"
   },
   {
    "duration": 32,
    "start_time": "2022-03-25T14:07:16.480Z"
   },
   {
    "duration": 11,
    "start_time": "2022-03-25T14:07:16.515Z"
   },
   {
    "duration": 7,
    "start_time": "2022-03-25T14:07:16.532Z"
   },
   {
    "duration": 8,
    "start_time": "2022-03-25T14:07:16.574Z"
   },
   {
    "duration": 14,
    "start_time": "2022-03-25T14:07:16.585Z"
   },
   {
    "duration": 12,
    "start_time": "2022-03-25T14:07:16.602Z"
   },
   {
    "duration": 73,
    "start_time": "2022-03-25T14:07:16.616Z"
   },
   {
    "duration": 26,
    "start_time": "2022-03-25T14:07:16.691Z"
   },
   {
    "duration": 18,
    "start_time": "2022-03-25T14:07:16.722Z"
   },
   {
    "duration": 54,
    "start_time": "2022-03-25T14:07:16.743Z"
   },
   {
    "duration": 4,
    "start_time": "2022-03-25T14:07:16.799Z"
   },
   {
    "duration": 25,
    "start_time": "2022-03-25T14:07:16.805Z"
   },
   {
    "duration": 10,
    "start_time": "2022-03-25T14:07:16.833Z"
   },
   {
    "duration": 40,
    "start_time": "2022-03-25T14:07:16.845Z"
   },
   {
    "duration": 12,
    "start_time": "2022-03-25T14:07:16.887Z"
   },
   {
    "duration": 1478,
    "start_time": "2022-03-25T14:07:16.902Z"
   },
   {
    "duration": 9,
    "start_time": "2022-03-25T14:07:18.383Z"
   },
   {
    "duration": 9,
    "start_time": "2022-03-25T14:07:18.395Z"
   },
   {
    "duration": 15,
    "start_time": "2022-03-25T14:07:18.407Z"
   },
   {
    "duration": 11,
    "start_time": "2022-03-25T14:07:18.425Z"
   },
   {
    "duration": 308,
    "start_time": "2022-03-25T14:07:18.475Z"
   },
   {
    "duration": 6,
    "start_time": "2022-03-25T14:07:18.786Z"
   },
   {
    "duration": 11,
    "start_time": "2022-03-25T14:07:18.794Z"
   },
   {
    "duration": 12,
    "start_time": "2022-03-25T14:07:18.808Z"
   },
   {
    "duration": 10,
    "start_time": "2022-03-25T14:07:18.823Z"
   },
   {
    "duration": 7,
    "start_time": "2022-03-25T14:07:18.835Z"
   },
   {
    "duration": 5,
    "start_time": "2022-03-25T14:07:18.873Z"
   },
   {
    "duration": 894,
    "start_time": "2022-03-25T14:07:18.881Z"
   },
   {
    "duration": 1402,
    "start_time": "2022-03-25T14:07:19.779Z"
   },
   {
    "duration": 7262,
    "start_time": "2022-03-25T14:07:21.184Z"
   },
   {
    "duration": 7,
    "start_time": "2022-03-25T14:07:28.449Z"
   },
   {
    "duration": 21,
    "start_time": "2022-03-25T14:07:28.458Z"
   },
   {
    "duration": 1106,
    "start_time": "2022-03-25T14:07:28.482Z"
   },
   {
    "duration": 1949,
    "start_time": "2022-03-25T14:07:29.592Z"
   },
   {
    "duration": 13529,
    "start_time": "2022-03-25T14:07:31.544Z"
   },
   {
    "duration": 4,
    "start_time": "2022-03-25T14:08:12.844Z"
   },
   {
    "duration": 7,
    "start_time": "2022-03-25T14:08:15.572Z"
   },
   {
    "duration": 6,
    "start_time": "2022-03-25T14:08:16.802Z"
   },
   {
    "duration": 5,
    "start_time": "2022-03-25T14:11:26.301Z"
   },
   {
    "duration": 6,
    "start_time": "2022-03-25T14:12:52.710Z"
   },
   {
    "duration": 10,
    "start_time": "2022-03-25T14:12:53.822Z"
   },
   {
    "duration": 4,
    "start_time": "2022-03-25T14:16:08.806Z"
   },
   {
    "duration": 131,
    "start_time": "2022-03-25T14:16:09.754Z"
   },
   {
    "duration": 166,
    "start_time": "2022-03-25T14:16:46.639Z"
   },
   {
    "duration": 4,
    "start_time": "2022-03-25T14:16:55.319Z"
   },
   {
    "duration": 20,
    "start_time": "2022-03-25T14:16:55.326Z"
   },
   {
    "duration": 9,
    "start_time": "2022-03-25T14:16:55.349Z"
   },
   {
    "duration": 12,
    "start_time": "2022-03-25T14:16:55.361Z"
   },
   {
    "duration": 17,
    "start_time": "2022-03-25T14:16:55.377Z"
   },
   {
    "duration": 10,
    "start_time": "2022-03-25T14:16:55.397Z"
   },
   {
    "duration": 21,
    "start_time": "2022-03-25T14:16:55.410Z"
   },
   {
    "duration": 42,
    "start_time": "2022-03-25T14:16:55.434Z"
   },
   {
    "duration": 7,
    "start_time": "2022-03-25T14:16:55.478Z"
   },
   {
    "duration": 12,
    "start_time": "2022-03-25T14:16:55.488Z"
   },
   {
    "duration": 21,
    "start_time": "2022-03-25T14:16:55.506Z"
   },
   {
    "duration": 15,
    "start_time": "2022-03-25T14:16:55.530Z"
   },
   {
    "duration": 30,
    "start_time": "2022-03-25T14:16:55.547Z"
   },
   {
    "duration": 1148,
    "start_time": "2022-03-25T14:16:55.586Z"
   },
   {
    "duration": 36,
    "start_time": "2022-03-25T14:16:56.738Z"
   },
   {
    "duration": 33,
    "start_time": "2022-03-25T14:16:56.777Z"
   },
   {
    "duration": 7,
    "start_time": "2022-03-25T14:16:56.814Z"
   },
   {
    "duration": 7,
    "start_time": "2022-03-25T14:16:56.827Z"
   },
   {
    "duration": 52,
    "start_time": "2022-03-25T14:16:56.837Z"
   },
   {
    "duration": 35,
    "start_time": "2022-03-25T14:16:56.895Z"
   },
   {
    "duration": 45,
    "start_time": "2022-03-25T14:16:56.932Z"
   },
   {
    "duration": 31,
    "start_time": "2022-03-25T14:16:56.979Z"
   },
   {
    "duration": 9,
    "start_time": "2022-03-25T14:16:57.015Z"
   },
   {
    "duration": 6,
    "start_time": "2022-03-25T14:16:57.028Z"
   },
   {
    "duration": 38,
    "start_time": "2022-03-25T14:16:57.036Z"
   },
   {
    "duration": 8,
    "start_time": "2022-03-25T14:16:57.077Z"
   },
   {
    "duration": 14,
    "start_time": "2022-03-25T14:16:57.087Z"
   },
   {
    "duration": 79,
    "start_time": "2022-03-25T14:16:57.104Z"
   },
   {
    "duration": 25,
    "start_time": "2022-03-25T14:16:57.190Z"
   },
   {
    "duration": 16,
    "start_time": "2022-03-25T14:16:57.218Z"
   },
   {
    "duration": 55,
    "start_time": "2022-03-25T14:16:57.236Z"
   },
   {
    "duration": 4,
    "start_time": "2022-03-25T14:16:57.294Z"
   },
   {
    "duration": 17,
    "start_time": "2022-03-25T14:16:57.300Z"
   },
   {
    "duration": 16,
    "start_time": "2022-03-25T14:16:57.320Z"
   },
   {
    "duration": 43,
    "start_time": "2022-03-25T14:16:57.340Z"
   },
   {
    "duration": 14,
    "start_time": "2022-03-25T14:16:57.386Z"
   },
   {
    "duration": 1610,
    "start_time": "2022-03-25T14:16:57.403Z"
   },
   {
    "duration": 10,
    "start_time": "2022-03-25T14:16:59.015Z"
   },
   {
    "duration": 47,
    "start_time": "2022-03-25T14:16:59.027Z"
   },
   {
    "duration": 28,
    "start_time": "2022-03-25T14:16:59.078Z"
   },
   {
    "duration": 40,
    "start_time": "2022-03-25T14:16:59.109Z"
   },
   {
    "duration": 353,
    "start_time": "2022-03-25T14:16:59.152Z"
   },
   {
    "duration": 7,
    "start_time": "2022-03-25T14:16:59.508Z"
   },
   {
    "duration": 24,
    "start_time": "2022-03-25T14:16:59.518Z"
   },
   {
    "duration": 12,
    "start_time": "2022-03-25T14:16:59.545Z"
   },
   {
    "duration": 14,
    "start_time": "2022-03-25T14:16:59.561Z"
   },
   {
    "duration": 14,
    "start_time": "2022-03-25T14:16:59.578Z"
   },
   {
    "duration": 13,
    "start_time": "2022-03-25T14:16:59.595Z"
   },
   {
    "duration": 1061,
    "start_time": "2022-03-25T14:16:59.614Z"
   },
   {
    "duration": 1135,
    "start_time": "2022-03-25T14:17:00.679Z"
   },
   {
    "duration": 6712,
    "start_time": "2022-03-25T14:17:01.816Z"
   },
   {
    "duration": 7,
    "start_time": "2022-03-25T14:17:08.531Z"
   },
   {
    "duration": 40,
    "start_time": "2022-03-25T14:17:08.540Z"
   },
   {
    "duration": 1092,
    "start_time": "2022-03-25T14:17:08.585Z"
   },
   {
    "duration": 1855,
    "start_time": "2022-03-25T14:17:09.680Z"
   },
   {
    "duration": 10649,
    "start_time": "2022-03-25T14:17:11.537Z"
   },
   {
    "duration": 7,
    "start_time": "2022-03-25T14:17:22.189Z"
   },
   {
    "duration": 6,
    "start_time": "2022-03-25T14:17:22.200Z"
   },
   {
    "duration": 8,
    "start_time": "2022-03-25T14:17:22.208Z"
   },
   {
    "duration": 11,
    "start_time": "2022-03-25T14:17:22.219Z"
   },
   {
    "duration": 4,
    "start_time": "2022-03-25T14:17:27.458Z"
   },
   {
    "duration": 172,
    "start_time": "2022-03-25T14:17:29.014Z"
   },
   {
    "duration": 4,
    "start_time": "2022-03-25T14:26:18.066Z"
   },
   {
    "duration": 21,
    "start_time": "2022-03-25T14:26:18.073Z"
   },
   {
    "duration": 16,
    "start_time": "2022-03-25T14:26:18.097Z"
   },
   {
    "duration": 17,
    "start_time": "2022-03-25T14:26:18.116Z"
   },
   {
    "duration": 37,
    "start_time": "2022-03-25T14:26:18.137Z"
   },
   {
    "duration": 13,
    "start_time": "2022-03-25T14:26:18.177Z"
   },
   {
    "duration": 14,
    "start_time": "2022-03-25T14:26:18.193Z"
   },
   {
    "duration": 9,
    "start_time": "2022-03-25T14:26:18.210Z"
   },
   {
    "duration": 16,
    "start_time": "2022-03-25T14:26:18.221Z"
   },
   {
    "duration": 45,
    "start_time": "2022-03-25T14:26:18.239Z"
   },
   {
    "duration": 6,
    "start_time": "2022-03-25T14:26:18.288Z"
   },
   {
    "duration": 9,
    "start_time": "2022-03-25T14:26:18.295Z"
   },
   {
    "duration": 7,
    "start_time": "2022-03-25T14:26:18.308Z"
   },
   {
    "duration": 829,
    "start_time": "2022-03-25T14:26:18.317Z"
   },
   {
    "duration": 37,
    "start_time": "2022-03-25T14:26:19.148Z"
   },
   {
    "duration": 43,
    "start_time": "2022-03-25T14:26:19.188Z"
   },
   {
    "duration": 7,
    "start_time": "2022-03-25T14:26:19.235Z"
   },
   {
    "duration": 31,
    "start_time": "2022-03-25T14:26:19.247Z"
   },
   {
    "duration": 13,
    "start_time": "2022-03-25T14:26:19.282Z"
   },
   {
    "duration": 31,
    "start_time": "2022-03-25T14:26:19.298Z"
   },
   {
    "duration": 52,
    "start_time": "2022-03-25T14:26:19.332Z"
   },
   {
    "duration": 32,
    "start_time": "2022-03-25T14:26:19.387Z"
   },
   {
    "duration": 26,
    "start_time": "2022-03-25T14:26:19.422Z"
   },
   {
    "duration": 13,
    "start_time": "2022-03-25T14:26:19.451Z"
   },
   {
    "duration": 18,
    "start_time": "2022-03-25T14:26:19.466Z"
   },
   {
    "duration": 17,
    "start_time": "2022-03-25T14:26:19.488Z"
   },
   {
    "duration": 31,
    "start_time": "2022-03-25T14:26:19.508Z"
   },
   {
    "duration": 45,
    "start_time": "2022-03-25T14:26:19.541Z"
   },
   {
    "duration": 21,
    "start_time": "2022-03-25T14:26:19.594Z"
   },
   {
    "duration": 19,
    "start_time": "2022-03-25T14:26:19.618Z"
   },
   {
    "duration": 62,
    "start_time": "2022-03-25T14:26:19.640Z"
   },
   {
    "duration": 4,
    "start_time": "2022-03-25T14:26:19.705Z"
   },
   {
    "duration": 19,
    "start_time": "2022-03-25T14:26:19.711Z"
   },
   {
    "duration": 23,
    "start_time": "2022-03-25T14:26:19.733Z"
   },
   {
    "duration": 15,
    "start_time": "2022-03-25T14:26:19.775Z"
   },
   {
    "duration": 14,
    "start_time": "2022-03-25T14:26:19.792Z"
   },
   {
    "duration": 1953,
    "start_time": "2022-03-25T14:26:19.809Z"
   },
   {
    "duration": 14,
    "start_time": "2022-03-25T14:26:21.765Z"
   },
   {
    "duration": 16,
    "start_time": "2022-03-25T14:26:21.781Z"
   },
   {
    "duration": 11,
    "start_time": "2022-03-25T14:26:21.799Z"
   },
   {
    "duration": 21,
    "start_time": "2022-03-25T14:26:21.813Z"
   },
   {
    "duration": 324,
    "start_time": "2022-03-25T14:26:21.837Z"
   },
   {
    "duration": 10,
    "start_time": "2022-03-25T14:26:22.164Z"
   },
   {
    "duration": 15,
    "start_time": "2022-03-25T14:26:22.176Z"
   },
   {
    "duration": 19,
    "start_time": "2022-03-25T14:26:22.193Z"
   },
   {
    "duration": 13,
    "start_time": "2022-03-25T14:26:22.214Z"
   },
   {
    "duration": 16,
    "start_time": "2022-03-25T14:26:22.230Z"
   },
   {
    "duration": 8,
    "start_time": "2022-03-25T14:26:22.248Z"
   },
   {
    "duration": 1021,
    "start_time": "2022-03-25T14:26:22.259Z"
   },
   {
    "duration": 1137,
    "start_time": "2022-03-25T14:26:23.283Z"
   },
   {
    "duration": 6578,
    "start_time": "2022-03-25T14:26:24.422Z"
   },
   {
    "duration": 7,
    "start_time": "2022-03-25T14:26:31.003Z"
   },
   {
    "duration": 24,
    "start_time": "2022-03-25T14:26:31.013Z"
   },
   {
    "duration": 1036,
    "start_time": "2022-03-25T14:26:31.041Z"
   },
   {
    "duration": 2486,
    "start_time": "2022-03-25T14:26:32.081Z"
   },
   {
    "duration": 10974,
    "start_time": "2022-03-25T14:26:34.574Z"
   },
   {
    "duration": 6,
    "start_time": "2022-03-25T14:26:45.551Z"
   },
   {
    "duration": 6,
    "start_time": "2022-03-25T14:26:45.574Z"
   },
   {
    "duration": 17,
    "start_time": "2022-03-25T14:26:45.582Z"
   },
   {
    "duration": 11,
    "start_time": "2022-03-25T14:26:45.601Z"
   },
   {
    "duration": 260,
    "start_time": "2022-03-25T14:26:45.615Z"
   },
   {
    "duration": 6,
    "start_time": "2022-03-25T14:26:45.877Z"
   },
   {
    "duration": 14,
    "start_time": "2022-03-25T14:26:45.886Z"
   },
   {
    "duration": 5,
    "start_time": "2022-03-25T14:28:24.428Z"
   },
   {
    "duration": 7,
    "start_time": "2022-03-25T14:28:52.151Z"
   },
   {
    "duration": 3,
    "start_time": "2022-03-25T14:30:16.983Z"
   },
   {
    "duration": 10,
    "start_time": "2022-03-25T14:30:16.989Z"
   },
   {
    "duration": 17,
    "start_time": "2022-03-25T14:30:17.002Z"
   },
   {
    "duration": 16,
    "start_time": "2022-03-25T14:30:17.022Z"
   },
   {
    "duration": 41,
    "start_time": "2022-03-25T14:30:17.041Z"
   },
   {
    "duration": 8,
    "start_time": "2022-03-25T14:30:17.085Z"
   },
   {
    "duration": 12,
    "start_time": "2022-03-25T14:30:17.095Z"
   },
   {
    "duration": 11,
    "start_time": "2022-03-25T14:30:17.109Z"
   },
   {
    "duration": 55,
    "start_time": "2022-03-25T14:30:17.125Z"
   },
   {
    "duration": 7,
    "start_time": "2022-03-25T14:30:17.183Z"
   },
   {
    "duration": 6,
    "start_time": "2022-03-25T14:30:17.193Z"
   },
   {
    "duration": 11,
    "start_time": "2022-03-25T14:30:17.201Z"
   },
   {
    "duration": 12,
    "start_time": "2022-03-25T14:30:17.215Z"
   },
   {
    "duration": 1001,
    "start_time": "2022-03-25T14:30:17.274Z"
   },
   {
    "duration": 33,
    "start_time": "2022-03-25T14:30:18.278Z"
   },
   {
    "duration": 28,
    "start_time": "2022-03-25T14:30:18.315Z"
   },
   {
    "duration": 30,
    "start_time": "2022-03-25T14:30:18.346Z"
   },
   {
    "duration": 13,
    "start_time": "2022-03-25T14:30:18.378Z"
   },
   {
    "duration": 10,
    "start_time": "2022-03-25T14:30:18.394Z"
   },
   {
    "duration": 35,
    "start_time": "2022-03-25T14:30:18.406Z"
   },
   {
    "duration": 55,
    "start_time": "2022-03-25T14:30:18.443Z"
   },
   {
    "duration": 36,
    "start_time": "2022-03-25T14:30:18.502Z"
   },
   {
    "duration": 5,
    "start_time": "2022-03-25T14:30:18.541Z"
   },
   {
    "duration": 7,
    "start_time": "2022-03-25T14:30:18.574Z"
   },
   {
    "duration": 21,
    "start_time": "2022-03-25T14:30:18.584Z"
   },
   {
    "duration": 12,
    "start_time": "2022-03-25T14:30:18.608Z"
   },
   {
    "duration": 17,
    "start_time": "2022-03-25T14:30:18.623Z"
   },
   {
    "duration": 71,
    "start_time": "2022-03-25T14:30:18.643Z"
   },
   {
    "duration": 23,
    "start_time": "2022-03-25T14:30:18.716Z"
   },
   {
    "duration": 46,
    "start_time": "2022-03-25T14:30:18.741Z"
   },
   {
    "duration": 38,
    "start_time": "2022-03-25T14:30:18.790Z"
   },
   {
    "duration": 4,
    "start_time": "2022-03-25T14:30:18.831Z"
   },
   {
    "duration": 14,
    "start_time": "2022-03-25T14:30:18.838Z"
   },
   {
    "duration": 11,
    "start_time": "2022-03-25T14:30:18.874Z"
   },
   {
    "duration": 13,
    "start_time": "2022-03-25T14:30:18.888Z"
   },
   {
    "duration": 13,
    "start_time": "2022-03-25T14:30:18.903Z"
   },
   {
    "duration": 1823,
    "start_time": "2022-03-25T14:30:18.918Z"
   },
   {
    "duration": 10,
    "start_time": "2022-03-25T14:30:20.744Z"
   },
   {
    "duration": 26,
    "start_time": "2022-03-25T14:30:20.757Z"
   },
   {
    "duration": 12,
    "start_time": "2022-03-25T14:30:20.787Z"
   },
   {
    "duration": 18,
    "start_time": "2022-03-25T14:30:20.802Z"
   },
   {
    "duration": 384,
    "start_time": "2022-03-25T14:30:20.823Z"
   },
   {
    "duration": 9,
    "start_time": "2022-03-25T14:30:21.210Z"
   },
   {
    "duration": 12,
    "start_time": "2022-03-25T14:30:21.222Z"
   },
   {
    "duration": 14,
    "start_time": "2022-03-25T14:30:21.237Z"
   },
   {
    "duration": 21,
    "start_time": "2022-03-25T14:30:21.253Z"
   },
   {
    "duration": 12,
    "start_time": "2022-03-25T14:30:21.277Z"
   },
   {
    "duration": 7,
    "start_time": "2022-03-25T14:30:21.291Z"
   },
   {
    "duration": 983,
    "start_time": "2022-03-25T14:30:21.301Z"
   },
   {
    "duration": 1529,
    "start_time": "2022-03-25T14:30:22.289Z"
   },
   {
    "duration": 6928,
    "start_time": "2022-03-25T14:30:23.821Z"
   },
   {
    "duration": 7,
    "start_time": "2022-03-25T14:30:30.752Z"
   },
   {
    "duration": 4,
    "start_time": "2022-03-25T14:30:30.773Z"
   },
   {
    "duration": 1206,
    "start_time": "2022-03-25T14:30:30.780Z"
   },
   {
    "duration": 1767,
    "start_time": "2022-03-25T14:30:31.993Z"
   },
   {
    "duration": 10184,
    "start_time": "2022-03-25T14:30:33.762Z"
   },
   {
    "duration": 5,
    "start_time": "2022-03-25T14:30:43.949Z"
   },
   {
    "duration": 25,
    "start_time": "2022-03-25T14:30:43.956Z"
   },
   {
    "duration": 9,
    "start_time": "2022-03-25T14:30:43.984Z"
   },
   {
    "duration": 11,
    "start_time": "2022-03-25T14:30:43.996Z"
   },
   {
    "duration": 174,
    "start_time": "2022-03-25T14:30:44.011Z"
   },
   {
    "duration": 8,
    "start_time": "2022-03-25T14:30:44.187Z"
   },
   {
    "duration": 12,
    "start_time": "2022-03-25T14:30:44.198Z"
   },
   {
    "duration": 204,
    "start_time": "2022-03-25T14:30:44.212Z"
   },
   {
    "duration": 6,
    "start_time": "2022-03-25T14:30:44.474Z"
   },
   {
    "duration": 17,
    "start_time": "2022-03-25T14:30:44.483Z"
   },
   {
    "duration": 18,
    "start_time": "2022-03-25T14:30:44.503Z"
   },
   {
    "duration": 5,
    "start_time": "2022-03-25T14:39:21.331Z"
   },
   {
    "duration": 9,
    "start_time": "2022-03-25T14:39:21.338Z"
   },
   {
    "duration": 6,
    "start_time": "2022-03-25T14:39:21.350Z"
   },
   {
    "duration": 8,
    "start_time": "2022-03-25T14:39:21.359Z"
   },
   {
    "duration": 6,
    "start_time": "2022-03-25T14:39:21.370Z"
   },
   {
    "duration": 8,
    "start_time": "2022-03-25T14:39:21.379Z"
   },
   {
    "duration": 8,
    "start_time": "2022-03-25T14:39:21.390Z"
   },
   {
    "duration": 10,
    "start_time": "2022-03-25T14:39:21.400Z"
   },
   {
    "duration": 7,
    "start_time": "2022-03-25T14:39:21.412Z"
   },
   {
    "duration": 57,
    "start_time": "2022-03-25T14:39:21.421Z"
   },
   {
    "duration": 7,
    "start_time": "2022-03-25T14:39:21.482Z"
   },
   {
    "duration": 10,
    "start_time": "2022-03-25T14:39:21.491Z"
   },
   {
    "duration": 9,
    "start_time": "2022-03-25T14:39:21.503Z"
   },
   {
    "duration": 931,
    "start_time": "2022-03-25T14:39:21.514Z"
   },
   {
    "duration": 31,
    "start_time": "2022-03-25T14:39:22.447Z"
   },
   {
    "duration": 31,
    "start_time": "2022-03-25T14:39:22.481Z"
   },
   {
    "duration": 9,
    "start_time": "2022-03-25T14:39:22.514Z"
   },
   {
    "duration": 15,
    "start_time": "2022-03-25T14:39:22.525Z"
   },
   {
    "duration": 48,
    "start_time": "2022-03-25T14:39:22.542Z"
   },
   {
    "duration": 44,
    "start_time": "2022-03-25T14:39:22.593Z"
   },
   {
    "duration": 34,
    "start_time": "2022-03-25T14:39:22.640Z"
   },
   {
    "duration": 28,
    "start_time": "2022-03-25T14:39:22.677Z"
   },
   {
    "duration": 7,
    "start_time": "2022-03-25T14:39:22.708Z"
   },
   {
    "duration": 9,
    "start_time": "2022-03-25T14:39:22.718Z"
   },
   {
    "duration": 47,
    "start_time": "2022-03-25T14:39:22.729Z"
   },
   {
    "duration": 6,
    "start_time": "2022-03-25T14:39:22.779Z"
   },
   {
    "duration": 16,
    "start_time": "2022-03-25T14:39:22.788Z"
   },
   {
    "duration": 67,
    "start_time": "2022-03-25T14:39:22.807Z"
   },
   {
    "duration": 22,
    "start_time": "2022-03-25T14:39:22.881Z"
   },
   {
    "duration": 15,
    "start_time": "2022-03-25T14:39:22.906Z"
   },
   {
    "duration": 65,
    "start_time": "2022-03-25T14:39:22.924Z"
   },
   {
    "duration": 4,
    "start_time": "2022-03-25T14:39:22.992Z"
   },
   {
    "duration": 17,
    "start_time": "2022-03-25T14:39:22.998Z"
   },
   {
    "duration": 10,
    "start_time": "2022-03-25T14:39:23.019Z"
   },
   {
    "duration": 44,
    "start_time": "2022-03-25T14:39:23.032Z"
   },
   {
    "duration": 13,
    "start_time": "2022-03-25T14:39:23.079Z"
   },
   {
    "duration": 1762,
    "start_time": "2022-03-25T14:39:23.095Z"
   },
   {
    "duration": 16,
    "start_time": "2022-03-25T14:39:24.859Z"
   },
   {
    "duration": 11,
    "start_time": "2022-03-25T14:39:24.878Z"
   },
   {
    "duration": 10,
    "start_time": "2022-03-25T14:39:24.893Z"
   },
   {
    "duration": 15,
    "start_time": "2022-03-25T14:39:24.906Z"
   },
   {
    "duration": 360,
    "start_time": "2022-03-25T14:39:24.924Z"
   },
   {
    "duration": 7,
    "start_time": "2022-03-25T14:39:25.287Z"
   },
   {
    "duration": 6,
    "start_time": "2022-03-25T14:39:25.297Z"
   },
   {
    "duration": 9,
    "start_time": "2022-03-25T14:39:25.305Z"
   },
   {
    "duration": 4,
    "start_time": "2022-03-25T14:39:25.317Z"
   },
   {
    "duration": 50,
    "start_time": "2022-03-25T14:39:25.324Z"
   },
   {
    "duration": 4,
    "start_time": "2022-03-25T14:39:25.377Z"
   },
   {
    "duration": 893,
    "start_time": "2022-03-25T14:39:25.383Z"
   },
   {
    "duration": 1171,
    "start_time": "2022-03-25T14:39:26.280Z"
   },
   {
    "duration": 7538,
    "start_time": "2022-03-25T14:39:27.454Z"
   },
   {
    "duration": 15,
    "start_time": "2022-03-25T14:39:34.995Z"
   },
   {
    "duration": 6,
    "start_time": "2022-03-25T14:39:35.013Z"
   },
   {
    "duration": 1361,
    "start_time": "2022-03-25T14:39:35.021Z"
   },
   {
    "duration": 2666,
    "start_time": "2022-03-25T14:39:36.386Z"
   },
   {
    "duration": 10052,
    "start_time": "2022-03-25T14:39:39.054Z"
   },
   {
    "duration": 7,
    "start_time": "2022-03-25T14:39:49.109Z"
   },
   {
    "duration": 11,
    "start_time": "2022-03-25T14:39:49.118Z"
   },
   {
    "duration": 10,
    "start_time": "2022-03-25T14:39:49.132Z"
   },
   {
    "duration": 10,
    "start_time": "2022-03-25T14:39:49.144Z"
   },
   {
    "duration": 205,
    "start_time": "2022-03-25T14:39:49.173Z"
   },
   {
    "duration": 6,
    "start_time": "2022-03-25T14:39:49.382Z"
   },
   {
    "duration": 9,
    "start_time": "2022-03-25T14:39:49.390Z"
   },
   {
    "duration": 185,
    "start_time": "2022-03-25T14:39:49.402Z"
   },
   {
    "duration": 88,
    "start_time": "2022-03-25T14:39:49.591Z"
   },
   {
    "duration": 10,
    "start_time": "2022-03-25T14:39:49.682Z"
   },
   {
    "duration": 8,
    "start_time": "2022-03-25T14:46:26.493Z"
   },
   {
    "duration": 16,
    "start_time": "2022-03-25T14:46:26.505Z"
   },
   {
    "duration": 8,
    "start_time": "2022-03-25T14:46:26.523Z"
   },
   {
    "duration": 8,
    "start_time": "2022-03-25T14:46:26.534Z"
   },
   {
    "duration": 30,
    "start_time": "2022-03-25T14:46:26.544Z"
   },
   {
    "duration": 6,
    "start_time": "2022-03-25T14:46:26.576Z"
   },
   {
    "duration": 9,
    "start_time": "2022-03-25T14:46:26.585Z"
   },
   {
    "duration": 9,
    "start_time": "2022-03-25T14:46:26.596Z"
   },
   {
    "duration": 9,
    "start_time": "2022-03-25T14:46:26.607Z"
   },
   {
    "duration": 56,
    "start_time": "2022-03-25T14:46:26.621Z"
   },
   {
    "duration": 11,
    "start_time": "2022-03-25T14:46:26.681Z"
   },
   {
    "duration": 15,
    "start_time": "2022-03-25T14:46:26.694Z"
   },
   {
    "duration": 13,
    "start_time": "2022-03-25T14:46:26.711Z"
   },
   {
    "duration": 1227,
    "start_time": "2022-03-25T14:46:26.727Z"
   },
   {
    "duration": 35,
    "start_time": "2022-03-25T14:46:27.957Z"
   },
   {
    "duration": 35,
    "start_time": "2022-03-25T14:46:27.995Z"
   },
   {
    "duration": 6,
    "start_time": "2022-03-25T14:46:28.033Z"
   },
   {
    "duration": 37,
    "start_time": "2022-03-25T14:46:28.042Z"
   },
   {
    "duration": 13,
    "start_time": "2022-03-25T14:46:28.081Z"
   },
   {
    "duration": 38,
    "start_time": "2022-03-25T14:46:28.097Z"
   },
   {
    "duration": 55,
    "start_time": "2022-03-25T14:46:28.138Z"
   },
   {
    "duration": 30,
    "start_time": "2022-03-25T14:46:28.196Z"
   },
   {
    "duration": 7,
    "start_time": "2022-03-25T14:46:28.229Z"
   },
   {
    "duration": 45,
    "start_time": "2022-03-25T14:46:28.239Z"
   },
   {
    "duration": 14,
    "start_time": "2022-03-25T14:46:28.287Z"
   },
   {
    "duration": 12,
    "start_time": "2022-03-25T14:46:28.304Z"
   },
   {
    "duration": 12,
    "start_time": "2022-03-25T14:46:28.318Z"
   },
   {
    "duration": 60,
    "start_time": "2022-03-25T14:46:28.338Z"
   },
   {
    "duration": 23,
    "start_time": "2022-03-25T14:46:28.401Z"
   },
   {
    "duration": 17,
    "start_time": "2022-03-25T14:46:28.427Z"
   },
   {
    "duration": 56,
    "start_time": "2022-03-25T14:46:28.447Z"
   },
   {
    "duration": 6,
    "start_time": "2022-03-25T14:46:28.507Z"
   },
   {
    "duration": 25,
    "start_time": "2022-03-25T14:46:28.515Z"
   },
   {
    "duration": 42,
    "start_time": "2022-03-25T14:46:28.542Z"
   },
   {
    "duration": 25,
    "start_time": "2022-03-25T14:46:28.589Z"
   },
   {
    "duration": 16,
    "start_time": "2022-03-25T14:46:28.618Z"
   },
   {
    "duration": 1889,
    "start_time": "2022-03-25T14:46:28.637Z"
   },
   {
    "duration": 10,
    "start_time": "2022-03-25T14:46:30.529Z"
   },
   {
    "duration": 33,
    "start_time": "2022-03-25T14:46:30.541Z"
   },
   {
    "duration": 18,
    "start_time": "2022-03-25T14:46:30.577Z"
   },
   {
    "duration": 11,
    "start_time": "2022-03-25T14:46:30.598Z"
   },
   {
    "duration": 351,
    "start_time": "2022-03-25T14:46:30.613Z"
   },
   {
    "duration": 14,
    "start_time": "2022-03-25T14:46:30.967Z"
   },
   {
    "duration": 36,
    "start_time": "2022-03-25T14:46:30.984Z"
   },
   {
    "duration": 32,
    "start_time": "2022-03-25T14:46:31.023Z"
   },
   {
    "duration": 14,
    "start_time": "2022-03-25T14:46:31.058Z"
   },
   {
    "duration": 25,
    "start_time": "2022-03-25T14:46:31.076Z"
   },
   {
    "duration": 32,
    "start_time": "2022-03-25T14:46:31.104Z"
   },
   {
    "duration": 1036,
    "start_time": "2022-03-25T14:46:31.140Z"
   },
   {
    "duration": 1206,
    "start_time": "2022-03-25T14:46:32.181Z"
   },
   {
    "duration": 7433,
    "start_time": "2022-03-25T14:46:33.390Z"
   },
   {
    "duration": 8,
    "start_time": "2022-03-25T14:46:40.826Z"
   },
   {
    "duration": 7,
    "start_time": "2022-03-25T14:46:40.836Z"
   },
   {
    "duration": 1132,
    "start_time": "2022-03-25T14:46:40.845Z"
   },
   {
    "duration": 1781,
    "start_time": "2022-03-25T14:46:41.980Z"
   },
   {
    "duration": 11120,
    "start_time": "2022-03-25T14:46:43.763Z"
   },
   {
    "duration": 8,
    "start_time": "2022-03-25T14:46:54.886Z"
   },
   {
    "duration": 14,
    "start_time": "2022-03-25T14:46:54.897Z"
   },
   {
    "duration": 16,
    "start_time": "2022-03-25T14:46:54.913Z"
   },
   {
    "duration": 9,
    "start_time": "2022-03-25T14:46:54.931Z"
   },
   {
    "duration": 146,
    "start_time": "2022-03-25T14:46:54.942Z"
   },
   {
    "duration": 8,
    "start_time": "2022-03-25T14:46:55.175Z"
   },
   {
    "duration": 15,
    "start_time": "2022-03-25T14:46:55.186Z"
   },
   {
    "duration": 199,
    "start_time": "2022-03-25T14:46:55.204Z"
   },
   {
    "duration": 7,
    "start_time": "2022-03-25T14:46:55.406Z"
   },
   {
    "duration": 12,
    "start_time": "2022-03-25T14:46:55.475Z"
   },
   {
    "duration": 5,
    "start_time": "2022-03-25T14:48:07.139Z"
   },
   {
    "duration": 11,
    "start_time": "2022-03-25T14:48:07.147Z"
   },
   {
    "duration": 14,
    "start_time": "2022-03-25T14:48:07.161Z"
   },
   {
    "duration": 9,
    "start_time": "2022-03-25T14:48:07.178Z"
   },
   {
    "duration": 12,
    "start_time": "2022-03-25T14:48:07.190Z"
   },
   {
    "duration": 9,
    "start_time": "2022-03-25T14:48:07.204Z"
   },
   {
    "duration": 12,
    "start_time": "2022-03-25T14:48:07.216Z"
   },
   {
    "duration": 45,
    "start_time": "2022-03-25T14:48:07.230Z"
   },
   {
    "duration": 7,
    "start_time": "2022-03-25T14:48:07.278Z"
   },
   {
    "duration": 7,
    "start_time": "2022-03-25T14:48:07.292Z"
   },
   {
    "duration": 8,
    "start_time": "2022-03-25T14:48:07.302Z"
   },
   {
    "duration": 66,
    "start_time": "2022-03-25T14:48:07.313Z"
   },
   {
    "duration": 22,
    "start_time": "2022-03-25T14:48:07.382Z"
   },
   {
    "duration": 991,
    "start_time": "2022-03-25T14:48:07.407Z"
   },
   {
    "duration": 32,
    "start_time": "2022-03-25T14:48:08.401Z"
   },
   {
    "duration": 66,
    "start_time": "2022-03-25T14:48:08.437Z"
   },
   {
    "duration": 11,
    "start_time": "2022-03-25T14:48:08.507Z"
   },
   {
    "duration": 18,
    "start_time": "2022-03-25T14:48:08.521Z"
   },
   {
    "duration": 28,
    "start_time": "2022-03-25T14:48:08.545Z"
   },
   {
    "duration": 46,
    "start_time": "2022-03-25T14:48:08.577Z"
   },
   {
    "duration": 31,
    "start_time": "2022-03-25T14:48:08.626Z"
   },
   {
    "duration": 35,
    "start_time": "2022-03-25T14:48:08.675Z"
   },
   {
    "duration": 10,
    "start_time": "2022-03-25T14:48:08.712Z"
   },
   {
    "duration": 7,
    "start_time": "2022-03-25T14:48:08.725Z"
   },
   {
    "duration": 44,
    "start_time": "2022-03-25T14:48:08.735Z"
   },
   {
    "duration": 10,
    "start_time": "2022-03-25T14:48:08.782Z"
   },
   {
    "duration": 33,
    "start_time": "2022-03-25T14:48:08.795Z"
   },
   {
    "duration": 58,
    "start_time": "2022-03-25T14:48:08.835Z"
   },
   {
    "duration": 24,
    "start_time": "2022-03-25T14:48:08.898Z"
   },
   {
    "duration": 14,
    "start_time": "2022-03-25T14:48:08.925Z"
   },
   {
    "duration": 67,
    "start_time": "2022-03-25T14:48:08.942Z"
   },
   {
    "duration": 4,
    "start_time": "2022-03-25T14:48:09.011Z"
   },
   {
    "duration": 24,
    "start_time": "2022-03-25T14:48:09.017Z"
   },
   {
    "duration": 30,
    "start_time": "2022-03-25T14:48:09.043Z"
   },
   {
    "duration": 16,
    "start_time": "2022-03-25T14:48:09.076Z"
   },
   {
    "duration": 23,
    "start_time": "2022-03-25T14:48:09.095Z"
   },
   {
    "duration": 1933,
    "start_time": "2022-03-25T14:48:09.121Z"
   },
   {
    "duration": 22,
    "start_time": "2022-03-25T14:48:11.056Z"
   },
   {
    "duration": 23,
    "start_time": "2022-03-25T14:48:11.081Z"
   },
   {
    "duration": 30,
    "start_time": "2022-03-25T14:48:11.108Z"
   },
   {
    "duration": 19,
    "start_time": "2022-03-25T14:48:11.140Z"
   },
   {
    "duration": 364,
    "start_time": "2022-03-25T14:48:11.165Z"
   },
   {
    "duration": 7,
    "start_time": "2022-03-25T14:48:11.532Z"
   },
   {
    "duration": 26,
    "start_time": "2022-03-25T14:48:11.542Z"
   },
   {
    "duration": 29,
    "start_time": "2022-03-25T14:48:11.574Z"
   },
   {
    "duration": 19,
    "start_time": "2022-03-25T14:48:11.606Z"
   },
   {
    "duration": 33,
    "start_time": "2022-03-25T14:48:11.628Z"
   },
   {
    "duration": 18,
    "start_time": "2022-03-25T14:48:11.664Z"
   },
   {
    "duration": 890,
    "start_time": "2022-03-25T14:48:11.685Z"
   },
   {
    "duration": 15829,
    "start_time": "2022-03-25T14:48:12.580Z"
   },
   {
    "duration": 6,
    "start_time": "2022-03-26T10:11:40.933Z"
   },
   {
    "duration": 9,
    "start_time": "2022-03-26T10:11:40.941Z"
   },
   {
    "duration": 7,
    "start_time": "2022-03-26T10:11:40.952Z"
   },
   {
    "duration": 5,
    "start_time": "2022-03-26T10:11:40.961Z"
   },
   {
    "duration": 5,
    "start_time": "2022-03-26T10:11:40.967Z"
   },
   {
    "duration": 8,
    "start_time": "2022-03-26T10:11:40.973Z"
   },
   {
    "duration": 6,
    "start_time": "2022-03-26T10:11:40.982Z"
   },
   {
    "duration": 12,
    "start_time": "2022-03-26T10:11:40.990Z"
   },
   {
    "duration": 9,
    "start_time": "2022-03-26T10:11:41.003Z"
   },
   {
    "duration": 7,
    "start_time": "2022-03-26T10:11:41.015Z"
   },
   {
    "duration": 7,
    "start_time": "2022-03-26T10:11:41.024Z"
   },
   {
    "duration": 1657,
    "start_time": "2022-03-26T10:11:41.033Z"
   },
   {
    "duration": 3,
    "start_time": "2022-03-26T10:11:42.692Z"
   },
   {
    "duration": 612,
    "start_time": "2022-03-26T10:11:42.697Z"
   },
   {
    "duration": 16,
    "start_time": "2022-03-26T10:11:43.311Z"
   },
   {
    "duration": 19,
    "start_time": "2022-03-26T10:11:43.328Z"
   },
   {
    "duration": 8,
    "start_time": "2022-03-26T10:11:43.349Z"
   },
   {
    "duration": 7,
    "start_time": "2022-03-26T10:11:43.359Z"
   },
   {
    "duration": 25,
    "start_time": "2022-03-26T10:11:43.367Z"
   },
   {
    "duration": 26,
    "start_time": "2022-03-26T10:11:43.394Z"
   },
   {
    "duration": 21,
    "start_time": "2022-03-26T10:11:43.421Z"
   },
   {
    "duration": 28,
    "start_time": "2022-03-26T10:11:43.443Z"
   },
   {
    "duration": 13,
    "start_time": "2022-03-26T10:11:43.473Z"
   },
   {
    "duration": 18,
    "start_time": "2022-03-26T10:11:43.488Z"
   },
   {
    "duration": 15,
    "start_time": "2022-03-26T10:11:43.507Z"
   },
   {
    "duration": 5,
    "start_time": "2022-03-26T10:11:43.523Z"
   },
   {
    "duration": 18,
    "start_time": "2022-03-26T10:11:43.529Z"
   },
   {
    "duration": 24,
    "start_time": "2022-03-26T10:11:43.549Z"
   },
   {
    "duration": 11,
    "start_time": "2022-03-26T10:11:43.574Z"
   },
   {
    "duration": 2,
    "start_time": "2022-03-26T10:11:43.586Z"
   },
   {
    "duration": 2,
    "start_time": "2022-03-26T10:11:46.025Z"
   },
   {
    "duration": 106,
    "start_time": "2022-03-26T10:11:47.301Z"
   },
   {
    "duration": 5,
    "start_time": "2022-03-26T10:13:21.823Z"
   },
   {
    "duration": 2,
    "start_time": "2022-03-26T10:13:36.245Z"
   },
   {
    "duration": 175,
    "start_time": "2022-03-26T10:13:43.624Z"
   },
   {
    "duration": 197,
    "start_time": "2022-03-26T10:13:51.757Z"
   },
   {
    "duration": 227,
    "start_time": "2022-03-26T10:15:21.894Z"
   },
   {
    "duration": 183,
    "start_time": "2022-03-26T10:15:27.094Z"
   },
   {
    "duration": 195,
    "start_time": "2022-03-26T10:15:43.412Z"
   },
   {
    "duration": 10160,
    "start_time": "2022-03-26T10:15:48.790Z"
   },
   {
    "duration": 4,
    "start_time": "2022-03-26T10:16:38.354Z"
   },
   {
    "duration": 4,
    "start_time": "2022-03-26T10:16:46.138Z"
   },
   {
    "duration": 4,
    "start_time": "2022-03-26T10:16:49.779Z"
   },
   {
    "duration": 4,
    "start_time": "2022-03-26T10:16:53.558Z"
   },
   {
    "duration": 4,
    "start_time": "2022-03-26T10:17:02.271Z"
   },
   {
    "duration": 9411,
    "start_time": "2022-03-26T10:17:32.078Z"
   },
   {
    "duration": 13,
    "start_time": "2022-03-26T10:17:47.830Z"
   },
   {
    "duration": 3,
    "start_time": "2022-03-26T10:18:08.129Z"
   },
   {
    "duration": 5,
    "start_time": "2022-03-26T10:18:08.134Z"
   },
   {
    "duration": 4,
    "start_time": "2022-03-26T10:18:08.141Z"
   },
   {
    "duration": 7,
    "start_time": "2022-03-26T10:18:08.146Z"
   },
   {
    "duration": 4,
    "start_time": "2022-03-26T10:18:08.155Z"
   },
   {
    "duration": 4,
    "start_time": "2022-03-26T10:18:08.161Z"
   },
   {
    "duration": 9,
    "start_time": "2022-03-26T10:18:08.167Z"
   },
   {
    "duration": 23,
    "start_time": "2022-03-26T10:18:08.178Z"
   },
   {
    "duration": 5,
    "start_time": "2022-03-26T10:18:08.203Z"
   },
   {
    "duration": 7,
    "start_time": "2022-03-26T10:18:08.209Z"
   },
   {
    "duration": 8,
    "start_time": "2022-03-26T10:18:08.218Z"
   },
   {
    "duration": 9,
    "start_time": "2022-03-26T10:18:08.227Z"
   },
   {
    "duration": 12,
    "start_time": "2022-03-26T10:18:08.238Z"
   },
   {
    "duration": 672,
    "start_time": "2022-03-26T10:18:08.251Z"
   },
   {
    "duration": 15,
    "start_time": "2022-03-26T10:18:08.925Z"
   },
   {
    "duration": 24,
    "start_time": "2022-03-26T10:18:08.941Z"
   },
   {
    "duration": 4,
    "start_time": "2022-03-26T10:18:08.966Z"
   },
   {
    "duration": 8,
    "start_time": "2022-03-26T10:18:08.972Z"
   },
   {
    "duration": 21,
    "start_time": "2022-03-26T10:18:08.981Z"
   },
   {
    "duration": 25,
    "start_time": "2022-03-26T10:18:09.004Z"
   },
   {
    "duration": 18,
    "start_time": "2022-03-26T10:18:09.031Z"
   },
   {
    "duration": 16,
    "start_time": "2022-03-26T10:18:09.050Z"
   },
   {
    "duration": 5,
    "start_time": "2022-03-26T10:18:09.067Z"
   },
   {
    "duration": 6,
    "start_time": "2022-03-26T10:18:09.073Z"
   },
   {
    "duration": 23,
    "start_time": "2022-03-26T10:18:09.080Z"
   },
   {
    "duration": 10,
    "start_time": "2022-03-26T10:18:09.105Z"
   },
   {
    "duration": 12,
    "start_time": "2022-03-26T10:18:09.117Z"
   },
   {
    "duration": 31,
    "start_time": "2022-03-26T10:18:09.131Z"
   },
   {
    "duration": 12,
    "start_time": "2022-03-26T10:18:09.166Z"
   },
   {
    "duration": 2,
    "start_time": "2022-03-26T10:18:09.180Z"
   },
   {
    "duration": 10508,
    "start_time": "2022-03-26T10:18:09.201Z"
   },
   {
    "duration": 16,
    "start_time": "2022-03-26T10:18:21.979Z"
   },
   {
    "duration": 2139,
    "start_time": "2022-03-26T10:19:18.686Z"
   },
   {
    "duration": 18,
    "start_time": "2022-03-26T10:19:31.692Z"
   },
   {
    "duration": 19,
    "start_time": "2022-03-26T10:19:47.113Z"
   },
   {
    "duration": 13,
    "start_time": "2022-03-26T10:20:02.854Z"
   },
   {
    "duration": 9168,
    "start_time": "2022-03-26T10:23:10.610Z"
   },
   {
    "duration": 8760,
    "start_time": "2022-03-26T10:23:31.961Z"
   },
   {
    "duration": 3,
    "start_time": "2022-03-26T10:23:54.016Z"
   },
   {
    "duration": 6,
    "start_time": "2022-03-26T10:23:54.020Z"
   },
   {
    "duration": 5,
    "start_time": "2022-03-26T10:23:54.028Z"
   },
   {
    "duration": 5,
    "start_time": "2022-03-26T10:23:54.034Z"
   },
   {
    "duration": 4,
    "start_time": "2022-03-26T10:23:54.041Z"
   },
   {
    "duration": 6,
    "start_time": "2022-03-26T10:23:54.046Z"
   },
   {
    "duration": 13,
    "start_time": "2022-03-26T10:23:54.053Z"
   },
   {
    "duration": 9,
    "start_time": "2022-03-26T10:23:54.068Z"
   },
   {
    "duration": 23,
    "start_time": "2022-03-26T10:23:54.079Z"
   },
   {
    "duration": 7,
    "start_time": "2022-03-26T10:23:54.104Z"
   },
   {
    "duration": 9,
    "start_time": "2022-03-26T10:23:54.114Z"
   },
   {
    "duration": 8,
    "start_time": "2022-03-26T10:23:54.124Z"
   },
   {
    "duration": 7,
    "start_time": "2022-03-26T10:23:54.134Z"
   },
   {
    "duration": 632,
    "start_time": "2022-03-26T10:23:54.143Z"
   },
   {
    "duration": 14,
    "start_time": "2022-03-26T10:23:54.776Z"
   },
   {
    "duration": 15,
    "start_time": "2022-03-26T10:23:54.802Z"
   },
   {
    "duration": 4,
    "start_time": "2022-03-26T10:23:54.818Z"
   },
   {
    "duration": 7,
    "start_time": "2022-03-26T10:23:54.823Z"
   },
   {
    "duration": 9,
    "start_time": "2022-03-26T10:23:54.832Z"
   },
   {
    "duration": 14,
    "start_time": "2022-03-26T10:23:54.842Z"
   },
   {
    "duration": 16,
    "start_time": "2022-03-26T10:23:54.857Z"
   },
   {
    "duration": 39,
    "start_time": "2022-03-26T10:23:54.875Z"
   },
   {
    "duration": 9,
    "start_time": "2022-03-26T10:23:54.916Z"
   },
   {
    "duration": 3,
    "start_time": "2022-03-26T10:23:54.926Z"
   },
   {
    "duration": 9,
    "start_time": "2022-03-26T10:23:54.931Z"
   },
   {
    "duration": 10,
    "start_time": "2022-03-26T10:23:54.941Z"
   },
   {
    "duration": 10,
    "start_time": "2022-03-26T10:23:54.953Z"
   },
   {
    "duration": 38,
    "start_time": "2022-03-26T10:23:54.965Z"
   },
   {
    "duration": 11,
    "start_time": "2022-03-26T10:23:55.007Z"
   },
   {
    "duration": 10121,
    "start_time": "2022-03-26T10:23:55.019Z"
   },
   {
    "duration": 2169,
    "start_time": "2022-03-26T10:24:05.142Z"
   },
   {
    "duration": 3,
    "start_time": "2022-03-26T10:24:07.312Z"
   },
   {
    "duration": 10,
    "start_time": "2022-03-26T10:24:07.316Z"
   },
   {
    "duration": 8,
    "start_time": "2022-03-26T10:24:07.327Z"
   },
   {
    "duration": 7,
    "start_time": "2022-03-26T10:24:07.336Z"
   },
   {
    "duration": 6,
    "start_time": "2022-03-26T10:24:07.345Z"
   },
   {
    "duration": 804,
    "start_time": "2022-03-26T10:24:07.353Z"
   },
   {
    "duration": 6,
    "start_time": "2022-03-26T10:24:08.159Z"
   },
   {
    "duration": 6,
    "start_time": "2022-03-26T10:24:08.166Z"
   },
   {
    "duration": 6,
    "start_time": "2022-03-26T10:24:08.173Z"
   },
   {
    "duration": 24,
    "start_time": "2022-03-26T10:24:08.180Z"
   },
   {
    "duration": 171,
    "start_time": "2022-03-26T10:24:08.206Z"
   },
   {
    "duration": 4,
    "start_time": "2022-03-26T10:24:08.378Z"
   },
   {
    "duration": 4,
    "start_time": "2022-03-26T10:24:08.384Z"
   },
   {
    "duration": 2,
    "start_time": "2022-03-26T10:24:08.401Z"
   },
   {
    "duration": 4,
    "start_time": "2022-03-26T10:24:08.405Z"
   },
   {
    "duration": 5,
    "start_time": "2022-03-26T10:24:08.411Z"
   },
   {
    "duration": 7,
    "start_time": "2022-03-26T10:24:08.418Z"
   },
   {
    "duration": 676,
    "start_time": "2022-03-26T10:24:08.426Z"
   },
   {
    "duration": 591,
    "start_time": "2022-03-26T10:24:09.104Z"
   },
   {
    "duration": 1784,
    "start_time": "2022-03-26T10:24:09.697Z"
   },
   {
    "duration": 4,
    "start_time": "2022-03-26T10:24:11.483Z"
   },
   {
    "duration": 29,
    "start_time": "2022-03-26T10:24:11.501Z"
   },
   {
    "duration": 971,
    "start_time": "2022-03-26T10:24:11.532Z"
   },
   {
    "duration": 740,
    "start_time": "2022-03-26T10:24:12.504Z"
   },
   {
    "duration": 2737,
    "start_time": "2022-03-26T10:24:13.246Z"
   },
   {
    "duration": 4,
    "start_time": "2022-03-26T10:24:15.985Z"
   },
   {
    "duration": 3,
    "start_time": "2022-03-26T10:24:16.001Z"
   },
   {
    "duration": 8,
    "start_time": "2022-03-26T10:24:16.006Z"
   },
   {
    "duration": 3,
    "start_time": "2022-03-26T10:24:16.016Z"
   },
   {
    "duration": 184,
    "start_time": "2022-03-26T10:24:16.021Z"
   },
   {
    "duration": 5,
    "start_time": "2022-03-26T10:24:16.207Z"
   },
   {
    "duration": 7,
    "start_time": "2022-03-26T10:24:16.214Z"
   },
   {
    "duration": 188,
    "start_time": "2022-03-26T10:24:16.222Z"
   },
   {
    "duration": 89,
    "start_time": "2022-03-26T10:24:16.412Z"
   },
   {
    "duration": 7,
    "start_time": "2022-03-26T10:24:16.503Z"
   },
   {
    "duration": 11,
    "start_time": "2022-03-26T10:42:36.140Z"
   },
   {
    "duration": 8,
    "start_time": "2022-03-26T10:42:41.825Z"
   },
   {
    "duration": 9,
    "start_time": "2022-03-26T10:42:42.721Z"
   },
   {
    "duration": 7,
    "start_time": "2022-03-26T10:42:48.855Z"
   },
   {
    "duration": 7,
    "start_time": "2022-03-26T10:42:54.136Z"
   },
   {
    "duration": 3,
    "start_time": "2022-03-26T10:43:01.842Z"
   },
   {
    "duration": 12,
    "start_time": "2022-03-26T10:43:01.850Z"
   },
   {
    "duration": 23,
    "start_time": "2022-03-26T10:43:01.864Z"
   },
   {
    "duration": 20,
    "start_time": "2022-03-26T10:43:01.888Z"
   },
   {
    "duration": 10,
    "start_time": "2022-03-26T10:43:01.910Z"
   },
   {
    "duration": 19,
    "start_time": "2022-03-26T10:43:01.922Z"
   },
   {
    "duration": 14,
    "start_time": "2022-03-26T10:43:01.943Z"
   },
   {
    "duration": 19,
    "start_time": "2022-03-26T10:43:01.958Z"
   },
   {
    "duration": 8,
    "start_time": "2022-03-26T10:43:01.978Z"
   },
   {
    "duration": 15,
    "start_time": "2022-03-26T10:43:01.988Z"
   },
   {
    "duration": 20,
    "start_time": "2022-03-26T10:43:02.004Z"
   },
   {
    "duration": 8,
    "start_time": "2022-03-26T10:43:02.025Z"
   },
   {
    "duration": 26,
    "start_time": "2022-03-26T10:43:02.034Z"
   },
   {
    "duration": 662,
    "start_time": "2022-03-26T10:43:02.062Z"
   },
   {
    "duration": 16,
    "start_time": "2022-03-26T10:43:02.727Z"
   },
   {
    "duration": 37,
    "start_time": "2022-03-26T10:43:02.745Z"
   },
   {
    "duration": 13,
    "start_time": "2022-03-26T10:43:02.784Z"
   },
   {
    "duration": 19,
    "start_time": "2022-03-26T10:43:02.798Z"
   },
   {
    "duration": 5,
    "start_time": "2022-03-26T10:43:02.818Z"
   },
   {
    "duration": 23,
    "start_time": "2022-03-26T10:43:02.824Z"
   },
   {
    "duration": 31,
    "start_time": "2022-03-26T10:43:02.848Z"
   },
   {
    "duration": 20,
    "start_time": "2022-03-26T10:43:02.880Z"
   },
   {
    "duration": 20,
    "start_time": "2022-03-26T10:43:02.901Z"
   },
   {
    "duration": 16,
    "start_time": "2022-03-26T10:43:02.923Z"
   },
   {
    "duration": 6,
    "start_time": "2022-03-26T10:43:11.536Z"
   },
   {
    "duration": 5,
    "start_time": "2022-03-26T10:44:41.893Z"
   },
   {
    "duration": 122,
    "start_time": "2022-03-26T10:55:24.775Z"
   },
   {
    "duration": 129,
    "start_time": "2022-03-26T10:55:39.350Z"
   },
   {
    "duration": 204,
    "start_time": "2022-03-26T10:55:42.094Z"
   },
   {
    "duration": 70,
    "start_time": "2022-03-26T17:32:49.943Z"
   },
   {
    "duration": 3,
    "start_time": "2022-03-26T17:32:59.385Z"
   },
   {
    "duration": 13,
    "start_time": "2022-03-26T17:32:59.391Z"
   },
   {
    "duration": 6,
    "start_time": "2022-03-26T17:32:59.406Z"
   },
   {
    "duration": 6,
    "start_time": "2022-03-26T17:32:59.414Z"
   },
   {
    "duration": 8,
    "start_time": "2022-03-26T17:32:59.423Z"
   },
   {
    "duration": 42,
    "start_time": "2022-03-26T17:32:59.433Z"
   },
   {
    "duration": 7,
    "start_time": "2022-03-26T17:32:59.477Z"
   },
   {
    "duration": 8,
    "start_time": "2022-03-26T17:32:59.486Z"
   },
   {
    "duration": 6,
    "start_time": "2022-03-26T17:32:59.496Z"
   },
   {
    "duration": 6,
    "start_time": "2022-03-26T17:32:59.503Z"
   },
   {
    "duration": 5,
    "start_time": "2022-03-26T17:32:59.513Z"
   },
   {
    "duration": 2079,
    "start_time": "2022-03-26T17:32:59.575Z"
   },
   {
    "duration": 4,
    "start_time": "2022-03-26T17:33:01.657Z"
   },
   {
    "duration": 781,
    "start_time": "2022-03-26T17:33:01.663Z"
   },
   {
    "duration": 36,
    "start_time": "2022-03-26T17:33:02.446Z"
   },
   {
    "duration": 119,
    "start_time": "2022-03-26T17:33:02.485Z"
   },
   {
    "duration": 0,
    "start_time": "2022-03-26T17:33:02.608Z"
   },
   {
    "duration": 0,
    "start_time": "2022-03-26T17:33:02.610Z"
   },
   {
    "duration": 0,
    "start_time": "2022-03-26T17:33:02.611Z"
   },
   {
    "duration": 1,
    "start_time": "2022-03-26T17:33:02.612Z"
   },
   {
    "duration": 0,
    "start_time": "2022-03-26T17:33:02.614Z"
   },
   {
    "duration": 0,
    "start_time": "2022-03-26T17:33:02.616Z"
   },
   {
    "duration": 0,
    "start_time": "2022-03-26T17:33:02.619Z"
   },
   {
    "duration": 0,
    "start_time": "2022-03-26T17:33:02.621Z"
   },
   {
    "duration": 0,
    "start_time": "2022-03-26T17:33:02.622Z"
   },
   {
    "duration": 0,
    "start_time": "2022-03-26T17:33:02.624Z"
   },
   {
    "duration": 0,
    "start_time": "2022-03-26T17:33:02.625Z"
   },
   {
    "duration": 0,
    "start_time": "2022-03-26T17:33:02.627Z"
   },
   {
    "duration": 0,
    "start_time": "2022-03-26T17:33:02.629Z"
   },
   {
    "duration": 0,
    "start_time": "2022-03-26T17:33:02.630Z"
   },
   {
    "duration": 0,
    "start_time": "2022-03-26T17:33:02.674Z"
   },
   {
    "duration": 0,
    "start_time": "2022-03-26T17:33:02.676Z"
   },
   {
    "duration": 0,
    "start_time": "2022-03-26T17:33:02.678Z"
   },
   {
    "duration": 0,
    "start_time": "2022-03-26T17:33:02.680Z"
   },
   {
    "duration": 0,
    "start_time": "2022-03-26T17:33:02.681Z"
   },
   {
    "duration": 0,
    "start_time": "2022-03-26T17:33:02.683Z"
   },
   {
    "duration": 0,
    "start_time": "2022-03-26T17:33:02.684Z"
   },
   {
    "duration": 0,
    "start_time": "2022-03-26T17:33:02.686Z"
   },
   {
    "duration": 0,
    "start_time": "2022-03-26T17:33:02.687Z"
   },
   {
    "duration": 0,
    "start_time": "2022-03-26T17:33:02.689Z"
   },
   {
    "duration": 0,
    "start_time": "2022-03-26T17:33:02.690Z"
   },
   {
    "duration": 1,
    "start_time": "2022-03-26T17:33:02.691Z"
   },
   {
    "duration": 0,
    "start_time": "2022-03-26T17:33:02.693Z"
   },
   {
    "duration": 0,
    "start_time": "2022-03-26T17:33:02.695Z"
   },
   {
    "duration": 0,
    "start_time": "2022-03-26T17:33:02.696Z"
   },
   {
    "duration": 0,
    "start_time": "2022-03-26T17:33:02.697Z"
   },
   {
    "duration": 0,
    "start_time": "2022-03-26T17:33:02.699Z"
   },
   {
    "duration": 0,
    "start_time": "2022-03-26T17:33:02.700Z"
   },
   {
    "duration": 0,
    "start_time": "2022-03-26T17:33:02.702Z"
   },
   {
    "duration": 0,
    "start_time": "2022-03-26T17:33:02.703Z"
   },
   {
    "duration": 0,
    "start_time": "2022-03-26T17:33:02.704Z"
   },
   {
    "duration": 0,
    "start_time": "2022-03-26T17:33:02.706Z"
   },
   {
    "duration": 0,
    "start_time": "2022-03-26T17:33:02.707Z"
   },
   {
    "duration": 0,
    "start_time": "2022-03-26T17:33:02.708Z"
   },
   {
    "duration": 0,
    "start_time": "2022-03-26T17:33:02.774Z"
   },
   {
    "duration": 0,
    "start_time": "2022-03-26T17:33:02.776Z"
   },
   {
    "duration": 0,
    "start_time": "2022-03-26T17:33:02.777Z"
   },
   {
    "duration": 0,
    "start_time": "2022-03-26T17:33:02.779Z"
   },
   {
    "duration": 0,
    "start_time": "2022-03-26T17:33:02.780Z"
   },
   {
    "duration": 0,
    "start_time": "2022-03-26T17:33:02.781Z"
   },
   {
    "duration": 0,
    "start_time": "2022-03-26T17:33:02.783Z"
   },
   {
    "duration": 0,
    "start_time": "2022-03-26T17:33:02.785Z"
   },
   {
    "duration": 0,
    "start_time": "2022-03-26T17:33:02.786Z"
   },
   {
    "duration": 0,
    "start_time": "2022-03-26T17:33:02.787Z"
   },
   {
    "duration": 0,
    "start_time": "2022-03-26T17:33:02.789Z"
   },
   {
    "duration": 0,
    "start_time": "2022-03-26T17:33:02.790Z"
   },
   {
    "duration": 0,
    "start_time": "2022-03-26T17:33:02.792Z"
   },
   {
    "duration": 0,
    "start_time": "2022-03-26T17:33:02.794Z"
   },
   {
    "duration": 3,
    "start_time": "2022-03-26T17:33:27.175Z"
   },
   {
    "duration": 9,
    "start_time": "2022-03-26T17:33:27.181Z"
   },
   {
    "duration": 12,
    "start_time": "2022-03-26T17:33:27.193Z"
   },
   {
    "duration": 9,
    "start_time": "2022-03-26T17:33:27.207Z"
   },
   {
    "duration": 8,
    "start_time": "2022-03-26T17:33:27.219Z"
   },
   {
    "duration": 9,
    "start_time": "2022-03-26T17:33:27.273Z"
   },
   {
    "duration": 12,
    "start_time": "2022-03-26T17:33:27.284Z"
   },
   {
    "duration": 7,
    "start_time": "2022-03-26T17:33:27.298Z"
   },
   {
    "duration": 8,
    "start_time": "2022-03-26T17:33:27.307Z"
   },
   {
    "duration": 59,
    "start_time": "2022-03-26T17:33:27.317Z"
   },
   {
    "duration": 7,
    "start_time": "2022-03-26T17:33:27.381Z"
   },
   {
    "duration": 15,
    "start_time": "2022-03-26T17:33:27.390Z"
   },
   {
    "duration": 13,
    "start_time": "2022-03-26T17:33:27.407Z"
   },
   {
    "duration": 808,
    "start_time": "2022-03-26T17:33:27.422Z"
   },
   {
    "duration": 23,
    "start_time": "2022-03-26T17:33:28.232Z"
   },
   {
    "duration": 25,
    "start_time": "2022-03-26T17:33:28.257Z"
   },
   {
    "duration": 0,
    "start_time": "2022-03-26T17:33:28.287Z"
   },
   {
    "duration": 0,
    "start_time": "2022-03-26T17:33:28.288Z"
   },
   {
    "duration": 0,
    "start_time": "2022-03-26T17:33:28.289Z"
   },
   {
    "duration": 0,
    "start_time": "2022-03-26T17:33:28.291Z"
   },
   {
    "duration": 0,
    "start_time": "2022-03-26T17:33:28.292Z"
   },
   {
    "duration": 0,
    "start_time": "2022-03-26T17:33:28.294Z"
   },
   {
    "duration": 0,
    "start_time": "2022-03-26T17:33:28.295Z"
   },
   {
    "duration": 0,
    "start_time": "2022-03-26T17:33:28.297Z"
   },
   {
    "duration": 0,
    "start_time": "2022-03-26T17:33:28.299Z"
   },
   {
    "duration": 0,
    "start_time": "2022-03-26T17:33:28.300Z"
   },
   {
    "duration": 0,
    "start_time": "2022-03-26T17:33:28.302Z"
   },
   {
    "duration": 0,
    "start_time": "2022-03-26T17:33:28.304Z"
   },
   {
    "duration": 0,
    "start_time": "2022-03-26T17:33:28.305Z"
   },
   {
    "duration": 0,
    "start_time": "2022-03-26T17:33:28.307Z"
   },
   {
    "duration": 0,
    "start_time": "2022-03-26T17:33:28.309Z"
   },
   {
    "duration": 0,
    "start_time": "2022-03-26T17:33:28.310Z"
   },
   {
    "duration": 0,
    "start_time": "2022-03-26T17:33:28.311Z"
   },
   {
    "duration": 0,
    "start_time": "2022-03-26T17:33:28.313Z"
   },
   {
    "duration": 0,
    "start_time": "2022-03-26T17:33:28.315Z"
   },
   {
    "duration": 0,
    "start_time": "2022-03-26T17:33:28.316Z"
   },
   {
    "duration": 0,
    "start_time": "2022-03-26T17:33:28.374Z"
   },
   {
    "duration": 0,
    "start_time": "2022-03-26T17:33:28.376Z"
   },
   {
    "duration": 0,
    "start_time": "2022-03-26T17:33:28.378Z"
   },
   {
    "duration": 0,
    "start_time": "2022-03-26T17:33:28.379Z"
   },
   {
    "duration": 0,
    "start_time": "2022-03-26T17:33:28.381Z"
   },
   {
    "duration": 1,
    "start_time": "2022-03-26T17:33:28.382Z"
   },
   {
    "duration": 0,
    "start_time": "2022-03-26T17:33:28.385Z"
   },
   {
    "duration": 0,
    "start_time": "2022-03-26T17:33:28.386Z"
   },
   {
    "duration": 0,
    "start_time": "2022-03-26T17:33:28.388Z"
   },
   {
    "duration": 0,
    "start_time": "2022-03-26T17:33:28.389Z"
   },
   {
    "duration": 0,
    "start_time": "2022-03-26T17:33:28.391Z"
   },
   {
    "duration": 0,
    "start_time": "2022-03-26T17:33:28.393Z"
   },
   {
    "duration": 0,
    "start_time": "2022-03-26T17:33:28.395Z"
   },
   {
    "duration": 0,
    "start_time": "2022-03-26T17:33:28.397Z"
   },
   {
    "duration": 0,
    "start_time": "2022-03-26T17:33:28.398Z"
   },
   {
    "duration": 0,
    "start_time": "2022-03-26T17:33:28.401Z"
   },
   {
    "duration": 0,
    "start_time": "2022-03-26T17:33:28.402Z"
   },
   {
    "duration": 0,
    "start_time": "2022-03-26T17:33:28.404Z"
   },
   {
    "duration": 0,
    "start_time": "2022-03-26T17:33:28.406Z"
   },
   {
    "duration": 0,
    "start_time": "2022-03-26T17:33:28.408Z"
   },
   {
    "duration": 0,
    "start_time": "2022-03-26T17:33:28.410Z"
   },
   {
    "duration": 0,
    "start_time": "2022-03-26T17:33:28.474Z"
   },
   {
    "duration": 0,
    "start_time": "2022-03-26T17:33:28.476Z"
   },
   {
    "duration": 0,
    "start_time": "2022-03-26T17:33:28.477Z"
   },
   {
    "duration": 0,
    "start_time": "2022-03-26T17:33:28.479Z"
   },
   {
    "duration": 0,
    "start_time": "2022-03-26T17:33:28.481Z"
   },
   {
    "duration": 0,
    "start_time": "2022-03-26T17:33:28.482Z"
   },
   {
    "duration": 0,
    "start_time": "2022-03-26T17:33:28.485Z"
   },
   {
    "duration": 0,
    "start_time": "2022-03-26T17:33:28.486Z"
   },
   {
    "duration": 0,
    "start_time": "2022-03-26T17:33:28.488Z"
   },
   {
    "duration": 0,
    "start_time": "2022-03-26T17:33:28.490Z"
   },
   {
    "duration": 0,
    "start_time": "2022-03-26T17:33:28.491Z"
   },
   {
    "duration": 23,
    "start_time": "2022-03-26T17:33:47.072Z"
   },
   {
    "duration": 24,
    "start_time": "2022-03-26T17:34:46.177Z"
   },
   {
    "duration": 4,
    "start_time": "2022-03-26T17:37:32.615Z"
   },
   {
    "duration": 8,
    "start_time": "2022-03-26T17:37:32.621Z"
   },
   {
    "duration": 6,
    "start_time": "2022-03-26T17:37:32.631Z"
   },
   {
    "duration": 8,
    "start_time": "2022-03-26T17:37:32.640Z"
   },
   {
    "duration": 7,
    "start_time": "2022-03-26T17:37:32.650Z"
   },
   {
    "duration": 16,
    "start_time": "2022-03-26T17:37:32.659Z"
   },
   {
    "duration": 8,
    "start_time": "2022-03-26T17:37:32.676Z"
   },
   {
    "duration": 9,
    "start_time": "2022-03-26T17:37:32.686Z"
   },
   {
    "duration": 8,
    "start_time": "2022-03-26T17:37:32.698Z"
   },
   {
    "duration": 10,
    "start_time": "2022-03-26T17:37:32.708Z"
   },
   {
    "duration": 55,
    "start_time": "2022-03-26T17:37:32.720Z"
   },
   {
    "duration": 9,
    "start_time": "2022-03-26T17:37:32.778Z"
   },
   {
    "duration": 11,
    "start_time": "2022-03-26T17:37:32.789Z"
   },
   {
    "duration": 812,
    "start_time": "2022-03-26T17:37:32.802Z"
   },
   {
    "duration": 24,
    "start_time": "2022-03-26T17:37:33.616Z"
   },
   {
    "duration": 45,
    "start_time": "2022-03-26T17:37:33.642Z"
   },
   {
    "duration": 23,
    "start_time": "2022-03-26T17:37:33.689Z"
   },
   {
    "duration": 25,
    "start_time": "2022-03-26T17:37:33.714Z"
   },
   {
    "duration": 32,
    "start_time": "2022-03-26T17:37:33.741Z"
   },
   {
    "duration": 6,
    "start_time": "2022-03-26T17:37:33.776Z"
   },
   {
    "duration": 7,
    "start_time": "2022-03-26T17:37:33.785Z"
   },
   {
    "duration": 15,
    "start_time": "2022-03-26T17:37:33.794Z"
   },
   {
    "duration": 64,
    "start_time": "2022-03-26T17:37:33.811Z"
   },
   {
    "duration": 8,
    "start_time": "2022-03-26T17:37:33.883Z"
   },
   {
    "duration": 8,
    "start_time": "2022-03-26T17:37:33.893Z"
   },
   {
    "duration": 4,
    "start_time": "2022-03-26T17:37:33.903Z"
   },
   {
    "duration": 13,
    "start_time": "2022-03-26T17:37:33.909Z"
   },
   {
    "duration": 6,
    "start_time": "2022-03-26T17:37:33.924Z"
   },
   {
    "duration": 46,
    "start_time": "2022-03-26T17:37:33.932Z"
   },
   {
    "duration": 39,
    "start_time": "2022-03-26T17:37:33.980Z"
   },
   {
    "duration": 21241,
    "start_time": "2022-03-26T17:37:34.021Z"
   },
   {
    "duration": 4285,
    "start_time": "2022-03-26T17:37:55.264Z"
   },
   {
    "duration": 3,
    "start_time": "2022-03-26T17:37:59.551Z"
   },
   {
    "duration": 22,
    "start_time": "2022-03-26T17:37:59.556Z"
   },
   {
    "duration": 9,
    "start_time": "2022-03-26T17:37:59.580Z"
   },
   {
    "duration": 9,
    "start_time": "2022-03-26T17:37:59.591Z"
   },
   {
    "duration": 9,
    "start_time": "2022-03-26T17:37:59.602Z"
   },
   {
    "duration": 1412,
    "start_time": "2022-03-26T17:37:59.614Z"
   },
   {
    "duration": 10,
    "start_time": "2022-03-26T17:38:01.029Z"
   },
   {
    "duration": 33,
    "start_time": "2022-03-26T17:38:01.041Z"
   },
   {
    "duration": 7,
    "start_time": "2022-03-26T17:38:01.076Z"
   },
   {
    "duration": 21,
    "start_time": "2022-03-26T17:38:01.085Z"
   },
   {
    "duration": 391,
    "start_time": "2022-03-26T17:38:01.108Z"
   },
   {
    "duration": 293,
    "start_time": "2022-03-26T17:38:01.501Z"
   },
   {
    "duration": 5,
    "start_time": "2022-03-26T17:38:01.796Z"
   },
   {
    "duration": 28,
    "start_time": "2022-03-26T17:38:01.803Z"
   },
   {
    "duration": 27,
    "start_time": "2022-03-26T17:38:01.834Z"
   },
   {
    "duration": 16,
    "start_time": "2022-03-26T17:38:01.864Z"
   },
   {
    "duration": 22,
    "start_time": "2022-03-26T17:38:01.883Z"
   },
   {
    "duration": 22,
    "start_time": "2022-03-26T17:38:01.907Z"
   },
   {
    "duration": 1042,
    "start_time": "2022-03-26T17:38:01.931Z"
   },
   {
    "duration": 669,
    "start_time": "2022-03-26T17:38:02.975Z"
   },
   {
    "duration": 2408,
    "start_time": "2022-03-26T17:38:03.647Z"
   },
   {
    "duration": 16,
    "start_time": "2022-03-26T17:38:06.057Z"
   },
   {
    "duration": 4,
    "start_time": "2022-03-26T17:38:06.076Z"
   },
   {
    "duration": 993,
    "start_time": "2022-03-26T17:38:06.081Z"
   },
   {
    "duration": 998,
    "start_time": "2022-03-26T17:38:07.076Z"
   },
   {
    "duration": 3810,
    "start_time": "2022-03-26T17:38:08.076Z"
   },
   {
    "duration": 5,
    "start_time": "2022-03-26T17:38:11.888Z"
   },
   {
    "duration": 27,
    "start_time": "2022-03-26T17:38:11.895Z"
   },
   {
    "duration": 35,
    "start_time": "2022-03-26T17:38:11.924Z"
   },
   {
    "duration": 29,
    "start_time": "2022-03-26T17:38:11.961Z"
   },
   {
    "duration": 186,
    "start_time": "2022-03-26T17:38:11.992Z"
   },
   {
    "duration": 17,
    "start_time": "2022-03-26T17:38:12.180Z"
   },
   {
    "duration": 8,
    "start_time": "2022-03-26T17:38:12.199Z"
   },
   {
    "duration": 269,
    "start_time": "2022-03-26T17:38:12.209Z"
   },
   {
    "duration": 6,
    "start_time": "2022-03-26T17:38:12.481Z"
   },
   {
    "duration": 6,
    "start_time": "2022-03-26T17:38:12.490Z"
   },
   {
    "duration": 4074,
    "start_time": "2022-03-26T17:40:15.271Z"
   },
   {
    "duration": 268,
    "start_time": "2022-03-26T17:44:14.318Z"
   },
   {
    "duration": 280,
    "start_time": "2022-03-26T17:44:41.864Z"
   },
   {
    "duration": 277,
    "start_time": "2022-03-26T17:47:51.113Z"
   },
   {
    "duration": 363,
    "start_time": "2022-03-26T17:48:06.927Z"
   },
   {
    "duration": 269,
    "start_time": "2022-03-26T17:48:37.753Z"
   },
   {
    "duration": 283,
    "start_time": "2022-03-26T17:48:44.969Z"
   },
   {
    "duration": 273,
    "start_time": "2022-03-26T17:49:01.320Z"
   },
   {
    "duration": 273,
    "start_time": "2022-03-26T17:49:30.750Z"
   },
   {
    "duration": 274,
    "start_time": "2022-03-26T17:49:55.662Z"
   },
   {
    "duration": 278,
    "start_time": "2022-03-26T17:50:43.032Z"
   },
   {
    "duration": 264,
    "start_time": "2022-03-26T17:51:06.415Z"
   },
   {
    "duration": 280,
    "start_time": "2022-03-26T17:52:11.126Z"
   },
   {
    "duration": 101,
    "start_time": "2022-03-26T17:53:20.867Z"
   },
   {
    "duration": 215,
    "start_time": "2022-03-26T18:12:05.549Z"
   },
   {
    "duration": 215,
    "start_time": "2022-03-26T18:12:11.519Z"
   },
   {
    "duration": 323,
    "start_time": "2022-03-26T18:12:58.465Z"
   },
   {
    "duration": 273,
    "start_time": "2022-03-26T18:15:08.662Z"
   },
   {
    "duration": 1320,
    "start_time": "2022-03-26T18:19:11.175Z"
   },
   {
    "duration": 1490,
    "start_time": "2022-03-26T18:19:22.159Z"
   },
   {
    "duration": 1518,
    "start_time": "2022-03-26T18:19:43.776Z"
   },
   {
    "duration": 1319,
    "start_time": "2022-03-26T18:19:48.308Z"
   },
   {
    "duration": 1497,
    "start_time": "2022-03-26T18:19:54.867Z"
   },
   {
    "duration": 443,
    "start_time": "2022-03-26T18:20:02.933Z"
   },
   {
    "duration": 997,
    "start_time": "2022-03-26T18:20:11.836Z"
   },
   {
    "duration": 14,
    "start_time": "2022-03-26T18:33:36.654Z"
   },
   {
    "duration": 6,
    "start_time": "2022-03-26T18:33:38.500Z"
   },
   {
    "duration": 5,
    "start_time": "2022-03-26T18:33:39.521Z"
   },
   {
    "duration": 6,
    "start_time": "2022-03-26T18:33:40.393Z"
   },
   {
    "duration": 6,
    "start_time": "2022-03-26T18:33:41.995Z"
   },
   {
    "duration": 392,
    "start_time": "2022-03-26T18:33:43.327Z"
   },
   {
    "duration": 574,
    "start_time": "2022-03-26T18:33:56.575Z"
   },
   {
    "duration": 1352,
    "start_time": "2022-03-26T18:34:50.065Z"
   },
   {
    "duration": 1068,
    "start_time": "2022-03-26T18:38:18.335Z"
   },
   {
    "duration": 947,
    "start_time": "2022-03-26T18:38:40.877Z"
   },
   {
    "duration": 1056,
    "start_time": "2022-03-26T18:38:52.571Z"
   },
   {
    "duration": 1223,
    "start_time": "2022-03-26T18:39:35.110Z"
   },
   {
    "duration": 907,
    "start_time": "2022-03-26T18:40:50.404Z"
   },
   {
    "duration": 1253,
    "start_time": "2022-03-26T18:41:23.688Z"
   },
   {
    "duration": 939,
    "start_time": "2022-03-26T18:41:35.280Z"
   },
   {
    "duration": 1552,
    "start_time": "2022-03-26T18:43:36.603Z"
   },
   {
    "duration": 1192,
    "start_time": "2022-03-26T18:44:21.249Z"
   },
   {
    "duration": 909,
    "start_time": "2022-03-26T18:53:49.993Z"
   },
   {
    "duration": 1615,
    "start_time": "2022-03-26T18:53:53.160Z"
   },
   {
    "duration": 5,
    "start_time": "2022-03-26T19:22:12.713Z"
   },
   {
    "duration": 22,
    "start_time": "2022-03-26T19:22:12.722Z"
   },
   {
    "duration": 895,
    "start_time": "2022-03-26T19:22:12.746Z"
   },
   {
    "duration": 31,
    "start_time": "2022-03-26T19:22:13.644Z"
   },
   {
    "duration": 22,
    "start_time": "2022-03-26T19:22:13.677Z"
   },
   {
    "duration": 23,
    "start_time": "2022-03-26T19:22:13.701Z"
   },
   {
    "duration": 57,
    "start_time": "2022-03-26T19:22:13.727Z"
   },
   {
    "duration": 6,
    "start_time": "2022-03-26T19:22:13.786Z"
   },
   {
    "duration": 7,
    "start_time": "2022-03-26T19:22:13.795Z"
   },
   {
    "duration": 6,
    "start_time": "2022-03-26T19:22:13.804Z"
   },
   {
    "duration": 13,
    "start_time": "2022-03-26T19:22:13.812Z"
   },
   {
    "duration": 47,
    "start_time": "2022-03-26T19:22:13.828Z"
   },
   {
    "duration": 9,
    "start_time": "2022-03-26T19:22:13.877Z"
   },
   {
    "duration": 6,
    "start_time": "2022-03-26T19:22:13.888Z"
   },
   {
    "duration": 8,
    "start_time": "2022-03-26T19:22:13.896Z"
   },
   {
    "duration": 8,
    "start_time": "2022-03-26T19:22:13.906Z"
   },
   {
    "duration": 6,
    "start_time": "2022-03-26T19:22:13.916Z"
   },
   {
    "duration": 56,
    "start_time": "2022-03-26T19:22:13.924Z"
   },
   {
    "duration": 38,
    "start_time": "2022-03-26T19:22:13.982Z"
   },
   {
    "duration": 21744,
    "start_time": "2022-03-26T19:22:14.023Z"
   },
   {
    "duration": 4270,
    "start_time": "2022-03-26T19:22:35.773Z"
   },
   {
    "duration": 6,
    "start_time": "2022-03-26T19:22:40.046Z"
   },
   {
    "duration": 295,
    "start_time": "2022-03-26T19:22:40.054Z"
   },
   {
    "duration": 1923,
    "start_time": "2022-03-26T19:22:40.356Z"
   },
   {
    "duration": 727,
    "start_time": "2022-03-26T19:22:42.282Z"
   },
   {
    "duration": 5,
    "start_time": "2022-03-26T19:22:43.011Z"
   },
   {
    "duration": 10,
    "start_time": "2022-03-26T19:22:43.018Z"
   },
   {
    "duration": 11,
    "start_time": "2022-03-26T19:22:43.030Z"
   },
   {
    "duration": 5,
    "start_time": "2022-03-26T19:22:43.043Z"
   },
   {
    "duration": 1278,
    "start_time": "2022-03-26T19:22:43.050Z"
   },
   {
    "duration": 6,
    "start_time": "2022-03-26T19:22:44.330Z"
   },
   {
    "duration": 6,
    "start_time": "2022-03-26T19:22:44.338Z"
   },
   {
    "duration": 27,
    "start_time": "2022-03-26T19:22:44.347Z"
   },
   {
    "duration": 6,
    "start_time": "2022-03-26T19:22:44.376Z"
   },
   {
    "duration": 8,
    "start_time": "2022-03-26T19:22:44.384Z"
   },
   {
    "duration": 6,
    "start_time": "2022-03-26T19:22:44.394Z"
   },
   {
    "duration": 772,
    "start_time": "2022-03-26T19:22:44.403Z"
   },
   {
    "duration": 753,
    "start_time": "2022-03-26T19:22:45.179Z"
   },
   {
    "duration": 2433,
    "start_time": "2022-03-26T19:22:45.935Z"
   },
   {
    "duration": 7,
    "start_time": "2022-03-26T19:22:48.374Z"
   },
   {
    "duration": 23,
    "start_time": "2022-03-26T19:22:48.383Z"
   },
   {
    "duration": 1070,
    "start_time": "2022-03-26T19:22:48.408Z"
   },
   {
    "duration": 1069,
    "start_time": "2022-03-26T19:22:49.481Z"
   },
   {
    "duration": 3653,
    "start_time": "2022-03-26T19:22:50.553Z"
   },
   {
    "duration": 6,
    "start_time": "2022-03-26T19:22:54.207Z"
   },
   {
    "duration": 6,
    "start_time": "2022-03-26T19:22:54.215Z"
   },
   {
    "duration": 7,
    "start_time": "2022-03-26T19:22:54.223Z"
   },
   {
    "duration": 3,
    "start_time": "2022-03-26T19:22:54.233Z"
   },
   {
    "duration": 210,
    "start_time": "2022-03-26T19:22:54.273Z"
   },
   {
    "duration": 10,
    "start_time": "2022-03-26T19:22:54.486Z"
   },
   {
    "duration": 81,
    "start_time": "2022-03-26T19:22:54.498Z"
   },
   {
    "duration": 295,
    "start_time": "2022-03-26T19:22:54.582Z"
   },
   {
    "duration": 7,
    "start_time": "2022-03-26T19:22:54.881Z"
   },
   {
    "duration": 6,
    "start_time": "2022-03-26T19:22:54.891Z"
   },
   {
    "duration": 1532,
    "start_time": "2022-03-27T12:04:53.989Z"
   },
   {
    "duration": 3,
    "start_time": "2022-03-27T12:04:55.523Z"
   },
   {
    "duration": 631,
    "start_time": "2022-03-27T12:04:55.527Z"
   },
   {
    "duration": 20,
    "start_time": "2022-03-27T12:04:56.160Z"
   },
   {
    "duration": 28,
    "start_time": "2022-03-27T12:04:56.181Z"
   },
   {
    "duration": 16,
    "start_time": "2022-03-27T12:04:56.210Z"
   },
   {
    "duration": 18,
    "start_time": "2022-03-27T12:04:56.228Z"
   },
   {
    "duration": 4,
    "start_time": "2022-03-27T12:04:56.247Z"
   },
   {
    "duration": 5,
    "start_time": "2022-03-27T12:04:56.253Z"
   },
   {
    "duration": 9,
    "start_time": "2022-03-27T12:04:56.260Z"
   },
   {
    "duration": 14,
    "start_time": "2022-03-27T12:04:56.270Z"
   },
   {
    "duration": 8,
    "start_time": "2022-03-27T12:04:56.309Z"
   },
   {
    "duration": 5,
    "start_time": "2022-03-27T12:04:56.318Z"
   },
   {
    "duration": 4,
    "start_time": "2022-03-27T12:04:56.324Z"
   },
   {
    "duration": 6,
    "start_time": "2022-03-27T12:04:56.329Z"
   },
   {
    "duration": 12,
    "start_time": "2022-03-27T12:04:56.337Z"
   },
   {
    "duration": 5,
    "start_time": "2022-03-27T12:04:56.351Z"
   },
   {
    "duration": 8,
    "start_time": "2022-03-27T12:04:56.358Z"
   },
   {
    "duration": 57,
    "start_time": "2022-03-27T12:04:56.367Z"
   },
   {
    "duration": 13,
    "start_time": "2022-03-27T12:05:22.771Z"
   },
   {
    "duration": 16,
    "start_time": "2022-03-27T12:05:33.396Z"
   },
   {
    "duration": 1114,
    "start_time": "2022-03-27T12:09:31.640Z"
   },
   {
    "duration": 1085,
    "start_time": "2022-03-27T12:09:42.708Z"
   },
   {
    "duration": 1029,
    "start_time": "2022-03-27T12:10:07.316Z"
   },
   {
    "duration": 595,
    "start_time": "2022-03-27T12:10:18.765Z"
   },
   {
    "duration": 2094,
    "start_time": "2022-03-28T07:13:56.629Z"
   },
   {
    "duration": 5,
    "start_time": "2022-03-28T07:13:58.726Z"
   },
   {
    "duration": 723,
    "start_time": "2022-03-28T07:13:58.733Z"
   },
   {
    "duration": 36,
    "start_time": "2022-03-28T07:13:59.459Z"
   },
   {
    "duration": 22,
    "start_time": "2022-03-28T07:13:59.498Z"
   },
   {
    "duration": 28,
    "start_time": "2022-03-28T07:13:59.522Z"
   },
   {
    "duration": 46,
    "start_time": "2022-03-28T07:13:59.552Z"
   },
   {
    "duration": 5,
    "start_time": "2022-03-28T07:13:59.600Z"
   },
   {
    "duration": 7,
    "start_time": "2022-03-28T07:13:59.607Z"
   },
   {
    "duration": 6,
    "start_time": "2022-03-28T07:13:59.618Z"
   },
   {
    "duration": 18,
    "start_time": "2022-03-28T07:13:59.626Z"
   },
   {
    "duration": 43,
    "start_time": "2022-03-28T07:13:59.646Z"
   },
   {
    "duration": 16,
    "start_time": "2022-03-28T07:13:59.692Z"
   },
   {
    "duration": 7,
    "start_time": "2022-03-28T07:13:59.710Z"
   },
   {
    "duration": 14,
    "start_time": "2022-03-28T07:13:59.719Z"
   },
   {
    "duration": 27,
    "start_time": "2022-03-28T07:13:59.736Z"
   },
   {
    "duration": 16,
    "start_time": "2022-03-28T07:13:59.766Z"
   },
   {
    "duration": 11,
    "start_time": "2022-03-28T07:13:59.784Z"
   },
   {
    "duration": 41,
    "start_time": "2022-03-28T07:13:59.797Z"
   },
   {
    "duration": 42,
    "start_time": "2022-03-28T07:13:59.840Z"
   },
   {
    "duration": 5,
    "start_time": "2022-03-28T07:13:59.885Z"
   },
   {
    "duration": 292,
    "start_time": "2022-03-28T07:13:59.892Z"
   },
   {
    "duration": 16,
    "start_time": "2022-03-28T07:14:03.287Z"
   },
   {
    "duration": 521,
    "start_time": "2022-03-28T07:14:15.276Z"
   },
   {
    "duration": 1453,
    "start_time": "2022-03-28T07:25:23.292Z"
   },
   {
    "duration": 901,
    "start_time": "2022-03-28T07:25:58.400Z"
   },
   {
    "duration": 1221,
    "start_time": "2022-03-28T07:26:04.334Z"
   },
   {
    "duration": 904,
    "start_time": "2022-03-28T07:26:12.545Z"
   },
   {
    "duration": 1253,
    "start_time": "2022-03-28T07:26:36.607Z"
   },
   {
    "duration": 914,
    "start_time": "2022-03-28T07:28:53.408Z"
   },
   {
    "duration": 1206,
    "start_time": "2022-03-28T07:28:58.188Z"
   },
   {
    "duration": 1176,
    "start_time": "2022-03-28T07:30:41.675Z"
   },
   {
    "duration": 1281,
    "start_time": "2022-03-28T07:31:04.423Z"
   },
   {
    "duration": 1120,
    "start_time": "2022-03-28T07:31:34.821Z"
   },
   {
    "duration": 1257,
    "start_time": "2022-03-28T07:32:05.136Z"
   },
   {
    "duration": 1153,
    "start_time": "2022-03-28T07:32:17.973Z"
   },
   {
    "duration": 832,
    "start_time": "2022-03-28T07:33:55.213Z"
   },
   {
    "duration": 1158,
    "start_time": "2022-03-28T07:34:19.286Z"
   },
   {
    "duration": 1218,
    "start_time": "2022-03-28T07:34:51.600Z"
   },
   {
    "duration": 1219,
    "start_time": "2022-03-28T07:35:08.738Z"
   },
   {
    "duration": 1261,
    "start_time": "2022-03-28T07:36:06.458Z"
   },
   {
    "duration": 1242,
    "start_time": "2022-03-28T07:37:07.994Z"
   },
   {
    "duration": 1202,
    "start_time": "2022-03-28T07:41:37.692Z"
   },
   {
    "duration": 1283,
    "start_time": "2022-03-28T07:41:51.420Z"
   },
   {
    "duration": 1215,
    "start_time": "2022-03-28T07:42:59.073Z"
   },
   {
    "duration": 1238,
    "start_time": "2022-03-28T07:43:06.212Z"
   },
   {
    "duration": 161,
    "start_time": "2022-03-28T07:43:33.793Z"
   },
   {
    "duration": 1312,
    "start_time": "2022-03-28T07:43:40.770Z"
   },
   {
    "duration": 1791,
    "start_time": "2022-03-28T07:43:57.035Z"
   },
   {
    "duration": 2887,
    "start_time": "2022-03-28T07:44:04.502Z"
   },
   {
    "duration": 1390,
    "start_time": "2022-03-28T07:44:16.339Z"
   },
   {
    "duration": 1220,
    "start_time": "2022-03-28T07:44:22.342Z"
   },
   {
    "duration": 1258,
    "start_time": "2022-03-28T07:45:17.615Z"
   },
   {
    "duration": 1260,
    "start_time": "2022-03-28T07:45:20.052Z"
   },
   {
    "duration": 13,
    "start_time": "2022-03-28T07:49:42.436Z"
   },
   {
    "duration": 6,
    "start_time": "2022-03-28T07:50:01.033Z"
   },
   {
    "duration": 32,
    "start_time": "2022-03-28T07:50:01.041Z"
   },
   {
    "duration": 779,
    "start_time": "2022-03-28T07:50:01.075Z"
   },
   {
    "duration": 31,
    "start_time": "2022-03-28T07:50:01.856Z"
   },
   {
    "duration": 26,
    "start_time": "2022-03-28T07:50:01.889Z"
   },
   {
    "duration": 34,
    "start_time": "2022-03-28T07:50:01.918Z"
   },
   {
    "duration": 44,
    "start_time": "2022-03-28T07:50:01.955Z"
   },
   {
    "duration": 6,
    "start_time": "2022-03-28T07:50:02.001Z"
   },
   {
    "duration": 18,
    "start_time": "2022-03-28T07:50:02.012Z"
   },
   {
    "duration": 32,
    "start_time": "2022-03-28T07:50:02.032Z"
   },
   {
    "duration": 21,
    "start_time": "2022-03-28T07:50:02.066Z"
   },
   {
    "duration": 23,
    "start_time": "2022-03-28T07:50:02.089Z"
   },
   {
    "duration": 28,
    "start_time": "2022-03-28T07:50:02.114Z"
   },
   {
    "duration": 13,
    "start_time": "2022-03-28T07:50:02.144Z"
   },
   {
    "duration": 10,
    "start_time": "2022-03-28T07:50:02.159Z"
   },
   {
    "duration": 19,
    "start_time": "2022-03-28T07:50:02.171Z"
   },
   {
    "duration": 22,
    "start_time": "2022-03-28T07:50:02.192Z"
   },
   {
    "duration": 23,
    "start_time": "2022-03-28T07:50:02.216Z"
   },
   {
    "duration": 85,
    "start_time": "2022-03-28T07:50:02.241Z"
   },
   {
    "duration": 111,
    "start_time": "2022-03-28T07:50:02.329Z"
   },
   {
    "duration": 98,
    "start_time": "2022-03-28T07:50:02.443Z"
   },
   {
    "duration": 1201,
    "start_time": "2022-03-28T07:50:02.543Z"
   },
   {
    "duration": 1352,
    "start_time": "2022-03-28T07:50:03.747Z"
   },
   {
    "duration": 1182,
    "start_time": "2022-03-28T07:50:05.104Z"
   },
   {
    "duration": 1653,
    "start_time": "2022-03-28T07:50:06.289Z"
   },
   {
    "duration": 641,
    "start_time": "2022-03-28T07:50:07.944Z"
   },
   {
    "duration": 6,
    "start_time": "2022-03-28T07:50:08.587Z"
   },
   {
    "duration": 24,
    "start_time": "2022-03-28T07:50:08.595Z"
   },
   {
    "duration": 16,
    "start_time": "2022-03-28T07:50:08.621Z"
   },
   {
    "duration": 44,
    "start_time": "2022-03-28T07:50:08.640Z"
   },
   {
    "duration": 1234,
    "start_time": "2022-03-28T07:50:08.686Z"
   },
   {
    "duration": 6,
    "start_time": "2022-03-28T07:50:09.922Z"
   },
   {
    "duration": 22,
    "start_time": "2022-03-28T07:50:09.930Z"
   },
   {
    "duration": 46,
    "start_time": "2022-03-28T07:50:09.954Z"
   },
   {
    "duration": 60,
    "start_time": "2022-03-28T07:50:10.002Z"
   },
   {
    "duration": 29,
    "start_time": "2022-03-28T07:50:10.064Z"
   },
   {
    "duration": 19,
    "start_time": "2022-03-28T07:50:10.095Z"
   },
   {
    "duration": 967,
    "start_time": "2022-03-28T07:50:10.116Z"
   },
   {
    "duration": 641,
    "start_time": "2022-03-28T07:50:11.085Z"
   },
   {
    "duration": 2204,
    "start_time": "2022-03-28T07:50:11.729Z"
   },
   {
    "duration": 7,
    "start_time": "2022-03-28T07:50:13.936Z"
   },
   {
    "duration": 18,
    "start_time": "2022-03-28T07:50:13.946Z"
   },
   {
    "duration": 1131,
    "start_time": "2022-03-28T07:50:13.966Z"
   },
   {
    "duration": 1013,
    "start_time": "2022-03-28T07:50:15.100Z"
   },
   {
    "duration": 3321,
    "start_time": "2022-03-28T07:50:16.115Z"
   },
   {
    "duration": 5,
    "start_time": "2022-03-28T07:50:19.438Z"
   },
   {
    "duration": 18,
    "start_time": "2022-03-28T07:50:19.446Z"
   },
   {
    "duration": 42,
    "start_time": "2022-03-28T07:50:19.466Z"
   },
   {
    "duration": 32,
    "start_time": "2022-03-28T07:50:19.511Z"
   },
   {
    "duration": 242,
    "start_time": "2022-03-28T07:50:19.546Z"
   },
   {
    "duration": 17,
    "start_time": "2022-03-28T07:50:19.790Z"
   },
   {
    "duration": 46,
    "start_time": "2022-03-28T07:50:19.810Z"
   },
   {
    "duration": 236,
    "start_time": "2022-03-28T07:50:19.859Z"
   },
   {
    "duration": 8,
    "start_time": "2022-03-28T07:50:20.097Z"
   },
   {
    "duration": 5,
    "start_time": "2022-03-28T07:50:20.182Z"
   },
   {
    "duration": 1137,
    "start_time": "2022-03-28T07:51:14.131Z"
   },
   {
    "duration": 1307,
    "start_time": "2022-03-28T07:52:08.906Z"
   },
   {
    "duration": 142,
    "start_time": "2022-03-28T08:09:24.881Z"
   },
   {
    "duration": 140,
    "start_time": "2022-03-28T08:09:47.156Z"
   },
   {
    "duration": 82,
    "start_time": "2022-03-28T08:10:31.663Z"
   },
   {
    "duration": 63,
    "start_time": "2022-03-28T08:11:15.465Z"
   },
   {
    "duration": 7,
    "start_time": "2022-03-28T08:11:37.811Z"
   },
   {
    "duration": 11,
    "start_time": "2022-03-28T08:11:37.821Z"
   },
   {
    "duration": 774,
    "start_time": "2022-03-28T08:11:37.835Z"
   },
   {
    "duration": 37,
    "start_time": "2022-03-28T08:11:38.613Z"
   },
   {
    "duration": 57,
    "start_time": "2022-03-28T08:11:38.653Z"
   },
   {
    "duration": 38,
    "start_time": "2022-03-28T08:11:38.712Z"
   },
   {
    "duration": 55,
    "start_time": "2022-03-28T08:11:38.753Z"
   },
   {
    "duration": 6,
    "start_time": "2022-03-28T08:11:38.811Z"
   },
   {
    "duration": 6,
    "start_time": "2022-03-28T08:11:38.820Z"
   },
   {
    "duration": 12,
    "start_time": "2022-03-28T08:11:38.828Z"
   },
   {
    "duration": 54,
    "start_time": "2022-03-28T08:11:38.842Z"
   },
   {
    "duration": 11,
    "start_time": "2022-03-28T08:11:38.899Z"
   },
   {
    "duration": 9,
    "start_time": "2022-03-28T08:11:38.914Z"
   },
   {
    "duration": 5,
    "start_time": "2022-03-28T08:11:38.926Z"
   },
   {
    "duration": 5,
    "start_time": "2022-03-28T08:11:38.933Z"
   },
   {
    "duration": 48,
    "start_time": "2022-03-28T08:11:38.940Z"
   },
   {
    "duration": 8,
    "start_time": "2022-03-28T08:11:38.991Z"
   },
   {
    "duration": 15,
    "start_time": "2022-03-28T08:11:39.002Z"
   },
   {
    "duration": 69,
    "start_time": "2022-03-28T08:11:39.020Z"
   },
   {
    "duration": 14,
    "start_time": "2022-03-28T08:11:39.091Z"
   },
   {
    "duration": 22,
    "start_time": "2022-03-28T08:11:39.109Z"
   },
   {
    "duration": 1420,
    "start_time": "2022-03-28T08:11:39.134Z"
   },
   {
    "duration": 1212,
    "start_time": "2022-03-28T08:11:40.556Z"
   },
   {
    "duration": 1418,
    "start_time": "2022-03-28T08:11:41.772Z"
   },
   {
    "duration": 1721,
    "start_time": "2022-03-28T08:11:43.193Z"
   },
   {
    "duration": 868,
    "start_time": "2022-03-28T08:11:44.917Z"
   },
   {
    "duration": 6,
    "start_time": "2022-03-28T08:11:45.788Z"
   },
   {
    "duration": 19,
    "start_time": "2022-03-28T08:11:45.798Z"
   },
   {
    "duration": 9,
    "start_time": "2022-03-28T08:11:45.820Z"
   },
   {
    "duration": 10,
    "start_time": "2022-03-28T08:11:45.831Z"
   },
   {
    "duration": 1171,
    "start_time": "2022-03-28T08:11:45.843Z"
   },
   {
    "duration": 75,
    "start_time": "2022-03-28T08:11:48.812Z"
   },
   {
    "duration": 64,
    "start_time": "2022-03-28T08:12:04.563Z"
   },
   {
    "duration": 18,
    "start_time": "2022-03-28T08:16:45.344Z"
   },
   {
    "duration": 32,
    "start_time": "2022-03-28T08:28:49.770Z"
   },
   {
    "duration": 5,
    "start_time": "2022-03-28T08:29:09.300Z"
   },
   {
    "duration": 9,
    "start_time": "2022-03-28T08:29:09.308Z"
   },
   {
    "duration": 844,
    "start_time": "2022-03-28T08:29:09.319Z"
   },
   {
    "duration": 28,
    "start_time": "2022-03-28T08:29:10.166Z"
   },
   {
    "duration": 23,
    "start_time": "2022-03-28T08:29:10.196Z"
   },
   {
    "duration": 22,
    "start_time": "2022-03-28T08:29:10.220Z"
   },
   {
    "duration": 57,
    "start_time": "2022-03-28T08:29:10.244Z"
   },
   {
    "duration": 7,
    "start_time": "2022-03-28T08:29:10.303Z"
   },
   {
    "duration": 5,
    "start_time": "2022-03-28T08:29:10.313Z"
   },
   {
    "duration": 7,
    "start_time": "2022-03-28T08:29:10.320Z"
   },
   {
    "duration": 15,
    "start_time": "2022-03-28T08:29:10.329Z"
   },
   {
    "duration": 44,
    "start_time": "2022-03-28T08:29:10.346Z"
   },
   {
    "duration": 7,
    "start_time": "2022-03-28T08:29:10.393Z"
   },
   {
    "duration": 6,
    "start_time": "2022-03-28T08:29:10.402Z"
   },
   {
    "duration": 4,
    "start_time": "2022-03-28T08:29:10.411Z"
   },
   {
    "duration": 13,
    "start_time": "2022-03-28T08:29:10.417Z"
   },
   {
    "duration": 6,
    "start_time": "2022-03-28T08:29:10.432Z"
   },
   {
    "duration": 8,
    "start_time": "2022-03-28T08:29:10.483Z"
   },
   {
    "duration": 38,
    "start_time": "2022-03-28T08:29:10.494Z"
   },
   {
    "duration": 49,
    "start_time": "2022-03-28T08:29:10.534Z"
   },
   {
    "duration": 6,
    "start_time": "2022-03-28T08:29:10.585Z"
   },
   {
    "duration": 1563,
    "start_time": "2022-03-28T08:29:10.594Z"
   },
   {
    "duration": 1175,
    "start_time": "2022-03-28T08:29:12.160Z"
   },
   {
    "duration": 1506,
    "start_time": "2022-03-28T08:29:13.340Z"
   },
   {
    "duration": 1514,
    "start_time": "2022-03-28T08:29:14.849Z"
   },
   {
    "duration": 952,
    "start_time": "2022-03-28T08:29:16.365Z"
   },
   {
    "duration": 6,
    "start_time": "2022-03-28T08:29:17.320Z"
   },
   {
    "duration": 8,
    "start_time": "2022-03-28T08:29:17.328Z"
   },
   {
    "duration": 7,
    "start_time": "2022-03-28T08:29:17.338Z"
   },
   {
    "duration": 11,
    "start_time": "2022-03-28T08:29:17.347Z"
   },
   {
    "duration": 1229,
    "start_time": "2022-03-28T08:29:17.360Z"
   },
   {
    "duration": 18,
    "start_time": "2022-03-28T08:29:20.665Z"
   },
   {
    "duration": 16,
    "start_time": "2022-03-28T08:29:21.969Z"
   },
   {
    "duration": 36,
    "start_time": "2022-03-28T08:29:22.939Z"
   },
   {
    "duration": 14,
    "start_time": "2022-03-28T08:29:55.641Z"
   },
   {
    "duration": 12,
    "start_time": "2022-03-28T08:29:56.611Z"
   },
   {
    "duration": 11,
    "start_time": "2022-03-28T08:31:51.475Z"
   },
   {
    "duration": 11,
    "start_time": "2022-03-28T08:32:01.875Z"
   },
   {
    "duration": 11,
    "start_time": "2022-03-28T08:33:19.428Z"
   },
   {
    "duration": 13,
    "start_time": "2022-03-28T08:33:20.500Z"
   },
   {
    "duration": 8,
    "start_time": "2022-03-28T08:35:29.698Z"
   },
   {
    "duration": 2590,
    "start_time": "2022-03-28T08:35:30.507Z"
   },
   {
    "duration": 2462,
    "start_time": "2022-03-28T08:37:36.039Z"
   },
   {
    "duration": 8,
    "start_time": "2022-03-28T08:37:39.934Z"
   },
   {
    "duration": 9,
    "start_time": "2022-03-28T08:37:43.159Z"
   },
   {
    "duration": 2455,
    "start_time": "2022-03-28T08:37:44.955Z"
   },
   {
    "duration": 2477,
    "start_time": "2022-03-28T08:37:51.733Z"
   },
   {
    "duration": 7,
    "start_time": "2022-03-28T08:39:58.605Z"
   },
   {
    "duration": 19,
    "start_time": "2022-03-28T08:39:58.616Z"
   },
   {
    "duration": 836,
    "start_time": "2022-03-28T08:39:58.637Z"
   },
   {
    "duration": 39,
    "start_time": "2022-03-28T08:39:59.476Z"
   },
   {
    "duration": 41,
    "start_time": "2022-03-28T08:39:59.517Z"
   },
   {
    "duration": 41,
    "start_time": "2022-03-28T08:39:59.560Z"
   },
   {
    "duration": 40,
    "start_time": "2022-03-28T08:39:59.603Z"
   },
   {
    "duration": 5,
    "start_time": "2022-03-28T08:39:59.646Z"
   },
   {
    "duration": 35,
    "start_time": "2022-03-28T08:39:59.653Z"
   },
   {
    "duration": 35,
    "start_time": "2022-03-28T08:39:59.694Z"
   },
   {
    "duration": 44,
    "start_time": "2022-03-28T08:39:59.733Z"
   },
   {
    "duration": 23,
    "start_time": "2022-03-28T08:39:59.780Z"
   },
   {
    "duration": 32,
    "start_time": "2022-03-28T08:39:59.805Z"
   },
   {
    "duration": 25,
    "start_time": "2022-03-28T08:39:59.839Z"
   },
   {
    "duration": 26,
    "start_time": "2022-03-28T08:39:59.866Z"
   },
   {
    "duration": 20,
    "start_time": "2022-03-28T08:39:59.895Z"
   },
   {
    "duration": 24,
    "start_time": "2022-03-28T08:39:59.918Z"
   },
   {
    "duration": 23,
    "start_time": "2022-03-28T08:39:59.945Z"
   },
   {
    "duration": 71,
    "start_time": "2022-03-28T08:39:59.971Z"
   },
   {
    "duration": 14,
    "start_time": "2022-03-28T08:40:00.044Z"
   },
   {
    "duration": 43,
    "start_time": "2022-03-28T08:40:00.061Z"
   },
   {
    "duration": 1519,
    "start_time": "2022-03-28T08:40:00.107Z"
   },
   {
    "duration": 2258,
    "start_time": "2022-03-28T08:40:01.630Z"
   },
   {
    "duration": 1591,
    "start_time": "2022-03-28T08:40:03.892Z"
   },
   {
    "duration": 2150,
    "start_time": "2022-03-28T08:40:05.487Z"
   },
   {
    "duration": 720,
    "start_time": "2022-03-28T08:40:07.639Z"
   },
   {
    "duration": 21,
    "start_time": "2022-03-28T08:40:08.361Z"
   },
   {
    "duration": 15,
    "start_time": "2022-03-28T08:40:08.387Z"
   },
   {
    "duration": 8,
    "start_time": "2022-03-28T08:40:08.404Z"
   },
   {
    "duration": 6,
    "start_time": "2022-03-28T08:40:08.414Z"
   },
   {
    "duration": 1874,
    "start_time": "2022-03-28T08:40:08.422Z"
   },
   {
    "duration": 15,
    "start_time": "2022-03-28T08:40:10.299Z"
   },
   {
    "duration": 14,
    "start_time": "2022-03-28T08:40:10.318Z"
   },
   {
    "duration": 14,
    "start_time": "2022-03-28T08:40:10.335Z"
   },
   {
    "duration": 14,
    "start_time": "2022-03-28T08:40:10.383Z"
   },
   {
    "duration": 10,
    "start_time": "2022-03-28T08:40:10.399Z"
   },
   {
    "duration": 8,
    "start_time": "2022-03-28T08:40:10.411Z"
   },
   {
    "duration": 8,
    "start_time": "2022-03-28T08:40:10.422Z"
   },
   {
    "duration": 51,
    "start_time": "2022-03-28T08:40:10.432Z"
   },
   {
    "duration": 6,
    "start_time": "2022-03-28T08:40:10.486Z"
   },
   {
    "duration": 9,
    "start_time": "2022-03-28T08:40:10.496Z"
   },
   {
    "duration": 5,
    "start_time": "2022-03-28T08:40:10.509Z"
   },
   {
    "duration": 768,
    "start_time": "2022-03-28T08:40:10.516Z"
   },
   {
    "duration": 683,
    "start_time": "2022-03-28T08:40:11.287Z"
   },
   {
    "duration": 2231,
    "start_time": "2022-03-28T08:40:11.972Z"
   },
   {
    "duration": 6,
    "start_time": "2022-03-28T08:40:14.205Z"
   },
   {
    "duration": 8,
    "start_time": "2022-03-28T08:40:14.214Z"
   },
   {
    "duration": 1360,
    "start_time": "2022-03-28T08:40:14.224Z"
   },
   {
    "duration": 919,
    "start_time": "2022-03-28T08:40:15.586Z"
   },
   {
    "duration": 3351,
    "start_time": "2022-03-28T08:40:16.507Z"
   },
   {
    "duration": 6,
    "start_time": "2022-03-28T08:40:19.861Z"
   },
   {
    "duration": 16,
    "start_time": "2022-03-28T08:40:19.870Z"
   },
   {
    "duration": 12,
    "start_time": "2022-03-28T08:40:19.888Z"
   },
   {
    "duration": 10,
    "start_time": "2022-03-28T08:40:19.902Z"
   },
   {
    "duration": 176,
    "start_time": "2022-03-28T08:40:19.914Z"
   },
   {
    "duration": 7,
    "start_time": "2022-03-28T08:40:20.092Z"
   },
   {
    "duration": 16,
    "start_time": "2022-03-28T08:40:20.101Z"
   },
   {
    "duration": 265,
    "start_time": "2022-03-28T08:40:20.120Z"
   },
   {
    "duration": 7,
    "start_time": "2022-03-28T08:40:20.388Z"
   },
   {
    "duration": 34,
    "start_time": "2022-03-28T08:40:20.398Z"
   },
   {
    "duration": 2365,
    "start_time": "2022-03-28T09:05:41.435Z"
   },
   {
    "duration": 4,
    "start_time": "2022-03-28T09:05:43.803Z"
   },
   {
    "duration": 889,
    "start_time": "2022-03-28T09:05:43.809Z"
   },
   {
    "duration": 84,
    "start_time": "2022-03-28T09:05:44.701Z"
   },
   {
    "duration": 23,
    "start_time": "2022-03-28T09:05:44.787Z"
   },
   {
    "duration": 79,
    "start_time": "2022-03-28T09:05:44.812Z"
   },
   {
    "duration": 29,
    "start_time": "2022-03-28T09:05:44.893Z"
   },
   {
    "duration": 6,
    "start_time": "2022-03-28T09:05:44.924Z"
   },
   {
    "duration": 44,
    "start_time": "2022-03-28T09:05:44.931Z"
   },
   {
    "duration": 7,
    "start_time": "2022-03-28T09:05:44.979Z"
   },
   {
    "duration": 16,
    "start_time": "2022-03-28T09:05:44.988Z"
   },
   {
    "duration": 10,
    "start_time": "2022-03-28T09:05:45.006Z"
   },
   {
    "duration": 19,
    "start_time": "2022-03-28T09:05:45.018Z"
   },
   {
    "duration": 6,
    "start_time": "2022-03-28T09:05:45.074Z"
   },
   {
    "duration": 12,
    "start_time": "2022-03-28T09:05:45.082Z"
   },
   {
    "duration": 11,
    "start_time": "2022-03-28T09:05:45.096Z"
   },
   {
    "duration": 12,
    "start_time": "2022-03-28T09:05:45.109Z"
   },
   {
    "duration": 14,
    "start_time": "2022-03-28T09:05:45.123Z"
   },
   {
    "duration": 40,
    "start_time": "2022-03-28T09:05:45.175Z"
   },
   {
    "duration": 70,
    "start_time": "2022-03-28T09:05:45.217Z"
   },
   {
    "duration": 6,
    "start_time": "2022-03-28T09:05:45.289Z"
   },
   {
    "duration": 1400,
    "start_time": "2022-03-28T09:05:45.297Z"
   },
   {
    "duration": 1278,
    "start_time": "2022-03-28T09:05:46.699Z"
   },
   {
    "duration": 1348,
    "start_time": "2022-03-28T09:05:47.979Z"
   },
   {
    "duration": 1608,
    "start_time": "2022-03-28T09:05:49.329Z"
   },
   {
    "duration": 827,
    "start_time": "2022-03-28T09:05:50.939Z"
   },
   {
    "duration": 6,
    "start_time": "2022-03-28T09:05:51.773Z"
   },
   {
    "duration": 6,
    "start_time": "2022-03-28T09:05:51.787Z"
   },
   {
    "duration": 8,
    "start_time": "2022-03-28T09:05:51.795Z"
   },
   {
    "duration": 7,
    "start_time": "2022-03-28T09:05:51.805Z"
   },
   {
    "duration": 1240,
    "start_time": "2022-03-28T09:05:51.814Z"
   },
   {
    "duration": 29,
    "start_time": "2022-03-28T09:05:53.057Z"
   },
   {
    "duration": 16,
    "start_time": "2022-03-28T09:05:53.088Z"
   },
   {
    "duration": 17,
    "start_time": "2022-03-28T09:05:53.107Z"
   },
   {
    "duration": 47,
    "start_time": "2022-03-28T09:05:53.127Z"
   },
   {
    "duration": 8,
    "start_time": "2022-03-28T09:05:53.176Z"
   },
   {
    "duration": 7,
    "start_time": "2022-03-28T09:05:53.187Z"
   },
   {
    "duration": 5,
    "start_time": "2022-03-28T09:05:53.197Z"
   },
   {
    "duration": 9,
    "start_time": "2022-03-28T09:05:53.204Z"
   },
   {
    "duration": 13,
    "start_time": "2022-03-28T09:05:53.215Z"
   },
   {
    "duration": 10,
    "start_time": "2022-03-28T09:05:53.230Z"
   },
   {
    "duration": 31,
    "start_time": "2022-03-28T09:05:53.242Z"
   },
   {
    "duration": 598,
    "start_time": "2022-03-28T09:05:53.276Z"
   },
   {
    "duration": 643,
    "start_time": "2022-03-28T09:05:53.878Z"
   },
   {
    "duration": 2186,
    "start_time": "2022-03-28T09:05:54.524Z"
   },
   {
    "duration": 6,
    "start_time": "2022-03-28T09:05:56.713Z"
   },
   {
    "duration": 11,
    "start_time": "2022-03-28T09:05:56.722Z"
   },
   {
    "duration": 653,
    "start_time": "2022-03-28T09:05:56.735Z"
   },
   {
    "duration": 1067,
    "start_time": "2022-03-28T09:05:57.397Z"
   },
   {
    "duration": 3563,
    "start_time": "2022-03-28T09:05:58.474Z"
   },
   {
    "duration": 7,
    "start_time": "2022-03-28T09:06:02.040Z"
   },
   {
    "duration": 30,
    "start_time": "2022-03-28T09:06:02.050Z"
   },
   {
    "duration": 48,
    "start_time": "2022-03-28T09:06:02.083Z"
   },
   {
    "duration": 27,
    "start_time": "2022-03-28T09:06:02.134Z"
   },
   {
    "duration": 37,
    "start_time": "2022-03-28T09:06:02.163Z"
   },
   {
    "duration": 173,
    "start_time": "2022-03-28T09:06:02.204Z"
   },
   {
    "duration": 32,
    "start_time": "2022-03-28T09:06:02.380Z"
   },
   {
    "duration": 62,
    "start_time": "2022-03-28T09:06:02.415Z"
   },
   {
    "duration": 218,
    "start_time": "2022-03-28T09:06:02.479Z"
   },
   {
    "duration": 26,
    "start_time": "2022-03-28T09:06:02.700Z"
   },
   {
    "duration": 7,
    "start_time": "2022-03-28T09:07:17.870Z"
   },
   {
    "duration": 9,
    "start_time": "2022-03-28T09:07:17.879Z"
   },
   {
    "duration": 880,
    "start_time": "2022-03-28T09:07:17.890Z"
   },
   {
    "duration": 25,
    "start_time": "2022-03-28T09:07:18.775Z"
   },
   {
    "duration": 40,
    "start_time": "2022-03-28T09:07:18.802Z"
   },
   {
    "duration": 40,
    "start_time": "2022-03-28T09:07:18.844Z"
   },
   {
    "duration": 33,
    "start_time": "2022-03-28T09:07:18.886Z"
   },
   {
    "duration": 7,
    "start_time": "2022-03-28T09:07:18.921Z"
   },
   {
    "duration": 16,
    "start_time": "2022-03-28T09:07:18.930Z"
   },
   {
    "duration": 26,
    "start_time": "2022-03-28T09:07:18.950Z"
   },
   {
    "duration": 24,
    "start_time": "2022-03-28T09:07:18.978Z"
   },
   {
    "duration": 12,
    "start_time": "2022-03-28T09:07:19.004Z"
   },
   {
    "duration": 13,
    "start_time": "2022-03-28T09:07:19.018Z"
   },
   {
    "duration": 16,
    "start_time": "2022-03-28T09:07:19.033Z"
   },
   {
    "duration": 6,
    "start_time": "2022-03-28T09:07:19.073Z"
   },
   {
    "duration": 20,
    "start_time": "2022-03-28T09:07:19.082Z"
   },
   {
    "duration": 6,
    "start_time": "2022-03-28T09:07:19.105Z"
   },
   {
    "duration": 13,
    "start_time": "2022-03-28T09:07:19.113Z"
   },
   {
    "duration": 73,
    "start_time": "2022-03-28T09:07:19.129Z"
   },
   {
    "duration": 14,
    "start_time": "2022-03-28T09:07:19.204Z"
   },
   {
    "duration": 6,
    "start_time": "2022-03-28T09:07:19.221Z"
   },
   {
    "duration": 1885,
    "start_time": "2022-03-28T09:07:19.229Z"
   },
   {
    "duration": 1232,
    "start_time": "2022-03-28T09:07:21.116Z"
   },
   {
    "duration": 1419,
    "start_time": "2022-03-28T09:07:22.350Z"
   },
   {
    "duration": 1821,
    "start_time": "2022-03-28T09:07:23.774Z"
   },
   {
    "duration": 803,
    "start_time": "2022-03-28T09:07:25.598Z"
   },
   {
    "duration": 6,
    "start_time": "2022-03-28T09:07:26.404Z"
   },
   {
    "duration": 17,
    "start_time": "2022-03-28T09:07:26.417Z"
   },
   {
    "duration": 8,
    "start_time": "2022-03-28T09:07:26.437Z"
   },
   {
    "duration": 27,
    "start_time": "2022-03-28T09:07:26.448Z"
   },
   {
    "duration": 1410,
    "start_time": "2022-03-28T09:07:26.478Z"
   },
   {
    "duration": 16,
    "start_time": "2022-03-28T09:07:27.892Z"
   },
   {
    "duration": 27,
    "start_time": "2022-03-28T09:07:27.910Z"
   },
   {
    "duration": 33,
    "start_time": "2022-03-28T09:07:27.940Z"
   },
   {
    "duration": 28,
    "start_time": "2022-03-28T09:07:27.975Z"
   },
   {
    "duration": 17,
    "start_time": "2022-03-28T09:07:28.005Z"
   },
   {
    "duration": 26,
    "start_time": "2022-03-28T09:07:28.025Z"
   },
   {
    "duration": 25,
    "start_time": "2022-03-28T09:07:28.053Z"
   },
   {
    "duration": 25,
    "start_time": "2022-03-28T09:07:28.080Z"
   },
   {
    "duration": 28,
    "start_time": "2022-03-28T09:07:28.107Z"
   },
   {
    "duration": 12,
    "start_time": "2022-03-28T09:07:28.138Z"
   },
   {
    "duration": 17,
    "start_time": "2022-03-28T09:07:28.152Z"
   },
   {
    "duration": 616,
    "start_time": "2022-03-28T09:07:28.171Z"
   },
   {
    "duration": 632,
    "start_time": "2022-03-28T09:07:28.876Z"
   },
   {
    "duration": 2280,
    "start_time": "2022-03-28T09:07:29.511Z"
   },
   {
    "duration": 7,
    "start_time": "2022-03-28T09:07:31.793Z"
   },
   {
    "duration": 20,
    "start_time": "2022-03-28T09:07:31.802Z"
   },
   {
    "duration": 550,
    "start_time": "2022-03-28T09:07:31.825Z"
   },
   {
    "duration": 962,
    "start_time": "2022-03-28T09:07:32.378Z"
   },
   {
    "duration": 3473,
    "start_time": "2022-03-28T09:07:33.343Z"
   },
   {
    "duration": 6,
    "start_time": "2022-03-28T09:07:36.818Z"
   },
   {
    "duration": 9,
    "start_time": "2022-03-28T09:07:36.826Z"
   },
   {
    "duration": 31,
    "start_time": "2022-03-28T09:07:36.837Z"
   },
   {
    "duration": 19,
    "start_time": "2022-03-28T09:07:36.870Z"
   },
   {
    "duration": 84,
    "start_time": "2022-03-28T09:07:36.891Z"
   },
   {
    "duration": 98,
    "start_time": "2022-03-28T09:07:36.979Z"
   },
   {
    "duration": 31,
    "start_time": "2022-03-28T09:07:37.080Z"
   },
   {
    "duration": 62,
    "start_time": "2022-03-28T09:07:37.113Z"
   },
   {
    "duration": 100,
    "start_time": "2022-03-28T09:07:37.178Z"
   },
   {
    "duration": 18,
    "start_time": "2022-03-28T09:07:37.280Z"
   },
   {
    "duration": 11127,
    "start_time": "2022-03-28T09:08:00.202Z"
   },
   {
    "duration": 6,
    "start_time": "2022-03-28T09:27:41.260Z"
   },
   {
    "duration": 7,
    "start_time": "2022-03-28T09:27:58.626Z"
   },
   {
    "duration": 0,
    "start_time": "2022-03-28T09:51:13.094Z"
   },
   {
    "duration": 0,
    "start_time": "2022-03-28T09:51:13.096Z"
   },
   {
    "duration": 0,
    "start_time": "2022-03-28T09:51:13.098Z"
   },
   {
    "duration": 0,
    "start_time": "2022-03-28T09:51:13.099Z"
   },
   {
    "duration": 0,
    "start_time": "2022-03-28T09:51:13.100Z"
   },
   {
    "duration": 0,
    "start_time": "2022-03-28T09:51:13.102Z"
   },
   {
    "duration": 0,
    "start_time": "2022-03-28T09:51:13.104Z"
   },
   {
    "duration": 0,
    "start_time": "2022-03-28T09:51:13.105Z"
   },
   {
    "duration": 0,
    "start_time": "2022-03-28T09:51:13.107Z"
   },
   {
    "duration": 0,
    "start_time": "2022-03-28T09:51:13.108Z"
   },
   {
    "duration": 0,
    "start_time": "2022-03-28T09:51:13.109Z"
   },
   {
    "duration": 0,
    "start_time": "2022-03-28T09:51:13.111Z"
   },
   {
    "duration": 0,
    "start_time": "2022-03-28T09:51:13.112Z"
   },
   {
    "duration": 0,
    "start_time": "2022-03-28T09:51:13.114Z"
   },
   {
    "duration": 0,
    "start_time": "2022-03-28T09:51:13.115Z"
   },
   {
    "duration": 0,
    "start_time": "2022-03-28T09:51:13.117Z"
   },
   {
    "duration": 0,
    "start_time": "2022-03-28T09:51:13.174Z"
   },
   {
    "duration": 0,
    "start_time": "2022-03-28T09:51:13.176Z"
   },
   {
    "duration": 0,
    "start_time": "2022-03-28T09:51:13.183Z"
   },
   {
    "duration": 0,
    "start_time": "2022-03-28T09:51:13.186Z"
   },
   {
    "duration": 0,
    "start_time": "2022-03-28T09:51:13.189Z"
   },
   {
    "duration": 0,
    "start_time": "2022-03-28T09:51:13.190Z"
   },
   {
    "duration": 0,
    "start_time": "2022-03-28T09:51:13.191Z"
   },
   {
    "duration": 0,
    "start_time": "2022-03-28T09:51:13.193Z"
   },
   {
    "duration": 0,
    "start_time": "2022-03-28T09:51:13.194Z"
   },
   {
    "duration": 0,
    "start_time": "2022-03-28T09:51:13.195Z"
   },
   {
    "duration": 0,
    "start_time": "2022-03-28T09:51:13.197Z"
   },
   {
    "duration": 0,
    "start_time": "2022-03-28T09:51:13.199Z"
   },
   {
    "duration": 0,
    "start_time": "2022-03-28T09:51:13.200Z"
   },
   {
    "duration": 0,
    "start_time": "2022-03-28T09:51:13.202Z"
   },
   {
    "duration": 0,
    "start_time": "2022-03-28T09:51:13.203Z"
   },
   {
    "duration": 0,
    "start_time": "2022-03-28T09:51:13.205Z"
   },
   {
    "duration": 0,
    "start_time": "2022-03-28T09:51:13.206Z"
   },
   {
    "duration": 0,
    "start_time": "2022-03-28T09:51:13.208Z"
   },
   {
    "duration": 0,
    "start_time": "2022-03-28T09:51:13.209Z"
   },
   {
    "duration": 0,
    "start_time": "2022-03-28T09:51:13.211Z"
   },
   {
    "duration": 0,
    "start_time": "2022-03-28T09:51:13.212Z"
   },
   {
    "duration": 0,
    "start_time": "2022-03-28T09:51:13.214Z"
   },
   {
    "duration": 0,
    "start_time": "2022-03-28T09:51:13.216Z"
   },
   {
    "duration": 0,
    "start_time": "2022-03-28T09:51:13.274Z"
   },
   {
    "duration": 0,
    "start_time": "2022-03-28T09:51:13.278Z"
   },
   {
    "duration": 0,
    "start_time": "2022-03-28T09:51:13.280Z"
   },
   {
    "duration": 1,
    "start_time": "2022-03-28T09:51:13.282Z"
   },
   {
    "duration": 0,
    "start_time": "2022-03-28T09:51:13.287Z"
   },
   {
    "duration": 1,
    "start_time": "2022-03-28T09:51:13.288Z"
   },
   {
    "duration": 0,
    "start_time": "2022-03-28T09:51:13.291Z"
   },
   {
    "duration": 0,
    "start_time": "2022-03-28T09:51:13.292Z"
   },
   {
    "duration": 0,
    "start_time": "2022-03-28T09:51:13.294Z"
   },
   {
    "duration": 0,
    "start_time": "2022-03-28T09:51:13.295Z"
   },
   {
    "duration": 0,
    "start_time": "2022-03-28T09:51:13.297Z"
   },
   {
    "duration": 0,
    "start_time": "2022-03-28T09:51:13.298Z"
   },
   {
    "duration": 0,
    "start_time": "2022-03-28T09:51:13.299Z"
   },
   {
    "duration": 0,
    "start_time": "2022-03-28T09:51:13.301Z"
   },
   {
    "duration": 0,
    "start_time": "2022-03-28T09:51:13.302Z"
   },
   {
    "duration": 0,
    "start_time": "2022-03-28T09:51:13.303Z"
   },
   {
    "duration": 0,
    "start_time": "2022-03-28T09:51:13.305Z"
   },
   {
    "duration": 0,
    "start_time": "2022-03-28T09:51:13.306Z"
   },
   {
    "duration": 0,
    "start_time": "2022-03-28T09:51:13.308Z"
   },
   {
    "duration": 0,
    "start_time": "2022-03-28T09:51:13.309Z"
   },
   {
    "duration": 0,
    "start_time": "2022-03-28T09:51:13.310Z"
   },
   {
    "duration": 5,
    "start_time": "2022-03-28T09:51:40.189Z"
   },
   {
    "duration": 20,
    "start_time": "2022-03-28T09:51:40.197Z"
   },
   {
    "duration": 885,
    "start_time": "2022-03-28T09:51:40.219Z"
   },
   {
    "duration": 24,
    "start_time": "2022-03-28T09:51:41.107Z"
   },
   {
    "duration": 56,
    "start_time": "2022-03-28T09:51:41.135Z"
   },
   {
    "duration": 24,
    "start_time": "2022-03-28T09:51:41.193Z"
   },
   {
    "duration": 28,
    "start_time": "2022-03-28T09:51:41.219Z"
   },
   {
    "duration": 8,
    "start_time": "2022-03-28T09:51:41.275Z"
   },
   {
    "duration": 10,
    "start_time": "2022-03-28T09:51:41.286Z"
   },
   {
    "duration": 7,
    "start_time": "2022-03-28T09:51:41.298Z"
   },
   {
    "duration": 18,
    "start_time": "2022-03-28T09:51:41.307Z"
   },
   {
    "duration": 50,
    "start_time": "2022-03-28T09:51:41.327Z"
   },
   {
    "duration": 11,
    "start_time": "2022-03-28T09:51:41.380Z"
   },
   {
    "duration": 6,
    "start_time": "2022-03-28T09:51:41.396Z"
   },
   {
    "duration": 7,
    "start_time": "2022-03-28T09:51:41.403Z"
   },
   {
    "duration": 8,
    "start_time": "2022-03-28T09:51:41.412Z"
   },
   {
    "duration": 5,
    "start_time": "2022-03-28T09:51:41.422Z"
   },
   {
    "duration": 60,
    "start_time": "2022-03-28T09:51:41.429Z"
   },
   {
    "duration": 40,
    "start_time": "2022-03-28T09:51:41.492Z"
   },
   {
    "duration": 42,
    "start_time": "2022-03-28T09:51:41.534Z"
   },
   {
    "duration": 8,
    "start_time": "2022-03-28T09:51:41.580Z"
   },
   {
    "duration": 1421,
    "start_time": "2022-03-28T09:51:41.591Z"
   },
   {
    "duration": 1669,
    "start_time": "2022-03-28T09:51:43.015Z"
   },
   {
    "duration": 1340,
    "start_time": "2022-03-28T09:51:44.688Z"
   },
   {
    "duration": 2099,
    "start_time": "2022-03-28T09:51:46.030Z"
   },
   {
    "duration": 792,
    "start_time": "2022-03-28T09:51:48.132Z"
   },
   {
    "duration": 6,
    "start_time": "2022-03-28T09:51:48.928Z"
   },
   {
    "duration": 6,
    "start_time": "2022-03-28T09:51:48.937Z"
   },
   {
    "duration": 29,
    "start_time": "2022-03-28T09:51:48.945Z"
   },
   {
    "duration": 14,
    "start_time": "2022-03-28T09:51:48.977Z"
   },
   {
    "duration": 2050,
    "start_time": "2022-03-28T09:51:48.994Z"
   },
   {
    "duration": 31,
    "start_time": "2022-03-28T09:51:51.047Z"
   },
   {
    "duration": 14,
    "start_time": "2022-03-28T09:51:51.086Z"
   },
   {
    "duration": 17,
    "start_time": "2022-03-28T09:51:51.103Z"
   },
   {
    "duration": 15,
    "start_time": "2022-03-28T09:51:51.123Z"
   },
   {
    "duration": 37,
    "start_time": "2022-03-28T09:51:51.141Z"
   },
   {
    "duration": 9,
    "start_time": "2022-03-28T09:51:51.181Z"
   },
   {
    "duration": 6,
    "start_time": "2022-03-28T09:51:51.193Z"
   },
   {
    "duration": 5,
    "start_time": "2022-03-28T09:51:51.202Z"
   },
   {
    "duration": 7,
    "start_time": "2022-03-28T09:51:51.209Z"
   },
   {
    "duration": 6,
    "start_time": "2022-03-28T09:51:51.223Z"
   },
   {
    "duration": 53,
    "start_time": "2022-03-28T09:51:51.231Z"
   },
   {
    "duration": 586,
    "start_time": "2022-03-28T09:51:51.287Z"
   },
   {
    "duration": 12651,
    "start_time": "2022-03-28T09:51:51.879Z"
   },
   {
    "duration": 275935,
    "start_time": "2022-03-28T09:52:04.532Z"
   },
   {
    "duration": 7,
    "start_time": "2022-03-28T09:56:40.469Z"
   },
   {
    "duration": 11,
    "start_time": "2022-03-28T09:56:40.477Z"
   },
   {
    "duration": 695,
    "start_time": "2022-03-28T09:56:40.490Z"
   },
   {
    "duration": 1161,
    "start_time": "2022-03-28T09:56:41.188Z"
   },
   {
    "duration": 3623,
    "start_time": "2022-03-28T09:56:42.351Z"
   },
   {
    "duration": 7,
    "start_time": "2022-03-28T09:56:45.976Z"
   },
   {
    "duration": 5,
    "start_time": "2022-03-28T09:56:45.985Z"
   },
   {
    "duration": 6,
    "start_time": "2022-03-28T09:56:45.993Z"
   },
   {
    "duration": 9,
    "start_time": "2022-03-28T09:56:46.001Z"
   },
   {
    "duration": 64,
    "start_time": "2022-03-28T09:56:46.013Z"
   },
   {
    "duration": 99,
    "start_time": "2022-03-28T09:56:46.079Z"
   },
   {
    "duration": 7,
    "start_time": "2022-03-28T09:56:46.181Z"
   },
   {
    "duration": 193,
    "start_time": "2022-03-28T09:56:46.191Z"
   },
   {
    "duration": 8,
    "start_time": "2022-03-28T09:56:46.387Z"
   },
   {
    "duration": 5,
    "start_time": "2022-03-28T09:56:46.474Z"
   },
   {
    "duration": 5,
    "start_time": "2022-03-28T09:59:56.486Z"
   },
   {
    "duration": 8,
    "start_time": "2022-03-28T09:59:56.494Z"
   },
   {
    "duration": 807,
    "start_time": "2022-03-28T09:59:56.513Z"
   },
   {
    "duration": 27,
    "start_time": "2022-03-28T09:59:57.323Z"
   },
   {
    "duration": 41,
    "start_time": "2022-03-28T09:59:57.352Z"
   },
   {
    "duration": 25,
    "start_time": "2022-03-28T09:59:57.396Z"
   },
   {
    "duration": 49,
    "start_time": "2022-03-28T09:59:57.425Z"
   },
   {
    "duration": 7,
    "start_time": "2022-03-28T09:59:57.476Z"
   },
   {
    "duration": 7,
    "start_time": "2022-03-28T09:59:57.485Z"
   },
   {
    "duration": 9,
    "start_time": "2022-03-28T09:59:57.494Z"
   },
   {
    "duration": 12,
    "start_time": "2022-03-28T09:59:57.507Z"
   },
   {
    "duration": 54,
    "start_time": "2022-03-28T09:59:57.521Z"
   },
   {
    "duration": 8,
    "start_time": "2022-03-28T09:59:57.577Z"
   },
   {
    "duration": 6,
    "start_time": "2022-03-28T09:59:57.587Z"
   },
   {
    "duration": 6,
    "start_time": "2022-03-28T09:59:57.595Z"
   },
   {
    "duration": 6,
    "start_time": "2022-03-28T09:59:57.606Z"
   },
   {
    "duration": 5,
    "start_time": "2022-03-28T09:59:57.614Z"
   },
   {
    "duration": 57,
    "start_time": "2022-03-28T09:59:57.622Z"
   },
   {
    "duration": 45,
    "start_time": "2022-03-28T09:59:57.681Z"
   },
   {
    "duration": 49,
    "start_time": "2022-03-28T09:59:57.729Z"
   },
   {
    "duration": 6,
    "start_time": "2022-03-28T09:59:57.781Z"
   },
   {
    "duration": 1274,
    "start_time": "2022-03-28T09:59:57.789Z"
   },
   {
    "duration": 1588,
    "start_time": "2022-03-28T09:59:59.073Z"
   },
   {
    "duration": 1362,
    "start_time": "2022-03-28T10:00:00.663Z"
   },
   {
    "duration": 1690,
    "start_time": "2022-03-28T10:00:02.027Z"
   },
   {
    "duration": 1123,
    "start_time": "2022-03-28T10:00:03.719Z"
   },
   {
    "duration": 6,
    "start_time": "2022-03-28T10:00:04.844Z"
   },
   {
    "duration": 22,
    "start_time": "2022-03-28T10:00:04.852Z"
   },
   {
    "duration": 6,
    "start_time": "2022-03-28T10:00:04.876Z"
   },
   {
    "duration": 8,
    "start_time": "2022-03-28T10:00:04.884Z"
   },
   {
    "duration": 1233,
    "start_time": "2022-03-28T10:00:04.894Z"
   },
   {
    "duration": 15,
    "start_time": "2022-03-28T10:00:06.129Z"
   },
   {
    "duration": 31,
    "start_time": "2022-03-28T10:00:06.146Z"
   },
   {
    "duration": 12,
    "start_time": "2022-03-28T10:00:06.179Z"
   },
   {
    "duration": 11,
    "start_time": "2022-03-28T10:00:06.194Z"
   },
   {
    "duration": 8,
    "start_time": "2022-03-28T10:00:06.208Z"
   },
   {
    "duration": 7,
    "start_time": "2022-03-28T10:00:06.218Z"
   },
   {
    "duration": 6,
    "start_time": "2022-03-28T10:00:06.227Z"
   },
   {
    "duration": 39,
    "start_time": "2022-03-28T10:00:06.235Z"
   },
   {
    "duration": 4,
    "start_time": "2022-03-28T10:00:06.276Z"
   },
   {
    "duration": 13,
    "start_time": "2022-03-28T10:00:06.282Z"
   },
   {
    "duration": 6,
    "start_time": "2022-03-28T10:00:06.297Z"
   },
   {
    "duration": 474,
    "start_time": "2022-03-28T10:00:06.308Z"
   },
   {
    "duration": 921,
    "start_time": "2022-03-28T10:00:06.876Z"
   },
   {
    "duration": 5162,
    "start_time": "2022-03-28T10:00:07.799Z"
   },
   {
    "duration": 10,
    "start_time": "2022-03-28T10:00:12.964Z"
   },
   {
    "duration": 9,
    "start_time": "2022-03-28T10:00:12.977Z"
   },
   {
    "duration": 585,
    "start_time": "2022-03-28T10:00:12.989Z"
   },
   {
    "duration": 1484,
    "start_time": "2022-03-28T10:00:13.577Z"
   },
   {
    "duration": 8623,
    "start_time": "2022-03-28T10:00:15.063Z"
   },
   {
    "duration": 5,
    "start_time": "2022-03-28T10:00:23.689Z"
   },
   {
    "duration": 6,
    "start_time": "2022-03-28T10:00:23.696Z"
   },
   {
    "duration": 8,
    "start_time": "2022-03-28T10:00:23.703Z"
   },
   {
    "duration": 7,
    "start_time": "2022-03-28T10:00:23.713Z"
   },
   {
    "duration": 57,
    "start_time": "2022-03-28T10:00:23.722Z"
   },
   {
    "duration": 92,
    "start_time": "2022-03-28T10:00:23.782Z"
   },
   {
    "duration": 4,
    "start_time": "2022-03-28T10:00:23.877Z"
   },
   {
    "duration": 101,
    "start_time": "2022-03-28T10:00:23.883Z"
   },
   {
    "duration": 187,
    "start_time": "2022-03-28T10:00:23.987Z"
   },
   {
    "duration": 7,
    "start_time": "2022-03-28T10:00:24.177Z"
   },
   {
    "duration": 4,
    "start_time": "2022-03-28T10:03:02.534Z"
   },
   {
    "duration": 5,
    "start_time": "2022-03-28T10:04:03.956Z"
   },
   {
    "duration": 7,
    "start_time": "2022-03-28T10:04:03.964Z"
   },
   {
    "duration": 816,
    "start_time": "2022-03-28T10:04:03.973Z"
   },
   {
    "duration": 25,
    "start_time": "2022-03-28T10:04:04.793Z"
   },
   {
    "duration": 32,
    "start_time": "2022-03-28T10:04:04.820Z"
   },
   {
    "duration": 25,
    "start_time": "2022-03-28T10:04:04.874Z"
   },
   {
    "duration": 33,
    "start_time": "2022-03-28T10:04:04.901Z"
   },
   {
    "duration": 7,
    "start_time": "2022-03-28T10:04:04.936Z"
   },
   {
    "duration": 5,
    "start_time": "2022-03-28T10:04:04.974Z"
   },
   {
    "duration": 8,
    "start_time": "2022-03-28T10:04:04.982Z"
   },
   {
    "duration": 15,
    "start_time": "2022-03-28T10:04:04.993Z"
   },
   {
    "duration": 13,
    "start_time": "2022-03-28T10:04:05.010Z"
   },
   {
    "duration": 11,
    "start_time": "2022-03-28T10:04:05.073Z"
   },
   {
    "duration": 6,
    "start_time": "2022-03-28T10:04:05.088Z"
   },
   {
    "duration": 10,
    "start_time": "2022-03-28T10:04:05.096Z"
   },
   {
    "duration": 9,
    "start_time": "2022-03-28T10:04:05.108Z"
   },
   {
    "duration": 8,
    "start_time": "2022-03-28T10:04:05.120Z"
   },
   {
    "duration": 44,
    "start_time": "2022-03-28T10:04:05.130Z"
   },
   {
    "duration": 39,
    "start_time": "2022-03-28T10:04:05.176Z"
   },
   {
    "duration": 13,
    "start_time": "2022-03-28T10:04:05.217Z"
   },
   {
    "duration": 6,
    "start_time": "2022-03-28T10:04:05.232Z"
   },
   {
    "duration": 1363,
    "start_time": "2022-03-28T10:04:05.273Z"
   },
   {
    "duration": 1702,
    "start_time": "2022-03-28T10:04:06.638Z"
   },
   {
    "duration": 1213,
    "start_time": "2022-03-28T10:04:08.346Z"
   },
   {
    "duration": 1587,
    "start_time": "2022-03-28T10:04:09.561Z"
   },
   {
    "duration": 710,
    "start_time": "2022-03-28T10:04:11.150Z"
   },
   {
    "duration": 12,
    "start_time": "2022-03-28T10:04:11.862Z"
   },
   {
    "duration": 8,
    "start_time": "2022-03-28T10:04:11.876Z"
   },
   {
    "duration": 5,
    "start_time": "2022-03-28T10:04:11.887Z"
   },
   {
    "duration": 6,
    "start_time": "2022-03-28T10:04:11.894Z"
   },
   {
    "duration": 1717,
    "start_time": "2022-03-28T10:04:11.902Z"
   },
   {
    "duration": 15,
    "start_time": "2022-03-28T10:04:13.622Z"
   },
   {
    "duration": 12,
    "start_time": "2022-03-28T10:04:13.639Z"
   },
   {
    "duration": 12,
    "start_time": "2022-03-28T10:04:13.674Z"
   },
   {
    "duration": 13,
    "start_time": "2022-03-28T10:04:13.688Z"
   },
   {
    "duration": 8,
    "start_time": "2022-03-28T10:04:13.703Z"
   },
   {
    "duration": 12,
    "start_time": "2022-03-28T10:04:13.714Z"
   },
   {
    "duration": 6,
    "start_time": "2022-03-28T10:04:13.728Z"
   },
   {
    "duration": 39,
    "start_time": "2022-03-28T10:04:13.736Z"
   },
   {
    "duration": 5,
    "start_time": "2022-03-28T10:04:13.778Z"
   },
   {
    "duration": 8,
    "start_time": "2022-03-28T10:04:13.785Z"
   },
   {
    "duration": 6,
    "start_time": "2022-03-28T10:04:13.795Z"
   },
   {
    "duration": 487,
    "start_time": "2022-03-28T10:04:13.804Z"
   },
   {
    "duration": 969,
    "start_time": "2022-03-28T10:04:14.376Z"
   },
   {
    "duration": 5312,
    "start_time": "2022-03-28T10:04:15.347Z"
   },
   {
    "duration": 15,
    "start_time": "2022-03-28T10:04:20.661Z"
   },
   {
    "duration": 9,
    "start_time": "2022-03-28T10:04:20.678Z"
   },
   {
    "duration": 884,
    "start_time": "2022-03-28T10:04:20.690Z"
   },
   {
    "duration": 1514,
    "start_time": "2022-03-28T10:04:21.578Z"
   },
   {
    "duration": 8734,
    "start_time": "2022-03-28T10:04:23.094Z"
   },
   {
    "duration": 7,
    "start_time": "2022-03-28T10:04:31.830Z"
   },
   {
    "duration": 8,
    "start_time": "2022-03-28T10:04:31.839Z"
   },
   {
    "duration": 25,
    "start_time": "2022-03-28T10:04:31.849Z"
   },
   {
    "duration": 5,
    "start_time": "2022-03-28T10:04:31.877Z"
   },
   {
    "duration": 17,
    "start_time": "2022-03-28T10:04:31.884Z"
   },
   {
    "duration": 98,
    "start_time": "2022-03-28T10:04:31.976Z"
   },
   {
    "duration": 4,
    "start_time": "2022-03-28T10:04:32.077Z"
   },
   {
    "duration": 191,
    "start_time": "2022-03-28T10:04:32.083Z"
   },
   {
    "duration": 6,
    "start_time": "2022-03-28T10:04:32.277Z"
   },
   {
    "duration": 7,
    "start_time": "2022-03-28T10:04:32.285Z"
   },
   {
    "duration": 6,
    "start_time": "2022-03-28T10:05:22.985Z"
   },
   {
    "duration": 8,
    "start_time": "2022-03-28T10:05:22.994Z"
   },
   {
    "duration": 840,
    "start_time": "2022-03-28T10:05:23.004Z"
   },
   {
    "duration": 33,
    "start_time": "2022-03-28T10:05:23.848Z"
   },
   {
    "duration": 25,
    "start_time": "2022-03-28T10:05:23.884Z"
   },
   {
    "duration": 24,
    "start_time": "2022-03-28T10:05:23.911Z"
   },
   {
    "duration": 61,
    "start_time": "2022-03-28T10:05:23.937Z"
   },
   {
    "duration": 6,
    "start_time": "2022-03-28T10:05:24.001Z"
   },
   {
    "duration": 6,
    "start_time": "2022-03-28T10:05:24.013Z"
   },
   {
    "duration": 7,
    "start_time": "2022-03-28T10:05:24.022Z"
   },
   {
    "duration": 50,
    "start_time": "2022-03-28T10:05:24.032Z"
   },
   {
    "duration": 13,
    "start_time": "2022-03-28T10:05:24.085Z"
   },
   {
    "duration": 10,
    "start_time": "2022-03-28T10:05:24.100Z"
   },
   {
    "duration": 6,
    "start_time": "2022-03-28T10:05:24.113Z"
   },
   {
    "duration": 51,
    "start_time": "2022-03-28T10:05:24.122Z"
   },
   {
    "duration": 7,
    "start_time": "2022-03-28T10:05:24.176Z"
   },
   {
    "duration": 6,
    "start_time": "2022-03-28T10:05:24.186Z"
   },
   {
    "duration": 8,
    "start_time": "2022-03-28T10:05:24.195Z"
   },
   {
    "duration": 80,
    "start_time": "2022-03-28T10:05:24.205Z"
   },
   {
    "duration": 15,
    "start_time": "2022-03-28T10:05:24.287Z"
   },
   {
    "duration": 6,
    "start_time": "2022-03-28T10:05:24.304Z"
   },
   {
    "duration": 1361,
    "start_time": "2022-03-28T10:05:24.312Z"
   },
   {
    "duration": 1241,
    "start_time": "2022-03-28T10:05:25.676Z"
   },
   {
    "duration": 1281,
    "start_time": "2022-03-28T10:05:26.925Z"
   },
   {
    "duration": 2159,
    "start_time": "2022-03-28T10:05:28.209Z"
   },
   {
    "duration": 693,
    "start_time": "2022-03-28T10:05:30.374Z"
   },
   {
    "duration": 6,
    "start_time": "2022-03-28T10:05:31.074Z"
   },
   {
    "duration": 9,
    "start_time": "2022-03-28T10:05:31.083Z"
   },
   {
    "duration": 14,
    "start_time": "2022-03-28T10:05:31.095Z"
   },
   {
    "duration": 8,
    "start_time": "2022-03-28T10:05:31.112Z"
   },
   {
    "duration": 1484,
    "start_time": "2022-03-28T10:05:31.122Z"
   },
   {
    "duration": 72,
    "start_time": "2022-03-28T10:05:32.608Z"
   },
   {
    "duration": 13,
    "start_time": "2022-03-28T10:05:32.682Z"
   },
   {
    "duration": 11,
    "start_time": "2022-03-28T10:05:32.698Z"
   },
   {
    "duration": 64,
    "start_time": "2022-03-28T10:05:32.712Z"
   },
   {
    "duration": 7,
    "start_time": "2022-03-28T10:05:32.778Z"
   },
   {
    "duration": 7,
    "start_time": "2022-03-28T10:05:32.787Z"
   },
   {
    "duration": 5,
    "start_time": "2022-03-28T10:05:32.796Z"
   },
   {
    "duration": 5,
    "start_time": "2022-03-28T10:05:32.804Z"
   },
   {
    "duration": 62,
    "start_time": "2022-03-28T10:05:32.811Z"
   },
   {
    "duration": 10,
    "start_time": "2022-03-28T10:05:32.876Z"
   },
   {
    "duration": 5,
    "start_time": "2022-03-28T10:05:32.888Z"
   },
   {
    "duration": 980,
    "start_time": "2022-03-28T10:05:32.895Z"
   },
   {
    "duration": 1636,
    "start_time": "2022-03-28T10:05:33.877Z"
   },
   {
    "duration": 5267,
    "start_time": "2022-03-28T10:05:35.515Z"
   },
   {
    "duration": 6,
    "start_time": "2022-03-28T10:05:40.784Z"
   },
   {
    "duration": 16,
    "start_time": "2022-03-28T10:05:40.792Z"
   },
   {
    "duration": 773,
    "start_time": "2022-03-28T10:05:40.810Z"
   },
   {
    "duration": 1569,
    "start_time": "2022-03-28T10:05:41.675Z"
   },
   {
    "duration": 11009,
    "start_time": "2022-03-28T10:05:43.247Z"
   },
   {
    "duration": 7,
    "start_time": "2022-03-28T10:05:54.258Z"
   },
   {
    "duration": 5,
    "start_time": "2022-03-28T10:05:54.275Z"
   },
   {
    "duration": 9,
    "start_time": "2022-03-28T10:05:54.283Z"
   },
   {
    "duration": 5,
    "start_time": "2022-03-28T10:05:54.295Z"
   },
   {
    "duration": 78,
    "start_time": "2022-03-28T10:05:54.302Z"
   },
   {
    "duration": 6,
    "start_time": "2022-03-28T10:05:54.473Z"
   },
   {
    "duration": 8,
    "start_time": "2022-03-28T10:05:54.481Z"
   },
   {
    "duration": 184,
    "start_time": "2022-03-28T10:05:54.491Z"
   },
   {
    "duration": 5,
    "start_time": "2022-03-28T10:05:54.678Z"
   },
   {
    "duration": 10,
    "start_time": "2022-03-28T10:05:54.685Z"
   },
   {
    "duration": 3,
    "start_time": "2022-03-28T10:06:30.280Z"
   },
   {
    "duration": 5,
    "start_time": "2022-03-28T10:06:34.029Z"
   },
   {
    "duration": 7,
    "start_time": "2022-03-28T10:06:34.037Z"
   },
   {
    "duration": 897,
    "start_time": "2022-03-28T10:06:34.046Z"
   },
   {
    "duration": 32,
    "start_time": "2022-03-28T10:06:34.946Z"
   },
   {
    "duration": 24,
    "start_time": "2022-03-28T10:06:34.981Z"
   },
   {
    "duration": 26,
    "start_time": "2022-03-28T10:06:35.007Z"
   },
   {
    "duration": 60,
    "start_time": "2022-03-28T10:06:35.036Z"
   },
   {
    "duration": 6,
    "start_time": "2022-03-28T10:06:35.099Z"
   },
   {
    "duration": 8,
    "start_time": "2022-03-28T10:06:35.108Z"
   },
   {
    "duration": 7,
    "start_time": "2022-03-28T10:06:35.119Z"
   },
   {
    "duration": 55,
    "start_time": "2022-03-28T10:06:35.130Z"
   },
   {
    "duration": 11,
    "start_time": "2022-03-28T10:06:35.187Z"
   },
   {
    "duration": 8,
    "start_time": "2022-03-28T10:06:35.200Z"
   },
   {
    "duration": 7,
    "start_time": "2022-03-28T10:06:35.211Z"
   },
   {
    "duration": 56,
    "start_time": "2022-03-28T10:06:35.221Z"
   },
   {
    "duration": 8,
    "start_time": "2022-03-28T10:06:35.279Z"
   },
   {
    "duration": 6,
    "start_time": "2022-03-28T10:06:35.289Z"
   },
   {
    "duration": 9,
    "start_time": "2022-03-28T10:06:35.297Z"
   },
   {
    "duration": 68,
    "start_time": "2022-03-28T10:06:35.308Z"
   },
   {
    "duration": 15,
    "start_time": "2022-03-28T10:06:35.379Z"
   },
   {
    "duration": 5,
    "start_time": "2022-03-28T10:06:35.397Z"
   },
   {
    "duration": 1296,
    "start_time": "2022-03-28T10:06:35.404Z"
   },
   {
    "duration": 1228,
    "start_time": "2022-03-28T10:06:36.703Z"
   },
   {
    "duration": 1852,
    "start_time": "2022-03-28T10:06:37.933Z"
   },
   {
    "duration": 1615,
    "start_time": "2022-03-28T10:06:39.788Z"
   },
   {
    "duration": 839,
    "start_time": "2022-03-28T10:06:41.405Z"
   },
   {
    "duration": 6,
    "start_time": "2022-03-28T10:06:42.246Z"
   },
   {
    "duration": 7,
    "start_time": "2022-03-28T10:06:42.254Z"
   },
   {
    "duration": 10,
    "start_time": "2022-03-28T10:06:42.267Z"
   },
   {
    "duration": 6,
    "start_time": "2022-03-28T10:06:42.279Z"
   },
   {
    "duration": 1454,
    "start_time": "2022-03-28T10:06:42.287Z"
   },
   {
    "duration": 14,
    "start_time": "2022-03-28T10:06:43.743Z"
   },
   {
    "duration": 24,
    "start_time": "2022-03-28T10:06:43.759Z"
   },
   {
    "duration": 12,
    "start_time": "2022-03-28T10:06:43.786Z"
   },
   {
    "duration": 12,
    "start_time": "2022-03-28T10:06:43.800Z"
   },
   {
    "duration": 8,
    "start_time": "2022-03-28T10:06:43.814Z"
   },
   {
    "duration": 6,
    "start_time": "2022-03-28T10:06:43.824Z"
   },
   {
    "duration": 46,
    "start_time": "2022-03-28T10:06:43.832Z"
   },
   {
    "duration": 5,
    "start_time": "2022-03-28T10:06:43.880Z"
   },
   {
    "duration": 5,
    "start_time": "2022-03-28T10:06:43.888Z"
   },
   {
    "duration": 7,
    "start_time": "2022-03-28T10:06:43.895Z"
   },
   {
    "duration": 5,
    "start_time": "2022-03-28T10:06:43.904Z"
   },
   {
    "duration": 771,
    "start_time": "2022-03-28T10:06:43.911Z"
   },
   {
    "duration": 1007,
    "start_time": "2022-03-28T10:06:44.685Z"
   },
   {
    "duration": 5280,
    "start_time": "2022-03-28T10:06:45.694Z"
   },
   {
    "duration": 7,
    "start_time": "2022-03-28T10:06:50.976Z"
   },
   {
    "duration": 43,
    "start_time": "2022-03-28T10:06:50.985Z"
   },
   {
    "duration": 947,
    "start_time": "2022-03-28T10:06:51.031Z"
   },
   {
    "duration": 1537,
    "start_time": "2022-03-28T10:06:51.982Z"
   },
   {
    "duration": 8570,
    "start_time": "2022-03-28T10:06:53.522Z"
   },
   {
    "duration": 6,
    "start_time": "2022-03-28T10:07:02.094Z"
   },
   {
    "duration": 34,
    "start_time": "2022-03-28T10:07:02.103Z"
   },
   {
    "duration": 27,
    "start_time": "2022-03-28T10:07:02.139Z"
   },
   {
    "duration": 21,
    "start_time": "2022-03-28T10:07:02.168Z"
   },
   {
    "duration": 30,
    "start_time": "2022-03-28T10:07:02.191Z"
   },
   {
    "duration": 103,
    "start_time": "2022-03-28T10:07:02.274Z"
   },
   {
    "duration": 31,
    "start_time": "2022-03-28T10:07:02.380Z"
   },
   {
    "duration": 68,
    "start_time": "2022-03-28T10:07:02.413Z"
   },
   {
    "duration": 105,
    "start_time": "2022-03-28T10:07:02.484Z"
   },
   {
    "duration": 25,
    "start_time": "2022-03-28T10:07:02.591Z"
   },
   {
    "duration": 6,
    "start_time": "2022-03-28T10:11:08.763Z"
   },
   {
    "duration": 12,
    "start_time": "2022-03-28T10:11:08.771Z"
   },
   {
    "duration": 814,
    "start_time": "2022-03-28T10:11:08.786Z"
   },
   {
    "duration": 25,
    "start_time": "2022-03-28T10:11:09.604Z"
   },
   {
    "duration": 41,
    "start_time": "2022-03-28T10:11:09.637Z"
   },
   {
    "duration": 39,
    "start_time": "2022-03-28T10:11:09.681Z"
   },
   {
    "duration": 29,
    "start_time": "2022-03-28T10:11:09.722Z"
   },
   {
    "duration": 22,
    "start_time": "2022-03-28T10:11:09.753Z"
   },
   {
    "duration": 7,
    "start_time": "2022-03-28T10:11:09.779Z"
   },
   {
    "duration": 10,
    "start_time": "2022-03-28T10:11:09.787Z"
   },
   {
    "duration": 15,
    "start_time": "2022-03-28T10:11:09.799Z"
   },
   {
    "duration": 14,
    "start_time": "2022-03-28T10:11:09.816Z"
   },
   {
    "duration": 50,
    "start_time": "2022-03-28T10:11:09.832Z"
   },
   {
    "duration": 8,
    "start_time": "2022-03-28T10:11:09.884Z"
   },
   {
    "duration": 4,
    "start_time": "2022-03-28T10:11:09.894Z"
   },
   {
    "duration": 15,
    "start_time": "2022-03-28T10:11:09.900Z"
   },
   {
    "duration": 16,
    "start_time": "2022-03-28T10:11:09.917Z"
   },
   {
    "duration": 9,
    "start_time": "2022-03-28T10:11:09.935Z"
   },
   {
    "duration": 66,
    "start_time": "2022-03-28T10:11:09.946Z"
   },
   {
    "duration": 14,
    "start_time": "2022-03-28T10:11:10.014Z"
   },
   {
    "duration": 5,
    "start_time": "2022-03-28T10:11:10.031Z"
   },
   {
    "duration": 1304,
    "start_time": "2022-03-28T10:11:10.039Z"
   },
   {
    "duration": 1836,
    "start_time": "2022-03-28T10:11:11.345Z"
   },
   {
    "duration": 1268,
    "start_time": "2022-03-28T10:11:13.189Z"
   },
   {
    "duration": 1626,
    "start_time": "2022-03-28T10:11:14.460Z"
   },
   {
    "duration": 773,
    "start_time": "2022-03-28T10:11:16.090Z"
   },
   {
    "duration": 12,
    "start_time": "2022-03-28T10:11:16.866Z"
   },
   {
    "duration": 8,
    "start_time": "2022-03-28T10:11:16.880Z"
   },
   {
    "duration": 7,
    "start_time": "2022-03-28T10:11:16.890Z"
   },
   {
    "duration": 9,
    "start_time": "2022-03-28T10:11:16.900Z"
   },
   {
    "duration": 1566,
    "start_time": "2022-03-28T10:11:16.912Z"
   },
   {
    "duration": 16,
    "start_time": "2022-03-28T10:11:18.480Z"
   },
   {
    "duration": 19,
    "start_time": "2022-03-28T10:11:18.498Z"
   },
   {
    "duration": 29,
    "start_time": "2022-03-28T10:11:18.519Z"
   },
   {
    "duration": 28,
    "start_time": "2022-03-28T10:11:18.550Z"
   },
   {
    "duration": 22,
    "start_time": "2022-03-28T10:11:18.581Z"
   },
   {
    "duration": 14,
    "start_time": "2022-03-28T10:11:18.606Z"
   },
   {
    "duration": 23,
    "start_time": "2022-03-28T10:11:18.622Z"
   },
   {
    "duration": 9,
    "start_time": "2022-03-28T10:11:18.648Z"
   },
   {
    "duration": 25,
    "start_time": "2022-03-28T10:11:18.659Z"
   },
   {
    "duration": 22,
    "start_time": "2022-03-28T10:11:18.686Z"
   },
   {
    "duration": 17,
    "start_time": "2022-03-28T10:11:18.711Z"
   },
   {
    "duration": 552,
    "start_time": "2022-03-28T10:11:18.730Z"
   },
   {
    "duration": 924,
    "start_time": "2022-03-28T10:11:23.274Z"
   },
   {
    "duration": 1775,
    "start_time": "2022-03-28T10:14:35.395Z"
   },
   {
    "duration": 841,
    "start_time": "2022-03-28T10:18:22.588Z"
   },
   {
    "duration": 101,
    "start_time": "2022-03-28T10:20:47.567Z"
   },
   {
    "duration": 116,
    "start_time": "2022-03-28T10:21:02.560Z"
   },
   {
    "duration": 6,
    "start_time": "2022-03-28T10:21:24.163Z"
   },
   {
    "duration": 8,
    "start_time": "2022-03-28T10:21:24.173Z"
   },
   {
    "duration": 883,
    "start_time": "2022-03-28T10:21:24.183Z"
   },
   {
    "duration": 24,
    "start_time": "2022-03-28T10:21:25.070Z"
   },
   {
    "duration": 30,
    "start_time": "2022-03-28T10:21:25.097Z"
   },
   {
    "duration": 55,
    "start_time": "2022-03-28T10:21:25.130Z"
   },
   {
    "duration": 24,
    "start_time": "2022-03-28T10:21:25.187Z"
   },
   {
    "duration": 5,
    "start_time": "2022-03-28T10:21:25.214Z"
   },
   {
    "duration": 5,
    "start_time": "2022-03-28T10:21:25.223Z"
   },
   {
    "duration": 45,
    "start_time": "2022-03-28T10:21:25.230Z"
   },
   {
    "duration": 13,
    "start_time": "2022-03-28T10:21:25.277Z"
   },
   {
    "duration": 13,
    "start_time": "2022-03-28T10:21:25.292Z"
   },
   {
    "duration": 10,
    "start_time": "2022-03-28T10:21:25.307Z"
   },
   {
    "duration": 6,
    "start_time": "2022-03-28T10:21:25.319Z"
   },
   {
    "duration": 50,
    "start_time": "2022-03-28T10:21:25.326Z"
   },
   {
    "duration": 9,
    "start_time": "2022-03-28T10:21:25.378Z"
   },
   {
    "duration": 8,
    "start_time": "2022-03-28T10:21:25.389Z"
   },
   {
    "duration": 10,
    "start_time": "2022-03-28T10:21:25.399Z"
   },
   {
    "duration": 71,
    "start_time": "2022-03-28T10:21:25.411Z"
   },
   {
    "duration": 14,
    "start_time": "2022-03-28T10:21:25.484Z"
   },
   {
    "duration": 10,
    "start_time": "2022-03-28T10:21:25.500Z"
   },
   {
    "duration": 2044,
    "start_time": "2022-03-28T10:21:25.512Z"
   },
   {
    "duration": 1268,
    "start_time": "2022-03-28T10:21:27.559Z"
   },
   {
    "duration": 1280,
    "start_time": "2022-03-28T10:21:28.832Z"
   },
   {
    "duration": 1721,
    "start_time": "2022-03-28T10:21:30.114Z"
   },
   {
    "duration": 818,
    "start_time": "2022-03-28T10:21:31.838Z"
   },
   {
    "duration": 19,
    "start_time": "2022-03-28T10:21:32.659Z"
   },
   {
    "duration": 17,
    "start_time": "2022-03-28T10:21:32.680Z"
   },
   {
    "duration": 11,
    "start_time": "2022-03-28T10:21:32.700Z"
   },
   {
    "duration": 17,
    "start_time": "2022-03-28T10:21:32.713Z"
   },
   {
    "duration": 1304,
    "start_time": "2022-03-28T10:21:32.732Z"
   },
   {
    "duration": 18,
    "start_time": "2022-03-28T10:21:34.039Z"
   },
   {
    "duration": 25,
    "start_time": "2022-03-28T10:21:34.060Z"
   },
   {
    "duration": 26,
    "start_time": "2022-03-28T10:21:34.088Z"
   },
   {
    "duration": 30,
    "start_time": "2022-03-28T10:21:34.117Z"
   },
   {
    "duration": 15,
    "start_time": "2022-03-28T10:21:34.149Z"
   },
   {
    "duration": 16,
    "start_time": "2022-03-28T10:21:34.166Z"
   },
   {
    "duration": 17,
    "start_time": "2022-03-28T10:21:34.185Z"
   },
   {
    "duration": 23,
    "start_time": "2022-03-28T10:21:34.205Z"
   },
   {
    "duration": 16,
    "start_time": "2022-03-28T10:21:34.231Z"
   },
   {
    "duration": 26,
    "start_time": "2022-03-28T10:21:34.249Z"
   },
   {
    "duration": 21,
    "start_time": "2022-03-28T10:21:34.278Z"
   },
   {
    "duration": 676,
    "start_time": "2022-03-28T10:21:34.301Z"
   },
   {
    "duration": 1087,
    "start_time": "2022-03-28T10:21:34.981Z"
   },
   {
    "duration": 150,
    "start_time": "2022-03-28T10:21:36.073Z"
   },
   {
    "duration": 106,
    "start_time": "2022-03-28T10:21:59.235Z"
   },
   {
    "duration": 3,
    "start_time": "2022-03-28T10:22:14.389Z"
   },
   {
    "duration": 4,
    "start_time": "2022-03-28T10:22:32.186Z"
   },
   {
    "duration": 134,
    "start_time": "2022-03-28T10:22:34.809Z"
   },
   {
    "duration": 4,
    "start_time": "2022-03-28T10:23:33.630Z"
   },
   {
    "duration": 104,
    "start_time": "2022-03-28T10:23:34.661Z"
   },
   {
    "duration": 4,
    "start_time": "2022-03-28T10:23:45.573Z"
   },
   {
    "duration": 89,
    "start_time": "2022-03-28T10:24:46.821Z"
   },
   {
    "duration": 94,
    "start_time": "2022-03-28T10:24:58.227Z"
   },
   {
    "duration": 144,
    "start_time": "2022-03-28T10:25:24.670Z"
   },
   {
    "duration": 4,
    "start_time": "2022-03-28T10:25:31.566Z"
   },
   {
    "duration": 87,
    "start_time": "2022-03-28T10:25:32.911Z"
   },
   {
    "duration": 320,
    "start_time": "2022-03-28T10:25:50.951Z"
   },
   {
    "duration": 83,
    "start_time": "2022-03-28T10:25:59.898Z"
   },
   {
    "duration": 87,
    "start_time": "2022-03-28T10:26:06.430Z"
   },
   {
    "duration": 482,
    "start_time": "2022-03-28T10:26:18.370Z"
   },
   {
    "duration": 318,
    "start_time": "2022-03-28T10:26:23.756Z"
   },
   {
    "duration": 539,
    "start_time": "2022-03-28T10:26:54.252Z"
   },
   {
    "duration": 352,
    "start_time": "2022-03-28T10:27:06.247Z"
   },
   {
    "duration": 1036,
    "start_time": "2022-03-28T10:27:24.218Z"
   },
   {
    "duration": 6,
    "start_time": "2022-03-28T10:27:47.790Z"
   },
   {
    "duration": 9,
    "start_time": "2022-03-28T10:27:47.799Z"
   },
   {
    "duration": 845,
    "start_time": "2022-03-28T10:27:47.810Z"
   },
   {
    "duration": 32,
    "start_time": "2022-03-28T10:27:48.658Z"
   },
   {
    "duration": 28,
    "start_time": "2022-03-28T10:27:48.692Z"
   },
   {
    "duration": 55,
    "start_time": "2022-03-28T10:27:48.722Z"
   },
   {
    "duration": 27,
    "start_time": "2022-03-28T10:27:48.780Z"
   },
   {
    "duration": 7,
    "start_time": "2022-03-28T10:27:48.809Z"
   },
   {
    "duration": 8,
    "start_time": "2022-03-28T10:27:48.819Z"
   },
   {
    "duration": 45,
    "start_time": "2022-03-28T10:27:48.830Z"
   },
   {
    "duration": 14,
    "start_time": "2022-03-28T10:27:48.879Z"
   },
   {
    "duration": 13,
    "start_time": "2022-03-28T10:27:48.896Z"
   },
   {
    "duration": 10,
    "start_time": "2022-03-28T10:27:48.912Z"
   },
   {
    "duration": 51,
    "start_time": "2022-03-28T10:27:48.924Z"
   },
   {
    "duration": 5,
    "start_time": "2022-03-28T10:27:48.977Z"
   },
   {
    "duration": 9,
    "start_time": "2022-03-28T10:27:48.984Z"
   },
   {
    "duration": 6,
    "start_time": "2022-03-28T10:27:48.995Z"
   },
   {
    "duration": 12,
    "start_time": "2022-03-28T10:27:49.003Z"
   },
   {
    "duration": 104,
    "start_time": "2022-03-28T10:27:49.017Z"
   },
   {
    "duration": 20,
    "start_time": "2022-03-28T10:27:49.125Z"
   },
   {
    "duration": 28,
    "start_time": "2022-03-28T10:27:49.148Z"
   },
   {
    "duration": 2684,
    "start_time": "2022-03-28T10:27:49.179Z"
   },
   {
    "duration": 1800,
    "start_time": "2022-03-28T10:27:51.874Z"
   },
   {
    "duration": 1347,
    "start_time": "2022-03-28T10:27:53.680Z"
   },
   {
    "duration": 1641,
    "start_time": "2022-03-28T10:27:55.029Z"
   },
   {
    "duration": 737,
    "start_time": "2022-03-28T10:27:56.674Z"
   },
   {
    "duration": 6,
    "start_time": "2022-03-28T10:27:57.414Z"
   },
   {
    "duration": 9,
    "start_time": "2022-03-28T10:27:57.422Z"
   },
   {
    "duration": 8,
    "start_time": "2022-03-28T10:27:57.433Z"
   },
   {
    "duration": 31,
    "start_time": "2022-03-28T10:27:57.443Z"
   },
   {
    "duration": 1248,
    "start_time": "2022-03-28T10:27:57.476Z"
   },
   {
    "duration": 16,
    "start_time": "2022-03-28T10:27:58.726Z"
   },
   {
    "duration": 37,
    "start_time": "2022-03-28T10:27:58.745Z"
   },
   {
    "duration": 12,
    "start_time": "2022-03-28T10:27:58.784Z"
   },
   {
    "duration": 13,
    "start_time": "2022-03-28T10:27:58.798Z"
   },
   {
    "duration": 7,
    "start_time": "2022-03-28T10:27:58.814Z"
   },
   {
    "duration": 8,
    "start_time": "2022-03-28T10:27:58.823Z"
   },
   {
    "duration": 42,
    "start_time": "2022-03-28T10:27:58.833Z"
   },
   {
    "duration": 6,
    "start_time": "2022-03-28T10:27:58.877Z"
   },
   {
    "duration": 6,
    "start_time": "2022-03-28T10:27:58.885Z"
   },
   {
    "duration": 7,
    "start_time": "2022-03-28T10:27:58.894Z"
   },
   {
    "duration": 9,
    "start_time": "2022-03-28T10:27:58.903Z"
   },
   {
    "duration": 462,
    "start_time": "2022-03-28T10:27:58.915Z"
   },
   {
    "duration": 1405,
    "start_time": "2022-03-28T10:27:59.380Z"
   },
   {
    "duration": 951,
    "start_time": "2022-03-28T10:28:00.788Z"
   },
   {
    "duration": 5355,
    "start_time": "2022-03-28T10:28:01.741Z"
   },
   {
    "duration": 6,
    "start_time": "2022-03-28T10:28:07.098Z"
   },
   {
    "duration": 15,
    "start_time": "2022-03-28T10:28:07.107Z"
   },
   {
    "duration": 954,
    "start_time": "2022-03-28T10:28:07.125Z"
   },
   {
    "duration": 1578,
    "start_time": "2022-03-28T10:28:08.084Z"
   },
   {
    "duration": 9712,
    "start_time": "2022-03-28T10:28:09.664Z"
   },
   {
    "duration": 6,
    "start_time": "2022-03-28T10:28:19.379Z"
   },
   {
    "duration": 10,
    "start_time": "2022-03-28T10:28:19.387Z"
   },
   {
    "duration": 8,
    "start_time": "2022-03-28T10:28:19.399Z"
   },
   {
    "duration": 6,
    "start_time": "2022-03-28T10:28:19.409Z"
   },
   {
    "duration": 171,
    "start_time": "2022-03-28T10:28:19.417Z"
   },
   {
    "duration": 9,
    "start_time": "2022-03-28T10:28:19.591Z"
   },
   {
    "duration": 5,
    "start_time": "2022-03-28T10:28:19.673Z"
   },
   {
    "duration": 202,
    "start_time": "2022-03-28T10:28:19.681Z"
   },
   {
    "duration": 6,
    "start_time": "2022-03-28T10:28:19.886Z"
   },
   {
    "duration": 79,
    "start_time": "2022-03-28T10:28:19.895Z"
   },
   {
    "duration": 5,
    "start_time": "2022-03-28T10:30:58.204Z"
   },
   {
    "duration": 5,
    "start_time": "2022-03-28T10:30:58.213Z"
   },
   {
    "duration": 1144,
    "start_time": "2022-03-28T10:30:58.220Z"
   },
   {
    "duration": 37,
    "start_time": "2022-03-28T10:30:59.367Z"
   },
   {
    "duration": 33,
    "start_time": "2022-03-28T10:30:59.407Z"
   },
   {
    "duration": 51,
    "start_time": "2022-03-28T10:30:59.443Z"
   },
   {
    "duration": 30,
    "start_time": "2022-03-28T10:30:59.496Z"
   },
   {
    "duration": 5,
    "start_time": "2022-03-28T10:30:59.529Z"
   },
   {
    "duration": 12,
    "start_time": "2022-03-28T10:30:59.536Z"
   },
   {
    "duration": 7,
    "start_time": "2022-03-28T10:30:59.575Z"
   },
   {
    "duration": 19,
    "start_time": "2022-03-28T10:30:59.585Z"
   },
   {
    "duration": 14,
    "start_time": "2022-03-28T10:30:59.609Z"
   },
   {
    "duration": 9,
    "start_time": "2022-03-28T10:30:59.626Z"
   },
   {
    "duration": 41,
    "start_time": "2022-03-28T10:30:59.637Z"
   },
   {
    "duration": 4,
    "start_time": "2022-03-28T10:30:59.681Z"
   },
   {
    "duration": 10,
    "start_time": "2022-03-28T10:30:59.687Z"
   },
   {
    "duration": 6,
    "start_time": "2022-03-28T10:30:59.700Z"
   },
   {
    "duration": 11,
    "start_time": "2022-03-28T10:30:59.709Z"
   },
   {
    "duration": 100,
    "start_time": "2022-03-28T10:30:59.722Z"
   },
   {
    "duration": 19,
    "start_time": "2022-03-28T10:30:59.825Z"
   },
   {
    "duration": 7,
    "start_time": "2022-03-28T10:30:59.846Z"
   },
   {
    "duration": 3361,
    "start_time": "2022-03-28T10:30:59.875Z"
   },
   {
    "duration": 1908,
    "start_time": "2022-03-28T10:31:03.238Z"
   },
   {
    "duration": 1927,
    "start_time": "2022-03-28T10:31:05.149Z"
   },
   {
    "duration": 2478,
    "start_time": "2022-03-28T10:31:07.079Z"
   },
   {
    "duration": 723,
    "start_time": "2022-03-28T10:31:09.559Z"
   },
   {
    "duration": 6,
    "start_time": "2022-03-28T10:31:10.284Z"
   },
   {
    "duration": 8,
    "start_time": "2022-03-28T10:31:10.292Z"
   },
   {
    "duration": 7,
    "start_time": "2022-03-28T10:31:10.302Z"
   },
   {
    "duration": 6,
    "start_time": "2022-03-28T10:31:10.316Z"
   },
   {
    "duration": 1286,
    "start_time": "2022-03-28T10:31:10.324Z"
   },
   {
    "duration": 18,
    "start_time": "2022-03-28T10:31:11.612Z"
   },
   {
    "duration": 14,
    "start_time": "2022-03-28T10:31:11.632Z"
   },
   {
    "duration": 39,
    "start_time": "2022-03-28T10:31:11.648Z"
   },
   {
    "duration": 19,
    "start_time": "2022-03-28T10:31:11.690Z"
   },
   {
    "duration": 24,
    "start_time": "2022-03-28T10:31:11.711Z"
   },
   {
    "duration": 13,
    "start_time": "2022-03-28T10:31:11.738Z"
   },
   {
    "duration": 21,
    "start_time": "2022-03-28T10:31:11.753Z"
   },
   {
    "duration": 7,
    "start_time": "2022-03-28T10:31:11.776Z"
   },
   {
    "duration": 6,
    "start_time": "2022-03-28T10:31:11.786Z"
   },
   {
    "duration": 8,
    "start_time": "2022-03-28T10:31:11.794Z"
   },
   {
    "duration": 7,
    "start_time": "2022-03-28T10:31:11.805Z"
   },
   {
    "duration": 961,
    "start_time": "2022-03-28T10:31:11.815Z"
   },
   {
    "duration": 986,
    "start_time": "2022-03-28T10:31:12.779Z"
   },
   {
    "duration": 5835,
    "start_time": "2022-03-28T10:31:13.775Z"
   },
   {
    "duration": 7,
    "start_time": "2022-03-28T10:31:19.612Z"
   },
   {
    "duration": 9,
    "start_time": "2022-03-28T10:31:19.622Z"
   },
   {
    "duration": 943,
    "start_time": "2022-03-28T10:31:19.634Z"
   },
   {
    "duration": 1663,
    "start_time": "2022-03-28T10:31:20.581Z"
   },
   {
    "duration": 9118,
    "start_time": "2022-03-28T10:31:22.246Z"
   },
   {
    "duration": 8,
    "start_time": "2022-03-28T10:31:31.375Z"
   },
   {
    "duration": 6,
    "start_time": "2022-03-28T10:31:31.385Z"
   },
   {
    "duration": 8,
    "start_time": "2022-03-28T10:31:31.393Z"
   },
   {
    "duration": 10,
    "start_time": "2022-03-28T10:31:31.404Z"
   },
   {
    "duration": 160,
    "start_time": "2022-03-28T10:31:31.416Z"
   },
   {
    "duration": 7,
    "start_time": "2022-03-28T10:31:31.578Z"
   },
   {
    "duration": 10,
    "start_time": "2022-03-28T10:31:31.588Z"
   },
   {
    "duration": 85,
    "start_time": "2022-03-28T10:31:31.601Z"
   },
   {
    "duration": 99,
    "start_time": "2022-03-28T10:31:31.775Z"
   },
   {
    "duration": 6,
    "start_time": "2022-03-28T10:31:31.877Z"
   },
   {
    "duration": 6,
    "start_time": "2022-03-28T11:10:23.851Z"
   },
   {
    "duration": 9,
    "start_time": "2022-03-28T11:10:23.860Z"
   },
   {
    "duration": 858,
    "start_time": "2022-03-28T11:10:23.871Z"
   },
   {
    "duration": 25,
    "start_time": "2022-03-28T11:10:24.732Z"
   },
   {
    "duration": 31,
    "start_time": "2022-03-28T11:10:24.774Z"
   },
   {
    "duration": 30,
    "start_time": "2022-03-28T11:10:24.808Z"
   },
   {
    "duration": 53,
    "start_time": "2022-03-28T11:10:24.841Z"
   },
   {
    "duration": 7,
    "start_time": "2022-03-28T11:10:24.897Z"
   },
   {
    "duration": 5,
    "start_time": "2022-03-28T11:10:24.910Z"
   },
   {
    "duration": 10,
    "start_time": "2022-03-28T11:10:24.918Z"
   },
   {
    "duration": 54,
    "start_time": "2022-03-28T11:10:24.930Z"
   },
   {
    "duration": 13,
    "start_time": "2022-03-28T11:10:24.986Z"
   },
   {
    "duration": 8,
    "start_time": "2022-03-28T11:10:25.001Z"
   },
   {
    "duration": 6,
    "start_time": "2022-03-28T11:10:25.012Z"
   },
   {
    "duration": 54,
    "start_time": "2022-03-28T11:10:25.020Z"
   },
   {
    "duration": 13,
    "start_time": "2022-03-28T11:10:25.077Z"
   },
   {
    "duration": 8,
    "start_time": "2022-03-28T11:10:25.093Z"
   },
   {
    "duration": 10,
    "start_time": "2022-03-28T11:10:25.103Z"
   },
   {
    "duration": 63,
    "start_time": "2022-03-28T11:10:25.115Z"
   },
   {
    "duration": 15,
    "start_time": "2022-03-28T11:10:25.181Z"
   },
   {
    "duration": 6,
    "start_time": "2022-03-28T11:10:25.198Z"
   },
   {
    "duration": 2220,
    "start_time": "2022-03-28T11:10:25.206Z"
   },
   {
    "duration": 1258,
    "start_time": "2022-03-28T11:10:27.431Z"
   },
   {
    "duration": 1279,
    "start_time": "2022-03-28T11:10:28.695Z"
   },
   {
    "duration": 1774,
    "start_time": "2022-03-28T11:10:29.977Z"
   },
   {
    "duration": 708,
    "start_time": "2022-03-28T11:10:31.753Z"
   },
   {
    "duration": 14,
    "start_time": "2022-03-28T11:10:32.463Z"
   },
   {
    "duration": 10,
    "start_time": "2022-03-28T11:10:32.479Z"
   },
   {
    "duration": 6,
    "start_time": "2022-03-28T11:10:32.491Z"
   },
   {
    "duration": 5,
    "start_time": "2022-03-28T11:10:32.499Z"
   },
   {
    "duration": 1260,
    "start_time": "2022-03-28T11:10:32.507Z"
   },
   {
    "duration": 17,
    "start_time": "2022-03-28T11:10:33.773Z"
   },
   {
    "duration": 14,
    "start_time": "2022-03-28T11:10:33.792Z"
   },
   {
    "duration": 15,
    "start_time": "2022-03-28T11:10:33.809Z"
   },
   {
    "duration": 11,
    "start_time": "2022-03-28T11:10:33.827Z"
   },
   {
    "duration": 35,
    "start_time": "2022-03-28T11:10:33.841Z"
   },
   {
    "duration": 9,
    "start_time": "2022-03-28T11:10:33.878Z"
   },
   {
    "duration": 6,
    "start_time": "2022-03-28T11:10:33.889Z"
   },
   {
    "duration": 5,
    "start_time": "2022-03-28T11:10:33.897Z"
   },
   {
    "duration": 8,
    "start_time": "2022-03-28T11:10:33.905Z"
   },
   {
    "duration": 8,
    "start_time": "2022-03-28T11:10:33.915Z"
   },
   {
    "duration": 5,
    "start_time": "2022-03-28T11:10:33.926Z"
   },
   {
    "duration": 452,
    "start_time": "2022-03-28T11:10:33.933Z"
   },
   {
    "duration": 946,
    "start_time": "2022-03-28T11:10:34.478Z"
   },
   {
    "duration": 5330,
    "start_time": "2022-03-28T11:10:35.427Z"
   },
   {
    "duration": 16,
    "start_time": "2022-03-28T11:10:40.759Z"
   },
   {
    "duration": 24,
    "start_time": "2022-03-28T11:10:40.777Z"
   },
   {
    "duration": 478,
    "start_time": "2022-03-28T11:10:40.803Z"
   },
   {
    "duration": 1938,
    "start_time": "2022-03-28T11:10:41.284Z"
   },
   {
    "duration": 8996,
    "start_time": "2022-03-28T11:10:43.224Z"
   },
   {
    "duration": 7,
    "start_time": "2022-03-28T11:10:52.223Z"
   },
   {
    "duration": 9,
    "start_time": "2022-03-28T11:10:52.233Z"
   },
   {
    "duration": 34,
    "start_time": "2022-03-28T11:10:52.244Z"
   },
   {
    "duration": 8,
    "start_time": "2022-03-28T11:10:52.281Z"
   },
   {
    "duration": 85,
    "start_time": "2022-03-28T11:10:52.291Z"
   },
   {
    "duration": 97,
    "start_time": "2022-03-28T11:10:52.379Z"
   },
   {
    "duration": 8,
    "start_time": "2022-03-28T11:10:52.478Z"
   },
   {
    "duration": 89,
    "start_time": "2022-03-28T11:10:52.489Z"
   },
   {
    "duration": 94,
    "start_time": "2022-03-28T11:10:52.582Z"
   },
   {
    "duration": 6,
    "start_time": "2022-03-28T11:10:52.679Z"
   },
   {
    "duration": 4,
    "start_time": "2022-03-28T11:11:31.319Z"
   },
   {
    "duration": 5,
    "start_time": "2022-03-28T11:11:34.259Z"
   },
   {
    "duration": 33,
    "start_time": "2022-03-28T11:11:34.267Z"
   },
   {
    "duration": 856,
    "start_time": "2022-03-28T11:11:34.303Z"
   },
   {
    "duration": 29,
    "start_time": "2022-03-28T11:11:35.162Z"
   },
   {
    "duration": 24,
    "start_time": "2022-03-28T11:11:35.193Z"
   },
   {
    "duration": 25,
    "start_time": "2022-03-28T11:11:35.219Z"
   },
   {
    "duration": 25,
    "start_time": "2022-03-28T11:11:35.274Z"
   },
   {
    "duration": 6,
    "start_time": "2022-03-28T11:11:35.301Z"
   },
   {
    "duration": 5,
    "start_time": "2022-03-28T11:11:35.311Z"
   },
   {
    "duration": 5,
    "start_time": "2022-03-28T11:11:35.318Z"
   },
   {
    "duration": 59,
    "start_time": "2022-03-28T11:11:35.325Z"
   },
   {
    "duration": 11,
    "start_time": "2022-03-28T11:11:35.387Z"
   },
   {
    "duration": 8,
    "start_time": "2022-03-28T11:11:35.400Z"
   },
   {
    "duration": 6,
    "start_time": "2022-03-28T11:11:35.410Z"
   },
   {
    "duration": 6,
    "start_time": "2022-03-28T11:11:35.418Z"
   },
   {
    "duration": 47,
    "start_time": "2022-03-28T11:11:35.427Z"
   },
   {
    "duration": 8,
    "start_time": "2022-03-28T11:11:35.476Z"
   },
   {
    "duration": 10,
    "start_time": "2022-03-28T11:11:35.486Z"
   },
   {
    "duration": 41,
    "start_time": "2022-03-28T11:11:35.499Z"
   },
   {
    "duration": 43,
    "start_time": "2022-03-28T11:11:35.542Z"
   },
   {
    "duration": 5,
    "start_time": "2022-03-28T11:11:35.587Z"
   },
   {
    "duration": 1344,
    "start_time": "2022-03-28T11:11:35.594Z"
   },
   {
    "duration": 2292,
    "start_time": "2022-03-28T11:11:36.940Z"
   },
   {
    "duration": 1293,
    "start_time": "2022-03-28T11:11:39.238Z"
   },
   {
    "duration": 1794,
    "start_time": "2022-03-28T11:11:40.534Z"
   },
   {
    "duration": 1052,
    "start_time": "2022-03-28T11:11:42.330Z"
   },
   {
    "duration": 6,
    "start_time": "2022-03-28T11:11:43.384Z"
   },
   {
    "duration": 8,
    "start_time": "2022-03-28T11:11:43.392Z"
   },
   {
    "duration": 6,
    "start_time": "2022-03-28T11:11:43.403Z"
   },
   {
    "duration": 9,
    "start_time": "2022-03-28T11:11:43.411Z"
   },
   {
    "duration": 2449,
    "start_time": "2022-03-28T11:11:43.474Z"
   },
   {
    "duration": 14,
    "start_time": "2022-03-28T11:11:45.925Z"
   },
   {
    "duration": 14,
    "start_time": "2022-03-28T11:11:45.942Z"
   },
   {
    "duration": 11,
    "start_time": "2022-03-28T11:11:45.973Z"
   },
   {
    "duration": 11,
    "start_time": "2022-03-28T11:11:45.987Z"
   },
   {
    "duration": 7,
    "start_time": "2022-03-28T11:11:46.001Z"
   },
   {
    "duration": 7,
    "start_time": "2022-03-28T11:11:46.011Z"
   },
   {
    "duration": 5,
    "start_time": "2022-03-28T11:11:46.020Z"
   },
   {
    "duration": 47,
    "start_time": "2022-03-28T11:11:46.027Z"
   },
   {
    "duration": 4,
    "start_time": "2022-03-28T11:11:46.076Z"
   },
   {
    "duration": 8,
    "start_time": "2022-03-28T11:11:46.081Z"
   },
   {
    "duration": 6,
    "start_time": "2022-03-28T11:11:46.091Z"
   },
   {
    "duration": 476,
    "start_time": "2022-03-28T11:11:46.099Z"
   },
   {
    "duration": 972,
    "start_time": "2022-03-28T11:11:46.585Z"
   },
   {
    "duration": 5322,
    "start_time": "2022-03-28T11:11:47.561Z"
   },
   {
    "duration": 8,
    "start_time": "2022-03-28T11:11:52.885Z"
   },
   {
    "duration": 10,
    "start_time": "2022-03-28T11:11:52.896Z"
   },
   {
    "duration": 867,
    "start_time": "2022-03-28T11:11:52.908Z"
   },
   {
    "duration": 1759,
    "start_time": "2022-03-28T11:11:53.778Z"
   },
   {
    "duration": 9123,
    "start_time": "2022-03-28T11:11:55.540Z"
   },
   {
    "duration": 5,
    "start_time": "2022-03-28T11:12:04.673Z"
   },
   {
    "duration": 8,
    "start_time": "2022-03-28T11:12:04.680Z"
   },
   {
    "duration": 6,
    "start_time": "2022-03-28T11:12:04.690Z"
   },
   {
    "duration": 6,
    "start_time": "2022-03-28T11:12:04.698Z"
   },
   {
    "duration": 70,
    "start_time": "2022-03-28T11:12:04.706Z"
   },
   {
    "duration": 95,
    "start_time": "2022-03-28T11:12:04.779Z"
   },
   {
    "duration": 6,
    "start_time": "2022-03-28T11:12:04.877Z"
   },
   {
    "duration": 191,
    "start_time": "2022-03-28T11:12:04.885Z"
   },
   {
    "duration": 6,
    "start_time": "2022-03-28T11:12:05.078Z"
   },
   {
    "duration": 8,
    "start_time": "2022-03-28T11:12:05.087Z"
   },
   {
    "duration": 5,
    "start_time": "2022-03-28T11:12:57.669Z"
   },
   {
    "duration": 18,
    "start_time": "2022-03-28T11:12:57.677Z"
   },
   {
    "duration": 826,
    "start_time": "2022-03-28T11:12:57.698Z"
   },
   {
    "duration": 25,
    "start_time": "2022-03-28T11:12:58.527Z"
   },
   {
    "duration": 46,
    "start_time": "2022-03-28T11:12:58.556Z"
   },
   {
    "duration": 45,
    "start_time": "2022-03-28T11:12:58.604Z"
   },
   {
    "duration": 47,
    "start_time": "2022-03-28T11:12:58.651Z"
   },
   {
    "duration": 7,
    "start_time": "2022-03-28T11:12:58.700Z"
   },
   {
    "duration": 44,
    "start_time": "2022-03-28T11:12:58.709Z"
   },
   {
    "duration": 30,
    "start_time": "2022-03-28T11:12:58.756Z"
   },
   {
    "duration": 28,
    "start_time": "2022-03-28T11:12:58.790Z"
   },
   {
    "duration": 15,
    "start_time": "2022-03-28T11:12:58.820Z"
   },
   {
    "duration": 9,
    "start_time": "2022-03-28T11:12:58.837Z"
   },
   {
    "duration": 12,
    "start_time": "2022-03-28T11:12:58.849Z"
   },
   {
    "duration": 14,
    "start_time": "2022-03-28T11:12:58.864Z"
   },
   {
    "duration": 14,
    "start_time": "2022-03-28T11:12:58.880Z"
   },
   {
    "duration": 6,
    "start_time": "2022-03-28T11:12:58.897Z"
   },
   {
    "duration": 13,
    "start_time": "2022-03-28T11:12:58.905Z"
   },
   {
    "duration": 61,
    "start_time": "2022-03-28T11:12:58.920Z"
   },
   {
    "duration": 17,
    "start_time": "2022-03-28T11:12:58.983Z"
   },
   {
    "duration": 6,
    "start_time": "2022-03-28T11:12:59.002Z"
   },
   {
    "duration": 1293,
    "start_time": "2022-03-28T11:12:59.010Z"
   },
   {
    "duration": 1207,
    "start_time": "2022-03-28T11:13:00.305Z"
   },
   {
    "duration": 1264,
    "start_time": "2022-03-28T11:13:01.514Z"
   },
   {
    "duration": 2598,
    "start_time": "2022-03-28T11:13:02.780Z"
   },
   {
    "duration": 714,
    "start_time": "2022-03-28T11:13:05.380Z"
   },
   {
    "duration": 5,
    "start_time": "2022-03-28T11:13:06.097Z"
   },
   {
    "duration": 7,
    "start_time": "2022-03-28T11:13:06.105Z"
   },
   {
    "duration": 4,
    "start_time": "2022-03-28T11:13:06.120Z"
   },
   {
    "duration": 14,
    "start_time": "2022-03-28T11:13:06.127Z"
   },
   {
    "duration": 1278,
    "start_time": "2022-03-28T11:13:06.144Z"
   },
   {
    "duration": 16,
    "start_time": "2022-03-28T11:13:07.425Z"
   },
   {
    "duration": 33,
    "start_time": "2022-03-28T11:13:07.443Z"
   },
   {
    "duration": 14,
    "start_time": "2022-03-28T11:13:07.479Z"
   },
   {
    "duration": 11,
    "start_time": "2022-03-28T11:13:07.496Z"
   },
   {
    "duration": 7,
    "start_time": "2022-03-28T11:13:07.510Z"
   },
   {
    "duration": 10,
    "start_time": "2022-03-28T11:13:07.519Z"
   },
   {
    "duration": 10,
    "start_time": "2022-03-28T11:13:07.531Z"
   },
   {
    "duration": 4,
    "start_time": "2022-03-28T11:13:07.574Z"
   },
   {
    "duration": 13,
    "start_time": "2022-03-28T11:13:07.579Z"
   },
   {
    "duration": 9,
    "start_time": "2022-03-28T11:13:07.594Z"
   },
   {
    "duration": 10,
    "start_time": "2022-03-28T11:13:07.605Z"
   },
   {
    "duration": 465,
    "start_time": "2022-03-28T11:13:07.617Z"
   },
   {
    "duration": 941,
    "start_time": "2022-03-28T11:13:08.175Z"
   },
   {
    "duration": 5271,
    "start_time": "2022-03-28T11:13:09.119Z"
   },
   {
    "duration": 6,
    "start_time": "2022-03-28T11:13:14.393Z"
   },
   {
    "duration": 19,
    "start_time": "2022-03-28T11:13:14.402Z"
   },
   {
    "duration": 852,
    "start_time": "2022-03-28T11:13:14.423Z"
   },
   {
    "duration": 1512,
    "start_time": "2022-03-28T11:13:15.278Z"
   },
   {
    "duration": 8656,
    "start_time": "2022-03-28T11:13:16.792Z"
   },
   {
    "duration": 6,
    "start_time": "2022-03-28T11:13:25.450Z"
   },
   {
    "duration": 5,
    "start_time": "2022-03-28T11:13:25.474Z"
   },
   {
    "duration": 11,
    "start_time": "2022-03-28T11:13:25.481Z"
   },
   {
    "duration": 7,
    "start_time": "2022-03-28T11:13:25.494Z"
   },
   {
    "duration": 74,
    "start_time": "2022-03-28T11:13:25.503Z"
   },
   {
    "duration": 97,
    "start_time": "2022-03-28T11:13:25.580Z"
   },
   {
    "duration": 9,
    "start_time": "2022-03-28T11:13:25.679Z"
   },
   {
    "duration": 85,
    "start_time": "2022-03-28T11:13:25.690Z"
   },
   {
    "duration": 100,
    "start_time": "2022-03-28T11:13:25.778Z"
   },
   {
    "duration": 7,
    "start_time": "2022-03-28T11:13:25.880Z"
   },
   {
    "duration": 1711,
    "start_time": "2022-03-28T11:19:26.765Z"
   },
   {
    "duration": 1061,
    "start_time": "2022-03-28T11:19:45.653Z"
   },
   {
    "duration": 1824,
    "start_time": "2022-03-28T11:20:01.359Z"
   },
   {
    "duration": 848,
    "start_time": "2022-03-28T11:20:20.405Z"
   },
   {
    "duration": 4,
    "start_time": "2022-03-28T11:21:24.148Z"
   },
   {
    "duration": 6,
    "start_time": "2022-03-28T11:21:26.128Z"
   },
   {
    "duration": 5,
    "start_time": "2022-03-28T11:21:27.104Z"
   },
   {
    "duration": 5,
    "start_time": "2022-03-28T11:21:32.794Z"
   },
   {
    "duration": 8,
    "start_time": "2022-03-28T11:21:32.802Z"
   },
   {
    "duration": 805,
    "start_time": "2022-03-28T11:21:32.812Z"
   },
   {
    "duration": 24,
    "start_time": "2022-03-28T11:21:33.620Z"
   },
   {
    "duration": 46,
    "start_time": "2022-03-28T11:21:33.646Z"
   },
   {
    "duration": 24,
    "start_time": "2022-03-28T11:21:33.694Z"
   },
   {
    "duration": 53,
    "start_time": "2022-03-28T11:21:33.721Z"
   },
   {
    "duration": 8,
    "start_time": "2022-03-28T11:21:33.776Z"
   },
   {
    "duration": 11,
    "start_time": "2022-03-28T11:21:33.785Z"
   },
   {
    "duration": 5,
    "start_time": "2022-03-28T11:21:33.800Z"
   },
   {
    "duration": 15,
    "start_time": "2022-03-28T11:21:33.808Z"
   },
   {
    "duration": 50,
    "start_time": "2022-03-28T11:21:33.826Z"
   },
   {
    "duration": 10,
    "start_time": "2022-03-28T11:21:33.879Z"
   },
   {
    "duration": 6,
    "start_time": "2022-03-28T11:21:33.892Z"
   },
   {
    "duration": 4,
    "start_time": "2022-03-28T11:21:33.900Z"
   },
   {
    "duration": 8,
    "start_time": "2022-03-28T11:21:33.906Z"
   },
   {
    "duration": 63,
    "start_time": "2022-03-28T11:21:33.916Z"
   },
   {
    "duration": 9,
    "start_time": "2022-03-28T11:21:33.981Z"
   },
   {
    "duration": 41,
    "start_time": "2022-03-28T11:21:33.992Z"
   },
   {
    "duration": 41,
    "start_time": "2022-03-28T11:21:34.035Z"
   },
   {
    "duration": 6,
    "start_time": "2022-03-28T11:21:34.078Z"
   },
   {
    "duration": 1326,
    "start_time": "2022-03-28T11:21:34.087Z"
   },
   {
    "duration": 2398,
    "start_time": "2022-03-28T11:21:35.416Z"
   },
   {
    "duration": 1738,
    "start_time": "2022-03-28T11:21:37.816Z"
   },
   {
    "duration": 1707,
    "start_time": "2022-03-28T11:21:39.556Z"
   },
   {
    "duration": 696,
    "start_time": "2022-03-28T11:21:41.265Z"
   },
   {
    "duration": 10,
    "start_time": "2022-03-28T11:21:41.963Z"
   },
   {
    "duration": 6,
    "start_time": "2022-03-28T11:21:41.980Z"
   },
   {
    "duration": 12,
    "start_time": "2022-03-28T11:21:41.988Z"
   },
   {
    "duration": 7,
    "start_time": "2022-03-28T11:21:42.002Z"
   },
   {
    "duration": 2309,
    "start_time": "2022-03-28T11:21:42.011Z"
   },
   {
    "duration": 19,
    "start_time": "2022-03-28T11:21:44.322Z"
   },
   {
    "duration": 34,
    "start_time": "2022-03-28T11:21:44.344Z"
   },
   {
    "duration": 13,
    "start_time": "2022-03-28T11:21:44.381Z"
   },
   {
    "duration": 18,
    "start_time": "2022-03-28T11:21:44.397Z"
   },
   {
    "duration": 25,
    "start_time": "2022-03-28T11:21:44.418Z"
   },
   {
    "duration": 28,
    "start_time": "2022-03-28T11:21:44.445Z"
   },
   {
    "duration": 21,
    "start_time": "2022-03-28T11:21:44.475Z"
   },
   {
    "duration": 26,
    "start_time": "2022-03-28T11:21:44.499Z"
   },
   {
    "duration": 32,
    "start_time": "2022-03-28T11:21:44.527Z"
   },
   {
    "duration": 11,
    "start_time": "2022-03-28T11:21:44.561Z"
   },
   {
    "duration": 24,
    "start_time": "2022-03-28T11:21:44.574Z"
   },
   {
    "duration": 475,
    "start_time": "2022-03-28T11:21:44.600Z"
   },
   {
    "duration": 940,
    "start_time": "2022-03-28T11:21:45.084Z"
   },
   {
    "duration": 5407,
    "start_time": "2022-03-28T11:21:46.027Z"
   },
   {
    "duration": 7,
    "start_time": "2022-03-28T11:21:51.437Z"
   },
   {
    "duration": 12,
    "start_time": "2022-03-28T11:21:51.446Z"
   },
   {
    "duration": 824,
    "start_time": "2022-03-28T11:21:51.460Z"
   },
   {
    "duration": 1489,
    "start_time": "2022-03-28T11:21:52.375Z"
   },
   {
    "duration": 8702,
    "start_time": "2022-03-28T11:21:53.874Z"
   },
   {
    "duration": 7,
    "start_time": "2022-03-28T11:22:02.579Z"
   },
   {
    "duration": 10,
    "start_time": "2022-03-28T11:22:02.588Z"
   },
   {
    "duration": 14,
    "start_time": "2022-03-28T11:22:02.599Z"
   },
   {
    "duration": 13,
    "start_time": "2022-03-28T11:22:02.615Z"
   },
   {
    "duration": 146,
    "start_time": "2022-03-28T11:22:02.630Z"
   },
   {
    "duration": 81,
    "start_time": "2022-03-28T11:22:02.796Z"
   },
   {
    "duration": 8,
    "start_time": "2022-03-28T11:22:02.879Z"
   },
   {
    "duration": 90,
    "start_time": "2022-03-28T11:22:02.889Z"
   },
   {
    "duration": 7,
    "start_time": "2022-03-28T11:22:03.073Z"
   },
   {
    "duration": 7,
    "start_time": "2022-03-28T11:22:03.083Z"
   },
   {
    "duration": 20247,
    "start_time": "2022-03-28T11:22:18.093Z"
   },
   {
    "duration": 5360,
    "start_time": "2022-03-28T11:22:46.659Z"
   },
   {
    "duration": 5,
    "start_time": "2022-03-28T11:26:05.274Z"
   },
   {
    "duration": 6,
    "start_time": "2022-03-28T11:26:05.281Z"
   },
   {
    "duration": 846,
    "start_time": "2022-03-28T11:26:05.290Z"
   },
   {
    "duration": 24,
    "start_time": "2022-03-28T11:26:06.139Z"
   },
   {
    "duration": 25,
    "start_time": "2022-03-28T11:26:06.175Z"
   },
   {
    "duration": 24,
    "start_time": "2022-03-28T11:26:06.202Z"
   },
   {
    "duration": 57,
    "start_time": "2022-03-28T11:26:06.228Z"
   },
   {
    "duration": 5,
    "start_time": "2022-03-28T11:26:06.288Z"
   },
   {
    "duration": 10,
    "start_time": "2022-03-28T11:26:06.295Z"
   },
   {
    "duration": 6,
    "start_time": "2022-03-28T11:26:06.307Z"
   },
   {
    "duration": 12,
    "start_time": "2022-03-28T11:26:06.318Z"
   },
   {
    "duration": 48,
    "start_time": "2022-03-28T11:26:06.333Z"
   },
   {
    "duration": 8,
    "start_time": "2022-03-28T11:26:06.383Z"
   },
   {
    "duration": 11,
    "start_time": "2022-03-28T11:26:06.394Z"
   },
   {
    "duration": 7,
    "start_time": "2022-03-28T11:26:06.406Z"
   },
   {
    "duration": 7,
    "start_time": "2022-03-28T11:26:06.415Z"
   },
   {
    "duration": 7,
    "start_time": "2022-03-28T11:26:06.424Z"
   },
   {
    "duration": 9,
    "start_time": "2022-03-28T11:26:06.473Z"
   },
   {
    "duration": 43,
    "start_time": "2022-03-28T11:26:06.484Z"
   },
   {
    "duration": 15,
    "start_time": "2022-03-28T11:26:06.529Z"
   },
   {
    "duration": 7,
    "start_time": "2022-03-28T11:26:06.573Z"
   },
   {
    "duration": 1316,
    "start_time": "2022-03-28T11:26:06.582Z"
   },
   {
    "duration": 2288,
    "start_time": "2022-03-28T11:26:07.901Z"
   },
   {
    "duration": 1805,
    "start_time": "2022-03-28T11:26:10.191Z"
   },
   {
    "duration": 1760,
    "start_time": "2022-03-28T11:26:11.999Z"
   },
   {
    "duration": 971,
    "start_time": "2022-03-28T11:26:13.761Z"
   },
   {
    "duration": 8,
    "start_time": "2022-03-28T11:26:14.735Z"
   },
   {
    "duration": 8,
    "start_time": "2022-03-28T11:26:14.745Z"
   },
   {
    "duration": 6,
    "start_time": "2022-03-28T11:26:14.780Z"
   },
   {
    "duration": 6,
    "start_time": "2022-03-28T11:26:14.789Z"
   },
   {
    "duration": 1480,
    "start_time": "2022-03-28T11:26:14.798Z"
   },
   {
    "duration": 3,
    "start_time": "2022-03-28T11:26:16.281Z"
   },
   {
    "duration": 10,
    "start_time": "2022-03-28T11:26:16.286Z"
   },
   {
    "duration": 7,
    "start_time": "2022-03-28T11:26:16.298Z"
   },
   {
    "duration": 11,
    "start_time": "2022-03-28T11:26:16.307Z"
   },
   {
    "duration": 10,
    "start_time": "2022-03-28T11:26:16.321Z"
   },
   {
    "duration": 43,
    "start_time": "2022-03-28T11:26:16.333Z"
   },
   {
    "duration": 7,
    "start_time": "2022-03-28T11:26:16.379Z"
   },
   {
    "duration": 6,
    "start_time": "2022-03-28T11:26:16.389Z"
   },
   {
    "duration": 5,
    "start_time": "2022-03-28T11:26:16.398Z"
   },
   {
    "duration": 6,
    "start_time": "2022-03-28T11:26:16.407Z"
   },
   {
    "duration": 10,
    "start_time": "2022-03-28T11:26:16.414Z"
   },
   {
    "duration": 549,
    "start_time": "2022-03-28T11:26:16.426Z"
   },
   {
    "duration": 1104,
    "start_time": "2022-03-28T11:26:16.979Z"
   },
   {
    "duration": 5690,
    "start_time": "2022-03-28T11:26:18.086Z"
   },
   {
    "duration": 8,
    "start_time": "2022-03-28T11:26:23.779Z"
   },
   {
    "duration": 11,
    "start_time": "2022-03-28T11:26:23.789Z"
   },
   {
    "duration": 673,
    "start_time": "2022-03-28T11:26:23.802Z"
   },
   {
    "duration": 1575,
    "start_time": "2022-03-28T11:26:24.478Z"
   },
   {
    "duration": 8944,
    "start_time": "2022-03-28T11:26:26.055Z"
   },
   {
    "duration": 7,
    "start_time": "2022-03-28T11:26:35.002Z"
   },
   {
    "duration": 24,
    "start_time": "2022-03-28T11:26:35.011Z"
   },
   {
    "duration": 21,
    "start_time": "2022-03-28T11:26:35.037Z"
   },
   {
    "duration": 25,
    "start_time": "2022-03-28T11:26:35.060Z"
   },
   {
    "duration": 188,
    "start_time": "2022-03-28T11:26:35.087Z"
   },
   {
    "duration": 9,
    "start_time": "2022-03-28T11:26:35.278Z"
   },
   {
    "duration": 24,
    "start_time": "2022-03-28T11:26:35.290Z"
   },
   {
    "duration": 162,
    "start_time": "2022-03-28T11:26:35.316Z"
   },
   {
    "duration": 102,
    "start_time": "2022-03-28T11:26:35.481Z"
   },
   {
    "duration": 30,
    "start_time": "2022-03-28T11:26:35.586Z"
   },
   {
    "duration": 5,
    "start_time": "2022-03-28T11:28:53.088Z"
   },
   {
    "duration": 32,
    "start_time": "2022-03-28T11:28:53.096Z"
   },
   {
    "duration": 852,
    "start_time": "2022-03-28T11:28:53.131Z"
   },
   {
    "duration": 25,
    "start_time": "2022-03-28T11:28:53.986Z"
   },
   {
    "duration": 38,
    "start_time": "2022-03-28T11:28:54.014Z"
   },
   {
    "duration": 49,
    "start_time": "2022-03-28T11:28:54.054Z"
   },
   {
    "duration": 30,
    "start_time": "2022-03-28T11:28:54.105Z"
   },
   {
    "duration": 6,
    "start_time": "2022-03-28T11:28:54.137Z"
   },
   {
    "duration": 22,
    "start_time": "2022-03-28T11:28:54.145Z"
   },
   {
    "duration": 10,
    "start_time": "2022-03-28T11:28:54.174Z"
   },
   {
    "duration": 27,
    "start_time": "2022-03-28T11:28:54.187Z"
   },
   {
    "duration": 10,
    "start_time": "2022-03-28T11:28:54.216Z"
   },
   {
    "duration": 15,
    "start_time": "2022-03-28T11:28:54.228Z"
   },
   {
    "duration": 17,
    "start_time": "2022-03-28T11:28:54.245Z"
   },
   {
    "duration": 25,
    "start_time": "2022-03-28T11:28:54.264Z"
   },
   {
    "duration": 30,
    "start_time": "2022-03-28T11:28:54.292Z"
   },
   {
    "duration": 20,
    "start_time": "2022-03-28T11:28:54.325Z"
   },
   {
    "duration": 17,
    "start_time": "2022-03-28T11:28:54.347Z"
   },
   {
    "duration": 54,
    "start_time": "2022-03-28T11:28:54.366Z"
   },
   {
    "duration": 16,
    "start_time": "2022-03-28T11:28:54.423Z"
   },
   {
    "duration": 15,
    "start_time": "2022-03-28T11:28:54.441Z"
   },
   {
    "duration": 1286,
    "start_time": "2022-03-28T11:28:54.459Z"
   },
   {
    "duration": 1211,
    "start_time": "2022-03-28T11:28:55.747Z"
   },
   {
    "duration": 4074,
    "start_time": "2022-03-28T11:28:56.960Z"
   },
   {
    "duration": 1663,
    "start_time": "2022-03-28T11:29:01.036Z"
   },
   {
    "duration": 708,
    "start_time": "2022-03-28T11:29:02.702Z"
   },
   {
    "duration": 5,
    "start_time": "2022-03-28T11:29:03.413Z"
   },
   {
    "duration": 14,
    "start_time": "2022-03-28T11:29:03.421Z"
   },
   {
    "duration": 6,
    "start_time": "2022-03-28T11:29:03.442Z"
   },
   {
    "duration": 7,
    "start_time": "2022-03-28T11:29:03.473Z"
   },
   {
    "duration": 1269,
    "start_time": "2022-03-28T11:29:03.483Z"
   },
   {
    "duration": 30,
    "start_time": "2022-03-28T11:29:04.755Z"
   },
   {
    "duration": 14,
    "start_time": "2022-03-28T11:29:04.788Z"
   },
   {
    "duration": 12,
    "start_time": "2022-03-28T11:29:04.805Z"
   },
   {
    "duration": 12,
    "start_time": "2022-03-28T11:29:04.820Z"
   },
   {
    "duration": 44,
    "start_time": "2022-03-28T11:29:04.834Z"
   },
   {
    "duration": 8,
    "start_time": "2022-03-28T11:29:04.880Z"
   },
   {
    "duration": 6,
    "start_time": "2022-03-28T11:29:04.890Z"
   },
   {
    "duration": 5,
    "start_time": "2022-03-28T11:29:04.899Z"
   },
   {
    "duration": 6,
    "start_time": "2022-03-28T11:29:04.906Z"
   },
   {
    "duration": 7,
    "start_time": "2022-03-28T11:29:04.914Z"
   },
   {
    "duration": 6,
    "start_time": "2022-03-28T11:29:04.923Z"
   },
   {
    "duration": 502,
    "start_time": "2022-03-28T11:29:04.973Z"
   },
   {
    "duration": 937,
    "start_time": "2022-03-28T11:29:05.479Z"
   },
   {
    "duration": 5683,
    "start_time": "2022-03-28T11:29:06.418Z"
   },
   {
    "duration": 9,
    "start_time": "2022-03-28T11:29:12.104Z"
   },
   {
    "duration": 11,
    "start_time": "2022-03-28T11:29:12.116Z"
   },
   {
    "duration": 554,
    "start_time": "2022-03-28T11:29:12.130Z"
   },
   {
    "duration": 1768,
    "start_time": "2022-03-28T11:29:12.687Z"
   },
   {
    "duration": 8840,
    "start_time": "2022-03-28T11:29:14.458Z"
   },
   {
    "duration": 6,
    "start_time": "2022-03-28T11:29:23.300Z"
   },
   {
    "duration": 8,
    "start_time": "2022-03-28T11:29:23.308Z"
   },
   {
    "duration": 8,
    "start_time": "2022-03-28T11:29:23.318Z"
   },
   {
    "duration": 46,
    "start_time": "2022-03-28T11:29:23.328Z"
   },
   {
    "duration": 110,
    "start_time": "2022-03-28T11:29:23.376Z"
   },
   {
    "duration": 7,
    "start_time": "2022-03-28T11:29:23.573Z"
   },
   {
    "duration": 10,
    "start_time": "2022-03-28T11:29:23.582Z"
   },
   {
    "duration": 193,
    "start_time": "2022-03-28T11:29:23.594Z"
   },
   {
    "duration": 8,
    "start_time": "2022-03-28T11:29:23.874Z"
   },
   {
    "duration": 5,
    "start_time": "2022-03-28T11:29:23.884Z"
   },
   {
    "duration": 20754,
    "start_time": "2022-03-28T11:33:17.662Z"
   },
   {
    "duration": 13,
    "start_time": "2022-03-28T11:38:49.999Z"
   },
   {
    "duration": 6,
    "start_time": "2022-03-28T11:38:54.419Z"
   },
   {
    "duration": 8,
    "start_time": "2022-03-28T11:38:54.427Z"
   },
   {
    "duration": 863,
    "start_time": "2022-03-28T11:38:54.437Z"
   },
   {
    "duration": 26,
    "start_time": "2022-03-28T11:38:55.303Z"
   },
   {
    "duration": 46,
    "start_time": "2022-03-28T11:38:55.332Z"
   },
   {
    "duration": 27,
    "start_time": "2022-03-28T11:38:55.381Z"
   },
   {
    "duration": 27,
    "start_time": "2022-03-28T11:38:55.410Z"
   },
   {
    "duration": 6,
    "start_time": "2022-03-28T11:38:55.439Z"
   },
   {
    "duration": 7,
    "start_time": "2022-03-28T11:38:55.477Z"
   },
   {
    "duration": 7,
    "start_time": "2022-03-28T11:38:55.487Z"
   },
   {
    "duration": 14,
    "start_time": "2022-03-28T11:38:55.496Z"
   },
   {
    "duration": 11,
    "start_time": "2022-03-28T11:38:55.512Z"
   },
   {
    "duration": 53,
    "start_time": "2022-03-28T11:38:55.525Z"
   },
   {
    "duration": 8,
    "start_time": "2022-03-28T11:38:55.580Z"
   },
   {
    "duration": 5,
    "start_time": "2022-03-28T11:38:55.590Z"
   },
   {
    "duration": 9,
    "start_time": "2022-03-28T11:38:55.597Z"
   },
   {
    "duration": 5,
    "start_time": "2022-03-28T11:38:55.609Z"
   },
   {
    "duration": 9,
    "start_time": "2022-03-28T11:38:55.616Z"
   },
   {
    "duration": 84,
    "start_time": "2022-03-28T11:38:55.628Z"
   },
   {
    "duration": 13,
    "start_time": "2022-03-28T11:38:55.714Z"
   },
   {
    "duration": 6,
    "start_time": "2022-03-28T11:38:55.729Z"
   },
   {
    "duration": 1302,
    "start_time": "2022-03-28T11:38:55.737Z"
   },
   {
    "duration": 1323,
    "start_time": "2022-03-28T11:38:57.041Z"
   },
   {
    "duration": 1219,
    "start_time": "2022-03-28T11:38:58.374Z"
   },
   {
    "duration": 1618,
    "start_time": "2022-03-28T11:38:59.596Z"
   },
   {
    "duration": 718,
    "start_time": "2022-03-28T11:39:01.217Z"
   },
   {
    "duration": 5,
    "start_time": "2022-03-28T11:39:01.937Z"
   },
   {
    "duration": 23,
    "start_time": "2022-03-28T11:39:01.945Z"
   },
   {
    "duration": 22,
    "start_time": "2022-03-28T11:39:01.972Z"
   },
   {
    "duration": 23,
    "start_time": "2022-03-28T11:39:01.997Z"
   },
   {
    "duration": 2458,
    "start_time": "2022-03-28T11:39:02.023Z"
   },
   {
    "duration": 16,
    "start_time": "2022-03-28T11:39:04.484Z"
   },
   {
    "duration": 14,
    "start_time": "2022-03-28T11:39:04.502Z"
   },
   {
    "duration": 12,
    "start_time": "2022-03-28T11:39:04.518Z"
   },
   {
    "duration": 44,
    "start_time": "2022-03-28T11:39:04.533Z"
   },
   {
    "duration": 8,
    "start_time": "2022-03-28T11:39:04.580Z"
   },
   {
    "duration": 8,
    "start_time": "2022-03-28T11:39:04.591Z"
   },
   {
    "duration": 6,
    "start_time": "2022-03-28T11:39:04.602Z"
   },
   {
    "duration": 7,
    "start_time": "2022-03-28T11:39:04.611Z"
   },
   {
    "duration": 5,
    "start_time": "2022-03-28T11:39:04.620Z"
   },
   {
    "duration": 6,
    "start_time": "2022-03-28T11:39:04.673Z"
   },
   {
    "duration": 5,
    "start_time": "2022-03-28T11:39:04.682Z"
   },
   {
    "duration": 689,
    "start_time": "2022-03-28T11:39:04.689Z"
   },
   {
    "duration": 966,
    "start_time": "2022-03-28T11:39:05.381Z"
   },
   {
    "duration": 20613,
    "start_time": "2022-03-28T11:39:06.349Z"
   },
   {
    "duration": 10,
    "start_time": "2022-03-28T11:39:26.965Z"
   },
   {
    "duration": 5,
    "start_time": "2022-03-28T11:39:26.978Z"
   },
   {
    "duration": 790,
    "start_time": "2022-03-28T11:39:26.985Z"
   },
   {
    "duration": 1482,
    "start_time": "2022-03-28T11:39:27.779Z"
   },
   {
    "duration": 8732,
    "start_time": "2022-03-28T11:39:29.264Z"
   },
   {
    "duration": 8,
    "start_time": "2022-03-28T11:39:37.998Z"
   },
   {
    "duration": 6,
    "start_time": "2022-03-28T11:41:19.809Z"
   },
   {
    "duration": 5,
    "start_time": "2022-03-28T11:41:20.565Z"
   },
   {
    "duration": 228,
    "start_time": "2022-03-28T11:44:12.477Z"
   },
   {
    "duration": 6,
    "start_time": "2022-03-28T11:45:19.639Z"
   },
   {
    "duration": 6,
    "start_time": "2022-03-28T11:45:22.939Z"
   },
   {
    "duration": 6,
    "start_time": "2022-03-28T11:45:22.947Z"
   },
   {
    "duration": 824,
    "start_time": "2022-03-28T11:45:22.955Z"
   },
   {
    "duration": 24,
    "start_time": "2022-03-28T11:45:23.782Z"
   },
   {
    "duration": 25,
    "start_time": "2022-03-28T11:45:23.808Z"
   },
   {
    "duration": 53,
    "start_time": "2022-03-28T11:45:23.835Z"
   },
   {
    "duration": 28,
    "start_time": "2022-03-28T11:45:23.890Z"
   },
   {
    "duration": 6,
    "start_time": "2022-03-28T11:45:23.921Z"
   },
   {
    "duration": 11,
    "start_time": "2022-03-28T11:45:23.930Z"
   },
   {
    "duration": 35,
    "start_time": "2022-03-28T11:45:23.943Z"
   },
   {
    "duration": 18,
    "start_time": "2022-03-28T11:45:23.981Z"
   },
   {
    "duration": 11,
    "start_time": "2022-03-28T11:45:24.001Z"
   },
   {
    "duration": 8,
    "start_time": "2022-03-28T11:45:24.014Z"
   },
   {
    "duration": 49,
    "start_time": "2022-03-28T11:45:24.025Z"
   },
   {
    "duration": 4,
    "start_time": "2022-03-28T11:45:24.077Z"
   },
   {
    "duration": 6,
    "start_time": "2022-03-28T11:45:24.084Z"
   },
   {
    "duration": 11,
    "start_time": "2022-03-28T11:45:24.093Z"
   },
   {
    "duration": 16,
    "start_time": "2022-03-28T11:45:24.106Z"
   },
   {
    "duration": 71,
    "start_time": "2022-03-28T11:45:24.125Z"
   },
   {
    "duration": 17,
    "start_time": "2022-03-28T11:45:24.198Z"
   },
   {
    "duration": 5,
    "start_time": "2022-03-28T11:45:24.218Z"
   },
   {
    "duration": 1326,
    "start_time": "2022-03-28T11:45:24.225Z"
   },
   {
    "duration": 1224,
    "start_time": "2022-03-28T11:45:25.553Z"
   },
   {
    "duration": 1265,
    "start_time": "2022-03-28T11:45:26.783Z"
   },
   {
    "duration": 1619,
    "start_time": "2022-03-28T11:45:28.050Z"
   },
   {
    "duration": 699,
    "start_time": "2022-03-28T11:45:29.674Z"
   },
   {
    "duration": 6,
    "start_time": "2022-03-28T11:45:30.376Z"
   },
   {
    "duration": 19,
    "start_time": "2022-03-28T11:45:30.385Z"
   },
   {
    "duration": 15,
    "start_time": "2022-03-28T11:45:30.407Z"
   },
   {
    "duration": 22,
    "start_time": "2022-03-28T11:45:30.425Z"
   },
   {
    "duration": 1241,
    "start_time": "2022-03-28T11:45:30.450Z"
   },
   {
    "duration": 16,
    "start_time": "2022-03-28T11:45:31.694Z"
   },
   {
    "duration": 14,
    "start_time": "2022-03-28T11:45:31.712Z"
   },
   {
    "duration": 45,
    "start_time": "2022-03-28T11:45:31.729Z"
   },
   {
    "duration": 13,
    "start_time": "2022-03-28T11:45:31.777Z"
   },
   {
    "duration": 11,
    "start_time": "2022-03-28T11:45:31.792Z"
   },
   {
    "duration": 8,
    "start_time": "2022-03-28T11:45:31.805Z"
   },
   {
    "duration": 6,
    "start_time": "2022-03-28T11:45:31.816Z"
   },
   {
    "duration": 51,
    "start_time": "2022-03-28T11:45:31.824Z"
   },
   {
    "duration": 6,
    "start_time": "2022-03-28T11:45:31.878Z"
   },
   {
    "duration": 11,
    "start_time": "2022-03-28T11:45:31.886Z"
   },
   {
    "duration": 9,
    "start_time": "2022-03-28T11:45:31.899Z"
   },
   {
    "duration": 472,
    "start_time": "2022-03-28T11:45:31.910Z"
   },
   {
    "duration": 1029,
    "start_time": "2022-03-28T11:45:32.385Z"
   },
   {
    "duration": 21420,
    "start_time": "2022-03-28T11:45:33.416Z"
   },
   {
    "duration": 6,
    "start_time": "2022-03-28T11:45:54.838Z"
   },
   {
    "duration": 4,
    "start_time": "2022-03-28T11:45:54.847Z"
   },
   {
    "duration": 831,
    "start_time": "2022-03-28T11:45:54.854Z"
   },
   {
    "duration": 1522,
    "start_time": "2022-03-28T11:45:55.774Z"
   },
   {
    "duration": 8890,
    "start_time": "2022-03-28T11:45:57.299Z"
   },
   {
    "duration": 6,
    "start_time": "2022-03-28T11:46:06.191Z"
   },
   {
    "duration": 7,
    "start_time": "2022-03-28T11:46:06.200Z"
   },
   {
    "duration": 8,
    "start_time": "2022-03-28T11:46:06.209Z"
   },
   {
    "duration": 7,
    "start_time": "2022-03-28T11:46:06.219Z"
   },
   {
    "duration": 262,
    "start_time": "2022-03-28T11:46:06.229Z"
   },
   {
    "duration": 6,
    "start_time": "2022-03-28T11:46:06.493Z"
   },
   {
    "duration": 7,
    "start_time": "2022-03-28T11:46:06.502Z"
   },
   {
    "duration": 66,
    "start_time": "2022-03-28T11:46:06.511Z"
   },
   {
    "duration": 8,
    "start_time": "2022-03-28T11:46:06.580Z"
   },
   {
    "duration": 5,
    "start_time": "2022-03-28T11:46:06.676Z"
   },
   {
    "duration": 5,
    "start_time": "2022-03-28T11:48:26.119Z"
   },
   {
    "duration": 24,
    "start_time": "2022-03-28T11:48:26.127Z"
   },
   {
    "duration": 1223,
    "start_time": "2022-03-28T11:48:26.154Z"
   },
   {
    "duration": 39,
    "start_time": "2022-03-28T11:48:27.380Z"
   },
   {
    "duration": 53,
    "start_time": "2022-03-28T11:48:27.424Z"
   },
   {
    "duration": 39,
    "start_time": "2022-03-28T11:48:27.480Z"
   },
   {
    "duration": 68,
    "start_time": "2022-03-28T11:48:27.522Z"
   },
   {
    "duration": 7,
    "start_time": "2022-03-28T11:48:27.593Z"
   },
   {
    "duration": 38,
    "start_time": "2022-03-28T11:48:27.603Z"
   },
   {
    "duration": 31,
    "start_time": "2022-03-28T11:48:27.643Z"
   },
   {
    "duration": 34,
    "start_time": "2022-03-28T11:48:27.679Z"
   },
   {
    "duration": 25,
    "start_time": "2022-03-28T11:48:27.715Z"
   },
   {
    "duration": 28,
    "start_time": "2022-03-28T11:48:27.742Z"
   },
   {
    "duration": 27,
    "start_time": "2022-03-28T11:48:27.772Z"
   },
   {
    "duration": 29,
    "start_time": "2022-03-28T11:48:27.802Z"
   },
   {
    "duration": 28,
    "start_time": "2022-03-28T11:48:27.833Z"
   },
   {
    "duration": 32,
    "start_time": "2022-03-28T11:48:27.863Z"
   },
   {
    "duration": 36,
    "start_time": "2022-03-28T11:48:27.898Z"
   },
   {
    "duration": 57,
    "start_time": "2022-03-28T11:48:27.936Z"
   },
   {
    "duration": 15,
    "start_time": "2022-03-28T11:48:28.001Z"
   },
   {
    "duration": 16,
    "start_time": "2022-03-28T11:48:28.018Z"
   },
   {
    "duration": 1659,
    "start_time": "2022-03-28T11:48:28.038Z"
   },
   {
    "duration": 1278,
    "start_time": "2022-03-28T11:48:29.700Z"
   },
   {
    "duration": 1298,
    "start_time": "2022-03-28T11:48:30.980Z"
   },
   {
    "duration": 3182,
    "start_time": "2022-03-28T11:48:32.281Z"
   },
   {
    "duration": 722,
    "start_time": "2022-03-28T11:48:35.473Z"
   },
   {
    "duration": 5,
    "start_time": "2022-03-28T11:48:36.198Z"
   },
   {
    "duration": 8,
    "start_time": "2022-03-28T11:48:36.205Z"
   },
   {
    "duration": 6,
    "start_time": "2022-03-28T11:48:36.219Z"
   },
   {
    "duration": 10,
    "start_time": "2022-03-28T11:48:36.227Z"
   },
   {
    "duration": 1266,
    "start_time": "2022-03-28T11:48:36.239Z"
   },
   {
    "duration": 17,
    "start_time": "2022-03-28T11:48:37.507Z"
   },
   {
    "duration": 20,
    "start_time": "2022-03-28T11:48:37.527Z"
   },
   {
    "duration": 34,
    "start_time": "2022-03-28T11:48:37.549Z"
   },
   {
    "duration": 14,
    "start_time": "2022-03-28T11:48:37.586Z"
   },
   {
    "duration": 8,
    "start_time": "2022-03-28T11:48:37.602Z"
   },
   {
    "duration": 9,
    "start_time": "2022-03-28T11:48:37.612Z"
   },
   {
    "duration": 7,
    "start_time": "2022-03-28T11:48:37.623Z"
   },
   {
    "duration": 14,
    "start_time": "2022-03-28T11:48:37.632Z"
   },
   {
    "duration": 4,
    "start_time": "2022-03-28T11:48:37.673Z"
   },
   {
    "duration": 10,
    "start_time": "2022-03-28T11:48:37.679Z"
   },
   {
    "duration": 12,
    "start_time": "2022-03-28T11:48:37.691Z"
   },
   {
    "duration": 485,
    "start_time": "2022-03-28T11:48:37.705Z"
   },
   {
    "duration": 1060,
    "start_time": "2022-03-28T11:48:38.196Z"
   },
   {
    "duration": 26672,
    "start_time": "2022-03-28T11:48:39.259Z"
   },
   {
    "duration": 7,
    "start_time": "2022-03-28T11:49:05.933Z"
   },
   {
    "duration": 20,
    "start_time": "2022-03-28T11:49:05.942Z"
   },
   {
    "duration": 915,
    "start_time": "2022-03-28T11:49:05.964Z"
   },
   {
    "duration": 1599,
    "start_time": "2022-03-28T11:49:06.882Z"
   },
   {
    "duration": 8751,
    "start_time": "2022-03-28T11:49:08.484Z"
   },
   {
    "duration": 7,
    "start_time": "2022-03-28T11:49:17.237Z"
   },
   {
    "duration": 26,
    "start_time": "2022-03-28T11:49:17.248Z"
   },
   {
    "duration": 9,
    "start_time": "2022-03-28T11:49:17.277Z"
   },
   {
    "duration": 5,
    "start_time": "2022-03-28T11:49:17.288Z"
   },
   {
    "duration": 264,
    "start_time": "2022-03-28T11:49:17.296Z"
   },
   {
    "duration": 15,
    "start_time": "2022-03-28T11:49:17.563Z"
   },
   {
    "duration": 7,
    "start_time": "2022-03-28T11:49:17.581Z"
   },
   {
    "duration": 90,
    "start_time": "2022-03-28T11:49:17.591Z"
   },
   {
    "duration": 96,
    "start_time": "2022-03-28T11:49:17.683Z"
   },
   {
    "duration": 12,
    "start_time": "2022-03-28T11:49:17.781Z"
   },
   {
    "duration": 6,
    "start_time": "2022-03-28T11:49:55.716Z"
   },
   {
    "duration": 5,
    "start_time": "2022-03-28T11:49:55.725Z"
   },
   {
    "duration": 827,
    "start_time": "2022-03-28T11:49:55.733Z"
   },
   {
    "duration": 31,
    "start_time": "2022-03-28T11:49:56.563Z"
   },
   {
    "duration": 28,
    "start_time": "2022-03-28T11:49:56.596Z"
   },
   {
    "duration": 50,
    "start_time": "2022-03-28T11:49:56.627Z"
   },
   {
    "duration": 27,
    "start_time": "2022-03-28T11:49:56.681Z"
   },
   {
    "duration": 5,
    "start_time": "2022-03-28T11:49:56.711Z"
   },
   {
    "duration": 6,
    "start_time": "2022-03-28T11:49:56.720Z"
   },
   {
    "duration": 49,
    "start_time": "2022-03-28T11:49:56.728Z"
   },
   {
    "duration": 14,
    "start_time": "2022-03-28T11:49:56.780Z"
   },
   {
    "duration": 10,
    "start_time": "2022-03-28T11:49:56.797Z"
   },
   {
    "duration": 8,
    "start_time": "2022-03-28T11:49:56.809Z"
   },
   {
    "duration": 7,
    "start_time": "2022-03-28T11:49:56.819Z"
   },
   {
    "duration": 55,
    "start_time": "2022-03-28T11:49:56.828Z"
   },
   {
    "duration": 39,
    "start_time": "2022-03-28T11:49:56.888Z"
   },
   {
    "duration": 6,
    "start_time": "2022-03-28T11:49:56.929Z"
   },
   {
    "duration": 9,
    "start_time": "2022-03-28T11:49:56.938Z"
   },
   {
    "duration": 41,
    "start_time": "2022-03-28T11:49:56.949Z"
   },
   {
    "duration": 16,
    "start_time": "2022-03-28T11:49:56.992Z"
   },
   {
    "duration": 6,
    "start_time": "2022-03-28T11:49:57.010Z"
   },
   {
    "duration": 1355,
    "start_time": "2022-03-28T11:49:57.018Z"
   },
   {
    "duration": 1227,
    "start_time": "2022-03-28T11:49:58.376Z"
   },
   {
    "duration": 1244,
    "start_time": "2022-03-28T11:49:59.609Z"
   },
   {
    "duration": 1620,
    "start_time": "2022-03-28T11:50:00.856Z"
   },
   {
    "duration": 706,
    "start_time": "2022-03-28T11:50:02.479Z"
   },
   {
    "duration": 5,
    "start_time": "2022-03-28T11:50:03.187Z"
   },
   {
    "duration": 8,
    "start_time": "2022-03-28T11:50:03.194Z"
   },
   {
    "duration": 15,
    "start_time": "2022-03-28T11:50:03.204Z"
   },
   {
    "duration": 15,
    "start_time": "2022-03-28T11:50:03.221Z"
   },
   {
    "duration": 1233,
    "start_time": "2022-03-28T11:50:03.238Z"
   },
   {
    "duration": 16,
    "start_time": "2022-03-28T11:50:04.474Z"
   },
   {
    "duration": 19,
    "start_time": "2022-03-28T11:50:04.492Z"
   },
   {
    "duration": 13,
    "start_time": "2022-03-28T11:50:04.513Z"
   },
   {
    "duration": 12,
    "start_time": "2022-03-28T11:50:04.528Z"
   },
   {
    "duration": 36,
    "start_time": "2022-03-28T11:50:04.542Z"
   },
   {
    "duration": 10,
    "start_time": "2022-03-28T11:50:04.580Z"
   },
   {
    "duration": 6,
    "start_time": "2022-03-28T11:50:04.593Z"
   },
   {
    "duration": 7,
    "start_time": "2022-03-28T11:50:04.602Z"
   },
   {
    "duration": 5,
    "start_time": "2022-03-28T11:50:04.611Z"
   },
   {
    "duration": 7,
    "start_time": "2022-03-28T11:50:04.618Z"
   },
   {
    "duration": 8,
    "start_time": "2022-03-28T11:50:04.627Z"
   },
   {
    "duration": 448,
    "start_time": "2022-03-28T11:50:04.637Z"
   },
   {
    "duration": 637,
    "start_time": "2022-03-28T11:50:05.175Z"
   },
   {
    "duration": 2098,
    "start_time": "2022-03-28T11:50:05.815Z"
   },
   {
    "duration": 8,
    "start_time": "2022-03-28T11:50:07.916Z"
   },
   {
    "duration": 16,
    "start_time": "2022-03-28T11:50:07.927Z"
   },
   {
    "duration": 1030,
    "start_time": "2022-03-28T11:50:07.946Z"
   },
   {
    "duration": 1010,
    "start_time": "2022-03-28T11:50:08.979Z"
   },
   {
    "duration": 3371,
    "start_time": "2022-03-28T11:50:09.992Z"
   },
   {
    "duration": 10,
    "start_time": "2022-03-28T11:50:13.365Z"
   },
   {
    "duration": 6,
    "start_time": "2022-03-28T11:50:13.377Z"
   },
   {
    "duration": 6,
    "start_time": "2022-03-28T11:50:13.385Z"
   },
   {
    "duration": 6,
    "start_time": "2022-03-28T11:50:13.393Z"
   },
   {
    "duration": 318,
    "start_time": "2022-03-28T11:50:13.401Z"
   },
   {
    "duration": 9,
    "start_time": "2022-03-28T11:50:13.722Z"
   },
   {
    "duration": 22,
    "start_time": "2022-03-28T11:50:13.733Z"
   },
   {
    "duration": 28,
    "start_time": "2022-03-28T11:50:13.758Z"
   },
   {
    "duration": 185,
    "start_time": "2022-03-28T11:50:13.789Z"
   },
   {
    "duration": 9,
    "start_time": "2022-03-28T11:50:13.977Z"
   },
   {
    "duration": 6,
    "start_time": "2022-03-28T11:50:22.258Z"
   },
   {
    "duration": 6,
    "start_time": "2022-03-28T11:50:22.268Z"
   },
   {
    "duration": 859,
    "start_time": "2022-03-28T11:50:22.276Z"
   },
   {
    "duration": 37,
    "start_time": "2022-03-28T11:50:23.139Z"
   },
   {
    "duration": 24,
    "start_time": "2022-03-28T11:50:23.178Z"
   },
   {
    "duration": 24,
    "start_time": "2022-03-28T11:50:23.204Z"
   },
   {
    "duration": 55,
    "start_time": "2022-03-28T11:50:23.231Z"
   },
   {
    "duration": 7,
    "start_time": "2022-03-28T11:50:23.288Z"
   },
   {
    "duration": 6,
    "start_time": "2022-03-28T11:50:23.299Z"
   },
   {
    "duration": 6,
    "start_time": "2022-03-28T11:50:23.307Z"
   },
   {
    "duration": 66,
    "start_time": "2022-03-28T11:50:23.315Z"
   },
   {
    "duration": 11,
    "start_time": "2022-03-28T11:50:23.384Z"
   },
   {
    "duration": 9,
    "start_time": "2022-03-28T11:50:23.397Z"
   },
   {
    "duration": 6,
    "start_time": "2022-03-28T11:50:23.409Z"
   },
   {
    "duration": 4,
    "start_time": "2022-03-28T11:50:23.418Z"
   },
   {
    "duration": 51,
    "start_time": "2022-03-28T11:50:23.425Z"
   },
   {
    "duration": 8,
    "start_time": "2022-03-28T11:50:23.478Z"
   },
   {
    "duration": 10,
    "start_time": "2022-03-28T11:50:23.488Z"
   },
   {
    "duration": 75,
    "start_time": "2022-03-28T11:50:23.500Z"
   },
   {
    "duration": 14,
    "start_time": "2022-03-28T11:50:23.578Z"
   },
   {
    "duration": 6,
    "start_time": "2022-03-28T11:50:23.594Z"
   },
   {
    "duration": 1333,
    "start_time": "2022-03-28T11:50:23.603Z"
   },
   {
    "duration": 2719,
    "start_time": "2022-03-28T11:50:24.939Z"
   },
   {
    "duration": 1262,
    "start_time": "2022-03-28T11:50:27.664Z"
   },
   {
    "duration": 1844,
    "start_time": "2022-03-28T11:50:28.929Z"
   },
   {
    "duration": 808,
    "start_time": "2022-03-28T11:50:30.775Z"
   },
   {
    "duration": 5,
    "start_time": "2022-03-28T11:50:31.586Z"
   },
   {
    "duration": 13,
    "start_time": "2022-03-28T11:50:31.593Z"
   },
   {
    "duration": 6,
    "start_time": "2022-03-28T11:50:31.608Z"
   },
   {
    "duration": 6,
    "start_time": "2022-03-28T11:50:31.616Z"
   },
   {
    "duration": 1251,
    "start_time": "2022-03-28T11:50:31.625Z"
   },
   {
    "duration": 15,
    "start_time": "2022-03-28T11:50:32.878Z"
   },
   {
    "duration": 11,
    "start_time": "2022-03-28T11:50:32.895Z"
   },
   {
    "duration": 13,
    "start_time": "2022-03-28T11:50:32.909Z"
   },
   {
    "duration": 12,
    "start_time": "2022-03-28T11:50:32.925Z"
   },
   {
    "duration": 8,
    "start_time": "2022-03-28T11:50:32.974Z"
   },
   {
    "duration": 10,
    "start_time": "2022-03-28T11:50:32.985Z"
   },
   {
    "duration": 6,
    "start_time": "2022-03-28T11:50:32.998Z"
   },
   {
    "duration": 7,
    "start_time": "2022-03-28T11:50:33.006Z"
   },
   {
    "duration": 5,
    "start_time": "2022-03-28T11:50:33.016Z"
   },
   {
    "duration": 11,
    "start_time": "2022-03-28T11:50:33.024Z"
   },
   {
    "duration": 4,
    "start_time": "2022-03-28T11:50:33.074Z"
   },
   {
    "duration": 499,
    "start_time": "2022-03-28T11:50:33.080Z"
   },
   {
    "duration": 712,
    "start_time": "2022-03-28T11:50:33.582Z"
   },
   {
    "duration": 2087,
    "start_time": "2022-03-28T11:50:34.297Z"
   },
   {
    "duration": 7,
    "start_time": "2022-03-28T11:50:36.386Z"
   },
   {
    "duration": 7,
    "start_time": "2022-03-28T11:50:36.396Z"
   },
   {
    "duration": 670,
    "start_time": "2022-03-28T11:50:36.405Z"
   },
   {
    "duration": 974,
    "start_time": "2022-03-28T11:50:37.078Z"
   },
   {
    "duration": 3371,
    "start_time": "2022-03-28T11:50:38.055Z"
   },
   {
    "duration": 7,
    "start_time": "2022-03-28T11:50:41.429Z"
   },
   {
    "duration": 5,
    "start_time": "2022-03-28T11:50:41.438Z"
   },
   {
    "duration": 31,
    "start_time": "2022-03-28T11:50:41.445Z"
   },
   {
    "duration": 5,
    "start_time": "2022-03-28T11:50:41.478Z"
   },
   {
    "duration": 241,
    "start_time": "2022-03-28T11:50:41.485Z"
   },
   {
    "duration": 5,
    "start_time": "2022-03-28T11:50:41.729Z"
   },
   {
    "duration": 5,
    "start_time": "2022-03-28T11:50:41.737Z"
   },
   {
    "duration": 134,
    "start_time": "2022-03-28T11:50:41.745Z"
   },
   {
    "duration": 95,
    "start_time": "2022-03-28T11:50:41.882Z"
   },
   {
    "duration": 12,
    "start_time": "2022-03-28T11:50:41.979Z"
   },
   {
    "duration": 5,
    "start_time": "2022-03-28T11:55:04.320Z"
   },
   {
    "duration": 97,
    "start_time": "2022-03-28T11:55:26.680Z"
   },
   {
    "duration": 6,
    "start_time": "2022-03-28T11:55:44.217Z"
   },
   {
    "duration": 7,
    "start_time": "2022-03-28T11:55:44.225Z"
   },
   {
    "duration": 906,
    "start_time": "2022-03-28T11:55:44.235Z"
   },
   {
    "duration": 43,
    "start_time": "2022-03-28T11:55:45.143Z"
   },
   {
    "duration": 29,
    "start_time": "2022-03-28T11:55:45.189Z"
   },
   {
    "duration": 54,
    "start_time": "2022-03-28T11:55:45.221Z"
   },
   {
    "duration": 35,
    "start_time": "2022-03-28T11:55:45.278Z"
   },
   {
    "duration": 7,
    "start_time": "2022-03-28T11:55:45.316Z"
   },
   {
    "duration": 8,
    "start_time": "2022-03-28T11:55:45.326Z"
   },
   {
    "duration": 42,
    "start_time": "2022-03-28T11:55:45.337Z"
   },
   {
    "duration": 18,
    "start_time": "2022-03-28T11:55:45.384Z"
   },
   {
    "duration": 13,
    "start_time": "2022-03-28T11:55:45.406Z"
   },
   {
    "duration": 52,
    "start_time": "2022-03-28T11:55:45.422Z"
   },
   {
    "duration": 6,
    "start_time": "2022-03-28T11:55:45.476Z"
   },
   {
    "duration": 6,
    "start_time": "2022-03-28T11:55:45.485Z"
   },
   {
    "duration": 10,
    "start_time": "2022-03-28T11:55:45.494Z"
   },
   {
    "duration": 7,
    "start_time": "2022-03-28T11:55:45.506Z"
   },
   {
    "duration": 12,
    "start_time": "2022-03-28T11:55:45.515Z"
   },
   {
    "duration": 82,
    "start_time": "2022-03-28T11:55:45.530Z"
   },
   {
    "duration": 16,
    "start_time": "2022-03-28T11:55:45.614Z"
   },
   {
    "duration": 6,
    "start_time": "2022-03-28T11:55:45.633Z"
   },
   {
    "duration": 1352,
    "start_time": "2022-03-28T11:55:45.642Z"
   },
   {
    "duration": 1265,
    "start_time": "2022-03-28T11:55:46.996Z"
   },
   {
    "duration": 1239,
    "start_time": "2022-03-28T11:55:48.263Z"
   },
   {
    "duration": 1619,
    "start_time": "2022-03-28T11:55:49.505Z"
   },
   {
    "duration": 705,
    "start_time": "2022-03-28T11:55:51.127Z"
   },
   {
    "duration": 6,
    "start_time": "2022-03-28T11:55:51.834Z"
   },
   {
    "duration": 7,
    "start_time": "2022-03-28T11:55:51.842Z"
   },
   {
    "duration": 8,
    "start_time": "2022-03-28T11:55:51.873Z"
   },
   {
    "duration": 5,
    "start_time": "2022-03-28T11:55:51.883Z"
   },
   {
    "duration": 1276,
    "start_time": "2022-03-28T11:55:51.890Z"
   },
   {
    "duration": 20,
    "start_time": "2022-03-28T11:55:53.168Z"
   },
   {
    "duration": 15,
    "start_time": "2022-03-28T11:55:53.190Z"
   },
   {
    "duration": 22,
    "start_time": "2022-03-28T11:55:53.207Z"
   },
   {
    "duration": 14,
    "start_time": "2022-03-28T11:55:53.231Z"
   },
   {
    "duration": 28,
    "start_time": "2022-03-28T11:55:53.248Z"
   },
   {
    "duration": 10,
    "start_time": "2022-03-28T11:55:53.278Z"
   },
   {
    "duration": 20,
    "start_time": "2022-03-28T11:55:53.290Z"
   },
   {
    "duration": 24,
    "start_time": "2022-03-28T11:55:53.312Z"
   },
   {
    "duration": 18,
    "start_time": "2022-03-28T11:55:53.338Z"
   },
   {
    "duration": 15,
    "start_time": "2022-03-28T11:55:53.358Z"
   },
   {
    "duration": 22,
    "start_time": "2022-03-28T11:55:53.376Z"
   },
   {
    "duration": 386,
    "start_time": "2022-03-28T11:55:53.400Z"
   },
   {
    "duration": 647,
    "start_time": "2022-03-28T11:55:53.876Z"
   },
   {
    "duration": 2094,
    "start_time": "2022-03-28T11:55:54.525Z"
   },
   {
    "duration": 7,
    "start_time": "2022-03-28T11:55:56.621Z"
   },
   {
    "duration": 9,
    "start_time": "2022-03-28T11:55:56.630Z"
   },
   {
    "duration": 935,
    "start_time": "2022-03-28T11:55:56.641Z"
   },
   {
    "duration": 879,
    "start_time": "2022-03-28T11:55:57.673Z"
   },
   {
    "duration": 3325,
    "start_time": "2022-03-28T11:55:58.555Z"
   },
   {
    "duration": 6,
    "start_time": "2022-03-28T11:56:01.882Z"
   },
   {
    "duration": 27,
    "start_time": "2022-03-28T11:56:01.890Z"
   },
   {
    "duration": 28,
    "start_time": "2022-03-28T11:56:01.919Z"
   },
   {
    "duration": 28,
    "start_time": "2022-03-28T11:56:01.950Z"
   },
   {
    "duration": 102,
    "start_time": "2022-03-28T11:56:01.980Z"
   },
   {
    "duration": 12,
    "start_time": "2022-03-28T11:56:02.175Z"
   },
   {
    "duration": 18,
    "start_time": "2022-03-28T11:56:02.190Z"
   },
   {
    "duration": 168,
    "start_time": "2022-03-28T11:56:02.210Z"
   },
   {
    "duration": 92,
    "start_time": "2022-03-28T11:56:02.382Z"
   },
   {
    "duration": 6,
    "start_time": "2022-03-28T11:56:02.476Z"
   },
   {
    "duration": 6,
    "start_time": "2022-03-28T11:57:57.892Z"
   },
   {
    "duration": 7,
    "start_time": "2022-03-28T11:57:57.901Z"
   },
   {
    "duration": 830,
    "start_time": "2022-03-28T11:57:57.911Z"
   },
   {
    "duration": 34,
    "start_time": "2022-03-28T11:57:58.743Z"
   },
   {
    "duration": 25,
    "start_time": "2022-03-28T11:57:58.780Z"
   },
   {
    "duration": 38,
    "start_time": "2022-03-28T11:57:58.807Z"
   },
   {
    "duration": 44,
    "start_time": "2022-03-28T11:57:58.848Z"
   },
   {
    "duration": 6,
    "start_time": "2022-03-28T11:57:58.894Z"
   },
   {
    "duration": 25,
    "start_time": "2022-03-28T11:57:58.902Z"
   },
   {
    "duration": 16,
    "start_time": "2022-03-28T11:57:58.929Z"
   },
   {
    "duration": 19,
    "start_time": "2022-03-28T11:57:58.949Z"
   },
   {
    "duration": 10,
    "start_time": "2022-03-28T11:57:58.970Z"
   },
   {
    "duration": 18,
    "start_time": "2022-03-28T11:57:58.982Z"
   },
   {
    "duration": 18,
    "start_time": "2022-03-28T11:57:59.002Z"
   },
   {
    "duration": 19,
    "start_time": "2022-03-28T11:57:59.022Z"
   },
   {
    "duration": 22,
    "start_time": "2022-03-28T11:57:59.043Z"
   },
   {
    "duration": 7,
    "start_time": "2022-03-28T11:57:59.067Z"
   },
   {
    "duration": 20,
    "start_time": "2022-03-28T11:57:59.077Z"
   },
   {
    "duration": 42,
    "start_time": "2022-03-28T11:57:59.099Z"
   },
   {
    "duration": 30,
    "start_time": "2022-03-28T11:57:59.144Z"
   },
   {
    "duration": 7,
    "start_time": "2022-03-28T11:57:59.176Z"
   },
   {
    "duration": 1280,
    "start_time": "2022-03-28T11:57:59.186Z"
   },
   {
    "duration": 2899,
    "start_time": "2022-03-28T11:58:00.474Z"
   },
   {
    "duration": 1283,
    "start_time": "2022-03-28T11:58:03.376Z"
   },
   {
    "duration": 1586,
    "start_time": "2022-03-28T11:58:04.661Z"
   },
   {
    "duration": 687,
    "start_time": "2022-03-28T11:58:06.249Z"
   },
   {
    "duration": 6,
    "start_time": "2022-03-28T11:58:06.939Z"
   },
   {
    "duration": 6,
    "start_time": "2022-03-28T11:58:06.947Z"
   },
   {
    "duration": 5,
    "start_time": "2022-03-28T11:58:06.978Z"
   },
   {
    "duration": 8,
    "start_time": "2022-03-28T11:58:06.985Z"
   },
   {
    "duration": 1334,
    "start_time": "2022-03-28T11:58:06.996Z"
   },
   {
    "duration": 15,
    "start_time": "2022-03-28T11:58:08.332Z"
   },
   {
    "duration": 32,
    "start_time": "2022-03-28T11:58:08.350Z"
   },
   {
    "duration": 12,
    "start_time": "2022-03-28T11:58:08.384Z"
   },
   {
    "duration": 11,
    "start_time": "2022-03-28T11:58:08.399Z"
   },
   {
    "duration": 10,
    "start_time": "2022-03-28T11:58:08.412Z"
   },
   {
    "duration": 6,
    "start_time": "2022-03-28T11:58:08.424Z"
   },
   {
    "duration": 41,
    "start_time": "2022-03-28T11:58:08.433Z"
   },
   {
    "duration": 6,
    "start_time": "2022-03-28T11:58:08.476Z"
   },
   {
    "duration": 5,
    "start_time": "2022-03-28T11:58:08.484Z"
   },
   {
    "duration": 8,
    "start_time": "2022-03-28T11:58:08.491Z"
   },
   {
    "duration": 7,
    "start_time": "2022-03-28T11:58:08.502Z"
   },
   {
    "duration": 664,
    "start_time": "2022-03-28T11:58:08.511Z"
   },
   {
    "duration": 666,
    "start_time": "2022-03-28T11:58:09.178Z"
   },
   {
    "duration": 2095,
    "start_time": "2022-03-28T11:58:09.846Z"
   },
   {
    "duration": 6,
    "start_time": "2022-03-28T11:58:11.943Z"
   },
   {
    "duration": 23,
    "start_time": "2022-03-28T11:58:11.951Z"
   },
   {
    "duration": 698,
    "start_time": "2022-03-28T11:58:11.976Z"
   },
   {
    "duration": 976,
    "start_time": "2022-03-28T11:58:12.678Z"
   },
   {
    "duration": 3458,
    "start_time": "2022-03-28T11:58:13.656Z"
   },
   {
    "duration": 6,
    "start_time": "2022-03-28T11:58:17.116Z"
   },
   {
    "duration": 22,
    "start_time": "2022-03-28T11:58:17.123Z"
   },
   {
    "duration": 23,
    "start_time": "2022-03-28T11:58:17.147Z"
   },
   {
    "duration": 17,
    "start_time": "2022-03-28T11:58:17.172Z"
   },
   {
    "duration": 87,
    "start_time": "2022-03-28T11:58:17.191Z"
   },
   {
    "duration": 103,
    "start_time": "2022-03-28T11:58:17.281Z"
   },
   {
    "duration": 28,
    "start_time": "2022-03-28T11:58:17.386Z"
   },
   {
    "duration": 157,
    "start_time": "2022-03-28T11:58:17.417Z"
   },
   {
    "duration": 106,
    "start_time": "2022-03-28T11:58:17.577Z"
   },
   {
    "duration": 20,
    "start_time": "2022-03-28T11:58:17.686Z"
   },
   {
    "duration": 1222,
    "start_time": "2022-03-28T11:59:30.637Z"
   },
   {
    "duration": 7,
    "start_time": "2022-03-28T11:59:59.243Z"
   },
   {
    "duration": 7,
    "start_time": "2022-03-28T11:59:59.252Z"
   },
   {
    "duration": 818,
    "start_time": "2022-03-28T11:59:59.261Z"
   },
   {
    "duration": 27,
    "start_time": "2022-03-28T12:00:00.082Z"
   },
   {
    "duration": 36,
    "start_time": "2022-03-28T12:00:00.111Z"
   },
   {
    "duration": 50,
    "start_time": "2022-03-28T12:00:00.149Z"
   },
   {
    "duration": 34,
    "start_time": "2022-03-28T12:00:00.201Z"
   },
   {
    "duration": 7,
    "start_time": "2022-03-28T12:00:00.237Z"
   },
   {
    "duration": 26,
    "start_time": "2022-03-28T12:00:00.249Z"
   },
   {
    "duration": 25,
    "start_time": "2022-03-28T12:00:00.278Z"
   },
   {
    "duration": 36,
    "start_time": "2022-03-28T12:00:00.305Z"
   },
   {
    "duration": 39,
    "start_time": "2022-03-28T12:00:00.344Z"
   },
   {
    "duration": 30,
    "start_time": "2022-03-28T12:00:00.386Z"
   },
   {
    "duration": 25,
    "start_time": "2022-03-28T12:00:00.418Z"
   },
   {
    "duration": 45,
    "start_time": "2022-03-28T12:00:00.445Z"
   },
   {
    "duration": 35,
    "start_time": "2022-03-28T12:00:00.492Z"
   },
   {
    "duration": 16,
    "start_time": "2022-03-28T12:00:00.530Z"
   },
   {
    "duration": 46,
    "start_time": "2022-03-28T12:00:00.548Z"
   },
   {
    "duration": 46,
    "start_time": "2022-03-28T12:00:00.597Z"
   },
   {
    "duration": 30,
    "start_time": "2022-03-28T12:00:00.646Z"
   },
   {
    "duration": 33,
    "start_time": "2022-03-28T12:00:00.679Z"
   },
   {
    "duration": 1466,
    "start_time": "2022-03-28T12:00:00.714Z"
   },
   {
    "duration": 1228,
    "start_time": "2022-03-28T12:00:02.183Z"
   },
   {
    "duration": 1231,
    "start_time": "2022-03-28T12:00:03.418Z"
   },
   {
    "duration": 1677,
    "start_time": "2022-03-28T12:00:04.652Z"
   },
   {
    "duration": 685,
    "start_time": "2022-03-28T12:00:06.331Z"
   },
   {
    "duration": 5,
    "start_time": "2022-03-28T12:00:07.018Z"
   },
   {
    "duration": 41,
    "start_time": "2022-03-28T12:00:07.025Z"
   },
   {
    "duration": 19,
    "start_time": "2022-03-28T12:00:07.069Z"
   },
   {
    "duration": 22,
    "start_time": "2022-03-28T12:00:07.090Z"
   },
   {
    "duration": 2064,
    "start_time": "2022-03-28T12:00:07.114Z"
   },
   {
    "duration": 15,
    "start_time": "2022-03-28T12:00:09.180Z"
   },
   {
    "duration": 77,
    "start_time": "2022-03-28T12:00:09.197Z"
   },
   {
    "duration": 14,
    "start_time": "2022-03-28T12:00:09.276Z"
   },
   {
    "duration": 31,
    "start_time": "2022-03-28T12:00:09.292Z"
   },
   {
    "duration": 52,
    "start_time": "2022-03-28T12:00:09.326Z"
   },
   {
    "duration": 35,
    "start_time": "2022-03-28T12:00:09.381Z"
   },
   {
    "duration": 10,
    "start_time": "2022-03-28T12:00:09.419Z"
   },
   {
    "duration": 46,
    "start_time": "2022-03-28T12:00:09.432Z"
   },
   {
    "duration": 19,
    "start_time": "2022-03-28T12:00:09.481Z"
   },
   {
    "duration": 23,
    "start_time": "2022-03-28T12:00:09.502Z"
   },
   {
    "duration": 63,
    "start_time": "2022-03-28T12:00:09.527Z"
   },
   {
    "duration": 882,
    "start_time": "2022-03-28T12:00:09.592Z"
   },
   {
    "duration": 906,
    "start_time": "2022-03-28T12:00:10.478Z"
   },
   {
    "duration": 2082,
    "start_time": "2022-03-28T12:00:11.387Z"
   },
   {
    "duration": 7,
    "start_time": "2022-03-28T12:00:13.474Z"
   },
   {
    "duration": 9,
    "start_time": "2022-03-28T12:00:13.483Z"
   },
   {
    "duration": 785,
    "start_time": "2022-03-28T12:00:13.494Z"
   },
   {
    "duration": 1085,
    "start_time": "2022-03-28T12:00:14.283Z"
   },
   {
    "duration": 3304,
    "start_time": "2022-03-28T12:00:15.374Z"
   },
   {
    "duration": 6,
    "start_time": "2022-03-28T12:00:18.681Z"
   },
   {
    "duration": 9,
    "start_time": "2022-03-28T12:00:18.689Z"
   },
   {
    "duration": 9,
    "start_time": "2022-03-28T12:00:18.701Z"
   },
   {
    "duration": 8,
    "start_time": "2022-03-28T12:00:18.712Z"
   },
   {
    "duration": 165,
    "start_time": "2022-03-28T12:00:18.722Z"
   },
   {
    "duration": 6,
    "start_time": "2022-03-28T12:00:18.890Z"
   },
   {
    "duration": 4,
    "start_time": "2022-03-28T12:00:18.974Z"
   },
   {
    "duration": 99,
    "start_time": "2022-03-28T12:00:18.980Z"
   },
   {
    "duration": 98,
    "start_time": "2022-03-28T12:00:19.082Z"
   },
   {
    "duration": 93,
    "start_time": "2022-03-28T12:00:19.183Z"
   }
  ],
  "kernelspec": {
   "display_name": "Python 3 (ipykernel)",
   "language": "python",
   "name": "python3"
  },
  "language_info": {
   "codemirror_mode": {
    "name": "ipython",
    "version": 3
   },
   "file_extension": ".py",
   "mimetype": "text/x-python",
   "name": "python",
   "nbconvert_exporter": "python",
   "pygments_lexer": "ipython3",
   "version": "3.9.7"
  },
  "toc": {
   "base_numbering": 1,
   "nav_menu": {},
   "number_sections": true,
   "sideBar": true,
   "skip_h1_title": true,
   "title_cell": "Содержание",
   "title_sidebar": "Contents",
   "toc_cell": false,
   "toc_position": {
    "height": "calc(100% - 180px)",
    "left": "10px",
    "top": "150px",
    "width": "366.391px"
   },
   "toc_section_display": true,
   "toc_window_display": true
  }
 },
 "nbformat": 4,
 "nbformat_minor": 2
}
