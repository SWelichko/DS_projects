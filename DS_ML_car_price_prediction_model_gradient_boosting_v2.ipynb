{
 "cells": [
  {
   "cell_type": "markdown",
   "metadata": {},
   "source": [
    "# Определение стоимости автомобилей"
   ]
  },
  {
   "cell_type": "markdown",
   "metadata": {},
   "source": [
    "Задача определить рыночную стоимость автомобиля. Имеются исторические данные: технические характеристики, комплектации и цены автомобилей. Необходимо построить модель для определения стоимости. \n",
    "\n",
    "Важные критерии:\n",
    "\n",
    "- качество;\n",
    "- скорость;\n",
    "- время обучения."
   ]
  },
  {
   "cell_type": "markdown",
   "metadata": {},
   "source": [
    "## Подготовка данных"
   ]
  },
  {
   "cell_type": "markdown",
   "metadata": {},
   "source": [
    "### Импорт библиотек"
   ]
  },
  {
   "cell_type": "markdown",
   "metadata": {},
   "source": [
    "Импортуруем необходимые библиотеки и установим дополнительно `LightGBM` !pip install lightgbm -U"
   ]
  },
  {
   "cell_type": "code",
   "execution_count": 2,
   "metadata": {},
   "outputs": [],
   "source": [
    "import pandas as pd\n",
    "import numpy as np\n",
    "\n",
    "from sklearn.model_selection import train_test_split # Деление на выборки\n",
    "\n",
    "from sklearn.linear_model import LinearRegression # модель линейной регрессии\n",
    "from sklearn.tree import DecisionTreeRegressor # модель дерева решений для регрессии\n",
    "from sklearn.ensemble import RandomForestRegressor # модель случайного леса для регрессии\n",
    "\n",
    "from sklearn.metrics import mean_squared_error # метрики MSE и RMSE ( RMSE = mse ** 0.5)\n",
    "\n",
    "from sklearn.preprocessing import OrdinalEncoder # Порядковое кодирование\n",
    "from sklearn.preprocessing import StandardScaler # Стандартизация (Масштабирование признаков)\n",
    "\n",
    "# установка библиотеки LightGBM\n",
    "#!pip install lightgbm -U\n",
    "\n",
    "from lightgbm import LGBMRegressor # модель LightGBM для регрессии\n",
    "\n",
    "from matplotlib import pyplot as plt #визуализациЯ данных"
   ]
  },
  {
   "cell_type": "code",
   "execution_count": 3,
   "metadata": {},
   "outputs": [],
   "source": [
    "pd.options.display.float_format = '{:,.1f}'.format # уменьшим число знаков при отображении в блоктоте"
   ]
  },
  {
   "cell_type": "markdown",
   "metadata": {},
   "source": [
    "### Описание данных\n",
    "\n",
    "Данные находятся в файле `autos.csv`.\n",
    "\n",
    "**Признаки**\n",
    "\n",
    "- DateCrawled — дата скачивания анкеты из базы\n",
    "- VehicleType — тип автомобильного кузова\n",
    "- RegistrationYear — год регистрации автомобиля\n",
    "- Gearbox — тип коробки передач\n",
    "- Power — мощность (л. с.)\n",
    "- Model — модель автомобиля\n",
    "- Kilometer — пробег (км)\n",
    "- RegistrationMonth — месяц регистрации автомобиля\n",
    "- FuelType — тип топлива\n",
    "- Brand — марка автомобиля\n",
    "- NotRepaired — была машина в ремонте или нет\n",
    "- DateCreated — дата создания анкеты\n",
    "- NumberOfPictures — количество фотографий автомобиля\n",
    "- PostalCode — почтовый индекс владельца анкеты (пользователя)\n",
    "- LastSeen — дата последней активности пользователя\n",
    "\n",
    "**Целевой признак**\n",
    "\n",
    "- **Price** — цена (евро)\n"
   ]
  },
  {
   "cell_type": "code",
   "execution_count": 747,
   "metadata": {
    "scrolled": false
   },
   "outputs": [
    {
     "data": {
      "text/html": [
       "<div>\n",
       "<style scoped>\n",
       "    .dataframe tbody tr th:only-of-type {\n",
       "        vertical-align: middle;\n",
       "    }\n",
       "\n",
       "    .dataframe tbody tr th {\n",
       "        vertical-align: top;\n",
       "    }\n",
       "\n",
       "    .dataframe thead th {\n",
       "        text-align: right;\n",
       "    }\n",
       "</style>\n",
       "<table border=\"1\" class=\"dataframe\">\n",
       "  <thead>\n",
       "    <tr style=\"text-align: right;\">\n",
       "      <th></th>\n",
       "      <th>DateCrawled</th>\n",
       "      <th>Price</th>\n",
       "      <th>VehicleType</th>\n",
       "      <th>RegistrationYear</th>\n",
       "      <th>Gearbox</th>\n",
       "      <th>Power</th>\n",
       "      <th>Model</th>\n",
       "      <th>Kilometer</th>\n",
       "      <th>RegistrationMonth</th>\n",
       "      <th>FuelType</th>\n",
       "      <th>Brand</th>\n",
       "      <th>NotRepaired</th>\n",
       "      <th>DateCreated</th>\n",
       "      <th>NumberOfPictures</th>\n",
       "      <th>PostalCode</th>\n",
       "      <th>LastSeen</th>\n",
       "    </tr>\n",
       "  </thead>\n",
       "  <tbody>\n",
       "    <tr>\n",
       "      <th>0</th>\n",
       "      <td>2016-03-24 11:52:17</td>\n",
       "      <td>480</td>\n",
       "      <td>NaN</td>\n",
       "      <td>1993</td>\n",
       "      <td>manual</td>\n",
       "      <td>0</td>\n",
       "      <td>golf</td>\n",
       "      <td>150000</td>\n",
       "      <td>0</td>\n",
       "      <td>petrol</td>\n",
       "      <td>volkswagen</td>\n",
       "      <td>NaN</td>\n",
       "      <td>2016-03-24 00:00:00</td>\n",
       "      <td>0</td>\n",
       "      <td>70435</td>\n",
       "      <td>2016-04-07 03:16:57</td>\n",
       "    </tr>\n",
       "    <tr>\n",
       "      <th>1</th>\n",
       "      <td>2016-03-24 10:58:45</td>\n",
       "      <td>18300</td>\n",
       "      <td>coupe</td>\n",
       "      <td>2011</td>\n",
       "      <td>manual</td>\n",
       "      <td>190</td>\n",
       "      <td>NaN</td>\n",
       "      <td>125000</td>\n",
       "      <td>5</td>\n",
       "      <td>gasoline</td>\n",
       "      <td>audi</td>\n",
       "      <td>yes</td>\n",
       "      <td>2016-03-24 00:00:00</td>\n",
       "      <td>0</td>\n",
       "      <td>66954</td>\n",
       "      <td>2016-04-07 01:46:50</td>\n",
       "    </tr>\n",
       "    <tr>\n",
       "      <th>2</th>\n",
       "      <td>2016-03-14 12:52:21</td>\n",
       "      <td>9800</td>\n",
       "      <td>suv</td>\n",
       "      <td>2004</td>\n",
       "      <td>auto</td>\n",
       "      <td>163</td>\n",
       "      <td>grand</td>\n",
       "      <td>125000</td>\n",
       "      <td>8</td>\n",
       "      <td>gasoline</td>\n",
       "      <td>jeep</td>\n",
       "      <td>NaN</td>\n",
       "      <td>2016-03-14 00:00:00</td>\n",
       "      <td>0</td>\n",
       "      <td>90480</td>\n",
       "      <td>2016-04-05 12:47:46</td>\n",
       "    </tr>\n",
       "    <tr>\n",
       "      <th>3</th>\n",
       "      <td>2016-03-17 16:54:04</td>\n",
       "      <td>1500</td>\n",
       "      <td>small</td>\n",
       "      <td>2001</td>\n",
       "      <td>manual</td>\n",
       "      <td>75</td>\n",
       "      <td>golf</td>\n",
       "      <td>150000</td>\n",
       "      <td>6</td>\n",
       "      <td>petrol</td>\n",
       "      <td>volkswagen</td>\n",
       "      <td>no</td>\n",
       "      <td>2016-03-17 00:00:00</td>\n",
       "      <td>0</td>\n",
       "      <td>91074</td>\n",
       "      <td>2016-03-17 17:40:17</td>\n",
       "    </tr>\n",
       "    <tr>\n",
       "      <th>4</th>\n",
       "      <td>2016-03-31 17:25:20</td>\n",
       "      <td>3600</td>\n",
       "      <td>small</td>\n",
       "      <td>2008</td>\n",
       "      <td>manual</td>\n",
       "      <td>69</td>\n",
       "      <td>fabia</td>\n",
       "      <td>90000</td>\n",
       "      <td>7</td>\n",
       "      <td>gasoline</td>\n",
       "      <td>skoda</td>\n",
       "      <td>no</td>\n",
       "      <td>2016-03-31 00:00:00</td>\n",
       "      <td>0</td>\n",
       "      <td>60437</td>\n",
       "      <td>2016-04-06 10:17:21</td>\n",
       "    </tr>\n",
       "  </tbody>\n",
       "</table>\n",
       "</div>"
      ],
      "text/plain": [
       "           DateCrawled  Price VehicleType  RegistrationYear Gearbox  Power  \\\n",
       "0  2016-03-24 11:52:17    480         NaN              1993  manual      0   \n",
       "1  2016-03-24 10:58:45  18300       coupe              2011  manual    190   \n",
       "2  2016-03-14 12:52:21   9800         suv              2004    auto    163   \n",
       "3  2016-03-17 16:54:04   1500       small              2001  manual     75   \n",
       "4  2016-03-31 17:25:20   3600       small              2008  manual     69   \n",
       "\n",
       "   Model  Kilometer  RegistrationMonth  FuelType       Brand NotRepaired  \\\n",
       "0   golf     150000                  0    petrol  volkswagen         NaN   \n",
       "1    NaN     125000                  5  gasoline        audi         yes   \n",
       "2  grand     125000                  8  gasoline        jeep         NaN   \n",
       "3   golf     150000                  6    petrol  volkswagen          no   \n",
       "4  fabia      90000                  7  gasoline       skoda          no   \n",
       "\n",
       "           DateCreated  NumberOfPictures  PostalCode             LastSeen  \n",
       "0  2016-03-24 00:00:00                 0       70435  2016-04-07 03:16:57  \n",
       "1  2016-03-24 00:00:00                 0       66954  2016-04-07 01:46:50  \n",
       "2  2016-03-14 00:00:00                 0       90480  2016-04-05 12:47:46  \n",
       "3  2016-03-17 00:00:00                 0       91074  2016-03-17 17:40:17  \n",
       "4  2016-03-31 00:00:00                 0       60437  2016-04-06 10:17:21  "
      ]
     },
     "execution_count": 747,
     "metadata": {},
     "output_type": "execute_result"
    }
   ],
   "source": [
    "df = pd.read_csv('autos.csv') #загрузим данные\n",
    "df.head()"
   ]
  },
  {
   "cell_type": "code",
   "execution_count": 748,
   "metadata": {},
   "outputs": [
    {
     "name": "stdout",
     "output_type": "stream",
     "text": [
      "<class 'pandas.core.frame.DataFrame'>\n",
      "RangeIndex: 354369 entries, 0 to 354368\n",
      "Data columns (total 16 columns):\n",
      " #   Column             Non-Null Count   Dtype \n",
      "---  ------             --------------   ----- \n",
      " 0   DateCrawled        354369 non-null  object\n",
      " 1   Price              354369 non-null  int64 \n",
      " 2   VehicleType        316879 non-null  object\n",
      " 3   RegistrationYear   354369 non-null  int64 \n",
      " 4   Gearbox            334536 non-null  object\n",
      " 5   Power              354369 non-null  int64 \n",
      " 6   Model              334664 non-null  object\n",
      " 7   Kilometer          354369 non-null  int64 \n",
      " 8   RegistrationMonth  354369 non-null  int64 \n",
      " 9   FuelType           321474 non-null  object\n",
      " 10  Brand              354369 non-null  object\n",
      " 11  NotRepaired        283215 non-null  object\n",
      " 12  DateCreated        354369 non-null  object\n",
      " 13  NumberOfPictures   354369 non-null  int64 \n",
      " 14  PostalCode         354369 non-null  int64 \n",
      " 15  LastSeen           354369 non-null  object\n",
      "dtypes: int64(7), object(9)\n",
      "memory usage: 43.3+ MB\n"
     ]
    }
   ],
   "source": [
    "df.info()"
   ]
  },
  {
   "cell_type": "markdown",
   "metadata": {},
   "source": [
    "`Вывод:`\n",
    "\n",
    "Данные содержат пропуски и текстовые поля. Категориальные параметры необходимо будет перевести в числа для работы с моделями регрессии."
   ]
  },
  {
   "cell_type": "code",
   "execution_count": 749,
   "metadata": {
    "scrolled": true
   },
   "outputs": [
    {
     "data": {
      "text/html": [
       "<div>\n",
       "<style scoped>\n",
       "    .dataframe tbody tr th:only-of-type {\n",
       "        vertical-align: middle;\n",
       "    }\n",
       "\n",
       "    .dataframe tbody tr th {\n",
       "        vertical-align: top;\n",
       "    }\n",
       "\n",
       "    .dataframe thead th {\n",
       "        text-align: right;\n",
       "    }\n",
       "</style>\n",
       "<table border=\"1\" class=\"dataframe\">\n",
       "  <thead>\n",
       "    <tr style=\"text-align: right;\">\n",
       "      <th></th>\n",
       "      <th>Price</th>\n",
       "      <th>RegistrationYear</th>\n",
       "      <th>Power</th>\n",
       "      <th>Kilometer</th>\n",
       "      <th>RegistrationMonth</th>\n",
       "      <th>NumberOfPictures</th>\n",
       "      <th>PostalCode</th>\n",
       "    </tr>\n",
       "  </thead>\n",
       "  <tbody>\n",
       "    <tr>\n",
       "      <th>count</th>\n",
       "      <td>354,369.0</td>\n",
       "      <td>354,369.0</td>\n",
       "      <td>354,369.0</td>\n",
       "      <td>354,369.0</td>\n",
       "      <td>354,369.0</td>\n",
       "      <td>354,369.0</td>\n",
       "      <td>354,369.0</td>\n",
       "    </tr>\n",
       "    <tr>\n",
       "      <th>mean</th>\n",
       "      <td>4,416.7</td>\n",
       "      <td>2,004.2</td>\n",
       "      <td>110.1</td>\n",
       "      <td>128,211.2</td>\n",
       "      <td>5.7</td>\n",
       "      <td>0.0</td>\n",
       "      <td>50,508.7</td>\n",
       "    </tr>\n",
       "    <tr>\n",
       "      <th>std</th>\n",
       "      <td>4,514.2</td>\n",
       "      <td>90.2</td>\n",
       "      <td>189.9</td>\n",
       "      <td>37,905.3</td>\n",
       "      <td>3.7</td>\n",
       "      <td>0.0</td>\n",
       "      <td>25,783.1</td>\n",
       "    </tr>\n",
       "    <tr>\n",
       "      <th>min</th>\n",
       "      <td>0.0</td>\n",
       "      <td>1,000.0</td>\n",
       "      <td>0.0</td>\n",
       "      <td>5,000.0</td>\n",
       "      <td>0.0</td>\n",
       "      <td>0.0</td>\n",
       "      <td>1,067.0</td>\n",
       "    </tr>\n",
       "    <tr>\n",
       "      <th>25%</th>\n",
       "      <td>1,050.0</td>\n",
       "      <td>1,999.0</td>\n",
       "      <td>69.0</td>\n",
       "      <td>125,000.0</td>\n",
       "      <td>3.0</td>\n",
       "      <td>0.0</td>\n",
       "      <td>30,165.0</td>\n",
       "    </tr>\n",
       "    <tr>\n",
       "      <th>50%</th>\n",
       "      <td>2,700.0</td>\n",
       "      <td>2,003.0</td>\n",
       "      <td>105.0</td>\n",
       "      <td>150,000.0</td>\n",
       "      <td>6.0</td>\n",
       "      <td>0.0</td>\n",
       "      <td>49,413.0</td>\n",
       "    </tr>\n",
       "    <tr>\n",
       "      <th>75%</th>\n",
       "      <td>6,400.0</td>\n",
       "      <td>2,008.0</td>\n",
       "      <td>143.0</td>\n",
       "      <td>150,000.0</td>\n",
       "      <td>9.0</td>\n",
       "      <td>0.0</td>\n",
       "      <td>71,083.0</td>\n",
       "    </tr>\n",
       "    <tr>\n",
       "      <th>max</th>\n",
       "      <td>20,000.0</td>\n",
       "      <td>9,999.0</td>\n",
       "      <td>20,000.0</td>\n",
       "      <td>150,000.0</td>\n",
       "      <td>12.0</td>\n",
       "      <td>0.0</td>\n",
       "      <td>99,998.0</td>\n",
       "    </tr>\n",
       "  </tbody>\n",
       "</table>\n",
       "</div>"
      ],
      "text/plain": [
       "          Price  RegistrationYear     Power  Kilometer  RegistrationMonth  \\\n",
       "count 354,369.0         354,369.0 354,369.0  354,369.0          354,369.0   \n",
       "mean    4,416.7           2,004.2     110.1  128,211.2                5.7   \n",
       "std     4,514.2              90.2     189.9   37,905.3                3.7   \n",
       "min         0.0           1,000.0       0.0    5,000.0                0.0   \n",
       "25%     1,050.0           1,999.0      69.0  125,000.0                3.0   \n",
       "50%     2,700.0           2,003.0     105.0  150,000.0                6.0   \n",
       "75%     6,400.0           2,008.0     143.0  150,000.0                9.0   \n",
       "max    20,000.0           9,999.0  20,000.0  150,000.0               12.0   \n",
       "\n",
       "       NumberOfPictures  PostalCode  \n",
       "count         354,369.0   354,369.0  \n",
       "mean                0.0    50,508.7  \n",
       "std                 0.0    25,783.1  \n",
       "min                 0.0     1,067.0  \n",
       "25%                 0.0    30,165.0  \n",
       "50%                 0.0    49,413.0  \n",
       "75%                 0.0    71,083.0  \n",
       "max                 0.0    99,998.0  "
      ]
     },
     "execution_count": 749,
     "metadata": {},
     "output_type": "execute_result"
    }
   ],
   "source": [
    "df.describe()"
   ]
  },
  {
   "cell_type": "markdown",
   "metadata": {},
   "source": [
    "`Вывод:`\n",
    "\n",
    "Данные содержат аномальные значения в признаках Price = 0  и Power > 600 л.с. и Power < 10 л.с."
   ]
  },
  {
   "cell_type": "markdown",
   "metadata": {},
   "source": [
    "Проверим распределение значений в признаках."
   ]
  },
  {
   "cell_type": "code",
   "execution_count": 750,
   "metadata": {
    "scrolled": true
   },
   "outputs": [
    {
     "name": "stdout",
     "output_type": "stream",
     "text": [
      "столбец:  \u001b[1mDateCrawled\u001b[0m ---------------\n",
      "2016-03-24 14:49:47    7\n",
      "2016-03-26 22:57:31    6\n",
      "2016-03-19 21:49:56    6\n",
      "2016-04-02 14:50:21    5\n",
      "2016-03-23 13:50:19    5\n",
      "                      ..\n",
      "2016-03-20 16:48:06    1\n",
      "2016-03-22 21:51:04    1\n",
      "2016-03-11 16:25:36    1\n",
      "2016-03-31 12:47:30    1\n",
      "2016-03-19 18:57:12    1\n",
      "Name: DateCrawled, Length: 271174, dtype: int64\n",
      "столбец:  \u001b[1mPrice\u001b[0m ---------------\n",
      "0        10772\n",
      "500       5670\n",
      "1500      5394\n",
      "1000      4649\n",
      "1200      4594\n",
      "         ...  \n",
      "1368         1\n",
      "233          1\n",
      "11080        1\n",
      "16340        1\n",
      "10985        1\n",
      "Name: Price, Length: 3731, dtype: int64\n",
      "столбец:  \u001b[1mVehicleType\u001b[0m ---------------\n",
      "sedan          91457\n",
      "small          79831\n",
      "wagon          65166\n",
      "bus            28775\n",
      "convertible    20203\n",
      "coupe          16163\n",
      "suv            11996\n",
      "other           3288\n",
      "Name: VehicleType, dtype: int64\n",
      "столбец:  \u001b[1mRegistrationYear\u001b[0m ---------------\n",
      "2000    24490\n",
      "1999    22728\n",
      "2005    22109\n",
      "2001    20124\n",
      "2006    19900\n",
      "        ...  \n",
      "6500        1\n",
      "2290        1\n",
      "1001        1\n",
      "9450        1\n",
      "3500        1\n",
      "Name: RegistrationYear, Length: 151, dtype: int64\n",
      "столбец:  \u001b[1mGearbox\u001b[0m ---------------\n",
      "manual    268251\n",
      "auto       66285\n",
      "Name: Gearbox, dtype: int64\n",
      "столбец:  \u001b[1mPower\u001b[0m ---------------\n",
      "0       40225\n",
      "75      24023\n",
      "60      15897\n",
      "150     14590\n",
      "101     13298\n",
      "        ...  \n",
      "610         1\n",
      "6006        1\n",
      "5815        1\n",
      "6018        1\n",
      "1241        1\n",
      "Name: Power, Length: 712, dtype: int64\n",
      "столбец:  \u001b[1mModel\u001b[0m ---------------\n",
      "golf                  29232\n",
      "other                 24421\n",
      "3er                   19761\n",
      "polo                  13066\n",
      "corsa                 12570\n",
      "                      ...  \n",
      "i3                        8\n",
      "serie_3                   4\n",
      "rangerover                4\n",
      "range_rover_evoque        2\n",
      "serie_1                   2\n",
      "Name: Model, Length: 250, dtype: int64\n",
      "столбец:  \u001b[1mKilometer\u001b[0m ---------------\n",
      "150000    238209\n",
      "125000     36454\n",
      "100000     14882\n",
      "90000      11567\n",
      "80000      10047\n",
      "70000       8593\n",
      "60000       7444\n",
      "5000        6397\n",
      "50000       6232\n",
      "40000       4911\n",
      "30000       4436\n",
      "20000       3975\n",
      "10000       1222\n",
      "Name: Kilometer, dtype: int64\n",
      "столбец:  \u001b[1mRegistrationMonth\u001b[0m ---------------\n",
      "0     37352\n",
      "3     34373\n",
      "6     31508\n",
      "4     29270\n",
      "5     29153\n",
      "7     27213\n",
      "10    26099\n",
      "12    24289\n",
      "11    24186\n",
      "9     23813\n",
      "1     23219\n",
      "8     22627\n",
      "2     21267\n",
      "Name: RegistrationMonth, dtype: int64\n",
      "столбец:  \u001b[1mFuelType\u001b[0m ---------------\n",
      "petrol      216352\n",
      "gasoline     98720\n",
      "lpg           5310\n",
      "cng            565\n",
      "hybrid         233\n",
      "other          204\n",
      "electric        90\n",
      "Name: FuelType, dtype: int64\n",
      "столбец:  \u001b[1mBrand\u001b[0m ---------------\n",
      "volkswagen        77013\n",
      "opel              39931\n",
      "bmw               36914\n",
      "mercedes_benz     32046\n",
      "audi              29456\n",
      "ford              25179\n",
      "renault           17927\n",
      "peugeot           10998\n",
      "fiat               9643\n",
      "seat               6907\n",
      "mazda              5615\n",
      "skoda              5500\n",
      "smart              5246\n",
      "citroen            5148\n",
      "nissan             4941\n",
      "toyota             4606\n",
      "hyundai            3587\n",
      "sonstige_autos     3374\n",
      "volvo              3210\n",
      "mini               3202\n",
      "mitsubishi         3022\n",
      "honda              2817\n",
      "kia                2465\n",
      "suzuki             2323\n",
      "alfa_romeo         2314\n",
      "chevrolet          1754\n",
      "chrysler           1439\n",
      "dacia               900\n",
      "daihatsu            806\n",
      "subaru              762\n",
      "porsche             758\n",
      "jeep                677\n",
      "trabant             589\n",
      "land_rover          545\n",
      "daewoo              542\n",
      "saab                526\n",
      "jaguar              505\n",
      "rover               486\n",
      "lancia              471\n",
      "lada                225\n",
      "Name: Brand, dtype: int64\n",
      "столбец:  \u001b[1mNotRepaired\u001b[0m ---------------\n",
      "no     247161\n",
      "yes     36054\n",
      "Name: NotRepaired, dtype: int64\n",
      "столбец:  \u001b[1mDateCreated\u001b[0m ---------------\n",
      "2016-04-03 00:00:00    13719\n",
      "2016-04-04 00:00:00    13317\n",
      "2016-03-20 00:00:00    12918\n",
      "2016-03-12 00:00:00    12840\n",
      "2016-03-21 00:00:00    12691\n",
      "                       ...  \n",
      "2015-08-07 00:00:00        1\n",
      "2015-12-27 00:00:00        1\n",
      "2015-11-12 00:00:00        1\n",
      "2015-12-06 00:00:00        1\n",
      "2015-06-18 00:00:00        1\n",
      "Name: DateCreated, Length: 109, dtype: int64\n",
      "столбец:  \u001b[1mNumberOfPictures\u001b[0m ---------------\n",
      "0    354369\n",
      "Name: NumberOfPictures, dtype: int64\n",
      "столбец:  \u001b[1mPostalCode\u001b[0m ---------------\n",
      "10115    819\n",
      "65428    613\n",
      "66333    343\n",
      "32257    317\n",
      "44145    317\n",
      "        ... \n",
      "91801      1\n",
      "31097      1\n",
      "82444      1\n",
      "94359      1\n",
      "31096      1\n",
      "Name: PostalCode, Length: 8143, dtype: int64\n",
      "столбец:  \u001b[1mLastSeen\u001b[0m ---------------\n",
      "2016-04-06 13:45:54    17\n",
      "2016-04-07 09:45:10    16\n",
      "2016-04-06 01:15:23    16\n",
      "2016-04-06 10:15:26    16\n",
      "2016-04-07 05:44:30    16\n",
      "                       ..\n",
      "2016-03-07 17:46:17     1\n",
      "2016-03-10 07:49:15     1\n",
      "2016-04-03 04:18:11     1\n",
      "2016-03-16 20:19:54     1\n",
      "2016-03-21 10:42:49     1\n",
      "Name: LastSeen, Length: 179150, dtype: int64\n"
     ]
    }
   ],
   "source": [
    "for col in df.columns:\n",
    "    print('столбец: ', '\\033[1m'+ col + '\\033[0m', '---------------')\n",
    "    print(df[col].value_counts())"
   ]
  },
  {
   "cell_type": "markdown",
   "metadata": {},
   "source": [
    "### Удаляем лишние столбцы:\n",
    "\n",
    "- DateCrawled\n",
    "- LastSeen\n",
    "- DateCreated\n",
    "- NumberOfPictures\n",
    "- DateCreated\n",
    "\n",
    "Эти столбцы не содержат информации связанной с Ценой."
   ]
  },
  {
   "cell_type": "code",
   "execution_count": 751,
   "metadata": {
    "scrolled": true
   },
   "outputs": [],
   "source": [
    "df = df.drop(['DateCrawled', 'LastSeen', 'DateCreated', 'NumberOfPictures', 'DateCreated'], axis=1)"
   ]
  },
  {
   "cell_type": "markdown",
   "metadata": {},
   "source": [
    "### Удаляем аномальные значения Price  < 1 тыс. руб."
   ]
  },
  {
   "cell_type": "code",
   "execution_count": 752,
   "metadata": {},
   "outputs": [
    {
     "data": {
      "text/plain": [
       "342408"
      ]
     },
     "execution_count": 752,
     "metadata": {},
     "output_type": "execute_result"
    }
   ],
   "source": [
    "df = df.query('Price > 1')\n",
    "df.shape[0]"
   ]
  },
  {
   "cell_type": "markdown",
   "metadata": {},
   "source": [
    "### Удаляем аномальные  значения Power > 600"
   ]
  },
  {
   "cell_type": "code",
   "execution_count": 753,
   "metadata": {},
   "outputs": [
    {
     "data": {
      "text/plain": [
       "342052"
      ]
     },
     "execution_count": 753,
     "metadata": {},
     "output_type": "execute_result"
    }
   ],
   "source": [
    "df = df.query('Power <= 600')\n",
    "df.shape[0]"
   ]
  },
  {
   "cell_type": "markdown",
   "metadata": {},
   "source": [
    "### Удаляем пропуски в значениях признаков NaN"
   ]
  },
  {
   "cell_type": "code",
   "execution_count": 754,
   "metadata": {},
   "outputs": [
    {
     "data": {
      "text/plain": [
       "241946"
      ]
     },
     "execution_count": 754,
     "metadata": {},
     "output_type": "execute_result"
    }
   ],
   "source": [
    "df = df.dropna().reset_index(drop=True)\n",
    "df.shape[0]"
   ]
  },
  {
   "cell_type": "code",
   "execution_count": 755,
   "metadata": {
    "scrolled": false
   },
   "outputs": [
    {
     "data": {
      "text/html": [
       "<div>\n",
       "<style scoped>\n",
       "    .dataframe tbody tr th:only-of-type {\n",
       "        vertical-align: middle;\n",
       "    }\n",
       "\n",
       "    .dataframe tbody tr th {\n",
       "        vertical-align: top;\n",
       "    }\n",
       "\n",
       "    .dataframe thead th {\n",
       "        text-align: right;\n",
       "    }\n",
       "</style>\n",
       "<table border=\"1\" class=\"dataframe\">\n",
       "  <thead>\n",
       "    <tr style=\"text-align: right;\">\n",
       "      <th></th>\n",
       "      <th>Price</th>\n",
       "      <th>VehicleType</th>\n",
       "      <th>RegistrationYear</th>\n",
       "      <th>Gearbox</th>\n",
       "      <th>Power</th>\n",
       "      <th>Model</th>\n",
       "      <th>Kilometer</th>\n",
       "      <th>RegistrationMonth</th>\n",
       "      <th>FuelType</th>\n",
       "      <th>Brand</th>\n",
       "      <th>NotRepaired</th>\n",
       "      <th>PostalCode</th>\n",
       "    </tr>\n",
       "  </thead>\n",
       "  <tbody>\n",
       "    <tr>\n",
       "      <th>0</th>\n",
       "      <td>1500</td>\n",
       "      <td>small</td>\n",
       "      <td>2001</td>\n",
       "      <td>manual</td>\n",
       "      <td>75</td>\n",
       "      <td>golf</td>\n",
       "      <td>150000</td>\n",
       "      <td>6</td>\n",
       "      <td>petrol</td>\n",
       "      <td>volkswagen</td>\n",
       "      <td>no</td>\n",
       "      <td>91074</td>\n",
       "    </tr>\n",
       "    <tr>\n",
       "      <th>1</th>\n",
       "      <td>3600</td>\n",
       "      <td>small</td>\n",
       "      <td>2008</td>\n",
       "      <td>manual</td>\n",
       "      <td>69</td>\n",
       "      <td>fabia</td>\n",
       "      <td>90000</td>\n",
       "      <td>7</td>\n",
       "      <td>gasoline</td>\n",
       "      <td>skoda</td>\n",
       "      <td>no</td>\n",
       "      <td>60437</td>\n",
       "    </tr>\n",
       "    <tr>\n",
       "      <th>2</th>\n",
       "      <td>650</td>\n",
       "      <td>sedan</td>\n",
       "      <td>1995</td>\n",
       "      <td>manual</td>\n",
       "      <td>102</td>\n",
       "      <td>3er</td>\n",
       "      <td>150000</td>\n",
       "      <td>10</td>\n",
       "      <td>petrol</td>\n",
       "      <td>bmw</td>\n",
       "      <td>yes</td>\n",
       "      <td>33775</td>\n",
       "    </tr>\n",
       "    <tr>\n",
       "      <th>3</th>\n",
       "      <td>2200</td>\n",
       "      <td>convertible</td>\n",
       "      <td>2004</td>\n",
       "      <td>manual</td>\n",
       "      <td>109</td>\n",
       "      <td>2_reihe</td>\n",
       "      <td>150000</td>\n",
       "      <td>8</td>\n",
       "      <td>petrol</td>\n",
       "      <td>peugeot</td>\n",
       "      <td>no</td>\n",
       "      <td>67112</td>\n",
       "    </tr>\n",
       "    <tr>\n",
       "      <th>4</th>\n",
       "      <td>2000</td>\n",
       "      <td>sedan</td>\n",
       "      <td>2004</td>\n",
       "      <td>manual</td>\n",
       "      <td>105</td>\n",
       "      <td>3_reihe</td>\n",
       "      <td>150000</td>\n",
       "      <td>12</td>\n",
       "      <td>petrol</td>\n",
       "      <td>mazda</td>\n",
       "      <td>no</td>\n",
       "      <td>96224</td>\n",
       "    </tr>\n",
       "    <tr>\n",
       "      <th>...</th>\n",
       "      <td>...</td>\n",
       "      <td>...</td>\n",
       "      <td>...</td>\n",
       "      <td>...</td>\n",
       "      <td>...</td>\n",
       "      <td>...</td>\n",
       "      <td>...</td>\n",
       "      <td>...</td>\n",
       "      <td>...</td>\n",
       "      <td>...</td>\n",
       "      <td>...</td>\n",
       "      <td>...</td>\n",
       "    </tr>\n",
       "    <tr>\n",
       "      <th>241941</th>\n",
       "      <td>3999</td>\n",
       "      <td>wagon</td>\n",
       "      <td>2005</td>\n",
       "      <td>manual</td>\n",
       "      <td>3</td>\n",
       "      <td>3er</td>\n",
       "      <td>150000</td>\n",
       "      <td>5</td>\n",
       "      <td>gasoline</td>\n",
       "      <td>bmw</td>\n",
       "      <td>no</td>\n",
       "      <td>81825</td>\n",
       "    </tr>\n",
       "    <tr>\n",
       "      <th>241942</th>\n",
       "      <td>3200</td>\n",
       "      <td>sedan</td>\n",
       "      <td>2004</td>\n",
       "      <td>manual</td>\n",
       "      <td>225</td>\n",
       "      <td>leon</td>\n",
       "      <td>150000</td>\n",
       "      <td>5</td>\n",
       "      <td>petrol</td>\n",
       "      <td>seat</td>\n",
       "      <td>yes</td>\n",
       "      <td>96465</td>\n",
       "    </tr>\n",
       "    <tr>\n",
       "      <th>241943</th>\n",
       "      <td>1150</td>\n",
       "      <td>bus</td>\n",
       "      <td>2000</td>\n",
       "      <td>manual</td>\n",
       "      <td>0</td>\n",
       "      <td>zafira</td>\n",
       "      <td>150000</td>\n",
       "      <td>3</td>\n",
       "      <td>petrol</td>\n",
       "      <td>opel</td>\n",
       "      <td>no</td>\n",
       "      <td>26624</td>\n",
       "    </tr>\n",
       "    <tr>\n",
       "      <th>241944</th>\n",
       "      <td>1199</td>\n",
       "      <td>convertible</td>\n",
       "      <td>2000</td>\n",
       "      <td>auto</td>\n",
       "      <td>101</td>\n",
       "      <td>fortwo</td>\n",
       "      <td>125000</td>\n",
       "      <td>3</td>\n",
       "      <td>petrol</td>\n",
       "      <td>smart</td>\n",
       "      <td>no</td>\n",
       "      <td>26135</td>\n",
       "    </tr>\n",
       "    <tr>\n",
       "      <th>241945</th>\n",
       "      <td>9200</td>\n",
       "      <td>bus</td>\n",
       "      <td>1996</td>\n",
       "      <td>manual</td>\n",
       "      <td>102</td>\n",
       "      <td>transporter</td>\n",
       "      <td>150000</td>\n",
       "      <td>3</td>\n",
       "      <td>gasoline</td>\n",
       "      <td>volkswagen</td>\n",
       "      <td>no</td>\n",
       "      <td>87439</td>\n",
       "    </tr>\n",
       "  </tbody>\n",
       "</table>\n",
       "<p>241946 rows × 12 columns</p>\n",
       "</div>"
      ],
      "text/plain": [
       "        Price  VehicleType  RegistrationYear Gearbox  Power        Model  \\\n",
       "0        1500        small              2001  manual     75         golf   \n",
       "1        3600        small              2008  manual     69        fabia   \n",
       "2         650        sedan              1995  manual    102          3er   \n",
       "3        2200  convertible              2004  manual    109      2_reihe   \n",
       "4        2000        sedan              2004  manual    105      3_reihe   \n",
       "...       ...          ...               ...     ...    ...          ...   \n",
       "241941   3999        wagon              2005  manual      3          3er   \n",
       "241942   3200        sedan              2004  manual    225         leon   \n",
       "241943   1150          bus              2000  manual      0       zafira   \n",
       "241944   1199  convertible              2000    auto    101       fortwo   \n",
       "241945   9200          bus              1996  manual    102  transporter   \n",
       "\n",
       "        Kilometer  RegistrationMonth  FuelType       Brand NotRepaired  \\\n",
       "0          150000                  6    petrol  volkswagen          no   \n",
       "1           90000                  7  gasoline       skoda          no   \n",
       "2          150000                 10    petrol         bmw         yes   \n",
       "3          150000                  8    petrol     peugeot          no   \n",
       "4          150000                 12    petrol       mazda          no   \n",
       "...           ...                ...       ...         ...         ...   \n",
       "241941     150000                  5  gasoline         bmw          no   \n",
       "241942     150000                  5    petrol        seat         yes   \n",
       "241943     150000                  3    petrol        opel          no   \n",
       "241944     125000                  3    petrol       smart          no   \n",
       "241945     150000                  3  gasoline  volkswagen          no   \n",
       "\n",
       "        PostalCode  \n",
       "0            91074  \n",
       "1            60437  \n",
       "2            33775  \n",
       "3            67112  \n",
       "4            96224  \n",
       "...            ...  \n",
       "241941       81825  \n",
       "241942       96465  \n",
       "241943       26624  \n",
       "241944       26135  \n",
       "241945       87439  \n",
       "\n",
       "[241946 rows x 12 columns]"
      ]
     },
     "execution_count": 755,
     "metadata": {},
     "output_type": "execute_result"
    }
   ],
   "source": [
    "df # проверим результат"
   ]
  },
  {
   "cell_type": "code",
   "execution_count": 756,
   "metadata": {
    "scrolled": true
   },
   "outputs": [
    {
     "name": "stdout",
     "output_type": "stream",
     "text": [
      "<class 'pandas.core.frame.DataFrame'>\n",
      "RangeIndex: 241946 entries, 0 to 241945\n",
      "Data columns (total 12 columns):\n",
      " #   Column             Non-Null Count   Dtype \n",
      "---  ------             --------------   ----- \n",
      " 0   Price              241946 non-null  int64 \n",
      " 1   VehicleType        241946 non-null  object\n",
      " 2   RegistrationYear   241946 non-null  int64 \n",
      " 3   Gearbox            241946 non-null  object\n",
      " 4   Power              241946 non-null  int64 \n",
      " 5   Model              241946 non-null  object\n",
      " 6   Kilometer          241946 non-null  int64 \n",
      " 7   RegistrationMonth  241946 non-null  int64 \n",
      " 8   FuelType           241946 non-null  object\n",
      " 9   Brand              241946 non-null  object\n",
      " 10  NotRepaired        241946 non-null  object\n",
      " 11  PostalCode         241946 non-null  int64 \n",
      "dtypes: int64(6), object(6)\n",
      "memory usage: 22.2+ MB\n"
     ]
    }
   ],
   "source": [
    "df.info()"
   ]
  },
  {
   "cell_type": "markdown",
   "metadata": {},
   "source": [
    "### Возраст авто\n",
    "У нас разный возраст машин. Есть гипотеза, что для разных возрастов - своё ценообразование. Поэтому, введем признак \"тип возраста\" (ретро, супер-ретро, старая, новая)"
   ]
  },
  {
   "cell_type": "markdown",
   "metadata": {},
   "source": [
    "Группируем средню стоимость по возрасту авто."
   ]
  },
  {
   "cell_type": "code",
   "execution_count": 757,
   "metadata": {
    "scrolled": true
   },
   "outputs": [],
   "source": [
    "group_price = df.groupby(['RegistrationYear']).agg(mean_Price=('Price','mean'))"
   ]
  },
  {
   "cell_type": "code",
   "execution_count": 758,
   "metadata": {
    "scrolled": false
   },
   "outputs": [
    {
     "data": {
      "image/png": "[encoded data removed]",
      "text/plain": [
       "<Figure size 1008x288 with 1 Axes>"
      ]
     },
     "metadata": {
      "needs_background": "light"
     },
     "output_type": "display_data"
    }
   ],
   "source": [
    "plt.figure(figsize=(14, 4))\n",
    "plt.bar(group_price.index, group_price['mean_Price'])\n",
    "\n",
    "#подписи осей\n",
    "plt.xlabel('Год выпуска авто')\n",
    "plt.ylabel('Средняя стоимость, тыс.руб.')\n",
    "\n",
    "#заголовок\n",
    "plt.title('Зависимость стоимости от возраста авто')\n",
    "\n",
    "plt.grid(True)\n",
    "\n",
    "plt.show()"
   ]
  },
  {
   "cell_type": "markdown",
   "metadata": {},
   "source": [
    "Как видно из графика стоимость авто после 30 лет начинает расти.\n",
    "\n",
    "Создадим категорию \"тип возраста\":\n",
    "\n",
    "- до 1960 - `супер ретро`\n",
    "- 1961 .. 1990 - `ретро`\n",
    "- 1991 .. 2011 - `старая`\n",
    "- 2012 .. н.в - `новая`"
   ]
  },
  {
   "cell_type": "markdown",
   "metadata": {},
   "source": [
    "Создадим новый столбец `тип_возраста`"
   ]
  },
  {
   "cell_type": "code",
   "execution_count": 759,
   "metadata": {},
   "outputs": [],
   "source": [
    "df['тип_возраста'] = 'новая'\n",
    "df.loc[df['RegistrationYear'] < 2012, 'тип_возраста'] = 'старая'\n",
    "df.loc[df['RegistrationYear'] < 1991, 'тип_возраста'] = 'ретро'\n",
    "df.loc[df['RegistrationYear'] < 1961, 'тип_возраста'] = 'супер ретро'"
   ]
  },
  {
   "cell_type": "code",
   "execution_count": 760,
   "metadata": {
    "scrolled": true
   },
   "outputs": [
    {
     "data": {
      "text/html": [
       "<div>\n",
       "<style scoped>\n",
       "    .dataframe tbody tr th:only-of-type {\n",
       "        vertical-align: middle;\n",
       "    }\n",
       "\n",
       "    .dataframe tbody tr th {\n",
       "        vertical-align: top;\n",
       "    }\n",
       "\n",
       "    .dataframe thead th {\n",
       "        text-align: right;\n",
       "    }\n",
       "</style>\n",
       "<table border=\"1\" class=\"dataframe\">\n",
       "  <thead>\n",
       "    <tr style=\"text-align: right;\">\n",
       "      <th></th>\n",
       "      <th>mean_Year</th>\n",
       "    </tr>\n",
       "    <tr>\n",
       "      <th>тип_возраста</th>\n",
       "      <th></th>\n",
       "    </tr>\n",
       "  </thead>\n",
       "  <tbody>\n",
       "    <tr>\n",
       "      <th>новая</th>\n",
       "      <td>2,012.9</td>\n",
       "    </tr>\n",
       "    <tr>\n",
       "      <th>ретро</th>\n",
       "      <td>1,983.7</td>\n",
       "    </tr>\n",
       "    <tr>\n",
       "      <th>старая</th>\n",
       "      <td>2,002.9</td>\n",
       "    </tr>\n",
       "    <tr>\n",
       "      <th>супер ретро</th>\n",
       "      <td>1,952.6</td>\n",
       "    </tr>\n",
       "  </tbody>\n",
       "</table>\n",
       "</div>"
      ],
      "text/plain": [
       "              mean_Year\n",
       "тип_возраста           \n",
       "новая           2,012.9\n",
       "ретро           1,983.7\n",
       "старая          2,002.9\n",
       "супер ретро     1,952.6"
      ]
     },
     "execution_count": 760,
     "metadata": {},
     "output_type": "execute_result"
    }
   ],
   "source": [
    "df.groupby(['тип_возраста']).agg(mean_Year=('RegistrationYear','mean')) # проверим результ"
   ]
  },
  {
   "cell_type": "markdown",
   "metadata": {},
   "source": [
    "### Переводим категориальные признаки из текста в цифры:"
   ]
  },
  {
   "cell_type": "markdown",
   "metadata": {},
   "source": [
    "Сохраним dataframe для проверки работы с категориальными признаками в модели LGBMRegressor "
   ]
  },
  {
   "cell_type": "code",
   "execution_count": 761,
   "metadata": {},
   "outputs": [],
   "source": [
    "df2 = df.copy()"
   ]
  },
  {
   "cell_type": "markdown",
   "metadata": {},
   "source": [
    "#### Ordinal Encoding\n",
    "Что бы закодировать цифрами выраженные в тексте категории используем  **Ordinal Encoding**.\n",
    "\n",
    "1. Фиксируется, какой цифрой кодируется класс;\n",
    "2. Цифры размещаются в столбце."
   ]
  },
  {
   "cell_type": "markdown",
   "metadata": {},
   "source": [
    "Преобразуем только столбцы с текстовым форматом."
   ]
  },
  {
   "cell_type": "code",
   "execution_count": 762,
   "metadata": {
    "scrolled": false
   },
   "outputs": [
    {
     "data": {
      "text/html": [
       "<div>\n",
       "<style scoped>\n",
       "    .dataframe tbody tr th:only-of-type {\n",
       "        vertical-align: middle;\n",
       "    }\n",
       "\n",
       "    .dataframe tbody tr th {\n",
       "        vertical-align: top;\n",
       "    }\n",
       "\n",
       "    .dataframe thead th {\n",
       "        text-align: right;\n",
       "    }\n",
       "</style>\n",
       "<table border=\"1\" class=\"dataframe\">\n",
       "  <thead>\n",
       "    <tr style=\"text-align: right;\">\n",
       "      <th></th>\n",
       "      <th>Price</th>\n",
       "      <th>VehicleType</th>\n",
       "      <th>RegistrationYear</th>\n",
       "      <th>Gearbox</th>\n",
       "      <th>Power</th>\n",
       "      <th>Model</th>\n",
       "      <th>Kilometer</th>\n",
       "      <th>RegistrationMonth</th>\n",
       "      <th>FuelType</th>\n",
       "      <th>Brand</th>\n",
       "      <th>NotRepaired</th>\n",
       "      <th>PostalCode</th>\n",
       "      <th>тип_возраста</th>\n",
       "    </tr>\n",
       "  </thead>\n",
       "  <tbody>\n",
       "    <tr>\n",
       "      <th>0</th>\n",
       "      <td>1500</td>\n",
       "      <td>5.0</td>\n",
       "      <td>2001</td>\n",
       "      <td>1.0</td>\n",
       "      <td>75</td>\n",
       "      <td>116.0</td>\n",
       "      <td>150000</td>\n",
       "      <td>6</td>\n",
       "      <td>6.0</td>\n",
       "      <td>37.0</td>\n",
       "      <td>0.0</td>\n",
       "      <td>91074</td>\n",
       "      <td>2.0</td>\n",
       "    </tr>\n",
       "    <tr>\n",
       "      <th>1</th>\n",
       "      <td>3600</td>\n",
       "      <td>5.0</td>\n",
       "      <td>2008</td>\n",
       "      <td>1.0</td>\n",
       "      <td>69</td>\n",
       "      <td>101.0</td>\n",
       "      <td>90000</td>\n",
       "      <td>7</td>\n",
       "      <td>2.0</td>\n",
       "      <td>31.0</td>\n",
       "      <td>0.0</td>\n",
       "      <td>60437</td>\n",
       "      <td>2.0</td>\n",
       "    </tr>\n",
       "    <tr>\n",
       "      <th>2</th>\n",
       "      <td>650</td>\n",
       "      <td>4.0</td>\n",
       "      <td>1995</td>\n",
       "      <td>1.0</td>\n",
       "      <td>102</td>\n",
       "      <td>11.0</td>\n",
       "      <td>150000</td>\n",
       "      <td>10</td>\n",
       "      <td>6.0</td>\n",
       "      <td>2.0</td>\n",
       "      <td>1.0</td>\n",
       "      <td>33775</td>\n",
       "      <td>2.0</td>\n",
       "    </tr>\n",
       "    <tr>\n",
       "      <th>3</th>\n",
       "      <td>2200</td>\n",
       "      <td>1.0</td>\n",
       "      <td>2004</td>\n",
       "      <td>1.0</td>\n",
       "      <td>109</td>\n",
       "      <td>8.0</td>\n",
       "      <td>150000</td>\n",
       "      <td>8</td>\n",
       "      <td>6.0</td>\n",
       "      <td>25.0</td>\n",
       "      <td>0.0</td>\n",
       "      <td>67112</td>\n",
       "      <td>2.0</td>\n",
       "    </tr>\n",
       "    <tr>\n",
       "      <th>4</th>\n",
       "      <td>2000</td>\n",
       "      <td>4.0</td>\n",
       "      <td>2004</td>\n",
       "      <td>1.0</td>\n",
       "      <td>105</td>\n",
       "      <td>10.0</td>\n",
       "      <td>150000</td>\n",
       "      <td>12</td>\n",
       "      <td>6.0</td>\n",
       "      <td>19.0</td>\n",
       "      <td>0.0</td>\n",
       "      <td>96224</td>\n",
       "      <td>2.0</td>\n",
       "    </tr>\n",
       "    <tr>\n",
       "      <th>...</th>\n",
       "      <td>...</td>\n",
       "      <td>...</td>\n",
       "      <td>...</td>\n",
       "      <td>...</td>\n",
       "      <td>...</td>\n",
       "      <td>...</td>\n",
       "      <td>...</td>\n",
       "      <td>...</td>\n",
       "      <td>...</td>\n",
       "      <td>...</td>\n",
       "      <td>...</td>\n",
       "      <td>...</td>\n",
       "      <td>...</td>\n",
       "    </tr>\n",
       "    <tr>\n",
       "      <th>241941</th>\n",
       "      <td>3999</td>\n",
       "      <td>7.0</td>\n",
       "      <td>2005</td>\n",
       "      <td>1.0</td>\n",
       "      <td>3</td>\n",
       "      <td>11.0</td>\n",
       "      <td>150000</td>\n",
       "      <td>5</td>\n",
       "      <td>2.0</td>\n",
       "      <td>2.0</td>\n",
       "      <td>0.0</td>\n",
       "      <td>81825</td>\n",
       "      <td>2.0</td>\n",
       "    </tr>\n",
       "    <tr>\n",
       "      <th>241942</th>\n",
       "      <td>3200</td>\n",
       "      <td>4.0</td>\n",
       "      <td>2004</td>\n",
       "      <td>1.0</td>\n",
       "      <td>225</td>\n",
       "      <td>140.0</td>\n",
       "      <td>150000</td>\n",
       "      <td>5</td>\n",
       "      <td>6.0</td>\n",
       "      <td>30.0</td>\n",
       "      <td>1.0</td>\n",
       "      <td>96465</td>\n",
       "      <td>2.0</td>\n",
       "    </tr>\n",
       "    <tr>\n",
       "      <th>241943</th>\n",
       "      <td>1150</td>\n",
       "      <td>0.0</td>\n",
       "      <td>2000</td>\n",
       "      <td>1.0</td>\n",
       "      <td>0</td>\n",
       "      <td>248.0</td>\n",
       "      <td>150000</td>\n",
       "      <td>3</td>\n",
       "      <td>6.0</td>\n",
       "      <td>24.0</td>\n",
       "      <td>0.0</td>\n",
       "      <td>26624</td>\n",
       "      <td>2.0</td>\n",
       "    </tr>\n",
       "    <tr>\n",
       "      <th>241944</th>\n",
       "      <td>1199</td>\n",
       "      <td>1.0</td>\n",
       "      <td>2000</td>\n",
       "      <td>0.0</td>\n",
       "      <td>101</td>\n",
       "      <td>106.0</td>\n",
       "      <td>125000</td>\n",
       "      <td>3</td>\n",
       "      <td>6.0</td>\n",
       "      <td>32.0</td>\n",
       "      <td>0.0</td>\n",
       "      <td>26135</td>\n",
       "      <td>2.0</td>\n",
       "    </tr>\n",
       "    <tr>\n",
       "      <th>241945</th>\n",
       "      <td>9200</td>\n",
       "      <td>0.0</td>\n",
       "      <td>1996</td>\n",
       "      <td>1.0</td>\n",
       "      <td>102</td>\n",
       "      <td>223.0</td>\n",
       "      <td>150000</td>\n",
       "      <td>3</td>\n",
       "      <td>2.0</td>\n",
       "      <td>37.0</td>\n",
       "      <td>0.0</td>\n",
       "      <td>87439</td>\n",
       "      <td>2.0</td>\n",
       "    </tr>\n",
       "  </tbody>\n",
       "</table>\n",
       "<p>241946 rows × 13 columns</p>\n",
       "</div>"
      ],
      "text/plain": [
       "        Price  VehicleType  RegistrationYear  Gearbox  Power  Model  \\\n",
       "0        1500          5.0              2001      1.0     75  116.0   \n",
       "1        3600          5.0              2008      1.0     69  101.0   \n",
       "2         650          4.0              1995      1.0    102   11.0   \n",
       "3        2200          1.0              2004      1.0    109    8.0   \n",
       "4        2000          4.0              2004      1.0    105   10.0   \n",
       "...       ...          ...               ...      ...    ...    ...   \n",
       "241941   3999          7.0              2005      1.0      3   11.0   \n",
       "241942   3200          4.0              2004      1.0    225  140.0   \n",
       "241943   1150          0.0              2000      1.0      0  248.0   \n",
       "241944   1199          1.0              2000      0.0    101  106.0   \n",
       "241945   9200          0.0              1996      1.0    102  223.0   \n",
       "\n",
       "        Kilometer  RegistrationMonth  FuelType  Brand  NotRepaired  \\\n",
       "0          150000                  6       6.0   37.0          0.0   \n",
       "1           90000                  7       2.0   31.0          0.0   \n",
       "2          150000                 10       6.0    2.0          1.0   \n",
       "3          150000                  8       6.0   25.0          0.0   \n",
       "4          150000                 12       6.0   19.0          0.0   \n",
       "...           ...                ...       ...    ...          ...   \n",
       "241941     150000                  5       2.0    2.0          0.0   \n",
       "241942     150000                  5       6.0   30.0          1.0   \n",
       "241943     150000                  3       6.0   24.0          0.0   \n",
       "241944     125000                  3       6.0   32.0          0.0   \n",
       "241945     150000                  3       2.0   37.0          0.0   \n",
       "\n",
       "        PostalCode  тип_возраста  \n",
       "0            91074           2.0  \n",
       "1            60437           2.0  \n",
       "2            33775           2.0  \n",
       "3            67112           2.0  \n",
       "4            96224           2.0  \n",
       "...            ...           ...  \n",
       "241941       81825           2.0  \n",
       "241942       96465           2.0  \n",
       "241943       26624           2.0  \n",
       "241944       26135           2.0  \n",
       "241945       87439           2.0  \n",
       "\n",
       "[241946 rows x 13 columns]"
      ]
     },
     "execution_count": 762,
     "metadata": {},
     "output_type": "execute_result"
    }
   ],
   "source": [
    "encoder = OrdinalEncoder()\n",
    "\n",
    "columns_ordinal = ['VehicleType', 'Gearbox', 'Model', 'FuelType', 'Brand', 'NotRepaired', 'тип_возраста'] # спискок столцов, которые нужно преобразовать.\n",
    "\n",
    "df_ordinal = pd.DataFrame(encoder.fit_transform(df[columns_ordinal]), columns=df[columns_ordinal].columns)\n",
    "\n",
    "df[columns_ordinal] = df_ordinal[columns_ordinal] #заменяем значения признаков в оригинальном DataFrame\n",
    "df"
   ]
  },
  {
   "cell_type": "code",
   "execution_count": 763,
   "metadata": {
    "scrolled": true
   },
   "outputs": [
    {
     "name": "stdout",
     "output_type": "stream",
     "text": [
      "<class 'pandas.core.frame.DataFrame'>\n",
      "RangeIndex: 241946 entries, 0 to 241945\n",
      "Data columns (total 13 columns):\n",
      " #   Column             Non-Null Count   Dtype  \n",
      "---  ------             --------------   -----  \n",
      " 0   Price              241946 non-null  int64  \n",
      " 1   VehicleType        241946 non-null  float64\n",
      " 2   RegistrationYear   241946 non-null  int64  \n",
      " 3   Gearbox            241946 non-null  float64\n",
      " 4   Power              241946 non-null  int64  \n",
      " 5   Model              241946 non-null  float64\n",
      " 6   Kilometer          241946 non-null  int64  \n",
      " 7   RegistrationMonth  241946 non-null  int64  \n",
      " 8   FuelType           241946 non-null  float64\n",
      " 9   Brand              241946 non-null  float64\n",
      " 10  NotRepaired        241946 non-null  float64\n",
      " 11  PostalCode         241946 non-null  int64  \n",
      " 12  тип_возраста       241946 non-null  float64\n",
      "dtypes: float64(7), int64(6)\n",
      "memory usage: 24.0 MB\n"
     ]
    }
   ],
   "source": [
    "df.info() #проверим формат данных"
   ]
  },
  {
   "cell_type": "markdown",
   "metadata": {},
   "source": [
    "### Разделим выборку\n",
    "на обучающую и валидационную случайным образом в пропорции 3:1:1\n",
    "\n",
    "Поскольку подбор гиперпараметров выполняется на валидационной выборке - нам понадобится тестовая для окончательного сравнения качества моделей."
   ]
  },
  {
   "cell_type": "markdown",
   "metadata": {},
   "source": [
    "Извлечем `признаки` и целевой признак"
   ]
  },
  {
   "cell_type": "code",
   "execution_count": 764,
   "metadata": {},
   "outputs": [],
   "source": [
    "target = df['Price']\n",
    "features = df.drop('Price', axis=1)"
   ]
  },
  {
   "cell_type": "markdown",
   "metadata": {},
   "source": [
    "Разделим исходные данные на обучающую, валидационную и тестовую выборки в рекомендованной пропорции 3:1:1. Для этого вначале разделим на две части в пропорции 1:4."
   ]
  },
  {
   "cell_type": "code",
   "execution_count": 765,
   "metadata": {},
   "outputs": [],
   "source": [
    "features_part, features_test, target_part, target_test = train_test_split(\n",
    "    features, target, test_size=0.2, random_state=12345) # отделим 20% (1/5) данных для тестовой выборки"
   ]
  },
  {
   "cell_type": "markdown",
   "metadata": {},
   "source": [
    "Вторым шагом разделим на две части в пропорции 1:3."
   ]
  },
  {
   "cell_type": "code",
   "execution_count": 766,
   "metadata": {
    "scrolled": true
   },
   "outputs": [],
   "source": [
    "features_train, features_valid, target_train, target_valid = train_test_split(\n",
    "    features_part, target_part, test_size=0.25, random_state=12345) # отделим 25% (1/4) данных для валидации"
   ]
  },
  {
   "cell_type": "markdown",
   "metadata": {},
   "source": [
    "Проверим `результат разбиения` данных:"
   ]
  },
  {
   "cell_type": "code",
   "execution_count": 767,
   "metadata": {
    "scrolled": true
   },
   "outputs": [
    {
     "data": {
      "text/plain": [
       "((145167, 12), (48389, 12), (48390, 12))"
      ]
     },
     "execution_count": 767,
     "metadata": {},
     "output_type": "execute_result"
    }
   ],
   "source": [
    "features_train.shape, features_valid.shape, features_test.shape # проверим результат разбиения"
   ]
  },
  {
   "cell_type": "markdown",
   "metadata": {},
   "source": [
    "### Масштабирование признаков\n",
    "\n",
    "Поскольку в данных присутствуют колличественные признаки с разными разбросами значений, то алгорим может решить, что признаки с большими значениями и разбросом важнее. Чтобы избежать этой ловушки, используем метод масштабирования — **стандартизации данных** — приводим к одному масштабу.\n",
    "\n",
    "Обучение проведим на тестовых данных, затем применяем модель стандартизации ко всем признакам, кроме целевых."
   ]
  },
  {
   "cell_type": "code",
   "execution_count": 768,
   "metadata": {},
   "outputs": [],
   "source": [
    "scaler = StandardScaler()\n",
    "scaler.fit(features_train) # обучаем на тестовых данных.\n",
    "\n",
    "features_train = pd.DataFrame(scaler.transform(features_train), columns=features_train.columns, index=features_train.index)\n",
    "features_valid = pd.DataFrame(scaler.transform(features_valid ), columns=features_valid.columns, index=features_valid.index)\n",
    "features_test = pd.DataFrame(scaler.transform(features_test), columns=features_test.columns, index=features_test.index)"
   ]
  },
  {
   "cell_type": "markdown",
   "metadata": {},
   "source": [
    "### Вывод по Подготовке данных:\n",
    "\n",
    "Удалили лишние столбцы\n",
    "- DateCrawled, LastSeen, DateCreated, NumberOfPictures, DateCreated.\n",
    "\n",
    "Удалили аномалии в данных:\n",
    "- Price < 1 и Power > 600 и Power < 10;\n",
    "- строки с Nan.\n",
    "\n",
    "Выполнили преобразование: \n",
    "- перевести текст в цифру;\n",
    "- Выполнили нормализацию.\n",
    "\n",
    "Число строк уменьшилось на 30%."
   ]
  },
  {
   "cell_type": "markdown",
   "metadata": {},
   "source": [
    "## Обучение моделей"
   ]
  },
  {
   "cell_type": "markdown",
   "metadata": {},
   "source": [
    "Проверим результаты предсказаний различных моделей: "
   ]
  },
  {
   "cell_type": "markdown",
   "metadata": {},
   "source": [
    "### **LinearRegression** модель линейной регрессии"
   ]
  },
  {
   "cell_type": "markdown",
   "metadata": {},
   "source": [
    "####  Скорость обучения"
   ]
  },
  {
   "cell_type": "code",
   "execution_count": 769,
   "metadata": {},
   "outputs": [
    {
     "name": "stdout",
     "output_type": "stream",
     "text": [
      "Wall time: 104 ms\n"
     ]
    },
    {
     "data": {
      "text/plain": [
       "LinearRegression()"
      ]
     },
     "execution_count": 769,
     "metadata": {},
     "output_type": "execute_result"
    }
   ],
   "source": [
    "%%time\n",
    "model = LinearRegression() # инициализируем модель LinearRegression\n",
    "model.fit(features_train, target_train) # обучим модель на тренировочной выборке"
   ]
  },
  {
   "cell_type": "markdown",
   "metadata": {},
   "source": [
    "#### Скорость предсказания"
   ]
  },
  {
   "cell_type": "code",
   "execution_count": 770,
   "metadata": {
    "scrolled": true
   },
   "outputs": [
    {
     "name": "stdout",
     "output_type": "stream",
     "text": [
      "RMSE модели линейной регрессии на валидационной выборке: 2860.2\n",
      "Wall time: 7.98 ms\n"
     ]
    }
   ],
   "source": [
    "%%time\n",
    "predictions_valid = model.predict(features_valid) # получим предсказания модели на валидационной выборке\n",
    "\n",
    "result = mean_squared_error(target_valid, predictions_valid) ** 0.5 # посчитаем значение метрики RMSE на валидационной выборке\n",
    "print(\"RMSE модели линейной регрессии на валидационной выборке: {:.1f}\".format(result))"
   ]
  },
  {
   "cell_type": "markdown",
   "metadata": {},
   "source": [
    "#### Результат на тестовой выборке"
   ]
  },
  {
   "cell_type": "code",
   "execution_count": 771,
   "metadata": {
    "scrolled": false
   },
   "outputs": [
    {
     "name": "stdout",
     "output_type": "stream",
     "text": [
      "RMSE модели линейной регрессии на тестовой выборке: 2845.6\n",
      "Wall time: 9.97 ms\n"
     ]
    }
   ],
   "source": [
    "%%time\n",
    "predictions_test = model.predict(features_test) # получим предсказания модели на валидационной выборке\n",
    "\n",
    "result = mean_squared_error(target_test, predictions_test) ** 0.5 # посчитаем значение метрики RMSE на валидационной выборке\n",
    "print(\"RMSE модели линейной регрессии на тестовой выборке: {:.1f}\".format(result))"
   ]
  },
  {
   "cell_type": "markdown",
   "metadata": {},
   "source": [
    "**`RMSE LinearRegression`** на валидационной выборке:\n",
    "- Обучение **`78.1 ms`**\n",
    "- Предсказание **`6.98 ms`**\n",
    "- RMSE  =  **`2873.9`**  - большое значение ошибки."
   ]
  },
  {
   "cell_type": "markdown",
   "metadata": {},
   "source": [
    "### **DecisionTreeRegressor** - модель дерева решений для регрессии"
   ]
  },
  {
   "cell_type": "markdown",
   "metadata": {},
   "source": [
    "#### Подбор гиперпараметров"
   ]
  },
  {
   "cell_type": "code",
   "execution_count": 772,
   "metadata": {
    "scrolled": true
   },
   "outputs": [
    {
     "name": "stdout",
     "output_type": "stream",
     "text": [
      "RMSE наилучшей модели на валидационной выборке: 1920.5 Глубина дерева: 13.0\n",
      "Wall time: 1.01 s\n"
     ]
    }
   ],
   "source": [
    "%%time\n",
    "\n",
    "best_model = None\n",
    "best_result = 10000\n",
    "best_depth = 0\n",
    "for depth in range(13, 14):\n",
    "    model = DecisionTreeRegressor(random_state=12345, max_depth=depth)\n",
    "    # инициализируем модель DecisionTreeRegressor с параметром random_state=12345 и max_depth=depth\n",
    "    model.fit(features_train, target_train) # обучим модель на тренировочной выборке\n",
    "    predictions_valid = model.predict(features_valid) # получим предсказания модели на валидационной выборке\n",
    "    result = mean_squared_error(target_valid, predictions_valid) ** 0.5 # значение метрики rmse на валидационной выборке\n",
    "    if result < best_result:\n",
    "        best_model = model\n",
    "        best_result = result\n",
    "        best_depth = depth\n",
    "\n",
    "print(\"RMSE наилучшей модели на валидационной выборке: {:.1f}\".format(best_result), \"Глубина дерева: {:.1f}\".format(best_depth))"
   ]
  },
  {
   "cell_type": "markdown",
   "metadata": {},
   "source": [
    "**`DecisionTreeRegressor`** на валидационной выборке: `Wall time: 860 ms` и `RMSE  = ` **`1889.7`**"
   ]
  },
  {
   "cell_type": "markdown",
   "metadata": {},
   "source": [
    "#### Скорость обучения:"
   ]
  },
  {
   "cell_type": "code",
   "execution_count": 773,
   "metadata": {},
   "outputs": [
    {
     "name": "stdout",
     "output_type": "stream",
     "text": [
      "Wall time: 913 ms\n"
     ]
    },
    {
     "data": {
      "text/plain": [
       "DecisionTreeRegressor(max_depth=13, random_state=12345)"
      ]
     },
     "execution_count": 773,
     "metadata": {},
     "output_type": "execute_result"
    }
   ],
   "source": [
    "%%time\n",
    "\n",
    "model = DecisionTreeRegressor(random_state=12345, max_depth=13)\n",
    "# инициализируем модель DecisionTreeRegressor с параметром random_state=12345 и max_depth=depth\n",
    "model.fit(features_train, target_train) # обучим модель на тренировочной выборке"
   ]
  },
  {
   "cell_type": "markdown",
   "metadata": {},
   "source": [
    "#### Скорость предсказаня:"
   ]
  },
  {
   "cell_type": "code",
   "execution_count": 774,
   "metadata": {
    "scrolled": true
   },
   "outputs": [
    {
     "name": "stdout",
     "output_type": "stream",
     "text": [
      "RMSE наилучшей модели на валидационной выборке: 1920.5 Глубина дерева: 13.0\n",
      "Wall time: 27.4 ms\n"
     ]
    }
   ],
   "source": [
    "%%time\n",
    "predictions_valid = model.predict(features_valid) # получим предсказания модели на валидационной выборке\n",
    "result = mean_squared_error(target_valid, predictions_valid) ** 0.5 # значение метрики rmse на валидационной выборке\n",
    "\n",
    "print(\"RMSE наилучшей модели на валидационной выборке: {:.1f}\".format(result), \"Глубина дерева: {:.1f}\".format(13))"
   ]
  },
  {
   "cell_type": "markdown",
   "metadata": {},
   "source": [
    "#### Результат на тестовой выборке"
   ]
  },
  {
   "cell_type": "code",
   "execution_count": 775,
   "metadata": {
    "scrolled": true
   },
   "outputs": [
    {
     "name": "stdout",
     "output_type": "stream",
     "text": [
      "RMSE наилучшей модели на тестовой выборке: 1902.0 Глубина дерева: 13.0\n",
      "Wall time: 22.9 ms\n"
     ]
    }
   ],
   "source": [
    "%%time\n",
    "predictions_test = model.predict(features_test) # получим предсказания модели на валидационной выборке\n",
    "result = mean_squared_error(target_test, predictions_test) ** 0.5 # значение метрики rmse на валидационной выборке\n",
    "\n",
    "print(\"RMSE наилучшей модели на тестовой выборке: {:.1f}\".format(result), \"Глубина дерева: {:.1f}\".format(13))"
   ]
  },
  {
   "cell_type": "markdown",
   "metadata": {},
   "source": [
    "**`DecisionTreeRegressor`** на тестовой выборке:\n",
    "- Обучение **` 924  ms`**\n",
    "- Предсказание **`28.9 ms`**\n",
    "- RMSE  =  **`1902.0`** "
   ]
  },
  {
   "cell_type": "markdown",
   "metadata": {},
   "source": [
    "#### График важности факторов"
   ]
  },
  {
   "cell_type": "markdown",
   "metadata": {},
   "source": [
    "Для понимания какие факторы оказались важны при моделировании используем feature_importances_ и отразим значения на графике. "
   ]
  },
  {
   "cell_type": "code",
   "execution_count": 776,
   "metadata": {
    "scrolled": true
   },
   "outputs": [
    {
     "data": {
      "image/png": "[encoded data removed]",
      "text/plain": [
       "<Figure size 576x216 with 1 Axes>"
      ]
     },
     "metadata": {
      "needs_background": "light"
     },
     "output_type": "display_data"
    }
   ],
   "source": [
    "fig, ax = plt.subplots(figsize=(8,3))\n",
    "ax.bar(features_test.columns, model.feature_importances_)\n",
    "fig.autofmt_xdate()\n",
    "\n",
    "#подписи осей\n",
    "plt.xlabel('Признаки')\n",
    "plt.ylabel('Важность')\n",
    "\n",
    "#заголовок\n",
    "plt.title('Важность факторов в модели DecisionTreeRegressor')\n",
    "\n",
    "plt.show()"
   ]
  },
  {
   "cell_type": "markdown",
   "metadata": {},
   "source": [
    "### **RandomForestRegressor** - модель случайного леса для регрессии"
   ]
  },
  {
   "cell_type": "markdown",
   "metadata": {},
   "source": [
    "#### Подбор гиперпараметров"
   ]
  },
  {
   "cell_type": "code",
   "execution_count": 777,
   "metadata": {
    "scrolled": true
   },
   "outputs": [
    {
     "name": "stdout",
     "output_type": "stream",
     "text": [
      "RMSE наилучшей модели на валидационной выборке: 1681.8 Количество деревьев: 13.0 Максимальная глубина: 14.0\n",
      "Wall time: 8.82 s\n"
     ]
    }
   ],
   "source": [
    "%%time\n",
    "\n",
    "best_model = None\n",
    "best_result = 10000\n",
    "best_est = 0\n",
    "best_depth = 0\n",
    "for est in range(13, 14, 1):\n",
    "    for depth in range (14, 15):\n",
    "        model = RandomForestRegressor(random_state=12345, n_estimators=est,\n",
    "                max_depth=depth)# инициализируем модель RandomForestRegressor с параметрами random_state=12345, n_estimators=est и max_depth=depth\n",
    "        model.fit(features_train, target_train) # обучим модель на тренировочной выборке\n",
    "        predictions_valid = model.predict(features_valid) # предсказания модели на валидационной выборке\n",
    "        result = mean_squared_error(target_valid, predictions_valid) ** 0.5 # значение метрики rmse на валидационной выборке\n",
    "        if result < best_result:\n",
    "            best_model = model\n",
    "            best_result = result\n",
    "            best_est = est\n",
    "            best_depth = depth\n",
    "\n",
    "print(\"RMSE наилучшей модели на валидационной выборке: {:.1f}\".format(best_result),\n",
    "      \"Количество деревьев: {:.1f}\".format(best_est), \"Максимальная глубина: {:.1f}\".format(depth))"
   ]
  },
  {
   "cell_type": "markdown",
   "metadata": {},
   "source": [
    "**`RandomForestRegressor `** на валидационной выборке: `Wall time: 8.06 s` и `RMSE  = ` **`1665.6`**"
   ]
  },
  {
   "cell_type": "markdown",
   "metadata": {},
   "source": [
    "#### Скорость обучения:"
   ]
  },
  {
   "cell_type": "code",
   "execution_count": 778,
   "metadata": {
    "scrolled": false
   },
   "outputs": [
    {
     "name": "stdout",
     "output_type": "stream",
     "text": [
      "Wall time: 8.5 s\n"
     ]
    },
    {
     "data": {
      "text/plain": [
       "RandomForestRegressor(max_depth=14, n_estimators=13, random_state=12345)"
      ]
     },
     "execution_count": 778,
     "metadata": {},
     "output_type": "execute_result"
    }
   ],
   "source": [
    "%%time\n",
    "\n",
    "model = RandomForestRegressor(random_state=12345, n_estimators=13,\n",
    "                max_depth=14)# инициализируем модель RandomForestRegressor с параметрами random_state=12345, n_estimators=est и max_depth=depth\n",
    "model.fit(features_train, target_train) # обучим модель на тренировочной выборке"
   ]
  },
  {
   "cell_type": "markdown",
   "metadata": {},
   "source": [
    "#### Скорость предсказания:"
   ]
  },
  {
   "cell_type": "code",
   "execution_count": 779,
   "metadata": {
    "scrolled": false
   },
   "outputs": [
    {
     "name": "stdout",
     "output_type": "stream",
     "text": [
      "RMSE наилучшей модели на валидационной выборке: 1681.8 Количество деревьев: 13.0 Максимальная глубина: 14.0\n",
      "Wall time: 189 ms\n"
     ]
    }
   ],
   "source": [
    "%%time\n",
    "predictions_valid = model.predict(features_valid) # предсказания модели на валидационной выборке\n",
    "result = mean_squared_error(target_valid, predictions_valid) ** 0.5 # значение метрики rmse на валидационной выборке\n",
    "\n",
    "print(\"RMSE наилучшей модели на валидационной выборке: {:.1f}\".format(result),\n",
    "      \"Количество деревьев: {:.1f}\".format(13), \"Максимальная глубина: {:.1f}\".format(14))"
   ]
  },
  {
   "cell_type": "markdown",
   "metadata": {},
   "source": [
    "#### Результат на тестовой выборке"
   ]
  },
  {
   "cell_type": "code",
   "execution_count": 780,
   "metadata": {
    "scrolled": true
   },
   "outputs": [
    {
     "name": "stdout",
     "output_type": "stream",
     "text": [
      "RMSE наилучшей модели на тестовой выборке: 1656.1 Количество деревьев: 13.0 Максимальная глубина: 14.0\n",
      "Wall time: 179 ms\n"
     ]
    }
   ],
   "source": [
    "%%time\n",
    "predictions_test = model.predict(features_test) # предсказания модели на валидационной выборке\n",
    "result = mean_squared_error(target_test, predictions_test) ** 0.5 # значение метрики rmse на валидационной выборке\n",
    "\n",
    "print(\"RMSE наилучшей модели на тестовой выборке: {:.1f}\".format(result),\n",
    "      \"Количество деревьев: {:.1f}\".format(13), \"Максимальная глубина: {:.1f}\".format(14))"
   ]
  },
  {
   "cell_type": "markdown",
   "metadata": {},
   "source": [
    "**`RandomForestRegressor `** на тестовой выборке:\n",
    "- Обучение **`8460 ms`** - большое время обучения\n",
    "- Предсказание **`182 ms`**\n",
    "- RMSE  =  **`1656.1`**"
   ]
  },
  {
   "cell_type": "markdown",
   "metadata": {},
   "source": [
    "#### График важности факторов"
   ]
  },
  {
   "cell_type": "markdown",
   "metadata": {},
   "source": [
    "Для понимания какие факторы оказались важны при моделировании используем feature_importances_ и график. "
   ]
  },
  {
   "cell_type": "code",
   "execution_count": 781,
   "metadata": {
    "scrolled": true
   },
   "outputs": [
    {
     "data": {
      "image/png": "[encoded data removed]",
      "text/plain": [
       "<Figure size 576x216 with 1 Axes>"
      ]
     },
     "metadata": {
      "needs_background": "light"
     },
     "output_type": "display_data"
    }
   ],
   "source": [
    "fig, ax = plt.subplots(figsize=(8,3))\n",
    "ax.bar(features_test.columns, model.feature_importances_)\n",
    "fig.autofmt_xdate()\n",
    "\n",
    "#подписи осей\n",
    "plt.xlabel('Признаки')\n",
    "plt.ylabel('Важность')\n",
    "\n",
    "#заголовок\n",
    "plt.title('Важность факторов в модели RandomForestRegressor')\n",
    "\n",
    "plt.show()"
   ]
  },
  {
   "cell_type": "markdown",
   "metadata": {},
   "source": [
    "### **LGBMRegressor** -  модель LightGBM для регрессии"
   ]
  },
  {
   "cell_type": "markdown",
   "metadata": {},
   "source": [
    "#### Параметры по умолчанию."
   ]
  },
  {
   "cell_type": "code",
   "execution_count": 782,
   "metadata": {
    "scrolled": false
   },
   "outputs": [
    {
     "name": "stdout",
     "output_type": "stream",
     "text": [
      "RMSE LGBMRegressor валидационной выборке: 1677.0\n",
      "Wall time: 1.54 s\n"
     ]
    }
   ],
   "source": [
    "%%time\n",
    "\n",
    "model = LGBMRegressor()\n",
    "\n",
    "model.fit(features_train, target_train) # обучим модель на тренировочной выборке\n",
    "predictions_valid = model.predict(features_valid) # предсказания модели на валидационной выборке\n",
    "result = mean_squared_error(target_valid, predictions_valid) ** 0.5 # значение метрики rmse на валидационной выборке\n",
    "\n",
    "print(\"RMSE LGBMRegressor валидационной выборке: {:.1f}\".format(result))"
   ]
  },
  {
   "cell_type": "markdown",
   "metadata": {},
   "source": [
    "**`LGBMRegressor`** с параметрами по умолчанию на валидационной выборке: `Wall time: 1.31 s` и `RMSE  = ` **`1658.0`** "
   ]
  },
  {
   "cell_type": "markdown",
   "metadata": {},
   "source": [
    "#### Подбор гиперпараметров"
   ]
  },
  {
   "cell_type": "code",
   "execution_count": 783,
   "metadata": {
    "scrolled": true
   },
   "outputs": [
    {
     "name": "stdout",
     "output_type": "stream",
     "text": [
      "RMSE наилучшей модели LGBMRegressor на валидационной выборке: 1563.5 Количество деревьев: 500.0 Максимальная глубина: 17.0\n",
      "Wall time: 4.63 s\n"
     ]
    }
   ],
   "source": [
    "%%time\n",
    "\n",
    "best_model = None\n",
    "best_result = 10000\n",
    "best_est = 0\n",
    "best_depth = 0\n",
    "for est in range(500, 501, 1):\n",
    "    for depth in range (17, 18):\n",
    "        model = LGBMRegressor(random_state=12345,\n",
    "                              n_estimators=est, # число деревьев\n",
    "                              max_depth=depth, # глубина каждого дерева\n",
    "                              boosting_type= 'gbdt')# инициализируем модель LGBMRegressor с параметрами n_estimators=est и max_depth=depth\n",
    "        model.fit(features_train, target_train) # обучим модель на тренировочной выборке\n",
    "        predictions_valid = model.predict(features_valid) # предсказания модели на валидационной выборке\n",
    "        result = mean_squared_error(target_valid, predictions_valid) ** 0.5 # значение метрики rmse на валидационной выборке\n",
    "        if result < best_result:\n",
    "            best_model = model\n",
    "            best_result = result\n",
    "            best_est = est\n",
    "            best_depth = depth\n",
    "\n",
    "print(\"RMSE наилучшей модели LGBMRegressor на валидационной выборке: {:.1f}\".format(best_result),\n",
    "      \"Количество деревьев: {:.1f}\".format(best_est), \"Максимальная глубина: {:.1f}\".format(depth))"
   ]
  },
  {
   "cell_type": "markdown",
   "metadata": {},
   "source": [
    "**`LGBMRegressor`** измененными гиперпараметрами на валидационной выборке: `Wall time: 2.09 s` и `RMSE  = ` **`1598.1`**  - большое значение ошибки."
   ]
  },
  {
   "cell_type": "markdown",
   "metadata": {},
   "source": [
    "#### Скорость обучения:"
   ]
  },
  {
   "cell_type": "code",
   "execution_count": 784,
   "metadata": {
    "scrolled": false
   },
   "outputs": [
    {
     "name": "stdout",
     "output_type": "stream",
     "text": [
      "Wall time: 3.86 s\n"
     ]
    },
    {
     "data": {
      "text/plain": [
       "LGBMRegressor(max_depth=17, n_estimators=500, random_state=12345)"
      ]
     },
     "execution_count": 784,
     "metadata": {},
     "output_type": "execute_result"
    }
   ],
   "source": [
    "%%time\n",
    "\n",
    "model = LGBMRegressor(random_state=12345,\n",
    "                        n_estimators=best_est, # число деревьев\n",
    "                        max_depth=depth, # глубина каждого дерева\n",
    "                        boosting_type= 'gbdt')# инициализируем модель LGBMRegressor с параметрами n_estimators=est и max_depth=depth\n",
    "\n",
    "model.fit(features_train, target_train) # обучим модель на тренировочной выборке"
   ]
  },
  {
   "cell_type": "markdown",
   "metadata": {},
   "source": [
    "#### Скорость предсказания:"
   ]
  },
  {
   "cell_type": "code",
   "execution_count": 785,
   "metadata": {
    "scrolled": false
   },
   "outputs": [
    {
     "name": "stdout",
     "output_type": "stream",
     "text": [
      "RMSE наилучшей модели LGBMRegressor на валидационной выборке: 1563.5 Количество деревьев: 500.0 Максимальная глубина: 17.0\n",
      "Wall time: 800 ms\n"
     ]
    }
   ],
   "source": [
    "%%time\n",
    "predictions_valid = model.predict(features_valid) # предсказания модели на валидационной выборке\n",
    "result = mean_squared_error(target_valid, predictions_valid) ** 0.5 # значение метрики rmse на валидационной выборке\n",
    "\n",
    "print(\"RMSE наилучшей модели LGBMRegressor на валидационной выборке: {:.1f}\".format(result),\n",
    "      \"Количество деревьев: {:.1f}\".format(best_est), \"Максимальная глубина: {:.1f}\".format(depth))"
   ]
  },
  {
   "cell_type": "markdown",
   "metadata": {},
   "source": [
    "#### Результат на тестовой выборке"
   ]
  },
  {
   "cell_type": "code",
   "execution_count": 786,
   "metadata": {
    "scrolled": false
   },
   "outputs": [
    {
     "name": "stdout",
     "output_type": "stream",
     "text": [
      "RMSE наилучшей модели LGBMRegressor на валидационной выборке: 1537.0 Количество деревьев: 500.0 Максимальная глубина: 17.0\n",
      "Wall time: 757 ms\n"
     ]
    }
   ],
   "source": [
    "%%time\n",
    "predictions_test = model.predict(features_test) # предсказания модели на валидационной выборке\n",
    "result = mean_squared_error(target_test, predictions_test) ** 0.5 # значение метрики rmse на валидационной выборке\n",
    "\n",
    "print(\"RMSE наилучшей модели LGBMRegressor на валидационной выборке: {:.1f}\".format(result),\n",
    "      \"Количество деревьев: {:.1f}\".format(best_est), \"Максимальная глубина: {:.1f}\".format(depth))"
   ]
  },
  {
   "cell_type": "markdown",
   "metadata": {},
   "source": [
    "**`LGBMRegressor`** на тестовой выборке:\n",
    "- Обучение **`3880 ms`**\n",
    "- Предсказание **`768 ms`**\n",
    "- RMSE  =  **`1537.0`**"
   ]
  },
  {
   "cell_type": "markdown",
   "metadata": {},
   "source": [
    "#### График важности факторов"
   ]
  },
  {
   "cell_type": "markdown",
   "metadata": {},
   "source": [
    "Для понимания какие факторы оказались важны при моделировании используем feature_importances_ и график. "
   ]
  },
  {
   "cell_type": "code",
   "execution_count": 787,
   "metadata": {
    "scrolled": false
   },
   "outputs": [
    {
     "data": {
      "image/png": "[encoded data removed]",
      "text/plain": [
       "<Figure size 576x216 with 1 Axes>"
      ]
     },
     "metadata": {
      "needs_background": "light"
     },
     "output_type": "display_data"
    }
   ],
   "source": [
    "fig, ax = plt.subplots(figsize=(8,3))\n",
    "ax.bar(features_test.columns, model.feature_importances_)\n",
    "fig.autofmt_xdate()\n",
    "\n",
    "#подписи осей\n",
    "plt.xlabel('Признаки')\n",
    "plt.ylabel('Важность')\n",
    "\n",
    "#заголовок\n",
    "plt.title('Важность факторов в модели LGBMRegressor')\n",
    "\n",
    "plt.show()"
   ]
  },
  {
   "cell_type": "markdown",
   "metadata": {},
   "source": [
    "#### Внутренний метод кодировки данных LGBMRegressor"
   ]
  },
  {
   "cell_type": "markdown",
   "metadata": {},
   "source": [
    "Используем внутренний метод кодирования категориальных признаков:"
   ]
  },
  {
   "cell_type": "markdown",
   "metadata": {},
   "source": [
    "Составим список текстовых столбцов"
   ]
  },
  {
   "cell_type": "code",
   "execution_count": 788,
   "metadata": {
    "scrolled": true
   },
   "outputs": [
    {
     "name": "stdout",
     "output_type": "stream",
     "text": [
      "['VehicleType', 'Gearbox', 'Model', 'FuelType', 'Brand', 'NotRepaired', 'тип_возраста']\n"
     ]
    }
   ],
   "source": [
    "obj_feat = list(df2.loc[:, df2.dtypes == 'object'].columns.values)\n",
    "print(obj_feat)"
   ]
  },
  {
   "cell_type": "markdown",
   "metadata": {},
   "source": [
    "Изменим на тип данных \"category\""
   ]
  },
  {
   "cell_type": "code",
   "execution_count": 789,
   "metadata": {},
   "outputs": [],
   "source": [
    "for feature in obj_feat:\n",
    "    df2[feature] = pd.Series(df2[feature], dtype=\"category\")"
   ]
  },
  {
   "cell_type": "markdown",
   "metadata": {},
   "source": [
    "Проверим работу модели без преобразования категориальных признаков\n",
    "\n",
    "Повторим шаги с разбиеним выборки:"
   ]
  },
  {
   "cell_type": "code",
   "execution_count": 790,
   "metadata": {},
   "outputs": [],
   "source": [
    "target = df2['Price']\n",
    "features = df2.drop('Price', axis=1)"
   ]
  },
  {
   "cell_type": "code",
   "execution_count": 791,
   "metadata": {},
   "outputs": [],
   "source": [
    "features_part, features_test, target_part, target_test = train_test_split(\n",
    "    features, target, test_size=0.2, random_state=12345) # отделим 20% (1/5) данных для тестовой выборки"
   ]
  },
  {
   "cell_type": "code",
   "execution_count": 792,
   "metadata": {
    "scrolled": true
   },
   "outputs": [],
   "source": [
    "features_train, features_valid, target_train, target_valid = train_test_split(\n",
    "    features_part, target_part, test_size=0.25, random_state=12345) # отделим 25% (1/4) данных для валидации"
   ]
  },
  {
   "cell_type": "code",
   "execution_count": 793,
   "metadata": {
    "scrolled": false
   },
   "outputs": [
    {
     "data": {
      "text/plain": [
       "((145167, 12), (48389, 12), (48390, 12))"
      ]
     },
     "execution_count": 793,
     "metadata": {},
     "output_type": "execute_result"
    }
   ],
   "source": [
    "features_train.shape, features_valid.shape, features_test.shape # проверим результат разбиения"
   ]
  },
  {
   "cell_type": "code",
   "execution_count": 794,
   "metadata": {
    "scrolled": true
   },
   "outputs": [
    {
     "data": {
      "text/html": [
       "<div>\n",
       "<style scoped>\n",
       "    .dataframe tbody tr th:only-of-type {\n",
       "        vertical-align: middle;\n",
       "    }\n",
       "\n",
       "    .dataframe tbody tr th {\n",
       "        vertical-align: top;\n",
       "    }\n",
       "\n",
       "    .dataframe thead th {\n",
       "        text-align: right;\n",
       "    }\n",
       "</style>\n",
       "<table border=\"1\" class=\"dataframe\">\n",
       "  <thead>\n",
       "    <tr style=\"text-align: right;\">\n",
       "      <th></th>\n",
       "      <th>VehicleType</th>\n",
       "      <th>RegistrationYear</th>\n",
       "      <th>Gearbox</th>\n",
       "      <th>Power</th>\n",
       "      <th>Model</th>\n",
       "      <th>Kilometer</th>\n",
       "      <th>RegistrationMonth</th>\n",
       "      <th>FuelType</th>\n",
       "      <th>Brand</th>\n",
       "      <th>NotRepaired</th>\n",
       "      <th>PostalCode</th>\n",
       "      <th>тип_возраста</th>\n",
       "    </tr>\n",
       "  </thead>\n",
       "  <tbody>\n",
       "    <tr>\n",
       "      <th>42017</th>\n",
       "      <td>suv</td>\n",
       "      <td>2005</td>\n",
       "      <td>manual</td>\n",
       "      <td>141</td>\n",
       "      <td>tucson</td>\n",
       "      <td>150000</td>\n",
       "      <td>6</td>\n",
       "      <td>petrol</td>\n",
       "      <td>hyundai</td>\n",
       "      <td>no</td>\n",
       "      <td>26316</td>\n",
       "      <td>старая</td>\n",
       "    </tr>\n",
       "    <tr>\n",
       "      <th>4334</th>\n",
       "      <td>sedan</td>\n",
       "      <td>2006</td>\n",
       "      <td>auto</td>\n",
       "      <td>140</td>\n",
       "      <td>passat</td>\n",
       "      <td>150000</td>\n",
       "      <td>7</td>\n",
       "      <td>gasoline</td>\n",
       "      <td>volkswagen</td>\n",
       "      <td>no</td>\n",
       "      <td>26180</td>\n",
       "      <td>старая</td>\n",
       "    </tr>\n",
       "    <tr>\n",
       "      <th>143230</th>\n",
       "      <td>convertible</td>\n",
       "      <td>1990</td>\n",
       "      <td>manual</td>\n",
       "      <td>98</td>\n",
       "      <td>golf</td>\n",
       "      <td>150000</td>\n",
       "      <td>3</td>\n",
       "      <td>petrol</td>\n",
       "      <td>volkswagen</td>\n",
       "      <td>no</td>\n",
       "      <td>50825</td>\n",
       "      <td>ретро</td>\n",
       "    </tr>\n",
       "  </tbody>\n",
       "</table>\n",
       "</div>"
      ],
      "text/plain": [
       "        VehicleType  RegistrationYear Gearbox  Power   Model  Kilometer  \\\n",
       "42017           suv              2005  manual    141  tucson     150000   \n",
       "4334          sedan              2006    auto    140  passat     150000   \n",
       "143230  convertible              1990  manual     98    golf     150000   \n",
       "\n",
       "        RegistrationMonth  FuelType       Brand NotRepaired  PostalCode  \\\n",
       "42017                   6    petrol     hyundai          no       26316   \n",
       "4334                    7  gasoline  volkswagen          no       26180   \n",
       "143230                  3    petrol  volkswagen          no       50825   \n",
       "\n",
       "       тип_возраста  \n",
       "42017        старая  \n",
       "4334         старая  \n",
       "143230        ретро  "
      ]
     },
     "execution_count": 794,
     "metadata": {},
     "output_type": "execute_result"
    }
   ],
   "source": [
    "features_train.head(3) #проверим результат"
   ]
  },
  {
   "cell_type": "markdown",
   "metadata": {},
   "source": [
    "##### Обучим модель LGBMRegressor с текстовыми категориальными признаками:"
   ]
  },
  {
   "cell_type": "markdown",
   "metadata": {},
   "source": [
    "Обучим модель с текстовыми признаками, повторим шаги 2.4.3 - 2.4.6"
   ]
  },
  {
   "cell_type": "markdown",
   "metadata": {},
   "source": [
    "##### Скорость обучения:"
   ]
  },
  {
   "cell_type": "code",
   "execution_count": 795,
   "metadata": {
    "scrolled": false
   },
   "outputs": [
    {
     "name": "stdout",
     "output_type": "stream",
     "text": [
      "Wall time: 4.58 s\n"
     ]
    },
    {
     "data": {
      "text/plain": [
       "LGBMRegressor(max_depth=17, n_estimators=500, random_state=12345)"
      ]
     },
     "execution_count": 795,
     "metadata": {},
     "output_type": "execute_result"
    }
   ],
   "source": [
    "%%time\n",
    "\n",
    "model = LGBMRegressor(random_state=12345,\n",
    "                        n_estimators=best_est, # число деревьев\n",
    "                        max_depth=depth, # глубина каждого дерева\n",
    "                        boosting_type= 'gbdt')# инициализируем модель LGBMRegressor с параметрами n_estimators=est и max_depth=depth\n",
    "\n",
    "model.fit(features_train, target_train) # обучим модель на тренировочной выборке"
   ]
  },
  {
   "cell_type": "markdown",
   "metadata": {},
   "source": [
    "##### Скорость предсказания:"
   ]
  },
  {
   "cell_type": "code",
   "execution_count": 796,
   "metadata": {
    "scrolled": false
   },
   "outputs": [
    {
     "name": "stdout",
     "output_type": "stream",
     "text": [
      "RMSE наилучшей модели LGBMRegressor на валидационной выборке: 1529.3 Количество деревьев: 500.0 Максимальная глубина: 17.0\n",
      "Wall time: 1.09 s\n"
     ]
    }
   ],
   "source": [
    "%%time\n",
    "predictions_valid = model.predict(features_valid) # предсказания модели на валидационной выборке\n",
    "result = mean_squared_error(target_valid, predictions_valid) ** 0.5 # значение метрики rmse на валидационной выборке\n",
    "\n",
    "print(\"RMSE наилучшей модели LGBMRegressor на валидационной выборке: {:.1f}\".format(result),\n",
    "      \"Количество деревьев: {:.1f}\".format(best_est), \"Максимальная глубина: {:.1f}\".format(depth))"
   ]
  },
  {
   "cell_type": "markdown",
   "metadata": {},
   "source": [
    "##### Результат на тестовой выборке"
   ]
  },
  {
   "cell_type": "code",
   "execution_count": 797,
   "metadata": {
    "scrolled": false
   },
   "outputs": [
    {
     "name": "stdout",
     "output_type": "stream",
     "text": [
      "RMSE наилучшей модели LGBMRegressor на валидационной выборке: 1501.8 Количество деревьев: 500.0 Максимальная глубина: 17.0\n",
      "Wall time: 1.11 s\n"
     ]
    }
   ],
   "source": [
    "%%time\n",
    "predictions_test = model.predict(features_test) # предсказания модели на валидационной выборке\n",
    "result = mean_squared_error(target_test, predictions_test) ** 0.5 # значение метрики rmse на валидационной выборке\n",
    "\n",
    "print(\"RMSE наилучшей модели LGBMRegressor на валидационной выборке: {:.1f}\".format(result),\n",
    "      \"Количество деревьев: {:.1f}\".format(best_est), \"Максимальная глубина: {:.1f}\".format(depth))"
   ]
  },
  {
   "cell_type": "markdown",
   "metadata": {},
   "source": [
    "**`LGBMRegressor(category)`** на тестовой выборке:\n",
    "- Обучение **`4740 ms`**\n",
    "- Предсказание **`1030 ms`**\n",
    "- RMSE  =  **`1501.8`**"
   ]
  },
  {
   "cell_type": "code",
   "execution_count": 798,
   "metadata": {
    "scrolled": false
   },
   "outputs": [
    {
     "data": {
      "image/png": "[encoded data removed]",
      "text/plain": [
       "<Figure size 576x216 with 1 Axes>"
      ]
     },
     "metadata": {
      "needs_background": "light"
     },
     "output_type": "display_data"
    }
   ],
   "source": [
    "fig, ax = plt.subplots(figsize=(8,3))\n",
    "ax.bar(features_test.columns, model.feature_importances_)\n",
    "fig.autofmt_xdate()\n",
    "\n",
    "#подписи осей\n",
    "plt.xlabel('Признаки')\n",
    "plt.ylabel('Важность')\n",
    "\n",
    "#заголовок\n",
    "plt.title('Важность факторов в модели LGBMRegressor(category)')\n",
    "\n",
    "plt.show()"
   ]
  },
  {
   "cell_type": "markdown",
   "metadata": {},
   "source": [
    "## Анализ моделей"
   ]
  },
  {
   "cell_type": "markdown",
   "metadata": {},
   "source": [
    "Результаты предсказаний различных моделей сведены в таблице:"
   ]
  },
  {
   "cell_type": "markdown",
   "metadata": {},
   "source": [
    "| параметр/модель | LinearRegression | DecisionTreeRegressor | RandomForestRegressor | LGBMRegressor |LGBMRegressor(category)\n",
    "| --- | --- | --- | --- | --- | --- |\n",
    "| Скорость обучения,  ms| 78.1 | 924 | 8460 | 3880 | 4740 |\n",
    "| Скорость предсказания, ms| 6.98 | 28.9 | 182 | 768 | 1030 |\n",
    "| RMSE, тыс.р.| 2873.9 | 1902.0 | 1656.1 | 1537.0 | 1501.8 |"
   ]
  },
  {
   "cell_type": "markdown",
   "metadata": {},
   "source": [
    "Модель `LinearRegression` очень быстрая, но не точная. Модели `DecisionTreeRegressor` и `RandomForestRegressor` занимают промежутоные результаты, при этом RandomForestRegressor довольно точно предсказыает результат, но медленнее чем другие модели - более 8 секунд.\n",
    "\n",
    "Самой удобной яляется модель `LGBMRegressor`, она показывает хороший результат даже с параметрами по умолчанию.\n",
    "\n",
    "Важнейшим параметром предсказания является рыночная стоимость автомобиля за умеренное время, поэтому модель `LGBMRegressor` является самой подходящей. Она показывает более точный результат, затрачивая на обучение и предсказание менее 3х секунд."
   ]
  }
 ],
 "metadata": {
  "ExecuteTimeLog": [
   {
    "duration": 1321,
    "start_time": "2022-04-30T09:17:13.855Z"
   },
   {
    "duration": 3,
    "start_time": "2022-04-30T09:17:15.178Z"
   },
   {
    "duration": 204,
    "start_time": "2022-04-30T09:17:15.183Z"
   },
   {
    "duration": 0,
    "start_time": "2022-04-30T09:17:15.389Z"
   },
   {
    "duration": 0,
    "start_time": "2022-04-30T09:17:15.390Z"
   },
   {
    "duration": 0,
    "start_time": "2022-04-30T09:17:15.391Z"
   },
   {
    "duration": 0,
    "start_time": "2022-04-30T09:17:15.392Z"
   },
   {
    "duration": 0,
    "start_time": "2022-04-30T09:17:15.393Z"
   },
   {
    "duration": 0,
    "start_time": "2022-04-30T09:17:15.394Z"
   },
   {
    "duration": 0,
    "start_time": "2022-04-30T09:17:15.395Z"
   },
   {
    "duration": 0,
    "start_time": "2022-04-30T09:17:15.396Z"
   },
   {
    "duration": 0,
    "start_time": "2022-04-30T09:17:15.397Z"
   },
   {
    "duration": 0,
    "start_time": "2022-04-30T09:17:15.397Z"
   },
   {
    "duration": 0,
    "start_time": "2022-04-30T09:17:15.398Z"
   },
   {
    "duration": 0,
    "start_time": "2022-04-30T09:17:15.399Z"
   },
   {
    "duration": 0,
    "start_time": "2022-04-30T09:17:15.400Z"
   },
   {
    "duration": 0,
    "start_time": "2022-04-30T09:17:15.401Z"
   },
   {
    "duration": 0,
    "start_time": "2022-04-30T09:17:15.402Z"
   },
   {
    "duration": 0,
    "start_time": "2022-04-30T09:17:15.403Z"
   },
   {
    "duration": 0,
    "start_time": "2022-04-30T09:17:15.405Z"
   },
   {
    "duration": 0,
    "start_time": "2022-04-30T09:17:15.406Z"
   },
   {
    "duration": 0,
    "start_time": "2022-04-30T09:17:15.407Z"
   },
   {
    "duration": 0,
    "start_time": "2022-04-30T09:17:15.407Z"
   },
   {
    "duration": 0,
    "start_time": "2022-04-30T09:17:15.433Z"
   },
   {
    "duration": 0,
    "start_time": "2022-04-30T09:17:15.434Z"
   },
   {
    "duration": 0,
    "start_time": "2022-04-30T09:17:15.435Z"
   },
   {
    "duration": 0,
    "start_time": "2022-04-30T09:17:15.436Z"
   },
   {
    "duration": 0,
    "start_time": "2022-04-30T09:17:15.437Z"
   },
   {
    "duration": 0,
    "start_time": "2022-04-30T09:17:15.438Z"
   },
   {
    "duration": 0,
    "start_time": "2022-04-30T09:17:15.439Z"
   },
   {
    "duration": 0,
    "start_time": "2022-04-30T09:17:15.440Z"
   },
   {
    "duration": 0,
    "start_time": "2022-04-30T09:17:15.441Z"
   },
   {
    "duration": 0,
    "start_time": "2022-04-30T09:17:15.441Z"
   },
   {
    "duration": 0,
    "start_time": "2022-04-30T09:17:15.442Z"
   },
   {
    "duration": 0,
    "start_time": "2022-04-30T09:17:15.443Z"
   },
   {
    "duration": 814,
    "start_time": "2022-04-30T09:17:36.650Z"
   },
   {
    "duration": 3,
    "start_time": "2022-04-30T09:17:40.720Z"
   },
   {
    "duration": 9,
    "start_time": "2022-04-30T09:17:40.725Z"
   },
   {
    "duration": 790,
    "start_time": "2022-04-30T09:17:40.736Z"
   },
   {
    "duration": 133,
    "start_time": "2022-04-30T09:17:41.527Z"
   },
   {
    "duration": 96,
    "start_time": "2022-04-30T09:17:41.663Z"
   },
   {
    "duration": 679,
    "start_time": "2022-04-30T09:17:41.761Z"
   },
   {
    "duration": 25,
    "start_time": "2022-04-30T09:17:42.442Z"
   },
   {
    "duration": 39,
    "start_time": "2022-04-30T09:17:42.468Z"
   },
   {
    "duration": 47,
    "start_time": "2022-04-30T09:17:42.508Z"
   },
   {
    "duration": 114,
    "start_time": "2022-04-30T09:17:42.557Z"
   },
   {
    "duration": 18,
    "start_time": "2022-04-30T09:17:42.674Z"
   },
   {
    "duration": 83,
    "start_time": "2022-04-30T09:17:42.693Z"
   },
   {
    "duration": 377,
    "start_time": "2022-04-30T09:17:42.777Z"
   },
   {
    "duration": 16,
    "start_time": "2022-04-30T09:17:43.155Z"
   },
   {
    "duration": 12,
    "start_time": "2022-04-30T09:17:43.172Z"
   },
   {
    "duration": 54,
    "start_time": "2022-04-30T09:17:43.185Z"
   },
   {
    "duration": 34,
    "start_time": "2022-04-30T09:17:43.241Z"
   },
   {
    "duration": 6,
    "start_time": "2022-04-30T09:17:43.276Z"
   },
   {
    "duration": 71,
    "start_time": "2022-04-30T09:17:43.283Z"
   },
   {
    "duration": 78,
    "start_time": "2022-04-30T09:17:43.356Z"
   },
   {
    "duration": 10,
    "start_time": "2022-04-30T09:17:43.436Z"
   },
   {
    "duration": 192,
    "start_time": "2022-04-30T09:17:43.447Z"
   },
   {
    "duration": 643,
    "start_time": "2022-04-30T09:17:43.642Z"
   },
   {
    "duration": 506,
    "start_time": "2022-04-30T09:17:44.287Z"
   },
   {
    "duration": 14,
    "start_time": "2022-04-30T09:17:44.795Z"
   },
   {
    "duration": 31,
    "start_time": "2022-04-30T09:17:44.810Z"
   },
   {
    "duration": 4809,
    "start_time": "2022-04-30T09:17:44.842Z"
   },
   {
    "duration": 4656,
    "start_time": "2022-04-30T09:17:49.653Z"
   },
   {
    "duration": 115,
    "start_time": "2022-04-30T09:17:54.312Z"
   },
   {
    "duration": 109,
    "start_time": "2022-04-30T09:17:54.433Z"
   },
   {
    "duration": 3902,
    "start_time": "2022-04-30T09:17:54.543Z"
   },
   {
    "duration": 7791,
    "start_time": "2022-04-30T09:17:58.447Z"
   },
   {
    "duration": 5894,
    "start_time": "2022-04-30T09:18:06.241Z"
   },
   {
    "duration": 697,
    "start_time": "2022-04-30T09:18:12.137Z"
   },
   {
    "duration": 699,
    "start_time": "2022-04-30T09:18:12.835Z"
   },
   {
    "duration": 3,
    "start_time": "2022-04-30T09:20:52.061Z"
   },
   {
    "duration": 4,
    "start_time": "2022-04-30T09:22:15.088Z"
   },
   {
    "duration": 12,
    "start_time": "2022-04-30T09:25:06.629Z"
   },
   {
    "duration": 8,
    "start_time": "2022-04-30T09:28:44.937Z"
   },
   {
    "duration": 339,
    "start_time": "2022-04-30T09:28:49.390Z"
   },
   {
    "duration": 4,
    "start_time": "2022-04-30T09:28:49.733Z"
   },
   {
    "duration": 815,
    "start_time": "2022-04-30T09:28:49.738Z"
   },
   {
    "duration": 136,
    "start_time": "2022-04-30T09:28:50.555Z"
   },
   {
    "duration": 99,
    "start_time": "2022-04-30T09:28:50.692Z"
   },
   {
    "duration": 778,
    "start_time": "2022-04-30T09:28:50.793Z"
   },
   {
    "duration": 22,
    "start_time": "2022-04-30T09:28:51.573Z"
   },
   {
    "duration": 61,
    "start_time": "2022-04-30T09:28:51.597Z"
   },
   {
    "duration": 29,
    "start_time": "2022-04-30T09:28:51.659Z"
   },
   {
    "duration": 117,
    "start_time": "2022-04-30T09:28:51.690Z"
   },
   {
    "duration": 27,
    "start_time": "2022-04-30T09:28:51.809Z"
   },
   {
    "duration": 66,
    "start_time": "2022-04-30T09:28:51.838Z"
   },
   {
    "duration": 416,
    "start_time": "2022-04-30T09:28:51.906Z"
   },
   {
    "duration": 20,
    "start_time": "2022-04-30T09:28:52.324Z"
   },
   {
    "duration": 12,
    "start_time": "2022-04-30T09:28:52.345Z"
   },
   {
    "duration": 33,
    "start_time": "2022-04-30T09:28:52.359Z"
   },
   {
    "duration": 50,
    "start_time": "2022-04-30T09:28:52.393Z"
   },
   {
    "duration": 4,
    "start_time": "2022-04-30T09:28:52.445Z"
   },
   {
    "duration": 54,
    "start_time": "2022-04-30T09:28:52.451Z"
   },
   {
    "duration": 131,
    "start_time": "2022-04-30T09:28:52.507Z"
   },
   {
    "duration": 100,
    "start_time": "2022-04-30T09:28:52.640Z"
   },
   {
    "duration": 196,
    "start_time": "2022-04-30T09:28:52.743Z"
   },
   {
    "duration": 110,
    "start_time": "2022-04-30T09:28:52.941Z"
   },
   {
    "duration": 0,
    "start_time": "2022-04-30T09:28:53.053Z"
   },
   {
    "duration": 10,
    "start_time": "2022-04-30T09:29:00.109Z"
   },
   {
    "duration": 4,
    "start_time": "2022-04-30T09:31:12.841Z"
   },
   {
    "duration": 9,
    "start_time": "2022-04-30T09:31:12.847Z"
   },
   {
    "duration": 795,
    "start_time": "2022-04-30T09:31:12.859Z"
   },
   {
    "duration": 150,
    "start_time": "2022-04-30T09:31:13.656Z"
   },
   {
    "duration": 101,
    "start_time": "2022-04-30T09:31:13.809Z"
   },
   {
    "duration": 749,
    "start_time": "2022-04-30T09:31:13.912Z"
   },
   {
    "duration": 18,
    "start_time": "2022-04-30T09:31:14.663Z"
   },
   {
    "duration": 56,
    "start_time": "2022-04-30T09:31:14.683Z"
   },
   {
    "duration": 28,
    "start_time": "2022-04-30T09:31:14.742Z"
   },
   {
    "duration": 129,
    "start_time": "2022-04-30T09:31:14.772Z"
   },
   {
    "duration": 29,
    "start_time": "2022-04-30T09:31:14.905Z"
   },
   {
    "duration": 61,
    "start_time": "2022-04-30T09:31:14.936Z"
   },
   {
    "duration": 419,
    "start_time": "2022-04-30T09:31:14.999Z"
   },
   {
    "duration": 22,
    "start_time": "2022-04-30T09:31:15.420Z"
   },
   {
    "duration": 13,
    "start_time": "2022-04-30T09:31:15.444Z"
   },
   {
    "duration": 36,
    "start_time": "2022-04-30T09:31:15.459Z"
   },
   {
    "duration": 60,
    "start_time": "2022-04-30T09:31:15.496Z"
   },
   {
    "duration": 5,
    "start_time": "2022-04-30T09:31:15.558Z"
   },
   {
    "duration": 49,
    "start_time": "2022-04-30T09:31:15.565Z"
   },
   {
    "duration": 100,
    "start_time": "2022-04-30T09:31:15.633Z"
   },
   {
    "duration": 11,
    "start_time": "2022-04-30T09:31:15.736Z"
   },
   {
    "duration": 185,
    "start_time": "2022-04-30T09:31:15.749Z"
   },
   {
    "duration": 99,
    "start_time": "2022-04-30T09:31:15.936Z"
   },
   {
    "duration": 0,
    "start_time": "2022-04-30T09:31:16.037Z"
   },
   {
    "duration": 0,
    "start_time": "2022-04-30T09:31:16.038Z"
   },
   {
    "duration": 0,
    "start_time": "2022-04-30T09:31:16.039Z"
   },
   {
    "duration": 0,
    "start_time": "2022-04-30T09:31:16.041Z"
   },
   {
    "duration": 0,
    "start_time": "2022-04-30T09:31:16.042Z"
   },
   {
    "duration": 0,
    "start_time": "2022-04-30T09:31:16.043Z"
   },
   {
    "duration": 0,
    "start_time": "2022-04-30T09:31:16.044Z"
   },
   {
    "duration": 0,
    "start_time": "2022-04-30T09:31:16.045Z"
   },
   {
    "duration": 0,
    "start_time": "2022-04-30T09:31:16.046Z"
   },
   {
    "duration": 0,
    "start_time": "2022-04-30T09:31:16.047Z"
   },
   {
    "duration": 0,
    "start_time": "2022-04-30T09:31:16.049Z"
   },
   {
    "duration": 9,
    "start_time": "2022-04-30T09:31:22.320Z"
   },
   {
    "duration": 4,
    "start_time": "2022-04-30T09:31:57.071Z"
   },
   {
    "duration": 7,
    "start_time": "2022-04-30T09:31:57.079Z"
   },
   {
    "duration": 769,
    "start_time": "2022-04-30T09:31:57.087Z"
   },
   {
    "duration": 133,
    "start_time": "2022-04-30T09:31:57.858Z"
   },
   {
    "duration": 98,
    "start_time": "2022-04-30T09:31:57.993Z"
   },
   {
    "duration": 716,
    "start_time": "2022-04-30T09:31:58.092Z"
   },
   {
    "duration": 26,
    "start_time": "2022-04-30T09:31:58.809Z"
   },
   {
    "duration": 37,
    "start_time": "2022-04-30T09:31:58.837Z"
   },
   {
    "duration": 27,
    "start_time": "2022-04-30T09:31:58.876Z"
   },
   {
    "duration": 117,
    "start_time": "2022-04-30T09:31:58.905Z"
   },
   {
    "duration": 24,
    "start_time": "2022-04-30T09:31:59.023Z"
   },
   {
    "duration": 62,
    "start_time": "2022-04-30T09:31:59.049Z"
   },
   {
    "duration": 395,
    "start_time": "2022-04-30T09:31:59.112Z"
   },
   {
    "duration": 24,
    "start_time": "2022-04-30T09:31:59.509Z"
   },
   {
    "duration": 12,
    "start_time": "2022-04-30T09:31:59.535Z"
   },
   {
    "duration": 33,
    "start_time": "2022-04-30T09:31:59.549Z"
   },
   {
    "duration": 27,
    "start_time": "2022-04-30T09:31:59.584Z"
   },
   {
    "duration": 4,
    "start_time": "2022-04-30T09:31:59.633Z"
   },
   {
    "duration": 49,
    "start_time": "2022-04-30T09:31:59.639Z"
   },
   {
    "duration": 57,
    "start_time": "2022-04-30T09:31:59.690Z"
   },
   {
    "duration": 91,
    "start_time": "2022-04-30T09:31:59.749Z"
   },
   {
    "duration": 104,
    "start_time": "2022-04-30T09:31:59.842Z"
   },
   {
    "duration": 719,
    "start_time": "2022-04-30T09:31:59.949Z"
   },
   {
    "duration": 527,
    "start_time": "2022-04-30T09:32:00.669Z"
   },
   {
    "duration": 14,
    "start_time": "2022-04-30T09:32:01.199Z"
   },
   {
    "duration": 27,
    "start_time": "2022-04-30T09:32:01.215Z"
   },
   {
    "duration": 5607,
    "start_time": "2022-04-30T09:32:01.244Z"
   },
   {
    "duration": 4715,
    "start_time": "2022-04-30T09:32:06.853Z"
   },
   {
    "duration": 111,
    "start_time": "2022-04-30T09:32:11.570Z"
   },
   {
    "duration": 109,
    "start_time": "2022-04-30T09:32:14.669Z"
   },
   {
    "duration": 160,
    "start_time": "2022-04-30T09:32:17.460Z"
   },
   {
    "duration": 140,
    "start_time": "2022-04-30T09:32:47.930Z"
   },
   {
    "duration": 146,
    "start_time": "2022-04-30T09:33:43.315Z"
   },
   {
    "duration": 145,
    "start_time": "2022-04-30T09:33:50.072Z"
   },
   {
    "duration": 229,
    "start_time": "2022-04-30T09:33:55.958Z"
   },
   {
    "duration": 149,
    "start_time": "2022-04-30T09:34:00.227Z"
   },
   {
    "duration": 114,
    "start_time": "2022-04-30T09:35:20.733Z"
   },
   {
    "duration": 12,
    "start_time": "2022-04-30T09:36:06.889Z"
   },
   {
    "duration": 13,
    "start_time": "2022-04-30T09:36:25.683Z"
   },
   {
    "duration": 15,
    "start_time": "2022-04-30T09:36:32.371Z"
   },
   {
    "duration": 12,
    "start_time": "2022-04-30T09:36:36.843Z"
   },
   {
    "duration": 13,
    "start_time": "2022-04-30T09:37:14.045Z"
   },
   {
    "duration": 106,
    "start_time": "2022-04-30T09:37:42.559Z"
   },
   {
    "duration": 151,
    "start_time": "2022-04-30T09:37:52.365Z"
   },
   {
    "duration": 154,
    "start_time": "2022-04-30T09:40:00.975Z"
   },
   {
    "duration": 154,
    "start_time": "2022-04-30T09:40:10.741Z"
   },
   {
    "duration": 172,
    "start_time": "2022-04-30T09:40:23.320Z"
   },
   {
    "duration": 208,
    "start_time": "2022-04-30T09:41:48.139Z"
   },
   {
    "duration": 165,
    "start_time": "2022-04-30T09:41:57.605Z"
   },
   {
    "duration": 173,
    "start_time": "2022-04-30T09:42:05.719Z"
   },
   {
    "duration": 254,
    "start_time": "2022-04-30T09:42:12.702Z"
   },
   {
    "duration": 160,
    "start_time": "2022-04-30T09:43:07.196Z"
   },
   {
    "duration": 153,
    "start_time": "2022-04-30T09:43:46.720Z"
   },
   {
    "duration": 5,
    "start_time": "2022-04-30T09:43:50.629Z"
   },
   {
    "duration": 7,
    "start_time": "2022-04-30T09:43:50.636Z"
   },
   {
    "duration": 802,
    "start_time": "2022-04-30T09:43:50.646Z"
   },
   {
    "duration": 139,
    "start_time": "2022-04-30T09:43:51.450Z"
   },
   {
    "duration": 103,
    "start_time": "2022-04-30T09:43:51.592Z"
   },
   {
    "duration": 729,
    "start_time": "2022-04-30T09:43:51.697Z"
   },
   {
    "duration": 16,
    "start_time": "2022-04-30T09:43:52.434Z"
   },
   {
    "duration": 33,
    "start_time": "2022-04-30T09:43:52.451Z"
   },
   {
    "duration": 49,
    "start_time": "2022-04-30T09:43:52.485Z"
   },
   {
    "duration": 110,
    "start_time": "2022-04-30T09:43:52.537Z"
   },
   {
    "duration": 19,
    "start_time": "2022-04-30T09:43:52.649Z"
   },
   {
    "duration": 75,
    "start_time": "2022-04-30T09:43:52.669Z"
   },
   {
    "duration": 401,
    "start_time": "2022-04-30T09:43:52.746Z"
   },
   {
    "duration": 16,
    "start_time": "2022-04-30T09:43:53.148Z"
   },
   {
    "duration": 12,
    "start_time": "2022-04-30T09:43:53.166Z"
   },
   {
    "duration": 57,
    "start_time": "2022-04-30T09:43:53.179Z"
   },
   {
    "duration": 27,
    "start_time": "2022-04-30T09:43:53.238Z"
   },
   {
    "duration": 4,
    "start_time": "2022-04-30T09:43:53.267Z"
   },
   {
    "duration": 72,
    "start_time": "2022-04-30T09:43:53.273Z"
   },
   {
    "duration": 36,
    "start_time": "2022-04-30T09:43:53.346Z"
   },
   {
    "duration": 151,
    "start_time": "2022-04-30T09:43:53.384Z"
   },
   {
    "duration": 108,
    "start_time": "2022-04-30T09:43:53.538Z"
   },
   {
    "duration": 729,
    "start_time": "2022-04-30T09:43:53.648Z"
   },
   {
    "duration": 576,
    "start_time": "2022-04-30T09:43:54.379Z"
   },
   {
    "duration": 14,
    "start_time": "2022-04-30T09:43:54.958Z"
   },
   {
    "duration": 17,
    "start_time": "2022-04-30T09:43:54.973Z"
   },
   {
    "duration": 191,
    "start_time": "2022-04-30T09:43:54.992Z"
   },
   {
    "duration": 5093,
    "start_time": "2022-04-30T09:43:55.185Z"
   },
   {
    "duration": 4911,
    "start_time": "2022-04-30T09:44:00.280Z"
   },
   {
    "duration": 113,
    "start_time": "2022-04-30T09:44:05.193Z"
   },
   {
    "duration": 111,
    "start_time": "2022-04-30T09:44:05.308Z"
   },
   {
    "duration": 169,
    "start_time": "2022-04-30T09:44:05.421Z"
   },
   {
    "duration": 92660,
    "start_time": "2022-04-30T09:44:05.592Z"
   },
   {
    "duration": 7288,
    "start_time": "2022-04-30T09:45:38.253Z"
   },
   {
    "duration": 7392,
    "start_time": "2022-04-30T09:45:45.543Z"
   },
   {
    "duration": 703,
    "start_time": "2022-04-30T09:45:52.937Z"
   },
   {
    "duration": 698,
    "start_time": "2022-04-30T09:45:53.642Z"
   },
   {
    "duration": 200,
    "start_time": "2022-04-30T09:45:54.342Z"
   },
   {
    "duration": 4,
    "start_time": "2022-04-30T09:51:18.258Z"
   },
   {
    "duration": 10,
    "start_time": "2022-04-30T09:51:18.264Z"
   },
   {
    "duration": 782,
    "start_time": "2022-04-30T09:51:18.276Z"
   },
   {
    "duration": 129,
    "start_time": "2022-04-30T09:51:19.060Z"
   },
   {
    "duration": 98,
    "start_time": "2022-04-30T09:51:19.192Z"
   },
   {
    "duration": 721,
    "start_time": "2022-04-30T09:51:19.291Z"
   },
   {
    "duration": 26,
    "start_time": "2022-04-30T09:51:20.014Z"
   },
   {
    "duration": 18,
    "start_time": "2022-04-30T09:51:20.042Z"
   },
   {
    "duration": 28,
    "start_time": "2022-04-30T09:51:20.062Z"
   },
   {
    "duration": 20,
    "start_time": "2022-04-30T09:51:20.092Z"
   },
   {
    "duration": 60,
    "start_time": "2022-04-30T09:51:20.132Z"
   },
   {
    "duration": 15,
    "start_time": "2022-04-30T09:51:20.193Z"
   },
   {
    "duration": 61,
    "start_time": "2022-04-30T09:51:20.210Z"
   },
   {
    "duration": 15,
    "start_time": "2022-04-30T09:51:20.273Z"
   },
   {
    "duration": 0,
    "start_time": "2022-04-30T09:51:20.290Z"
   },
   {
    "duration": 0,
    "start_time": "2022-04-30T09:51:20.291Z"
   },
   {
    "duration": 0,
    "start_time": "2022-04-30T09:51:20.293Z"
   },
   {
    "duration": 0,
    "start_time": "2022-04-30T09:51:20.294Z"
   },
   {
    "duration": 0,
    "start_time": "2022-04-30T09:51:20.294Z"
   },
   {
    "duration": 0,
    "start_time": "2022-04-30T09:51:20.295Z"
   },
   {
    "duration": 0,
    "start_time": "2022-04-30T09:51:20.296Z"
   },
   {
    "duration": 0,
    "start_time": "2022-04-30T09:51:20.297Z"
   },
   {
    "duration": 0,
    "start_time": "2022-04-30T09:51:20.298Z"
   },
   {
    "duration": 0,
    "start_time": "2022-04-30T09:51:20.299Z"
   },
   {
    "duration": 0,
    "start_time": "2022-04-30T09:51:20.300Z"
   },
   {
    "duration": 0,
    "start_time": "2022-04-30T09:51:20.301Z"
   },
   {
    "duration": 0,
    "start_time": "2022-04-30T09:51:20.302Z"
   },
   {
    "duration": 0,
    "start_time": "2022-04-30T09:51:20.334Z"
   },
   {
    "duration": 0,
    "start_time": "2022-04-30T09:51:20.335Z"
   },
   {
    "duration": 0,
    "start_time": "2022-04-30T09:51:20.336Z"
   },
   {
    "duration": 0,
    "start_time": "2022-04-30T09:51:20.337Z"
   },
   {
    "duration": 0,
    "start_time": "2022-04-30T09:51:20.338Z"
   },
   {
    "duration": 0,
    "start_time": "2022-04-30T09:51:20.338Z"
   },
   {
    "duration": 0,
    "start_time": "2022-04-30T09:51:20.340Z"
   },
   {
    "duration": 0,
    "start_time": "2022-04-30T09:51:20.340Z"
   },
   {
    "duration": 0,
    "start_time": "2022-04-30T09:51:20.341Z"
   },
   {
    "duration": 0,
    "start_time": "2022-04-30T09:51:20.342Z"
   },
   {
    "duration": 0,
    "start_time": "2022-04-30T09:51:20.343Z"
   },
   {
    "duration": 0,
    "start_time": "2022-04-30T09:51:20.344Z"
   },
   {
    "duration": 4,
    "start_time": "2022-04-30T09:52:02.661Z"
   },
   {
    "duration": 36,
    "start_time": "2022-04-30T09:52:02.667Z"
   },
   {
    "duration": 799,
    "start_time": "2022-04-30T09:52:02.705Z"
   },
   {
    "duration": 137,
    "start_time": "2022-04-30T09:52:03.506Z"
   },
   {
    "duration": 98,
    "start_time": "2022-04-30T09:52:03.645Z"
   },
   {
    "duration": 719,
    "start_time": "2022-04-30T09:52:03.745Z"
   },
   {
    "duration": 17,
    "start_time": "2022-04-30T09:52:04.466Z"
   },
   {
    "duration": 17,
    "start_time": "2022-04-30T09:52:04.484Z"
   },
   {
    "duration": 41,
    "start_time": "2022-04-30T09:52:04.503Z"
   },
   {
    "duration": 19,
    "start_time": "2022-04-30T09:52:04.546Z"
   },
   {
    "duration": 77,
    "start_time": "2022-04-30T09:52:04.568Z"
   },
   {
    "duration": 17,
    "start_time": "2022-04-30T09:52:04.646Z"
   },
   {
    "duration": 51,
    "start_time": "2022-04-30T09:52:04.664Z"
   },
   {
    "duration": 260,
    "start_time": "2022-04-30T09:52:04.717Z"
   },
   {
    "duration": 13,
    "start_time": "2022-04-30T09:52:04.979Z"
   },
   {
    "duration": 10,
    "start_time": "2022-04-30T09:52:04.995Z"
   },
   {
    "duration": 55,
    "start_time": "2022-04-30T09:52:05.006Z"
   },
   {
    "duration": 25,
    "start_time": "2022-04-30T09:52:05.063Z"
   },
   {
    "duration": 4,
    "start_time": "2022-04-30T09:52:05.090Z"
   },
   {
    "duration": 56,
    "start_time": "2022-04-30T09:52:05.096Z"
   },
   {
    "duration": 29,
    "start_time": "2022-04-30T09:52:05.154Z"
   },
   {
    "duration": 151,
    "start_time": "2022-04-30T09:52:05.184Z"
   },
   {
    "duration": 12,
    "start_time": "2022-04-30T09:52:05.337Z"
   },
   {
    "duration": 690,
    "start_time": "2022-04-30T09:52:05.352Z"
   },
   {
    "duration": 492,
    "start_time": "2022-04-30T09:52:06.043Z"
   },
   {
    "duration": 14,
    "start_time": "2022-04-30T09:52:06.537Z"
   },
   {
    "duration": 15,
    "start_time": "2022-04-30T09:52:06.553Z"
   },
   {
    "duration": 146,
    "start_time": "2022-04-30T09:52:06.569Z"
   },
   {
    "duration": 4518,
    "start_time": "2022-04-30T09:52:06.718Z"
   },
   {
    "duration": 4456,
    "start_time": "2022-04-30T09:52:11.238Z"
   },
   {
    "duration": 122,
    "start_time": "2022-04-30T09:52:15.696Z"
   },
   {
    "duration": 121,
    "start_time": "2022-04-30T09:52:15.819Z"
   },
   {
    "duration": 138,
    "start_time": "2022-04-30T09:52:15.941Z"
   },
   {
    "duration": 3663,
    "start_time": "2022-04-30T09:52:16.081Z"
   },
   {
    "duration": 7309,
    "start_time": "2022-04-30T09:52:19.746Z"
   },
   {
    "duration": 7883,
    "start_time": "2022-04-30T09:52:27.057Z"
   },
   {
    "duration": 799,
    "start_time": "2022-04-30T09:52:34.942Z"
   },
   {
    "duration": 809,
    "start_time": "2022-04-30T09:52:35.743Z"
   },
   {
    "duration": 201,
    "start_time": "2022-04-30T09:52:36.553Z"
   },
   {
    "duration": 4,
    "start_time": "2022-04-30T09:53:20.700Z"
   },
   {
    "duration": 13,
    "start_time": "2022-04-30T09:53:20.707Z"
   },
   {
    "duration": 785,
    "start_time": "2022-04-30T09:53:20.722Z"
   },
   {
    "duration": 134,
    "start_time": "2022-04-30T09:53:21.509Z"
   },
   {
    "duration": 91,
    "start_time": "2022-04-30T09:53:21.646Z"
   },
   {
    "duration": 696,
    "start_time": "2022-04-30T09:53:21.739Z"
   },
   {
    "duration": 16,
    "start_time": "2022-04-30T09:53:22.437Z"
   },
   {
    "duration": 35,
    "start_time": "2022-04-30T09:53:22.455Z"
   },
   {
    "duration": 46,
    "start_time": "2022-04-30T09:53:22.492Z"
   },
   {
    "duration": 109,
    "start_time": "2022-04-30T09:53:22.540Z"
   },
   {
    "duration": 20,
    "start_time": "2022-04-30T09:53:22.653Z"
   },
   {
    "duration": 81,
    "start_time": "2022-04-30T09:53:22.674Z"
   },
   {
    "duration": 392,
    "start_time": "2022-04-30T09:53:22.757Z"
   },
   {
    "duration": 16,
    "start_time": "2022-04-30T09:53:23.150Z"
   },
   {
    "duration": 13,
    "start_time": "2022-04-30T09:53:23.167Z"
   },
   {
    "duration": 51,
    "start_time": "2022-04-30T09:53:23.182Z"
   },
   {
    "duration": 28,
    "start_time": "2022-04-30T09:53:23.235Z"
   },
   {
    "duration": 5,
    "start_time": "2022-04-30T09:53:23.264Z"
   },
   {
    "duration": 66,
    "start_time": "2022-04-30T09:53:23.271Z"
   },
   {
    "duration": 39,
    "start_time": "2022-04-30T09:53:23.339Z"
   },
   {
    "duration": 102,
    "start_time": "2022-04-30T09:53:23.433Z"
   },
   {
    "duration": 101,
    "start_time": "2022-04-30T09:53:23.537Z"
   },
   {
    "duration": 641,
    "start_time": "2022-04-30T09:53:23.641Z"
   },
   {
    "duration": 525,
    "start_time": "2022-04-30T09:53:24.284Z"
   },
   {
    "duration": 14,
    "start_time": "2022-04-30T09:53:24.810Z"
   },
   {
    "duration": 13,
    "start_time": "2022-04-30T09:53:24.834Z"
   },
   {
    "duration": 160,
    "start_time": "2022-04-30T09:53:24.849Z"
   },
   {
    "duration": 5531,
    "start_time": "2022-04-30T09:53:25.011Z"
   },
   {
    "duration": 4695,
    "start_time": "2022-04-30T09:53:30.546Z"
   },
   {
    "duration": 118,
    "start_time": "2022-04-30T09:53:35.242Z"
   },
   {
    "duration": 111,
    "start_time": "2022-04-30T09:53:35.362Z"
   },
   {
    "duration": 165,
    "start_time": "2022-04-30T09:53:35.475Z"
   },
   {
    "duration": 3799,
    "start_time": "2022-04-30T09:53:35.641Z"
   },
   {
    "duration": 6402,
    "start_time": "2022-04-30T09:53:39.441Z"
   },
   {
    "duration": 5798,
    "start_time": "2022-04-30T09:53:45.845Z"
   },
   {
    "duration": 700,
    "start_time": "2022-04-30T09:53:51.644Z"
   },
   {
    "duration": 701,
    "start_time": "2022-04-30T09:53:52.346Z"
   },
   {
    "duration": 315,
    "start_time": "2022-04-30T09:53:53.048Z"
   },
   {
    "duration": 162,
    "start_time": "2022-04-30T10:14:50.806Z"
   },
   {
    "duration": 152,
    "start_time": "2022-04-30T10:17:58.677Z"
   },
   {
    "duration": 147,
    "start_time": "2022-04-30T10:18:15.378Z"
   },
   {
    "duration": 183,
    "start_time": "2022-04-30T10:19:10.593Z"
   },
   {
    "duration": 152,
    "start_time": "2022-04-30T10:19:30.014Z"
   },
   {
    "duration": 135,
    "start_time": "2022-04-30T10:19:38.530Z"
   },
   {
    "duration": 5437,
    "start_time": "2022-04-30T10:25:34.044Z"
   },
   {
    "duration": 5455,
    "start_time": "2022-04-30T10:26:34.053Z"
   },
   {
    "duration": 476,
    "start_time": "2022-04-30T10:28:49.757Z"
   },
   {
    "duration": 19,
    "start_time": "2022-04-30T10:31:12.341Z"
   },
   {
    "duration": 218,
    "start_time": "2022-04-30T10:31:24.484Z"
   },
   {
    "duration": 23,
    "start_time": "2022-04-30T10:31:51.231Z"
   },
   {
    "duration": 20,
    "start_time": "2022-04-30T10:31:57.547Z"
   },
   {
    "duration": 18,
    "start_time": "2022-04-30T10:32:02.061Z"
   },
   {
    "duration": 12,
    "start_time": "2022-04-30T10:33:43.800Z"
   },
   {
    "duration": 18,
    "start_time": "2022-04-30T10:33:58.282Z"
   },
   {
    "duration": 15,
    "start_time": "2022-04-30T10:34:08.786Z"
   },
   {
    "duration": 15,
    "start_time": "2022-04-30T10:34:23.031Z"
   },
   {
    "duration": 152,
    "start_time": "2022-04-30T10:35:09.700Z"
   },
   {
    "duration": 14,
    "start_time": "2022-04-30T10:35:18.849Z"
   },
   {
    "duration": 3977,
    "start_time": "2022-04-30T10:35:52.133Z"
   },
   {
    "duration": 2944,
    "start_time": "2022-04-30T10:37:10.445Z"
   },
   {
    "duration": 2934,
    "start_time": "2022-04-30T10:37:33.036Z"
   },
   {
    "duration": 224,
    "start_time": "2022-04-30T10:37:49.966Z"
   },
   {
    "duration": 17,
    "start_time": "2022-04-30T10:39:33.267Z"
   },
   {
    "duration": 13,
    "start_time": "2022-04-30T10:39:39.650Z"
   },
   {
    "duration": 215,
    "start_time": "2022-04-30T10:40:21.093Z"
   },
   {
    "duration": 642,
    "start_time": "2022-04-30T10:40:42.739Z"
   },
   {
    "duration": 203,
    "start_time": "2022-04-30T10:40:49.986Z"
   },
   {
    "duration": 215,
    "start_time": "2022-04-30T10:40:55.343Z"
   },
   {
    "duration": 225,
    "start_time": "2022-04-30T10:40:59.566Z"
   },
   {
    "duration": 257,
    "start_time": "2022-04-30T10:52:16.375Z"
   },
   {
    "duration": 245,
    "start_time": "2022-04-30T10:52:34.557Z"
   },
   {
    "duration": 289,
    "start_time": "2022-04-30T10:52:55.513Z"
   },
   {
    "duration": 10,
    "start_time": "2022-04-30T10:57:55.341Z"
   },
   {
    "duration": 143,
    "start_time": "2022-04-30T10:58:46.225Z"
   },
   {
    "duration": 735,
    "start_time": "2022-04-30T11:00:10.629Z"
   },
   {
    "duration": 733,
    "start_time": "2022-04-30T11:00:44.983Z"
   },
   {
    "duration": 4,
    "start_time": "2022-04-30T11:01:26.016Z"
   },
   {
    "duration": 12,
    "start_time": "2022-04-30T11:01:26.022Z"
   },
   {
    "duration": 822,
    "start_time": "2022-04-30T11:01:26.036Z"
   },
   {
    "duration": 134,
    "start_time": "2022-04-30T11:01:26.860Z"
   },
   {
    "duration": 101,
    "start_time": "2022-04-30T11:01:26.996Z"
   },
   {
    "duration": 736,
    "start_time": "2022-04-30T11:01:27.099Z"
   },
   {
    "duration": 169,
    "start_time": "2022-04-30T11:01:27.837Z"
   },
   {
    "duration": 29,
    "start_time": "2022-04-30T11:01:28.007Z"
   },
   {
    "duration": 28,
    "start_time": "2022-04-30T11:01:28.037Z"
   },
   {
    "duration": 27,
    "start_time": "2022-04-30T11:01:28.067Z"
   },
   {
    "duration": 142,
    "start_time": "2022-04-30T11:01:28.097Z"
   },
   {
    "duration": 19,
    "start_time": "2022-04-30T11:01:28.241Z"
   },
   {
    "duration": 81,
    "start_time": "2022-04-30T11:01:28.262Z"
   },
   {
    "duration": 13,
    "start_time": "2022-04-30T11:01:28.345Z"
   },
   {
    "duration": 140,
    "start_time": "2022-04-30T11:01:28.360Z"
   },
   {
    "duration": 0,
    "start_time": "2022-04-30T11:01:28.502Z"
   },
   {
    "duration": 823,
    "start_time": "2022-04-30T11:01:30.476Z"
   },
   {
    "duration": 691,
    "start_time": "2022-04-30T11:01:52.026Z"
   },
   {
    "duration": 4,
    "start_time": "2022-04-30T11:02:29.312Z"
   },
   {
    "duration": 8,
    "start_time": "2022-04-30T11:02:29.318Z"
   },
   {
    "duration": 757,
    "start_time": "2022-04-30T11:02:29.328Z"
   },
   {
    "duration": 135,
    "start_time": "2022-04-30T11:02:30.087Z"
   },
   {
    "duration": 86,
    "start_time": "2022-04-30T11:02:30.235Z"
   },
   {
    "duration": 756,
    "start_time": "2022-04-30T11:02:30.323Z"
   },
   {
    "duration": 171,
    "start_time": "2022-04-30T11:02:31.081Z"
   },
   {
    "duration": 19,
    "start_time": "2022-04-30T11:02:31.254Z"
   },
   {
    "duration": 59,
    "start_time": "2022-04-30T11:02:31.275Z"
   },
   {
    "duration": 28,
    "start_time": "2022-04-30T11:02:31.338Z"
   },
   {
    "duration": 126,
    "start_time": "2022-04-30T11:02:31.369Z"
   },
   {
    "duration": 19,
    "start_time": "2022-04-30T11:02:31.496Z"
   },
   {
    "duration": 66,
    "start_time": "2022-04-30T11:02:31.534Z"
   },
   {
    "duration": 13,
    "start_time": "2022-04-30T11:02:31.602Z"
   },
   {
    "duration": 131,
    "start_time": "2022-04-30T11:02:31.634Z"
   },
   {
    "duration": 0,
    "start_time": "2022-04-30T11:02:31.767Z"
   },
   {
    "duration": 44,
    "start_time": "2022-04-30T11:02:33.538Z"
   },
   {
    "duration": 4,
    "start_time": "2022-04-30T11:04:03.078Z"
   },
   {
    "duration": 13,
    "start_time": "2022-04-30T11:04:03.084Z"
   },
   {
    "duration": 781,
    "start_time": "2022-04-30T11:04:03.099Z"
   },
   {
    "duration": 138,
    "start_time": "2022-04-30T11:04:03.882Z"
   },
   {
    "duration": 96,
    "start_time": "2022-04-30T11:04:04.022Z"
   },
   {
    "duration": 740,
    "start_time": "2022-04-30T11:04:04.120Z"
   },
   {
    "duration": 164,
    "start_time": "2022-04-30T11:04:04.862Z"
   },
   {
    "duration": 20,
    "start_time": "2022-04-30T11:04:05.028Z"
   },
   {
    "duration": 38,
    "start_time": "2022-04-30T11:04:05.050Z"
   },
   {
    "duration": 49,
    "start_time": "2022-04-30T11:04:05.090Z"
   },
   {
    "duration": 112,
    "start_time": "2022-04-30T11:04:05.141Z"
   },
   {
    "duration": 18,
    "start_time": "2022-04-30T11:04:05.255Z"
   },
   {
    "duration": 77,
    "start_time": "2022-04-30T11:04:05.274Z"
   },
   {
    "duration": 12,
    "start_time": "2022-04-30T11:04:05.352Z"
   },
   {
    "duration": 142,
    "start_time": "2022-04-30T11:04:05.365Z"
   },
   {
    "duration": 0,
    "start_time": "2022-04-30T11:04:05.508Z"
   },
   {
    "duration": 19,
    "start_time": "2022-04-30T11:04:07.334Z"
   },
   {
    "duration": 13,
    "start_time": "2022-04-30T11:04:17.565Z"
   },
   {
    "duration": 16,
    "start_time": "2022-04-30T11:04:28.452Z"
   },
   {
    "duration": 4,
    "start_time": "2022-04-30T11:05:14.081Z"
   },
   {
    "duration": 10,
    "start_time": "2022-04-30T11:05:14.087Z"
   },
   {
    "duration": 765,
    "start_time": "2022-04-30T11:05:14.099Z"
   },
   {
    "duration": 129,
    "start_time": "2022-04-30T11:05:14.866Z"
   },
   {
    "duration": 109,
    "start_time": "2022-04-30T11:05:14.997Z"
   },
   {
    "duration": 733,
    "start_time": "2022-04-30T11:05:15.108Z"
   },
   {
    "duration": 171,
    "start_time": "2022-04-30T11:05:15.842Z"
   },
   {
    "duration": 22,
    "start_time": "2022-04-30T11:05:16.015Z"
   },
   {
    "duration": 38,
    "start_time": "2022-04-30T11:05:16.039Z"
   },
   {
    "duration": 27,
    "start_time": "2022-04-30T11:05:16.079Z"
   },
   {
    "duration": 128,
    "start_time": "2022-04-30T11:05:16.109Z"
   },
   {
    "duration": 19,
    "start_time": "2022-04-30T11:05:16.239Z"
   },
   {
    "duration": 81,
    "start_time": "2022-04-30T11:05:16.260Z"
   },
   {
    "duration": 12,
    "start_time": "2022-04-30T11:05:16.343Z"
   },
   {
    "duration": 140,
    "start_time": "2022-04-30T11:05:16.357Z"
   },
   {
    "duration": 0,
    "start_time": "2022-04-30T11:05:16.499Z"
   },
   {
    "duration": 0,
    "start_time": "2022-04-30T11:05:16.501Z"
   },
   {
    "duration": 0,
    "start_time": "2022-04-30T11:05:16.501Z"
   },
   {
    "duration": 0,
    "start_time": "2022-04-30T11:05:16.503Z"
   },
   {
    "duration": 0,
    "start_time": "2022-04-30T11:05:16.504Z"
   },
   {
    "duration": 0,
    "start_time": "2022-04-30T11:05:16.504Z"
   },
   {
    "duration": 0,
    "start_time": "2022-04-30T11:05:16.506Z"
   },
   {
    "duration": 0,
    "start_time": "2022-04-30T11:05:16.506Z"
   },
   {
    "duration": 0,
    "start_time": "2022-04-30T11:05:16.507Z"
   },
   {
    "duration": 0,
    "start_time": "2022-04-30T11:05:16.508Z"
   },
   {
    "duration": 0,
    "start_time": "2022-04-30T11:05:16.509Z"
   },
   {
    "duration": 0,
    "start_time": "2022-04-30T11:05:16.510Z"
   },
   {
    "duration": 0,
    "start_time": "2022-04-30T11:05:16.512Z"
   },
   {
    "duration": 0,
    "start_time": "2022-04-30T11:05:16.533Z"
   },
   {
    "duration": 0,
    "start_time": "2022-04-30T11:05:16.534Z"
   },
   {
    "duration": 0,
    "start_time": "2022-04-30T11:05:16.536Z"
   },
   {
    "duration": 1,
    "start_time": "2022-04-30T11:05:16.536Z"
   },
   {
    "duration": 0,
    "start_time": "2022-04-30T11:05:16.537Z"
   },
   {
    "duration": 0,
    "start_time": "2022-04-30T11:05:16.538Z"
   },
   {
    "duration": 0,
    "start_time": "2022-04-30T11:05:16.539Z"
   },
   {
    "duration": 0,
    "start_time": "2022-04-30T11:05:16.540Z"
   },
   {
    "duration": 0,
    "start_time": "2022-04-30T11:05:16.542Z"
   },
   {
    "duration": 0,
    "start_time": "2022-04-30T11:05:16.543Z"
   },
   {
    "duration": 0,
    "start_time": "2022-04-30T11:05:16.544Z"
   },
   {
    "duration": 0,
    "start_time": "2022-04-30T11:05:16.544Z"
   },
   {
    "duration": 1,
    "start_time": "2022-04-30T11:05:16.545Z"
   },
   {
    "duration": 0,
    "start_time": "2022-04-30T11:05:16.546Z"
   },
   {
    "duration": 0,
    "start_time": "2022-04-30T11:05:16.547Z"
   },
   {
    "duration": 0,
    "start_time": "2022-04-30T11:05:16.549Z"
   },
   {
    "duration": 266,
    "start_time": "2022-04-30T11:05:48.038Z"
   },
   {
    "duration": 14,
    "start_time": "2022-04-30T11:06:31.250Z"
   },
   {
    "duration": 20,
    "start_time": "2022-04-30T11:07:02.834Z"
   },
   {
    "duration": 29,
    "start_time": "2022-04-30T11:07:06.177Z"
   },
   {
    "duration": 29,
    "start_time": "2022-04-30T11:07:33.458Z"
   },
   {
    "duration": 28,
    "start_time": "2022-04-30T11:07:35.805Z"
   },
   {
    "duration": 5,
    "start_time": "2022-04-30T11:09:19.966Z"
   },
   {
    "duration": 10,
    "start_time": "2022-04-30T11:09:19.973Z"
   },
   {
    "duration": 775,
    "start_time": "2022-04-30T11:09:19.985Z"
   },
   {
    "duration": 140,
    "start_time": "2022-04-30T11:09:20.762Z"
   },
   {
    "duration": 96,
    "start_time": "2022-04-30T11:09:20.905Z"
   },
   {
    "duration": 730,
    "start_time": "2022-04-30T11:09:21.003Z"
   },
   {
    "duration": 167,
    "start_time": "2022-04-30T11:09:21.735Z"
   },
   {
    "duration": 36,
    "start_time": "2022-04-30T11:09:21.904Z"
   },
   {
    "duration": 38,
    "start_time": "2022-04-30T11:09:21.942Z"
   },
   {
    "duration": 27,
    "start_time": "2022-04-30T11:09:21.982Z"
   },
   {
    "duration": 109,
    "start_time": "2022-04-30T11:09:22.032Z"
   },
   {
    "duration": 19,
    "start_time": "2022-04-30T11:09:22.143Z"
   },
   {
    "duration": 80,
    "start_time": "2022-04-30T11:09:22.164Z"
   },
   {
    "duration": 13,
    "start_time": "2022-04-30T11:09:22.246Z"
   },
   {
    "duration": 272,
    "start_time": "2022-04-30T11:09:22.261Z"
   },
   {
    "duration": 19,
    "start_time": "2022-04-30T11:09:22.536Z"
   },
   {
    "duration": 29,
    "start_time": "2022-04-30T11:09:22.556Z"
   },
   {
    "duration": 477,
    "start_time": "2022-04-30T11:09:22.587Z"
   },
   {
    "duration": 18,
    "start_time": "2022-04-30T11:09:23.066Z"
   },
   {
    "duration": 15,
    "start_time": "2022-04-30T11:09:23.085Z"
   },
   {
    "duration": 58,
    "start_time": "2022-04-30T11:09:23.101Z"
   },
   {
    "duration": 28,
    "start_time": "2022-04-30T11:09:23.161Z"
   },
   {
    "duration": 4,
    "start_time": "2022-04-30T11:09:23.191Z"
   },
   {
    "duration": 65,
    "start_time": "2022-04-30T11:09:23.196Z"
   },
   {
    "duration": 76,
    "start_time": "2022-04-30T11:09:23.262Z"
   },
   {
    "duration": 98,
    "start_time": "2022-04-30T11:09:23.340Z"
   },
   {
    "duration": 104,
    "start_time": "2022-04-30T11:09:23.440Z"
   },
   {
    "duration": 717,
    "start_time": "2022-04-30T11:09:23.547Z"
   },
   {
    "duration": 560,
    "start_time": "2022-04-30T11:09:24.269Z"
   },
   {
    "duration": 16,
    "start_time": "2022-04-30T11:09:24.831Z"
   },
   {
    "duration": 15,
    "start_time": "2022-04-30T11:09:24.849Z"
   },
   {
    "duration": 196,
    "start_time": "2022-04-30T11:09:24.866Z"
   },
   {
    "duration": 4892,
    "start_time": "2022-04-30T11:09:25.065Z"
   },
   {
    "duration": 4772,
    "start_time": "2022-04-30T11:09:29.959Z"
   },
   {
    "duration": 109,
    "start_time": "2022-04-30T11:09:34.734Z"
   },
   {
    "duration": 107,
    "start_time": "2022-04-30T11:09:34.845Z"
   },
   {
    "duration": 179,
    "start_time": "2022-04-30T11:09:34.954Z"
   },
   {
    "duration": 4302,
    "start_time": "2022-04-30T11:09:35.135Z"
   },
   {
    "duration": 7101,
    "start_time": "2022-04-30T11:09:39.439Z"
   },
   {
    "duration": 6395,
    "start_time": "2022-04-30T11:09:46.541Z"
   },
   {
    "duration": 701,
    "start_time": "2022-04-30T11:09:52.938Z"
   },
   {
    "duration": 703,
    "start_time": "2022-04-30T11:09:53.641Z"
   },
   {
    "duration": 244,
    "start_time": "2022-04-30T11:09:54.346Z"
   },
   {
    "duration": 5,
    "start_time": "2022-04-30T11:11:09.421Z"
   },
   {
    "duration": 8,
    "start_time": "2022-04-30T11:11:09.428Z"
   },
   {
    "duration": 779,
    "start_time": "2022-04-30T11:11:09.439Z"
   },
   {
    "duration": 135,
    "start_time": "2022-04-30T11:11:10.219Z"
   },
   {
    "duration": 102,
    "start_time": "2022-04-30T11:11:10.356Z"
   },
   {
    "duration": 728,
    "start_time": "2022-04-30T11:11:10.460Z"
   },
   {
    "duration": 170,
    "start_time": "2022-04-30T11:11:11.190Z"
   },
   {
    "duration": 17,
    "start_time": "2022-04-30T11:11:11.362Z"
   },
   {
    "duration": 54,
    "start_time": "2022-04-30T11:11:11.381Z"
   },
   {
    "duration": 27,
    "start_time": "2022-04-30T11:11:11.438Z"
   },
   {
    "duration": 111,
    "start_time": "2022-04-30T11:11:11.467Z"
   },
   {
    "duration": 19,
    "start_time": "2022-04-30T11:11:11.580Z"
   },
   {
    "duration": 82,
    "start_time": "2022-04-30T11:11:11.601Z"
   },
   {
    "duration": 12,
    "start_time": "2022-04-30T11:11:11.685Z"
   },
   {
    "duration": 279,
    "start_time": "2022-04-30T11:11:11.699Z"
   },
   {
    "duration": 19,
    "start_time": "2022-04-30T11:11:11.980Z"
   },
   {
    "duration": 45,
    "start_time": "2022-04-30T11:11:12.001Z"
   },
   {
    "duration": 26,
    "start_time": "2022-04-30T11:11:12.048Z"
   },
   {
    "duration": 465,
    "start_time": "2022-04-30T11:11:12.076Z"
   },
   {
    "duration": 15,
    "start_time": "2022-04-30T11:11:12.542Z"
   },
   {
    "duration": 12,
    "start_time": "2022-04-30T11:11:12.559Z"
   },
   {
    "duration": 32,
    "start_time": "2022-04-30T11:11:12.573Z"
   },
   {
    "duration": 47,
    "start_time": "2022-04-30T11:11:12.607Z"
   },
   {
    "duration": 4,
    "start_time": "2022-04-30T11:11:12.656Z"
   },
   {
    "duration": 45,
    "start_time": "2022-04-30T11:11:12.664Z"
   },
   {
    "duration": 53,
    "start_time": "2022-04-30T11:11:12.711Z"
   },
   {
    "duration": 78,
    "start_time": "2022-04-30T11:11:12.765Z"
   },
   {
    "duration": 12,
    "start_time": "2022-04-30T11:11:12.934Z"
   },
   {
    "duration": 663,
    "start_time": "2022-04-30T11:11:12.948Z"
   },
   {
    "duration": 466,
    "start_time": "2022-04-30T11:11:13.613Z"
   },
   {
    "duration": 13,
    "start_time": "2022-04-30T11:11:14.080Z"
   },
   {
    "duration": 13,
    "start_time": "2022-04-30T11:11:14.095Z"
   },
   {
    "duration": 157,
    "start_time": "2022-04-30T11:11:14.110Z"
   },
   {
    "duration": 4336,
    "start_time": "2022-04-30T11:11:14.269Z"
   },
   {
    "duration": 4207,
    "start_time": "2022-04-30T11:11:18.607Z"
   },
   {
    "duration": 103,
    "start_time": "2022-04-30T11:11:22.815Z"
   },
   {
    "duration": 97,
    "start_time": "2022-04-30T11:11:22.919Z"
   },
   {
    "duration": 158,
    "start_time": "2022-04-30T11:11:23.018Z"
   },
   {
    "duration": 4055,
    "start_time": "2022-04-30T11:11:23.178Z"
   },
   {
    "duration": 7113,
    "start_time": "2022-04-30T11:11:27.236Z"
   },
   {
    "duration": 6295,
    "start_time": "2022-04-30T11:11:34.351Z"
   },
   {
    "duration": 699,
    "start_time": "2022-04-30T11:11:40.648Z"
   },
   {
    "duration": 686,
    "start_time": "2022-04-30T11:11:41.349Z"
   },
   {
    "duration": 176,
    "start_time": "2022-04-30T11:11:42.037Z"
   },
   {
    "duration": 47,
    "start_time": "2022-05-01T11:11:37.683Z"
   },
   {
    "duration": 2189,
    "start_time": "2022-05-01T11:11:41.373Z"
   },
   {
    "duration": 3,
    "start_time": "2022-05-01T11:11:43.564Z"
   },
   {
    "duration": 875,
    "start_time": "2022-05-01T11:11:43.572Z"
   },
   {
    "duration": 159,
    "start_time": "2022-05-01T11:11:44.450Z"
   },
   {
    "duration": 96,
    "start_time": "2022-05-01T11:11:44.611Z"
   },
   {
    "duration": 804,
    "start_time": "2022-05-01T11:11:44.709Z"
   },
   {
    "duration": 28,
    "start_time": "2022-05-01T11:11:45.515Z"
   },
   {
    "duration": 61,
    "start_time": "2022-05-01T11:11:45.545Z"
   },
   {
    "duration": 35,
    "start_time": "2022-05-01T11:11:45.609Z"
   },
   {
    "duration": 212,
    "start_time": "2022-05-01T11:11:45.647Z"
   },
   {
    "duration": 40,
    "start_time": "2022-05-01T11:11:45.862Z"
   },
   {
    "duration": 107,
    "start_time": "2022-05-01T11:11:45.905Z"
   },
   {
    "duration": 17,
    "start_time": "2022-05-01T11:11:46.014Z"
   },
   {
    "duration": 329,
    "start_time": "2022-05-01T11:11:46.033Z"
   },
   {
    "duration": 39,
    "start_time": "2022-05-01T11:11:46.364Z"
   },
   {
    "duration": 47,
    "start_time": "2022-05-01T11:11:46.406Z"
   },
   {
    "duration": 53,
    "start_time": "2022-05-01T11:11:46.456Z"
   },
   {
    "duration": 712,
    "start_time": "2022-05-01T11:11:46.511Z"
   },
   {
    "duration": 23,
    "start_time": "2022-05-01T11:11:47.226Z"
   },
   {
    "duration": 15,
    "start_time": "2022-05-01T11:11:47.251Z"
   },
   {
    "duration": 79,
    "start_time": "2022-05-01T11:11:47.268Z"
   },
   {
    "duration": 86,
    "start_time": "2022-05-01T11:11:47.350Z"
   },
   {
    "duration": 6,
    "start_time": "2022-05-01T11:11:47.438Z"
   },
   {
    "duration": 70,
    "start_time": "2022-05-01T11:11:47.446Z"
   },
   {
    "duration": 90,
    "start_time": "2022-05-01T11:11:47.519Z"
   },
   {
    "duration": 108,
    "start_time": "2022-05-01T11:11:47.615Z"
   },
   {
    "duration": 68,
    "start_time": "2022-05-01T11:11:47.726Z"
   },
   {
    "duration": 904,
    "start_time": "2022-05-01T11:11:47.799Z"
   },
   {
    "duration": 793,
    "start_time": "2022-05-01T11:11:48.708Z"
   },
   {
    "duration": 19,
    "start_time": "2022-05-01T11:11:49.504Z"
   },
   {
    "duration": 20,
    "start_time": "2022-05-01T11:11:49.525Z"
   },
   {
    "duration": 268,
    "start_time": "2022-05-01T11:11:49.547Z"
   },
   {
    "duration": 6513,
    "start_time": "2022-05-01T11:11:49.818Z"
   },
   {
    "duration": 5769,
    "start_time": "2022-05-01T11:11:56.333Z"
   },
   {
    "duration": 124,
    "start_time": "2022-05-01T11:12:02.105Z"
   },
   {
    "duration": 117,
    "start_time": "2022-05-01T11:12:02.231Z"
   },
   {
    "duration": 147,
    "start_time": "2022-05-01T11:12:02.350Z"
   }
  ],
  "kernelspec": {
   "display_name": "Python 3 (ipykernel)",
   "language": "python",
   "name": "python3"
  },
  "language_info": {
   "codemirror_mode": {
    "name": "ipython",
    "version": 3
   },
   "file_extension": ".py",
   "mimetype": "text/x-python",
   "name": "python",
   "nbconvert_exporter": "python",
   "pygments_lexer": "ipython3",
   "version": "3.9.7"
  },
  "toc": {
   "base_numbering": "1",
   "nav_menu": {},
   "number_sections": true,
   "sideBar": true,
   "skip_h1_title": true,
   "title_cell": "Table of Contents",
   "title_sidebar": "Contents",
   "toc_cell": false,
   "toc_position": {
    "height": "calc(100% - 180px)",
    "left": "10px",
    "top": "150px",
    "width": "409px"
   },
   "toc_section_display": true,
   "toc_window_display": true
  }
 },
 "nbformat": 4,
 "nbformat_minor": 2
}
