{
 "cells": [
  {
   "cell_type": "markdown",
   "metadata": {},
   "source": [
    "# Определение тарифного плана\n",
    "\n",
    "Описание проекта\n",
    "\n",
    "Клиентам предлагают 2 тарифных плана, чтобы скорректировать рекламный бюджет нужно понять какой тариф приносит больше денег.\n",
    "Данные 500 пользователей : кто они, откуда, каким тарифом пользуются, сколько звонков и сообщений каждый отправил. Нужно проанализировать поведение клиентов и сделать вывод — какой тариф лучше."
   ]
  },
  {
   "cell_type": "markdown",
   "metadata": {},
   "source": [
    "## Откроем файл с данными и изучим общую информацию\n",
    "\n",
    "Путь к файлам:\n",
    "- /datasets/calls.csv Таблица calls (информация о звонках):\n",
    "- /datasets/internet.csv Таблица internet (информация об интернет-сессиях):\n",
    "- /datasets/messages.csv Таблица messages (информация о сообщениях):\n",
    "- /datasets/tariffs.csv Таблица tariffs (информация о тарифах):\n",
    "- /datasets/users.csv Таблица users (информация о пользователях)"
   ]
  },
  {
   "cell_type": "code",
   "execution_count": 402,
   "metadata": {},
   "outputs": [],
   "source": [
    "#импорт библиотек\n",
    "import pandas as pd \n",
    "import numpy as np\n",
    "import math\n",
    "from matplotlib import pyplot as plt\n",
    "from scipy import stats as st"
   ]
  },
  {
   "cell_type": "code",
   "execution_count": 403,
   "metadata": {},
   "outputs": [],
   "source": [
    "#создание DataFrame из файлов csv\n",
    "calls = pd.read_csv('/datasets/calls.csv')\n",
    "internet = pd.read_csv('/datasets/internet.csv', index_col=0)\n",
    "messages = pd.read_csv('/datasets/messages.csv')\n",
    "tariffs = pd.read_csv('/datasets/tariffs.csv')\n",
    "users = pd.read_csv('/datasets/users.csv') "
   ]
  },
  {
   "cell_type": "markdown",
   "metadata": {},
   "source": [
    "### Таблица **calls** (информация о звонках):\n",
    "Изучим общую информацию \n",
    "\n",
    "- id — уникальный номер звонка\n",
    "- call_date — дата звонка\n",
    "- duration — длительность звонка в минутах\n",
    "- user_id — идентификатор пользователя, сделавшего звонок"
   ]
  },
  {
   "cell_type": "code",
   "execution_count": 404,
   "metadata": {
    "scrolled": true
   },
   "outputs": [
    {
     "name": "stdout",
     "output_type": "stream",
     "text": [
      "<class 'pandas.core.frame.DataFrame'>\n",
      "RangeIndex: 202607 entries, 0 to 202606\n",
      "Data columns (total 4 columns):\n",
      "id           202607 non-null object\n",
      "call_date    202607 non-null object\n",
      "duration     202607 non-null float64\n",
      "user_id      202607 non-null int64\n",
      "dtypes: float64(1), int64(1), object(2)\n",
      "memory usage: 6.2+ MB\n"
     ]
    }
   ],
   "source": [
    "calls.info() #сводная информация по таблице calls"
   ]
  },
  {
   "cell_type": "code",
   "execution_count": 405,
   "metadata": {
    "scrolled": false
   },
   "outputs": [
    {
     "data": {
      "text/html": [
       "<div>\n",
       "<style scoped>\n",
       "    .dataframe tbody tr th:only-of-type {\n",
       "        vertical-align: middle;\n",
       "    }\n",
       "\n",
       "    .dataframe tbody tr th {\n",
       "        vertical-align: top;\n",
       "    }\n",
       "\n",
       "    .dataframe thead th {\n",
       "        text-align: right;\n",
       "    }\n",
       "</style>\n",
       "<table border=\"1\" class=\"dataframe\">\n",
       "  <thead>\n",
       "    <tr style=\"text-align: right;\">\n",
       "      <th></th>\n",
       "      <th>id</th>\n",
       "      <th>call_date</th>\n",
       "      <th>duration</th>\n",
       "      <th>user_id</th>\n",
       "    </tr>\n",
       "  </thead>\n",
       "  <tbody>\n",
       "    <tr>\n",
       "      <td>0</td>\n",
       "      <td>1000_0</td>\n",
       "      <td>2018-07-25</td>\n",
       "      <td>0.00</td>\n",
       "      <td>1000</td>\n",
       "    </tr>\n",
       "    <tr>\n",
       "      <td>1</td>\n",
       "      <td>1000_1</td>\n",
       "      <td>2018-08-17</td>\n",
       "      <td>0.00</td>\n",
       "      <td>1000</td>\n",
       "    </tr>\n",
       "    <tr>\n",
       "      <td>2</td>\n",
       "      <td>1000_2</td>\n",
       "      <td>2018-06-11</td>\n",
       "      <td>2.85</td>\n",
       "      <td>1000</td>\n",
       "    </tr>\n",
       "    <tr>\n",
       "      <td>3</td>\n",
       "      <td>1000_3</td>\n",
       "      <td>2018-09-21</td>\n",
       "      <td>13.80</td>\n",
       "      <td>1000</td>\n",
       "    </tr>\n",
       "    <tr>\n",
       "      <td>4</td>\n",
       "      <td>1000_4</td>\n",
       "      <td>2018-12-15</td>\n",
       "      <td>5.18</td>\n",
       "      <td>1000</td>\n",
       "    </tr>\n",
       "  </tbody>\n",
       "</table>\n",
       "</div>"
      ],
      "text/plain": [
       "       id   call_date  duration  user_id\n",
       "0  1000_0  2018-07-25      0.00     1000\n",
       "1  1000_1  2018-08-17      0.00     1000\n",
       "2  1000_2  2018-06-11      2.85     1000\n",
       "3  1000_3  2018-09-21     13.80     1000\n",
       "4  1000_4  2018-12-15      5.18     1000"
      ]
     },
     "execution_count": 405,
     "metadata": {},
     "output_type": "execute_result"
    }
   ],
   "source": [
    "calls.head() #первые 5столбцов по таблице calls"
   ]
  },
  {
   "cell_type": "markdown",
   "metadata": {},
   "source": [
    "#### Вывод по таблице calls:\n",
    "формат call_date (calls) нужно изменить на формат даты. Пропусков нет. Число строк 202 607."
   ]
  },
  {
   "cell_type": "markdown",
   "metadata": {},
   "source": [
    "### Таблица internet (информация об интернет-сессиях):\n",
    "Изучим общую информацию\n",
    "\n",
    "- id — уникальный номер сессии\n",
    "- mb_used — объём потраченного за сессию интернет-трафика (в мегабайтах)\n",
    "- session_date — дата интернет-сессии\n",
    "- user_id — идентификатор пользователя"
   ]
  },
  {
   "cell_type": "code",
   "execution_count": 406,
   "metadata": {
    "scrolled": false
   },
   "outputs": [
    {
     "name": "stdout",
     "output_type": "stream",
     "text": [
      "<class 'pandas.core.frame.DataFrame'>\n",
      "Int64Index: 149396 entries, 0 to 149395\n",
      "Data columns (total 4 columns):\n",
      "id              149396 non-null object\n",
      "mb_used         149396 non-null float64\n",
      "session_date    149396 non-null object\n",
      "user_id         149396 non-null int64\n",
      "dtypes: float64(1), int64(1), object(2)\n",
      "memory usage: 5.7+ MB\n"
     ]
    }
   ],
   "source": [
    "internet.info() #сводная информация по таблице internet"
   ]
  },
  {
   "cell_type": "code",
   "execution_count": 407,
   "metadata": {
    "scrolled": true
   },
   "outputs": [
    {
     "data": {
      "text/html": [
       "<div>\n",
       "<style scoped>\n",
       "    .dataframe tbody tr th:only-of-type {\n",
       "        vertical-align: middle;\n",
       "    }\n",
       "\n",
       "    .dataframe tbody tr th {\n",
       "        vertical-align: top;\n",
       "    }\n",
       "\n",
       "    .dataframe thead th {\n",
       "        text-align: right;\n",
       "    }\n",
       "</style>\n",
       "<table border=\"1\" class=\"dataframe\">\n",
       "  <thead>\n",
       "    <tr style=\"text-align: right;\">\n",
       "      <th></th>\n",
       "      <th>id</th>\n",
       "      <th>mb_used</th>\n",
       "      <th>session_date</th>\n",
       "      <th>user_id</th>\n",
       "    </tr>\n",
       "  </thead>\n",
       "  <tbody>\n",
       "    <tr>\n",
       "      <td>0</td>\n",
       "      <td>1000_0</td>\n",
       "      <td>112.95</td>\n",
       "      <td>2018-11-25</td>\n",
       "      <td>1000</td>\n",
       "    </tr>\n",
       "    <tr>\n",
       "      <td>1</td>\n",
       "      <td>1000_1</td>\n",
       "      <td>1052.81</td>\n",
       "      <td>2018-09-07</td>\n",
       "      <td>1000</td>\n",
       "    </tr>\n",
       "    <tr>\n",
       "      <td>2</td>\n",
       "      <td>1000_2</td>\n",
       "      <td>1197.26</td>\n",
       "      <td>2018-06-25</td>\n",
       "      <td>1000</td>\n",
       "    </tr>\n",
       "    <tr>\n",
       "      <td>3</td>\n",
       "      <td>1000_3</td>\n",
       "      <td>550.27</td>\n",
       "      <td>2018-08-22</td>\n",
       "      <td>1000</td>\n",
       "    </tr>\n",
       "    <tr>\n",
       "      <td>4</td>\n",
       "      <td>1000_4</td>\n",
       "      <td>302.56</td>\n",
       "      <td>2018-09-24</td>\n",
       "      <td>1000</td>\n",
       "    </tr>\n",
       "  </tbody>\n",
       "</table>\n",
       "</div>"
      ],
      "text/plain": [
       "       id  mb_used session_date  user_id\n",
       "0  1000_0   112.95   2018-11-25     1000\n",
       "1  1000_1  1052.81   2018-09-07     1000\n",
       "2  1000_2  1197.26   2018-06-25     1000\n",
       "3  1000_3   550.27   2018-08-22     1000\n",
       "4  1000_4   302.56   2018-09-24     1000"
      ]
     },
     "execution_count": 407,
     "metadata": {},
     "output_type": "execute_result"
    }
   ],
   "source": [
    "internet.head() #первые 5столбцов по таблице internet"
   ]
  },
  {
   "cell_type": "markdown",
   "metadata": {},
   "source": [
    "#### Вывод по таблице internet :\n",
    "формат session_date (internet) нужно изменить на формат даты. Пропусков нет. Число строк 149 396."
   ]
  },
  {
   "cell_type": "markdown",
   "metadata": {},
   "source": [
    "### Таблица messages (информация о сообщениях)\n",
    "Изучим общую информацию \n",
    "\n",
    "- id — уникальный номер сообщения\n",
    "- message_date — дата сообщения\n",
    "- user_id — идентификатор пользователя, отправившего сообщение"
   ]
  },
  {
   "cell_type": "code",
   "execution_count": 408,
   "metadata": {
    "scrolled": false
   },
   "outputs": [
    {
     "name": "stdout",
     "output_type": "stream",
     "text": [
      "<class 'pandas.core.frame.DataFrame'>\n",
      "RangeIndex: 123036 entries, 0 to 123035\n",
      "Data columns (total 3 columns):\n",
      "id              123036 non-null object\n",
      "message_date    123036 non-null object\n",
      "user_id         123036 non-null int64\n",
      "dtypes: int64(1), object(2)\n",
      "memory usage: 2.8+ MB\n"
     ]
    }
   ],
   "source": [
    "messages.info() #сводная информация по таблице messages"
   ]
  },
  {
   "cell_type": "code",
   "execution_count": 409,
   "metadata": {
    "scrolled": true
   },
   "outputs": [
    {
     "data": {
      "text/html": [
       "<div>\n",
       "<style scoped>\n",
       "    .dataframe tbody tr th:only-of-type {\n",
       "        vertical-align: middle;\n",
       "    }\n",
       "\n",
       "    .dataframe tbody tr th {\n",
       "        vertical-align: top;\n",
       "    }\n",
       "\n",
       "    .dataframe thead th {\n",
       "        text-align: right;\n",
       "    }\n",
       "</style>\n",
       "<table border=\"1\" class=\"dataframe\">\n",
       "  <thead>\n",
       "    <tr style=\"text-align: right;\">\n",
       "      <th></th>\n",
       "      <th>id</th>\n",
       "      <th>message_date</th>\n",
       "      <th>user_id</th>\n",
       "    </tr>\n",
       "  </thead>\n",
       "  <tbody>\n",
       "    <tr>\n",
       "      <td>0</td>\n",
       "      <td>1000_0</td>\n",
       "      <td>2018-06-27</td>\n",
       "      <td>1000</td>\n",
       "    </tr>\n",
       "    <tr>\n",
       "      <td>1</td>\n",
       "      <td>1000_1</td>\n",
       "      <td>2018-10-08</td>\n",
       "      <td>1000</td>\n",
       "    </tr>\n",
       "    <tr>\n",
       "      <td>2</td>\n",
       "      <td>1000_2</td>\n",
       "      <td>2018-08-04</td>\n",
       "      <td>1000</td>\n",
       "    </tr>\n",
       "    <tr>\n",
       "      <td>3</td>\n",
       "      <td>1000_3</td>\n",
       "      <td>2018-06-16</td>\n",
       "      <td>1000</td>\n",
       "    </tr>\n",
       "    <tr>\n",
       "      <td>4</td>\n",
       "      <td>1000_4</td>\n",
       "      <td>2018-12-05</td>\n",
       "      <td>1000</td>\n",
       "    </tr>\n",
       "  </tbody>\n",
       "</table>\n",
       "</div>"
      ],
      "text/plain": [
       "       id message_date  user_id\n",
       "0  1000_0   2018-06-27     1000\n",
       "1  1000_1   2018-10-08     1000\n",
       "2  1000_2   2018-08-04     1000\n",
       "3  1000_3   2018-06-16     1000\n",
       "4  1000_4   2018-12-05     1000"
      ]
     },
     "execution_count": 409,
     "metadata": {},
     "output_type": "execute_result"
    }
   ],
   "source": [
    "messages.head() #первые 5столбцов по таблице messages"
   ]
  },
  {
   "cell_type": "markdown",
   "metadata": {},
   "source": [
    "#### Вывод по таблице messages :\n",
    "формат message_date (messages) нужно изменить на формат даты. Пропусков нет. Число строк 123 036."
   ]
  },
  {
   "cell_type": "markdown",
   "metadata": {},
   "source": [
    "### Таблица tariffs (информация о тарифах):\n",
    "Изучим общую информацию\n",
    "\n",
    "- tariff_name — название тарифа\n",
    "- rub_monthly_fee — ежемесячная абонентская плата в рублях\n",
    "- minutes_included — количество минут разговора в месяц, включённых в абонентскую плату\n",
    "- messages_included — количество сообщений в месяц, включённых в абонентскую плату\n",
    "- mb_per_month_included — объём интернет-трафика, включённого в абонентскую плату (в мегабайтах)\n",
    "- rub_per_minute — стоимость минуты разговора сверх тарифного пакета (например, если в тарифе 100 минут разговора в месяц, то со 101 минуты будет взиматься плата)\n",
    "- rub_per_message — стоимость отправки сообщения сверх тарифного пакета\n",
    "- rub_per_gb — стоимость дополнительного гигабайта интернет-трафика сверх тарифного пакета (1 гигабайт = 1024 мегабайта)"
   ]
  },
  {
   "cell_type": "code",
   "execution_count": 410,
   "metadata": {
    "scrolled": false
   },
   "outputs": [
    {
     "name": "stdout",
     "output_type": "stream",
     "text": [
      "<class 'pandas.core.frame.DataFrame'>\n",
      "RangeIndex: 2 entries, 0 to 1\n",
      "Data columns (total 8 columns):\n",
      "messages_included        2 non-null int64\n",
      "mb_per_month_included    2 non-null int64\n",
      "minutes_included         2 non-null int64\n",
      "rub_monthly_fee          2 non-null int64\n",
      "rub_per_gb               2 non-null int64\n",
      "rub_per_message          2 non-null int64\n",
      "rub_per_minute           2 non-null int64\n",
      "tariff_name              2 non-null object\n",
      "dtypes: int64(7), object(1)\n",
      "memory usage: 256.0+ bytes\n"
     ]
    }
   ],
   "source": [
    "tariffs.info() #сводная информация по таблице tariffs"
   ]
  },
  {
   "cell_type": "code",
   "execution_count": 411,
   "metadata": {
    "scrolled": true
   },
   "outputs": [
    {
     "data": {
      "text/html": [
       "<div>\n",
       "<style scoped>\n",
       "    .dataframe tbody tr th:only-of-type {\n",
       "        vertical-align: middle;\n",
       "    }\n",
       "\n",
       "    .dataframe tbody tr th {\n",
       "        vertical-align: top;\n",
       "    }\n",
       "\n",
       "    .dataframe thead th {\n",
       "        text-align: right;\n",
       "    }\n",
       "</style>\n",
       "<table border=\"1\" class=\"dataframe\">\n",
       "  <thead>\n",
       "    <tr style=\"text-align: right;\">\n",
       "      <th></th>\n",
       "      <th>messages_included</th>\n",
       "      <th>mb_per_month_included</th>\n",
       "      <th>minutes_included</th>\n",
       "      <th>rub_monthly_fee</th>\n",
       "      <th>rub_per_gb</th>\n",
       "      <th>rub_per_message</th>\n",
       "      <th>rub_per_minute</th>\n",
       "      <th>tariff_name</th>\n",
       "    </tr>\n",
       "  </thead>\n",
       "  <tbody>\n",
       "    <tr>\n",
       "      <td>0</td>\n",
       "      <td>50</td>\n",
       "      <td>15360</td>\n",
       "      <td>500</td>\n",
       "      <td>550</td>\n",
       "      <td>200</td>\n",
       "      <td>3</td>\n",
       "      <td>3</td>\n",
       "      <td>smart</td>\n",
       "    </tr>\n",
       "    <tr>\n",
       "      <td>1</td>\n",
       "      <td>1000</td>\n",
       "      <td>30720</td>\n",
       "      <td>3000</td>\n",
       "      <td>1950</td>\n",
       "      <td>150</td>\n",
       "      <td>1</td>\n",
       "      <td>1</td>\n",
       "      <td>ultra</td>\n",
       "    </tr>\n",
       "  </tbody>\n",
       "</table>\n",
       "</div>"
      ],
      "text/plain": [
       "   messages_included  mb_per_month_included  minutes_included  \\\n",
       "0                 50                  15360               500   \n",
       "1               1000                  30720              3000   \n",
       "\n",
       "   rub_monthly_fee  rub_per_gb  rub_per_message  rub_per_minute tariff_name  \n",
       "0              550         200                3               3       smart  \n",
       "1             1950         150                1               1       ultra  "
      ]
     },
     "execution_count": 411,
     "metadata": {},
     "output_type": "execute_result"
    }
   ],
   "source": [
    "tariffs.head() #первые 5столбцов по таблице tariffs"
   ]
  },
  {
   "cell_type": "markdown",
   "metadata": {},
   "source": [
    "#### Вывод по таблице tariffs:\n",
    "Пропусков нет. Число строк 2."
   ]
  },
  {
   "cell_type": "markdown",
   "metadata": {},
   "source": [
    "### Таблица users (информация о пользователях):\n",
    "Изучим общую информацию \n",
    "\n",
    "- user_id — уникальный идентификатор пользователя\n",
    "- first_name — имя пользователя\n",
    "- last_name — фамилия пользователя\n",
    "- age — возраст пользователя (годы)\n",
    "- reg_date — дата подключения тарифа (день, месяц, год)\n",
    "- churn_date — дата прекращения пользования тарифом (если значение пропущено, то тариф ещё действовал на момент выгрузки данных)\n",
    "- city — город проживания пользователя\n",
    "- tarif — название тарифного плана"
   ]
  },
  {
   "cell_type": "code",
   "execution_count": 412,
   "metadata": {
    "scrolled": false
   },
   "outputs": [
    {
     "name": "stdout",
     "output_type": "stream",
     "text": [
      "<class 'pandas.core.frame.DataFrame'>\n",
      "RangeIndex: 500 entries, 0 to 499\n",
      "Data columns (total 8 columns):\n",
      "user_id       500 non-null int64\n",
      "age           500 non-null int64\n",
      "churn_date    38 non-null object\n",
      "city          500 non-null object\n",
      "first_name    500 non-null object\n",
      "last_name     500 non-null object\n",
      "reg_date      500 non-null object\n",
      "tariff        500 non-null object\n",
      "dtypes: int64(2), object(6)\n",
      "memory usage: 31.4+ KB\n"
     ]
    }
   ],
   "source": [
    "users.info() #сводная информация по таблице users"
   ]
  },
  {
   "cell_type": "code",
   "execution_count": 413,
   "metadata": {
    "scrolled": true
   },
   "outputs": [
    {
     "data": {
      "text/html": [
       "<div>\n",
       "<style scoped>\n",
       "    .dataframe tbody tr th:only-of-type {\n",
       "        vertical-align: middle;\n",
       "    }\n",
       "\n",
       "    .dataframe tbody tr th {\n",
       "        vertical-align: top;\n",
       "    }\n",
       "\n",
       "    .dataframe thead th {\n",
       "        text-align: right;\n",
       "    }\n",
       "</style>\n",
       "<table border=\"1\" class=\"dataframe\">\n",
       "  <thead>\n",
       "    <tr style=\"text-align: right;\">\n",
       "      <th></th>\n",
       "      <th>user_id</th>\n",
       "      <th>age</th>\n",
       "      <th>churn_date</th>\n",
       "      <th>city</th>\n",
       "      <th>first_name</th>\n",
       "      <th>last_name</th>\n",
       "      <th>reg_date</th>\n",
       "      <th>tariff</th>\n",
       "    </tr>\n",
       "  </thead>\n",
       "  <tbody>\n",
       "    <tr>\n",
       "      <td>0</td>\n",
       "      <td>1000</td>\n",
       "      <td>52</td>\n",
       "      <td>NaN</td>\n",
       "      <td>Краснодар</td>\n",
       "      <td>Рафаил</td>\n",
       "      <td>Верещагин</td>\n",
       "      <td>2018-05-25</td>\n",
       "      <td>ultra</td>\n",
       "    </tr>\n",
       "    <tr>\n",
       "      <td>1</td>\n",
       "      <td>1001</td>\n",
       "      <td>41</td>\n",
       "      <td>NaN</td>\n",
       "      <td>Москва</td>\n",
       "      <td>Иван</td>\n",
       "      <td>Ежов</td>\n",
       "      <td>2018-11-01</td>\n",
       "      <td>smart</td>\n",
       "    </tr>\n",
       "    <tr>\n",
       "      <td>2</td>\n",
       "      <td>1002</td>\n",
       "      <td>59</td>\n",
       "      <td>NaN</td>\n",
       "      <td>Стерлитамак</td>\n",
       "      <td>Евгений</td>\n",
       "      <td>Абрамович</td>\n",
       "      <td>2018-06-17</td>\n",
       "      <td>smart</td>\n",
       "    </tr>\n",
       "    <tr>\n",
       "      <td>3</td>\n",
       "      <td>1003</td>\n",
       "      <td>23</td>\n",
       "      <td>NaN</td>\n",
       "      <td>Москва</td>\n",
       "      <td>Белла</td>\n",
       "      <td>Белякова</td>\n",
       "      <td>2018-08-17</td>\n",
       "      <td>ultra</td>\n",
       "    </tr>\n",
       "    <tr>\n",
       "      <td>4</td>\n",
       "      <td>1004</td>\n",
       "      <td>68</td>\n",
       "      <td>NaN</td>\n",
       "      <td>Новокузнецк</td>\n",
       "      <td>Татьяна</td>\n",
       "      <td>Авдеенко</td>\n",
       "      <td>2018-05-14</td>\n",
       "      <td>ultra</td>\n",
       "    </tr>\n",
       "  </tbody>\n",
       "</table>\n",
       "</div>"
      ],
      "text/plain": [
       "   user_id  age churn_date         city first_name  last_name    reg_date  \\\n",
       "0     1000   52        NaN    Краснодар     Рафаил  Верещагин  2018-05-25   \n",
       "1     1001   41        NaN       Москва       Иван       Ежов  2018-11-01   \n",
       "2     1002   59        NaN  Стерлитамак    Евгений  Абрамович  2018-06-17   \n",
       "3     1003   23        NaN       Москва      Белла   Белякова  2018-08-17   \n",
       "4     1004   68        NaN  Новокузнецк    Татьяна   Авдеенко  2018-05-14   \n",
       "\n",
       "  tariff  \n",
       "0  ultra  \n",
       "1  smart  \n",
       "2  smart  \n",
       "3  ultra  \n",
       "4  ultra  "
      ]
     },
     "execution_count": 413,
     "metadata": {},
     "output_type": "execute_result"
    }
   ],
   "source": [
    "users.head() #первые 5столбцов по таблице users"
   ]
  },
  {
   "cell_type": "code",
   "execution_count": 414,
   "metadata": {},
   "outputs": [
    {
     "data": {
      "text/plain": [
       "smart    351\n",
       "ultra    149\n",
       "Name: tariff, dtype: int64"
      ]
     },
     "execution_count": 414,
     "metadata": {},
     "output_type": "execute_result"
    }
   ],
   "source": [
    "users['tariff'].value_counts() #распредление пользователей по тарифу"
   ]
  },
  {
   "cell_type": "markdown",
   "metadata": {},
   "source": [
    "#### Вывод по таблице users :\n",
    "Формат reg_date (users) нужно изменить на формат даты. Столбец churn_date — содержит информацию о дате прекращения пользования тарифом, возможно таких пользователей нужно будет исключить из анализа. Число строк 500 по числу уникальных пользователей. Число пользователей smart вдвое больше чем ultra."
   ]
  },
  {
   "cell_type": "markdown",
   "metadata": {},
   "source": [
    "###  Вывод:\n",
    "- **calls:** формат call_date (calls) нужно изменить на формат даты. Пропусков нет. Число строк 202 607.\n",
    "- **internet:** формат session_date (internet) нужно изменить на формат даты. Пропусков нет. Число строк 149 396.\n",
    "- **messages:** формат message_date (messages) нужно изменить на формат даты. Пропусков нет. Число строк 123 036.\n",
    "- **tariffs:** Пропусков нет. Число строк 2.\n",
    "- **users:** формат reg_date (users) нужно изменить на формат даты. Столбец churn_date — содержит информацию о дате прекращения пользования тарифом, предварительно данные за месяц отключения для таких пользователей нужно удалить. Число строк 500 по числу уникальных пользователей.\n"
   ]
  },
  {
   "cell_type": "markdown",
   "metadata": {},
   "source": [
    "## Подготовим данные\n"
   ]
  },
  {
   "cell_type": "markdown",
   "metadata": {},
   "source": [
    "### Приведем данные к нужным типам\n",
    "\n",
    "- Найдем и исправим ошибки в данных."
   ]
  },
  {
   "cell_type": "markdown",
   "metadata": {},
   "source": [
    "#### Изменим формат столбцов даты на формат datetime\n",
    "\n",
    "- call_date (calls)\n",
    "- session_date (internet)\n",
    "- message_date (messages)\n",
    "- reg_date (users)"
   ]
  },
  {
   "cell_type": "code",
   "execution_count": 415,
   "metadata": {},
   "outputs": [],
   "source": [
    "calls['call_date']= pd.to_datetime(calls['call_date'], format='%Y.%m.%d')\n",
    "internet['session_date']= pd.to_datetime(internet['session_date'], format='%Y.%m.%d')\n",
    "messages['message_date']= pd.to_datetime(messages['message_date'], format='%Y.%m.%d')\n",
    "users['reg_date']= pd.to_datetime(users['reg_date'], format='%Y.%m.%d')"
   ]
  },
  {
   "cell_type": "markdown",
   "metadata": {},
   "source": [
    "### Посчитаем для каждого пользователя:\n",
    "- количество сделанных звонков и израсходованных минут разговора по месяцам;\n",
    "- количество отправленных сообщений по месяцам;\n",
    "- объем израсходованного интернет-трафика по месяцам;\n",
    "- помесячную выручку с каждого пользователя (вычтите бесплатный лимит из суммарного количества звонков, сообщений и интернет-трафика; остаток умножьте на значение из тарифного плана; прибавьте абонентскую плату, соответствующую тарифному плану)."
   ]
  },
  {
   "cell_type": "markdown",
   "metadata": {},
   "source": [
    "#### количество сделанных звонков и израсходованных минут разговора по месяцам;\n",
    "Добавим столбец месяца,\n",
    "\n",
    "Затем создадим сводную таблицу и отразим результат."
   ]
  },
  {
   "cell_type": "code",
   "execution_count": 416,
   "metadata": {
    "scrolled": false
   },
   "outputs": [
    {
     "data": {
      "text/html": [
       "<div>\n",
       "<style scoped>\n",
       "    .dataframe tbody tr th:only-of-type {\n",
       "        vertical-align: middle;\n",
       "    }\n",
       "\n",
       "    .dataframe tbody tr th {\n",
       "        vertical-align: top;\n",
       "    }\n",
       "\n",
       "    .dataframe thead th {\n",
       "        text-align: right;\n",
       "    }\n",
       "</style>\n",
       "<table border=\"1\" class=\"dataframe\">\n",
       "  <thead>\n",
       "    <tr style=\"text-align: right;\">\n",
       "      <th></th>\n",
       "      <th>id</th>\n",
       "      <th>call_date</th>\n",
       "      <th>duration</th>\n",
       "      <th>user_id</th>\n",
       "      <th>month</th>\n",
       "    </tr>\n",
       "  </thead>\n",
       "  <tbody>\n",
       "    <tr>\n",
       "      <td>0</td>\n",
       "      <td>1000_0</td>\n",
       "      <td>2018-07-25</td>\n",
       "      <td>0.00</td>\n",
       "      <td>1000</td>\n",
       "      <td>7</td>\n",
       "    </tr>\n",
       "    <tr>\n",
       "      <td>1</td>\n",
       "      <td>1000_1</td>\n",
       "      <td>2018-08-17</td>\n",
       "      <td>0.00</td>\n",
       "      <td>1000</td>\n",
       "      <td>8</td>\n",
       "    </tr>\n",
       "    <tr>\n",
       "      <td>2</td>\n",
       "      <td>1000_2</td>\n",
       "      <td>2018-06-11</td>\n",
       "      <td>2.85</td>\n",
       "      <td>1000</td>\n",
       "      <td>6</td>\n",
       "    </tr>\n",
       "    <tr>\n",
       "      <td>3</td>\n",
       "      <td>1000_3</td>\n",
       "      <td>2018-09-21</td>\n",
       "      <td>13.80</td>\n",
       "      <td>1000</td>\n",
       "      <td>9</td>\n",
       "    </tr>\n",
       "    <tr>\n",
       "      <td>4</td>\n",
       "      <td>1000_4</td>\n",
       "      <td>2018-12-15</td>\n",
       "      <td>5.18</td>\n",
       "      <td>1000</td>\n",
       "      <td>12</td>\n",
       "    </tr>\n",
       "  </tbody>\n",
       "</table>\n",
       "</div>"
      ],
      "text/plain": [
       "       id  call_date  duration  user_id  month\n",
       "0  1000_0 2018-07-25      0.00     1000      7\n",
       "1  1000_1 2018-08-17      0.00     1000      8\n",
       "2  1000_2 2018-06-11      2.85     1000      6\n",
       "3  1000_3 2018-09-21     13.80     1000      9\n",
       "4  1000_4 2018-12-15      5.18     1000     12"
      ]
     },
     "execution_count": 416,
     "metadata": {},
     "output_type": "execute_result"
    }
   ],
   "source": [
    "calls['month'] = calls['call_date'].dt.month #добавим столбец месяц\n",
    "calls.head()"
   ]
  },
  {
   "cell_type": "markdown",
   "metadata": {},
   "source": [
    "**Примечание:**\n",
    "\n",
    "Каждый звонок округляется отдельно: даже если он длился всего 1 секунду, будет засчитан как 1 минута."
   ]
  },
  {
   "cell_type": "code",
   "execution_count": 417,
   "metadata": {},
   "outputs": [
    {
     "data": {
      "text/html": [
       "<div>\n",
       "<style scoped>\n",
       "    .dataframe tbody tr th:only-of-type {\n",
       "        vertical-align: middle;\n",
       "    }\n",
       "\n",
       "    .dataframe tbody tr th {\n",
       "        vertical-align: top;\n",
       "    }\n",
       "\n",
       "    .dataframe thead th {\n",
       "        text-align: right;\n",
       "    }\n",
       "</style>\n",
       "<table border=\"1\" class=\"dataframe\">\n",
       "  <thead>\n",
       "    <tr style=\"text-align: right;\">\n",
       "      <th></th>\n",
       "      <th>id</th>\n",
       "      <th>call_date</th>\n",
       "      <th>duration</th>\n",
       "      <th>user_id</th>\n",
       "      <th>month</th>\n",
       "    </tr>\n",
       "  </thead>\n",
       "  <tbody>\n",
       "    <tr>\n",
       "      <td>0</td>\n",
       "      <td>1000_0</td>\n",
       "      <td>2018-07-25</td>\n",
       "      <td>0.0</td>\n",
       "      <td>1000</td>\n",
       "      <td>7</td>\n",
       "    </tr>\n",
       "    <tr>\n",
       "      <td>1</td>\n",
       "      <td>1000_1</td>\n",
       "      <td>2018-08-17</td>\n",
       "      <td>0.0</td>\n",
       "      <td>1000</td>\n",
       "      <td>8</td>\n",
       "    </tr>\n",
       "    <tr>\n",
       "      <td>2</td>\n",
       "      <td>1000_2</td>\n",
       "      <td>2018-06-11</td>\n",
       "      <td>3.0</td>\n",
       "      <td>1000</td>\n",
       "      <td>6</td>\n",
       "    </tr>\n",
       "    <tr>\n",
       "      <td>3</td>\n",
       "      <td>1000_3</td>\n",
       "      <td>2018-09-21</td>\n",
       "      <td>14.0</td>\n",
       "      <td>1000</td>\n",
       "      <td>9</td>\n",
       "    </tr>\n",
       "    <tr>\n",
       "      <td>4</td>\n",
       "      <td>1000_4</td>\n",
       "      <td>2018-12-15</td>\n",
       "      <td>6.0</td>\n",
       "      <td>1000</td>\n",
       "      <td>12</td>\n",
       "    </tr>\n",
       "  </tbody>\n",
       "</table>\n",
       "</div>"
      ],
      "text/plain": [
       "       id  call_date  duration  user_id  month\n",
       "0  1000_0 2018-07-25       0.0     1000      7\n",
       "1  1000_1 2018-08-17       0.0     1000      8\n",
       "2  1000_2 2018-06-11       3.0     1000      6\n",
       "3  1000_3 2018-09-21      14.0     1000      9\n",
       "4  1000_4 2018-12-15       6.0     1000     12"
      ]
     },
     "execution_count": 417,
     "metadata": {},
     "output_type": "execute_result"
    }
   ],
   "source": [
    "calls['duration'] = np.ceil(calls['duration']) #выполняем округление вверх до минут для каждого звонка\n",
    "calls.head()"
   ]
  },
  {
   "cell_type": "code",
   "execution_count": 418,
   "metadata": {},
   "outputs": [
    {
     "data": {
      "text/html": [
       "<div>\n",
       "<style scoped>\n",
       "    .dataframe tbody tr th:only-of-type {\n",
       "        vertical-align: middle;\n",
       "    }\n",
       "\n",
       "    .dataframe tbody tr th {\n",
       "        vertical-align: top;\n",
       "    }\n",
       "\n",
       "    .dataframe thead th {\n",
       "        text-align: right;\n",
       "    }\n",
       "</style>\n",
       "<table border=\"1\" class=\"dataframe\">\n",
       "  <thead>\n",
       "    <tr style=\"text-align: right;\">\n",
       "      <th></th>\n",
       "      <th></th>\n",
       "      <th>cnt_calls</th>\n",
       "      <th>sum_calls</th>\n",
       "    </tr>\n",
       "    <tr>\n",
       "      <th>user_id</th>\n",
       "      <th>month</th>\n",
       "      <th></th>\n",
       "      <th></th>\n",
       "    </tr>\n",
       "  </thead>\n",
       "  <tbody>\n",
       "    <tr>\n",
       "      <td rowspan=\"5\" valign=\"top\">1000</td>\n",
       "      <td>5</td>\n",
       "      <td>22</td>\n",
       "      <td>159.0</td>\n",
       "    </tr>\n",
       "    <tr>\n",
       "      <td>6</td>\n",
       "      <td>43</td>\n",
       "      <td>172.0</td>\n",
       "    </tr>\n",
       "    <tr>\n",
       "      <td>7</td>\n",
       "      <td>47</td>\n",
       "      <td>340.0</td>\n",
       "    </tr>\n",
       "    <tr>\n",
       "      <td>8</td>\n",
       "      <td>52</td>\n",
       "      <td>408.0</td>\n",
       "    </tr>\n",
       "    <tr>\n",
       "      <td>9</td>\n",
       "      <td>58</td>\n",
       "      <td>466.0</td>\n",
       "    </tr>\n",
       "  </tbody>\n",
       "</table>\n",
       "</div>"
      ],
      "text/plain": [
       "               cnt_calls  sum_calls\n",
       "user_id month                      \n",
       "1000    5             22      159.0\n",
       "        6             43      172.0\n",
       "        7             47      340.0\n",
       "        8             52      408.0\n",
       "        9             58      466.0"
      ]
     },
     "execution_count": 418,
     "metadata": {},
     "output_type": "execute_result"
    }
   ],
   "source": [
    "#создадим сводную таблицу с числом звонков и суммарной длительностью за месяц\n",
    "calls_pivot = calls.groupby(['user_id','month']).agg(cnt_calls=('duration','count'),\n",
    "                                                      sum_calls=('duration','sum'))\n",
    "calls_pivot.head()"
   ]
  },
  {
   "cell_type": "markdown",
   "metadata": {},
   "source": [
    "#### количество отправленных сообщений по месяцам;\n",
    "Добавим столбец месяца,\n",
    "\n",
    "Затем создадим сводную таблицу и отразим результат."
   ]
  },
  {
   "cell_type": "code",
   "execution_count": 419,
   "metadata": {
    "scrolled": true
   },
   "outputs": [
    {
     "data": {
      "text/html": [
       "<div>\n",
       "<style scoped>\n",
       "    .dataframe tbody tr th:only-of-type {\n",
       "        vertical-align: middle;\n",
       "    }\n",
       "\n",
       "    .dataframe tbody tr th {\n",
       "        vertical-align: top;\n",
       "    }\n",
       "\n",
       "    .dataframe thead th {\n",
       "        text-align: right;\n",
       "    }\n",
       "</style>\n",
       "<table border=\"1\" class=\"dataframe\">\n",
       "  <thead>\n",
       "    <tr style=\"text-align: right;\">\n",
       "      <th></th>\n",
       "      <th>id</th>\n",
       "      <th>message_date</th>\n",
       "      <th>user_id</th>\n",
       "      <th>month</th>\n",
       "    </tr>\n",
       "  </thead>\n",
       "  <tbody>\n",
       "    <tr>\n",
       "      <td>0</td>\n",
       "      <td>1000_0</td>\n",
       "      <td>2018-06-27</td>\n",
       "      <td>1000</td>\n",
       "      <td>6</td>\n",
       "    </tr>\n",
       "    <tr>\n",
       "      <td>1</td>\n",
       "      <td>1000_1</td>\n",
       "      <td>2018-10-08</td>\n",
       "      <td>1000</td>\n",
       "      <td>10</td>\n",
       "    </tr>\n",
       "    <tr>\n",
       "      <td>2</td>\n",
       "      <td>1000_2</td>\n",
       "      <td>2018-08-04</td>\n",
       "      <td>1000</td>\n",
       "      <td>8</td>\n",
       "    </tr>\n",
       "    <tr>\n",
       "      <td>3</td>\n",
       "      <td>1000_3</td>\n",
       "      <td>2018-06-16</td>\n",
       "      <td>1000</td>\n",
       "      <td>6</td>\n",
       "    </tr>\n",
       "    <tr>\n",
       "      <td>4</td>\n",
       "      <td>1000_4</td>\n",
       "      <td>2018-12-05</td>\n",
       "      <td>1000</td>\n",
       "      <td>12</td>\n",
       "    </tr>\n",
       "  </tbody>\n",
       "</table>\n",
       "</div>"
      ],
      "text/plain": [
       "       id message_date  user_id  month\n",
       "0  1000_0   2018-06-27     1000      6\n",
       "1  1000_1   2018-10-08     1000     10\n",
       "2  1000_2   2018-08-04     1000      8\n",
       "3  1000_3   2018-06-16     1000      6\n",
       "4  1000_4   2018-12-05     1000     12"
      ]
     },
     "execution_count": 419,
     "metadata": {},
     "output_type": "execute_result"
    }
   ],
   "source": [
    "messages['month'] = messages['message_date'].dt.month #добавим столбец месяц\n",
    "messages.head()"
   ]
  },
  {
   "cell_type": "code",
   "execution_count": 420,
   "metadata": {
    "scrolled": true
   },
   "outputs": [
    {
     "data": {
      "text/html": [
       "<div>\n",
       "<style scoped>\n",
       "    .dataframe tbody tr th:only-of-type {\n",
       "        vertical-align: middle;\n",
       "    }\n",
       "\n",
       "    .dataframe tbody tr th {\n",
       "        vertical-align: top;\n",
       "    }\n",
       "\n",
       "    .dataframe thead th {\n",
       "        text-align: right;\n",
       "    }\n",
       "</style>\n",
       "<table border=\"1\" class=\"dataframe\">\n",
       "  <thead>\n",
       "    <tr style=\"text-align: right;\">\n",
       "      <th></th>\n",
       "      <th></th>\n",
       "      <th>cnt_message</th>\n",
       "    </tr>\n",
       "    <tr>\n",
       "      <th>user_id</th>\n",
       "      <th>month</th>\n",
       "      <th></th>\n",
       "    </tr>\n",
       "  </thead>\n",
       "  <tbody>\n",
       "    <tr>\n",
       "      <td rowspan=\"5\" valign=\"top\">1000</td>\n",
       "      <td>5</td>\n",
       "      <td>22</td>\n",
       "    </tr>\n",
       "    <tr>\n",
       "      <td>6</td>\n",
       "      <td>60</td>\n",
       "    </tr>\n",
       "    <tr>\n",
       "      <td>7</td>\n",
       "      <td>75</td>\n",
       "    </tr>\n",
       "    <tr>\n",
       "      <td>8</td>\n",
       "      <td>81</td>\n",
       "    </tr>\n",
       "    <tr>\n",
       "      <td>9</td>\n",
       "      <td>57</td>\n",
       "    </tr>\n",
       "  </tbody>\n",
       "</table>\n",
       "</div>"
      ],
      "text/plain": [
       "               cnt_message\n",
       "user_id month             \n",
       "1000    5               22\n",
       "        6               60\n",
       "        7               75\n",
       "        8               81\n",
       "        9               57"
      ]
     },
     "execution_count": 420,
     "metadata": {},
     "output_type": "execute_result"
    }
   ],
   "source": [
    "#создадим сводную таблицу с числом сообщений за месяц\n",
    "messages_pivot = messages.groupby(['user_id','month']).agg(cnt_message=('message_date','count'))\n",
    "messages_pivot.head()"
   ]
  },
  {
   "cell_type": "markdown",
   "metadata": {},
   "source": [
    "#### объем израсходованного интернет-трафика по месяцам;\n",
    "Добавим столбец месяца,\n",
    "\n",
    "Затем создадим сводную таблицу и отразим результат."
   ]
  },
  {
   "cell_type": "code",
   "execution_count": 421,
   "metadata": {
    "scrolled": true
   },
   "outputs": [
    {
     "data": {
      "text/html": [
       "<div>\n",
       "<style scoped>\n",
       "    .dataframe tbody tr th:only-of-type {\n",
       "        vertical-align: middle;\n",
       "    }\n",
       "\n",
       "    .dataframe tbody tr th {\n",
       "        vertical-align: top;\n",
       "    }\n",
       "\n",
       "    .dataframe thead th {\n",
       "        text-align: right;\n",
       "    }\n",
       "</style>\n",
       "<table border=\"1\" class=\"dataframe\">\n",
       "  <thead>\n",
       "    <tr style=\"text-align: right;\">\n",
       "      <th></th>\n",
       "      <th>id</th>\n",
       "      <th>mb_used</th>\n",
       "      <th>session_date</th>\n",
       "      <th>user_id</th>\n",
       "      <th>month</th>\n",
       "    </tr>\n",
       "  </thead>\n",
       "  <tbody>\n",
       "    <tr>\n",
       "      <td>0</td>\n",
       "      <td>1000_0</td>\n",
       "      <td>112.95</td>\n",
       "      <td>2018-11-25</td>\n",
       "      <td>1000</td>\n",
       "      <td>11</td>\n",
       "    </tr>\n",
       "    <tr>\n",
       "      <td>1</td>\n",
       "      <td>1000_1</td>\n",
       "      <td>1052.81</td>\n",
       "      <td>2018-09-07</td>\n",
       "      <td>1000</td>\n",
       "      <td>9</td>\n",
       "    </tr>\n",
       "    <tr>\n",
       "      <td>2</td>\n",
       "      <td>1000_2</td>\n",
       "      <td>1197.26</td>\n",
       "      <td>2018-06-25</td>\n",
       "      <td>1000</td>\n",
       "      <td>6</td>\n",
       "    </tr>\n",
       "    <tr>\n",
       "      <td>3</td>\n",
       "      <td>1000_3</td>\n",
       "      <td>550.27</td>\n",
       "      <td>2018-08-22</td>\n",
       "      <td>1000</td>\n",
       "      <td>8</td>\n",
       "    </tr>\n",
       "    <tr>\n",
       "      <td>4</td>\n",
       "      <td>1000_4</td>\n",
       "      <td>302.56</td>\n",
       "      <td>2018-09-24</td>\n",
       "      <td>1000</td>\n",
       "      <td>9</td>\n",
       "    </tr>\n",
       "  </tbody>\n",
       "</table>\n",
       "</div>"
      ],
      "text/plain": [
       "       id  mb_used session_date  user_id  month\n",
       "0  1000_0   112.95   2018-11-25     1000     11\n",
       "1  1000_1  1052.81   2018-09-07     1000      9\n",
       "2  1000_2  1197.26   2018-06-25     1000      6\n",
       "3  1000_3   550.27   2018-08-22     1000      8\n",
       "4  1000_4   302.56   2018-09-24     1000      9"
      ]
     },
     "execution_count": 421,
     "metadata": {},
     "output_type": "execute_result"
    }
   ],
   "source": [
    "internet['month'] = internet['session_date'].dt.month #добавим столбец месяц\n",
    "internet.head()"
   ]
  },
  {
   "cell_type": "code",
   "execution_count": 422,
   "metadata": {
    "scrolled": false
   },
   "outputs": [
    {
     "data": {
      "text/html": [
       "<div>\n",
       "<style scoped>\n",
       "    .dataframe tbody tr th:only-of-type {\n",
       "        vertical-align: middle;\n",
       "    }\n",
       "\n",
       "    .dataframe tbody tr th {\n",
       "        vertical-align: top;\n",
       "    }\n",
       "\n",
       "    .dataframe thead th {\n",
       "        text-align: right;\n",
       "    }\n",
       "</style>\n",
       "<table border=\"1\" class=\"dataframe\">\n",
       "  <thead>\n",
       "    <tr style=\"text-align: right;\">\n",
       "      <th></th>\n",
       "      <th></th>\n",
       "      <th>sum_mb</th>\n",
       "    </tr>\n",
       "    <tr>\n",
       "      <th>user_id</th>\n",
       "      <th>month</th>\n",
       "      <th></th>\n",
       "    </tr>\n",
       "  </thead>\n",
       "  <tbody>\n",
       "    <tr>\n",
       "      <td rowspan=\"5\" valign=\"top\">1000</td>\n",
       "      <td>5</td>\n",
       "      <td>2253.49</td>\n",
       "    </tr>\n",
       "    <tr>\n",
       "      <td>6</td>\n",
       "      <td>23233.77</td>\n",
       "    </tr>\n",
       "    <tr>\n",
       "      <td>7</td>\n",
       "      <td>14003.64</td>\n",
       "    </tr>\n",
       "    <tr>\n",
       "      <td>8</td>\n",
       "      <td>14055.93</td>\n",
       "    </tr>\n",
       "    <tr>\n",
       "      <td>9</td>\n",
       "      <td>14568.91</td>\n",
       "    </tr>\n",
       "  </tbody>\n",
       "</table>\n",
       "</div>"
      ],
      "text/plain": [
       "                 sum_mb\n",
       "user_id month          \n",
       "1000    5       2253.49\n",
       "        6      23233.77\n",
       "        7      14003.64\n",
       "        8      14055.93\n",
       "        9      14568.91"
      ]
     },
     "execution_count": 422,
     "metadata": {},
     "output_type": "execute_result"
    }
   ],
   "source": [
    "#создадим сводную таблицу с числом сообщений за месяц\n",
    "internet_pivot = internet.groupby(['user_id','month']).agg(sum_mb=('mb_used','sum'))\n",
    "internet_pivot.head()"
   ]
  },
  {
   "cell_type": "markdown",
   "metadata": {},
   "source": [
    "#### помесячную выручку с каждого пользователя \n"
   ]
  },
  {
   "cell_type": "markdown",
   "metadata": {},
   "source": [
    "Объединим данные сводных таблиц в одну новую сводную таблицу `revenue`"
   ]
  },
  {
   "cell_type": "code",
   "execution_count": 423,
   "metadata": {
    "scrolled": false
   },
   "outputs": [
    {
     "data": {
      "text/html": [
       "<div>\n",
       "<style scoped>\n",
       "    .dataframe tbody tr th:only-of-type {\n",
       "        vertical-align: middle;\n",
       "    }\n",
       "\n",
       "    .dataframe tbody tr th {\n",
       "        vertical-align: top;\n",
       "    }\n",
       "\n",
       "    .dataframe thead th {\n",
       "        text-align: right;\n",
       "    }\n",
       "</style>\n",
       "<table border=\"1\" class=\"dataframe\">\n",
       "  <thead>\n",
       "    <tr style=\"text-align: right;\">\n",
       "      <th></th>\n",
       "      <th></th>\n",
       "      <th>cnt_calls</th>\n",
       "      <th>sum_calls</th>\n",
       "      <th>sum_mb</th>\n",
       "      <th>cnt_message</th>\n",
       "    </tr>\n",
       "    <tr>\n",
       "      <th>user_id</th>\n",
       "      <th>month</th>\n",
       "      <th></th>\n",
       "      <th></th>\n",
       "      <th></th>\n",
       "      <th></th>\n",
       "    </tr>\n",
       "  </thead>\n",
       "  <tbody>\n",
       "    <tr>\n",
       "      <td rowspan=\"5\" valign=\"top\">1000</td>\n",
       "      <td>5</td>\n",
       "      <td>22.0</td>\n",
       "      <td>159.0</td>\n",
       "      <td>2253.49</td>\n",
       "      <td>22.0</td>\n",
       "    </tr>\n",
       "    <tr>\n",
       "      <td>6</td>\n",
       "      <td>43.0</td>\n",
       "      <td>172.0</td>\n",
       "      <td>23233.77</td>\n",
       "      <td>60.0</td>\n",
       "    </tr>\n",
       "    <tr>\n",
       "      <td>7</td>\n",
       "      <td>47.0</td>\n",
       "      <td>340.0</td>\n",
       "      <td>14003.64</td>\n",
       "      <td>75.0</td>\n",
       "    </tr>\n",
       "    <tr>\n",
       "      <td>8</td>\n",
       "      <td>52.0</td>\n",
       "      <td>408.0</td>\n",
       "      <td>14055.93</td>\n",
       "      <td>81.0</td>\n",
       "    </tr>\n",
       "    <tr>\n",
       "      <td>9</td>\n",
       "      <td>58.0</td>\n",
       "      <td>466.0</td>\n",
       "      <td>14568.91</td>\n",
       "      <td>57.0</td>\n",
       "    </tr>\n",
       "  </tbody>\n",
       "</table>\n",
       "</div>"
      ],
      "text/plain": [
       "               cnt_calls  sum_calls    sum_mb  cnt_message\n",
       "user_id month                                             \n",
       "1000    5           22.0      159.0   2253.49         22.0\n",
       "        6           43.0      172.0  23233.77         60.0\n",
       "        7           47.0      340.0  14003.64         75.0\n",
       "        8           52.0      408.0  14055.93         81.0\n",
       "        9           58.0      466.0  14568.91         57.0"
      ]
     },
     "execution_count": 423,
     "metadata": {},
     "output_type": "execute_result"
    }
   ],
   "source": [
    "revenue = calls_pivot.merge(internet_pivot, on=['user_id','month'], how='outer') # добавим данные calls_pivot и internet_pivot\n",
    "revenue = revenue.merge(messages_pivot, on=['user_id','month'], how='outer') # добавим данные messages_pivot\n",
    "\n",
    "revenue.head()"
   ]
  },
  {
   "cell_type": "markdown",
   "metadata": {},
   "source": [
    "Преобразуем сводную таблицу в DataFrame и переименуем для удобства столбцы\n",
    "\n"
   ]
  },
  {
   "cell_type": "code",
   "execution_count": 424,
   "metadata": {
    "scrolled": false
   },
   "outputs": [
    {
     "data": {
      "text/html": [
       "<div>\n",
       "<style scoped>\n",
       "    .dataframe tbody tr th:only-of-type {\n",
       "        vertical-align: middle;\n",
       "    }\n",
       "\n",
       "    .dataframe tbody tr th {\n",
       "        vertical-align: top;\n",
       "    }\n",
       "\n",
       "    .dataframe thead th {\n",
       "        text-align: right;\n",
       "    }\n",
       "</style>\n",
       "<table border=\"1\" class=\"dataframe\">\n",
       "  <thead>\n",
       "    <tr style=\"text-align: right;\">\n",
       "      <th></th>\n",
       "      <th>user_id</th>\n",
       "      <th>cnt_calls</th>\n",
       "      <th>sum_calls</th>\n",
       "      <th>sum_mb</th>\n",
       "      <th>cnt_message</th>\n",
       "      <th>tariff_name</th>\n",
       "      <th>city</th>\n",
       "    </tr>\n",
       "  </thead>\n",
       "  <tbody>\n",
       "    <tr>\n",
       "      <td>0</td>\n",
       "      <td>1000</td>\n",
       "      <td>22.0</td>\n",
       "      <td>159.0</td>\n",
       "      <td>2253.49</td>\n",
       "      <td>22.0</td>\n",
       "      <td>ultra</td>\n",
       "      <td>Краснодар</td>\n",
       "    </tr>\n",
       "    <tr>\n",
       "      <td>1</td>\n",
       "      <td>1000</td>\n",
       "      <td>43.0</td>\n",
       "      <td>172.0</td>\n",
       "      <td>23233.77</td>\n",
       "      <td>60.0</td>\n",
       "      <td>ultra</td>\n",
       "      <td>Краснодар</td>\n",
       "    </tr>\n",
       "    <tr>\n",
       "      <td>2</td>\n",
       "      <td>1000</td>\n",
       "      <td>47.0</td>\n",
       "      <td>340.0</td>\n",
       "      <td>14003.64</td>\n",
       "      <td>75.0</td>\n",
       "      <td>ultra</td>\n",
       "      <td>Краснодар</td>\n",
       "    </tr>\n",
       "    <tr>\n",
       "      <td>3</td>\n",
       "      <td>1000</td>\n",
       "      <td>52.0</td>\n",
       "      <td>408.0</td>\n",
       "      <td>14055.93</td>\n",
       "      <td>81.0</td>\n",
       "      <td>ultra</td>\n",
       "      <td>Краснодар</td>\n",
       "    </tr>\n",
       "    <tr>\n",
       "      <td>4</td>\n",
       "      <td>1000</td>\n",
       "      <td>58.0</td>\n",
       "      <td>466.0</td>\n",
       "      <td>14568.91</td>\n",
       "      <td>57.0</td>\n",
       "      <td>ultra</td>\n",
       "      <td>Краснодар</td>\n",
       "    </tr>\n",
       "  </tbody>\n",
       "</table>\n",
       "</div>"
      ],
      "text/plain": [
       "   user_id  cnt_calls  sum_calls    sum_mb  cnt_message tariff_name       city\n",
       "0     1000       22.0      159.0   2253.49         22.0       ultra  Краснодар\n",
       "1     1000       43.0      172.0  23233.77         60.0       ultra  Краснодар\n",
       "2     1000       47.0      340.0  14003.64         75.0       ultra  Краснодар\n",
       "3     1000       52.0      408.0  14055.93         81.0       ultra  Краснодар\n",
       "4     1000       58.0      466.0  14568.91         57.0       ultra  Краснодар"
      ]
     },
     "execution_count": 424,
     "metadata": {},
     "output_type": "execute_result"
    }
   ],
   "source": [
    "revenue = revenue.merge(users[['user_id','tariff','city']], on=['user_id'], how='left') # добавим название тарифа\n",
    "\n",
    "# переименуем столбец DataFrame\n",
    "revenue.rename(columns = { \"tariff\":\"tariff_name\"},inplace = True)\n",
    "revenue.head()"
   ]
  },
  {
   "cell_type": "code",
   "execution_count": 425,
   "metadata": {},
   "outputs": [
    {
     "data": {
      "text/html": [
       "<div>\n",
       "<style scoped>\n",
       "    .dataframe tbody tr th:only-of-type {\n",
       "        vertical-align: middle;\n",
       "    }\n",
       "\n",
       "    .dataframe tbody tr th {\n",
       "        vertical-align: top;\n",
       "    }\n",
       "\n",
       "    .dataframe thead th {\n",
       "        text-align: right;\n",
       "    }\n",
       "</style>\n",
       "<table border=\"1\" class=\"dataframe\">\n",
       "  <thead>\n",
       "    <tr style=\"text-align: right;\">\n",
       "      <th></th>\n",
       "      <th>user_id</th>\n",
       "      <th>cnt_calls</th>\n",
       "      <th>sum_calls</th>\n",
       "      <th>sum_mb</th>\n",
       "      <th>cnt_message</th>\n",
       "      <th>tariff_name</th>\n",
       "      <th>city</th>\n",
       "      <th>messages_included</th>\n",
       "      <th>mb_per_month_included</th>\n",
       "      <th>minutes_included</th>\n",
       "      <th>rub_monthly_fee</th>\n",
       "      <th>rub_per_gb</th>\n",
       "      <th>rub_per_message</th>\n",
       "      <th>rub_per_minute</th>\n",
       "    </tr>\n",
       "  </thead>\n",
       "  <tbody>\n",
       "    <tr>\n",
       "      <td>0</td>\n",
       "      <td>1000</td>\n",
       "      <td>22.0</td>\n",
       "      <td>159.0</td>\n",
       "      <td>2253.49</td>\n",
       "      <td>22.0</td>\n",
       "      <td>ultra</td>\n",
       "      <td>Краснодар</td>\n",
       "      <td>1000</td>\n",
       "      <td>30720</td>\n",
       "      <td>3000</td>\n",
       "      <td>1950</td>\n",
       "      <td>150</td>\n",
       "      <td>1</td>\n",
       "      <td>1</td>\n",
       "    </tr>\n",
       "    <tr>\n",
       "      <td>1</td>\n",
       "      <td>1000</td>\n",
       "      <td>43.0</td>\n",
       "      <td>172.0</td>\n",
       "      <td>23233.77</td>\n",
       "      <td>60.0</td>\n",
       "      <td>ultra</td>\n",
       "      <td>Краснодар</td>\n",
       "      <td>1000</td>\n",
       "      <td>30720</td>\n",
       "      <td>3000</td>\n",
       "      <td>1950</td>\n",
       "      <td>150</td>\n",
       "      <td>1</td>\n",
       "      <td>1</td>\n",
       "    </tr>\n",
       "    <tr>\n",
       "      <td>2</td>\n",
       "      <td>1000</td>\n",
       "      <td>47.0</td>\n",
       "      <td>340.0</td>\n",
       "      <td>14003.64</td>\n",
       "      <td>75.0</td>\n",
       "      <td>ultra</td>\n",
       "      <td>Краснодар</td>\n",
       "      <td>1000</td>\n",
       "      <td>30720</td>\n",
       "      <td>3000</td>\n",
       "      <td>1950</td>\n",
       "      <td>150</td>\n",
       "      <td>1</td>\n",
       "      <td>1</td>\n",
       "    </tr>\n",
       "    <tr>\n",
       "      <td>3</td>\n",
       "      <td>1000</td>\n",
       "      <td>52.0</td>\n",
       "      <td>408.0</td>\n",
       "      <td>14055.93</td>\n",
       "      <td>81.0</td>\n",
       "      <td>ultra</td>\n",
       "      <td>Краснодар</td>\n",
       "      <td>1000</td>\n",
       "      <td>30720</td>\n",
       "      <td>3000</td>\n",
       "      <td>1950</td>\n",
       "      <td>150</td>\n",
       "      <td>1</td>\n",
       "      <td>1</td>\n",
       "    </tr>\n",
       "    <tr>\n",
       "      <td>4</td>\n",
       "      <td>1000</td>\n",
       "      <td>58.0</td>\n",
       "      <td>466.0</td>\n",
       "      <td>14568.91</td>\n",
       "      <td>57.0</td>\n",
       "      <td>ultra</td>\n",
       "      <td>Краснодар</td>\n",
       "      <td>1000</td>\n",
       "      <td>30720</td>\n",
       "      <td>3000</td>\n",
       "      <td>1950</td>\n",
       "      <td>150</td>\n",
       "      <td>1</td>\n",
       "      <td>1</td>\n",
       "    </tr>\n",
       "    <tr>\n",
       "      <td>...</td>\n",
       "      <td>...</td>\n",
       "      <td>...</td>\n",
       "      <td>...</td>\n",
       "      <td>...</td>\n",
       "      <td>...</td>\n",
       "      <td>...</td>\n",
       "      <td>...</td>\n",
       "      <td>...</td>\n",
       "      <td>...</td>\n",
       "      <td>...</td>\n",
       "      <td>...</td>\n",
       "      <td>...</td>\n",
       "      <td>...</td>\n",
       "      <td>...</td>\n",
       "    </tr>\n",
       "    <tr>\n",
       "      <td>3209</td>\n",
       "      <td>1489</td>\n",
       "      <td>0.0</td>\n",
       "      <td>0.0</td>\n",
       "      <td>11050.56</td>\n",
       "      <td>17.0</td>\n",
       "      <td>smart</td>\n",
       "      <td>Санкт-Петербург</td>\n",
       "      <td>50</td>\n",
       "      <td>15360</td>\n",
       "      <td>500</td>\n",
       "      <td>550</td>\n",
       "      <td>200</td>\n",
       "      <td>3</td>\n",
       "      <td>3</td>\n",
       "    </tr>\n",
       "    <tr>\n",
       "      <td>3210</td>\n",
       "      <td>1489</td>\n",
       "      <td>0.0</td>\n",
       "      <td>0.0</td>\n",
       "      <td>17206.30</td>\n",
       "      <td>32.0</td>\n",
       "      <td>smart</td>\n",
       "      <td>Санкт-Петербург</td>\n",
       "      <td>50</td>\n",
       "      <td>15360</td>\n",
       "      <td>500</td>\n",
       "      <td>550</td>\n",
       "      <td>200</td>\n",
       "      <td>3</td>\n",
       "      <td>3</td>\n",
       "    </tr>\n",
       "    <tr>\n",
       "      <td>3211</td>\n",
       "      <td>1489</td>\n",
       "      <td>0.0</td>\n",
       "      <td>0.0</td>\n",
       "      <td>19559.44</td>\n",
       "      <td>21.0</td>\n",
       "      <td>smart</td>\n",
       "      <td>Санкт-Петербург</td>\n",
       "      <td>50</td>\n",
       "      <td>15360</td>\n",
       "      <td>500</td>\n",
       "      <td>550</td>\n",
       "      <td>200</td>\n",
       "      <td>3</td>\n",
       "      <td>3</td>\n",
       "    </tr>\n",
       "    <tr>\n",
       "      <td>3212</td>\n",
       "      <td>1489</td>\n",
       "      <td>0.0</td>\n",
       "      <td>0.0</td>\n",
       "      <td>17491.56</td>\n",
       "      <td>20.0</td>\n",
       "      <td>smart</td>\n",
       "      <td>Санкт-Петербург</td>\n",
       "      <td>50</td>\n",
       "      <td>15360</td>\n",
       "      <td>500</td>\n",
       "      <td>550</td>\n",
       "      <td>200</td>\n",
       "      <td>3</td>\n",
       "      <td>3</td>\n",
       "    </tr>\n",
       "    <tr>\n",
       "      <td>3213</td>\n",
       "      <td>1489</td>\n",
       "      <td>0.0</td>\n",
       "      <td>0.0</td>\n",
       "      <td>17322.51</td>\n",
       "      <td>35.0</td>\n",
       "      <td>smart</td>\n",
       "      <td>Санкт-Петербург</td>\n",
       "      <td>50</td>\n",
       "      <td>15360</td>\n",
       "      <td>500</td>\n",
       "      <td>550</td>\n",
       "      <td>200</td>\n",
       "      <td>3</td>\n",
       "      <td>3</td>\n",
       "    </tr>\n",
       "  </tbody>\n",
       "</table>\n",
       "<p>3214 rows × 14 columns</p>\n",
       "</div>"
      ],
      "text/plain": [
       "      user_id  cnt_calls  sum_calls    sum_mb  cnt_message tariff_name  \\\n",
       "0        1000       22.0      159.0   2253.49         22.0       ultra   \n",
       "1        1000       43.0      172.0  23233.77         60.0       ultra   \n",
       "2        1000       47.0      340.0  14003.64         75.0       ultra   \n",
       "3        1000       52.0      408.0  14055.93         81.0       ultra   \n",
       "4        1000       58.0      466.0  14568.91         57.0       ultra   \n",
       "...       ...        ...        ...       ...          ...         ...   \n",
       "3209     1489        0.0        0.0  11050.56         17.0       smart   \n",
       "3210     1489        0.0        0.0  17206.30         32.0       smart   \n",
       "3211     1489        0.0        0.0  19559.44         21.0       smart   \n",
       "3212     1489        0.0        0.0  17491.56         20.0       smart   \n",
       "3213     1489        0.0        0.0  17322.51         35.0       smart   \n",
       "\n",
       "                 city  messages_included  mb_per_month_included  \\\n",
       "0           Краснодар               1000                  30720   \n",
       "1           Краснодар               1000                  30720   \n",
       "2           Краснодар               1000                  30720   \n",
       "3           Краснодар               1000                  30720   \n",
       "4           Краснодар               1000                  30720   \n",
       "...               ...                ...                    ...   \n",
       "3209  Санкт-Петербург                 50                  15360   \n",
       "3210  Санкт-Петербург                 50                  15360   \n",
       "3211  Санкт-Петербург                 50                  15360   \n",
       "3212  Санкт-Петербург                 50                  15360   \n",
       "3213  Санкт-Петербург                 50                  15360   \n",
       "\n",
       "      minutes_included  rub_monthly_fee  rub_per_gb  rub_per_message  \\\n",
       "0                 3000             1950         150                1   \n",
       "1                 3000             1950         150                1   \n",
       "2                 3000             1950         150                1   \n",
       "3                 3000             1950         150                1   \n",
       "4                 3000             1950         150                1   \n",
       "...                ...              ...         ...              ...   \n",
       "3209               500              550         200                3   \n",
       "3210               500              550         200                3   \n",
       "3211               500              550         200                3   \n",
       "3212               500              550         200                3   \n",
       "3213               500              550         200                3   \n",
       "\n",
       "      rub_per_minute  \n",
       "0                  1  \n",
       "1                  1  \n",
       "2                  1  \n",
       "3                  1  \n",
       "4                  1  \n",
       "...              ...  \n",
       "3209               3  \n",
       "3210               3  \n",
       "3211               3  \n",
       "3212               3  \n",
       "3213               3  \n",
       "\n",
       "[3214 rows x 14 columns]"
      ]
     },
     "metadata": {},
     "output_type": "display_data"
    },
    {
     "data": {
      "text/html": [
       "<div>\n",
       "<style scoped>\n",
       "    .dataframe tbody tr th:only-of-type {\n",
       "        vertical-align: middle;\n",
       "    }\n",
       "\n",
       "    .dataframe tbody tr th {\n",
       "        vertical-align: top;\n",
       "    }\n",
       "\n",
       "    .dataframe thead th {\n",
       "        text-align: right;\n",
       "    }\n",
       "</style>\n",
       "<table border=\"1\" class=\"dataframe\">\n",
       "  <thead>\n",
       "    <tr style=\"text-align: right;\">\n",
       "      <th></th>\n",
       "      <th>messages_included</th>\n",
       "      <th>mb_per_month_included</th>\n",
       "      <th>minutes_included</th>\n",
       "      <th>rub_monthly_fee</th>\n",
       "      <th>rub_per_gb</th>\n",
       "      <th>rub_per_message</th>\n",
       "      <th>rub_per_minute</th>\n",
       "      <th>tariff_name</th>\n",
       "    </tr>\n",
       "  </thead>\n",
       "  <tbody>\n",
       "    <tr>\n",
       "      <td>0</td>\n",
       "      <td>50</td>\n",
       "      <td>15360</td>\n",
       "      <td>500</td>\n",
       "      <td>550</td>\n",
       "      <td>200</td>\n",
       "      <td>3</td>\n",
       "      <td>3</td>\n",
       "      <td>smart</td>\n",
       "    </tr>\n",
       "    <tr>\n",
       "      <td>1</td>\n",
       "      <td>1000</td>\n",
       "      <td>30720</td>\n",
       "      <td>3000</td>\n",
       "      <td>1950</td>\n",
       "      <td>150</td>\n",
       "      <td>1</td>\n",
       "      <td>1</td>\n",
       "      <td>ultra</td>\n",
       "    </tr>\n",
       "  </tbody>\n",
       "</table>\n",
       "</div>"
      ],
      "text/plain": [
       "   messages_included  mb_per_month_included  minutes_included  \\\n",
       "0                 50                  15360               500   \n",
       "1               1000                  30720              3000   \n",
       "\n",
       "   rub_monthly_fee  rub_per_gb  rub_per_message  rub_per_minute tariff_name  \n",
       "0              550         200                3               3       smart  \n",
       "1             1950         150                1               1       ultra  "
      ]
     },
     "execution_count": 425,
     "metadata": {},
     "output_type": "execute_result"
    }
   ],
   "source": [
    "revenue = revenue.merge(tariffs, on=['tariff_name'], how='left') #добавим параметры тарифа\n",
    "revenue = revenue.fillna(0) #заполним отсутвующие данные по трафику \"0\"\n",
    "display(revenue)\n",
    "tariffs.head()"
   ]
  },
  {
   "cell_type": "markdown",
   "metadata": {},
   "source": [
    "Вычтем бесплатный лимит из суммарного количества звонков, сообщений и интернет-трафика; остаток умножим на значение из тарифного плана; прибавим абонентскую плату, соответствующую тарифному планую."
   ]
  },
  {
   "cell_type": "code",
   "execution_count": 426,
   "metadata": {},
   "outputs": [
    {
     "data": {
      "text/html": [
       "<div>\n",
       "<style scoped>\n",
       "    .dataframe tbody tr th:only-of-type {\n",
       "        vertical-align: middle;\n",
       "    }\n",
       "\n",
       "    .dataframe tbody tr th {\n",
       "        vertical-align: top;\n",
       "    }\n",
       "\n",
       "    .dataframe thead th {\n",
       "        text-align: right;\n",
       "    }\n",
       "</style>\n",
       "<table border=\"1\" class=\"dataframe\">\n",
       "  <thead>\n",
       "    <tr style=\"text-align: right;\">\n",
       "      <th></th>\n",
       "      <th>user_id</th>\n",
       "      <th>cnt_calls</th>\n",
       "      <th>sum_calls</th>\n",
       "      <th>sum_mb</th>\n",
       "      <th>cnt_message</th>\n",
       "      <th>tariff_name</th>\n",
       "      <th>city</th>\n",
       "      <th>messages_included</th>\n",
       "      <th>mb_per_month_included</th>\n",
       "      <th>minutes_included</th>\n",
       "      <th>rub_monthly_fee</th>\n",
       "      <th>rub_per_gb</th>\n",
       "      <th>rub_per_message</th>\n",
       "      <th>rub_per_minute</th>\n",
       "      <th>revenue_month</th>\n",
       "    </tr>\n",
       "  </thead>\n",
       "  <tbody>\n",
       "    <tr>\n",
       "      <td>0</td>\n",
       "      <td>1000</td>\n",
       "      <td>22.0</td>\n",
       "      <td>159.0</td>\n",
       "      <td>2253.49</td>\n",
       "      <td>22.0</td>\n",
       "      <td>ultra</td>\n",
       "      <td>Краснодар</td>\n",
       "      <td>1000</td>\n",
       "      <td>30720</td>\n",
       "      <td>3000</td>\n",
       "      <td>1950</td>\n",
       "      <td>150</td>\n",
       "      <td>1</td>\n",
       "      <td>1</td>\n",
       "      <td>1950.0</td>\n",
       "    </tr>\n",
       "    <tr>\n",
       "      <td>1</td>\n",
       "      <td>1000</td>\n",
       "      <td>43.0</td>\n",
       "      <td>172.0</td>\n",
       "      <td>23233.77</td>\n",
       "      <td>60.0</td>\n",
       "      <td>ultra</td>\n",
       "      <td>Краснодар</td>\n",
       "      <td>1000</td>\n",
       "      <td>30720</td>\n",
       "      <td>3000</td>\n",
       "      <td>1950</td>\n",
       "      <td>150</td>\n",
       "      <td>1</td>\n",
       "      <td>1</td>\n",
       "      <td>1950.0</td>\n",
       "    </tr>\n",
       "    <tr>\n",
       "      <td>2</td>\n",
       "      <td>1000</td>\n",
       "      <td>47.0</td>\n",
       "      <td>340.0</td>\n",
       "      <td>14003.64</td>\n",
       "      <td>75.0</td>\n",
       "      <td>ultra</td>\n",
       "      <td>Краснодар</td>\n",
       "      <td>1000</td>\n",
       "      <td>30720</td>\n",
       "      <td>3000</td>\n",
       "      <td>1950</td>\n",
       "      <td>150</td>\n",
       "      <td>1</td>\n",
       "      <td>1</td>\n",
       "      <td>1950.0</td>\n",
       "    </tr>\n",
       "    <tr>\n",
       "      <td>3</td>\n",
       "      <td>1000</td>\n",
       "      <td>52.0</td>\n",
       "      <td>408.0</td>\n",
       "      <td>14055.93</td>\n",
       "      <td>81.0</td>\n",
       "      <td>ultra</td>\n",
       "      <td>Краснодар</td>\n",
       "      <td>1000</td>\n",
       "      <td>30720</td>\n",
       "      <td>3000</td>\n",
       "      <td>1950</td>\n",
       "      <td>150</td>\n",
       "      <td>1</td>\n",
       "      <td>1</td>\n",
       "      <td>1950.0</td>\n",
       "    </tr>\n",
       "    <tr>\n",
       "      <td>4</td>\n",
       "      <td>1000</td>\n",
       "      <td>58.0</td>\n",
       "      <td>466.0</td>\n",
       "      <td>14568.91</td>\n",
       "      <td>57.0</td>\n",
       "      <td>ultra</td>\n",
       "      <td>Краснодар</td>\n",
       "      <td>1000</td>\n",
       "      <td>30720</td>\n",
       "      <td>3000</td>\n",
       "      <td>1950</td>\n",
       "      <td>150</td>\n",
       "      <td>1</td>\n",
       "      <td>1</td>\n",
       "      <td>1950.0</td>\n",
       "    </tr>\n",
       "    <tr>\n",
       "      <td>...</td>\n",
       "      <td>...</td>\n",
       "      <td>...</td>\n",
       "      <td>...</td>\n",
       "      <td>...</td>\n",
       "      <td>...</td>\n",
       "      <td>...</td>\n",
       "      <td>...</td>\n",
       "      <td>...</td>\n",
       "      <td>...</td>\n",
       "      <td>...</td>\n",
       "      <td>...</td>\n",
       "      <td>...</td>\n",
       "      <td>...</td>\n",
       "      <td>...</td>\n",
       "      <td>...</td>\n",
       "    </tr>\n",
       "    <tr>\n",
       "      <td>3209</td>\n",
       "      <td>1489</td>\n",
       "      <td>0.0</td>\n",
       "      <td>0.0</td>\n",
       "      <td>11050.56</td>\n",
       "      <td>17.0</td>\n",
       "      <td>smart</td>\n",
       "      <td>Санкт-Петербург</td>\n",
       "      <td>50</td>\n",
       "      <td>15360</td>\n",
       "      <td>500</td>\n",
       "      <td>550</td>\n",
       "      <td>200</td>\n",
       "      <td>3</td>\n",
       "      <td>3</td>\n",
       "      <td>550.0</td>\n",
       "    </tr>\n",
       "    <tr>\n",
       "      <td>3210</td>\n",
       "      <td>1489</td>\n",
       "      <td>0.0</td>\n",
       "      <td>0.0</td>\n",
       "      <td>17206.30</td>\n",
       "      <td>32.0</td>\n",
       "      <td>smart</td>\n",
       "      <td>Санкт-Петербург</td>\n",
       "      <td>50</td>\n",
       "      <td>15360</td>\n",
       "      <td>500</td>\n",
       "      <td>550</td>\n",
       "      <td>200</td>\n",
       "      <td>3</td>\n",
       "      <td>3</td>\n",
       "      <td>950.0</td>\n",
       "    </tr>\n",
       "    <tr>\n",
       "      <td>3211</td>\n",
       "      <td>1489</td>\n",
       "      <td>0.0</td>\n",
       "      <td>0.0</td>\n",
       "      <td>19559.44</td>\n",
       "      <td>21.0</td>\n",
       "      <td>smart</td>\n",
       "      <td>Санкт-Петербург</td>\n",
       "      <td>50</td>\n",
       "      <td>15360</td>\n",
       "      <td>500</td>\n",
       "      <td>550</td>\n",
       "      <td>200</td>\n",
       "      <td>3</td>\n",
       "      <td>3</td>\n",
       "      <td>1550.0</td>\n",
       "    </tr>\n",
       "    <tr>\n",
       "      <td>3212</td>\n",
       "      <td>1489</td>\n",
       "      <td>0.0</td>\n",
       "      <td>0.0</td>\n",
       "      <td>17491.56</td>\n",
       "      <td>20.0</td>\n",
       "      <td>smart</td>\n",
       "      <td>Санкт-Петербург</td>\n",
       "      <td>50</td>\n",
       "      <td>15360</td>\n",
       "      <td>500</td>\n",
       "      <td>550</td>\n",
       "      <td>200</td>\n",
       "      <td>3</td>\n",
       "      <td>3</td>\n",
       "      <td>1150.0</td>\n",
       "    </tr>\n",
       "    <tr>\n",
       "      <td>3213</td>\n",
       "      <td>1489</td>\n",
       "      <td>0.0</td>\n",
       "      <td>0.0</td>\n",
       "      <td>17322.51</td>\n",
       "      <td>35.0</td>\n",
       "      <td>smart</td>\n",
       "      <td>Санкт-Петербург</td>\n",
       "      <td>50</td>\n",
       "      <td>15360</td>\n",
       "      <td>500</td>\n",
       "      <td>550</td>\n",
       "      <td>200</td>\n",
       "      <td>3</td>\n",
       "      <td>3</td>\n",
       "      <td>950.0</td>\n",
       "    </tr>\n",
       "  </tbody>\n",
       "</table>\n",
       "<p>3214 rows × 15 columns</p>\n",
       "</div>"
      ],
      "text/plain": [
       "      user_id  cnt_calls  sum_calls    sum_mb  cnt_message tariff_name  \\\n",
       "0        1000       22.0      159.0   2253.49         22.0       ultra   \n",
       "1        1000       43.0      172.0  23233.77         60.0       ultra   \n",
       "2        1000       47.0      340.0  14003.64         75.0       ultra   \n",
       "3        1000       52.0      408.0  14055.93         81.0       ultra   \n",
       "4        1000       58.0      466.0  14568.91         57.0       ultra   \n",
       "...       ...        ...        ...       ...          ...         ...   \n",
       "3209     1489        0.0        0.0  11050.56         17.0       smart   \n",
       "3210     1489        0.0        0.0  17206.30         32.0       smart   \n",
       "3211     1489        0.0        0.0  19559.44         21.0       smart   \n",
       "3212     1489        0.0        0.0  17491.56         20.0       smart   \n",
       "3213     1489        0.0        0.0  17322.51         35.0       smart   \n",
       "\n",
       "                 city  messages_included  mb_per_month_included  \\\n",
       "0           Краснодар               1000                  30720   \n",
       "1           Краснодар               1000                  30720   \n",
       "2           Краснодар               1000                  30720   \n",
       "3           Краснодар               1000                  30720   \n",
       "4           Краснодар               1000                  30720   \n",
       "...               ...                ...                    ...   \n",
       "3209  Санкт-Петербург                 50                  15360   \n",
       "3210  Санкт-Петербург                 50                  15360   \n",
       "3211  Санкт-Петербург                 50                  15360   \n",
       "3212  Санкт-Петербург                 50                  15360   \n",
       "3213  Санкт-Петербург                 50                  15360   \n",
       "\n",
       "      minutes_included  rub_monthly_fee  rub_per_gb  rub_per_message  \\\n",
       "0                 3000             1950         150                1   \n",
       "1                 3000             1950         150                1   \n",
       "2                 3000             1950         150                1   \n",
       "3                 3000             1950         150                1   \n",
       "4                 3000             1950         150                1   \n",
       "...                ...              ...         ...              ...   \n",
       "3209               500              550         200                3   \n",
       "3210               500              550         200                3   \n",
       "3211               500              550         200                3   \n",
       "3212               500              550         200                3   \n",
       "3213               500              550         200                3   \n",
       "\n",
       "      rub_per_minute  revenue_month  \n",
       "0                  1         1950.0  \n",
       "1                  1         1950.0  \n",
       "2                  1         1950.0  \n",
       "3                  1         1950.0  \n",
       "4                  1         1950.0  \n",
       "...              ...            ...  \n",
       "3209               3          550.0  \n",
       "3210               3          950.0  \n",
       "3211               3         1550.0  \n",
       "3212               3         1150.0  \n",
       "3213               3          950.0  \n",
       "\n",
       "[3214 rows x 15 columns]"
      ]
     },
     "execution_count": 426,
     "metadata": {},
     "output_type": "execute_result"
    }
   ],
   "source": [
    "# фунция расчета помесячной выручки с каждого пользователя:\n",
    "def revenue_calc(row):\n",
    "    cost = row['rub_monthly_fee'] # абонентская плата\n",
    "    if row['sum_calls'] > row['minutes_included']:\n",
    "        cost += (row['sum_calls'] - row['minutes_included']) * row['rub_per_minute'] # добавляем цену минут сверх лимита\n",
    "    if row['sum_mb'] > row['mb_per_month_included']:\n",
    "        cost += math.ceil((row['sum_mb'] - row['mb_per_month_included']) / 1024) * row['rub_per_gb'] # добавляем цену GB сверх лимита с округлением до 1GB\n",
    "    if row['cnt_message'] > row['messages_included']:\n",
    "        cost += (row['cnt_message'] - row['messages_included']) * row['rub_per_message'] # добавляем цену сообщений сверх лимита        \n",
    "    return cost\n",
    "\n",
    "revenue['revenue_month'] = revenue.apply(revenue_calc, axis=1) # передадим в функцию всю строку для расчета выручки за месяц.\n",
    "revenue"
   ]
  },
  {
   "cell_type": "markdown",
   "metadata": {},
   "source": [
    "## **Шаг 3**. Проанализируем данные \n",
    "\n",
    "Опишем поведение клиентов оператора, исходя из выборки."
   ]
  },
  {
   "cell_type": "markdown",
   "metadata": {},
   "source": [
    "### Сколько минут разговора, сообщений и трафика требуется пользователям каждого тарифа в месяц\n"
   ]
  },
  {
   "cell_type": "markdown",
   "metadata": {},
   "source": [
    "#### Посчитаем среднее количество, дисперсию и стандартное отклонение.\n",
    "\n",
    "Создадим сводную таблицу с необходимыми параметрами."
   ]
  },
  {
   "cell_type": "code",
   "execution_count": 427,
   "metadata": {},
   "outputs": [
    {
     "data": {
      "text/html": [
       "<div>\n",
       "<style scoped>\n",
       "    .dataframe tbody tr th:only-of-type {\n",
       "        vertical-align: middle;\n",
       "    }\n",
       "\n",
       "    .dataframe tbody tr th {\n",
       "        vertical-align: top;\n",
       "    }\n",
       "\n",
       "    .dataframe thead tr th {\n",
       "        text-align: left;\n",
       "    }\n",
       "\n",
       "    .dataframe thead tr:last-of-type th {\n",
       "        text-align: right;\n",
       "    }\n",
       "</style>\n",
       "<table border=\"1\" class=\"dataframe\">\n",
       "  <thead>\n",
       "    <tr>\n",
       "      <th></th>\n",
       "      <th>cnt_calls</th>\n",
       "      <th colspan=\"3\" halign=\"left\">cnt_message</th>\n",
       "      <th colspan=\"3\" halign=\"left\">sum_calls</th>\n",
       "      <th colspan=\"3\" halign=\"left\">sum_mb</th>\n",
       "    </tr>\n",
       "    <tr>\n",
       "      <th></th>\n",
       "      <th>count</th>\n",
       "      <th>mean</th>\n",
       "      <th>std</th>\n",
       "      <th>var</th>\n",
       "      <th>mean</th>\n",
       "      <th>std</th>\n",
       "      <th>var</th>\n",
       "      <th>mean</th>\n",
       "      <th>std</th>\n",
       "      <th>var</th>\n",
       "    </tr>\n",
       "    <tr>\n",
       "      <th>tariff_name</th>\n",
       "      <th></th>\n",
       "      <th></th>\n",
       "      <th></th>\n",
       "      <th></th>\n",
       "      <th></th>\n",
       "      <th></th>\n",
       "      <th></th>\n",
       "      <th></th>\n",
       "      <th></th>\n",
       "      <th></th>\n",
       "    </tr>\n",
       "  </thead>\n",
       "  <tbody>\n",
       "    <tr>\n",
       "      <td>smart</td>\n",
       "      <td>2229</td>\n",
       "      <td>33</td>\n",
       "      <td>28</td>\n",
       "      <td>796</td>\n",
       "      <td>417</td>\n",
       "      <td>190</td>\n",
       "      <td>36219</td>\n",
       "      <td>16208</td>\n",
       "      <td>5870</td>\n",
       "      <td>34462496</td>\n",
       "    </tr>\n",
       "    <tr>\n",
       "      <td>ultra</td>\n",
       "      <td>985</td>\n",
       "      <td>49</td>\n",
       "      <td>47</td>\n",
       "      <td>2285</td>\n",
       "      <td>526</td>\n",
       "      <td>317</td>\n",
       "      <td>100873</td>\n",
       "      <td>19468</td>\n",
       "      <td>10087</td>\n",
       "      <td>101751013</td>\n",
       "    </tr>\n",
       "  </tbody>\n",
       "</table>\n",
       "</div>"
      ],
      "text/plain": [
       "            cnt_calls cnt_message           sum_calls              sum_mb  \\\n",
       "                count        mean std   var      mean  std     var   mean   \n",
       "tariff_name                                                                 \n",
       "smart            2229          33  28   796       417  190   36219  16208   \n",
       "ultra             985          49  47  2285       526  317  100873  19468   \n",
       "\n",
       "                               \n",
       "               std        var  \n",
       "tariff_name                    \n",
       "smart         5870   34462496  \n",
       "ultra        10087  101751013  "
      ]
     },
     "execution_count": 427,
     "metadata": {},
     "output_type": "execute_result"
    }
   ],
   "source": [
    "revenue_pivot = pd.pivot_table(revenue, index=['tariff_name'],\n",
    "                               values=['cnt_calls','sum_calls','sum_mb','cnt_message'],\n",
    "                               aggfunc={'cnt_calls':'count',\n",
    "                                        'sum_calls':['mean','std','var'],\n",
    "                                        'sum_mb':['mean','std','var'],\n",
    "                                        'cnt_message':['mean','std','var']})\n",
    "revenue_pivot.astype(int)"
   ]
  },
  {
   "cell_type": "markdown",
   "metadata": {},
   "source": [
    "##### Вывод : \n",
    "Средние значения отличаются не так сильно как параметры тарифов, однако стандартное отклонение в тарифе ultra больше."
   ]
  },
  {
   "cell_type": "markdown",
   "metadata": {},
   "source": [
    "#### Построим гистограммы. Опишим распределения."
   ]
  },
  {
   "cell_type": "markdown",
   "metadata": {},
   "source": [
    "##### Гистограммы минут разговора "
   ]
  },
  {
   "cell_type": "code",
   "execution_count": 428,
   "metadata": {
    "scrolled": true
   },
   "outputs": [
    {
     "data": {
      "image/png": "[encoded data removed]",
      "text/plain": [
       "<Figure size 432x288 with 1 Axes>"
      ]
     },
     "metadata": {
      "needs_background": "light"
     },
     "output_type": "display_data"
    }
   ],
   "source": [
    "ax = revenue.query('tariff_name == \"smart\"').plot(kind='hist', y='sum_calls', histtype='step',\n",
    "                        range=(0, 1500), bins=15,linewidth=5, alpha=0.7, label='smart_calls')\n",
    "revenue.query('tariff_name == \"ultra\"').plot(kind='hist', y='sum_calls', histtype='step',\n",
    "                        range=(0, 1500), bins=15, linewidth=5, alpha=0.7, label='ultra_calls', ax=ax, grid=True, legend=True)\n",
    "\n",
    "ax.set_xlabel('время раговора (мин/месяц)') #добавим подпись к оси (X).\n",
    "ax.set_ylabel('частота (ед.)') #добавим подпись к оси (Y).\n",
    "plt.title('Гистограммы минут разговора') #добавим подпись к графику.\n",
    "\n",
    "plt.show() # даём команду отобразить гистограмму"
   ]
  },
  {
   "cell_type": "markdown",
   "metadata": {},
   "source": [
    "###### Вывод: \n",
    "Гистограммы минут разговора для тарифа smart и ultra  имеет ассиметричность с отрицательной скошенностью (скошенностью влево)."
   ]
  },
  {
   "cell_type": "markdown",
   "metadata": {},
   "source": [
    "##### Гистограммы сообщений"
   ]
  },
  {
   "cell_type": "code",
   "execution_count": 429,
   "metadata": {
    "scrolled": true
   },
   "outputs": [
    {
     "data": {
      "image/png": "[encoded data removed]",
      "text/plain": [
       "<Figure size 432x288 with 1 Axes>"
      ]
     },
     "metadata": {
      "needs_background": "light"
     },
     "output_type": "display_data"
    }
   ],
   "source": [
    "ax = revenue.query('tariff_name == \"smart\"').plot(kind='hist', y='cnt_message', histtype='step',\n",
    "                         bins=15,linewidth=5, alpha=0.7, label='smart_message')\n",
    "revenue.query('tariff_name == \"ultra\"').plot(kind='hist', y='cnt_message', histtype='step',\n",
    "                         bins=15, linewidth=5, alpha=0.7, label='ultra_message', ax=ax, grid=True, legend=True)\n",
    "\n",
    "ax.set_xlabel('число сообщений (ед./месяц)') #добавим подпись к оси (X).\n",
    "ax.set_ylabel('частота (ед.)') #добавим подпись к оси (Y).\n",
    "plt.title('Гистограммы сообщений') #добавим подпись к графику.\n",
    "\n",
    "plt.show() # даём команду отобразить гистограмму"
   ]
  },
  {
   "cell_type": "markdown",
   "metadata": {},
   "source": [
    "###### Вывод: \n",
    "Гистограммы числа сообщений для тарифа smart и ultra имеют **Распределение Пуассона —** число событий в единицу времени, если они в среднем происходят с измеренной частотой."
   ]
  },
  {
   "cell_type": "markdown",
   "metadata": {},
   "source": [
    "##### Гистограммы объёма интернет-трафика"
   ]
  },
  {
   "cell_type": "code",
   "execution_count": 430,
   "metadata": {
    "scrolled": false
   },
   "outputs": [
    {
     "data": {
      "image/png": "[encoded data removed]",
      "text/plain": [
       "<Figure size 432x288 with 1 Axes>"
      ]
     },
     "metadata": {
      "needs_background": "light"
     },
     "output_type": "display_data"
    }
   ],
   "source": [
    "ax = revenue.query('tariff_name == \"smart\"').plot(kind='hist', y='sum_mb', histtype='step',\n",
    "                         bins=25,linewidth=5, alpha=0.7, label='smart_mb')\n",
    "revenue.query('tariff_name == \"ultra\"').plot(kind='hist', y='sum_mb', histtype='step',\n",
    "                         bins=25, linewidth=5, alpha=0.7, label='ultra_mb', ax=ax, grid=True, legend=True)\n",
    "\n",
    "ax.set_xlabel('объём интернет-трафика (МБ/месяц)') #добавим подпись к оси (X).\n",
    "ax.set_ylabel('частота (ед.)') #добавим подпись к оси (Y).\n",
    "plt.title('Гистограммы объёма интернет-трафика') #добавим подпись к графику.\n",
    "\n",
    "plt.show() # даём команду отобразить гистограмму"
   ]
  },
  {
   "cell_type": "markdown",
   "metadata": {},
   "source": [
    "###### Вывод: \n",
    "Гистограммы объёма интернет-трафика для тарифа smart и ultra  близкое к нормальному распределение. Нормальное распределение — чаще всего встречается среднее значение и близкие к нему, а крайние значения встречаются довольно редко"
   ]
  },
  {
   "cell_type": "markdown",
   "metadata": {},
   "source": [
    "## Шаг 4. Проверим гипотезы\n"
   ]
  },
  {
   "cell_type": "markdown",
   "metadata": {},
   "source": [
    "### средняя выручка пользователей тарифов «Ультра» и «Смарт» различается;\n",
    "- `Нулевая гипотеза` : «разницы нет, исследуемые параметры равны».\n",
    "- `Альтернативная гипотеза` : средняя выручка пользователей тарифа \"Ультра\" выше чем пользователей \"Смарт\".\n",
    "\n",
    "Пороговое значение вероятности получить наблюдаемый результат при условии, что нулевая гипотеза верна выберем равным `5%`."
   ]
  },
  {
   "cell_type": "code",
   "execution_count": 431,
   "metadata": {},
   "outputs": [
    {
     "name": "stdout",
     "output_type": "stream",
     "text": [
      "p-значение:  2.1303156965538042e-250\n",
      "Отвергаем нулевую гипотезу\n",
      "средняя выручка пользователя тарифа \"Смарт\": 1289.9735307312696\n",
      "средняя выручка пользователя тарифа \"Ультра\": 2070.1522842639592\n"
     ]
    }
   ],
   "source": [
    "alpha = .05 # пороговое значение вероятности получить наблюдаемый результат при условии, что нулевая гипотеза верна.\n",
    "\n",
    "results = st.ttest_ind(\n",
    "    revenue.query('tariff_name == \"smart\"')['revenue_month'],\n",
    "    revenue.query('tariff_name == \"ultra\"')['revenue_month'],\n",
    "    equal_var=False)\n",
    "print('p-значение: ', results.pvalue/2)\n",
    "\n",
    "if (results.pvalue/2 < alpha and\n",
    "    revenue.query('tariff_name == \"smart\"')['revenue_month'].mean() <\n",
    "    revenue.query('tariff_name == \"ultra\"')['revenue_month'].mean()):\n",
    "    print(\"Отвергаем нулевую гипотезу\")\n",
    "else:\n",
    "    print(\"Не получилось отвергнуть нулевую гипотезу\")\n",
    "\n",
    "print('средняя выручка пользователя тарифа \"Смарт\":', revenue.query('tariff_name == \"smart\"')['revenue_month'].mean() )\n",
    "print('средняя выручка пользователя тарифа \"Ультра\":', revenue.query('tariff_name == \"ultra\"')['revenue_month'].mean() )"
   ]
  },
  {
   "cell_type": "markdown",
   "metadata": {},
   "source": [
    "#### Вывод: \n",
    "вероятность получить наблюдаемый результат при условии что нулевая гипотеза верна очень мала (250 знаков после запятой). Поэтому гипотезу о равенстве средней выручки отвергаем в пользу альтернативной гипотезы средняя выручка пользователей тарифа \"Ультра\" выше чем пользователей \"Смарт\"."
   ]
  },
  {
   "cell_type": "markdown",
   "metadata": {},
   "source": [
    "### средняя выручка пользователей из Москвы отличается от выручки пользователей из других регионов.\n",
    "- `Нулевая гипотеза` : «разницы нет, исследуемые параметры равны».\n",
    "- `Альтернативная гипотеза` : «исследуемые параметры не равны».\n",
    "\n",
    "Пороговое значение вероятности получить наблюдаемый результат при условии, что нулевая гипотеза верна выберем равным 5%."
   ]
  },
  {
   "cell_type": "code",
   "execution_count": 432,
   "metadata": {},
   "outputs": [
    {
     "name": "stdout",
     "output_type": "stream",
     "text": [
      "p-значение:  0.5440152911670224\n",
      "Не получилось отвергнуть нулевую гипотезу\n",
      "средняя выручка пользователя в г. Москва: 1546.7135842880523\n",
      "средняя выручка пользователя в регионах: 1524.9362274298885\n"
     ]
    }
   ],
   "source": [
    "alpha = .05 # пороговое значение вероятности получить наблюдаемый результат при условии, что нулевая гипотеза верна.\n",
    "\n",
    "results = st.ttest_ind(\n",
    "    revenue.query('city == \"Москва\"')['revenue_month'],\n",
    "    revenue.query('city != \"Москва\"')['revenue_month'])\n",
    "print('p-значение: ', results.pvalue)\n",
    "\n",
    "if results.pvalue < alpha:\n",
    "    print(\"Отвергаем нулевую гипотезу\")\n",
    "else:\n",
    "    print(\"Не получилось отвергнуть нулевую гипотезу\")\n",
    "    \n",
    "print('средняя выручка пользователя в г. Москва:', revenue.query('city == \"Москва\"')['revenue_month'].mean() )\n",
    "print('средняя выручка пользователя в регионах:', revenue.query('city != \"Москва\"')['revenue_month'].mean() )"
   ]
  },
  {
   "cell_type": "markdown",
   "metadata": {},
   "source": [
    "###### Вывод: \n",
    "вероятность получить наблюдаемый результат при условии что нулевая гипотеза верна намного выше порога, поэтому гипотезу не можем отвергать."
   ]
  },
  {
   "cell_type": "markdown",
   "metadata": {},
   "source": [
    "### Пояснение:\n",
    "Исходя из задачи `Нулевая гипотеза` была выбрана такая: «разницы нет, выручки равны».\n",
    "\n",
    "`Альтернативная гипотеза` для ставнения тарифов выбрана как средняя выручка пользователей тарифа \"Ультра\" выше чем пользователей \"Смарт\".\n",
    "`Альтернативная гипотеза` для сравнения пользователей Москвы и регионов выбрана «исследуемые параметры не равны», поскольку нам не важно больше выручка или меньше.\n",
    "\n",
    "В обоих случаях была использована `Гипотеза о равенстве средних для независимых выборок`, поскольку в выборках используются разные тарифы и города. Зависимые же выборки как правило возникают, когда речь идет об одной группе испытуемых до и после  воздействия."
   ]
  },
  {
   "cell_type": "markdown",
   "metadata": {},
   "source": [
    "## Общий вывод\n",
    "На основании проверки гипотезы по выборке из 500 клиентов, можем сделать вывод что выручка пользователя \"Ультра\" выше выручки пользователся тарифа \"Смарт\" 2072.4 руб. против 1303.3 руб. При планировании рекламного бюджета также нужно учесть то что потенциальных пользователей тарифа \"Смарт\" может быть почти в двое выше как в нашей выборке, а в этом случае выручка от \"Смарт\" может превысить выручку тарифа \"Ультра\".\n",
    "\n",
    "Выручка пользователей в регионах сопоставима с пользователями в г. Москва. Поэтому планирование рекламного бюджета можно выполнить пропорционально числу потенциальных пользователей.\n",
    "\n",
    "Пользователи тарифа \"Ультра\" также выгоднее тем, что потребляют сравнимые с пользователями тарифа \"Смарт\" объемы минут, МБ и смс, но при этом приносят почти вдвое больше выручки.\n",
    "\n",
    "\n"
   ]
  }
 ],
 "metadata": {
  "ExecuteTimeLog": [
   {
    "duration": 3,
    "start_time": "2022-01-15T09:33:45.767Z"
   },
   {
    "duration": 457,
    "start_time": "2022-01-15T11:27:20.986Z"
   },
   {
    "duration": 1130,
    "start_time": "2022-01-15T11:27:33.418Z"
   },
   {
    "duration": 416,
    "start_time": "2022-01-15T11:27:35.587Z"
   },
   {
    "duration": 3,
    "start_time": "2022-01-15T11:35:47.361Z"
   },
   {
    "duration": 415,
    "start_time": "2022-01-15T11:35:47.365Z"
   },
   {
    "duration": 20,
    "start_time": "2022-01-15T11:35:50.912Z"
   },
   {
    "duration": 13,
    "start_time": "2022-01-15T11:41:22.631Z"
   },
   {
    "duration": 18,
    "start_time": "2022-01-15T11:52:31.967Z"
   },
   {
    "duration": 9,
    "start_time": "2022-01-15T11:52:34.586Z"
   },
   {
    "duration": 80,
    "start_time": "2022-01-15T11:54:28.013Z"
   },
   {
    "duration": 11,
    "start_time": "2022-01-15T12:09:14.964Z"
   },
   {
    "duration": 6,
    "start_time": "2022-01-15T12:09:21.032Z"
   },
   {
    "duration": 4,
    "start_time": "2022-01-15T12:10:37.527Z"
   },
   {
    "duration": 400,
    "start_time": "2022-01-15T12:10:37.532Z"
   },
   {
    "duration": 20,
    "start_time": "2022-01-15T12:10:37.934Z"
   },
   {
    "duration": 9,
    "start_time": "2022-01-15T12:10:37.956Z"
   },
   {
    "duration": 29,
    "start_time": "2022-01-15T12:10:37.967Z"
   },
   {
    "duration": 9,
    "start_time": "2022-01-15T12:10:37.998Z"
   },
   {
    "duration": 35,
    "start_time": "2022-01-15T12:10:38.009Z"
   },
   {
    "duration": 6,
    "start_time": "2022-01-15T12:10:38.046Z"
   },
   {
    "duration": 10,
    "start_time": "2022-01-15T12:10:38.054Z"
   },
   {
    "duration": 13,
    "start_time": "2022-01-15T12:10:38.065Z"
   },
   {
    "duration": 19,
    "start_time": "2022-01-15T12:10:38.080Z"
   },
   {
    "duration": 7,
    "start_time": "2022-01-15T12:10:38.101Z"
   },
   {
    "duration": 3,
    "start_time": "2022-01-15T12:18:15.047Z"
   },
   {
    "duration": 431,
    "start_time": "2022-01-15T12:18:15.052Z"
   },
   {
    "duration": 21,
    "start_time": "2022-01-15T12:18:15.488Z"
   },
   {
    "duration": 8,
    "start_time": "2022-01-15T12:18:15.512Z"
   },
   {
    "duration": 24,
    "start_time": "2022-01-15T12:18:15.522Z"
   },
   {
    "duration": 8,
    "start_time": "2022-01-15T12:18:15.548Z"
   },
   {
    "duration": 20,
    "start_time": "2022-01-15T12:18:15.558Z"
   },
   {
    "duration": 7,
    "start_time": "2022-01-15T12:18:15.581Z"
   },
   {
    "duration": 8,
    "start_time": "2022-01-15T12:18:15.590Z"
   },
   {
    "duration": 14,
    "start_time": "2022-01-15T12:18:15.600Z"
   },
   {
    "duration": 32,
    "start_time": "2022-01-15T12:18:15.616Z"
   },
   {
    "duration": 17,
    "start_time": "2022-01-15T12:18:15.650Z"
   },
   {
    "duration": 3,
    "start_time": "2022-01-15T12:20:13.479Z"
   },
   {
    "duration": 408,
    "start_time": "2022-01-15T12:20:13.484Z"
   },
   {
    "duration": 20,
    "start_time": "2022-01-15T12:20:13.894Z"
   },
   {
    "duration": 11,
    "start_time": "2022-01-15T12:20:13.916Z"
   },
   {
    "duration": 19,
    "start_time": "2022-01-15T12:20:13.928Z"
   },
   {
    "duration": 8,
    "start_time": "2022-01-15T12:20:13.949Z"
   },
   {
    "duration": 16,
    "start_time": "2022-01-15T12:20:13.959Z"
   },
   {
    "duration": 7,
    "start_time": "2022-01-15T12:20:13.977Z"
   },
   {
    "duration": 8,
    "start_time": "2022-01-15T12:20:13.985Z"
   },
   {
    "duration": 13,
    "start_time": "2022-01-15T12:20:13.995Z"
   },
   {
    "duration": 33,
    "start_time": "2022-01-15T12:20:14.009Z"
   },
   {
    "duration": 14,
    "start_time": "2022-01-15T12:20:14.043Z"
   },
   {
    "duration": 30,
    "start_time": "2022-01-15T13:16:49.283Z"
   },
   {
    "duration": 14,
    "start_time": "2022-01-15T13:17:14.353Z"
   },
   {
    "duration": 315,
    "start_time": "2022-01-15T13:17:55.306Z"
   },
   {
    "duration": 36,
    "start_time": "2022-01-15T13:18:03.769Z"
   },
   {
    "duration": 38,
    "start_time": "2022-01-15T13:18:16.677Z"
   },
   {
    "duration": 3,
    "start_time": "2022-01-15T13:18:27.657Z"
   },
   {
    "duration": 410,
    "start_time": "2022-01-15T13:18:27.662Z"
   },
   {
    "duration": 21,
    "start_time": "2022-01-15T13:18:28.074Z"
   },
   {
    "duration": 9,
    "start_time": "2022-01-15T13:18:28.098Z"
   },
   {
    "duration": 18,
    "start_time": "2022-01-15T13:18:28.109Z"
   },
   {
    "duration": 9,
    "start_time": "2022-01-15T13:18:28.129Z"
   },
   {
    "duration": 21,
    "start_time": "2022-01-15T13:18:28.140Z"
   },
   {
    "duration": 7,
    "start_time": "2022-01-15T13:18:28.163Z"
   },
   {
    "duration": 7,
    "start_time": "2022-01-15T13:18:28.172Z"
   },
   {
    "duration": 9,
    "start_time": "2022-01-15T13:18:28.181Z"
   },
   {
    "duration": 11,
    "start_time": "2022-01-15T13:18:28.192Z"
   },
   {
    "duration": 37,
    "start_time": "2022-01-15T13:18:28.205Z"
   },
   {
    "duration": 66,
    "start_time": "2022-01-15T13:18:31.124Z"
   },
   {
    "duration": 27,
    "start_time": "2022-01-15T13:19:29.900Z"
   },
   {
    "duration": 91,
    "start_time": "2022-01-15T13:36:34.101Z"
   },
   {
    "duration": 14,
    "start_time": "2022-01-15T13:37:23.586Z"
   },
   {
    "duration": 84,
    "start_time": "2022-01-15T13:41:09.626Z"
   },
   {
    "duration": 3,
    "start_time": "2022-01-15T13:41:39.805Z"
   },
   {
    "duration": 372,
    "start_time": "2022-01-15T13:41:39.810Z"
   },
   {
    "duration": 18,
    "start_time": "2022-01-15T13:41:40.184Z"
   },
   {
    "duration": 6,
    "start_time": "2022-01-15T13:41:40.204Z"
   },
   {
    "duration": 17,
    "start_time": "2022-01-15T13:41:40.212Z"
   },
   {
    "duration": 7,
    "start_time": "2022-01-15T13:41:40.230Z"
   },
   {
    "duration": 15,
    "start_time": "2022-01-15T13:41:40.239Z"
   },
   {
    "duration": 8,
    "start_time": "2022-01-15T13:41:40.255Z"
   },
   {
    "duration": 6,
    "start_time": "2022-01-15T13:41:40.265Z"
   },
   {
    "duration": 16,
    "start_time": "2022-01-15T13:41:40.273Z"
   },
   {
    "duration": 9,
    "start_time": "2022-01-15T13:41:40.290Z"
   },
   {
    "duration": 15,
    "start_time": "2022-01-15T13:41:40.300Z"
   },
   {
    "duration": 71,
    "start_time": "2022-01-15T13:41:40.316Z"
   },
   {
    "duration": 317,
    "start_time": "2022-01-15T13:43:58.171Z"
   },
   {
    "duration": 59,
    "start_time": "2022-01-15T13:44:12.080Z"
   },
   {
    "duration": 65,
    "start_time": "2022-01-15T13:44:32.779Z"
   },
   {
    "duration": 76,
    "start_time": "2022-01-15T13:45:33.049Z"
   },
   {
    "duration": 76,
    "start_time": "2022-01-15T13:45:47.729Z"
   },
   {
    "duration": 72,
    "start_time": "2022-01-15T13:46:05.088Z"
   },
   {
    "duration": 357,
    "start_time": "2022-01-15T13:49:44.766Z"
   },
   {
    "duration": 73,
    "start_time": "2022-01-15T13:49:51.742Z"
   },
   {
    "duration": 76,
    "start_time": "2022-01-15T13:51:02.712Z"
   },
   {
    "duration": 6992,
    "start_time": "2022-01-15T13:54:57.970Z"
   },
   {
    "duration": 6427,
    "start_time": "2022-01-15T13:55:19.782Z"
   },
   {
    "duration": 87,
    "start_time": "2022-01-15T14:00:19.085Z"
   },
   {
    "duration": 374,
    "start_time": "2022-01-15T14:01:46.943Z"
   },
   {
    "duration": 83,
    "start_time": "2022-01-15T14:02:30.600Z"
   },
   {
    "duration": 6945,
    "start_time": "2022-01-15T14:02:53.310Z"
   },
   {
    "duration": 6390,
    "start_time": "2022-01-15T14:04:19.351Z"
   },
   {
    "duration": 6372,
    "start_time": "2022-01-15T14:04:47.388Z"
   },
   {
    "duration": 77,
    "start_time": "2022-01-15T14:05:35.813Z"
   },
   {
    "duration": 72,
    "start_time": "2022-01-15T14:16:15.964Z"
   },
   {
    "duration": 4,
    "start_time": "2022-01-15T14:16:28.465Z"
   },
   {
    "duration": 369,
    "start_time": "2022-01-15T14:16:28.471Z"
   },
   {
    "duration": 19,
    "start_time": "2022-01-15T14:16:28.842Z"
   },
   {
    "duration": 7,
    "start_time": "2022-01-15T14:16:28.863Z"
   },
   {
    "duration": 18,
    "start_time": "2022-01-15T14:16:28.872Z"
   },
   {
    "duration": 7,
    "start_time": "2022-01-15T14:16:28.891Z"
   },
   {
    "duration": 20,
    "start_time": "2022-01-15T14:16:28.899Z"
   },
   {
    "duration": 25,
    "start_time": "2022-01-15T14:16:28.921Z"
   },
   {
    "duration": 7,
    "start_time": "2022-01-15T14:16:28.947Z"
   },
   {
    "duration": 9,
    "start_time": "2022-01-15T14:16:28.955Z"
   },
   {
    "duration": 11,
    "start_time": "2022-01-15T14:16:28.966Z"
   },
   {
    "duration": 12,
    "start_time": "2022-01-15T14:16:28.979Z"
   },
   {
    "duration": 77,
    "start_time": "2022-01-15T14:16:28.992Z"
   },
   {
    "duration": 80,
    "start_time": "2022-01-15T14:16:29.071Z"
   },
   {
    "duration": 73,
    "start_time": "2022-01-15T14:18:50.156Z"
   },
   {
    "duration": 307,
    "start_time": "2022-01-15T14:19:23.725Z"
   },
   {
    "duration": 356,
    "start_time": "2022-01-15T14:19:43.943Z"
   },
   {
    "duration": 335,
    "start_time": "2022-01-15T14:22:19.815Z"
   },
   {
    "duration": 276,
    "start_time": "2022-01-15T14:22:45.476Z"
   },
   {
    "duration": 470,
    "start_time": "2022-01-15T14:23:44.110Z"
   },
   {
    "duration": 193,
    "start_time": "2022-01-15T14:23:55.468Z"
   },
   {
    "duration": 231,
    "start_time": "2022-01-15T14:24:12.310Z"
   },
   {
    "duration": 223,
    "start_time": "2022-01-15T14:24:40.470Z"
   },
   {
    "duration": 241,
    "start_time": "2022-01-15T14:25:42.605Z"
   },
   {
    "duration": 177,
    "start_time": "2022-01-15T14:29:52.918Z"
   },
   {
    "duration": 93,
    "start_time": "2022-01-15T14:29:57.122Z"
   },
   {
    "duration": 3,
    "start_time": "2022-01-15T14:35:32.161Z"
   },
   {
    "duration": 8,
    "start_time": "2022-01-15T14:35:42.370Z"
   },
   {
    "duration": 15,
    "start_time": "2022-01-15T14:36:13.394Z"
   },
   {
    "duration": 6195,
    "start_time": "2022-01-15T14:37:00.896Z"
   },
   {
    "duration": 14,
    "start_time": "2022-01-15T14:37:33.485Z"
   },
   {
    "duration": 262,
    "start_time": "2022-01-15T14:39:06.824Z"
   },
   {
    "duration": 30,
    "start_time": "2022-01-15T14:39:14.651Z"
   },
   {
    "duration": 155,
    "start_time": "2022-01-15T14:41:36.064Z"
   },
   {
    "duration": 91,
    "start_time": "2022-01-15T14:41:38.416Z"
   },
   {
    "duration": 86,
    "start_time": "2022-01-15T14:42:00.343Z"
   },
   {
    "duration": 172,
    "start_time": "2022-01-15T14:42:02.333Z"
   },
   {
    "duration": 145,
    "start_time": "2022-01-15T14:42:07.317Z"
   },
   {
    "duration": 147,
    "start_time": "2022-01-15T14:42:10.881Z"
   },
   {
    "duration": 144,
    "start_time": "2022-01-15T14:42:18.316Z"
   },
   {
    "duration": 90,
    "start_time": "2022-01-15T14:42:19.166Z"
   },
   {
    "duration": 5906,
    "start_time": "2022-01-15T14:45:48.043Z"
   },
   {
    "duration": 92,
    "start_time": "2022-01-15T14:46:21.105Z"
   },
   {
    "duration": 96,
    "start_time": "2022-01-15T14:46:30.646Z"
   },
   {
    "duration": 38,
    "start_time": "2022-01-15T14:51:25.575Z"
   },
   {
    "duration": 27,
    "start_time": "2022-01-15T14:51:58.245Z"
   },
   {
    "duration": 139,
    "start_time": "2022-01-15T14:55:19.135Z"
   },
   {
    "duration": 125,
    "start_time": "2022-01-15T14:56:34.838Z"
   },
   {
    "duration": 116,
    "start_time": "2022-01-15T14:57:00.056Z"
   },
   {
    "duration": 55,
    "start_time": "2022-01-15T14:58:29.927Z"
   },
   {
    "duration": 20,
    "start_time": "2022-01-15T15:03:51.396Z"
   },
   {
    "duration": 19,
    "start_time": "2022-01-15T15:07:24.426Z"
   },
   {
    "duration": 39,
    "start_time": "2022-01-15T15:07:49.656Z"
   },
   {
    "duration": 41,
    "start_time": "2022-01-15T15:09:07.904Z"
   },
   {
    "duration": 235,
    "start_time": "2022-01-15T15:11:09.762Z"
   },
   {
    "duration": 5,
    "start_time": "2022-01-15T15:11:25.370Z"
   },
   {
    "duration": 250,
    "start_time": "2022-01-15T15:12:09.832Z"
   },
   {
    "duration": 8,
    "start_time": "2022-01-15T15:13:02.151Z"
   },
   {
    "duration": 12,
    "start_time": "2022-01-15T15:13:40.076Z"
   },
   {
    "duration": 90,
    "start_time": "2022-01-15T15:15:50.288Z"
   },
   {
    "duration": 14,
    "start_time": "2022-01-15T15:15:58.672Z"
   },
   {
    "duration": 12,
    "start_time": "2022-01-15T15:16:27.181Z"
   },
   {
    "duration": 414,
    "start_time": "2022-01-15T15:18:29.889Z"
   },
   {
    "duration": 247,
    "start_time": "2022-01-15T15:24:41.623Z"
   },
   {
    "duration": 270,
    "start_time": "2022-01-15T15:25:13.302Z"
   },
   {
    "duration": 255,
    "start_time": "2022-01-15T15:25:32.879Z"
   },
   {
    "duration": 12,
    "start_time": "2022-01-15T15:25:49.864Z"
   },
   {
    "duration": 10,
    "start_time": "2022-01-15T15:26:10.474Z"
   },
   {
    "duration": 15,
    "start_time": "2022-01-15T15:26:26.295Z"
   },
   {
    "duration": 13,
    "start_time": "2022-01-15T15:28:29.816Z"
   },
   {
    "duration": 46,
    "start_time": "2022-01-15T15:39:10.481Z"
   },
   {
    "duration": 54,
    "start_time": "2022-01-15T15:40:59.879Z"
   },
   {
    "duration": 56,
    "start_time": "2022-01-15T15:41:46.467Z"
   },
   {
    "duration": 55,
    "start_time": "2022-01-15T16:13:08.322Z"
   },
   {
    "duration": 59,
    "start_time": "2022-01-15T16:13:16.592Z"
   },
   {
    "duration": 75,
    "start_time": "2022-01-15T16:13:26.481Z"
   },
   {
    "duration": 78,
    "start_time": "2022-01-15T16:13:35.279Z"
   },
   {
    "duration": 290,
    "start_time": "2022-01-15T16:14:50.782Z"
   },
   {
    "duration": 297,
    "start_time": "2022-01-15T16:15:08.365Z"
   },
   {
    "duration": 71,
    "start_time": "2022-01-15T16:15:38.529Z"
   },
   {
    "duration": 290,
    "start_time": "2022-01-15T16:17:21.311Z"
   },
   {
    "duration": 307,
    "start_time": "2022-01-15T16:19:19.524Z"
   },
   {
    "duration": 4,
    "start_time": "2022-01-15T16:19:36.260Z"
   },
   {
    "duration": 403,
    "start_time": "2022-01-15T16:19:36.266Z"
   },
   {
    "duration": 20,
    "start_time": "2022-01-15T16:19:36.671Z"
   },
   {
    "duration": 19,
    "start_time": "2022-01-15T16:19:36.693Z"
   },
   {
    "duration": 30,
    "start_time": "2022-01-15T16:19:36.713Z"
   },
   {
    "duration": 19,
    "start_time": "2022-01-15T16:19:36.745Z"
   },
   {
    "duration": 27,
    "start_time": "2022-01-15T16:19:36.766Z"
   },
   {
    "duration": 23,
    "start_time": "2022-01-15T16:19:36.795Z"
   },
   {
    "duration": 22,
    "start_time": "2022-01-15T16:19:36.819Z"
   },
   {
    "duration": 23,
    "start_time": "2022-01-15T16:19:36.843Z"
   },
   {
    "duration": 31,
    "start_time": "2022-01-15T16:19:36.868Z"
   },
   {
    "duration": 12,
    "start_time": "2022-01-15T16:19:36.901Z"
   },
   {
    "duration": 76,
    "start_time": "2022-01-15T16:19:36.914Z"
   },
   {
    "duration": 152,
    "start_time": "2022-01-15T16:19:36.992Z"
   },
   {
    "duration": 95,
    "start_time": "2022-01-15T16:19:37.146Z"
   },
   {
    "duration": 87,
    "start_time": "2022-01-15T16:19:37.243Z"
   },
   {
    "duration": 45,
    "start_time": "2022-01-15T16:19:37.331Z"
   },
   {
    "duration": 130,
    "start_time": "2022-01-15T16:19:37.378Z"
   },
   {
    "duration": 52,
    "start_time": "2022-01-15T16:19:37.511Z"
   },
   {
    "duration": 12,
    "start_time": "2022-01-15T16:19:37.565Z"
   },
   {
    "duration": 312,
    "start_time": "2022-01-15T16:19:37.578Z"
   },
   {
    "duration": 40,
    "start_time": "2022-01-15T16:20:02.385Z"
   },
   {
    "duration": 94,
    "start_time": "2022-01-15T16:21:32.302Z"
   },
   {
    "duration": 3,
    "start_time": "2022-01-15T16:22:15.546Z"
   },
   {
    "duration": 384,
    "start_time": "2022-01-15T16:22:15.551Z"
   },
   {
    "duration": 19,
    "start_time": "2022-01-15T16:22:15.937Z"
   },
   {
    "duration": 19,
    "start_time": "2022-01-15T16:22:15.958Z"
   },
   {
    "duration": 83,
    "start_time": "2022-01-15T16:22:15.978Z"
   },
   {
    "duration": 25,
    "start_time": "2022-01-15T16:22:16.063Z"
   },
   {
    "duration": 35,
    "start_time": "2022-01-15T16:22:16.090Z"
   },
   {
    "duration": 25,
    "start_time": "2022-01-15T16:22:16.127Z"
   },
   {
    "duration": 21,
    "start_time": "2022-01-15T16:22:16.154Z"
   },
   {
    "duration": 16,
    "start_time": "2022-01-15T16:22:16.176Z"
   },
   {
    "duration": 23,
    "start_time": "2022-01-15T16:22:16.194Z"
   },
   {
    "duration": 27,
    "start_time": "2022-01-15T16:22:16.219Z"
   },
   {
    "duration": 81,
    "start_time": "2022-01-15T16:22:16.248Z"
   },
   {
    "duration": 129,
    "start_time": "2022-01-15T16:22:16.331Z"
   },
   {
    "duration": 88,
    "start_time": "2022-01-15T16:22:16.462Z"
   },
   {
    "duration": 89,
    "start_time": "2022-01-15T16:22:16.552Z"
   },
   {
    "duration": 36,
    "start_time": "2022-01-15T16:22:16.642Z"
   },
   {
    "duration": 120,
    "start_time": "2022-01-15T16:22:16.679Z"
   },
   {
    "duration": 44,
    "start_time": "2022-01-15T16:22:16.800Z"
   },
   {
    "duration": 12,
    "start_time": "2022-01-15T16:22:16.846Z"
   },
   {
    "duration": 120,
    "start_time": "2022-01-15T16:22:16.859Z"
   },
   {
    "duration": 101,
    "start_time": "2022-01-15T16:22:55.519Z"
   },
   {
    "duration": 403,
    "start_time": "2022-01-15T16:34:56.173Z"
   },
   {
    "duration": 134,
    "start_time": "2022-01-15T16:35:07.141Z"
   },
   {
    "duration": 80,
    "start_time": "2022-01-15T16:42:17.959Z"
   },
   {
    "duration": 143,
    "start_time": "2022-01-15T16:44:27.598Z"
   },
   {
    "duration": 124,
    "start_time": "2022-01-15T16:44:46.780Z"
   },
   {
    "duration": 134,
    "start_time": "2022-01-15T16:45:27.310Z"
   },
   {
    "duration": 3,
    "start_time": "2022-01-15T16:45:35.745Z"
   },
   {
    "duration": 421,
    "start_time": "2022-01-15T16:45:35.750Z"
   },
   {
    "duration": 23,
    "start_time": "2022-01-15T16:45:36.173Z"
   },
   {
    "duration": 8,
    "start_time": "2022-01-15T16:45:36.198Z"
   },
   {
    "duration": 30,
    "start_time": "2022-01-15T16:45:36.208Z"
   },
   {
    "duration": 11,
    "start_time": "2022-01-15T16:45:36.240Z"
   },
   {
    "duration": 26,
    "start_time": "2022-01-15T16:45:36.254Z"
   },
   {
    "duration": 7,
    "start_time": "2022-01-15T16:45:36.283Z"
   },
   {
    "duration": 14,
    "start_time": "2022-01-15T16:45:36.292Z"
   },
   {
    "duration": 10,
    "start_time": "2022-01-15T16:45:36.308Z"
   },
   {
    "duration": 26,
    "start_time": "2022-01-15T16:45:36.319Z"
   },
   {
    "duration": 9,
    "start_time": "2022-01-15T16:45:36.347Z"
   },
   {
    "duration": 84,
    "start_time": "2022-01-15T16:45:36.357Z"
   },
   {
    "duration": 140,
    "start_time": "2022-01-15T16:45:36.443Z"
   },
   {
    "duration": 102,
    "start_time": "2022-01-15T16:45:36.585Z"
   },
   {
    "duration": 95,
    "start_time": "2022-01-15T16:45:36.688Z"
   },
   {
    "duration": 39,
    "start_time": "2022-01-15T16:45:36.785Z"
   },
   {
    "duration": 125,
    "start_time": "2022-01-15T16:45:36.825Z"
   },
   {
    "duration": 46,
    "start_time": "2022-01-15T16:45:36.953Z"
   },
   {
    "duration": 168,
    "start_time": "2022-01-15T16:45:37.001Z"
   },
   {
    "duration": 120,
    "start_time": "2022-01-15T16:45:58.052Z"
   },
   {
    "duration": 3,
    "start_time": "2022-01-15T16:46:18.922Z"
   },
   {
    "duration": 395,
    "start_time": "2022-01-15T16:46:18.929Z"
   },
   {
    "duration": 22,
    "start_time": "2022-01-15T16:46:19.326Z"
   },
   {
    "duration": 7,
    "start_time": "2022-01-15T16:46:19.351Z"
   },
   {
    "duration": 19,
    "start_time": "2022-01-15T16:46:19.360Z"
   },
   {
    "duration": 8,
    "start_time": "2022-01-15T16:46:19.381Z"
   },
   {
    "duration": 18,
    "start_time": "2022-01-15T16:46:19.391Z"
   },
   {
    "duration": 32,
    "start_time": "2022-01-15T16:46:19.411Z"
   },
   {
    "duration": 8,
    "start_time": "2022-01-15T16:46:19.445Z"
   },
   {
    "duration": 8,
    "start_time": "2022-01-15T16:46:19.455Z"
   },
   {
    "duration": 7,
    "start_time": "2022-01-15T16:46:19.465Z"
   },
   {
    "duration": 10,
    "start_time": "2022-01-15T16:46:19.474Z"
   },
   {
    "duration": 97,
    "start_time": "2022-01-15T16:46:19.486Z"
   },
   {
    "duration": 141,
    "start_time": "2022-01-15T16:46:19.584Z"
   },
   {
    "duration": 110,
    "start_time": "2022-01-15T16:46:19.727Z"
   },
   {
    "duration": 89,
    "start_time": "2022-01-15T16:46:19.840Z"
   },
   {
    "duration": 48,
    "start_time": "2022-01-15T16:46:19.930Z"
   },
   {
    "duration": 118,
    "start_time": "2022-01-15T16:46:19.980Z"
   },
   {
    "duration": 57,
    "start_time": "2022-01-15T16:46:20.099Z"
   },
   {
    "duration": 151,
    "start_time": "2022-01-15T16:46:20.158Z"
   },
   {
    "duration": 123,
    "start_time": "2022-01-15T16:46:31.679Z"
   },
   {
    "duration": 140,
    "start_time": "2022-01-15T16:46:40.802Z"
   },
   {
    "duration": 114,
    "start_time": "2022-01-15T16:49:55.955Z"
   },
   {
    "duration": 54,
    "start_time": "2022-01-15T16:53:30.184Z"
   },
   {
    "duration": 28,
    "start_time": "2022-01-15T16:56:22.684Z"
   },
   {
    "duration": 36,
    "start_time": "2022-01-15T16:56:44.641Z"
   },
   {
    "duration": 238,
    "start_time": "2022-01-15T16:59:23.278Z"
   },
   {
    "duration": 287,
    "start_time": "2022-01-15T16:59:54.209Z"
   },
   {
    "duration": 3,
    "start_time": "2022-01-15T17:00:06.689Z"
   },
   {
    "duration": 474,
    "start_time": "2022-01-15T17:00:06.693Z"
   },
   {
    "duration": 20,
    "start_time": "2022-01-15T17:00:07.169Z"
   },
   {
    "duration": 81,
    "start_time": "2022-01-15T17:00:07.191Z"
   },
   {
    "duration": 44,
    "start_time": "2022-01-15T17:00:07.273Z"
   },
   {
    "duration": 54,
    "start_time": "2022-01-15T17:00:07.318Z"
   },
   {
    "duration": 115,
    "start_time": "2022-01-15T17:00:07.373Z"
   },
   {
    "duration": 128,
    "start_time": "2022-01-15T17:00:07.489Z"
   },
   {
    "duration": 60,
    "start_time": "2022-01-15T17:00:07.619Z"
   },
   {
    "duration": 38,
    "start_time": "2022-01-15T17:00:07.680Z"
   },
   {
    "duration": 15,
    "start_time": "2022-01-15T17:00:07.720Z"
   },
   {
    "duration": 22,
    "start_time": "2022-01-15T17:00:07.737Z"
   },
   {
    "duration": 78,
    "start_time": "2022-01-15T17:00:07.760Z"
   },
   {
    "duration": 180,
    "start_time": "2022-01-15T17:00:07.840Z"
   },
   {
    "duration": 116,
    "start_time": "2022-01-15T17:00:08.021Z"
   },
   {
    "duration": 101,
    "start_time": "2022-01-15T17:00:08.139Z"
   },
   {
    "duration": 37,
    "start_time": "2022-01-15T17:00:08.242Z"
   },
   {
    "duration": 136,
    "start_time": "2022-01-15T17:00:08.280Z"
   },
   {
    "duration": 49,
    "start_time": "2022-01-15T17:00:08.418Z"
   },
   {
    "duration": 44,
    "start_time": "2022-01-15T17:00:08.469Z"
   },
   {
    "duration": 57,
    "start_time": "2022-01-15T17:00:08.515Z"
   },
   {
    "duration": 3,
    "start_time": "2022-01-15T17:00:19.839Z"
   },
   {
    "duration": 382,
    "start_time": "2022-01-15T17:00:19.844Z"
   },
   {
    "duration": 20,
    "start_time": "2022-01-15T17:00:20.228Z"
   },
   {
    "duration": 11,
    "start_time": "2022-01-15T17:00:20.250Z"
   },
   {
    "duration": 44,
    "start_time": "2022-01-15T17:00:20.263Z"
   },
   {
    "duration": 7,
    "start_time": "2022-01-15T17:00:20.309Z"
   },
   {
    "duration": 17,
    "start_time": "2022-01-15T17:00:20.317Z"
   },
   {
    "duration": 11,
    "start_time": "2022-01-15T17:00:20.337Z"
   },
   {
    "duration": 7,
    "start_time": "2022-01-15T17:00:20.350Z"
   },
   {
    "duration": 11,
    "start_time": "2022-01-15T17:00:20.358Z"
   },
   {
    "duration": 8,
    "start_time": "2022-01-15T17:00:20.370Z"
   },
   {
    "duration": 15,
    "start_time": "2022-01-15T17:00:20.379Z"
   },
   {
    "duration": 72,
    "start_time": "2022-01-15T17:00:20.395Z"
   },
   {
    "duration": 146,
    "start_time": "2022-01-15T17:00:20.468Z"
   },
   {
    "duration": 109,
    "start_time": "2022-01-15T17:00:20.615Z"
   },
   {
    "duration": 80,
    "start_time": "2022-01-15T17:00:20.726Z"
   },
   {
    "duration": 44,
    "start_time": "2022-01-15T17:00:20.808Z"
   },
   {
    "duration": 110,
    "start_time": "2022-01-15T17:00:20.854Z"
   },
   {
    "duration": 46,
    "start_time": "2022-01-15T17:00:20.965Z"
   },
   {
    "duration": 61,
    "start_time": "2022-01-15T17:00:21.012Z"
   },
   {
    "duration": 46,
    "start_time": "2022-01-15T17:00:21.075Z"
   },
   {
    "duration": 4,
    "start_time": "2022-01-15T17:04:50.441Z"
   },
   {
    "duration": 435,
    "start_time": "2022-01-15T17:04:50.447Z"
   },
   {
    "duration": 23,
    "start_time": "2022-01-15T17:04:50.884Z"
   },
   {
    "duration": 32,
    "start_time": "2022-01-15T17:04:50.909Z"
   },
   {
    "duration": 36,
    "start_time": "2022-01-15T17:04:50.943Z"
   },
   {
    "duration": 9,
    "start_time": "2022-01-15T17:04:50.981Z"
   },
   {
    "duration": 34,
    "start_time": "2022-01-15T17:04:50.991Z"
   },
   {
    "duration": 17,
    "start_time": "2022-01-15T17:04:51.026Z"
   },
   {
    "duration": 35,
    "start_time": "2022-01-15T17:04:51.045Z"
   },
   {
    "duration": 37,
    "start_time": "2022-01-15T17:04:51.082Z"
   },
   {
    "duration": 13,
    "start_time": "2022-01-15T17:04:51.120Z"
   },
   {
    "duration": 38,
    "start_time": "2022-01-15T17:04:51.135Z"
   },
   {
    "duration": 72,
    "start_time": "2022-01-15T17:04:51.175Z"
   },
   {
    "duration": 138,
    "start_time": "2022-01-15T17:04:51.249Z"
   },
   {
    "duration": 98,
    "start_time": "2022-01-15T17:04:51.389Z"
   },
   {
    "duration": 100,
    "start_time": "2022-01-15T17:04:51.489Z"
   },
   {
    "duration": 50,
    "start_time": "2022-01-15T17:04:51.591Z"
   },
   {
    "duration": 115,
    "start_time": "2022-01-15T17:04:51.643Z"
   },
   {
    "duration": 51,
    "start_time": "2022-01-15T17:04:51.760Z"
   },
   {
    "duration": 65,
    "start_time": "2022-01-15T17:04:51.813Z"
   },
   {
    "duration": 129,
    "start_time": "2022-01-15T17:04:51.879Z"
   },
   {
    "duration": 3,
    "start_time": "2022-01-15T17:05:21.457Z"
   },
   {
    "duration": 395,
    "start_time": "2022-01-15T17:05:21.462Z"
   },
   {
    "duration": 21,
    "start_time": "2022-01-15T17:05:21.859Z"
   },
   {
    "duration": 16,
    "start_time": "2022-01-15T17:05:21.882Z"
   },
   {
    "duration": 23,
    "start_time": "2022-01-15T17:05:21.899Z"
   },
   {
    "duration": 8,
    "start_time": "2022-01-15T17:05:21.923Z"
   },
   {
    "duration": 17,
    "start_time": "2022-01-15T17:05:21.932Z"
   },
   {
    "duration": 6,
    "start_time": "2022-01-15T17:05:21.952Z"
   },
   {
    "duration": 7,
    "start_time": "2022-01-15T17:05:21.960Z"
   },
   {
    "duration": 12,
    "start_time": "2022-01-15T17:05:21.968Z"
   },
   {
    "duration": 13,
    "start_time": "2022-01-15T17:05:21.982Z"
   },
   {
    "duration": 15,
    "start_time": "2022-01-15T17:05:21.996Z"
   },
   {
    "duration": 89,
    "start_time": "2022-01-15T17:05:22.012Z"
   },
   {
    "duration": 139,
    "start_time": "2022-01-15T17:05:22.103Z"
   },
   {
    "duration": 98,
    "start_time": "2022-01-15T17:05:22.243Z"
   },
   {
    "duration": 86,
    "start_time": "2022-01-15T17:05:22.342Z"
   },
   {
    "duration": 49,
    "start_time": "2022-01-15T17:05:22.429Z"
   },
   {
    "duration": 120,
    "start_time": "2022-01-15T17:05:22.480Z"
   },
   {
    "duration": 55,
    "start_time": "2022-01-15T17:05:22.601Z"
   },
   {
    "duration": 50,
    "start_time": "2022-01-15T17:05:22.658Z"
   },
   {
    "duration": 92,
    "start_time": "2022-01-15T17:05:22.709Z"
   },
   {
    "duration": 51,
    "start_time": "2022-01-15T17:08:16.489Z"
   },
   {
    "duration": 3,
    "start_time": "2022-01-15T17:08:26.097Z"
   },
   {
    "duration": 399,
    "start_time": "2022-01-15T17:08:26.102Z"
   },
   {
    "duration": 23,
    "start_time": "2022-01-15T17:08:26.504Z"
   },
   {
    "duration": 8,
    "start_time": "2022-01-15T17:08:26.530Z"
   },
   {
    "duration": 20,
    "start_time": "2022-01-15T17:08:26.540Z"
   },
   {
    "duration": 7,
    "start_time": "2022-01-15T17:08:26.562Z"
   },
   {
    "duration": 15,
    "start_time": "2022-01-15T17:08:26.572Z"
   },
   {
    "duration": 6,
    "start_time": "2022-01-15T17:08:26.589Z"
   },
   {
    "duration": 7,
    "start_time": "2022-01-15T17:08:26.597Z"
   },
   {
    "duration": 38,
    "start_time": "2022-01-15T17:08:26.606Z"
   },
   {
    "duration": 10,
    "start_time": "2022-01-15T17:08:26.646Z"
   },
   {
    "duration": 13,
    "start_time": "2022-01-15T17:08:26.658Z"
   },
   {
    "duration": 82,
    "start_time": "2022-01-15T17:08:26.673Z"
   },
   {
    "duration": 147,
    "start_time": "2022-01-15T17:08:26.757Z"
   },
   {
    "duration": 112,
    "start_time": "2022-01-15T17:08:26.906Z"
   },
   {
    "duration": 98,
    "start_time": "2022-01-15T17:08:27.020Z"
   },
   {
    "duration": 48,
    "start_time": "2022-01-15T17:08:27.120Z"
   },
   {
    "duration": 127,
    "start_time": "2022-01-15T17:08:27.170Z"
   },
   {
    "duration": 57,
    "start_time": "2022-01-15T17:08:27.300Z"
   },
   {
    "duration": 50,
    "start_time": "2022-01-15T17:08:27.359Z"
   },
   {
    "duration": 51,
    "start_time": "2022-01-15T17:08:27.410Z"
   },
   {
    "duration": 109,
    "start_time": "2022-01-15T17:17:21.721Z"
   },
   {
    "duration": 3,
    "start_time": "2022-01-15T17:17:36.554Z"
   },
   {
    "duration": 383,
    "start_time": "2022-01-15T17:17:36.559Z"
   },
   {
    "duration": 20,
    "start_time": "2022-01-15T17:17:36.944Z"
   },
   {
    "duration": 19,
    "start_time": "2022-01-15T17:17:36.967Z"
   },
   {
    "duration": 21,
    "start_time": "2022-01-15T17:17:36.988Z"
   },
   {
    "duration": 8,
    "start_time": "2022-01-15T17:17:37.010Z"
   },
   {
    "duration": 30,
    "start_time": "2022-01-15T17:17:37.019Z"
   },
   {
    "duration": 7,
    "start_time": "2022-01-15T17:17:37.051Z"
   },
   {
    "duration": 9,
    "start_time": "2022-01-15T17:17:37.060Z"
   },
   {
    "duration": 9,
    "start_time": "2022-01-15T17:17:37.071Z"
   },
   {
    "duration": 10,
    "start_time": "2022-01-15T17:17:37.082Z"
   },
   {
    "duration": 12,
    "start_time": "2022-01-15T17:17:37.094Z"
   },
   {
    "duration": 93,
    "start_time": "2022-01-15T17:17:37.108Z"
   },
   {
    "duration": 147,
    "start_time": "2022-01-15T17:17:37.203Z"
   },
   {
    "duration": 118,
    "start_time": "2022-01-15T17:17:37.351Z"
   },
   {
    "duration": 92,
    "start_time": "2022-01-15T17:17:37.471Z"
   },
   {
    "duration": 40,
    "start_time": "2022-01-15T17:17:37.564Z"
   },
   {
    "duration": 127,
    "start_time": "2022-01-15T17:17:37.606Z"
   },
   {
    "duration": 50,
    "start_time": "2022-01-15T17:17:37.735Z"
   },
   {
    "duration": 61,
    "start_time": "2022-01-15T17:17:37.787Z"
   },
   {
    "duration": 110,
    "start_time": "2022-01-15T17:17:37.850Z"
   },
   {
    "duration": 519,
    "start_time": "2022-01-15T17:22:09.465Z"
   },
   {
    "duration": 179,
    "start_time": "2022-01-15T17:25:27.621Z"
   },
   {
    "duration": 289,
    "start_time": "2022-01-15T17:25:42.251Z"
   },
   {
    "duration": 4,
    "start_time": "2022-01-15T17:26:07.990Z"
   },
   {
    "duration": 391,
    "start_time": "2022-01-15T17:26:07.996Z"
   },
   {
    "duration": 22,
    "start_time": "2022-01-15T17:26:08.389Z"
   },
   {
    "duration": 24,
    "start_time": "2022-01-15T17:26:08.413Z"
   },
   {
    "duration": 19,
    "start_time": "2022-01-15T17:26:08.438Z"
   },
   {
    "duration": 8,
    "start_time": "2022-01-15T17:26:08.458Z"
   },
   {
    "duration": 16,
    "start_time": "2022-01-15T17:26:08.468Z"
   },
   {
    "duration": 7,
    "start_time": "2022-01-15T17:26:08.486Z"
   },
   {
    "duration": 8,
    "start_time": "2022-01-15T17:26:08.494Z"
   },
   {
    "duration": 9,
    "start_time": "2022-01-15T17:26:08.503Z"
   },
   {
    "duration": 6,
    "start_time": "2022-01-15T17:26:08.542Z"
   },
   {
    "duration": 11,
    "start_time": "2022-01-15T17:26:08.550Z"
   },
   {
    "duration": 83,
    "start_time": "2022-01-15T17:26:08.563Z"
   },
   {
    "duration": 144,
    "start_time": "2022-01-15T17:26:08.648Z"
   },
   {
    "duration": 105,
    "start_time": "2022-01-15T17:26:08.794Z"
   },
   {
    "duration": 97,
    "start_time": "2022-01-15T17:26:08.901Z"
   },
   {
    "duration": 46,
    "start_time": "2022-01-15T17:26:08.999Z"
   },
   {
    "duration": 111,
    "start_time": "2022-01-15T17:26:09.047Z"
   },
   {
    "duration": 46,
    "start_time": "2022-01-15T17:26:09.161Z"
   },
   {
    "duration": 58,
    "start_time": "2022-01-15T17:26:09.209Z"
   },
   {
    "duration": 9092,
    "start_time": "2022-01-15T17:26:09.269Z"
   },
   {
    "duration": 432,
    "start_time": "2022-01-15T17:29:47.174Z"
   },
   {
    "duration": 4,
    "start_time": "2022-01-15T17:29:51.271Z"
   },
   {
    "duration": 382,
    "start_time": "2022-01-15T17:29:51.277Z"
   },
   {
    "duration": 21,
    "start_time": "2022-01-15T17:29:51.661Z"
   },
   {
    "duration": 7,
    "start_time": "2022-01-15T17:29:51.685Z"
   },
   {
    "duration": 19,
    "start_time": "2022-01-15T17:29:51.694Z"
   },
   {
    "duration": 7,
    "start_time": "2022-01-15T17:29:51.715Z"
   },
   {
    "duration": 24,
    "start_time": "2022-01-15T17:29:51.724Z"
   },
   {
    "duration": 7,
    "start_time": "2022-01-15T17:29:51.750Z"
   },
   {
    "duration": 15,
    "start_time": "2022-01-15T17:29:51.759Z"
   },
   {
    "duration": 10,
    "start_time": "2022-01-15T17:29:51.775Z"
   },
   {
    "duration": 7,
    "start_time": "2022-01-15T17:29:51.786Z"
   },
   {
    "duration": 12,
    "start_time": "2022-01-15T17:29:51.795Z"
   },
   {
    "duration": 81,
    "start_time": "2022-01-15T17:29:51.808Z"
   },
   {
    "duration": 134,
    "start_time": "2022-01-15T17:29:51.891Z"
   },
   {
    "duration": 94,
    "start_time": "2022-01-15T17:29:52.026Z"
   },
   {
    "duration": 93,
    "start_time": "2022-01-15T17:29:52.122Z"
   },
   {
    "duration": 47,
    "start_time": "2022-01-15T17:29:52.217Z"
   },
   {
    "duration": 113,
    "start_time": "2022-01-15T17:29:52.266Z"
   },
   {
    "duration": 46,
    "start_time": "2022-01-15T17:29:52.381Z"
   },
   {
    "duration": 48,
    "start_time": "2022-01-15T17:29:52.441Z"
   },
   {
    "duration": 461,
    "start_time": "2022-01-15T17:29:52.491Z"
   },
   {
    "duration": 435,
    "start_time": "2022-01-15T17:30:17.096Z"
   },
   {
    "duration": 3,
    "start_time": "2022-01-15T17:31:14.285Z"
   },
   {
    "duration": 374,
    "start_time": "2022-01-15T17:31:14.300Z"
   },
   {
    "duration": 19,
    "start_time": "2022-01-15T17:31:14.676Z"
   },
   {
    "duration": 7,
    "start_time": "2022-01-15T17:31:14.697Z"
   },
   {
    "duration": 17,
    "start_time": "2022-01-15T17:31:14.706Z"
   },
   {
    "duration": 7,
    "start_time": "2022-01-15T17:31:14.725Z"
   },
   {
    "duration": 17,
    "start_time": "2022-01-15T17:31:14.733Z"
   },
   {
    "duration": 7,
    "start_time": "2022-01-15T17:31:14.752Z"
   },
   {
    "duration": 7,
    "start_time": "2022-01-15T17:31:14.761Z"
   },
   {
    "duration": 10,
    "start_time": "2022-01-15T17:31:14.770Z"
   },
   {
    "duration": 9,
    "start_time": "2022-01-15T17:31:14.782Z"
   },
   {
    "duration": 14,
    "start_time": "2022-01-15T17:31:14.792Z"
   },
   {
    "duration": 73,
    "start_time": "2022-01-15T17:31:14.807Z"
   },
   {
    "duration": 134,
    "start_time": "2022-01-15T17:31:14.882Z"
   },
   {
    "duration": 95,
    "start_time": "2022-01-15T17:31:15.018Z"
   },
   {
    "duration": 95,
    "start_time": "2022-01-15T17:31:15.114Z"
   },
   {
    "duration": 44,
    "start_time": "2022-01-15T17:31:15.211Z"
   },
   {
    "duration": 105,
    "start_time": "2022-01-15T17:31:15.257Z"
   },
   {
    "duration": 44,
    "start_time": "2022-01-15T17:31:15.364Z"
   },
   {
    "duration": 64,
    "start_time": "2022-01-15T17:31:15.409Z"
   },
   {
    "duration": 91,
    "start_time": "2022-01-15T17:31:15.474Z"
   },
   {
    "duration": 431,
    "start_time": "2022-01-15T17:34:48.484Z"
   },
   {
    "duration": 3,
    "start_time": "2022-01-15T17:34:53.734Z"
   },
   {
    "duration": 391,
    "start_time": "2022-01-15T17:34:53.739Z"
   },
   {
    "duration": 20,
    "start_time": "2022-01-15T17:34:54.132Z"
   },
   {
    "duration": 7,
    "start_time": "2022-01-15T17:34:54.154Z"
   },
   {
    "duration": 23,
    "start_time": "2022-01-15T17:34:54.162Z"
   },
   {
    "duration": 7,
    "start_time": "2022-01-15T17:34:54.187Z"
   },
   {
    "duration": 17,
    "start_time": "2022-01-15T17:34:54.196Z"
   },
   {
    "duration": 26,
    "start_time": "2022-01-15T17:34:54.215Z"
   },
   {
    "duration": 5,
    "start_time": "2022-01-15T17:34:54.242Z"
   },
   {
    "duration": 11,
    "start_time": "2022-01-15T17:34:54.249Z"
   },
   {
    "duration": 9,
    "start_time": "2022-01-15T17:34:54.261Z"
   },
   {
    "duration": 17,
    "start_time": "2022-01-15T17:34:54.271Z"
   },
   {
    "duration": 66,
    "start_time": "2022-01-15T17:34:54.289Z"
   },
   {
    "duration": 144,
    "start_time": "2022-01-15T17:34:54.357Z"
   },
   {
    "duration": 95,
    "start_time": "2022-01-15T17:34:54.503Z"
   },
   {
    "duration": 94,
    "start_time": "2022-01-15T17:34:54.600Z"
   },
   {
    "duration": 35,
    "start_time": "2022-01-15T17:34:54.695Z"
   },
   {
    "duration": 105,
    "start_time": "2022-01-15T17:34:54.741Z"
   },
   {
    "duration": 42,
    "start_time": "2022-01-15T17:34:54.849Z"
   },
   {
    "duration": 61,
    "start_time": "2022-01-15T17:34:54.892Z"
   },
   {
    "duration": 469,
    "start_time": "2022-01-15T17:34:54.954Z"
   },
   {
    "duration": 77,
    "start_time": "2022-01-15T17:35:40.288Z"
   },
   {
    "duration": 443,
    "start_time": "2022-01-15T17:36:09.655Z"
   },
   {
    "duration": 3,
    "start_time": "2022-01-15T17:36:20.305Z"
   },
   {
    "duration": 379,
    "start_time": "2022-01-15T17:36:20.310Z"
   },
   {
    "duration": 23,
    "start_time": "2022-01-15T17:36:20.692Z"
   },
   {
    "duration": 15,
    "start_time": "2022-01-15T17:36:20.717Z"
   },
   {
    "duration": 23,
    "start_time": "2022-01-15T17:36:20.734Z"
   },
   {
    "duration": 9,
    "start_time": "2022-01-15T17:36:20.759Z"
   },
   {
    "duration": 18,
    "start_time": "2022-01-15T17:36:20.770Z"
   },
   {
    "duration": 20,
    "start_time": "2022-01-15T17:36:20.790Z"
   },
   {
    "duration": 54,
    "start_time": "2022-01-15T17:36:20.814Z"
   },
   {
    "duration": 41,
    "start_time": "2022-01-15T17:36:20.870Z"
   },
   {
    "duration": 19,
    "start_time": "2022-01-15T17:36:20.913Z"
   },
   {
    "duration": 30,
    "start_time": "2022-01-15T17:36:20.934Z"
   },
   {
    "duration": 99,
    "start_time": "2022-01-15T17:36:20.966Z"
   },
   {
    "duration": 168,
    "start_time": "2022-01-15T17:36:21.066Z"
   },
   {
    "duration": 117,
    "start_time": "2022-01-15T17:36:21.235Z"
   },
   {
    "duration": 109,
    "start_time": "2022-01-15T17:36:21.354Z"
   },
   {
    "duration": 39,
    "start_time": "2022-01-15T17:36:21.465Z"
   },
   {
    "duration": 137,
    "start_time": "2022-01-15T17:36:21.505Z"
   },
   {
    "duration": 52,
    "start_time": "2022-01-15T17:36:21.644Z"
   },
   {
    "duration": 68,
    "start_time": "2022-01-15T17:36:21.697Z"
   },
   {
    "duration": 4198,
    "start_time": "2022-01-15T17:36:21.767Z"
   },
   {
    "duration": 3,
    "start_time": "2022-01-15T17:40:52.623Z"
   },
   {
    "duration": 416,
    "start_time": "2022-01-15T17:40:52.628Z"
   },
   {
    "duration": 22,
    "start_time": "2022-01-15T17:40:53.046Z"
   },
   {
    "duration": 9,
    "start_time": "2022-01-15T17:40:53.070Z"
   },
   {
    "duration": 20,
    "start_time": "2022-01-15T17:40:53.080Z"
   },
   {
    "duration": 8,
    "start_time": "2022-01-15T17:40:53.101Z"
   },
   {
    "duration": 41,
    "start_time": "2022-01-15T17:40:53.110Z"
   },
   {
    "duration": 6,
    "start_time": "2022-01-15T17:40:53.153Z"
   },
   {
    "duration": 5,
    "start_time": "2022-01-15T17:40:53.162Z"
   },
   {
    "duration": 9,
    "start_time": "2022-01-15T17:40:53.169Z"
   },
   {
    "duration": 6,
    "start_time": "2022-01-15T17:40:53.180Z"
   },
   {
    "duration": 10,
    "start_time": "2022-01-15T17:40:53.188Z"
   },
   {
    "duration": 98,
    "start_time": "2022-01-15T17:40:53.199Z"
   },
   {
    "duration": 145,
    "start_time": "2022-01-15T17:40:53.299Z"
   },
   {
    "duration": 105,
    "start_time": "2022-01-15T17:40:53.446Z"
   },
   {
    "duration": 98,
    "start_time": "2022-01-15T17:40:53.552Z"
   },
   {
    "duration": 41,
    "start_time": "2022-01-15T17:40:53.652Z"
   },
   {
    "duration": 129,
    "start_time": "2022-01-15T17:40:53.695Z"
   },
   {
    "duration": 57,
    "start_time": "2022-01-15T17:40:53.826Z"
   },
   {
    "duration": 58,
    "start_time": "2022-01-15T17:40:53.886Z"
   },
   {
    "duration": 26,
    "start_time": "2022-01-15T17:40:53.946Z"
   },
   {
    "duration": 74,
    "start_time": "2022-01-15T17:40:53.974Z"
   },
   {
    "duration": 5,
    "start_time": "2022-01-15T17:41:45.570Z"
   },
   {
    "duration": 532,
    "start_time": "2022-01-15T17:41:45.577Z"
   },
   {
    "duration": 22,
    "start_time": "2022-01-15T17:41:46.111Z"
   },
   {
    "duration": 13,
    "start_time": "2022-01-15T17:41:46.135Z"
   },
   {
    "duration": 22,
    "start_time": "2022-01-15T17:41:46.150Z"
   },
   {
    "duration": 8,
    "start_time": "2022-01-15T17:41:46.174Z"
   },
   {
    "duration": 15,
    "start_time": "2022-01-15T17:41:46.184Z"
   },
   {
    "duration": 7,
    "start_time": "2022-01-15T17:41:46.201Z"
   },
   {
    "duration": 6,
    "start_time": "2022-01-15T17:41:46.211Z"
   },
   {
    "duration": 33,
    "start_time": "2022-01-15T17:41:46.218Z"
   },
   {
    "duration": 11,
    "start_time": "2022-01-15T17:41:46.253Z"
   },
   {
    "duration": 13,
    "start_time": "2022-01-15T17:41:46.266Z"
   },
   {
    "duration": 78,
    "start_time": "2022-01-15T17:41:46.281Z"
   },
   {
    "duration": 150,
    "start_time": "2022-01-15T17:41:46.360Z"
   },
   {
    "duration": 107,
    "start_time": "2022-01-15T17:41:46.512Z"
   },
   {
    "duration": 110,
    "start_time": "2022-01-15T17:41:46.621Z"
   },
   {
    "duration": 44,
    "start_time": "2022-01-15T17:41:46.732Z"
   },
   {
    "duration": 121,
    "start_time": "2022-01-15T17:41:46.778Z"
   },
   {
    "duration": 60,
    "start_time": "2022-01-15T17:41:46.901Z"
   },
   {
    "duration": 50,
    "start_time": "2022-01-15T17:41:46.962Z"
   },
   {
    "duration": 153,
    "start_time": "2022-01-15T17:41:47.013Z"
   },
   {
    "duration": 78,
    "start_time": "2022-01-15T17:41:47.168Z"
   },
   {
    "duration": 3,
    "start_time": "2022-01-15T17:42:06.068Z"
   },
   {
    "duration": 426,
    "start_time": "2022-01-15T17:42:06.073Z"
   },
   {
    "duration": 23,
    "start_time": "2022-01-15T17:42:06.501Z"
   },
   {
    "duration": 12,
    "start_time": "2022-01-15T17:42:06.526Z"
   },
   {
    "duration": 24,
    "start_time": "2022-01-15T17:42:06.539Z"
   },
   {
    "duration": 10,
    "start_time": "2022-01-15T17:42:06.565Z"
   },
   {
    "duration": 19,
    "start_time": "2022-01-15T17:42:06.576Z"
   },
   {
    "duration": 8,
    "start_time": "2022-01-15T17:42:06.598Z"
   },
   {
    "duration": 12,
    "start_time": "2022-01-15T17:42:06.608Z"
   },
   {
    "duration": 24,
    "start_time": "2022-01-15T17:42:06.622Z"
   },
   {
    "duration": 10,
    "start_time": "2022-01-15T17:42:06.648Z"
   },
   {
    "duration": 24,
    "start_time": "2022-01-15T17:42:06.659Z"
   },
   {
    "duration": 71,
    "start_time": "2022-01-15T17:42:06.684Z"
   },
   {
    "duration": 155,
    "start_time": "2022-01-15T17:42:06.757Z"
   },
   {
    "duration": 111,
    "start_time": "2022-01-15T17:42:06.914Z"
   },
   {
    "duration": 139,
    "start_time": "2022-01-15T17:42:07.027Z"
   },
   {
    "duration": 51,
    "start_time": "2022-01-15T17:42:07.168Z"
   },
   {
    "duration": 130,
    "start_time": "2022-01-15T17:42:07.222Z"
   },
   {
    "duration": 57,
    "start_time": "2022-01-15T17:42:07.353Z"
   },
   {
    "duration": 70,
    "start_time": "2022-01-15T17:42:07.412Z"
   },
   {
    "duration": 30,
    "start_time": "2022-01-15T17:42:07.484Z"
   },
   {
    "duration": 4079,
    "start_time": "2022-01-15T17:42:07.516Z"
   },
   {
    "duration": 432,
    "start_time": "2022-01-15T17:42:46.997Z"
   },
   {
    "duration": 3,
    "start_time": "2022-01-15T17:42:51.079Z"
   },
   {
    "duration": 414,
    "start_time": "2022-01-15T17:42:51.085Z"
   },
   {
    "duration": 23,
    "start_time": "2022-01-15T17:42:51.501Z"
   },
   {
    "duration": 8,
    "start_time": "2022-01-15T17:42:51.526Z"
   },
   {
    "duration": 21,
    "start_time": "2022-01-15T17:42:51.535Z"
   },
   {
    "duration": 8,
    "start_time": "2022-01-15T17:42:51.558Z"
   },
   {
    "duration": 16,
    "start_time": "2022-01-15T17:42:51.568Z"
   },
   {
    "duration": 6,
    "start_time": "2022-01-15T17:42:51.587Z"
   },
   {
    "duration": 7,
    "start_time": "2022-01-15T17:42:51.596Z"
   },
   {
    "duration": 38,
    "start_time": "2022-01-15T17:42:51.604Z"
   },
   {
    "duration": 9,
    "start_time": "2022-01-15T17:42:51.644Z"
   },
   {
    "duration": 14,
    "start_time": "2022-01-15T17:42:51.654Z"
   },
   {
    "duration": 91,
    "start_time": "2022-01-15T17:42:51.669Z"
   },
   {
    "duration": 150,
    "start_time": "2022-01-15T17:42:51.761Z"
   },
   {
    "duration": 105,
    "start_time": "2022-01-15T17:42:51.913Z"
   },
   {
    "duration": 107,
    "start_time": "2022-01-15T17:42:52.020Z"
   },
   {
    "duration": 46,
    "start_time": "2022-01-15T17:42:52.129Z"
   },
   {
    "duration": 126,
    "start_time": "2022-01-15T17:42:52.177Z"
   },
   {
    "duration": 60,
    "start_time": "2022-01-15T17:42:52.305Z"
   },
   {
    "duration": 53,
    "start_time": "2022-01-15T17:42:52.367Z"
   },
   {
    "duration": 49,
    "start_time": "2022-01-15T17:42:52.422Z"
   },
   {
    "duration": 428,
    "start_time": "2022-01-15T17:42:52.472Z"
   },
   {
    "duration": 3,
    "start_time": "2022-01-15T17:43:13.370Z"
   },
   {
    "duration": 416,
    "start_time": "2022-01-15T17:43:13.375Z"
   },
   {
    "duration": 23,
    "start_time": "2022-01-15T17:43:13.793Z"
   },
   {
    "duration": 16,
    "start_time": "2022-01-15T17:43:13.818Z"
   },
   {
    "duration": 37,
    "start_time": "2022-01-15T17:43:13.836Z"
   },
   {
    "duration": 16,
    "start_time": "2022-01-15T17:43:13.876Z"
   },
   {
    "duration": 26,
    "start_time": "2022-01-15T17:43:13.894Z"
   },
   {
    "duration": 17,
    "start_time": "2022-01-15T17:43:13.923Z"
   },
   {
    "duration": 9,
    "start_time": "2022-01-15T17:43:13.942Z"
   },
   {
    "duration": 19,
    "start_time": "2022-01-15T17:43:13.952Z"
   },
   {
    "duration": 8,
    "start_time": "2022-01-15T17:43:13.972Z"
   },
   {
    "duration": 11,
    "start_time": "2022-01-15T17:43:13.982Z"
   },
   {
    "duration": 75,
    "start_time": "2022-01-15T17:43:13.995Z"
   },
   {
    "duration": 158,
    "start_time": "2022-01-15T17:43:14.072Z"
   },
   {
    "duration": 110,
    "start_time": "2022-01-15T17:43:14.232Z"
   },
   {
    "duration": 101,
    "start_time": "2022-01-15T17:43:14.343Z"
   },
   {
    "duration": 43,
    "start_time": "2022-01-15T17:43:14.445Z"
   },
   {
    "duration": 135,
    "start_time": "2022-01-15T17:43:14.490Z"
   },
   {
    "duration": 54,
    "start_time": "2022-01-15T17:43:14.627Z"
   },
   {
    "duration": 48,
    "start_time": "2022-01-15T17:43:14.683Z"
   },
   {
    "duration": 34,
    "start_time": "2022-01-15T17:43:14.741Z"
   },
   {
    "duration": 1085,
    "start_time": "2022-01-15T17:43:14.777Z"
   },
   {
    "duration": 441,
    "start_time": "2022-01-15T17:45:18.590Z"
   },
   {
    "duration": 429,
    "start_time": "2022-01-15T17:45:35.081Z"
   },
   {
    "duration": 3,
    "start_time": "2022-01-15T17:45:50.285Z"
   },
   {
    "duration": 379,
    "start_time": "2022-01-15T17:45:50.290Z"
   },
   {
    "duration": 20,
    "start_time": "2022-01-15T17:45:50.672Z"
   },
   {
    "duration": 7,
    "start_time": "2022-01-15T17:45:50.694Z"
   },
   {
    "duration": 19,
    "start_time": "2022-01-15T17:45:50.702Z"
   },
   {
    "duration": 9,
    "start_time": "2022-01-15T17:45:50.722Z"
   },
   {
    "duration": 16,
    "start_time": "2022-01-15T17:45:50.733Z"
   },
   {
    "duration": 6,
    "start_time": "2022-01-15T17:45:50.752Z"
   },
   {
    "duration": 7,
    "start_time": "2022-01-15T17:45:50.760Z"
   },
   {
    "duration": 11,
    "start_time": "2022-01-15T17:45:50.769Z"
   },
   {
    "duration": 9,
    "start_time": "2022-01-15T17:45:50.781Z"
   },
   {
    "duration": 13,
    "start_time": "2022-01-15T17:45:50.792Z"
   },
   {
    "duration": 80,
    "start_time": "2022-01-15T17:45:50.806Z"
   },
   {
    "duration": 161,
    "start_time": "2022-01-15T17:45:50.888Z"
   },
   {
    "duration": 92,
    "start_time": "2022-01-15T17:45:51.050Z"
   },
   {
    "duration": 98,
    "start_time": "2022-01-15T17:45:51.144Z"
   },
   {
    "duration": 37,
    "start_time": "2022-01-15T17:45:51.243Z"
   },
   {
    "duration": 121,
    "start_time": "2022-01-15T17:45:51.281Z"
   },
   {
    "duration": 53,
    "start_time": "2022-01-15T17:45:51.403Z"
   },
   {
    "duration": 46,
    "start_time": "2022-01-15T17:45:51.458Z"
   },
   {
    "duration": 40,
    "start_time": "2022-01-15T17:45:51.505Z"
   },
   {
    "duration": 481,
    "start_time": "2022-01-15T17:45:51.547Z"
   },
   {
    "duration": 4323,
    "start_time": "2022-01-15T17:46:00.126Z"
   },
   {
    "duration": 4495,
    "start_time": "2022-01-15T17:46:54.436Z"
   },
   {
    "duration": 5184,
    "start_time": "2022-01-15T17:48:08.403Z"
   },
   {
    "duration": 3,
    "start_time": "2022-01-15T17:49:26.174Z"
   },
   {
    "duration": 427,
    "start_time": "2022-01-15T17:49:26.179Z"
   },
   {
    "duration": 27,
    "start_time": "2022-01-15T17:49:26.609Z"
   },
   {
    "duration": 8,
    "start_time": "2022-01-15T17:49:26.639Z"
   },
   {
    "duration": 22,
    "start_time": "2022-01-15T17:49:26.649Z"
   },
   {
    "duration": 9,
    "start_time": "2022-01-15T17:49:26.673Z"
   },
   {
    "duration": 19,
    "start_time": "2022-01-15T17:49:26.684Z"
   },
   {
    "duration": 37,
    "start_time": "2022-01-15T17:49:26.705Z"
   },
   {
    "duration": 7,
    "start_time": "2022-01-15T17:49:26.747Z"
   },
   {
    "duration": 10,
    "start_time": "2022-01-15T17:49:26.756Z"
   },
   {
    "duration": 9,
    "start_time": "2022-01-15T17:49:26.767Z"
   },
   {
    "duration": 12,
    "start_time": "2022-01-15T17:49:26.778Z"
   },
   {
    "duration": 109,
    "start_time": "2022-01-15T17:49:26.792Z"
   },
   {
    "duration": 164,
    "start_time": "2022-01-15T17:49:26.903Z"
   },
   {
    "duration": 120,
    "start_time": "2022-01-15T17:49:27.069Z"
   },
   {
    "duration": 110,
    "start_time": "2022-01-15T17:49:27.191Z"
   },
   {
    "duration": 50,
    "start_time": "2022-01-15T17:49:27.303Z"
   },
   {
    "duration": 131,
    "start_time": "2022-01-15T17:49:27.355Z"
   },
   {
    "duration": 57,
    "start_time": "2022-01-15T17:49:27.487Z"
   },
   {
    "duration": 51,
    "start_time": "2022-01-15T17:49:27.546Z"
   },
   {
    "duration": 49,
    "start_time": "2022-01-15T17:49:27.598Z"
   },
   {
    "duration": 12096,
    "start_time": "2022-01-15T17:49:27.649Z"
   },
   {
    "duration": 3,
    "start_time": "2022-01-15T17:49:48.310Z"
   },
   {
    "duration": 416,
    "start_time": "2022-01-15T17:49:48.314Z"
   },
   {
    "duration": 23,
    "start_time": "2022-01-15T17:49:48.732Z"
   },
   {
    "duration": 11,
    "start_time": "2022-01-15T17:49:48.757Z"
   },
   {
    "duration": 21,
    "start_time": "2022-01-15T17:49:48.769Z"
   },
   {
    "duration": 7,
    "start_time": "2022-01-15T17:49:48.792Z"
   },
   {
    "duration": 22,
    "start_time": "2022-01-15T17:49:48.802Z"
   },
   {
    "duration": 20,
    "start_time": "2022-01-15T17:49:48.826Z"
   },
   {
    "duration": 12,
    "start_time": "2022-01-15T17:49:48.848Z"
   },
   {
    "duration": 10,
    "start_time": "2022-01-15T17:49:48.861Z"
   },
   {
    "duration": 10,
    "start_time": "2022-01-15T17:49:48.872Z"
   },
   {
    "duration": 13,
    "start_time": "2022-01-15T17:49:48.884Z"
   },
   {
    "duration": 91,
    "start_time": "2022-01-15T17:49:48.899Z"
   },
   {
    "duration": 157,
    "start_time": "2022-01-15T17:49:48.992Z"
   },
   {
    "duration": 123,
    "start_time": "2022-01-15T17:49:49.151Z"
   },
   {
    "duration": 101,
    "start_time": "2022-01-15T17:49:49.276Z"
   },
   {
    "duration": 47,
    "start_time": "2022-01-15T17:49:49.379Z"
   },
   {
    "duration": 137,
    "start_time": "2022-01-15T17:49:49.427Z"
   },
   {
    "duration": 54,
    "start_time": "2022-01-15T17:49:49.567Z"
   },
   {
    "duration": 58,
    "start_time": "2022-01-15T17:49:49.623Z"
   },
   {
    "duration": 33,
    "start_time": "2022-01-15T17:49:49.683Z"
   },
   {
    "duration": 11413,
    "start_time": "2022-01-15T17:49:49.718Z"
   },
   {
    "duration": 3,
    "start_time": "2022-01-15T17:50:11.244Z"
   },
   {
    "duration": 398,
    "start_time": "2022-01-15T17:50:11.249Z"
   },
   {
    "duration": 22,
    "start_time": "2022-01-15T17:50:11.649Z"
   },
   {
    "duration": 14,
    "start_time": "2022-01-15T17:50:11.673Z"
   },
   {
    "duration": 63,
    "start_time": "2022-01-15T17:50:11.688Z"
   },
   {
    "duration": 8,
    "start_time": "2022-01-15T17:50:11.753Z"
   },
   {
    "duration": 27,
    "start_time": "2022-01-15T17:50:11.763Z"
   },
   {
    "duration": 10,
    "start_time": "2022-01-15T17:50:11.792Z"
   },
   {
    "duration": 8,
    "start_time": "2022-01-15T17:50:11.803Z"
   },
   {
    "duration": 13,
    "start_time": "2022-01-15T17:50:11.812Z"
   },
   {
    "duration": 16,
    "start_time": "2022-01-15T17:50:11.827Z"
   },
   {
    "duration": 11,
    "start_time": "2022-01-15T17:50:11.845Z"
   },
   {
    "duration": 76,
    "start_time": "2022-01-15T17:50:11.857Z"
   },
   {
    "duration": 153,
    "start_time": "2022-01-15T17:50:11.935Z"
   },
   {
    "duration": 108,
    "start_time": "2022-01-15T17:50:12.090Z"
   },
   {
    "duration": 105,
    "start_time": "2022-01-15T17:50:12.200Z"
   },
   {
    "duration": 49,
    "start_time": "2022-01-15T17:50:12.306Z"
   },
   {
    "duration": 114,
    "start_time": "2022-01-15T17:50:12.357Z"
   },
   {
    "duration": 51,
    "start_time": "2022-01-15T17:50:12.474Z"
   },
   {
    "duration": 56,
    "start_time": "2022-01-15T17:50:12.527Z"
   },
   {
    "duration": 26,
    "start_time": "2022-01-15T17:50:12.585Z"
   },
   {
    "duration": 4194,
    "start_time": "2022-01-15T17:50:12.613Z"
   },
   {
    "duration": 75,
    "start_time": "2022-01-15T17:51:07.731Z"
   },
   {
    "duration": 33,
    "start_time": "2022-01-15T17:51:43.896Z"
   },
   {
    "duration": 48,
    "start_time": "2022-01-15T17:51:47.056Z"
   },
   {
    "duration": 28,
    "start_time": "2022-01-15T17:54:46.107Z"
   },
   {
    "duration": 3,
    "start_time": "2022-01-15T17:54:53.231Z"
   },
   {
    "duration": 392,
    "start_time": "2022-01-15T17:54:53.239Z"
   },
   {
    "duration": 24,
    "start_time": "2022-01-15T17:54:53.633Z"
   },
   {
    "duration": 18,
    "start_time": "2022-01-15T17:54:53.659Z"
   },
   {
    "duration": 43,
    "start_time": "2022-01-15T17:54:53.678Z"
   },
   {
    "duration": 23,
    "start_time": "2022-01-15T17:54:53.722Z"
   },
   {
    "duration": 21,
    "start_time": "2022-01-15T17:54:53.747Z"
   },
   {
    "duration": 38,
    "start_time": "2022-01-15T17:54:53.770Z"
   },
   {
    "duration": 40,
    "start_time": "2022-01-15T17:54:53.810Z"
   },
   {
    "duration": 30,
    "start_time": "2022-01-15T17:54:53.852Z"
   },
   {
    "duration": 14,
    "start_time": "2022-01-15T17:54:53.883Z"
   },
   {
    "duration": 15,
    "start_time": "2022-01-15T17:54:53.898Z"
   },
   {
    "duration": 71,
    "start_time": "2022-01-15T17:54:53.915Z"
   },
   {
    "duration": 159,
    "start_time": "2022-01-15T17:54:53.988Z"
   },
   {
    "duration": 108,
    "start_time": "2022-01-15T17:54:54.148Z"
   },
   {
    "duration": 100,
    "start_time": "2022-01-15T17:54:54.257Z"
   },
   {
    "duration": 36,
    "start_time": "2022-01-15T17:54:54.358Z"
   },
   {
    "duration": 123,
    "start_time": "2022-01-15T17:54:54.396Z"
   },
   {
    "duration": 63,
    "start_time": "2022-01-15T17:54:54.520Z"
   },
   {
    "duration": 57,
    "start_time": "2022-01-15T17:54:54.585Z"
   },
   {
    "duration": 23,
    "start_time": "2022-01-15T17:54:54.643Z"
   },
   {
    "duration": 43,
    "start_time": "2022-01-15T17:54:54.668Z"
   },
   {
    "duration": 3,
    "start_time": "2022-01-15T18:02:38.094Z"
   },
   {
    "duration": 393,
    "start_time": "2022-01-15T18:02:38.098Z"
   },
   {
    "duration": 21,
    "start_time": "2022-01-15T18:02:38.493Z"
   },
   {
    "duration": 7,
    "start_time": "2022-01-15T18:02:38.517Z"
   },
   {
    "duration": 33,
    "start_time": "2022-01-15T18:02:38.525Z"
   },
   {
    "duration": 7,
    "start_time": "2022-01-15T18:02:38.559Z"
   },
   {
    "duration": 27,
    "start_time": "2022-01-15T18:02:38.567Z"
   },
   {
    "duration": 14,
    "start_time": "2022-01-15T18:02:38.596Z"
   },
   {
    "duration": 11,
    "start_time": "2022-01-15T18:02:38.612Z"
   },
   {
    "duration": 14,
    "start_time": "2022-01-15T18:02:38.624Z"
   },
   {
    "duration": 12,
    "start_time": "2022-01-15T18:02:38.639Z"
   },
   {
    "duration": 22,
    "start_time": "2022-01-15T18:02:38.652Z"
   },
   {
    "duration": 91,
    "start_time": "2022-01-15T18:02:38.676Z"
   },
   {
    "duration": 146,
    "start_time": "2022-01-15T18:02:38.768Z"
   },
   {
    "duration": 96,
    "start_time": "2022-01-15T18:02:38.915Z"
   },
   {
    "duration": 100,
    "start_time": "2022-01-15T18:02:39.013Z"
   },
   {
    "duration": 45,
    "start_time": "2022-01-15T18:02:39.115Z"
   },
   {
    "duration": 122,
    "start_time": "2022-01-15T18:02:39.161Z"
   },
   {
    "duration": 44,
    "start_time": "2022-01-15T18:02:39.284Z"
   },
   {
    "duration": 54,
    "start_time": "2022-01-15T18:02:39.330Z"
   },
   {
    "duration": 20,
    "start_time": "2022-01-15T18:02:39.385Z"
   },
   {
    "duration": 5801,
    "start_time": "2022-01-15T18:02:39.406Z"
   },
   {
    "duration": 4,
    "start_time": "2022-01-15T18:03:11.948Z"
   },
   {
    "duration": 381,
    "start_time": "2022-01-15T18:03:11.953Z"
   },
   {
    "duration": 22,
    "start_time": "2022-01-15T18:03:12.336Z"
   },
   {
    "duration": 6,
    "start_time": "2022-01-15T18:03:12.360Z"
   },
   {
    "duration": 18,
    "start_time": "2022-01-15T18:03:12.368Z"
   },
   {
    "duration": 7,
    "start_time": "2022-01-15T18:03:12.388Z"
   },
   {
    "duration": 14,
    "start_time": "2022-01-15T18:03:12.397Z"
   },
   {
    "duration": 30,
    "start_time": "2022-01-15T18:03:12.412Z"
   },
   {
    "duration": 8,
    "start_time": "2022-01-15T18:03:12.444Z"
   },
   {
    "duration": 9,
    "start_time": "2022-01-15T18:03:12.453Z"
   },
   {
    "duration": 8,
    "start_time": "2022-01-15T18:03:12.463Z"
   },
   {
    "duration": 12,
    "start_time": "2022-01-15T18:03:12.472Z"
   },
   {
    "duration": 80,
    "start_time": "2022-01-15T18:03:12.485Z"
   },
   {
    "duration": 144,
    "start_time": "2022-01-15T18:03:12.567Z"
   },
   {
    "duration": 93,
    "start_time": "2022-01-15T18:03:12.713Z"
   },
   {
    "duration": 97,
    "start_time": "2022-01-15T18:03:12.807Z"
   },
   {
    "duration": 43,
    "start_time": "2022-01-15T18:03:12.906Z"
   },
   {
    "duration": 108,
    "start_time": "2022-01-15T18:03:12.951Z"
   },
   {
    "duration": 47,
    "start_time": "2022-01-15T18:03:13.062Z"
   },
   {
    "duration": 64,
    "start_time": "2022-01-15T18:03:13.110Z"
   },
   {
    "duration": 19,
    "start_time": "2022-01-15T18:03:13.175Z"
   },
   {
    "duration": 5979,
    "start_time": "2022-01-15T18:03:13.196Z"
   },
   {
    "duration": 31,
    "start_time": "2022-01-15T18:05:33.628Z"
   },
   {
    "duration": 246,
    "start_time": "2022-01-15T18:25:42.375Z"
   },
   {
    "duration": 225,
    "start_time": "2022-01-15T18:25:49.351Z"
   },
   {
    "duration": 316,
    "start_time": "2022-01-15T18:26:17.922Z"
   },
   {
    "duration": 6,
    "start_time": "2022-01-15T18:26:23.588Z"
   },
   {
    "duration": 415,
    "start_time": "2022-01-15T18:26:23.597Z"
   },
   {
    "duration": 21,
    "start_time": "2022-01-15T18:26:24.014Z"
   },
   {
    "duration": 8,
    "start_time": "2022-01-15T18:26:24.037Z"
   },
   {
    "duration": 20,
    "start_time": "2022-01-15T18:26:24.046Z"
   },
   {
    "duration": 7,
    "start_time": "2022-01-15T18:26:24.067Z"
   },
   {
    "duration": 20,
    "start_time": "2022-01-15T18:26:24.076Z"
   },
   {
    "duration": 5,
    "start_time": "2022-01-15T18:26:24.099Z"
   },
   {
    "duration": 8,
    "start_time": "2022-01-15T18:26:24.106Z"
   },
   {
    "duration": 27,
    "start_time": "2022-01-15T18:26:24.115Z"
   },
   {
    "duration": 9,
    "start_time": "2022-01-15T18:26:24.144Z"
   },
   {
    "duration": 19,
    "start_time": "2022-01-15T18:26:24.154Z"
   },
   {
    "duration": 82,
    "start_time": "2022-01-15T18:26:24.174Z"
   },
   {
    "duration": 147,
    "start_time": "2022-01-15T18:26:24.257Z"
   },
   {
    "duration": 3,
    "start_time": "2022-01-15T18:26:24.406Z"
   },
   {
    "duration": 112,
    "start_time": "2022-01-15T18:26:24.410Z"
   },
   {
    "duration": 94,
    "start_time": "2022-01-15T18:26:24.523Z"
   },
   {
    "duration": 45,
    "start_time": "2022-01-15T18:26:24.619Z"
   },
   {
    "duration": 119,
    "start_time": "2022-01-15T18:26:24.665Z"
   },
   {
    "duration": 43,
    "start_time": "2022-01-15T18:26:24.786Z"
   },
   {
    "duration": 55,
    "start_time": "2022-01-15T18:26:24.831Z"
   },
   {
    "duration": 20,
    "start_time": "2022-01-15T18:26:24.887Z"
   },
   {
    "duration": 41,
    "start_time": "2022-01-15T18:26:24.910Z"
   },
   {
    "duration": 405,
    "start_time": "2022-01-15T18:26:24.953Z"
   },
   {
    "duration": 11,
    "start_time": "2022-01-15T18:27:58.919Z"
   },
   {
    "duration": 12,
    "start_time": "2022-01-15T18:29:03.785Z"
   },
   {
    "duration": 3,
    "start_time": "2022-01-15T18:30:33.765Z"
   },
   {
    "duration": 390,
    "start_time": "2022-01-15T18:30:33.771Z"
   },
   {
    "duration": 26,
    "start_time": "2022-01-15T18:30:34.163Z"
   },
   {
    "duration": 8,
    "start_time": "2022-01-15T18:30:34.192Z"
   },
   {
    "duration": 19,
    "start_time": "2022-01-15T18:30:34.202Z"
   },
   {
    "duration": 8,
    "start_time": "2022-01-15T18:30:34.223Z"
   },
   {
    "duration": 16,
    "start_time": "2022-01-15T18:30:34.241Z"
   },
   {
    "duration": 7,
    "start_time": "2022-01-15T18:30:34.259Z"
   },
   {
    "duration": 8,
    "start_time": "2022-01-15T18:30:34.269Z"
   },
   {
    "duration": 12,
    "start_time": "2022-01-15T18:30:34.280Z"
   },
   {
    "duration": 10,
    "start_time": "2022-01-15T18:30:34.293Z"
   },
   {
    "duration": 42,
    "start_time": "2022-01-15T18:30:34.305Z"
   },
   {
    "duration": 67,
    "start_time": "2022-01-15T18:30:34.348Z"
   },
   {
    "duration": 170,
    "start_time": "2022-01-15T18:30:34.417Z"
   },
   {
    "duration": 10,
    "start_time": "2022-01-15T18:30:34.588Z"
   },
   {
    "duration": 150,
    "start_time": "2022-01-15T18:30:34.600Z"
   },
   {
    "duration": 176,
    "start_time": "2022-01-15T18:30:34.753Z"
   },
   {
    "duration": 60,
    "start_time": "2022-01-15T18:30:34.932Z"
   },
   {
    "duration": 204,
    "start_time": "2022-01-15T18:30:34.994Z"
   },
   {
    "duration": 65,
    "start_time": "2022-01-15T18:30:35.200Z"
   },
   {
    "duration": 51,
    "start_time": "2022-01-15T18:30:35.266Z"
   },
   {
    "duration": 41,
    "start_time": "2022-01-15T18:30:35.319Z"
   },
   {
    "duration": 30,
    "start_time": "2022-01-15T18:30:35.362Z"
   },
   {
    "duration": 397,
    "start_time": "2022-01-15T18:30:35.395Z"
   },
   {
    "duration": 204,
    "start_time": "2022-01-15T18:31:24.884Z"
   },
   {
    "duration": 192,
    "start_time": "2022-01-15T18:35:15.953Z"
   },
   {
    "duration": 198,
    "start_time": "2022-01-15T18:38:59.651Z"
   },
   {
    "duration": 4,
    "start_time": "2022-01-15T18:44:50.462Z"
   },
   {
    "duration": 408,
    "start_time": "2022-01-15T18:44:50.468Z"
   },
   {
    "duration": 24,
    "start_time": "2022-01-15T18:44:50.878Z"
   },
   {
    "duration": 26,
    "start_time": "2022-01-15T18:44:50.904Z"
   },
   {
    "duration": 49,
    "start_time": "2022-01-15T18:44:50.932Z"
   },
   {
    "duration": 8,
    "start_time": "2022-01-15T18:44:50.983Z"
   },
   {
    "duration": 42,
    "start_time": "2022-01-15T18:44:50.993Z"
   },
   {
    "duration": 12,
    "start_time": "2022-01-15T18:44:51.037Z"
   },
   {
    "duration": 16,
    "start_time": "2022-01-15T18:44:51.051Z"
   },
   {
    "duration": 21,
    "start_time": "2022-01-15T18:44:51.069Z"
   },
   {
    "duration": 10,
    "start_time": "2022-01-15T18:44:51.092Z"
   },
   {
    "duration": 16,
    "start_time": "2022-01-15T18:44:51.103Z"
   },
   {
    "duration": 77,
    "start_time": "2022-01-15T18:44:51.120Z"
   },
   {
    "duration": 154,
    "start_time": "2022-01-15T18:44:51.198Z"
   },
   {
    "duration": 9,
    "start_time": "2022-01-15T18:44:51.353Z"
   },
   {
    "duration": 118,
    "start_time": "2022-01-15T18:44:51.363Z"
   },
   {
    "duration": 104,
    "start_time": "2022-01-15T18:44:51.483Z"
   },
   {
    "duration": 39,
    "start_time": "2022-01-15T18:44:51.589Z"
   },
   {
    "duration": 125,
    "start_time": "2022-01-15T18:44:51.640Z"
   },
   {
    "duration": 51,
    "start_time": "2022-01-15T18:44:51.767Z"
   },
   {
    "duration": 66,
    "start_time": "2022-01-15T18:44:51.820Z"
   },
   {
    "duration": 25,
    "start_time": "2022-01-15T18:44:51.888Z"
   },
   {
    "duration": 45,
    "start_time": "2022-01-15T18:44:51.915Z"
   },
   {
    "duration": 230,
    "start_time": "2022-01-15T18:44:51.961Z"
   },
   {
    "duration": 3,
    "start_time": "2022-01-15T18:48:21.469Z"
   },
   {
    "duration": 385,
    "start_time": "2022-01-15T18:48:21.474Z"
   },
   {
    "duration": 22,
    "start_time": "2022-01-15T18:48:21.860Z"
   },
   {
    "duration": 19,
    "start_time": "2022-01-15T18:48:21.884Z"
   },
   {
    "duration": 31,
    "start_time": "2022-01-15T18:48:21.905Z"
   },
   {
    "duration": 22,
    "start_time": "2022-01-15T18:48:21.938Z"
   },
   {
    "duration": 29,
    "start_time": "2022-01-15T18:48:21.962Z"
   },
   {
    "duration": 39,
    "start_time": "2022-01-15T18:48:21.993Z"
   },
   {
    "duration": 24,
    "start_time": "2022-01-15T18:48:22.033Z"
   },
   {
    "duration": 41,
    "start_time": "2022-01-15T18:48:22.058Z"
   },
   {
    "duration": 24,
    "start_time": "2022-01-15T18:48:22.101Z"
   },
   {
    "duration": 13,
    "start_time": "2022-01-15T18:48:22.128Z"
   },
   {
    "duration": 83,
    "start_time": "2022-01-15T18:48:22.143Z"
   },
   {
    "duration": 26,
    "start_time": "2022-01-15T18:48:22.228Z"
   },
   {
    "duration": 13,
    "start_time": "2022-01-15T18:48:22.256Z"
   },
   {
    "duration": 59,
    "start_time": "2022-01-15T18:48:22.271Z"
   },
   {
    "duration": 18,
    "start_time": "2022-01-15T18:48:22.331Z"
   },
   {
    "duration": 16,
    "start_time": "2022-01-15T18:48:22.351Z"
   },
   {
    "duration": 22,
    "start_time": "2022-01-15T18:48:22.370Z"
   },
   {
    "duration": 47,
    "start_time": "2022-01-15T18:48:22.394Z"
   },
   {
    "duration": 32,
    "start_time": "2022-01-15T18:48:22.443Z"
   },
   {
    "duration": 18,
    "start_time": "2022-01-15T18:48:22.476Z"
   },
   {
    "duration": 35,
    "start_time": "2022-01-15T18:48:22.495Z"
   },
   {
    "duration": 215,
    "start_time": "2022-01-15T18:48:22.531Z"
   },
   {
    "duration": 1505,
    "start_time": "2022-01-16T09:15:30.576Z"
   },
   {
    "duration": 589,
    "start_time": "2022-01-16T09:15:32.084Z"
   },
   {
    "duration": 28,
    "start_time": "2022-01-16T09:15:32.677Z"
   },
   {
    "duration": 16,
    "start_time": "2022-01-16T09:15:32.708Z"
   },
   {
    "duration": 24,
    "start_time": "2022-01-16T09:15:32.726Z"
   },
   {
    "duration": 12,
    "start_time": "2022-01-16T09:15:32.752Z"
   },
   {
    "duration": 51,
    "start_time": "2022-01-16T09:15:32.767Z"
   },
   {
    "duration": 12,
    "start_time": "2022-01-16T09:15:32.822Z"
   },
   {
    "duration": 10,
    "start_time": "2022-01-16T09:15:32.840Z"
   },
   {
    "duration": 53,
    "start_time": "2022-01-16T09:15:32.854Z"
   },
   {
    "duration": 13,
    "start_time": "2022-01-16T09:15:32.910Z"
   },
   {
    "duration": 18,
    "start_time": "2022-01-16T09:15:32.926Z"
   },
   {
    "duration": 143,
    "start_time": "2022-01-16T09:15:32.946Z"
   },
   {
    "duration": 41,
    "start_time": "2022-01-16T09:15:33.100Z"
   },
   {
    "duration": 15,
    "start_time": "2022-01-16T09:15:33.143Z"
   },
   {
    "duration": 107,
    "start_time": "2022-01-16T09:15:33.160Z"
   },
   {
    "duration": 37,
    "start_time": "2022-01-16T09:15:33.270Z"
   },
   {
    "duration": 29,
    "start_time": "2022-01-16T09:15:33.309Z"
   },
   {
    "duration": 34,
    "start_time": "2022-01-16T09:15:33.341Z"
   },
   {
    "duration": 36,
    "start_time": "2022-01-16T09:15:33.400Z"
   },
   {
    "duration": 80,
    "start_time": "2022-01-16T09:15:33.438Z"
   },
   {
    "duration": 32,
    "start_time": "2022-01-16T09:15:33.520Z"
   },
   {
    "duration": 68,
    "start_time": "2022-01-16T09:15:33.554Z"
   },
   {
    "duration": 390,
    "start_time": "2022-01-16T09:15:33.624Z"
   },
   {
    "duration": 140,
    "start_time": "2022-01-16T09:15:34.016Z"
   },
   {
    "duration": 5,
    "start_time": "2022-01-16T09:15:53.446Z"
   },
   {
    "duration": 591,
    "start_time": "2022-01-16T09:15:53.454Z"
   },
   {
    "duration": 27,
    "start_time": "2022-01-16T09:15:54.048Z"
   },
   {
    "duration": 28,
    "start_time": "2022-01-16T09:15:54.078Z"
   },
   {
    "duration": 52,
    "start_time": "2022-01-16T09:15:54.108Z"
   },
   {
    "duration": 11,
    "start_time": "2022-01-16T09:15:54.163Z"
   },
   {
    "duration": 40,
    "start_time": "2022-01-16T09:15:54.176Z"
   },
   {
    "duration": 33,
    "start_time": "2022-01-16T09:15:54.219Z"
   },
   {
    "duration": 29,
    "start_time": "2022-01-16T09:15:54.256Z"
   },
   {
    "duration": 41,
    "start_time": "2022-01-16T09:15:54.287Z"
   },
   {
    "duration": 19,
    "start_time": "2022-01-16T09:15:54.330Z"
   },
   {
    "duration": 36,
    "start_time": "2022-01-16T09:15:54.351Z"
   },
   {
    "duration": 100,
    "start_time": "2022-01-16T09:15:54.390Z"
   },
   {
    "duration": 44,
    "start_time": "2022-01-16T09:15:54.493Z"
   },
   {
    "duration": 13,
    "start_time": "2022-01-16T09:15:54.539Z"
   },
   {
    "duration": 94,
    "start_time": "2022-01-16T09:15:54.555Z"
   },
   {
    "duration": 30,
    "start_time": "2022-01-16T09:15:54.651Z"
   },
   {
    "duration": 29,
    "start_time": "2022-01-16T09:15:54.700Z"
   },
   {
    "duration": 35,
    "start_time": "2022-01-16T09:15:54.731Z"
   },
   {
    "duration": 58,
    "start_time": "2022-01-16T09:15:54.768Z"
   },
   {
    "duration": 73,
    "start_time": "2022-01-16T09:15:54.829Z"
   },
   {
    "duration": 30,
    "start_time": "2022-01-16T09:15:54.904Z"
   },
   {
    "duration": 64,
    "start_time": "2022-01-16T09:15:54.936Z"
   },
   {
    "duration": 391,
    "start_time": "2022-01-16T09:15:55.003Z"
   },
   {
    "duration": 141,
    "start_time": "2022-01-16T09:15:55.401Z"
   },
   {
    "duration": 2075,
    "start_time": "2022-01-16T09:16:06.195Z"
   },
   {
    "duration": 27,
    "start_time": "2022-01-16T09:16:50.083Z"
   },
   {
    "duration": 12,
    "start_time": "2022-01-16T09:17:05.041Z"
   },
   {
    "duration": 28,
    "start_time": "2022-01-16T09:17:21.831Z"
   },
   {
    "duration": 9906,
    "start_time": "2022-01-16T09:19:48.359Z"
   },
   {
    "duration": 31,
    "start_time": "2022-01-16T09:20:12.805Z"
   },
   {
    "duration": 411,
    "start_time": "2022-01-16T09:27:31.958Z"
   },
   {
    "duration": 31,
    "start_time": "2022-01-16T09:28:00.518Z"
   },
   {
    "duration": 471,
    "start_time": "2022-01-16T09:28:16.842Z"
   },
   {
    "duration": 55,
    "start_time": "2022-01-16T09:29:44.301Z"
   },
   {
    "duration": 5,
    "start_time": "2022-01-16T09:29:53.242Z"
   },
   {
    "duration": 557,
    "start_time": "2022-01-16T09:29:53.250Z"
   },
   {
    "duration": 29,
    "start_time": "2022-01-16T09:29:53.810Z"
   },
   {
    "duration": 14,
    "start_time": "2022-01-16T09:29:53.843Z"
   },
   {
    "duration": 51,
    "start_time": "2022-01-16T09:29:53.860Z"
   },
   {
    "duration": 13,
    "start_time": "2022-01-16T09:29:53.914Z"
   },
   {
    "duration": 23,
    "start_time": "2022-01-16T09:29:53.929Z"
   },
   {
    "duration": 11,
    "start_time": "2022-01-16T09:29:53.957Z"
   },
   {
    "duration": 11,
    "start_time": "2022-01-16T09:29:54.003Z"
   },
   {
    "duration": 15,
    "start_time": "2022-01-16T09:29:54.018Z"
   },
   {
    "duration": 10,
    "start_time": "2022-01-16T09:29:54.036Z"
   },
   {
    "duration": 59,
    "start_time": "2022-01-16T09:29:54.049Z"
   },
   {
    "duration": 118,
    "start_time": "2022-01-16T09:29:54.111Z"
   },
   {
    "duration": 54,
    "start_time": "2022-01-16T09:29:54.232Z"
   },
   {
    "duration": 20,
    "start_time": "2022-01-16T09:29:54.301Z"
   },
   {
    "duration": 119,
    "start_time": "2022-01-16T09:29:54.324Z"
   },
   {
    "duration": 29,
    "start_time": "2022-01-16T09:29:54.445Z"
   },
   {
    "duration": 50,
    "start_time": "2022-01-16T09:29:54.477Z"
   },
   {
    "duration": 35,
    "start_time": "2022-01-16T09:29:54.529Z"
   },
   {
    "duration": 60,
    "start_time": "2022-01-16T09:29:54.566Z"
   },
   {
    "duration": 73,
    "start_time": "2022-01-16T09:29:54.629Z"
   },
   {
    "duration": 32,
    "start_time": "2022-01-16T09:29:54.706Z"
   },
   {
    "duration": 68,
    "start_time": "2022-01-16T09:29:54.743Z"
   },
   {
    "duration": 427,
    "start_time": "2022-01-16T09:29:54.815Z"
   },
   {
    "duration": 69,
    "start_time": "2022-01-16T09:29:55.245Z"
   },
   {
    "duration": 458,
    "start_time": "2022-01-16T09:30:04.822Z"
   },
   {
    "duration": 4,
    "start_time": "2022-01-16T09:30:11.984Z"
   },
   {
    "duration": 559,
    "start_time": "2022-01-16T09:30:11.991Z"
   },
   {
    "duration": 29,
    "start_time": "2022-01-16T09:30:12.553Z"
   },
   {
    "duration": 12,
    "start_time": "2022-01-16T09:30:12.584Z"
   },
   {
    "duration": 23,
    "start_time": "2022-01-16T09:30:12.601Z"
   },
   {
    "duration": 12,
    "start_time": "2022-01-16T09:30:12.626Z"
   },
   {
    "duration": 20,
    "start_time": "2022-01-16T09:30:12.641Z"
   },
   {
    "duration": 43,
    "start_time": "2022-01-16T09:30:12.665Z"
   },
   {
    "duration": 9,
    "start_time": "2022-01-16T09:30:12.713Z"
   },
   {
    "duration": 13,
    "start_time": "2022-01-16T09:30:12.724Z"
   },
   {
    "duration": 12,
    "start_time": "2022-01-16T09:30:12.740Z"
   },
   {
    "duration": 16,
    "start_time": "2022-01-16T09:30:12.800Z"
   },
   {
    "duration": 115,
    "start_time": "2022-01-16T09:30:12.818Z"
   },
   {
    "duration": 41,
    "start_time": "2022-01-16T09:30:12.936Z"
   },
   {
    "duration": 32,
    "start_time": "2022-01-16T09:30:12.980Z"
   },
   {
    "duration": 94,
    "start_time": "2022-01-16T09:30:13.015Z"
   },
   {
    "duration": 29,
    "start_time": "2022-01-16T09:30:13.112Z"
   },
   {
    "duration": 29,
    "start_time": "2022-01-16T09:30:13.143Z"
   },
   {
    "duration": 34,
    "start_time": "2022-01-16T09:30:13.200Z"
   },
   {
    "duration": 34,
    "start_time": "2022-01-16T09:30:13.236Z"
   },
   {
    "duration": 76,
    "start_time": "2022-01-16T09:30:13.273Z"
   },
   {
    "duration": 56,
    "start_time": "2022-01-16T09:30:13.351Z"
   },
   {
    "duration": 43,
    "start_time": "2022-01-16T09:30:13.411Z"
   },
   {
    "duration": 400,
    "start_time": "2022-01-16T09:30:13.457Z"
   },
   {
    "duration": 78,
    "start_time": "2022-01-16T09:30:13.860Z"
   },
   {
    "duration": 12,
    "start_time": "2022-01-16T09:50:25.528Z"
   },
   {
    "duration": 4,
    "start_time": "2022-01-16T09:51:26.171Z"
   },
   {
    "duration": 558,
    "start_time": "2022-01-16T09:51:26.178Z"
   },
   {
    "duration": 28,
    "start_time": "2022-01-16T09:51:26.739Z"
   },
   {
    "duration": 12,
    "start_time": "2022-01-16T09:51:26.771Z"
   },
   {
    "duration": 30,
    "start_time": "2022-01-16T09:51:26.786Z"
   },
   {
    "duration": 14,
    "start_time": "2022-01-16T09:51:26.819Z"
   },
   {
    "duration": 27,
    "start_time": "2022-01-16T09:51:26.836Z"
   },
   {
    "duration": 11,
    "start_time": "2022-01-16T09:51:26.901Z"
   },
   {
    "duration": 9,
    "start_time": "2022-01-16T09:51:26.917Z"
   },
   {
    "duration": 14,
    "start_time": "2022-01-16T09:51:26.929Z"
   },
   {
    "duration": 10,
    "start_time": "2022-01-16T09:51:26.945Z"
   },
   {
    "duration": 16,
    "start_time": "2022-01-16T09:51:26.999Z"
   },
   {
    "duration": 111,
    "start_time": "2022-01-16T09:51:27.017Z"
   },
   {
    "duration": 40,
    "start_time": "2022-01-16T09:51:27.131Z"
   },
   {
    "duration": 35,
    "start_time": "2022-01-16T09:51:27.174Z"
   },
   {
    "duration": 60,
    "start_time": "2022-01-16T09:51:27.211Z"
   },
   {
    "duration": 46,
    "start_time": "2022-01-16T09:51:27.273Z"
   },
   {
    "duration": 27,
    "start_time": "2022-01-16T09:51:27.322Z"
   },
   {
    "duration": 62,
    "start_time": "2022-01-16T09:51:27.352Z"
   },
   {
    "duration": 31,
    "start_time": "2022-01-16T09:51:27.416Z"
   },
   {
    "duration": 74,
    "start_time": "2022-01-16T09:51:27.450Z"
   },
   {
    "duration": 31,
    "start_time": "2022-01-16T09:51:27.526Z"
   },
   {
    "duration": 67,
    "start_time": "2022-01-16T09:51:27.560Z"
   },
   {
    "duration": 419,
    "start_time": "2022-01-16T09:51:27.630Z"
   },
   {
    "duration": 15,
    "start_time": "2022-01-16T09:51:28.052Z"
   },
   {
    "duration": 11,
    "start_time": "2022-01-16T09:54:08.276Z"
   },
   {
    "duration": 11,
    "start_time": "2022-01-16T09:56:40.164Z"
   },
   {
    "duration": 11,
    "start_time": "2022-01-16T09:56:47.819Z"
   },
   {
    "duration": 7,
    "start_time": "2022-01-16T09:57:05.948Z"
   },
   {
    "duration": 11,
    "start_time": "2022-01-16T09:57:15.204Z"
   },
   {
    "duration": 14,
    "start_time": "2022-01-16T09:57:52.992Z"
   },
   {
    "duration": 10,
    "start_time": "2022-01-16T09:58:13.785Z"
   },
   {
    "duration": 4,
    "start_time": "2022-01-16T09:58:19.108Z"
   },
   {
    "duration": 594,
    "start_time": "2022-01-16T09:58:19.115Z"
   },
   {
    "duration": 27,
    "start_time": "2022-01-16T09:58:19.711Z"
   },
   {
    "duration": 11,
    "start_time": "2022-01-16T09:58:19.741Z"
   },
   {
    "duration": 46,
    "start_time": "2022-01-16T09:58:19.754Z"
   },
   {
    "duration": 12,
    "start_time": "2022-01-16T09:58:19.803Z"
   },
   {
    "duration": 22,
    "start_time": "2022-01-16T09:58:19.820Z"
   },
   {
    "duration": 12,
    "start_time": "2022-01-16T09:58:19.846Z"
   },
   {
    "duration": 51,
    "start_time": "2022-01-16T09:58:19.860Z"
   },
   {
    "duration": 15,
    "start_time": "2022-01-16T09:58:19.914Z"
   },
   {
    "duration": 14,
    "start_time": "2022-01-16T09:58:19.932Z"
   },
   {
    "duration": 58,
    "start_time": "2022-01-16T09:58:19.948Z"
   },
   {
    "duration": 123,
    "start_time": "2022-01-16T09:58:20.009Z"
   },
   {
    "duration": 41,
    "start_time": "2022-01-16T09:58:20.134Z"
   },
   {
    "duration": 35,
    "start_time": "2022-01-16T09:58:20.177Z"
   },
   {
    "duration": 60,
    "start_time": "2022-01-16T09:58:20.215Z"
   },
   {
    "duration": 45,
    "start_time": "2022-01-16T09:58:20.278Z"
   },
   {
    "duration": 26,
    "start_time": "2022-01-16T09:58:20.325Z"
   },
   {
    "duration": 64,
    "start_time": "2022-01-16T09:58:20.356Z"
   },
   {
    "duration": 32,
    "start_time": "2022-01-16T09:58:20.422Z"
   },
   {
    "duration": 79,
    "start_time": "2022-01-16T09:58:20.457Z"
   },
   {
    "duration": 31,
    "start_time": "2022-01-16T09:58:20.539Z"
   },
   {
    "duration": 63,
    "start_time": "2022-01-16T09:58:20.572Z"
   },
   {
    "duration": 399,
    "start_time": "2022-01-16T09:58:20.637Z"
   },
   {
    "duration": 10,
    "start_time": "2022-01-16T09:58:21.038Z"
   },
   {
    "duration": 11,
    "start_time": "2022-01-16T09:58:29.854Z"
   },
   {
    "duration": 7,
    "start_time": "2022-01-16T09:59:01.266Z"
   },
   {
    "duration": 15,
    "start_time": "2022-01-16T10:15:25.366Z"
   },
   {
    "duration": 20,
    "start_time": "2022-01-16T10:15:53.618Z"
   },
   {
    "duration": 22,
    "start_time": "2022-01-16T10:17:14.956Z"
   },
   {
    "duration": 31,
    "start_time": "2022-01-16T10:18:08.841Z"
   },
   {
    "duration": 21,
    "start_time": "2022-01-16T10:19:25.077Z"
   },
   {
    "duration": 399,
    "start_time": "2022-01-16T10:21:29.942Z"
   },
   {
    "duration": 39,
    "start_time": "2022-01-16T10:22:25.013Z"
   },
   {
    "duration": 34,
    "start_time": "2022-01-16T10:24:00.238Z"
   },
   {
    "duration": 59,
    "start_time": "2022-01-16T10:25:09.861Z"
   },
   {
    "duration": 406,
    "start_time": "2022-01-16T10:26:49.823Z"
   },
   {
    "duration": 401,
    "start_time": "2022-01-16T10:27:18.948Z"
   },
   {
    "duration": 461,
    "start_time": "2022-01-16T10:28:02.397Z"
   },
   {
    "duration": 374,
    "start_time": "2022-01-16T10:28:27.797Z"
   },
   {
    "duration": 75,
    "start_time": "2022-01-16T10:28:36.069Z"
   },
   {
    "duration": 50,
    "start_time": "2022-01-16T10:30:58.412Z"
   },
   {
    "duration": 410,
    "start_time": "2022-01-16T10:40:47.273Z"
   },
   {
    "duration": 8,
    "start_time": "2022-01-16T10:40:55.671Z"
   },
   {
    "duration": 425,
    "start_time": "2022-01-16T11:01:38.297Z"
   },
   {
    "duration": 290,
    "start_time": "2022-01-16T11:02:10.732Z"
   },
   {
    "duration": 1021,
    "start_time": "2022-01-16T11:02:50.832Z"
   },
   {
    "duration": 1360,
    "start_time": "2022-01-16T11:03:03.244Z"
   },
   {
    "duration": 307,
    "start_time": "2022-01-16T11:03:14.230Z"
   },
   {
    "duration": 348,
    "start_time": "2022-01-16T11:03:39.084Z"
   },
   {
    "duration": 527,
    "start_time": "2022-01-16T11:04:05.210Z"
   },
   {
    "duration": 302,
    "start_time": "2022-01-16T11:04:11.562Z"
   },
   {
    "duration": 626,
    "start_time": "2022-01-16T11:04:48.489Z"
   },
   {
    "duration": 722,
    "start_time": "2022-01-16T11:05:14.243Z"
   },
   {
    "duration": 626,
    "start_time": "2022-01-16T11:11:01.029Z"
   },
   {
    "duration": 736,
    "start_time": "2022-01-16T11:11:07.095Z"
   },
   {
    "duration": 338,
    "start_time": "2022-01-16T11:11:43.462Z"
   },
   {
    "duration": 494,
    "start_time": "2022-01-16T11:11:58.450Z"
   },
   {
    "duration": 321,
    "start_time": "2022-01-16T11:32:45.017Z"
   },
   {
    "duration": 326,
    "start_time": "2022-01-16T11:33:36.864Z"
   },
   {
    "duration": 5,
    "start_time": "2022-01-16T11:40:18.060Z"
   },
   {
    "duration": 528,
    "start_time": "2022-01-16T11:40:18.072Z"
   },
   {
    "duration": 28,
    "start_time": "2022-01-16T11:40:18.603Z"
   },
   {
    "duration": 11,
    "start_time": "2022-01-16T11:40:18.635Z"
   },
   {
    "duration": 59,
    "start_time": "2022-01-16T11:40:18.649Z"
   },
   {
    "duration": 12,
    "start_time": "2022-01-16T11:40:18.710Z"
   },
   {
    "duration": 22,
    "start_time": "2022-01-16T11:40:18.724Z"
   },
   {
    "duration": 11,
    "start_time": "2022-01-16T11:40:18.748Z"
   },
   {
    "duration": 47,
    "start_time": "2022-01-16T11:40:18.761Z"
   },
   {
    "duration": 15,
    "start_time": "2022-01-16T11:40:18.813Z"
   },
   {
    "duration": 10,
    "start_time": "2022-01-16T11:40:18.833Z"
   },
   {
    "duration": 56,
    "start_time": "2022-01-16T11:40:18.846Z"
   },
   {
    "duration": 9,
    "start_time": "2022-01-16T11:40:18.906Z"
   },
   {
    "duration": 137,
    "start_time": "2022-01-16T11:40:18.917Z"
   },
   {
    "duration": 54,
    "start_time": "2022-01-16T11:40:19.057Z"
   },
   {
    "duration": 20,
    "start_time": "2022-01-16T11:40:19.114Z"
   },
   {
    "duration": 79,
    "start_time": "2022-01-16T11:40:19.137Z"
   },
   {
    "duration": 31,
    "start_time": "2022-01-16T11:40:19.218Z"
   },
   {
    "duration": 54,
    "start_time": "2022-01-16T11:40:19.252Z"
   },
   {
    "duration": 34,
    "start_time": "2022-01-16T11:40:19.308Z"
   },
   {
    "duration": 30,
    "start_time": "2022-01-16T11:40:19.345Z"
   },
   {
    "duration": 55,
    "start_time": "2022-01-16T11:40:19.401Z"
   },
   {
    "duration": 56,
    "start_time": "2022-01-16T11:40:19.458Z"
   },
   {
    "duration": 44,
    "start_time": "2022-01-16T11:40:19.516Z"
   },
   {
    "duration": 401,
    "start_time": "2022-01-16T11:40:19.564Z"
   },
   {
    "duration": 63,
    "start_time": "2022-01-16T11:40:19.967Z"
   },
   {
    "duration": 426,
    "start_time": "2022-01-16T11:40:20.033Z"
   },
   {
    "duration": 365,
    "start_time": "2022-01-16T11:40:20.463Z"
   },
   {
    "duration": 652,
    "start_time": "2022-01-16T11:40:38.927Z"
   },
   {
    "duration": 672,
    "start_time": "2022-01-16T11:41:03.680Z"
   },
   {
    "duration": 733,
    "start_time": "2022-01-16T11:41:15.868Z"
   },
   {
    "duration": 708,
    "start_time": "2022-01-16T11:43:59.448Z"
   },
   {
    "duration": 3,
    "start_time": "2022-01-16T11:44:17.322Z"
   },
   {
    "duration": 324,
    "start_time": "2022-01-16T11:45:04.025Z"
   },
   {
    "duration": 343,
    "start_time": "2022-01-16T11:48:23.311Z"
   },
   {
    "duration": 435,
    "start_time": "2022-01-16T11:48:26.365Z"
   },
   {
    "duration": 297,
    "start_time": "2022-01-16T11:48:43.115Z"
   },
   {
    "duration": 344,
    "start_time": "2022-01-16T11:51:48.468Z"
   },
   {
    "duration": 5,
    "start_time": "2022-01-16T11:54:52.983Z"
   },
   {
    "duration": 596,
    "start_time": "2022-01-16T11:54:52.991Z"
   },
   {
    "duration": 29,
    "start_time": "2022-01-16T11:54:53.590Z"
   },
   {
    "duration": 11,
    "start_time": "2022-01-16T11:54:53.621Z"
   },
   {
    "duration": 28,
    "start_time": "2022-01-16T11:54:53.634Z"
   },
   {
    "duration": 37,
    "start_time": "2022-01-16T11:54:53.665Z"
   },
   {
    "duration": 20,
    "start_time": "2022-01-16T11:54:53.704Z"
   },
   {
    "duration": 10,
    "start_time": "2022-01-16T11:54:53.726Z"
   },
   {
    "duration": 10,
    "start_time": "2022-01-16T11:54:53.740Z"
   },
   {
    "duration": 57,
    "start_time": "2022-01-16T11:54:53.753Z"
   },
   {
    "duration": 13,
    "start_time": "2022-01-16T11:54:53.812Z"
   },
   {
    "duration": 17,
    "start_time": "2022-01-16T11:54:53.827Z"
   },
   {
    "duration": 8,
    "start_time": "2022-01-16T11:54:53.846Z"
   },
   {
    "duration": 129,
    "start_time": "2022-01-16T11:54:53.856Z"
   },
   {
    "duration": 48,
    "start_time": "2022-01-16T11:54:53.988Z"
   },
   {
    "duration": 16,
    "start_time": "2022-01-16T11:54:54.039Z"
   },
   {
    "duration": 88,
    "start_time": "2022-01-16T11:54:54.057Z"
   },
   {
    "duration": 30,
    "start_time": "2022-01-16T11:54:54.147Z"
   },
   {
    "duration": 45,
    "start_time": "2022-01-16T11:54:54.180Z"
   },
   {
    "duration": 34,
    "start_time": "2022-01-16T11:54:54.227Z"
   },
   {
    "duration": 59,
    "start_time": "2022-01-16T11:54:54.264Z"
   },
   {
    "duration": 53,
    "start_time": "2022-01-16T11:54:54.326Z"
   },
   {
    "duration": 44,
    "start_time": "2022-01-16T11:54:54.382Z"
   },
   {
    "duration": 44,
    "start_time": "2022-01-16T11:54:54.429Z"
   },
   {
    "duration": 389,
    "start_time": "2022-01-16T11:54:54.501Z"
   },
   {
    "duration": 53,
    "start_time": "2022-01-16T11:54:54.893Z"
   },
   {
    "duration": 347,
    "start_time": "2022-01-16T11:54:54.953Z"
   },
   {
    "duration": 329,
    "start_time": "2022-01-16T11:54:55.303Z"
   },
   {
    "duration": 420,
    "start_time": "2022-01-16T11:54:55.635Z"
   },
   {
    "duration": 319,
    "start_time": "2022-01-16T12:20:27.863Z"
   },
   {
    "duration": 353,
    "start_time": "2022-01-16T12:22:02.187Z"
   },
   {
    "duration": 330,
    "start_time": "2022-01-16T12:22:13.523Z"
   },
   {
    "duration": 334,
    "start_time": "2022-01-16T12:22:26.114Z"
   },
   {
    "duration": 321,
    "start_time": "2022-01-16T12:22:42.166Z"
   },
   {
    "duration": 323,
    "start_time": "2022-01-16T12:22:44.426Z"
   },
   {
    "duration": 311,
    "start_time": "2022-01-16T12:22:57.964Z"
   },
   {
    "duration": 333,
    "start_time": "2022-01-16T12:23:11.679Z"
   },
   {
    "duration": 327,
    "start_time": "2022-01-16T12:23:21.145Z"
   },
   {
    "duration": 13,
    "start_time": "2022-01-16T12:50:08.898Z"
   },
   {
    "duration": 346,
    "start_time": "2022-01-16T12:53:12.557Z"
   },
   {
    "duration": 16,
    "start_time": "2022-01-16T12:58:50.717Z"
   },
   {
    "duration": 16,
    "start_time": "2022-01-16T12:58:58.119Z"
   },
   {
    "duration": 511,
    "start_time": "2022-01-16T13:08:31.816Z"
   },
   {
    "duration": 17,
    "start_time": "2022-01-16T13:11:40.101Z"
   },
   {
    "duration": 15,
    "start_time": "2022-01-16T13:17:12.838Z"
   },
   {
    "duration": 177,
    "start_time": "2022-01-16T13:17:54.200Z"
   },
   {
    "duration": 15,
    "start_time": "2022-01-16T13:18:53.020Z"
   },
   {
    "duration": 407,
    "start_time": "2022-01-16T13:24:09.487Z"
   },
   {
    "duration": 458,
    "start_time": "2022-01-16T13:24:24.336Z"
   },
   {
    "duration": 410,
    "start_time": "2022-01-16T13:24:29.720Z"
   },
   {
    "duration": 5,
    "start_time": "2022-01-16T13:24:52.554Z"
   },
   {
    "duration": 559,
    "start_time": "2022-01-16T13:24:52.562Z"
   },
   {
    "duration": 27,
    "start_time": "2022-01-16T13:24:53.124Z"
   },
   {
    "duration": 14,
    "start_time": "2022-01-16T13:24:53.154Z"
   },
   {
    "duration": 39,
    "start_time": "2022-01-16T13:24:53.170Z"
   },
   {
    "duration": 14,
    "start_time": "2022-01-16T13:24:53.212Z"
   },
   {
    "duration": 23,
    "start_time": "2022-01-16T13:24:53.228Z"
   },
   {
    "duration": 11,
    "start_time": "2022-01-16T13:24:53.256Z"
   },
   {
    "duration": 10,
    "start_time": "2022-01-16T13:24:53.302Z"
   },
   {
    "duration": 14,
    "start_time": "2022-01-16T13:24:53.314Z"
   },
   {
    "duration": 12,
    "start_time": "2022-01-16T13:24:53.331Z"
   },
   {
    "duration": 57,
    "start_time": "2022-01-16T13:24:53.345Z"
   },
   {
    "duration": 10,
    "start_time": "2022-01-16T13:24:53.405Z"
   },
   {
    "duration": 112,
    "start_time": "2022-01-16T13:24:53.418Z"
   },
   {
    "duration": 42,
    "start_time": "2022-01-16T13:24:53.532Z"
   },
   {
    "duration": 36,
    "start_time": "2022-01-16T13:24:53.576Z"
   },
   {
    "duration": 58,
    "start_time": "2022-01-16T13:24:53.614Z"
   },
   {
    "duration": 44,
    "start_time": "2022-01-16T13:24:53.675Z"
   },
   {
    "duration": 28,
    "start_time": "2022-01-16T13:24:53.721Z"
   },
   {
    "duration": 66,
    "start_time": "2022-01-16T13:24:53.751Z"
   },
   {
    "duration": 32,
    "start_time": "2022-01-16T13:24:53.820Z"
   },
   {
    "duration": 83,
    "start_time": "2022-01-16T13:24:53.854Z"
   },
   {
    "duration": 32,
    "start_time": "2022-01-16T13:24:53.942Z"
   },
   {
    "duration": 74,
    "start_time": "2022-01-16T13:24:53.977Z"
   },
   {
    "duration": 405,
    "start_time": "2022-01-16T13:24:54.054Z"
   },
   {
    "duration": 64,
    "start_time": "2022-01-16T13:24:54.462Z"
   },
   {
    "duration": 335,
    "start_time": "2022-01-16T13:24:54.529Z"
   },
   {
    "duration": 328,
    "start_time": "2022-01-16T13:24:54.867Z"
   },
   {
    "duration": 328,
    "start_time": "2022-01-16T13:24:55.201Z"
   },
   {
    "duration": 134,
    "start_time": "2022-01-16T13:24:55.532Z"
   },
   {
    "duration": -995,
    "start_time": "2022-01-16T13:24:56.664Z"
   },
   {
    "duration": 15,
    "start_time": "2022-01-16T13:25:19.720Z"
   },
   {
    "duration": 536,
    "start_time": "2022-01-16T13:25:22.265Z"
   },
   {
    "duration": 16,
    "start_time": "2022-01-16T13:25:49.381Z"
   },
   {
    "duration": 15,
    "start_time": "2022-01-16T13:28:53.648Z"
   },
   {
    "duration": 15,
    "start_time": "2022-01-16T13:29:14.695Z"
   },
   {
    "duration": 15,
    "start_time": "2022-01-16T13:29:23.153Z"
   },
   {
    "duration": 16,
    "start_time": "2022-01-16T13:30:01.796Z"
   },
   {
    "duration": 16,
    "start_time": "2022-01-16T13:30:15.360Z"
   },
   {
    "duration": 409,
    "start_time": "2022-01-16T13:31:14.806Z"
   },
   {
    "duration": 15,
    "start_time": "2022-01-16T13:31:34.378Z"
   },
   {
    "duration": 15,
    "start_time": "2022-01-16T13:31:49.487Z"
   },
   {
    "duration": 23,
    "start_time": "2022-01-16T14:19:25.714Z"
   },
   {
    "duration": 30,
    "start_time": "2022-01-16T14:19:59.683Z"
   },
   {
    "duration": 22,
    "start_time": "2022-01-16T14:29:50.130Z"
   },
   {
    "duration": 501,
    "start_time": "2022-01-16T14:30:53.504Z"
   },
   {
    "duration": 37,
    "start_time": "2022-01-16T14:31:00.122Z"
   },
   {
    "duration": 33,
    "start_time": "2022-01-16T14:31:17.136Z"
   },
   {
    "duration": 25,
    "start_time": "2022-01-16T14:43:40.759Z"
   },
   {
    "duration": 25,
    "start_time": "2022-01-16T14:45:55.709Z"
   },
   {
    "duration": 4,
    "start_time": "2022-01-16T14:52:40.981Z"
   },
   {
    "duration": 540,
    "start_time": "2022-01-16T14:52:40.991Z"
   },
   {
    "duration": 27,
    "start_time": "2022-01-16T14:52:41.534Z"
   },
   {
    "duration": 12,
    "start_time": "2022-01-16T14:52:41.564Z"
   },
   {
    "duration": 29,
    "start_time": "2022-01-16T14:52:41.578Z"
   },
   {
    "duration": 13,
    "start_time": "2022-01-16T14:52:41.609Z"
   },
   {
    "duration": 20,
    "start_time": "2022-01-16T14:52:41.624Z"
   },
   {
    "duration": 10,
    "start_time": "2022-01-16T14:52:41.647Z"
   },
   {
    "duration": 42,
    "start_time": "2022-01-16T14:52:41.661Z"
   },
   {
    "duration": 12,
    "start_time": "2022-01-16T14:52:41.706Z"
   },
   {
    "duration": 10,
    "start_time": "2022-01-16T14:52:41.721Z"
   },
   {
    "duration": 17,
    "start_time": "2022-01-16T14:52:41.733Z"
   },
   {
    "duration": 50,
    "start_time": "2022-01-16T14:52:41.752Z"
   },
   {
    "duration": 107,
    "start_time": "2022-01-16T14:52:41.805Z"
   },
   {
    "duration": 40,
    "start_time": "2022-01-16T14:52:41.915Z"
   },
   {
    "duration": 14,
    "start_time": "2022-01-16T14:52:41.957Z"
   },
   {
    "duration": 82,
    "start_time": "2022-01-16T14:52:41.973Z"
   },
   {
    "duration": 45,
    "start_time": "2022-01-16T14:52:42.058Z"
   },
   {
    "duration": 28,
    "start_time": "2022-01-16T14:52:42.106Z"
   },
   {
    "duration": 35,
    "start_time": "2022-01-16T14:52:42.137Z"
   },
   {
    "duration": 34,
    "start_time": "2022-01-16T14:52:42.200Z"
   },
   {
    "duration": 81,
    "start_time": "2022-01-16T14:52:42.236Z"
   },
   {
    "duration": 33,
    "start_time": "2022-01-16T14:52:42.319Z"
   },
   {
    "duration": 69,
    "start_time": "2022-01-16T14:52:42.357Z"
   },
   {
    "duration": 390,
    "start_time": "2022-01-16T14:52:42.429Z"
   },
   {
    "duration": 49,
    "start_time": "2022-01-16T14:52:42.821Z"
   },
   {
    "duration": 349,
    "start_time": "2022-01-16T14:52:42.873Z"
   },
   {
    "duration": 322,
    "start_time": "2022-01-16T14:52:43.225Z"
   },
   {
    "duration": 327,
    "start_time": "2022-01-16T14:52:43.550Z"
   },
   {
    "duration": 39,
    "start_time": "2022-01-16T14:52:43.880Z"
   },
   {
    "duration": 23,
    "start_time": "2022-01-16T14:52:43.921Z"
   },
   {
    "duration": 4,
    "start_time": "2022-01-16T14:56:35.304Z"
   },
   {
    "duration": 565,
    "start_time": "2022-01-16T14:56:35.311Z"
   },
   {
    "duration": 30,
    "start_time": "2022-01-16T14:56:35.879Z"
   },
   {
    "duration": 12,
    "start_time": "2022-01-16T14:56:35.912Z"
   },
   {
    "duration": 30,
    "start_time": "2022-01-16T14:56:35.926Z"
   },
   {
    "duration": 13,
    "start_time": "2022-01-16T14:56:35.958Z"
   },
   {
    "duration": 20,
    "start_time": "2022-01-16T14:56:36.002Z"
   },
   {
    "duration": 20,
    "start_time": "2022-01-16T14:56:36.025Z"
   },
   {
    "duration": 18,
    "start_time": "2022-01-16T14:56:36.049Z"
   },
   {
    "duration": 38,
    "start_time": "2022-01-16T14:56:36.070Z"
   },
   {
    "duration": 18,
    "start_time": "2022-01-16T14:56:36.110Z"
   },
   {
    "duration": 21,
    "start_time": "2022-01-16T14:56:36.130Z"
   },
   {
    "duration": 10,
    "start_time": "2022-01-16T14:56:36.153Z"
   },
   {
    "duration": 121,
    "start_time": "2022-01-16T14:56:36.166Z"
   },
   {
    "duration": 50,
    "start_time": "2022-01-16T14:56:36.289Z"
   },
   {
    "duration": 14,
    "start_time": "2022-01-16T14:56:36.341Z"
   },
   {
    "duration": 87,
    "start_time": "2022-01-16T14:56:36.358Z"
   },
   {
    "duration": 31,
    "start_time": "2022-01-16T14:56:36.447Z"
   },
   {
    "duration": 45,
    "start_time": "2022-01-16T14:56:36.481Z"
   },
   {
    "duration": 35,
    "start_time": "2022-01-16T14:56:36.529Z"
   },
   {
    "duration": 57,
    "start_time": "2022-01-16T14:56:36.567Z"
   },
   {
    "duration": 55,
    "start_time": "2022-01-16T14:56:36.627Z"
   },
   {
    "duration": 34,
    "start_time": "2022-01-16T14:56:36.701Z"
   },
   {
    "duration": 66,
    "start_time": "2022-01-16T14:56:36.737Z"
   },
   {
    "duration": 388,
    "start_time": "2022-01-16T14:56:36.805Z"
   },
   {
    "duration": 49,
    "start_time": "2022-01-16T14:56:37.200Z"
   },
   {
    "duration": 348,
    "start_time": "2022-01-16T14:56:37.254Z"
   },
   {
    "duration": 324,
    "start_time": "2022-01-16T14:56:37.605Z"
   },
   {
    "duration": 362,
    "start_time": "2022-01-16T14:56:37.931Z"
   },
   {
    "duration": 31,
    "start_time": "2022-01-16T14:56:38.300Z"
   },
   {
    "duration": 23,
    "start_time": "2022-01-16T14:56:38.334Z"
   },
   {
    "duration": 4,
    "start_time": "2022-01-16T14:57:07.143Z"
   },
   {
    "duration": 573,
    "start_time": "2022-01-16T14:57:07.151Z"
   },
   {
    "duration": 31,
    "start_time": "2022-01-16T14:57:07.727Z"
   },
   {
    "duration": 11,
    "start_time": "2022-01-16T14:57:07.762Z"
   },
   {
    "duration": 36,
    "start_time": "2022-01-16T14:57:07.776Z"
   },
   {
    "duration": 12,
    "start_time": "2022-01-16T14:57:07.814Z"
   },
   {
    "duration": 19,
    "start_time": "2022-01-16T14:57:07.830Z"
   },
   {
    "duration": 10,
    "start_time": "2022-01-16T14:57:07.851Z"
   },
   {
    "duration": 42,
    "start_time": "2022-01-16T14:57:07.864Z"
   },
   {
    "duration": 109,
    "start_time": "2022-01-16T14:57:07.908Z"
   },
   {
    "duration": 11,
    "start_time": "2022-01-16T14:57:08.019Z"
   },
   {
    "duration": 18,
    "start_time": "2022-01-16T14:57:08.032Z"
   },
   {
    "duration": 9,
    "start_time": "2022-01-16T14:57:08.052Z"
   },
   {
    "duration": 143,
    "start_time": "2022-01-16T14:57:08.063Z"
   },
   {
    "duration": 43,
    "start_time": "2022-01-16T14:57:08.208Z"
   },
   {
    "duration": 17,
    "start_time": "2022-01-16T14:57:08.254Z"
   },
   {
    "duration": 58,
    "start_time": "2022-01-16T14:57:08.301Z"
   },
   {
    "duration": 49,
    "start_time": "2022-01-16T14:57:08.362Z"
   },
   {
    "duration": 29,
    "start_time": "2022-01-16T14:57:08.416Z"
   },
   {
    "duration": 60,
    "start_time": "2022-01-16T14:57:08.447Z"
   },
   {
    "duration": 32,
    "start_time": "2022-01-16T14:57:08.509Z"
   },
   {
    "duration": 81,
    "start_time": "2022-01-16T14:57:08.543Z"
   },
   {
    "duration": 34,
    "start_time": "2022-01-16T14:57:08.626Z"
   },
   {
    "duration": 65,
    "start_time": "2022-01-16T14:57:08.662Z"
   },
   {
    "duration": 399,
    "start_time": "2022-01-16T14:57:08.729Z"
   },
   {
    "duration": 47,
    "start_time": "2022-01-16T14:57:09.131Z"
   },
   {
    "duration": 335,
    "start_time": "2022-01-16T14:57:09.200Z"
   },
   {
    "duration": 329,
    "start_time": "2022-01-16T14:57:09.537Z"
   },
   {
    "duration": 334,
    "start_time": "2022-01-16T14:57:09.869Z"
   },
   {
    "duration": 30,
    "start_time": "2022-01-16T14:57:10.206Z"
   },
   {
    "duration": 26,
    "start_time": "2022-01-16T14:57:10.238Z"
   },
   {
    "duration": 4,
    "start_time": "2022-01-16T14:57:57.125Z"
   },
   {
    "duration": 540,
    "start_time": "2022-01-16T14:57:57.134Z"
   },
   {
    "duration": 28,
    "start_time": "2022-01-16T14:57:57.677Z"
   },
   {
    "duration": 11,
    "start_time": "2022-01-16T14:57:57.708Z"
   },
   {
    "duration": 24,
    "start_time": "2022-01-16T14:57:57.722Z"
   },
   {
    "duration": 12,
    "start_time": "2022-01-16T14:57:57.748Z"
   },
   {
    "duration": 53,
    "start_time": "2022-01-16T14:57:57.763Z"
   },
   {
    "duration": 10,
    "start_time": "2022-01-16T14:57:57.818Z"
   },
   {
    "duration": 9,
    "start_time": "2022-01-16T14:57:57.830Z"
   },
   {
    "duration": 13,
    "start_time": "2022-01-16T14:57:57.843Z"
   },
   {
    "duration": 50,
    "start_time": "2022-01-16T14:57:57.859Z"
   },
   {
    "duration": 15,
    "start_time": "2022-01-16T14:57:57.911Z"
   },
   {
    "duration": 8,
    "start_time": "2022-01-16T14:57:57.929Z"
   },
   {
    "duration": 131,
    "start_time": "2022-01-16T14:57:57.940Z"
   },
   {
    "duration": 46,
    "start_time": "2022-01-16T14:57:58.073Z"
   },
   {
    "duration": 13,
    "start_time": "2022-01-16T14:57:58.121Z"
   },
   {
    "duration": 82,
    "start_time": "2022-01-16T14:57:58.137Z"
   },
   {
    "duration": 30,
    "start_time": "2022-01-16T14:57:58.221Z"
   },
   {
    "duration": 49,
    "start_time": "2022-01-16T14:57:58.253Z"
   },
   {
    "duration": 35,
    "start_time": "2022-01-16T14:57:58.304Z"
   },
   {
    "duration": 33,
    "start_time": "2022-01-16T14:57:58.341Z"
   },
   {
    "duration": 56,
    "start_time": "2022-01-16T14:57:58.402Z"
   },
   {
    "duration": 54,
    "start_time": "2022-01-16T14:57:58.461Z"
   },
   {
    "duration": 45,
    "start_time": "2022-01-16T14:57:58.518Z"
   },
   {
    "duration": 421,
    "start_time": "2022-01-16T14:57:58.567Z"
   },
   {
    "duration": 59,
    "start_time": "2022-01-16T14:57:58.990Z"
   },
   {
    "duration": 349,
    "start_time": "2022-01-16T14:57:59.051Z"
   },
   {
    "duration": 318,
    "start_time": "2022-01-16T14:57:59.405Z"
   },
   {
    "duration": 331,
    "start_time": "2022-01-16T14:57:59.725Z"
   },
   {
    "duration": 47,
    "start_time": "2022-01-16T14:58:00.058Z"
   },
   {
    "duration": 23,
    "start_time": "2022-01-16T14:58:00.107Z"
   },
   {
    "duration": 474,
    "start_time": "2022-01-16T14:58:21.955Z"
   },
   {
    "duration": 4,
    "start_time": "2022-01-16T14:59:04.501Z"
   },
   {
    "duration": 564,
    "start_time": "2022-01-16T14:59:04.508Z"
   },
   {
    "duration": 27,
    "start_time": "2022-01-16T14:59:05.075Z"
   },
   {
    "duration": 11,
    "start_time": "2022-01-16T14:59:05.105Z"
   },
   {
    "duration": 24,
    "start_time": "2022-01-16T14:59:05.119Z"
   },
   {
    "duration": 12,
    "start_time": "2022-01-16T14:59:05.146Z"
   },
   {
    "duration": 53,
    "start_time": "2022-01-16T14:59:05.161Z"
   },
   {
    "duration": 11,
    "start_time": "2022-01-16T14:59:05.217Z"
   },
   {
    "duration": 13,
    "start_time": "2022-01-16T14:59:05.230Z"
   },
   {
    "duration": 16,
    "start_time": "2022-01-16T14:59:05.246Z"
   },
   {
    "duration": 43,
    "start_time": "2022-01-16T14:59:05.264Z"
   },
   {
    "duration": 18,
    "start_time": "2022-01-16T14:59:05.310Z"
   },
   {
    "duration": 9,
    "start_time": "2022-01-16T14:59:05.330Z"
   },
   {
    "duration": 125,
    "start_time": "2022-01-16T14:59:05.342Z"
   },
   {
    "duration": 48,
    "start_time": "2022-01-16T14:59:05.470Z"
   },
   {
    "duration": 15,
    "start_time": "2022-01-16T14:59:05.520Z"
   },
   {
    "duration": 77,
    "start_time": "2022-01-16T14:59:05.537Z"
   },
   {
    "duration": 35,
    "start_time": "2022-01-16T14:59:05.617Z"
   },
   {
    "duration": 52,
    "start_time": "2022-01-16T14:59:05.657Z"
   },
   {
    "duration": 33,
    "start_time": "2022-01-16T14:59:05.712Z"
   },
   {
    "duration": 57,
    "start_time": "2022-01-16T14:59:05.748Z"
   },
   {
    "duration": 56,
    "start_time": "2022-01-16T14:59:05.808Z"
   },
   {
    "duration": 60,
    "start_time": "2022-01-16T14:59:05.867Z"
   },
   {
    "duration": 45,
    "start_time": "2022-01-16T14:59:05.930Z"
   },
   {
    "duration": 391,
    "start_time": "2022-01-16T14:59:06.001Z"
   },
   {
    "duration": 51,
    "start_time": "2022-01-16T14:59:06.395Z"
   },
   {
    "duration": 352,
    "start_time": "2022-01-16T14:59:06.448Z"
   },
   {
    "duration": 327,
    "start_time": "2022-01-16T14:59:06.802Z"
   },
   {
    "duration": 337,
    "start_time": "2022-01-16T14:59:07.131Z"
   },
   {
    "duration": 41,
    "start_time": "2022-01-16T14:59:07.471Z"
   },
   {
    "duration": 24,
    "start_time": "2022-01-16T14:59:07.514Z"
   },
   {
    "duration": 236,
    "start_time": "2022-01-19T12:52:34.795Z"
   },
   {
    "duration": 910,
    "start_time": "2022-01-19T12:52:54.947Z"
   },
   {
    "duration": 344,
    "start_time": "2022-01-19T12:52:55.858Z"
   },
   {
    "duration": 18,
    "start_time": "2022-01-19T12:52:56.204Z"
   },
   {
    "duration": 14,
    "start_time": "2022-01-19T12:52:56.223Z"
   },
   {
    "duration": 17,
    "start_time": "2022-01-19T12:52:56.238Z"
   },
   {
    "duration": 6,
    "start_time": "2022-01-19T12:52:56.257Z"
   },
   {
    "duration": 13,
    "start_time": "2022-01-19T12:52:56.265Z"
   },
   {
    "duration": 15,
    "start_time": "2022-01-19T12:52:56.279Z"
   },
   {
    "duration": 26,
    "start_time": "2022-01-19T12:52:56.296Z"
   },
   {
    "duration": 16,
    "start_time": "2022-01-19T12:52:56.324Z"
   },
   {
    "duration": 16,
    "start_time": "2022-01-19T12:52:56.342Z"
   },
   {
    "duration": 11,
    "start_time": "2022-01-19T12:52:56.359Z"
   },
   {
    "duration": 14,
    "start_time": "2022-01-19T12:52:56.371Z"
   },
   {
    "duration": 70,
    "start_time": "2022-01-19T12:52:56.386Z"
   },
   {
    "duration": 24,
    "start_time": "2022-01-19T12:52:56.458Z"
   },
   {
    "duration": 8,
    "start_time": "2022-01-19T12:52:56.484Z"
   },
   {
    "duration": 58,
    "start_time": "2022-01-19T12:52:56.493Z"
   },
   {
    "duration": 18,
    "start_time": "2022-01-19T12:52:56.553Z"
   },
   {
    "duration": 19,
    "start_time": "2022-01-19T12:52:56.572Z"
   },
   {
    "duration": 21,
    "start_time": "2022-01-19T12:52:56.612Z"
   },
   {
    "duration": 22,
    "start_time": "2022-01-19T12:52:56.635Z"
   },
   {
    "duration": 29,
    "start_time": "2022-01-19T12:52:56.659Z"
   },
   {
    "duration": 40,
    "start_time": "2022-01-19T12:52:56.690Z"
   },
   {
    "duration": 23,
    "start_time": "2022-01-19T12:52:56.731Z"
   },
   {
    "duration": 214,
    "start_time": "2022-01-19T12:52:56.755Z"
   },
   {
    "duration": 25,
    "start_time": "2022-01-19T12:52:56.971Z"
   },
   {
    "duration": 179,
    "start_time": "2022-01-19T12:52:57.013Z"
   },
   {
    "duration": 167,
    "start_time": "2022-01-19T12:52:57.194Z"
   },
   {
    "duration": 182,
    "start_time": "2022-01-19T12:52:57.362Z"
   },
   {
    "duration": 17,
    "start_time": "2022-01-19T12:52:57.545Z"
   },
   {
    "duration": 12,
    "start_time": "2022-01-19T12:52:57.564Z"
   },
   {
    "duration": 11,
    "start_time": "2022-01-19T12:53:53.599Z"
   },
   {
    "duration": 3,
    "start_time": "2022-01-19T12:57:25.187Z"
   },
   {
    "duration": 379,
    "start_time": "2022-01-19T12:57:25.191Z"
   },
   {
    "duration": 17,
    "start_time": "2022-01-19T12:57:25.572Z"
   },
   {
    "duration": 6,
    "start_time": "2022-01-19T12:57:25.591Z"
   },
   {
    "duration": 15,
    "start_time": "2022-01-19T12:57:25.598Z"
   },
   {
    "duration": 6,
    "start_time": "2022-01-19T12:57:25.615Z"
   },
   {
    "duration": 13,
    "start_time": "2022-01-19T12:57:25.623Z"
   },
   {
    "duration": 5,
    "start_time": "2022-01-19T12:57:25.638Z"
   },
   {
    "duration": 7,
    "start_time": "2022-01-19T12:57:25.644Z"
   },
   {
    "duration": 8,
    "start_time": "2022-01-19T12:57:25.652Z"
   },
   {
    "duration": 6,
    "start_time": "2022-01-19T12:57:25.662Z"
   },
   {
    "duration": 10,
    "start_time": "2022-01-19T12:57:25.669Z"
   },
   {
    "duration": 33,
    "start_time": "2022-01-19T12:57:25.680Z"
   },
   {
    "duration": 51,
    "start_time": "2022-01-19T12:57:25.714Z"
   },
   {
    "duration": 25,
    "start_time": "2022-01-19T12:57:25.766Z"
   },
   {
    "duration": 24,
    "start_time": "2022-01-19T12:57:25.792Z"
   },
   {
    "duration": 46,
    "start_time": "2022-01-19T12:57:25.818Z"
   },
   {
    "duration": 17,
    "start_time": "2022-01-19T12:57:25.866Z"
   },
   {
    "duration": 37,
    "start_time": "2022-01-19T12:57:25.886Z"
   },
   {
    "duration": 20,
    "start_time": "2022-01-19T12:57:25.925Z"
   },
   {
    "duration": 23,
    "start_time": "2022-01-19T12:57:25.946Z"
   },
   {
    "duration": 50,
    "start_time": "2022-01-19T12:57:25.970Z"
   },
   {
    "duration": 18,
    "start_time": "2022-01-19T12:57:26.021Z"
   },
   {
    "duration": 23,
    "start_time": "2022-01-19T12:57:26.040Z"
   },
   {
    "duration": 206,
    "start_time": "2022-01-19T12:57:26.064Z"
   },
   {
    "duration": 40,
    "start_time": "2022-01-19T12:57:26.272Z"
   },
   {
    "duration": 174,
    "start_time": "2022-01-19T12:57:26.313Z"
   },
   {
    "duration": 174,
    "start_time": "2022-01-19T12:57:26.489Z"
   },
   {
    "duration": 174,
    "start_time": "2022-01-19T12:57:26.665Z"
   },
   {
    "duration": 16,
    "start_time": "2022-01-19T12:57:26.840Z"
   },
   {
    "duration": 12,
    "start_time": "2022-01-19T12:57:26.858Z"
   },
   {
    "duration": 7,
    "start_time": "2022-01-19T12:58:05.586Z"
   },
   {
    "duration": 25,
    "start_time": "2022-01-19T13:01:47.260Z"
   },
   {
    "duration": 3,
    "start_time": "2022-01-19T13:01:50.837Z"
   },
   {
    "duration": 377,
    "start_time": "2022-01-19T13:01:50.841Z"
   },
   {
    "duration": 20,
    "start_time": "2022-01-19T13:01:51.220Z"
   },
   {
    "duration": 7,
    "start_time": "2022-01-19T13:01:51.242Z"
   },
   {
    "duration": 19,
    "start_time": "2022-01-19T13:01:51.251Z"
   },
   {
    "duration": 7,
    "start_time": "2022-01-19T13:01:51.272Z"
   },
   {
    "duration": 34,
    "start_time": "2022-01-19T13:01:51.282Z"
   },
   {
    "duration": 6,
    "start_time": "2022-01-19T13:01:51.318Z"
   },
   {
    "duration": 6,
    "start_time": "2022-01-19T13:01:51.326Z"
   },
   {
    "duration": 8,
    "start_time": "2022-01-19T13:01:51.334Z"
   },
   {
    "duration": 7,
    "start_time": "2022-01-19T13:01:51.344Z"
   },
   {
    "duration": 10,
    "start_time": "2022-01-19T13:01:51.352Z"
   },
   {
    "duration": 7,
    "start_time": "2022-01-19T13:01:51.363Z"
   },
   {
    "duration": 92,
    "start_time": "2022-01-19T13:01:51.371Z"
   },
   {
    "duration": 27,
    "start_time": "2022-01-19T13:01:51.465Z"
   },
   {
    "duration": 23,
    "start_time": "2022-01-19T13:01:51.494Z"
   },
   {
    "duration": 53,
    "start_time": "2022-01-19T13:01:51.519Z"
   },
   {
    "duration": 40,
    "start_time": "2022-01-19T13:01:51.575Z"
   },
   {
    "duration": 23,
    "start_time": "2022-01-19T13:01:51.619Z"
   },
   {
    "duration": 23,
    "start_time": "2022-01-19T13:01:51.644Z"
   },
   {
    "duration": 53,
    "start_time": "2022-01-19T13:01:51.669Z"
   },
   {
    "duration": 33,
    "start_time": "2022-01-19T13:01:51.724Z"
   },
   {
    "duration": 19,
    "start_time": "2022-01-19T13:01:51.758Z"
   },
   {
    "duration": 47,
    "start_time": "2022-01-19T13:01:51.778Z"
   },
   {
    "duration": 222,
    "start_time": "2022-01-19T13:01:51.827Z"
   },
   {
    "duration": 30,
    "start_time": "2022-01-19T13:01:52.051Z"
   },
   {
    "duration": 261,
    "start_time": "2022-01-19T13:01:52.083Z"
   },
   {
    "duration": 177,
    "start_time": "2022-01-19T13:01:52.346Z"
   },
   {
    "duration": 183,
    "start_time": "2022-01-19T13:01:52.525Z"
   },
   {
    "duration": 17,
    "start_time": "2022-01-19T13:01:52.712Z"
   },
   {
    "duration": 12,
    "start_time": "2022-01-19T13:01:52.730Z"
   },
   {
    "duration": 10,
    "start_time": "2022-01-19T13:03:48.202Z"
   },
   {
    "duration": 3,
    "start_time": "2022-01-19T13:03:52.915Z"
   },
   {
    "duration": 375,
    "start_time": "2022-01-19T13:03:52.921Z"
   },
   {
    "duration": 20,
    "start_time": "2022-01-19T13:03:53.298Z"
   },
   {
    "duration": 6,
    "start_time": "2022-01-19T13:03:53.320Z"
   },
   {
    "duration": 19,
    "start_time": "2022-01-19T13:03:53.328Z"
   },
   {
    "duration": 6,
    "start_time": "2022-01-19T13:03:53.348Z"
   },
   {
    "duration": 13,
    "start_time": "2022-01-19T13:03:53.356Z"
   },
   {
    "duration": 5,
    "start_time": "2022-01-19T13:03:53.371Z"
   },
   {
    "duration": 5,
    "start_time": "2022-01-19T13:03:53.379Z"
   },
   {
    "duration": 7,
    "start_time": "2022-01-19T13:03:53.413Z"
   },
   {
    "duration": 9,
    "start_time": "2022-01-19T13:03:53.421Z"
   },
   {
    "duration": 12,
    "start_time": "2022-01-19T13:03:53.431Z"
   },
   {
    "duration": 6,
    "start_time": "2022-01-19T13:03:53.445Z"
   },
   {
    "duration": 75,
    "start_time": "2022-01-19T13:03:53.452Z"
   },
   {
    "duration": 25,
    "start_time": "2022-01-19T13:03:53.529Z"
   },
   {
    "duration": 9,
    "start_time": "2022-01-19T13:03:53.556Z"
   },
   {
    "duration": 65,
    "start_time": "2022-01-19T13:03:53.566Z"
   },
   {
    "duration": 17,
    "start_time": "2022-01-19T13:03:53.633Z"
   },
   {
    "duration": 18,
    "start_time": "2022-01-19T13:03:53.651Z"
   },
   {
    "duration": 20,
    "start_time": "2022-01-19T13:03:53.671Z"
   },
   {
    "duration": 22,
    "start_time": "2022-01-19T13:03:53.713Z"
   },
   {
    "duration": 29,
    "start_time": "2022-01-19T13:03:53.737Z"
   },
   {
    "duration": 17,
    "start_time": "2022-01-19T13:03:53.768Z"
   },
   {
    "duration": 28,
    "start_time": "2022-01-19T13:03:53.811Z"
   },
   {
    "duration": 207,
    "start_time": "2022-01-19T13:03:53.840Z"
   },
   {
    "duration": 37,
    "start_time": "2022-01-19T13:03:54.049Z"
   },
   {
    "duration": 189,
    "start_time": "2022-01-19T13:03:54.088Z"
   },
   {
    "duration": 199,
    "start_time": "2022-01-19T13:03:54.279Z"
   },
   {
    "duration": 209,
    "start_time": "2022-01-19T13:03:54.480Z"
   },
   {
    "duration": 26,
    "start_time": "2022-01-19T13:03:54.690Z"
   },
   {
    "duration": 12,
    "start_time": "2022-01-19T13:03:54.718Z"
   },
   {
    "duration": 49,
    "start_time": "2022-01-19T13:04:48.497Z"
   },
   {
    "duration": 23,
    "start_time": "2022-01-19T13:06:44.012Z"
   },
   {
    "duration": 3,
    "start_time": "2022-01-19T13:06:49.274Z"
   },
   {
    "duration": 367,
    "start_time": "2022-01-19T13:06:49.278Z"
   },
   {
    "duration": 19,
    "start_time": "2022-01-19T13:06:49.648Z"
   },
   {
    "duration": 7,
    "start_time": "2022-01-19T13:06:49.669Z"
   },
   {
    "duration": 17,
    "start_time": "2022-01-19T13:06:49.678Z"
   },
   {
    "duration": 7,
    "start_time": "2022-01-19T13:06:49.696Z"
   },
   {
    "duration": 12,
    "start_time": "2022-01-19T13:06:49.705Z"
   },
   {
    "duration": 6,
    "start_time": "2022-01-19T13:06:49.719Z"
   },
   {
    "duration": 5,
    "start_time": "2022-01-19T13:06:49.728Z"
   },
   {
    "duration": 7,
    "start_time": "2022-01-19T13:06:49.735Z"
   },
   {
    "duration": 6,
    "start_time": "2022-01-19T13:06:49.743Z"
   },
   {
    "duration": 9,
    "start_time": "2022-01-19T13:06:49.751Z"
   },
   {
    "duration": 6,
    "start_time": "2022-01-19T13:06:49.761Z"
   },
   {
    "duration": 84,
    "start_time": "2022-01-19T13:06:49.769Z"
   },
   {
    "duration": 26,
    "start_time": "2022-01-19T13:06:49.854Z"
   },
   {
    "duration": 10,
    "start_time": "2022-01-19T13:06:49.882Z"
   },
   {
    "duration": 67,
    "start_time": "2022-01-19T13:06:49.894Z"
   },
   {
    "duration": 17,
    "start_time": "2022-01-19T13:06:49.962Z"
   },
   {
    "duration": 36,
    "start_time": "2022-01-19T13:06:49.981Z"
   },
   {
    "duration": 22,
    "start_time": "2022-01-19T13:06:50.019Z"
   },
   {
    "duration": 24,
    "start_time": "2022-01-19T13:06:50.042Z"
   },
   {
    "duration": 57,
    "start_time": "2022-01-19T13:06:50.068Z"
   },
   {
    "duration": 19,
    "start_time": "2022-01-19T13:06:50.126Z"
   },
   {
    "duration": 25,
    "start_time": "2022-01-19T13:06:50.147Z"
   },
   {
    "duration": 224,
    "start_time": "2022-01-19T13:06:50.174Z"
   },
   {
    "duration": 31,
    "start_time": "2022-01-19T13:06:50.400Z"
   },
   {
    "duration": 204,
    "start_time": "2022-01-19T13:06:50.434Z"
   },
   {
    "duration": 191,
    "start_time": "2022-01-19T13:06:50.640Z"
   },
   {
    "duration": 194,
    "start_time": "2022-01-19T13:06:50.833Z"
   },
   {
    "duration": 17,
    "start_time": "2022-01-19T13:06:51.029Z"
   },
   {
    "duration": 12,
    "start_time": "2022-01-19T13:06:51.048Z"
   },
   {
    "duration": 3,
    "start_time": "2022-01-19T13:14:41.393Z"
   },
   {
    "duration": 678,
    "start_time": "2022-01-19T13:14:41.398Z"
   },
   {
    "duration": 20,
    "start_time": "2022-01-19T13:14:42.078Z"
   },
   {
    "duration": 7,
    "start_time": "2022-01-19T13:14:42.100Z"
   },
   {
    "duration": 17,
    "start_time": "2022-01-19T13:14:42.109Z"
   },
   {
    "duration": 8,
    "start_time": "2022-01-19T13:14:42.128Z"
   },
   {
    "duration": 15,
    "start_time": "2022-01-19T13:14:42.137Z"
   },
   {
    "duration": 6,
    "start_time": "2022-01-19T13:14:42.155Z"
   },
   {
    "duration": 8,
    "start_time": "2022-01-19T13:14:42.162Z"
   },
   {
    "duration": 9,
    "start_time": "2022-01-19T13:14:42.171Z"
   },
   {
    "duration": 6,
    "start_time": "2022-01-19T13:14:42.212Z"
   },
   {
    "duration": 13,
    "start_time": "2022-01-19T13:14:42.220Z"
   },
   {
    "duration": 6,
    "start_time": "2022-01-19T13:14:42.234Z"
   },
   {
    "duration": 79,
    "start_time": "2022-01-19T13:14:42.242Z"
   },
   {
    "duration": 28,
    "start_time": "2022-01-19T13:14:42.323Z"
   },
   {
    "duration": 10,
    "start_time": "2022-01-19T13:14:42.353Z"
   },
   {
    "duration": 69,
    "start_time": "2022-01-19T13:14:42.364Z"
   },
   {
    "duration": 18,
    "start_time": "2022-01-19T13:14:42.435Z"
   },
   {
    "duration": 20,
    "start_time": "2022-01-19T13:14:42.455Z"
   },
   {
    "duration": 40,
    "start_time": "2022-01-19T13:14:42.477Z"
   },
   {
    "duration": 24,
    "start_time": "2022-01-19T13:14:42.518Z"
   },
   {
    "duration": 29,
    "start_time": "2022-01-19T13:14:42.544Z"
   },
   {
    "duration": 37,
    "start_time": "2022-01-19T13:14:42.576Z"
   },
   {
    "duration": 26,
    "start_time": "2022-01-19T13:14:42.614Z"
   },
   {
    "duration": 209,
    "start_time": "2022-01-19T13:14:42.642Z"
   },
   {
    "duration": 25,
    "start_time": "2022-01-19T13:14:42.853Z"
   },
   {
    "duration": 254,
    "start_time": "2022-01-19T13:14:42.880Z"
   },
   {
    "duration": 179,
    "start_time": "2022-01-19T13:14:43.136Z"
   },
   {
    "duration": 186,
    "start_time": "2022-01-19T13:14:43.316Z"
   },
   {
    "duration": 22,
    "start_time": "2022-01-19T13:14:43.503Z"
   },
   {
    "duration": 12,
    "start_time": "2022-01-19T13:14:43.526Z"
   },
   {
    "duration": 3,
    "start_time": "2022-01-19T13:21:40.180Z"
   },
   {
    "duration": 391,
    "start_time": "2022-01-19T13:21:40.185Z"
   },
   {
    "duration": 18,
    "start_time": "2022-01-19T13:21:40.578Z"
   },
   {
    "duration": 8,
    "start_time": "2022-01-19T13:21:40.597Z"
   },
   {
    "duration": 17,
    "start_time": "2022-01-19T13:21:40.606Z"
   },
   {
    "duration": 7,
    "start_time": "2022-01-19T13:21:40.624Z"
   },
   {
    "duration": 14,
    "start_time": "2022-01-19T13:21:40.632Z"
   },
   {
    "duration": 6,
    "start_time": "2022-01-19T13:21:40.648Z"
   },
   {
    "duration": 5,
    "start_time": "2022-01-19T13:21:40.656Z"
   },
   {
    "duration": 9,
    "start_time": "2022-01-19T13:21:40.663Z"
   },
   {
    "duration": 7,
    "start_time": "2022-01-19T13:21:40.673Z"
   },
   {
    "duration": 35,
    "start_time": "2022-01-19T13:21:40.681Z"
   },
   {
    "duration": 6,
    "start_time": "2022-01-19T13:21:40.718Z"
   },
   {
    "duration": 53,
    "start_time": "2022-01-19T13:21:40.725Z"
   },
   {
    "duration": 41,
    "start_time": "2022-01-19T13:21:40.779Z"
   },
   {
    "duration": 9,
    "start_time": "2022-01-19T13:21:40.821Z"
   },
   {
    "duration": 49,
    "start_time": "2022-01-19T13:21:40.831Z"
   },
   {
    "duration": 38,
    "start_time": "2022-01-19T13:21:40.881Z"
   },
   {
    "duration": 20,
    "start_time": "2022-01-19T13:21:40.921Z"
   },
   {
    "duration": 21,
    "start_time": "2022-01-19T13:21:40.943Z"
   },
   {
    "duration": 24,
    "start_time": "2022-01-19T13:21:40.965Z"
   },
   {
    "duration": 52,
    "start_time": "2022-01-19T13:21:40.990Z"
   },
   {
    "duration": 18,
    "start_time": "2022-01-19T13:21:41.043Z"
   },
   {
    "duration": 23,
    "start_time": "2022-01-19T13:21:41.062Z"
   },
   {
    "duration": 214,
    "start_time": "2022-01-19T13:21:41.086Z"
   },
   {
    "duration": 29,
    "start_time": "2022-01-19T13:21:41.301Z"
   },
   {
    "duration": 182,
    "start_time": "2022-01-19T13:21:41.332Z"
   },
   {
    "duration": 199,
    "start_time": "2022-01-19T13:21:41.515Z"
   },
   {
    "duration": 184,
    "start_time": "2022-01-19T13:21:41.715Z"
   },
   {
    "duration": 22,
    "start_time": "2022-01-19T13:21:41.900Z"
   },
   {
    "duration": 13,
    "start_time": "2022-01-19T13:21:41.923Z"
   },
   {
    "duration": 3,
    "start_time": "2022-01-19T13:23:05.675Z"
   },
   {
    "duration": 2781,
    "start_time": "2022-01-19T13:23:05.683Z"
   },
   {
    "duration": 21,
    "start_time": "2022-01-19T13:23:08.466Z"
   },
   {
    "duration": 9,
    "start_time": "2022-01-19T13:23:08.490Z"
   },
   {
    "duration": 17,
    "start_time": "2022-01-19T13:23:08.501Z"
   },
   {
    "duration": 8,
    "start_time": "2022-01-19T13:23:08.520Z"
   },
   {
    "duration": 16,
    "start_time": "2022-01-19T13:23:08.530Z"
   },
   {
    "duration": 7,
    "start_time": "2022-01-19T13:23:08.548Z"
   },
   {
    "duration": 9,
    "start_time": "2022-01-19T13:23:08.557Z"
   },
   {
    "duration": 43,
    "start_time": "2022-01-19T13:23:08.569Z"
   },
   {
    "duration": 6,
    "start_time": "2022-01-19T13:23:08.614Z"
   },
   {
    "duration": 10,
    "start_time": "2022-01-19T13:23:08.621Z"
   },
   {
    "duration": 7,
    "start_time": "2022-01-19T13:23:08.632Z"
   },
   {
    "duration": 73,
    "start_time": "2022-01-19T13:23:08.640Z"
   },
   {
    "duration": 25,
    "start_time": "2022-01-19T13:23:08.715Z"
   },
   {
    "duration": 9,
    "start_time": "2022-01-19T13:23:08.742Z"
   },
   {
    "duration": 74,
    "start_time": "2022-01-19T13:23:08.752Z"
   },
   {
    "duration": 19,
    "start_time": "2022-01-19T13:23:08.828Z"
   },
   {
    "duration": 25,
    "start_time": "2022-01-19T13:23:08.849Z"
   },
   {
    "duration": 43,
    "start_time": "2022-01-19T13:23:08.875Z"
   },
   {
    "duration": 27,
    "start_time": "2022-01-19T13:23:08.919Z"
   },
   {
    "duration": 33,
    "start_time": "2022-01-19T13:23:08.947Z"
   },
   {
    "duration": 44,
    "start_time": "2022-01-19T13:23:08.981Z"
   },
   {
    "duration": 27,
    "start_time": "2022-01-19T13:23:09.027Z"
   },
   {
    "duration": 213,
    "start_time": "2022-01-19T13:23:09.056Z"
   },
   {
    "duration": 25,
    "start_time": "2022-01-19T13:23:09.270Z"
   },
   {
    "duration": 188,
    "start_time": "2022-01-19T13:23:09.297Z"
   },
   {
    "duration": 175,
    "start_time": "2022-01-19T13:23:09.488Z"
   },
   {
    "duration": 181,
    "start_time": "2022-01-19T13:23:09.665Z"
   },
   {
    "duration": 17,
    "start_time": "2022-01-19T13:23:09.847Z"
   },
   {
    "duration": 12,
    "start_time": "2022-01-19T13:23:09.865Z"
   },
   {
    "duration": 38,
    "start_time": "2022-01-19T13:37:11.762Z"
   },
   {
    "duration": 17,
    "start_time": "2022-01-19T13:38:40.928Z"
   },
   {
    "duration": 64,
    "start_time": "2022-01-19T13:45:48.543Z"
   },
   {
    "duration": 21,
    "start_time": "2022-01-19T13:46:58.916Z"
   },
   {
    "duration": 47,
    "start_time": "2022-01-19T13:48:52.108Z"
   },
   {
    "duration": 22,
    "start_time": "2022-01-19T13:49:15.071Z"
   },
   {
    "duration": 23,
    "start_time": "2022-01-19T13:50:04.394Z"
   },
   {
    "duration": 14,
    "start_time": "2022-01-19T13:56:25.297Z"
   },
   {
    "duration": 16,
    "start_time": "2022-01-19T13:59:28.094Z"
   },
   {
    "duration": 18,
    "start_time": "2022-01-19T13:59:33.637Z"
   },
   {
    "duration": 6221,
    "start_time": "2022-01-19T14:01:55.651Z"
   },
   {
    "duration": 3,
    "start_time": "2022-01-19T14:02:04.557Z"
   },
   {
    "duration": 416,
    "start_time": "2022-01-19T14:02:04.565Z"
   },
   {
    "duration": 18,
    "start_time": "2022-01-19T14:02:04.982Z"
   },
   {
    "duration": 7,
    "start_time": "2022-01-19T14:02:05.002Z"
   },
   {
    "duration": 15,
    "start_time": "2022-01-19T14:02:05.011Z"
   },
   {
    "duration": 7,
    "start_time": "2022-01-19T14:02:05.028Z"
   },
   {
    "duration": 14,
    "start_time": "2022-01-19T14:02:05.036Z"
   },
   {
    "duration": 6,
    "start_time": "2022-01-19T14:02:05.052Z"
   },
   {
    "duration": 9,
    "start_time": "2022-01-19T14:02:05.061Z"
   },
   {
    "duration": 8,
    "start_time": "2022-01-19T14:02:05.072Z"
   },
   {
    "duration": 31,
    "start_time": "2022-01-19T14:02:05.082Z"
   },
   {
    "duration": 11,
    "start_time": "2022-01-19T14:02:05.115Z"
   },
   {
    "duration": 16,
    "start_time": "2022-01-19T14:02:05.127Z"
   },
   {
    "duration": 63,
    "start_time": "2022-01-19T14:02:05.145Z"
   },
   {
    "duration": 28,
    "start_time": "2022-01-19T14:02:05.212Z"
   },
   {
    "duration": 8,
    "start_time": "2022-01-19T14:02:05.242Z"
   },
   {
    "duration": 37,
    "start_time": "2022-01-19T14:02:05.251Z"
   },
   {
    "duration": 32,
    "start_time": "2022-01-19T14:02:05.289Z"
   },
   {
    "duration": 17,
    "start_time": "2022-01-19T14:02:05.322Z"
   },
   {
    "duration": 22,
    "start_time": "2022-01-19T14:02:05.341Z"
   },
   {
    "duration": 49,
    "start_time": "2022-01-19T14:02:05.364Z"
   },
   {
    "duration": 22,
    "start_time": "2022-01-19T14:02:05.414Z"
   },
   {
    "duration": 15,
    "start_time": "2022-01-19T14:02:05.438Z"
   },
   {
    "duration": 27,
    "start_time": "2022-01-19T14:02:05.456Z"
   },
   {
    "duration": 218,
    "start_time": "2022-01-19T14:02:05.513Z"
   },
   {
    "duration": 28,
    "start_time": "2022-01-19T14:02:05.733Z"
   },
   {
    "duration": 210,
    "start_time": "2022-01-19T14:02:05.763Z"
   },
   {
    "duration": 251,
    "start_time": "2022-01-19T14:02:05.974Z"
   },
   {
    "duration": 201,
    "start_time": "2022-01-19T14:02:06.227Z"
   },
   {
    "duration": 19,
    "start_time": "2022-01-19T14:02:06.430Z"
   },
   {
    "duration": 13,
    "start_time": "2022-01-19T14:02:06.451Z"
   },
   {
    "duration": 26,
    "start_time": "2022-01-19T14:06:34.000Z"
   },
   {
    "duration": 27,
    "start_time": "2022-01-19T14:08:09.633Z"
   },
   {
    "duration": 4,
    "start_time": "2022-01-19T14:08:14.135Z"
   },
   {
    "duration": 397,
    "start_time": "2022-01-19T14:08:14.141Z"
   },
   {
    "duration": 18,
    "start_time": "2022-01-19T14:08:14.540Z"
   },
   {
    "duration": 20,
    "start_time": "2022-01-19T14:08:14.560Z"
   },
   {
    "duration": 29,
    "start_time": "2022-01-19T14:08:14.582Z"
   },
   {
    "duration": 9,
    "start_time": "2022-01-19T14:08:14.612Z"
   },
   {
    "duration": 19,
    "start_time": "2022-01-19T14:08:14.623Z"
   },
   {
    "duration": 19,
    "start_time": "2022-01-19T14:08:14.643Z"
   },
   {
    "duration": 8,
    "start_time": "2022-01-19T14:08:14.664Z"
   },
   {
    "duration": 23,
    "start_time": "2022-01-19T14:08:14.673Z"
   },
   {
    "duration": 17,
    "start_time": "2022-01-19T14:08:14.698Z"
   },
   {
    "duration": 19,
    "start_time": "2022-01-19T14:08:14.716Z"
   },
   {
    "duration": 24,
    "start_time": "2022-01-19T14:08:14.736Z"
   },
   {
    "duration": 65,
    "start_time": "2022-01-19T14:08:14.761Z"
   },
   {
    "duration": 24,
    "start_time": "2022-01-19T14:08:14.828Z"
   },
   {
    "duration": 8,
    "start_time": "2022-01-19T14:08:14.854Z"
   },
   {
    "duration": 50,
    "start_time": "2022-01-19T14:08:14.863Z"
   },
   {
    "duration": 19,
    "start_time": "2022-01-19T14:08:14.914Z"
   },
   {
    "duration": 17,
    "start_time": "2022-01-19T14:08:14.936Z"
   },
   {
    "duration": 22,
    "start_time": "2022-01-19T14:08:14.954Z"
   },
   {
    "duration": 56,
    "start_time": "2022-01-19T14:08:14.978Z"
   },
   {
    "duration": 23,
    "start_time": "2022-01-19T14:08:15.035Z"
   },
   {
    "duration": 16,
    "start_time": "2022-01-19T14:08:15.059Z"
   },
   {
    "duration": 58,
    "start_time": "2022-01-19T14:08:15.076Z"
   },
   {
    "duration": 210,
    "start_time": "2022-01-19T14:08:15.135Z"
   },
   {
    "duration": 25,
    "start_time": "2022-01-19T14:08:15.346Z"
   },
   {
    "duration": 202,
    "start_time": "2022-01-19T14:08:15.372Z"
   },
   {
    "duration": 201,
    "start_time": "2022-01-19T14:08:15.575Z"
   },
   {
    "duration": 201,
    "start_time": "2022-01-19T14:08:15.777Z"
   },
   {
    "duration": 17,
    "start_time": "2022-01-19T14:08:15.980Z"
   },
   {
    "duration": 26,
    "start_time": "2022-01-19T14:08:15.998Z"
   },
   {
    "duration": 390,
    "start_time": "2022-01-19T14:11:15.615Z"
   },
   {
    "duration": 3,
    "start_time": "2022-01-19T14:11:21.712Z"
   },
   {
    "duration": 402,
    "start_time": "2022-01-19T14:11:21.721Z"
   },
   {
    "duration": 19,
    "start_time": "2022-01-19T14:11:22.125Z"
   },
   {
    "duration": 11,
    "start_time": "2022-01-19T14:11:22.146Z"
   },
   {
    "duration": 27,
    "start_time": "2022-01-19T14:11:22.159Z"
   },
   {
    "duration": 15,
    "start_time": "2022-01-19T14:11:22.187Z"
   },
   {
    "duration": 20,
    "start_time": "2022-01-19T14:11:22.203Z"
   },
   {
    "duration": 6,
    "start_time": "2022-01-19T14:11:22.225Z"
   },
   {
    "duration": 20,
    "start_time": "2022-01-19T14:11:22.233Z"
   },
   {
    "duration": 11,
    "start_time": "2022-01-19T14:11:22.255Z"
   },
   {
    "duration": 15,
    "start_time": "2022-01-19T14:11:22.268Z"
   },
   {
    "duration": 15,
    "start_time": "2022-01-19T14:11:22.284Z"
   },
   {
    "duration": 12,
    "start_time": "2022-01-19T14:11:22.300Z"
   },
   {
    "duration": 65,
    "start_time": "2022-01-19T14:11:22.313Z"
   },
   {
    "duration": 27,
    "start_time": "2022-01-19T14:11:22.379Z"
   },
   {
    "duration": 10,
    "start_time": "2022-01-19T14:11:22.408Z"
   },
   {
    "duration": 27,
    "start_time": "2022-01-19T14:11:22.420Z"
   },
   {
    "duration": 19,
    "start_time": "2022-01-19T14:11:22.448Z"
   },
   {
    "duration": 48,
    "start_time": "2022-01-19T14:11:22.468Z"
   },
   {
    "duration": 22,
    "start_time": "2022-01-19T14:11:22.517Z"
   },
   {
    "duration": 28,
    "start_time": "2022-01-19T14:11:22.541Z"
   },
   {
    "duration": 42,
    "start_time": "2022-01-19T14:11:22.571Z"
   },
   {
    "duration": 18,
    "start_time": "2022-01-19T14:11:22.614Z"
   },
   {
    "duration": 26,
    "start_time": "2022-01-19T14:11:22.634Z"
   },
   {
    "duration": 239,
    "start_time": "2022-01-19T14:11:22.662Z"
   },
   {
    "duration": 33,
    "start_time": "2022-01-19T14:11:22.902Z"
   },
   {
    "duration": 377,
    "start_time": "2022-01-19T14:11:22.937Z"
   },
   {
    "duration": -427,
    "start_time": "2022-01-19T14:11:23.743Z"
   },
   {
    "duration": -441,
    "start_time": "2022-01-19T14:11:23.757Z"
   },
   {
    "duration": -444,
    "start_time": "2022-01-19T14:11:23.761Z"
   },
   {
    "duration": -449,
    "start_time": "2022-01-19T14:11:23.767Z"
   },
   {
    "duration": 198,
    "start_time": "2022-01-19T14:12:12.259Z"
   },
   {
    "duration": 224,
    "start_time": "2022-01-19T14:21:39.109Z"
   },
   {
    "duration": 207,
    "start_time": "2022-01-19T14:22:35.806Z"
   },
   {
    "duration": 186,
    "start_time": "2022-01-19T14:24:15.664Z"
   },
   {
    "duration": 245,
    "start_time": "2022-01-19T14:25:44.983Z"
   },
   {
    "duration": 189,
    "start_time": "2022-01-19T14:27:50.110Z"
   },
   {
    "duration": 185,
    "start_time": "2022-01-19T14:28:03.437Z"
   },
   {
    "duration": 4,
    "start_time": "2022-01-19T14:28:43.136Z"
   },
   {
    "duration": 409,
    "start_time": "2022-01-19T14:28:43.142Z"
   },
   {
    "duration": 18,
    "start_time": "2022-01-19T14:28:43.552Z"
   },
   {
    "duration": 12,
    "start_time": "2022-01-19T14:28:43.572Z"
   },
   {
    "duration": 34,
    "start_time": "2022-01-19T14:28:43.585Z"
   },
   {
    "duration": 18,
    "start_time": "2022-01-19T14:28:43.620Z"
   },
   {
    "duration": 19,
    "start_time": "2022-01-19T14:28:43.640Z"
   },
   {
    "duration": 14,
    "start_time": "2022-01-19T14:28:43.661Z"
   },
   {
    "duration": 19,
    "start_time": "2022-01-19T14:28:43.676Z"
   },
   {
    "duration": 29,
    "start_time": "2022-01-19T14:28:43.697Z"
   },
   {
    "duration": 14,
    "start_time": "2022-01-19T14:28:43.728Z"
   },
   {
    "duration": 38,
    "start_time": "2022-01-19T14:28:43.743Z"
   },
   {
    "duration": 21,
    "start_time": "2022-01-19T14:28:43.782Z"
   },
   {
    "duration": 59,
    "start_time": "2022-01-19T14:28:43.805Z"
   },
   {
    "duration": 25,
    "start_time": "2022-01-19T14:28:43.866Z"
   },
   {
    "duration": 20,
    "start_time": "2022-01-19T14:28:43.893Z"
   },
   {
    "duration": 29,
    "start_time": "2022-01-19T14:28:43.914Z"
   },
   {
    "duration": 19,
    "start_time": "2022-01-19T14:28:43.944Z"
   },
   {
    "duration": 17,
    "start_time": "2022-01-19T14:28:43.966Z"
   },
   {
    "duration": 47,
    "start_time": "2022-01-19T14:28:43.985Z"
   },
   {
    "duration": 28,
    "start_time": "2022-01-19T14:28:44.034Z"
   },
   {
    "duration": 23,
    "start_time": "2022-01-19T14:28:44.064Z"
   },
   {
    "duration": 37,
    "start_time": "2022-01-19T14:28:44.089Z"
   },
   {
    "duration": 27,
    "start_time": "2022-01-19T14:28:44.127Z"
   },
   {
    "duration": 227,
    "start_time": "2022-01-19T14:28:44.155Z"
   },
   {
    "duration": 31,
    "start_time": "2022-01-19T14:28:44.384Z"
   },
   {
    "duration": 191,
    "start_time": "2022-01-19T14:28:44.416Z"
   },
   {
    "duration": 175,
    "start_time": "2022-01-19T14:28:44.608Z"
   },
   {
    "duration": 180,
    "start_time": "2022-01-19T14:28:44.785Z"
   },
   {
    "duration": 16,
    "start_time": "2022-01-19T14:28:44.966Z"
   },
   {
    "duration": 28,
    "start_time": "2022-01-19T14:28:44.984Z"
   },
   {
    "duration": 213,
    "start_time": "2022-01-19T14:29:54.295Z"
   },
   {
    "duration": 201,
    "start_time": "2022-01-19T14:30:04.635Z"
   },
   {
    "duration": 185,
    "start_time": "2022-01-19T14:30:14.561Z"
   },
   {
    "duration": 204,
    "start_time": "2022-01-19T14:30:29.417Z"
   },
   {
    "duration": 213,
    "start_time": "2022-01-19T14:32:42.940Z"
   },
   {
    "duration": 2,
    "start_time": "2022-01-19T14:40:34.916Z"
   },
   {
    "duration": 388,
    "start_time": "2022-01-19T14:40:34.920Z"
   },
   {
    "duration": 19,
    "start_time": "2022-01-19T14:40:35.310Z"
   },
   {
    "duration": 9,
    "start_time": "2022-01-19T14:40:35.330Z"
   },
   {
    "duration": 19,
    "start_time": "2022-01-19T14:40:35.340Z"
   },
   {
    "duration": 9,
    "start_time": "2022-01-19T14:40:35.360Z"
   },
   {
    "duration": 41,
    "start_time": "2022-01-19T14:40:35.371Z"
   },
   {
    "duration": 7,
    "start_time": "2022-01-19T14:40:35.415Z"
   },
   {
    "duration": 88,
    "start_time": "2022-01-19T14:40:35.425Z"
   },
   {
    "duration": 16,
    "start_time": "2022-01-19T14:40:35.516Z"
   },
   {
    "duration": 8,
    "start_time": "2022-01-19T14:40:35.534Z"
   },
   {
    "duration": 13,
    "start_time": "2022-01-19T14:40:35.544Z"
   },
   {
    "duration": 15,
    "start_time": "2022-01-19T14:40:35.559Z"
   },
   {
    "duration": 71,
    "start_time": "2022-01-19T14:40:35.575Z"
   },
   {
    "duration": 28,
    "start_time": "2022-01-19T14:40:35.648Z"
   },
   {
    "duration": 10,
    "start_time": "2022-01-19T14:40:35.678Z"
   },
   {
    "duration": 46,
    "start_time": "2022-01-19T14:40:35.690Z"
   },
   {
    "duration": 21,
    "start_time": "2022-01-19T14:40:35.737Z"
   },
   {
    "duration": 20,
    "start_time": "2022-01-19T14:40:35.759Z"
   },
   {
    "duration": 52,
    "start_time": "2022-01-19T14:40:35.780Z"
   },
   {
    "duration": 25,
    "start_time": "2022-01-19T14:40:35.834Z"
   },
   {
    "duration": 23,
    "start_time": "2022-01-19T14:40:35.861Z"
   },
   {
    "duration": 39,
    "start_time": "2022-01-19T14:40:35.887Z"
   },
   {
    "duration": 28,
    "start_time": "2022-01-19T14:40:35.928Z"
   },
   {
    "duration": 248,
    "start_time": "2022-01-19T14:40:35.958Z"
   },
   {
    "duration": 32,
    "start_time": "2022-01-19T14:40:36.208Z"
   },
   {
    "duration": 233,
    "start_time": "2022-01-19T14:40:36.242Z"
   },
   {
    "duration": 218,
    "start_time": "2022-01-19T14:40:36.476Z"
   },
   {
    "duration": 212,
    "start_time": "2022-01-19T14:40:36.696Z"
   },
   {
    "duration": 18,
    "start_time": "2022-01-19T14:40:36.912Z"
   },
   {
    "duration": 13,
    "start_time": "2022-01-19T14:40:36.932Z"
   }
  ],
  "celltoolbar": "Необработанный формат ячейки",
  "kernelspec": {
   "display_name": "Python 3 (ipykernel)",
   "language": "python",
   "name": "python3"
  },
  "language_info": {
   "codemirror_mode": {
    "name": "ipython",
    "version": 3
   },
   "file_extension": ".py",
   "mimetype": "text/x-python",
   "name": "python",
   "nbconvert_exporter": "python",
   "pygments_lexer": "ipython3",
   "version": "3.9.7"
  },
  "toc": {
   "base_numbering": 1,
   "nav_menu": {},
   "number_sections": true,
   "sideBar": true,
   "skip_h1_title": true,
   "title_cell": "Table of Contents",
   "title_sidebar": "Contents",
   "toc_cell": false,
   "toc_position": {
    "height": "calc(100% - 180px)",
    "left": "10px",
    "top": "150px",
    "width": "409.08px"
   },
   "toc_section_display": true,
   "toc_window_display": true
  }
 },
 "nbformat": 4,
 "nbformat_minor": 2
}
